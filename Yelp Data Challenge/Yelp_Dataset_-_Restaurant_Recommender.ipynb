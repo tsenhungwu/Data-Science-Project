{
 "cells": [
  {
   "cell_type": "markdown",
   "metadata": {},
   "source": [
    "# Yelp Data Challenge - Restaurant Recommender"
   ]
  },
  {
   "cell_type": "markdown",
   "metadata": {},
   "source": [
    "# Main Tasks\n",
    "1. Dataset\n",
    "2. Clean data and get rating data\n",
    "3. Select target users\n",
    "4. Create utility matrix from records\n",
    "5. Build restaurant recommender systems\n",
    "    - 5.1 Item-Item similarity recommender\n",
    "    - 5.2 Matrix Factorization recommender: NMF\n",
    "        - 5.2.1 Matrix Reconstruction error - NMF\n",
    "        - 5.2.2 Recommendation - NMF\n",
    "    - 5.3 Matrix Factorization recommender: UVD\n",
    "        - 5.3.1 Matrix Reconstruction Error - UVD\n",
    "6. Other recommenders"
   ]
  },
  {
   "cell_type": "code",
   "execution_count": 1,
   "metadata": {},
   "outputs": [],
   "source": [
    "import pandas as pd\n",
    "import numpy as np\n",
    "import matplotlib.pyplot as plt\n",
    "% matplotlib inline\n",
    "plt.style.use(\"ggplot\")"
   ]
  },
  {
   "cell_type": "markdown",
   "metadata": {},
   "source": [
    "## 1. Dataset"
   ]
  },
  {
   "cell_type": "code",
   "execution_count": 2,
   "metadata": {},
   "outputs": [],
   "source": [
    "df = pd.read_csv('./dataset/last_2_years_restaurant_reviews.csv')"
   ]
  },
  {
   "cell_type": "code",
   "execution_count": 3,
   "metadata": {},
   "outputs": [
    {
     "data": {
      "text/html": [
       "<div>\n",
       "<style scoped>\n",
       "    .dataframe tbody tr th:only-of-type {\n",
       "        vertical-align: middle;\n",
       "    }\n",
       "\n",
       "    .dataframe tbody tr th {\n",
       "        vertical-align: top;\n",
       "    }\n",
       "\n",
       "    .dataframe thead th {\n",
       "        text-align: right;\n",
       "    }\n",
       "</style>\n",
       "<table border=\"1\" class=\"dataframe\">\n",
       "  <thead>\n",
       "    <tr style=\"text-align: right;\">\n",
       "      <th></th>\n",
       "      <th>business_id</th>\n",
       "      <th>name</th>\n",
       "      <th>categories</th>\n",
       "      <th>avg_stars</th>\n",
       "      <th>cool</th>\n",
       "      <th>funny</th>\n",
       "      <th>review_id</th>\n",
       "      <th>stars</th>\n",
       "      <th>text</th>\n",
       "      <th>useful</th>\n",
       "      <th>user_id</th>\n",
       "      <th>count</th>\n",
       "      <th>text_length</th>\n",
       "    </tr>\n",
       "  </thead>\n",
       "  <tbody>\n",
       "    <tr>\n",
       "      <th>0</th>\n",
       "      <td>--9e1ONYQuAa-CB_Rrw7Tw</td>\n",
       "      <td>Delmonico Steakhouse</td>\n",
       "      <td>['Cajun/Creole', 'Steakhouses', 'Restaurants']</td>\n",
       "      <td>4.0</td>\n",
       "      <td>0</td>\n",
       "      <td>0</td>\n",
       "      <td>6SgvNWJltnZhW7duJgZ42w</td>\n",
       "      <td>5</td>\n",
       "      <td>This is mine and my fiancé's favorite steakhou...</td>\n",
       "      <td>0</td>\n",
       "      <td>oFyOUOeGTRZhFPF9uTqrTQ</td>\n",
       "      <td>1</td>\n",
       "      <td>341</td>\n",
       "    </tr>\n",
       "    <tr>\n",
       "      <th>1</th>\n",
       "      <td>--9e1ONYQuAa-CB_Rrw7Tw</td>\n",
       "      <td>Delmonico Steakhouse</td>\n",
       "      <td>['Cajun/Creole', 'Steakhouses', 'Restaurants']</td>\n",
       "      <td>4.0</td>\n",
       "      <td>0</td>\n",
       "      <td>0</td>\n",
       "      <td>iwx6s6yQxc7yjS7NFANZig</td>\n",
       "      <td>4</td>\n",
       "      <td>Nice atmosphere and wonderful service. I had t...</td>\n",
       "      <td>0</td>\n",
       "      <td>2aeNFntqY2QDZLADNo8iQQ</td>\n",
       "      <td>1</td>\n",
       "      <td>417</td>\n",
       "    </tr>\n",
       "    <tr>\n",
       "      <th>2</th>\n",
       "      <td>--9e1ONYQuAa-CB_Rrw7Tw</td>\n",
       "      <td>Delmonico Steakhouse</td>\n",
       "      <td>['Cajun/Creole', 'Steakhouses', 'Restaurants']</td>\n",
       "      <td>4.0</td>\n",
       "      <td>0</td>\n",
       "      <td>0</td>\n",
       "      <td>UVUMu_bELdA56Ryfbur-DA</td>\n",
       "      <td>5</td>\n",
       "      <td>Every year a group of us (we had 6 this year) ...</td>\n",
       "      <td>1</td>\n",
       "      <td>gmPP4YFrgYsYQqPYokMgFA</td>\n",
       "      <td>1</td>\n",
       "      <td>493</td>\n",
       "    </tr>\n",
       "    <tr>\n",
       "      <th>3</th>\n",
       "      <td>--9e1ONYQuAa-CB_Rrw7Tw</td>\n",
       "      <td>Delmonico Steakhouse</td>\n",
       "      <td>['Cajun/Creole', 'Steakhouses', 'Restaurants']</td>\n",
       "      <td>4.0</td>\n",
       "      <td>0</td>\n",
       "      <td>0</td>\n",
       "      <td>UxFpgng8dPMWOj99653k5Q</td>\n",
       "      <td>5</td>\n",
       "      <td>Truly Fantastic!  Best Steak ever. Service was...</td>\n",
       "      <td>0</td>\n",
       "      <td>aVOGlN9fZ-BXcbtj6dbf0g</td>\n",
       "      <td>1</td>\n",
       "      <td>152</td>\n",
       "    </tr>\n",
       "    <tr>\n",
       "      <th>4</th>\n",
       "      <td>--9e1ONYQuAa-CB_Rrw7Tw</td>\n",
       "      <td>Delmonico Steakhouse</td>\n",
       "      <td>['Cajun/Creole', 'Steakhouses', 'Restaurants']</td>\n",
       "      <td>4.0</td>\n",
       "      <td>0</td>\n",
       "      <td>0</td>\n",
       "      <td>Xp3ppynEvVu1KxDHQ3ae8w</td>\n",
       "      <td>5</td>\n",
       "      <td>Delmonico Steakhouse is a steakhouse owned by ...</td>\n",
       "      <td>0</td>\n",
       "      <td>KC8H7qTZVPIEnanw9fG43g</td>\n",
       "      <td>1</td>\n",
       "      <td>914</td>\n",
       "    </tr>\n",
       "  </tbody>\n",
       "</table>\n",
       "</div>"
      ],
      "text/plain": [
       "              business_id                  name  \\\n",
       "0  --9e1ONYQuAa-CB_Rrw7Tw  Delmonico Steakhouse   \n",
       "1  --9e1ONYQuAa-CB_Rrw7Tw  Delmonico Steakhouse   \n",
       "2  --9e1ONYQuAa-CB_Rrw7Tw  Delmonico Steakhouse   \n",
       "3  --9e1ONYQuAa-CB_Rrw7Tw  Delmonico Steakhouse   \n",
       "4  --9e1ONYQuAa-CB_Rrw7Tw  Delmonico Steakhouse   \n",
       "\n",
       "                                       categories  avg_stars  cool  funny  \\\n",
       "0  ['Cajun/Creole', 'Steakhouses', 'Restaurants']        4.0     0      0   \n",
       "1  ['Cajun/Creole', 'Steakhouses', 'Restaurants']        4.0     0      0   \n",
       "2  ['Cajun/Creole', 'Steakhouses', 'Restaurants']        4.0     0      0   \n",
       "3  ['Cajun/Creole', 'Steakhouses', 'Restaurants']        4.0     0      0   \n",
       "4  ['Cajun/Creole', 'Steakhouses', 'Restaurants']        4.0     0      0   \n",
       "\n",
       "                review_id  stars  \\\n",
       "0  6SgvNWJltnZhW7duJgZ42w      5   \n",
       "1  iwx6s6yQxc7yjS7NFANZig      4   \n",
       "2  UVUMu_bELdA56Ryfbur-DA      5   \n",
       "3  UxFpgng8dPMWOj99653k5Q      5   \n",
       "4  Xp3ppynEvVu1KxDHQ3ae8w      5   \n",
       "\n",
       "                                                text  useful  \\\n",
       "0  This is mine and my fiancé's favorite steakhou...       0   \n",
       "1  Nice atmosphere and wonderful service. I had t...       0   \n",
       "2  Every year a group of us (we had 6 this year) ...       1   \n",
       "3  Truly Fantastic!  Best Steak ever. Service was...       0   \n",
       "4  Delmonico Steakhouse is a steakhouse owned by ...       0   \n",
       "\n",
       "                  user_id  count  text_length  \n",
       "0  oFyOUOeGTRZhFPF9uTqrTQ      1          341  \n",
       "1  2aeNFntqY2QDZLADNo8iQQ      1          417  \n",
       "2  gmPP4YFrgYsYQqPYokMgFA      1          493  \n",
       "3  aVOGlN9fZ-BXcbtj6dbf0g      1          152  \n",
       "4  KC8H7qTZVPIEnanw9fG43g      1          914  "
      ]
     },
     "execution_count": 3,
     "metadata": {},
     "output_type": "execute_result"
    }
   ],
   "source": [
    "df.head()"
   ]
  },
  {
   "cell_type": "markdown",
   "metadata": {},
   "source": [
    "## 2. Clean data and get rating data "
   ]
  },
  {
   "cell_type": "code",
   "execution_count": 4,
   "metadata": {},
   "outputs": [
    {
     "name": "stdout",
     "output_type": "stream",
     "text": [
      "(515752, 3)\n"
     ]
    },
    {
     "data": {
      "text/html": [
       "<div>\n",
       "<style scoped>\n",
       "    .dataframe tbody tr th:only-of-type {\n",
       "        vertical-align: middle;\n",
       "    }\n",
       "\n",
       "    .dataframe tbody tr th {\n",
       "        vertical-align: top;\n",
       "    }\n",
       "\n",
       "    .dataframe thead th {\n",
       "        text-align: right;\n",
       "    }\n",
       "</style>\n",
       "<table border=\"1\" class=\"dataframe\">\n",
       "  <thead>\n",
       "    <tr style=\"text-align: right;\">\n",
       "      <th></th>\n",
       "      <th>business_id</th>\n",
       "      <th>user_id</th>\n",
       "      <th>stars</th>\n",
       "    </tr>\n",
       "  </thead>\n",
       "  <tbody>\n",
       "    <tr>\n",
       "      <th>0</th>\n",
       "      <td>--9e1ONYQuAa-CB_Rrw7Tw</td>\n",
       "      <td>oFyOUOeGTRZhFPF9uTqrTQ</td>\n",
       "      <td>5</td>\n",
       "    </tr>\n",
       "    <tr>\n",
       "      <th>1</th>\n",
       "      <td>--9e1ONYQuAa-CB_Rrw7Tw</td>\n",
       "      <td>2aeNFntqY2QDZLADNo8iQQ</td>\n",
       "      <td>4</td>\n",
       "    </tr>\n",
       "    <tr>\n",
       "      <th>2</th>\n",
       "      <td>--9e1ONYQuAa-CB_Rrw7Tw</td>\n",
       "      <td>gmPP4YFrgYsYQqPYokMgFA</td>\n",
       "      <td>5</td>\n",
       "    </tr>\n",
       "    <tr>\n",
       "      <th>3</th>\n",
       "      <td>--9e1ONYQuAa-CB_Rrw7Tw</td>\n",
       "      <td>aVOGlN9fZ-BXcbtj6dbf0g</td>\n",
       "      <td>5</td>\n",
       "    </tr>\n",
       "    <tr>\n",
       "      <th>4</th>\n",
       "      <td>--9e1ONYQuAa-CB_Rrw7Tw</td>\n",
       "      <td>KC8H7qTZVPIEnanw9fG43g</td>\n",
       "      <td>5</td>\n",
       "    </tr>\n",
       "  </tbody>\n",
       "</table>\n",
       "</div>"
      ],
      "text/plain": [
       "              business_id                 user_id  stars\n",
       "0  --9e1ONYQuAa-CB_Rrw7Tw  oFyOUOeGTRZhFPF9uTqrTQ      5\n",
       "1  --9e1ONYQuAa-CB_Rrw7Tw  2aeNFntqY2QDZLADNo8iQQ      4\n",
       "2  --9e1ONYQuAa-CB_Rrw7Tw  gmPP4YFrgYsYQqPYokMgFA      5\n",
       "3  --9e1ONYQuAa-CB_Rrw7Tw  aVOGlN9fZ-BXcbtj6dbf0g      5\n",
       "4  --9e1ONYQuAa-CB_Rrw7Tw  KC8H7qTZVPIEnanw9fG43g      5"
      ]
     },
     "execution_count": 4,
     "metadata": {},
     "output_type": "execute_result"
    }
   ],
   "source": [
    "# Select relevant columns in the original dataframe\n",
    "# Get business_id, user_id, stars for the recommender\n",
    "selected_df = df[['business_id', 'user_id', 'stars']]\n",
    "\n",
    "print(selected_df.shape)\n",
    "selected_df.head()"
   ]
  },
  {
   "cell_type": "code",
   "execution_count": 5,
   "metadata": {},
   "outputs": [
    {
     "name": "stdout",
     "output_type": "stream",
     "text": [
      "227241\n",
      "4832\n"
     ]
    }
   ],
   "source": [
    "# In total, 227241 users we have\n",
    "print(len(selected_df.user_id.unique()))\n",
    "\n",
    "# In total, 4832 restaurants we have\n",
    "print(len(selected_df.business_id.unique()))"
   ]
  },
  {
   "cell_type": "code",
   "execution_count": 6,
   "metadata": {},
   "outputs": [
    {
     "data": {
      "text/plain": [
       "<Container object of 5 artists>"
      ]
     },
     "execution_count": 6,
     "metadata": {},
     "output_type": "execute_result"
    },
    {
     "data": {
      "image/png": "[encoded data removed]",
      "text/plain": [
       "<matplotlib.figure.Figure at 0x111e70dd8>"
      ]
     },
     "metadata": {},
     "output_type": "display_data"
    }
   ],
   "source": [
    "# Plot the star (rating) distribution using bar chart\n",
    "# Most of users rated 4 or 5 stars to restaurants\n",
    "plt.bar(selected_df.stars.value_counts().index, \n",
    "        selected_df.stars.value_counts().values, align='center', alpha=0.5)"
   ]
  },
  {
   "cell_type": "markdown",
   "metadata": {},
   "source": [
    "## 3. Select target users"
   ]
  },
  {
   "cell_type": "code",
   "execution_count": 7,
   "metadata": {},
   "outputs": [
    {
     "name": "stdout",
     "output_type": "stream",
     "text": [
      "145721\n",
      "36823\n",
      "16398\n"
     ]
    }
   ],
   "source": [
    "# 145721 users only had rated one restaurant \n",
    "# My goal at here is to select those users who rated more than three times\n",
    "# Thus, the row dimension can be reduced\n",
    "print(sum(selected_df.user_id.value_counts() == 1))\n",
    "print(sum(selected_df.user_id.value_counts() == 2))\n",
    "print(sum(selected_df.user_id.value_counts() == 3))"
   ]
  },
  {
   "cell_type": "code",
   "execution_count": 8,
   "metadata": {},
   "outputs": [
    {
     "data": {
      "text/html": [
       "<div>\n",
       "<style scoped>\n",
       "    .dataframe tbody tr th:only-of-type {\n",
       "        vertical-align: middle;\n",
       "    }\n",
       "\n",
       "    .dataframe tbody tr th {\n",
       "        vertical-align: top;\n",
       "    }\n",
       "\n",
       "    .dataframe thead th {\n",
       "        text-align: right;\n",
       "    }\n",
       "</style>\n",
       "<table border=\"1\" class=\"dataframe\">\n",
       "  <thead>\n",
       "    <tr style=\"text-align: right;\">\n",
       "      <th></th>\n",
       "      <th>business_id</th>\n",
       "      <th>user_id</th>\n",
       "      <th>stars</th>\n",
       "    </tr>\n",
       "  </thead>\n",
       "  <tbody>\n",
       "    <tr>\n",
       "      <th>0</th>\n",
       "      <td>--9e1ONYQuAa-CB_Rrw7Tw</td>\n",
       "      <td>oFyOUOeGTRZhFPF9uTqrTQ</td>\n",
       "      <td>5</td>\n",
       "    </tr>\n",
       "    <tr>\n",
       "      <th>1</th>\n",
       "      <td>--9e1ONYQuAa-CB_Rrw7Tw</td>\n",
       "      <td>2aeNFntqY2QDZLADNo8iQQ</td>\n",
       "      <td>4</td>\n",
       "    </tr>\n",
       "    <tr>\n",
       "      <th>2</th>\n",
       "      <td>--9e1ONYQuAa-CB_Rrw7Tw</td>\n",
       "      <td>gmPP4YFrgYsYQqPYokMgFA</td>\n",
       "      <td>5</td>\n",
       "    </tr>\n",
       "    <tr>\n",
       "      <th>3</th>\n",
       "      <td>--9e1ONYQuAa-CB_Rrw7Tw</td>\n",
       "      <td>aVOGlN9fZ-BXcbtj6dbf0g</td>\n",
       "      <td>5</td>\n",
       "    </tr>\n",
       "    <tr>\n",
       "      <th>4</th>\n",
       "      <td>--9e1ONYQuAa-CB_Rrw7Tw</td>\n",
       "      <td>KC8H7qTZVPIEnanw9fG43g</td>\n",
       "      <td>5</td>\n",
       "    </tr>\n",
       "  </tbody>\n",
       "</table>\n",
       "</div>"
      ],
      "text/plain": [
       "              business_id                 user_id  stars\n",
       "0  --9e1ONYQuAa-CB_Rrw7Tw  oFyOUOeGTRZhFPF9uTqrTQ      5\n",
       "1  --9e1ONYQuAa-CB_Rrw7Tw  2aeNFntqY2QDZLADNo8iQQ      4\n",
       "2  --9e1ONYQuAa-CB_Rrw7Tw  gmPP4YFrgYsYQqPYokMgFA      5\n",
       "3  --9e1ONYQuAa-CB_Rrw7Tw  aVOGlN9fZ-BXcbtj6dbf0g      5\n",
       "4  --9e1ONYQuAa-CB_Rrw7Tw  KC8H7qTZVPIEnanw9fG43g      5"
      ]
     },
     "execution_count": 8,
     "metadata": {},
     "output_type": "execute_result"
    }
   ],
   "source": [
    "selected_df.head()"
   ]
  },
  {
   "cell_type": "markdown",
   "metadata": {},
   "source": [
    "#### How to filter user_id? \n",
    "- Steps:\n",
    "    1. Count for each user_id appearance in the selected_df, and store the count result in a Series object (named user_count).\n",
    "    2. Set a user_id as a new index in the selected_df for later extraction.\n",
    "    3. Extract user_id in a stored Series object (user_count) who rated more than three times.\n",
    "    4. Use the extracted user_id to perform a filtered selection on selected_df.\n",
    "    5. Store the selection result in a dataframe (named filtered_df) and reset the index."
   ]
  },
  {
   "cell_type": "code",
   "execution_count": 9,
   "metadata": {},
   "outputs": [],
   "source": [
    "# Step 1\n",
    "user_count = selected_df.user_id.value_counts()"
   ]
  },
  {
   "cell_type": "code",
   "execution_count": 10,
   "metadata": {},
   "outputs": [
    {
     "data": {
      "text/plain": [
       "bLbSNkLggFnqwNNzzq-Ijw    748\n",
       "JaqcCU3nxReTW2cBLHounA    330\n",
       "PKEzKWv_FktMm2mGPjwd0Q    276\n",
       "B1829_hxXSEpDPEDJtYeIw    244\n",
       "U4INQZOPSUaj8hMjLlZ3KA    232\n",
       "Name: user_id, dtype: int64"
      ]
     },
     "execution_count": 10,
     "metadata": {},
     "output_type": "execute_result"
    }
   ],
   "source": [
    "user_count.head()"
   ]
  },
  {
   "cell_type": "code",
   "execution_count": 11,
   "metadata": {
    "scrolled": true
   },
   "outputs": [
    {
     "data": {
      "text/plain": [
       "array(['bLbSNkLggFnqwNNzzq-Ijw', 'JaqcCU3nxReTW2cBLHounA',\n",
       "       'PKEzKWv_FktMm2mGPjwd0Q', ..., 'cE5v4kw8lv4N-el7BYafWA',\n",
       "       'f2utO_Av2FFcXw9fzJGvKQ', '9-SlQK2lwcXVzk3tJU4x7g'], dtype=object)"
      ]
     },
     "execution_count": 11,
     "metadata": {},
     "output_type": "execute_result"
    }
   ],
   "source": [
    "# Test whether it works\n",
    "user_count[user_count > 3].index.values"
   ]
  },
  {
   "cell_type": "code",
   "execution_count": 12,
   "metadata": {},
   "outputs": [],
   "source": [
    "# Step 2 \n",
    "filtered_df = selected_df.set_index('user_id')\n",
    "\n",
    "# Step 3 ~ 5\n",
    "filtered_df = filtered_df.loc[user_count[user_count > 3].index.values].reset_index()"
   ]
  },
  {
   "cell_type": "code",
   "execution_count": 13,
   "metadata": {},
   "outputs": [
    {
     "name": "stdout",
     "output_type": "stream",
     "text": [
      "28299\n",
      "4631\n",
      "4\n"
     ]
    }
   ],
   "source": [
    "# Originally, 227241 users (now narrowed down to 28299 users)\n",
    "print(len(filtered_df.user_id.unique()))\n",
    "\n",
    "# 4631 restaurants I have\n",
    "print(len(filtered_df.business_id.unique()))\n",
    "\n",
    "# Make sure each user rated more than three times\n",
    "print(min(filtered_df.user_id.value_counts()))"
   ]
  },
  {
   "cell_type": "markdown",
   "metadata": {},
   "source": [
    "## 4. Create utility matrix from records"
   ]
  },
  {
   "cell_type": "code",
   "execution_count": 14,
   "metadata": {},
   "outputs": [],
   "source": [
    "from scipy import sparse\n",
    "from sklearn.metrics.pairwise import cosine_similarity\n",
    "from time import time"
   ]
  },
  {
   "cell_type": "code",
   "execution_count": 15,
   "metadata": {},
   "outputs": [
    {
     "data": {
      "text/html": [
       "<div>\n",
       "<style scoped>\n",
       "    .dataframe tbody tr th:only-of-type {\n",
       "        vertical-align: middle;\n",
       "    }\n",
       "\n",
       "    .dataframe tbody tr th {\n",
       "        vertical-align: top;\n",
       "    }\n",
       "\n",
       "    .dataframe thead th {\n",
       "        text-align: right;\n",
       "    }\n",
       "</style>\n",
       "<table border=\"1\" class=\"dataframe\">\n",
       "  <thead>\n",
       "    <tr style=\"text-align: right;\">\n",
       "      <th></th>\n",
       "      <th>user_id</th>\n",
       "      <th>business_id</th>\n",
       "      <th>stars</th>\n",
       "    </tr>\n",
       "  </thead>\n",
       "  <tbody>\n",
       "    <tr>\n",
       "      <th>0</th>\n",
       "      <td>bLbSNkLggFnqwNNzzq-Ijw</td>\n",
       "      <td>-BS4aZAQm9u41YnB9MUASA</td>\n",
       "      <td>4</td>\n",
       "    </tr>\n",
       "    <tr>\n",
       "      <th>1</th>\n",
       "      <td>bLbSNkLggFnqwNNzzq-Ijw</td>\n",
       "      <td>-C8sSrFqaCxp51pyo-fQLQ</td>\n",
       "      <td>4</td>\n",
       "    </tr>\n",
       "    <tr>\n",
       "      <th>2</th>\n",
       "      <td>bLbSNkLggFnqwNNzzq-Ijw</td>\n",
       "      <td>-CQokjildrY7UZezXCdEBw</td>\n",
       "      <td>5</td>\n",
       "    </tr>\n",
       "    <tr>\n",
       "      <th>3</th>\n",
       "      <td>bLbSNkLggFnqwNNzzq-Ijw</td>\n",
       "      <td>-FcZY7a7qgxTUlTvwuyJnQ</td>\n",
       "      <td>3</td>\n",
       "    </tr>\n",
       "    <tr>\n",
       "      <th>4</th>\n",
       "      <td>bLbSNkLggFnqwNNzzq-Ijw</td>\n",
       "      <td>-IWsoxH7mLJTTpU5MmWY4w</td>\n",
       "      <td>4</td>\n",
       "    </tr>\n",
       "  </tbody>\n",
       "</table>\n",
       "</div>"
      ],
      "text/plain": [
       "                  user_id             business_id  stars\n",
       "0  bLbSNkLggFnqwNNzzq-Ijw  -BS4aZAQm9u41YnB9MUASA      4\n",
       "1  bLbSNkLggFnqwNNzzq-Ijw  -C8sSrFqaCxp51pyo-fQLQ      4\n",
       "2  bLbSNkLggFnqwNNzzq-Ijw  -CQokjildrY7UZezXCdEBw      5\n",
       "3  bLbSNkLggFnqwNNzzq-Ijw  -FcZY7a7qgxTUlTvwuyJnQ      3\n",
       "4  bLbSNkLggFnqwNNzzq-Ijw  -IWsoxH7mLJTTpU5MmWY4w      4"
      ]
     },
     "execution_count": 15,
     "metadata": {},
     "output_type": "execute_result"
    }
   ],
   "source": [
    "filtered_df.head()"
   ]
  },
  {
   "cell_type": "code",
   "execution_count": 16,
   "metadata": {},
   "outputs": [],
   "source": [
    "# The rows are users, the columns are restaurants, and the cells are stars (ratings)\n",
    "# Cells are filled with 0 if no past rating existed\n",
    "df_utility = pd.pivot_table(data=filtered_df, \n",
    "                            values='stars', \n",
    "                            index='user_id', \n",
    "                            columns='business_id', \n",
    "                            fill_value=0)"
   ]
  },
  {
   "cell_type": "code",
   "execution_count": 17,
   "metadata": {},
   "outputs": [
    {
     "data": {
      "text/plain": [
       "(28299, 4631)"
      ]
     },
     "execution_count": 17,
     "metadata": {},
     "output_type": "execute_result"
    }
   ],
   "source": [
    "# 28299 users and 4631 restaurants\n",
    "df_utility.shape"
   ]
  },
  {
   "cell_type": "code",
   "execution_count": 18,
   "metadata": {},
   "outputs": [
    {
     "data": {
      "text/html": [
       "<div>\n",
       "<style scoped>\n",
       "    .dataframe tbody tr th:only-of-type {\n",
       "        vertical-align: middle;\n",
       "    }\n",
       "\n",
       "    .dataframe tbody tr th {\n",
       "        vertical-align: top;\n",
       "    }\n",
       "\n",
       "    .dataframe thead th {\n",
       "        text-align: right;\n",
       "    }\n",
       "</style>\n",
       "<table border=\"1\" class=\"dataframe\">\n",
       "  <thead>\n",
       "    <tr style=\"text-align: right;\">\n",
       "      <th>business_id</th>\n",
       "      <th>--9e1ONYQuAa-CB_Rrw7Tw</th>\n",
       "      <th>-1m9o3vGRA8IBPNvNqKLmA</th>\n",
       "      <th>-1vfRrlnNnNJ5boOVghMPA</th>\n",
       "      <th>-3zffZUHoY8bQjGfPSoBKQ</th>\n",
       "      <th>-8R_-EkGpUhBk55K9Dd4mg</th>\n",
       "      <th>-9YyInW1wapzdNZrhQJ9dg</th>\n",
       "      <th>-AD5PiuJHgdUcAK-Vxao2A</th>\n",
       "      <th>-ADtl9bLp8wNqYX1k3KuxA</th>\n",
       "      <th>-BS4aZAQm9u41YnB9MUASA</th>\n",
       "      <th>-Bf8BQ3yMk8U2f45r2DRKw</th>\n",
       "      <th>...</th>\n",
       "      <th>zmltWmTpoBt5sCU-5Kzj-Q</th>\n",
       "      <th>znWHLW1pt19HzW1VY6KfCA</th>\n",
       "      <th>zp-K5s3pGTWuuaVBWo6WZA</th>\n",
       "      <th>zpoZ6WyQUYff18-z4ZU1mA</th>\n",
       "      <th>zrQ1zKWC-W2PCvwjBururQ</th>\n",
       "      <th>zsQk990PubOHjr1YcLkQFw</th>\n",
       "      <th>zt9RLUIU32fZYOBh2L0NNQ</th>\n",
       "      <th>zttcrQP4MxNS5X5itzStXg</th>\n",
       "      <th>zuwba6QEBIDZT0tJZmNhdQ</th>\n",
       "      <th>zwNC-Ow4eIMan2__bS9-rg</th>\n",
       "    </tr>\n",
       "    <tr>\n",
       "      <th>user_id</th>\n",
       "      <th></th>\n",
       "      <th></th>\n",
       "      <th></th>\n",
       "      <th></th>\n",
       "      <th></th>\n",
       "      <th></th>\n",
       "      <th></th>\n",
       "      <th></th>\n",
       "      <th></th>\n",
       "      <th></th>\n",
       "      <th></th>\n",
       "      <th></th>\n",
       "      <th></th>\n",
       "      <th></th>\n",
       "      <th></th>\n",
       "      <th></th>\n",
       "      <th></th>\n",
       "      <th></th>\n",
       "      <th></th>\n",
       "      <th></th>\n",
       "      <th></th>\n",
       "    </tr>\n",
       "  </thead>\n",
       "  <tbody>\n",
       "    <tr>\n",
       "      <th>---1lKK3aKOuomHnwAkAow</th>\n",
       "      <td>0</td>\n",
       "      <td>0</td>\n",
       "      <td>0</td>\n",
       "      <td>0</td>\n",
       "      <td>0</td>\n",
       "      <td>0</td>\n",
       "      <td>0</td>\n",
       "      <td>0</td>\n",
       "      <td>0</td>\n",
       "      <td>0</td>\n",
       "      <td>...</td>\n",
       "      <td>0</td>\n",
       "      <td>0</td>\n",
       "      <td>0</td>\n",
       "      <td>0</td>\n",
       "      <td>0</td>\n",
       "      <td>0</td>\n",
       "      <td>0</td>\n",
       "      <td>0</td>\n",
       "      <td>0</td>\n",
       "      <td>0</td>\n",
       "    </tr>\n",
       "    <tr>\n",
       "      <th>--2vR0DIsmQ6WfcSzKWigw</th>\n",
       "      <td>0</td>\n",
       "      <td>0</td>\n",
       "      <td>0</td>\n",
       "      <td>0</td>\n",
       "      <td>0</td>\n",
       "      <td>0</td>\n",
       "      <td>0</td>\n",
       "      <td>0</td>\n",
       "      <td>0</td>\n",
       "      <td>0</td>\n",
       "      <td>...</td>\n",
       "      <td>0</td>\n",
       "      <td>0</td>\n",
       "      <td>0</td>\n",
       "      <td>0</td>\n",
       "      <td>0</td>\n",
       "      <td>0</td>\n",
       "      <td>0</td>\n",
       "      <td>0</td>\n",
       "      <td>0</td>\n",
       "      <td>0</td>\n",
       "    </tr>\n",
       "    <tr>\n",
       "      <th>--LUapetRSkZpFZ2d-MXLQ</th>\n",
       "      <td>0</td>\n",
       "      <td>0</td>\n",
       "      <td>0</td>\n",
       "      <td>0</td>\n",
       "      <td>0</td>\n",
       "      <td>0</td>\n",
       "      <td>0</td>\n",
       "      <td>0</td>\n",
       "      <td>0</td>\n",
       "      <td>0</td>\n",
       "      <td>...</td>\n",
       "      <td>0</td>\n",
       "      <td>0</td>\n",
       "      <td>0</td>\n",
       "      <td>0</td>\n",
       "      <td>0</td>\n",
       "      <td>0</td>\n",
       "      <td>0</td>\n",
       "      <td>0</td>\n",
       "      <td>0</td>\n",
       "      <td>0</td>\n",
       "    </tr>\n",
       "    <tr>\n",
       "      <th>--RlSfc-QmcHFGHyX6aVjA</th>\n",
       "      <td>0</td>\n",
       "      <td>0</td>\n",
       "      <td>0</td>\n",
       "      <td>0</td>\n",
       "      <td>0</td>\n",
       "      <td>0</td>\n",
       "      <td>0</td>\n",
       "      <td>0</td>\n",
       "      <td>0</td>\n",
       "      <td>0</td>\n",
       "      <td>...</td>\n",
       "      <td>0</td>\n",
       "      <td>0</td>\n",
       "      <td>0</td>\n",
       "      <td>0</td>\n",
       "      <td>0</td>\n",
       "      <td>0</td>\n",
       "      <td>0</td>\n",
       "      <td>0</td>\n",
       "      <td>0</td>\n",
       "      <td>0</td>\n",
       "    </tr>\n",
       "    <tr>\n",
       "      <th>--ZNfWKj1VyVElRx6-g1fg</th>\n",
       "      <td>0</td>\n",
       "      <td>0</td>\n",
       "      <td>0</td>\n",
       "      <td>0</td>\n",
       "      <td>0</td>\n",
       "      <td>0</td>\n",
       "      <td>0</td>\n",
       "      <td>0</td>\n",
       "      <td>0</td>\n",
       "      <td>0</td>\n",
       "      <td>...</td>\n",
       "      <td>0</td>\n",
       "      <td>0</td>\n",
       "      <td>0</td>\n",
       "      <td>0</td>\n",
       "      <td>0</td>\n",
       "      <td>3</td>\n",
       "      <td>0</td>\n",
       "      <td>0</td>\n",
       "      <td>0</td>\n",
       "      <td>0</td>\n",
       "    </tr>\n",
       "  </tbody>\n",
       "</table>\n",
       "<p>5 rows × 4631 columns</p>\n",
       "</div>"
      ],
      "text/plain": [
       "business_id             --9e1ONYQuAa-CB_Rrw7Tw  -1m9o3vGRA8IBPNvNqKLmA  \\\n",
       "user_id                                                                  \n",
       "---1lKK3aKOuomHnwAkAow                       0                       0   \n",
       "--2vR0DIsmQ6WfcSzKWigw                       0                       0   \n",
       "--LUapetRSkZpFZ2d-MXLQ                       0                       0   \n",
       "--RlSfc-QmcHFGHyX6aVjA                       0                       0   \n",
       "--ZNfWKj1VyVElRx6-g1fg                       0                       0   \n",
       "\n",
       "business_id             -1vfRrlnNnNJ5boOVghMPA  -3zffZUHoY8bQjGfPSoBKQ  \\\n",
       "user_id                                                                  \n",
       "---1lKK3aKOuomHnwAkAow                       0                       0   \n",
       "--2vR0DIsmQ6WfcSzKWigw                       0                       0   \n",
       "--LUapetRSkZpFZ2d-MXLQ                       0                       0   \n",
       "--RlSfc-QmcHFGHyX6aVjA                       0                       0   \n",
       "--ZNfWKj1VyVElRx6-g1fg                       0                       0   \n",
       "\n",
       "business_id             -8R_-EkGpUhBk55K9Dd4mg  -9YyInW1wapzdNZrhQJ9dg  \\\n",
       "user_id                                                                  \n",
       "---1lKK3aKOuomHnwAkAow                       0                       0   \n",
       "--2vR0DIsmQ6WfcSzKWigw                       0                       0   \n",
       "--LUapetRSkZpFZ2d-MXLQ                       0                       0   \n",
       "--RlSfc-QmcHFGHyX6aVjA                       0                       0   \n",
       "--ZNfWKj1VyVElRx6-g1fg                       0                       0   \n",
       "\n",
       "business_id             -AD5PiuJHgdUcAK-Vxao2A  -ADtl9bLp8wNqYX1k3KuxA  \\\n",
       "user_id                                                                  \n",
       "---1lKK3aKOuomHnwAkAow                       0                       0   \n",
       "--2vR0DIsmQ6WfcSzKWigw                       0                       0   \n",
       "--LUapetRSkZpFZ2d-MXLQ                       0                       0   \n",
       "--RlSfc-QmcHFGHyX6aVjA                       0                       0   \n",
       "--ZNfWKj1VyVElRx6-g1fg                       0                       0   \n",
       "\n",
       "business_id             -BS4aZAQm9u41YnB9MUASA  -Bf8BQ3yMk8U2f45r2DRKw  \\\n",
       "user_id                                                                  \n",
       "---1lKK3aKOuomHnwAkAow                       0                       0   \n",
       "--2vR0DIsmQ6WfcSzKWigw                       0                       0   \n",
       "--LUapetRSkZpFZ2d-MXLQ                       0                       0   \n",
       "--RlSfc-QmcHFGHyX6aVjA                       0                       0   \n",
       "--ZNfWKj1VyVElRx6-g1fg                       0                       0   \n",
       "\n",
       "business_id                      ...            zmltWmTpoBt5sCU-5Kzj-Q  \\\n",
       "user_id                          ...                                     \n",
       "---1lKK3aKOuomHnwAkAow           ...                                 0   \n",
       "--2vR0DIsmQ6WfcSzKWigw           ...                                 0   \n",
       "--LUapetRSkZpFZ2d-MXLQ           ...                                 0   \n",
       "--RlSfc-QmcHFGHyX6aVjA           ...                                 0   \n",
       "--ZNfWKj1VyVElRx6-g1fg           ...                                 0   \n",
       "\n",
       "business_id             znWHLW1pt19HzW1VY6KfCA  zp-K5s3pGTWuuaVBWo6WZA  \\\n",
       "user_id                                                                  \n",
       "---1lKK3aKOuomHnwAkAow                       0                       0   \n",
       "--2vR0DIsmQ6WfcSzKWigw                       0                       0   \n",
       "--LUapetRSkZpFZ2d-MXLQ                       0                       0   \n",
       "--RlSfc-QmcHFGHyX6aVjA                       0                       0   \n",
       "--ZNfWKj1VyVElRx6-g1fg                       0                       0   \n",
       "\n",
       "business_id             zpoZ6WyQUYff18-z4ZU1mA  zrQ1zKWC-W2PCvwjBururQ  \\\n",
       "user_id                                                                  \n",
       "---1lKK3aKOuomHnwAkAow                       0                       0   \n",
       "--2vR0DIsmQ6WfcSzKWigw                       0                       0   \n",
       "--LUapetRSkZpFZ2d-MXLQ                       0                       0   \n",
       "--RlSfc-QmcHFGHyX6aVjA                       0                       0   \n",
       "--ZNfWKj1VyVElRx6-g1fg                       0                       0   \n",
       "\n",
       "business_id             zsQk990PubOHjr1YcLkQFw  zt9RLUIU32fZYOBh2L0NNQ  \\\n",
       "user_id                                                                  \n",
       "---1lKK3aKOuomHnwAkAow                       0                       0   \n",
       "--2vR0DIsmQ6WfcSzKWigw                       0                       0   \n",
       "--LUapetRSkZpFZ2d-MXLQ                       0                       0   \n",
       "--RlSfc-QmcHFGHyX6aVjA                       0                       0   \n",
       "--ZNfWKj1VyVElRx6-g1fg                       3                       0   \n",
       "\n",
       "business_id             zttcrQP4MxNS5X5itzStXg  zuwba6QEBIDZT0tJZmNhdQ  \\\n",
       "user_id                                                                  \n",
       "---1lKK3aKOuomHnwAkAow                       0                       0   \n",
       "--2vR0DIsmQ6WfcSzKWigw                       0                       0   \n",
       "--LUapetRSkZpFZ2d-MXLQ                       0                       0   \n",
       "--RlSfc-QmcHFGHyX6aVjA                       0                       0   \n",
       "--ZNfWKj1VyVElRx6-g1fg                       0                       0   \n",
       "\n",
       "business_id             zwNC-Ow4eIMan2__bS9-rg  \n",
       "user_id                                         \n",
       "---1lKK3aKOuomHnwAkAow                       0  \n",
       "--2vR0DIsmQ6WfcSzKWigw                       0  \n",
       "--LUapetRSkZpFZ2d-MXLQ                       0  \n",
       "--RlSfc-QmcHFGHyX6aVjA                       0  \n",
       "--ZNfWKj1VyVElRx6-g1fg                       0  \n",
       "\n",
       "[5 rows x 4631 columns]"
      ]
     },
     "execution_count": 18,
     "metadata": {},
     "output_type": "execute_result"
    }
   ],
   "source": [
    "df_utility.head()"
   ]
  },
  {
   "cell_type": "markdown",
   "metadata": {},
   "source": [
    "## 5. Build restaurant recommender systems"
   ]
  },
  {
   "cell_type": "markdown",
   "metadata": {},
   "source": [
    "### 5.1 Item-Item similarity recommender"
   ]
  },
  {
   "cell_type": "code",
   "execution_count": 19,
   "metadata": {},
   "outputs": [
    {
     "name": "stderr",
     "output_type": "stream",
     "text": [
      "/Users/wuchenhong/anaconda3/lib/python3.6/site-packages/ipykernel_launcher.py:3: FutureWarning: Method .as_matrix will be removed in a future version. Use .values instead.\n",
      "  This is separate from the ipykernel package so we can avoid doing imports until\n"
     ]
    }
   ],
   "source": [
    "# Turn a dataframe object into a matrix object first\n",
    "# Then turn a matrix object into a sparse matrix object\n",
    "ratings_mat = sparse.csr_matrix(df_utility.as_matrix())"
   ]
  },
  {
   "cell_type": "code",
   "execution_count": 20,
   "metadata": {},
   "outputs": [
    {
     "data": {
      "text/plain": [
       "(28299, 4631)"
      ]
     },
     "execution_count": 20,
     "metadata": {},
     "output_type": "execute_result"
    }
   ],
   "source": [
    "# Make sure the dimensions are both correct as before \n",
    "# 28299 users and 4631 restaurants\n",
    "ratings_mat.shape"
   ]
  },
  {
   "cell_type": "markdown",
   "metadata": {},
   "source": [
    "#### Method (1) Didn't use ItemItemRecommender class "
   ]
  },
  {
   "cell_type": "code",
   "execution_count": 21,
   "metadata": {},
   "outputs": [
    {
     "data": {
      "text/plain": [
       "(4631, 4631)"
      ]
     },
     "execution_count": 21,
     "metadata": {},
     "output_type": "execute_result"
    }
   ],
   "source": [
    "# Transpose on ratings_mat to get item-item similarity\n",
    "item_sim_mat = cosine_similarity(ratings_mat.T)\n",
    "\n",
    "# check the item-item similarity matrix dimension\n",
    "item_sim_mat.shape"
   ]
  },
  {
   "cell_type": "code",
   "execution_count": 22,
   "metadata": {},
   "outputs": [
    {
     "name": "stdout",
     "output_type": "stream",
     "text": [
      "(4631, 4631)\n",
      "(4631, 75)\n"
     ]
    }
   ],
   "source": [
    "# Rank the column in each row (from the least to the most similar)\n",
    "least_to_most_sim_indexes = np.argsort(item_sim_mat, axis=1)\n",
    "print(least_to_most_sim_indexes.shape)\n",
    "\n",
    "# Neighborhoods \n",
    "# Select the nearest 75 neighbors (75 restaurants) for each row\n",
    "neighborhood_size = 75\n",
    "neighborhoods = least_to_most_sim_indexes[:, -neighborhood_size:]\n",
    "\n",
    "# for each restaurant, find 75 neighbors\n",
    "print(neighborhoods.shape)"
   ]
  },
  {
   "cell_type": "code",
   "execution_count": 23,
   "metadata": {},
   "outputs": [
    {
     "name": "stdout",
     "output_type": "stream",
     "text": [
      "28299\n",
      "4631\n"
     ]
    }
   ],
   "source": [
    "# Make rating prediction on a user (e.g. randomly pick user_id = 100)\n",
    "user_id = 100\n",
    "\n",
    "# 28299 users \n",
    "n_users = ratings_mat.shape[0]\n",
    "print(n_users)\n",
    "\n",
    "# 4631 items (restaurants)\n",
    "n_items = ratings_mat.shape[1]\n",
    "print(n_items)"
   ]
  },
  {
   "cell_type": "code",
   "execution_count": 24,
   "metadata": {},
   "outputs": [
    {
     "name": "stderr",
     "output_type": "stream",
     "text": [
      "/Users/wuchenhong/anaconda3/lib/python3.6/site-packages/ipykernel_launcher.py:27: RuntimeWarning: invalid value encountered in true_divide\n"
     ]
    },
    {
     "name": "stdout",
     "output_type": "stream",
     "text": [
      "[0. 5. 0. ... 0. 0. 0.]\n",
      "Execution time: 2.666453 seconds\n"
     ]
    }
   ],
   "source": [
    "# Record running time\n",
    "start_time = time()\n",
    "\n",
    "# Select non-zero rate information from this user\n",
    "# Why? need to use rated items of a target user to find similar items rated by other users\n",
    "items_rated_by_this_user =  ratings_mat[user_id].nonzero()[1]\n",
    "\n",
    "# Just initialize a list of zeros, so we have somewhere to put rating predictions for all items\n",
    "out = np.zeros(n_items)\n",
    "\n",
    "# Loop in each item\n",
    "for item_to_rate in range(n_items):\n",
    "    # For each item, find the 75 neighbors,\n",
    "    # and compare (intersect) 75 neighbors to the rated items of an user \n",
    "    \n",
    "    # Find a \"rated\" item of this user that \"intersects\" (matches) other neighbored items\n",
    "    # because the goal is to use \"these similar items\" to get prediction on each item\n",
    "    relevant_items = np.intersect1d(neighborhoods[item_to_rate],\n",
    "                                    items_rated_by_this_user,\n",
    "                                    assume_unique=True)  # assume_unique speeds up intersection operation\n",
    "    \n",
    "    # prediction on this item = \n",
    "    # rating vetor of relevant items of a target user * item similarity matrix / sum of item similarity matrix\n",
    "    # ***if a similar item has a higher similarity with a predicted item, \n",
    "    # it might indicate that an user would like this item (or rate it higer).***\n",
    "    # Use the relevant items to get ratings, the similarity score between it and item_to_rate \n",
    "    out[item_to_rate] = ratings_mat[user_id, relevant_items] * \\\n",
    "        item_sim_mat[item_to_rate, relevant_items] / \\\n",
    "        item_sim_mat[item_to_rate, relevant_items].sum()\n",
    "\n",
    "pred_ratings = np.nan_to_num(out)\n",
    "print(pred_ratings)\n",
    "print(\"Execution time: %f seconds\" % (time()-start_time))"
   ]
  },
  {
   "cell_type": "code",
   "execution_count": 25,
   "metadata": {},
   "outputs": [
    {
     "name": "stdout",
     "output_type": "stream",
     "text": [
      "(13,)\n",
      "[49, 4516, 2139, 1404, 327, 2793, 2902, 4125, 2030, 2807]\n",
      "True\n"
     ]
    }
   ],
   "source": [
    "# Recommend top n items (restaurants)\n",
    "n = 10\n",
    "\n",
    "# Get indexes (positions) sorted by predicted ratings (from the most to the least)\n",
    "item_index_sorted_by_pred_rating = list(np.argsort(pred_ratings))[::-1]\n",
    "\n",
    "# Find 13 items that have been rated by this user (user_id = 100)\n",
    "items_rated_by_this_user = ratings_mat[user_id].nonzero()[1]\n",
    "print(items_rated_by_this_user.shape)\n",
    "\n",
    "# We want to exclude items that have already been rated by user to give recommendations\n",
    "unrated_items_by_pred_rating = [item for item in item_index_sorted_by_pred_rating\n",
    "                                if item not in items_rated_by_this_user]\n",
    "\n",
    "# Select top 10 items as recommendations\n",
    "print(unrated_items_by_pred_rating[:n])\n",
    "\n",
    "# Make sure the prediction is correct \n",
    "# number of unrated items + number of rated items = total items (must be!)\n",
    "print(len(unrated_items_by_pred_rating) + items_rated_by_this_user.shape[0] == ratings_mat.shape[1])"
   ]
  },
  {
   "cell_type": "markdown",
   "metadata": {},
   "source": [
    "#### Method (2) Use ItemItemRecommender class"
   ]
  },
  {
   "cell_type": "code",
   "execution_count": 26,
   "metadata": {},
   "outputs": [],
   "source": [
    "class ItemItemRecommender(object):\n",
    "\n",
    "    def __init__(self, neighborhood_size):\n",
    "        self.neighborhood_size = neighborhood_size\n",
    "    \n",
    "    # To find neighbors given a neighborhood_size\n",
    "    def fit(self, ratings_mat):\n",
    "        self.ratings_mat = ratings_mat\n",
    "        self.n_users = ratings_mat.shape[0]\n",
    "        self.n_items = ratings_mat.shape[1]\n",
    "        self.item_sim_mat = cosine_similarity(self.ratings_mat.T)\n",
    "        self._set_neighborhoods()\n",
    "\n",
    "    def _set_neighborhoods(self):\n",
    "        least_to_most_sim_indexes = np.argsort(self.item_sim_mat, 1)\n",
    "        self.neighborhoods = least_to_most_sim_indexes[:, -self.neighborhood_size:]\n",
    "\n",
    "    def pred_one_user(self, user_id, report_run_time=False):\n",
    "        start_time = time()\n",
    "        items_rated_by_this_user = self.ratings_mat[user_id].nonzero()[1]\n",
    "        # Just initializing so we have somewhere to put rating preds\n",
    "        out = np.zeros(self.n_items)\n",
    "        for item_to_rate in range(self.n_items):\n",
    "            relevant_items = np.intersect1d(self.neighborhoods[item_to_rate],\n",
    "                                            items_rated_by_this_user,\n",
    "                                            assume_unique=True)  # assume_unique speeds up intersection op\n",
    "            out[item_to_rate] = self.ratings_mat[user_id, relevant_items] * \\\n",
    "                self.item_sim_mat[item_to_rate, relevant_items] / \\\n",
    "                self.item_sim_mat[item_to_rate, relevant_items].sum()\n",
    "        if report_run_time:\n",
    "            print(\"Execution time: %f seconds\" % (time()-start_time))\n",
    "        cleaned_out = np.nan_to_num(out)\n",
    "        return cleaned_out\n",
    "\n",
    "    def pred_all_users(self, report_run_time=False):\n",
    "        start_time = time()\n",
    "        all_ratings = [\n",
    "            self.pred_one_user(user_id) for user_id in range(self.n_users)]\n",
    "        if report_run_time:\n",
    "            print(\"Execution time: %f seconds\" % (time()-start_time))\n",
    "        return np.array(all_ratings)\n",
    "\n",
    "    def top_n_recs(self, user_id, n):\n",
    "        pred_ratings = self.pred_one_user(user_id)\n",
    "        item_index_sorted_by_pred_rating = list(np.argsort(pred_ratings))\n",
    "        items_rated_by_this_user = self.ratings_mat[user_id].nonzero()[1]\n",
    "        unrated_items_by_pred_rating = [item for item in item_index_sorted_by_pred_rating\n",
    "                                        if item not in items_rated_by_this_user]\n",
    "        return unrated_items_by_pred_rating[-n:]"
   ]
  },
  {
   "cell_type": "code",
   "execution_count": 27,
   "metadata": {},
   "outputs": [],
   "source": [
    "my_rec_engine = ItemItemRecommender(neighborhood_size=75)\n",
    "\n",
    "my_rec_engine.fit(ratings_mat)"
   ]
  },
  {
   "cell_type": "code",
   "execution_count": 28,
   "metadata": {},
   "outputs": [
    {
     "name": "stderr",
     "output_type": "stream",
     "text": [
      "/Users/wuchenhong/anaconda3/lib/python3.6/site-packages/ipykernel_launcher.py:27: RuntimeWarning: invalid value encountered in true_divide\n"
     ]
    },
    {
     "name": "stdout",
     "output_type": "stream",
     "text": [
      "Execution time: 2.404931 seconds\n",
      "[49, 4516, 2139, 1404, 327, 2793, 2902, 4125, 2030, 2807]\n"
     ]
    }
   ],
   "source": [
    "user_1_preds = my_rec_engine.pred_one_user(user_id=100, report_run_time=True)\n",
    "print(my_rec_engine.top_n_recs(100, 10)[::-1])"
   ]
  },
  {
   "cell_type": "markdown",
   "metadata": {},
   "source": [
    "### 5.2 Matrix Factorization recommender: NMF"
   ]
  },
  {
   "cell_type": "code",
   "execution_count": 29,
   "metadata": {},
   "outputs": [],
   "source": [
    "from sklearn.decomposition import NMF\n",
    "\n",
    "# Define a NMF function for using different k\n",
    "def fit_nmf(M,k):\n",
    "    nmf = NMF(n_components=k)\n",
    "    nmf.fit(M)\n",
    "    W = nmf.transform(M);\n",
    "    H = nmf.components_;\n",
    "    err = nmf.reconstruction_err_\n",
    "    # Outputs\n",
    "    return W,H,err"
   ]
  },
  {
   "cell_type": "code",
   "execution_count": 30,
   "metadata": {},
   "outputs": [
    {
     "name": "stdout",
     "output_type": "stream",
     "text": [
      "1626.525432105249\n",
      "(28299, 200) (200, 4631)\n"
     ]
    }
   ],
   "source": [
    "# Decompose NMF (Use 200 latent factors)\n",
    "W,H,err = fit_nmf(ratings_mat,200)\n",
    "print(err)\n",
    "print(W.shape,H.shape)"
   ]
  },
  {
   "cell_type": "markdown",
   "metadata": {},
   "source": [
    "#### 5.2.1 Matrix Reconstruction error - NMF\n",
    "- MSE (Mean squared error)\n",
    "- Average absolute error"
   ]
  },
  {
   "cell_type": "code",
   "execution_count": 31,
   "metadata": {},
   "outputs": [
    {
     "name": "stdout",
     "output_type": "stream",
     "text": [
      "10.242419707653635\n",
      "2.5647196488854105\n"
     ]
    }
   ],
   "source": [
    "# Reconstruct NMF (V~= W*H) to calculate a prediction error\n",
    "# Predicted matrix (close to V)\n",
    "ratings_mat_fitted = W.dot(H)\n",
    "\n",
    "# Compute prediction error between V' and V\n",
    "# In total, 28299*4631 errors\n",
    "errs = np.array((ratings_mat-ratings_mat_fitted).flatten()).squeeze()\n",
    "\n",
    "# Only focus on ratings that are unrated originally (larger than 0)\n",
    "mask = np.array((ratings_mat.todense()).flatten()).squeeze()>0\n",
    "\n",
    "# Compute mean square error\n",
    "mse = np.mean(errs[mask]**2)\n",
    "\n",
    "# compute average mean absolute error\n",
    "average_abs_err = abs(errs[mask]).mean()\n",
    "\n",
    "# In summary, about 2.56 (more or less) from the true ratings\n",
    "print(mse)\n",
    "print(average_abs_err)"
   ]
  },
  {
   "cell_type": "markdown",
   "metadata": {},
   "source": [
    "#### 5.2.2 Recommendation - NMF"
   ]
  },
  {
   "cell_type": "code",
   "execution_count": 32,
   "metadata": {},
   "outputs": [
    {
     "name": "stdout",
     "output_type": "stream",
     "text": [
      "(13,)\n"
     ]
    },
    {
     "data": {
      "text/plain": [
       "[1072, 611, 4355, 556, 3863, 2698, 389, 2598, 2269, 2726]"
      ]
     },
     "execution_count": 32,
     "metadata": {},
     "output_type": "execute_result"
    }
   ],
   "source": [
    "# Get top 10 recommendations for one user\n",
    "user_id = 100\n",
    "n = 10\n",
    "\n",
    "# Some values in the original matrix are 0\n",
    "# ratings_mat_fitted is a predicted matrix (W*H)\n",
    "# Get the predicted rating vector for this target user\n",
    "pred_ratings = ratings_mat_fitted[user_id,:]\n",
    "\n",
    "# Sort the predicted rating vector from the largest to the least rating\n",
    "item_index_sorted_by_pred_rating = list(np.argsort(pred_ratings))[::-1]\n",
    "\n",
    "# Get the \"rated\" item vector for this target user (13 items have been rated)\n",
    "items_rated_by_this_user = ratings_mat[user_id].nonzero()[1]\n",
    "print(items_rated_by_this_user.shape)\n",
    "\n",
    "# Filter out rated items from rated vector\n",
    "unrated_items_by_pred_rating = [item for item in item_index_sorted_by_pred_rating\n",
    "                                if item not in items_rated_by_this_user]\n",
    "\n",
    "# Return top 10 recommendations\n",
    "unrated_items_by_pred_rating[:n]"
   ]
  },
  {
   "cell_type": "code",
   "execution_count": 33,
   "metadata": {},
   "outputs": [
    {
     "name": "stdout",
     "output_type": "stream",
     "text": [
      "[(4, 4.23220080838124), (2, 1.9350905575886377), (5, 0.32463651591645243), (5, 5.000717845808945), (4, 0.09294146599267654), (5, 0.6240950751760945), (5, 0.533685411968558), (5, 4.98792356106962), (4, 0.13660628993879276), (4, 0.13949242391413338), (5, 4.9225589319837315), (5, 0.9874313151338064), (2, 0.12927099248223728)]\n",
      "[[-2.32200808e-01  6.49094424e-02  4.67536348e+00 -7.17845809e-04\n",
      "   3.90705853e+00  4.37590492e+00  4.46631459e+00  1.20764389e-02\n",
      "   3.86339371e+00  3.86050758e+00  7.74410680e-02  4.01256868e+00\n",
      "   1.87072901e+00]]\n",
      "2.4168604702327263\n"
     ]
    }
   ],
   "source": [
    "# Check prediction errors for this target user (using rated items)\n",
    "# Ground truth (13 items have been rated)\n",
    "ratings_true = ratings_mat[user_id, items_rated_by_this_user].todense()\n",
    "\n",
    "# Prediction on these 13 rated items\n",
    "ratings_pred = pred_ratings[items_rated_by_this_user]\n",
    "\n",
    "# 13 pairs (13 items)\n",
    "print(list(zip(np.array(ratings_true).squeeze(),ratings_pred)))\n",
    "\n",
    "# For this target user, the average absolute prediction error on 'rated items' is around 2.42\n",
    "err_one_user = ratings_true-ratings_pred\n",
    "print(err_one_user)\n",
    "print(abs(err_one_user).mean())"
   ]
  },
  {
   "cell_type": "markdown",
   "metadata": {},
   "source": [
    "### 5.3 Matrix Factorization recommender: UVD"
   ]
  },
  {
   "cell_type": "code",
   "execution_count": 34,
   "metadata": {},
   "outputs": [],
   "source": [
    "from sklearn.decomposition import TruncatedSVD\n",
    "\n",
    "def fit_uvd(M,k):\n",
    "    # use TruncatedSVD to realize UVD\n",
    "    svd = TruncatedSVD(n_components=k, n_iter=7, random_state=0)\n",
    "    svd.fit(M)\n",
    "\n",
    "    V = svd.components_\n",
    "    U = svd.transform(M) # effectively, it's doing: U = M.dot(V.T)\n",
    "    # we can ignore svd.singular_values_ for our purpose\n",
    "    \n",
    "    # why we can do this?\n",
    "    # recall: \n",
    "    # SVD start from u*s*v=M => u*s=M*v.T, where M*v.T is our transformation above to get U in UVD\n",
    "    # so the above U is effectively u*s in SVD\n",
    "    # that's why U*V = u*s*v = M our original matrix\n",
    "    # there are many ways to understand it!\n",
    "    # here we by-passed singular values.\n",
    "    \n",
    "    return U,V, svd"
   ]
  },
  {
   "cell_type": "code",
   "execution_count": 35,
   "metadata": {},
   "outputs": [
    {
     "name": "stdout",
     "output_type": "stream",
     "text": [
      "(28299, 200) (200, 4631)\n"
     ]
    }
   ],
   "source": [
    "# Decompose\n",
    "U,V,svd = fit_uvd(ratings_mat,200)\n",
    "print(U.shape,V.shape)"
   ]
  },
  {
   "cell_type": "markdown",
   "metadata": {},
   "source": [
    "#### 5.3.1 Matrix Reconstruction Error - UVD"
   ]
  },
  {
   "cell_type": "code",
   "execution_count": 36,
   "metadata": {},
   "outputs": [
    {
     "name": "stdout",
     "output_type": "stream",
     "text": [
      "9.347993936249457\n",
      "2.510069390465289\n"
     ]
    }
   ],
   "source": [
    "# Matrix Reconstruction (U*V)\n",
    "ratings_mat_fitted = U.dot(V) \n",
    "\n",
    "# Recall: U = M.dot(V.T), U*V = M*(V^T)*(V) = M\n",
    "\n",
    "# Calculate errors\n",
    "errs = np.array((ratings_mat-ratings_mat_fitted).flatten()).squeeze()\n",
    "mask = np.array((ratings_mat.todense()).flatten()).squeeze()>0\n",
    "\n",
    "# In general, error in UVD is lower than error in NMF because NMF requires to have \"non-nagative cells\"\n",
    "# NMF is more strict on matrix decomposition than UVD\n",
    "mse = np.mean(errs[mask]**2)\n",
    "average_abs_err = abs(errs[mask]).mean()\n",
    "\n",
    "# Two errors are both lower than errors of NMF (mse: 10.24 & ave abs error: 2.57)\n",
    "print(mse)\n",
    "print(average_abs_err)"
   ]
  },
  {
   "cell_type": "markdown",
   "metadata": {},
   "source": [
    "#### 5.3.2 Recommendation - UVD"
   ]
  },
  {
   "cell_type": "code",
   "execution_count": 37,
   "metadata": {},
   "outputs": [
    {
     "name": "stdout",
     "output_type": "stream",
     "text": [
      "(13,)\n"
     ]
    },
    {
     "data": {
      "text/plain": [
       "[3651, 243, 4355, 389, 3513, 2598, 3458, 556, 1246, 1857]"
      ]
     },
     "execution_count": 37,
     "metadata": {},
     "output_type": "execute_result"
    }
   ],
   "source": [
    "# Get recommendations for one user\n",
    "user_id = 100\n",
    "n = 10\n",
    "\n",
    "# Get the predicted rating vector for this target user\n",
    "pred_ratings = ratings_mat_fitted[user_id,:]\n",
    "\n",
    "# sort the predicted rating vector from the largest to the least\n",
    "item_index_sorted_by_pred_rating = list(np.argsort(pred_ratings))[::-1]\n",
    "\n",
    "# get the \"rated\" vector for this target user (13 items have been rated)\n",
    "items_rated_by_this_user = ratings_mat[user_id].nonzero()[1]\n",
    "print(items_rated_by_this_user.shape)\n",
    "\n",
    "# filter out rated items from rated vector\n",
    "unrated_items_by_pred_rating = [item for item in item_index_sorted_by_pred_rating\n",
    "                                if item not in items_rated_by_this_user]\n",
    "\n",
    "# Return top 10 recommendations\n",
    "# Predictions are similar between NMF & UVD\n",
    "# NMF: [1072, 611, 4355, 556, 3863, 2698, 389, 2598, 2269, 2726]\n",
    "unrated_items_by_pred_rating[:n]"
   ]
  },
  {
   "cell_type": "code",
   "execution_count": 38,
   "metadata": {},
   "outputs": [
    {
     "name": "stdout",
     "output_type": "stream",
     "text": [
      "[(4, 3.5576288708615573), (2, 1.6533416391719473), (5, 0.852625721567729), (5, 4.222154000073166), (4, 0.3086658587220827), (5, 1.2203090812518498), (5, 0.8435611363538414), (5, 5.002332768122793), (4, 0.20400479479589517), (4, 0.5062311679747088), (5, 4.203226126455385), (5, 2.540043205019983), (2, 0.21269245860730043)]\n",
      "[[ 4.42371129e-01  3.46658361e-01  4.14737428e+00  7.77846000e-01\n",
      "   3.69133414e+00  3.77969092e+00  4.15643886e+00 -2.33276812e-03\n",
      "   3.79599521e+00  3.49376883e+00  7.96773874e-01  2.45995679e+00\n",
      "   1.78730754e+00]]\n",
      "2.282911439020565\n"
     ]
    }
   ],
   "source": [
    "# Check prediction errors for this target user (using rated items)\n",
    "# Ground truth\n",
    "ratings_true = ratings_mat[user_id, items_rated_by_this_user].todense()\n",
    "\n",
    "# Prediction on 13 rated items \n",
    "ratings_pred = pred_ratings[items_rated_by_this_user]\n",
    "\n",
    "# 13 pairs (13 items)\n",
    "print(list(zip(np.array(ratings_true).squeeze(),ratings_pred)))\n",
    "\n",
    "# For this target user, the average absolute prediction error is around 2.28 (lower than 2.42 in NMF)\n",
    "err_one_user = ratings_true-ratings_pred\n",
    "print(err_one_user)\n",
    "print(abs(err_one_user).mean())"
   ]
  },
  {
   "cell_type": "markdown",
   "metadata": {},
   "source": [
    "## 6. Other recommenders\n",
    "- Are there still other ways I can build a better recommender?\n",
    "    * Other features (Other features in the Yelp dataset, e.g. tips.)\n",
    "    * Popularity-based\n",
    "    * Content-based\n",
    "    * Hybrid"
   ]
  }
 ],
 "metadata": {
  "anaconda-cloud": {},
  "kernelspec": {
   "display_name": "Python 3",
   "language": "python",
   "name": "python3"
  },
  "language_info": {
   "codemirror_mode": {
    "name": "ipython",
    "version": 3
   },
   "file_extension": ".py",
   "mimetype": "text/x-python",
   "name": "python",
   "nbconvert_exporter": "python",
   "pygments_lexer": "ipython3",
   "version": "3.6.4"
  }
 },
 "nbformat": 4,
 "nbformat_minor": 1
}
