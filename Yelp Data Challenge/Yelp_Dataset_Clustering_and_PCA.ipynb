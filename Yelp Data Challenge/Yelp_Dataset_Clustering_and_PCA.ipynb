{
 "cells": [
  {
   "cell_type": "markdown",
   "metadata": {},
   "source": [
    "# Yelp Data Challenge - Clustering and PCA"
   ]
  },
  {
   "cell_type": "markdown",
   "metadata": {},
   "source": [
    "## Main tasks\n",
    "1. Read in the dataset\n",
    "2. Data preprocessing\n",
    "    - 2.1 Define feature variables\n",
    "    - 2.2 Define the target variable\n",
    "    - 2.3 Create train and test datasets\n",
    "    - 2.4 Get NLP representation of the documents\n",
    "3. Cluster reviews with KMeans\n",
    "    - 3.1 Fit k-means clustering with the train vectors and apply it on all the data\n",
    "    - 3.2 Make predictions on all data\n",
    "    - 3.3 Inspect the centroids\n",
    "    - 3.4 Try using different k (clusters)\n",
    "4. Cluster all the reviews of the most reviewed restaurant\n",
    "    - 4.1 Vectorize the text feature\n",
    "    - 4.2 Define the target variable\n",
    "    - 4.3 Create train and test datasets\n",
    "    - 4.4 Get NLP representation of the documents\n",
    "    - 4.5 Cluster reviews with KMeans\n",
    "5. Use PCA to reduce dimensionality\n",
    "    - 5.1 Stardardize features\n",
    "    - 5.2 Use PCA to transform data (train and test) and get princial components\n",
    "    - 5.3 See how much (and how much percentage of) variance the principal components explain\n",
    "    - 5.4 Plot proportion of variance explained with top K principal components\n",
    "6. Classifying positive/negative review with PCA preprocessing\n",
    "    - 6.1 Logistic Regression Classifier\n",
    "        - 6.1.1 Use standardized tf-idf vectors as features\n",
    "        - 6.1.2 Use (Stardardized + PCA) tf-idf vectors as features\n",
    "        - 6.1.3 Summary\n",
    "        - 6.1.4 Visualization: PCA components \n",
    "    - 6.2 Random Forest Classifier\n",
    "        - 6.2.1 Use standardized tf-idf vectors as features\n",
    "        - 6.2.2 Use (Stardardized + PCA) tf-idf vectors as features\n",
    "        - 6.2.3 Summary\n",
    "        - 6.2.4 Visualization: PCA components\n",
    "7. Other improvements for this notebook"
   ]
  },
  {
   "cell_type": "code",
   "execution_count": 1,
   "metadata": {},
   "outputs": [],
   "source": [
    "import pandas as pd\n",
    "import numpy as np\n",
    "import matplotlib.pyplot as plt\n",
    "% matplotlib inline\n",
    "plt.style.use(\"ggplot\")"
   ]
  },
  {
   "cell_type": "markdown",
   "metadata": {},
   "source": [
    "### 1. Read in the dataset"
   ]
  },
  {
   "cell_type": "code",
   "execution_count": 2,
   "metadata": {},
   "outputs": [],
   "source": [
    "df = pd.read_csv('./dataset/last_2_years_restaurant_reviews.csv', encoding = 'utf-8')"
   ]
  },
  {
   "cell_type": "code",
   "execution_count": 3,
   "metadata": {},
   "outputs": [
    {
     "data": {
      "text/html": [
       "<div>\n",
       "<style scoped>\n",
       "    .dataframe tbody tr th:only-of-type {\n",
       "        vertical-align: middle;\n",
       "    }\n",
       "\n",
       "    .dataframe tbody tr th {\n",
       "        vertical-align: top;\n",
       "    }\n",
       "\n",
       "    .dataframe thead th {\n",
       "        text-align: right;\n",
       "    }\n",
       "</style>\n",
       "<table border=\"1\" class=\"dataframe\">\n",
       "  <thead>\n",
       "    <tr style=\"text-align: right;\">\n",
       "      <th></th>\n",
       "      <th>business_id</th>\n",
       "      <th>name</th>\n",
       "      <th>categories</th>\n",
       "      <th>avg_stars</th>\n",
       "      <th>cool</th>\n",
       "      <th>funny</th>\n",
       "      <th>review_id</th>\n",
       "      <th>stars</th>\n",
       "      <th>text</th>\n",
       "      <th>useful</th>\n",
       "      <th>user_id</th>\n",
       "      <th>count</th>\n",
       "      <th>text_length</th>\n",
       "    </tr>\n",
       "  </thead>\n",
       "  <tbody>\n",
       "    <tr>\n",
       "      <th>0</th>\n",
       "      <td>--9e1ONYQuAa-CB_Rrw7Tw</td>\n",
       "      <td>Delmonico Steakhouse</td>\n",
       "      <td>['Cajun/Creole', 'Steakhouses', 'Restaurants']</td>\n",
       "      <td>4.0</td>\n",
       "      <td>0</td>\n",
       "      <td>0</td>\n",
       "      <td>6SgvNWJltnZhW7duJgZ42w</td>\n",
       "      <td>5</td>\n",
       "      <td>This is mine and my fiancé's favorite steakhou...</td>\n",
       "      <td>0</td>\n",
       "      <td>oFyOUOeGTRZhFPF9uTqrTQ</td>\n",
       "      <td>1</td>\n",
       "      <td>341</td>\n",
       "    </tr>\n",
       "    <tr>\n",
       "      <th>1</th>\n",
       "      <td>--9e1ONYQuAa-CB_Rrw7Tw</td>\n",
       "      <td>Delmonico Steakhouse</td>\n",
       "      <td>['Cajun/Creole', 'Steakhouses', 'Restaurants']</td>\n",
       "      <td>4.0</td>\n",
       "      <td>0</td>\n",
       "      <td>0</td>\n",
       "      <td>iwx6s6yQxc7yjS7NFANZig</td>\n",
       "      <td>4</td>\n",
       "      <td>Nice atmosphere and wonderful service. I had t...</td>\n",
       "      <td>0</td>\n",
       "      <td>2aeNFntqY2QDZLADNo8iQQ</td>\n",
       "      <td>1</td>\n",
       "      <td>417</td>\n",
       "    </tr>\n",
       "    <tr>\n",
       "      <th>2</th>\n",
       "      <td>--9e1ONYQuAa-CB_Rrw7Tw</td>\n",
       "      <td>Delmonico Steakhouse</td>\n",
       "      <td>['Cajun/Creole', 'Steakhouses', 'Restaurants']</td>\n",
       "      <td>4.0</td>\n",
       "      <td>0</td>\n",
       "      <td>0</td>\n",
       "      <td>UVUMu_bELdA56Ryfbur-DA</td>\n",
       "      <td>5</td>\n",
       "      <td>Every year a group of us (we had 6 this year) ...</td>\n",
       "      <td>1</td>\n",
       "      <td>gmPP4YFrgYsYQqPYokMgFA</td>\n",
       "      <td>1</td>\n",
       "      <td>493</td>\n",
       "    </tr>\n",
       "    <tr>\n",
       "      <th>3</th>\n",
       "      <td>--9e1ONYQuAa-CB_Rrw7Tw</td>\n",
       "      <td>Delmonico Steakhouse</td>\n",
       "      <td>['Cajun/Creole', 'Steakhouses', 'Restaurants']</td>\n",
       "      <td>4.0</td>\n",
       "      <td>0</td>\n",
       "      <td>0</td>\n",
       "      <td>UxFpgng8dPMWOj99653k5Q</td>\n",
       "      <td>5</td>\n",
       "      <td>Truly Fantastic!  Best Steak ever. Service was...</td>\n",
       "      <td>0</td>\n",
       "      <td>aVOGlN9fZ-BXcbtj6dbf0g</td>\n",
       "      <td>1</td>\n",
       "      <td>152</td>\n",
       "    </tr>\n",
       "    <tr>\n",
       "      <th>4</th>\n",
       "      <td>--9e1ONYQuAa-CB_Rrw7Tw</td>\n",
       "      <td>Delmonico Steakhouse</td>\n",
       "      <td>['Cajun/Creole', 'Steakhouses', 'Restaurants']</td>\n",
       "      <td>4.0</td>\n",
       "      <td>0</td>\n",
       "      <td>0</td>\n",
       "      <td>Xp3ppynEvVu1KxDHQ3ae8w</td>\n",
       "      <td>5</td>\n",
       "      <td>Delmonico Steakhouse is a steakhouse owned by ...</td>\n",
       "      <td>0</td>\n",
       "      <td>KC8H7qTZVPIEnanw9fG43g</td>\n",
       "      <td>1</td>\n",
       "      <td>914</td>\n",
       "    </tr>\n",
       "  </tbody>\n",
       "</table>\n",
       "</div>"
      ],
      "text/plain": [
       "              business_id                  name  \\\n",
       "0  --9e1ONYQuAa-CB_Rrw7Tw  Delmonico Steakhouse   \n",
       "1  --9e1ONYQuAa-CB_Rrw7Tw  Delmonico Steakhouse   \n",
       "2  --9e1ONYQuAa-CB_Rrw7Tw  Delmonico Steakhouse   \n",
       "3  --9e1ONYQuAa-CB_Rrw7Tw  Delmonico Steakhouse   \n",
       "4  --9e1ONYQuAa-CB_Rrw7Tw  Delmonico Steakhouse   \n",
       "\n",
       "                                       categories  avg_stars  cool  funny  \\\n",
       "0  ['Cajun/Creole', 'Steakhouses', 'Restaurants']        4.0     0      0   \n",
       "1  ['Cajun/Creole', 'Steakhouses', 'Restaurants']        4.0     0      0   \n",
       "2  ['Cajun/Creole', 'Steakhouses', 'Restaurants']        4.0     0      0   \n",
       "3  ['Cajun/Creole', 'Steakhouses', 'Restaurants']        4.0     0      0   \n",
       "4  ['Cajun/Creole', 'Steakhouses', 'Restaurants']        4.0     0      0   \n",
       "\n",
       "                review_id  stars  \\\n",
       "0  6SgvNWJltnZhW7duJgZ42w      5   \n",
       "1  iwx6s6yQxc7yjS7NFANZig      4   \n",
       "2  UVUMu_bELdA56Ryfbur-DA      5   \n",
       "3  UxFpgng8dPMWOj99653k5Q      5   \n",
       "4  Xp3ppynEvVu1KxDHQ3ae8w      5   \n",
       "\n",
       "                                                text  useful  \\\n",
       "0  This is mine and my fiancé's favorite steakhou...       0   \n",
       "1  Nice atmosphere and wonderful service. I had t...       0   \n",
       "2  Every year a group of us (we had 6 this year) ...       1   \n",
       "3  Truly Fantastic!  Best Steak ever. Service was...       0   \n",
       "4  Delmonico Steakhouse is a steakhouse owned by ...       0   \n",
       "\n",
       "                  user_id  count  text_length  \n",
       "0  oFyOUOeGTRZhFPF9uTqrTQ      1          341  \n",
       "1  2aeNFntqY2QDZLADNo8iQQ      1          417  \n",
       "2  gmPP4YFrgYsYQqPYokMgFA      1          493  \n",
       "3  aVOGlN9fZ-BXcbtj6dbf0g      1          152  \n",
       "4  KC8H7qTZVPIEnanw9fG43g      1          914  "
      ]
     },
     "execution_count": 3,
     "metadata": {},
     "output_type": "execute_result"
    }
   ],
   "source": [
    "df.head()"
   ]
  },
  {
   "cell_type": "code",
   "execution_count": 4,
   "metadata": {},
   "outputs": [
    {
     "name": "stdout",
     "output_type": "stream",
     "text": [
      "(515752, 13)\n",
      "(206301, 13)\n"
     ]
    }
   ],
   "source": [
    "# Use a subset of the original df due to the computation limit\n",
    "# Originally I have 515752 records\n",
    "# Select 40% of 515752 records \n",
    "print(df.shape)\n",
    "df = df.sample(frac=0.4, replace=False, random_state=0)\n",
    "print(df.shape)"
   ]
  },
  {
   "cell_type": "markdown",
   "metadata": {},
   "source": [
    "## 2. Data preprocessing\n",
    "- 2.1 Define feature variables\n",
    "- 2.2 Define the target variable\n",
    "- 2.3 Create train and test datasets\n",
    "- 2.4 Get NLP representation of the documents"
   ]
  },
  {
   "cell_type": "markdown",
   "metadata": {},
   "source": [
    "### 2.1 Define feature variables"
   ]
  },
  {
   "cell_type": "code",
   "execution_count": 5,
   "metadata": {},
   "outputs": [
    {
     "name": "stdout",
     "output_type": "stream",
     "text": [
      "206301\n"
     ]
    }
   ],
   "source": [
    "# Take the values of the column that contains review text data, and save to a variable named \"documents\"\n",
    "documents = df.text.values\n",
    "print(len(documents))"
   ]
  },
  {
   "cell_type": "markdown",
   "metadata": {},
   "source": [
    "### 2.2 Define the target variable \n",
    "- Any categorical variable that may be meaningful. For example, I defined the target variable into two labels, perfect (5 stars) and imperfect (1-4 stars) rating."
   ]
  },
  {
   "cell_type": "code",
   "execution_count": 6,
   "metadata": {},
   "outputs": [
    {
     "name": "stdout",
     "output_type": "stream",
     "text": [
      "[False False  True  True False]\n",
      "<class 'numpy.ndarray'>\n",
      "<class 'numpy.bool_'>\n",
      "95767\n",
      "110534\n"
     ]
    }
   ],
   "source": [
    "# The target column contains boolean values, either 1 (stars > 4) or 0 (stars <= 4)\n",
    "df['target'] = (df.stars > 4).values\n",
    "\n",
    "target = df['target'].values\n",
    "\n",
    "print(target[0:5])\n",
    "print(type(target))\n",
    "print(type(target[0]))\n",
    "\n",
    "# The ration between 1 and 0 is balanced\n",
    "print(sum(target == 1))\n",
    "print(sum(target == 0))"
   ]
  },
  {
   "cell_type": "code",
   "execution_count": 7,
   "metadata": {},
   "outputs": [
    {
     "name": "stdout",
     "output_type": "stream",
     "text": [
      "mean: 0.4642100619967911\n",
      "sd: 0.49871743536568525\n"
     ]
    }
   ],
   "source": [
    "# Look at the statistics of the target variable\n",
    "print('mean:', np.mean(target))\n",
    "print('sd:', np.std(target))"
   ]
  },
  {
   "cell_type": "markdown",
   "metadata": {},
   "source": [
    "### 2.3 Create train and test datasets"
   ]
  },
  {
   "cell_type": "code",
   "execution_count": 8,
   "metadata": {},
   "outputs": [
    {
     "name": "stderr",
     "output_type": "stream",
     "text": [
      "/Users/wuchenhong/anaconda3/lib/python3.6/site-packages/sklearn/cross_validation.py:41: DeprecationWarning: This module was deprecated in version 0.18 in favor of the model_selection module into which all the refactored classes and functions are moved. Also note that the interface of the new CV iterators are different from that of this module. This module will be removed in 0.20.\n",
      "  \"This module will be removed in 0.20.\", DeprecationWarning)\n"
     ]
    }
   ],
   "source": [
    "from sklearn.cross_validation import train_test_split"
   ]
  },
  {
   "cell_type": "code",
   "execution_count": 9,
   "metadata": {},
   "outputs": [],
   "source": [
    "# X: documents\n",
    "# Y: targets\n",
    "# Now split the data into train and test sets (80% & 20%)\n",
    "documents_train, documents_test, target_train, target_test = train_test_split(documents,\n",
    "                                                                              target,\n",
    "                                                                              test_size = 0.2,\n",
    "                                                                              random_state = 0)"
   ]
  },
  {
   "cell_type": "code",
   "execution_count": 10,
   "metadata": {
    "scrolled": true
   },
   "outputs": [
    {
     "name": "stdout",
     "output_type": "stream",
     "text": [
      "['My wife and I went with our parents a few weeks ago. By far the best fish I have ever had! Between the 6 of us we had a lot of their dinner specials, they were all excellent. I tried their watermelon martini it was amazing. My wife and I agreed their drinks were so good we would go back just for a drink sometime.'\n",
      " 'Great service. Interesting food and beverage menu. Nice ambience. An elevated departure from the Freemont St type places.'\n",
      " 'I was seduced by the four star average on Yelp, even though my intuition told me \"run away Simba and never return.\"  Our first (and last) dinner at McCall\\'s was an unmitigated disaster.  The food was terrible.  My daughter recognized the rib sauce \"from Costco\" and my filet was tasteless and poorly prepared.  The breaded mushroom garnish became the joke of the night.  The only bright spot was Ken our server, who was a gentleman and very gracious.  It would have been far better if I had just burned the $120, then we would not all feel sick.']\n",
      "\n",
      "[\"My family and I found this new Tea spot close to our home and decided to try it out. It was a hit and so delicious! I purchased the brew milk tea. A bold tea flavor with a little touch of sweetness. It was just right. You have to check it out! I'm sure the rest of their drinks are well worth it. Now if I have a craving I know where to go. And it's not on spring mountain! Can't wait to drink more of their yummy beverages\"\n",
      " 'We went for restaurant week on a Tuesday night and it was ok, but not great and a bit costly.  We had shrimp cocktail, big eye tuna sashimi, rib eye steak, mac & cheese waffle, and dessert.  The shrimp and sashimi were a bit bland and the rib eye was overly fatty, even for rib eye.  The service started off great, but faltered after the main course, we ended up waiting more than 30 mins for dessert and drink service slowed considerably.  Not a bad experience, but not worth the expense.'\n",
      " \"I love this buffet. It's so cute inside. This is probably my favorite buffet to go to in Vegas so far.\"]\n",
      "[ True False False]\n",
      "\n",
      "[ True False  True]\n"
     ]
    }
   ],
   "source": [
    "# Manually look over some sample data\n",
    "print(documents_train[0:3])\n",
    "print()\n",
    "print(documents_test[0:3])\n",
    "print(target_train[0:3])\n",
    "print()\n",
    "print(target_test[0:3])"
   ]
  },
  {
   "cell_type": "markdown",
   "metadata": {},
   "source": [
    "### 2.4 Get NLP representation of the documents"
   ]
  },
  {
   "cell_type": "code",
   "execution_count": 11,
   "metadata": {},
   "outputs": [],
   "source": [
    "from sklearn.feature_extraction.text import TfidfVectorizer"
   ]
  },
  {
   "cell_type": "code",
   "execution_count": 12,
   "metadata": {},
   "outputs": [],
   "source": [
    "# Create a TfidfVectorizer, and name it vectorizer\n",
    "# Choose a reasonable max_features, e.g. use 2000 to fast the computation speed\n",
    "vectorizer = TfidfVectorizer(stop_words='english', max_features=2000)"
   ]
  },
  {
   "cell_type": "code",
   "execution_count": 13,
   "metadata": {},
   "outputs": [
    {
     "name": "stderr",
     "output_type": "stream",
     "text": [
      "/Users/wuchenhong/anaconda3/lib/python3.6/site-packages/sklearn/feature_extraction/text.py:1089: FutureWarning: Conversion of the second argument of issubdtype from `float` to `np.floating` is deprecated. In future, it will be treated as `np.float64 == np.dtype(float).type`.\n",
      "  if hasattr(X, 'dtype') and np.issubdtype(X.dtype, np.float):\n"
     ]
    },
    {
     "name": "stdout",
     "output_type": "stream",
     "text": [
      "(165040, 2000)\n"
     ]
    }
   ],
   "source": [
    "# Fit and transform the TfidfVectorizer with the train data only, then tranform all the data to tf-idf\n",
    "# Becuase in a real world situation, we assumed we only have the train data\n",
    "vectors_train = vectorizer.fit_transform(documents_train).toarray()\n",
    "print(vectors_train.shape)"
   ]
  },
  {
   "cell_type": "code",
   "execution_count": 14,
   "metadata": {},
   "outputs": [
    {
     "name": "stdout",
     "output_type": "stream",
     "text": [
      "2000\n"
     ]
    }
   ],
   "source": [
    "# Get the vocabularies\n",
    "vocab = vectorizer.get_feature_names()\n",
    "\n",
    "# max_features = 2000\n",
    "print(len(vocab))"
   ]
  },
  {
   "cell_type": "code",
   "execution_count": 15,
   "metadata": {},
   "outputs": [
    {
     "name": "stderr",
     "output_type": "stream",
     "text": [
      "/Users/wuchenhong/anaconda3/lib/python3.6/site-packages/sklearn/feature_extraction/text.py:1089: FutureWarning: Conversion of the second argument of issubdtype from `float` to `np.floating` is deprecated. In future, it will be treated as `np.float64 == np.dtype(float).type`.\n",
      "  if hasattr(X, 'dtype') and np.issubdtype(X.dtype, np.float):\n"
     ]
    },
    {
     "name": "stdout",
     "output_type": "stream",
     "text": [
      "(206301, 2000)\n"
     ]
    }
   ],
   "source": [
    "# Use the fitted TfidfVectorizer to transform all the reviews\n",
    "vectors_documents = vectorizer.transform(documents).toarray()\n",
    "print(vectors_documents.shape)"
   ]
  },
  {
   "cell_type": "markdown",
   "metadata": {},
   "source": [
    "## 3. Cluster reviews with KMeans\n",
    "- 3.1 Fit k-means clustering with the train vectors and apply it on all the data\n",
    "- 3.2 Make predictions on all data\n",
    "- 3.3 Inspect the centroids\n",
    "- 3.4 Try using different k (clusters)"
   ]
  },
  {
   "cell_type": "markdown",
   "metadata": {},
   "source": [
    "### 3.1 Fit k-means clustering with the train vectors and apply it on all the data"
   ]
  },
  {
   "cell_type": "code",
   "execution_count": 16,
   "metadata": {},
   "outputs": [
    {
     "data": {
      "text/plain": [
       "KMeans(algorithm='auto', copy_x=True, init='k-means++', max_iter=300,\n",
       "    n_clusters=8, n_init=10, n_jobs=1, precompute_distances='auto',\n",
       "    random_state=None, tol=0.0001, verbose=0)"
      ]
     },
     "execution_count": 16,
     "metadata": {},
     "output_type": "execute_result"
    }
   ],
   "source": [
    "from sklearn.cluster import KMeans\n",
    "\n",
    "kmeans = KMeans()\n",
    "\n",
    "kmeans.fit(vectors_train)"
   ]
  },
  {
   "cell_type": "markdown",
   "metadata": {},
   "source": [
    "### 3.2 Make predictions on all data"
   ]
  },
  {
   "cell_type": "code",
   "execution_count": 17,
   "metadata": {},
   "outputs": [],
   "source": [
    "predict_cluster = kmeans.predict(vectors_documents)"
   ]
  },
  {
   "cell_type": "markdown",
   "metadata": {},
   "source": [
    "### 3.3 Inspect the centroids\n",
    "- Description: To find out what \"topics\" Kmeans has discovered we must inspect the centroids. Print out the centroids of the Kmeans clustering. These centroids are simply a bunch of vectors.  To make sense of them we need to map these vectors back into our 'word space'.  Think of each feature/dimension of the centroid vector as representing the \"average\" review or the average occurances of words for that cluster.\n",
    "- Solution: Find the top 10 features (words) within each cluster. \n",
    "- Steps: \n",
    "    (1) Sort each centroid vector to find the top 10 features \n",
    "    (2) Go back to our vectorizer object to find out what words each of these features corresponds to"
   ]
  },
  {
   "cell_type": "code",
   "execution_count": 18,
   "metadata": {},
   "outputs": [
    {
     "data": {
      "text/plain": [
       "(8, 2000)"
      ]
     },
     "execution_count": 18,
     "metadata": {},
     "output_type": "execute_result"
    }
   ],
   "source": [
    "# Default of kmeans uses 8 clusters\n",
    "# 2000 features (words) I have\n",
    "kmeans.cluster_centers_.shape"
   ]
  },
  {
   "cell_type": "code",
   "execution_count": 19,
   "metadata": {},
   "outputs": [
    {
     "data": {
      "text/plain": [
       "2000"
      ]
     },
     "execution_count": 19,
     "metadata": {},
     "output_type": "execute_result"
    }
   ],
   "source": [
    "len(vocab)"
   ]
  },
  {
   "cell_type": "code",
   "execution_count": 20,
   "metadata": {},
   "outputs": [],
   "source": [
    "# For each cluster's centroid, collect corresponding indexes (position) for top 10 words \n",
    "index_by_centroid = []\n",
    "for centroid in kmeans.cluster_centers_:\n",
    "    index_ls = np.argsort(centroid)[::-1][:10]\n",
    "    index_by_centroid.append(index_ls)"
   ]
  },
  {
   "cell_type": "code",
   "execution_count": 21,
   "metadata": {},
   "outputs": [
    {
     "data": {
      "text/plain": [
       "[array([1293,  676,  167, 1878,  473,   65, 1003,  966, 1546, 1790]),\n",
       " array([1729, 1468, 1293, 1466,  120,  760,  745,  658, 1546,  692]),\n",
       " array([ 310,  695,  676, 1452,  745, 1199, 1293,  760,  473, 1502]),\n",
       " array([1291,  438,  745, 1293,  760, 1592,  301, 1260,  909,  167]),\n",
       " array([ 745,  676, 1403, 1293, 1546, 1142, 1343,  966,  909,  760]),\n",
       " array([ 760,  676, 1546, 1293,   65,  697,  116, 1661,  471,  105]),\n",
       " array([ 676, 1198, 1091, 1546, 1790,  909,  259,  489,  749, 1733]),\n",
       " array([ 238,  699,  239,  745, 1553,  301, 1293,  760,  676,  909])]"
      ]
     },
     "execution_count": 21,
     "metadata": {},
     "output_type": "execute_result"
    }
   ],
   "source": [
    "index_by_centroid"
   ]
  },
  {
   "cell_type": "code",
   "execution_count": 24,
   "metadata": {},
   "outputs": [
    {
     "name": "stdout",
     "output_type": "stream",
     "text": [
      "Cluster 0: place, food, best, vegas, delicious, amazing, love, like, service, time\n",
      "Cluster 1: sushi, rolls, place, roll, ayce, great, good, fish, service, fresh\n",
      "Cluster 2: chicken, fried, food, rice, good, ordered, place, great, delicious, sauce\n",
      "Cluster 3: pizza, crust, good, place, great, slice, cheese, pepperoni, just, best\n",
      "Cluster 4: good, food, really, place, service, nice, pretty, like, just, great\n",
      "Cluster 5: great, food, service, place, amazing, friendly, awesome, staff, definitely, atmosphere\n",
      "Cluster 6: food, order, minutes, service, time, just, came, didn, got, table\n",
      "Cluster 7: burger, fries, burgers, good, shake, cheese, place, great, food, just\n"
     ]
    }
   ],
   "source": [
    "# Print out the corresponding top 10 words by indexes\n",
    "for number, index_ls in enumerate(index_by_centroid):\n",
    "    print(\"Cluster \"+str(number)+\":\", \", \".join(vocab[i] for i in index_ls))"
   ]
  },
  {
   "cell_type": "markdown",
   "metadata": {},
   "source": [
    "### 3.4 Try using different k (clusters)\n",
    "- Q1: Why using 5 clusters? \n",
    "    1. Using eight clusters (default setting in kmeans), I found that three clusters are kind of similar to each other.\n",
    "    2. The rest of clusters have some significant meanings such as in Cluster 1, it mainly tell about Japanese restaurants, and in Cluster 2 and 7, they might signify fast food restaurants. \n",
    "- Q2: How does the top features change after using 5 clusters?\n",
    "    1. Using five clusters, the difference among clusters stands out more significant than using eight clusters. Each cluster now has an unique topic, such as Cluster 0 is mainly about service aspect, Cluster 1 is relating to the pizza, and Cluster 2 is surrounding with the topic of chicken in vegas.\n",
    "    2. However, the top features using five clusters seem to be highly overlapped with the default method. In fact, it's a good strategy to narrow down overlapped clusters into denser clusters."
   ]
  },
  {
   "cell_type": "code",
   "execution_count": 25,
   "metadata": {},
   "outputs": [
    {
     "data": {
      "text/plain": [
       "KMeans(algorithm='auto', copy_x=True, init='k-means++', max_iter=300,\n",
       "    n_clusters=5, n_init=10, n_jobs=1, precompute_distances='auto',\n",
       "    random_state=None, tol=0.0001, verbose=0)"
      ]
     },
     "execution_count": 25,
     "metadata": {},
     "output_type": "execute_result"
    }
   ],
   "source": [
    "kmeans = KMeans(n_clusters=5)\n",
    "\n",
    "kmeans.fit(vectors_train)"
   ]
  },
  {
   "cell_type": "code",
   "execution_count": 26,
   "metadata": {},
   "outputs": [],
   "source": [
    "index_by_centroid = []\n",
    "for centroid in kmeans.cluster_centers_:\n",
    "    index_ls = np.argsort(centroid)[::-1][:10]\n",
    "    index_by_centroid.append(index_ls)"
   ]
  },
  {
   "cell_type": "code",
   "execution_count": 27,
   "metadata": {},
   "outputs": [
    {
     "data": {
      "text/plain": [
       "[array([ 676, 1198, 1790, 1546,  909, 1091,  966,  259,  489, 1293]),\n",
       " array([1291,  438,  745, 1293,  760, 1592,  301, 1260,  909,  167]),\n",
       " array([ 745, 1293,  676,  310,  167,  966, 1878,  473, 1403,  909]),\n",
       " array([ 760,  676, 1546, 1293,   65,  745,  697, 1661, 1003,  116]),\n",
       " array([ 238,  699,  239,  745, 1553,  301, 1293,  676,  760,  909])]"
      ]
     },
     "execution_count": 27,
     "metadata": {},
     "output_type": "execute_result"
    }
   ],
   "source": [
    "index_by_centroid"
   ]
  },
  {
   "cell_type": "code",
   "execution_count": 28,
   "metadata": {},
   "outputs": [
    {
     "name": "stdout",
     "output_type": "stream",
     "text": [
      "Cluster 0: food, order, time, service, just, minutes, like, came, didn, place\n",
      "Cluster 1: pizza, crust, good, place, great, slice, cheese, pepperoni, just, best\n",
      "Cluster 2: good, place, food, chicken, best, like, vegas, delicious, really, just\n",
      "Cluster 3: great, food, service, place, amazing, good, friendly, staff, love, awesome\n",
      "Cluster 4: burger, fries, burgers, good, shake, cheese, place, food, great, just\n"
     ]
    }
   ],
   "source": [
    "for number, index_ls in enumerate(index_by_centroid):\n",
    "    print(\"Cluster \"+str(number)+\":\", \", \".join(vocab[i] for i in index_ls))"
   ]
  },
  {
   "cell_type": "code",
   "execution_count": 29,
   "metadata": {},
   "outputs": [],
   "source": [
    "predict_cluster = kmeans.predict(vectors_documents)"
   ]
  },
  {
   "cell_type": "code",
   "execution_count": 30,
   "metadata": {},
   "outputs": [
    {
     "data": {
      "text/plain": [
       "{0, 1, 2, 3, 4}"
      ]
     },
     "execution_count": 30,
     "metadata": {},
     "output_type": "execute_result"
    }
   ],
   "source": [
    "# Five predicted clusters\n",
    "set(predict_cluster)"
   ]
  },
  {
   "cell_type": "code",
   "execution_count": 31,
   "metadata": {
    "scrolled": true
   },
   "outputs": [
    {
     "name": "stdout",
     "output_type": "stream",
     "text": [
      "Cluster 0:\n",
      "Star  4 : The food was delicious. I had the filet Oscar style and it was perfect!  My party of four all enjoyed their dinner. The hostess needs an attitude adjustment. She seemed annoyed having to walk us to our table and just wasn't pleasant at all.\n",
      "Star  1 : One of the worst customer experiences I have ever encountered and would not have expected from Topgolf, anyone interested in coming here should know they stop sitting at 1am, whole hour before closing. We came in at 1:03 am an they said no to us, turned us away even when they had many driving ranges open. Definitely something they should advertise, very unprofessional service!\n",
      "\n",
      "\n",
      "Cluster 1:\n",
      "Star  1 : Horrible service waited for over 25 minutes for them to make me a basic individual pizza. I actually think the girl that took my order forgot I asked for it because all the numbers after nine got their pizzas before me. I feel like they have the absolute worse customer service u have ever seen. They also took forever to clean up tables after customers left!!! To make matters worse I get the pizza bite into it and I asked for a spinach  and olive pizza and it had ham in it. If I ate meat that would b great but the fact that I don't pissed me off and the manager was not very helpful about it! Never ever coming back to this place\n",
      "Star  4 : Ordered from grub hub the other night for fathers day. Didn't expect much. Well my dad and I were pleasantly surprised!\n",
      "\n",
      "First of all the pizzas are pretty big. It's a good amount of food for what we paid. We like more expensive pizza places so this was surprisingly great. \n",
      "\n",
      "The pizza tastes pretty good. Not going to lie it's not jaw dropping amazing. Hence only 4 stars instead of 5. But it's waaaaaaaay better than I thought. And we are seriously picky pizza people lol crust is kinda thin but that's to be expected with the style. Great amount of topping coverage. Not too much sauce. Decent amount of cheese. \n",
      "We got the supreme. \n",
      "\n",
      "We also got cheese sticks and wings. Cheese sticks were great and came with plenty of red sauce on the side. Wings were nice and crispy. Not a lot of hot sauce on them though. The wings did come with a TON of fries. Had to dig for some wings but that's not much of a complaint lol \n",
      "\n",
      "Not to mention we were pretty far from them and ordered delivery. Only took about half an hour. Food was still piping hot and fresh at the door. \n",
      "\n",
      "I would definitely recommend these guys. Only thing is when ordering through grub hub it was REALLY difficult. Items would disappear from the cart. Then appear twice. Then wouldn't accept our card. NOT THEIR FAULT. Just saying call them yourselves. Lol grub hub is glitchy....\n",
      "\n",
      "\n",
      "Cluster 2:\n",
      "Star  5 : The best oysters in Las Vegas. I love every dish I have tried. I live here in Vegas. Literally I come to eat every other wk.\n",
      "Star  4 : OK, first things first.. My date was hyping this joint up a lot for the breakfast spot of all breakfast spots on the strip. She claimed they had the biggest portions and I was all like \"sure, sure, we'll see\" She was absolutely correct on that point.\n",
      "\n",
      "This place has a strangely mid-western gourmet take on breakfast, portions are huge and quality is right up there with the diners from Indiana to Topeka. I ordered the Corned Beef Hash & Eggs (AWESOME!) my date got the new age Eggs Benedict with a creamy roasted red pepper hollandaise sauce with biscuits instead of english muffins. All in all this place was fantastic and is sure to cure even the worst Vegas hangover. Only downside is wait times are pretty long due to it's popularity.\n",
      "\n",
      "\n",
      "Cluster 3:\n",
      "Star  5 : This is the best sushi ever,  the staff is polite and honest,  no matter what time you attend to their service, it's always uplifting and a happy energy, the food made by the sushi chefs is awesome :) and no I don't know the management or even a single person in that restaurant :)\n",
      "Star  5 : Place was excellent food and service were great. Expected AYCE but they have changed the menu no longer available. Even so he food was superior came during their special happy hour and got 30% off. Well worth the $70 for two people.\n",
      "\n",
      "\n",
      "Cluster 4:\n",
      "Star  5 : There are a ton of good burgers to choose from, but my favorite is the Miyagi Son and the oxtail fries are a must. Best Burger in Las Vegas. Game Over! The service is also amazing.\n",
      "Star  5 : Don't bypass this incredible gem because it sits unobtrusively surrounded by some pretty low rank food court haunts which frankly don't belong in a Vegas Resort setting. The burgers are fabulous. Now if you are not accustomed to eating real, hand crafted burgers, get ready for a real treat. I spent 12 years living in Nebraska, about as a snotty a beef state as they come. You don't stay that long without learning the art of a good burger. So with my burger snob hat on, I'll tell you these are far better than an ordinary burger. If you normally dine on fast food burgers, though using dine and fast food in the same sentence is ridiculous, take a few extra minutes and sit down, relax and enjoy a truly American experience. The service is absolutely friendly and down to earth. And extraordinarily accommodating when I start switching up the cheese, holding the mayo and pretty much crafting my own take on a burger. \n",
      "So if you are in the neighborhood, meaning the Grand Canal Shoppes and vicinity, make sure your hungry, and don't miss this one. PS, the cheese fries are amazing.\n",
      "\n",
      "\n"
     ]
    }
   ],
   "source": [
    "# Print out the rating and review of a random sample of the reviews assigned to each cluster to get a sense of the cluster.\n",
    "# Loop each cluster\n",
    "for i in range(kmeans.n_clusters):\n",
    "    # Create a filter for each cluster\n",
    "    cluster = np.arange(0, vectors_documents.shape[0])[predict_cluster==i]\n",
    "    \n",
    "    # Randomly select two reviews without replacement\n",
    "    sample_reviews = np.random.choice(cluster, 2, replace = False)\n",
    "    \n",
    "    # Return two reviews with corresponding star ratings for each cluster\n",
    "    print(\"Cluster \"+str(i)+\":\")\n",
    "    for sample_index in sample_reviews:\n",
    "        print(\"Star \",df.iloc[sample_index].stars,\":\",\n",
    "              df.iloc[sample_index].text)\n",
    "    print('\\n')"
   ]
  },
  {
   "cell_type": "markdown",
   "metadata": {},
   "source": [
    "## 4. Cluster all the reviews of the most reviewed restaurant\n",
    "- 4.1 Vectorize the text feature\n",
    "- 4.2 Define the target variable\n",
    "- 4.3 Create train and test datasets\n",
    "- 4.4 Get NLP representation of the documents\n",
    "- 4.5 Cluster reviews with KMean"
   ]
  },
  {
   "cell_type": "code",
   "execution_count": 34,
   "metadata": {},
   "outputs": [],
   "source": [
    "# Find the restaurant which got the most reviews\n",
    "most_review_index = df.business_id.value_counts().index[0]\n",
    "df_top_restaurant = df[df.business_id == most_review_index]"
   ]
  },
  {
   "cell_type": "code",
   "execution_count": 35,
   "metadata": {
    "scrolled": true
   },
   "outputs": [
    {
     "name": "stdout",
     "output_type": "stream",
     "text": [
      "RESDUcs7fIiihp38-d6_6g\n"
     ]
    },
    {
     "data": {
      "text/html": [
       "<div>\n",
       "<style scoped>\n",
       "    .dataframe tbody tr th:only-of-type {\n",
       "        vertical-align: middle;\n",
       "    }\n",
       "\n",
       "    .dataframe tbody tr th {\n",
       "        vertical-align: top;\n",
       "    }\n",
       "\n",
       "    .dataframe thead th {\n",
       "        text-align: right;\n",
       "    }\n",
       "</style>\n",
       "<table border=\"1\" class=\"dataframe\">\n",
       "  <thead>\n",
       "    <tr style=\"text-align: right;\">\n",
       "      <th></th>\n",
       "      <th>business_id</th>\n",
       "      <th>name</th>\n",
       "      <th>categories</th>\n",
       "      <th>avg_stars</th>\n",
       "      <th>cool</th>\n",
       "      <th>funny</th>\n",
       "      <th>review_id</th>\n",
       "      <th>stars</th>\n",
       "      <th>text</th>\n",
       "      <th>useful</th>\n",
       "      <th>user_id</th>\n",
       "      <th>count</th>\n",
       "      <th>text_length</th>\n",
       "      <th>target</th>\n",
       "    </tr>\n",
       "  </thead>\n",
       "  <tbody>\n",
       "    <tr>\n",
       "      <th>232857</th>\n",
       "      <td>RESDUcs7fIiihp38-d6_6g</td>\n",
       "      <td>Bacchanal Buffet</td>\n",
       "      <td>['Sandwiches', 'Buffets', 'Restaurants', 'Brea...</td>\n",
       "      <td>4.0</td>\n",
       "      <td>0</td>\n",
       "      <td>0</td>\n",
       "      <td>AJj3ieLYKwTgBH6oF13Wug</td>\n",
       "      <td>4</td>\n",
       "      <td>Its a pretty pricey buffet but well worth the ...</td>\n",
       "      <td>0</td>\n",
       "      <td>Ou1m5256fPjdc0MBuie0Rw</td>\n",
       "      <td>1</td>\n",
       "      <td>371</td>\n",
       "      <td>False</td>\n",
       "    </tr>\n",
       "    <tr>\n",
       "      <th>229055</th>\n",
       "      <td>RESDUcs7fIiihp38-d6_6g</td>\n",
       "      <td>Bacchanal Buffet</td>\n",
       "      <td>['Sandwiches', 'Buffets', 'Restaurants', 'Brea...</td>\n",
       "      <td>4.0</td>\n",
       "      <td>0</td>\n",
       "      <td>0</td>\n",
       "      <td>qTcCSNG_mQ0DdrQQhGcG7Q</td>\n",
       "      <td>2</td>\n",
       "      <td>Best way to describe this is place is \"meh\". T...</td>\n",
       "      <td>0</td>\n",
       "      <td>4Z1HOVGNXGMbK5Lfriagtg</td>\n",
       "      <td>1</td>\n",
       "      <td>1346</td>\n",
       "      <td>False</td>\n",
       "    </tr>\n",
       "    <tr>\n",
       "      <th>231353</th>\n",
       "      <td>RESDUcs7fIiihp38-d6_6g</td>\n",
       "      <td>Bacchanal Buffet</td>\n",
       "      <td>['Sandwiches', 'Buffets', 'Restaurants', 'Brea...</td>\n",
       "      <td>4.0</td>\n",
       "      <td>0</td>\n",
       "      <td>0</td>\n",
       "      <td>li1h9LJi6TZYDbhZABEN1g</td>\n",
       "      <td>5</td>\n",
       "      <td>One of the best buffets! Really expensive, so ...</td>\n",
       "      <td>1</td>\n",
       "      <td>WPtiYqNoXhte7k8D-eeuEw</td>\n",
       "      <td>1</td>\n",
       "      <td>316</td>\n",
       "      <td>True</td>\n",
       "    </tr>\n",
       "    <tr>\n",
       "      <th>232052</th>\n",
       "      <td>RESDUcs7fIiihp38-d6_6g</td>\n",
       "      <td>Bacchanal Buffet</td>\n",
       "      <td>['Sandwiches', 'Buffets', 'Restaurants', 'Brea...</td>\n",
       "      <td>4.0</td>\n",
       "      <td>0</td>\n",
       "      <td>0</td>\n",
       "      <td>1un4PVs9VOyHiw_MBsgfyA</td>\n",
       "      <td>4</td>\n",
       "      <td>This is probably one of the better buffets in ...</td>\n",
       "      <td>1</td>\n",
       "      <td>pEvhyxL7YAGrYsKB29VJvg</td>\n",
       "      <td>1</td>\n",
       "      <td>582</td>\n",
       "      <td>False</td>\n",
       "    </tr>\n",
       "    <tr>\n",
       "      <th>232083</th>\n",
       "      <td>RESDUcs7fIiihp38-d6_6g</td>\n",
       "      <td>Bacchanal Buffet</td>\n",
       "      <td>['Sandwiches', 'Buffets', 'Restaurants', 'Brea...</td>\n",
       "      <td>4.0</td>\n",
       "      <td>0</td>\n",
       "      <td>0</td>\n",
       "      <td>zdGnzJRJvvt4pWvXLvB3ug</td>\n",
       "      <td>5</td>\n",
       "      <td>Not to expensive at 69 dollars a head worth it...</td>\n",
       "      <td>0</td>\n",
       "      <td>ObyIhzEkZEtp7EEFNzcsDA</td>\n",
       "      <td>1</td>\n",
       "      <td>90</td>\n",
       "      <td>True</td>\n",
       "    </tr>\n",
       "  </tbody>\n",
       "</table>\n",
       "</div>"
      ],
      "text/plain": [
       "                   business_id              name  \\\n",
       "232857  RESDUcs7fIiihp38-d6_6g  Bacchanal Buffet   \n",
       "229055  RESDUcs7fIiihp38-d6_6g  Bacchanal Buffet   \n",
       "231353  RESDUcs7fIiihp38-d6_6g  Bacchanal Buffet   \n",
       "232052  RESDUcs7fIiihp38-d6_6g  Bacchanal Buffet   \n",
       "232083  RESDUcs7fIiihp38-d6_6g  Bacchanal Buffet   \n",
       "\n",
       "                                               categories  avg_stars  cool  \\\n",
       "232857  ['Sandwiches', 'Buffets', 'Restaurants', 'Brea...        4.0     0   \n",
       "229055  ['Sandwiches', 'Buffets', 'Restaurants', 'Brea...        4.0     0   \n",
       "231353  ['Sandwiches', 'Buffets', 'Restaurants', 'Brea...        4.0     0   \n",
       "232052  ['Sandwiches', 'Buffets', 'Restaurants', 'Brea...        4.0     0   \n",
       "232083  ['Sandwiches', 'Buffets', 'Restaurants', 'Brea...        4.0     0   \n",
       "\n",
       "        funny               review_id  stars  \\\n",
       "232857      0  AJj3ieLYKwTgBH6oF13Wug      4   \n",
       "229055      0  qTcCSNG_mQ0DdrQQhGcG7Q      2   \n",
       "231353      0  li1h9LJi6TZYDbhZABEN1g      5   \n",
       "232052      0  1un4PVs9VOyHiw_MBsgfyA      4   \n",
       "232083      0  zdGnzJRJvvt4pWvXLvB3ug      5   \n",
       "\n",
       "                                                     text  useful  \\\n",
       "232857  Its a pretty pricey buffet but well worth the ...       0   \n",
       "229055  Best way to describe this is place is \"meh\". T...       0   \n",
       "231353  One of the best buffets! Really expensive, so ...       1   \n",
       "232052  This is probably one of the better buffets in ...       1   \n",
       "232083  Not to expensive at 69 dollars a head worth it...       0   \n",
       "\n",
       "                       user_id  count  text_length  target  \n",
       "232857  Ou1m5256fPjdc0MBuie0Rw      1          371   False  \n",
       "229055  4Z1HOVGNXGMbK5Lfriagtg      1         1346   False  \n",
       "231353  WPtiYqNoXhte7k8D-eeuEw      1          316    True  \n",
       "232052  pEvhyxL7YAGrYsKB29VJvg      1          582   False  \n",
       "232083  ObyIhzEkZEtp7EEFNzcsDA      1           90    True  "
      ]
     },
     "execution_count": 35,
     "metadata": {},
     "output_type": "execute_result"
    }
   ],
   "source": [
    "print(most_review_index)\n",
    "df_top_restaurant.head()"
   ]
  },
  {
   "cell_type": "code",
   "execution_count": 36,
   "metadata": {},
   "outputs": [],
   "source": [
    "# Load business dataset \n",
    "# Take a look at the most reviewed restaurant's profile \n",
    "import json\n",
    "with open('./dataset/business.json') as f:\n",
    "    df_business = pd.DataFrame(json.loads(line) for line in f)"
   ]
  },
  {
   "cell_type": "code",
   "execution_count": 37,
   "metadata": {},
   "outputs": [
    {
     "data": {
      "text/html": [
       "<div>\n",
       "<style scoped>\n",
       "    .dataframe tbody tr th:only-of-type {\n",
       "        vertical-align: middle;\n",
       "    }\n",
       "\n",
       "    .dataframe tbody tr th {\n",
       "        vertical-align: top;\n",
       "    }\n",
       "\n",
       "    .dataframe thead th {\n",
       "        text-align: right;\n",
       "    }\n",
       "</style>\n",
       "<table border=\"1\" class=\"dataframe\">\n",
       "  <thead>\n",
       "    <tr style=\"text-align: right;\">\n",
       "      <th></th>\n",
       "      <th>address</th>\n",
       "      <th>attributes</th>\n",
       "      <th>business_id</th>\n",
       "      <th>categories</th>\n",
       "      <th>city</th>\n",
       "      <th>hours</th>\n",
       "      <th>is_open</th>\n",
       "      <th>latitude</th>\n",
       "      <th>longitude</th>\n",
       "      <th>name</th>\n",
       "      <th>neighborhood</th>\n",
       "      <th>postal_code</th>\n",
       "      <th>review_count</th>\n",
       "      <th>stars</th>\n",
       "      <th>state</th>\n",
       "    </tr>\n",
       "  </thead>\n",
       "  <tbody>\n",
       "    <tr>\n",
       "      <th>119907</th>\n",
       "      <td>3570 S Las Vegas Blvd</td>\n",
       "      <td>{'RestaurantsTableService': True, 'GoodForMeal...</td>\n",
       "      <td>RESDUcs7fIiihp38-d6_6g</td>\n",
       "      <td>[Sandwiches, Buffets, Restaurants, Breakfast &amp;...</td>\n",
       "      <td>Las Vegas</td>\n",
       "      <td>{'Monday': '7:30-22:00', 'Tuesday': '7:30-22:0...</td>\n",
       "      <td>1</td>\n",
       "      <td>36.116113</td>\n",
       "      <td>-115.176222</td>\n",
       "      <td>Bacchanal Buffet</td>\n",
       "      <td>The Strip</td>\n",
       "      <td>89109</td>\n",
       "      <td>7009</td>\n",
       "      <td>4.0</td>\n",
       "      <td>NV</td>\n",
       "    </tr>\n",
       "  </tbody>\n",
       "</table>\n",
       "</div>"
      ],
      "text/plain": [
       "                      address  \\\n",
       "119907  3570 S Las Vegas Blvd   \n",
       "\n",
       "                                               attributes  \\\n",
       "119907  {'RestaurantsTableService': True, 'GoodForMeal...   \n",
       "\n",
       "                   business_id  \\\n",
       "119907  RESDUcs7fIiihp38-d6_6g   \n",
       "\n",
       "                                               categories       city  \\\n",
       "119907  [Sandwiches, Buffets, Restaurants, Breakfast &...  Las Vegas   \n",
       "\n",
       "                                                    hours  is_open   latitude  \\\n",
       "119907  {'Monday': '7:30-22:00', 'Tuesday': '7:30-22:0...        1  36.116113   \n",
       "\n",
       "         longitude              name neighborhood postal_code  review_count  \\\n",
       "119907 -115.176222  Bacchanal Buffet    The Strip       89109          7009   \n",
       "\n",
       "        stars state  \n",
       "119907    4.0    NV  "
      ]
     },
     "execution_count": 37,
     "metadata": {},
     "output_type": "execute_result"
    }
   ],
   "source": [
    "df_business[df_business.business_id == most_review_index]"
   ]
  },
  {
   "cell_type": "markdown",
   "metadata": {},
   "source": [
    "### 4.1 Vectorize the text feature"
   ]
  },
  {
   "cell_type": "code",
   "execution_count": 38,
   "metadata": {},
   "outputs": [
    {
     "data": {
      "text/html": [
       "<div>\n",
       "<style scoped>\n",
       "    .dataframe tbody tr th:only-of-type {\n",
       "        vertical-align: middle;\n",
       "    }\n",
       "\n",
       "    .dataframe tbody tr th {\n",
       "        vertical-align: top;\n",
       "    }\n",
       "\n",
       "    .dataframe thead th {\n",
       "        text-align: right;\n",
       "    }\n",
       "</style>\n",
       "<table border=\"1\" class=\"dataframe\">\n",
       "  <thead>\n",
       "    <tr style=\"text-align: right;\">\n",
       "      <th></th>\n",
       "      <th>business_id</th>\n",
       "      <th>name</th>\n",
       "      <th>categories</th>\n",
       "      <th>avg_stars</th>\n",
       "      <th>cool</th>\n",
       "      <th>funny</th>\n",
       "      <th>review_id</th>\n",
       "      <th>stars</th>\n",
       "      <th>text</th>\n",
       "      <th>useful</th>\n",
       "      <th>user_id</th>\n",
       "      <th>count</th>\n",
       "      <th>text_length</th>\n",
       "      <th>target</th>\n",
       "    </tr>\n",
       "  </thead>\n",
       "  <tbody>\n",
       "    <tr>\n",
       "      <th>232857</th>\n",
       "      <td>RESDUcs7fIiihp38-d6_6g</td>\n",
       "      <td>Bacchanal Buffet</td>\n",
       "      <td>['Sandwiches', 'Buffets', 'Restaurants', 'Brea...</td>\n",
       "      <td>4.0</td>\n",
       "      <td>0</td>\n",
       "      <td>0</td>\n",
       "      <td>AJj3ieLYKwTgBH6oF13Wug</td>\n",
       "      <td>4</td>\n",
       "      <td>Its a pretty pricey buffet but well worth the ...</td>\n",
       "      <td>0</td>\n",
       "      <td>Ou1m5256fPjdc0MBuie0Rw</td>\n",
       "      <td>1</td>\n",
       "      <td>371</td>\n",
       "      <td>False</td>\n",
       "    </tr>\n",
       "    <tr>\n",
       "      <th>229055</th>\n",
       "      <td>RESDUcs7fIiihp38-d6_6g</td>\n",
       "      <td>Bacchanal Buffet</td>\n",
       "      <td>['Sandwiches', 'Buffets', 'Restaurants', 'Brea...</td>\n",
       "      <td>4.0</td>\n",
       "      <td>0</td>\n",
       "      <td>0</td>\n",
       "      <td>qTcCSNG_mQ0DdrQQhGcG7Q</td>\n",
       "      <td>2</td>\n",
       "      <td>Best way to describe this is place is \"meh\". T...</td>\n",
       "      <td>0</td>\n",
       "      <td>4Z1HOVGNXGMbK5Lfriagtg</td>\n",
       "      <td>1</td>\n",
       "      <td>1346</td>\n",
       "      <td>False</td>\n",
       "    </tr>\n",
       "    <tr>\n",
       "      <th>231353</th>\n",
       "      <td>RESDUcs7fIiihp38-d6_6g</td>\n",
       "      <td>Bacchanal Buffet</td>\n",
       "      <td>['Sandwiches', 'Buffets', 'Restaurants', 'Brea...</td>\n",
       "      <td>4.0</td>\n",
       "      <td>0</td>\n",
       "      <td>0</td>\n",
       "      <td>li1h9LJi6TZYDbhZABEN1g</td>\n",
       "      <td>5</td>\n",
       "      <td>One of the best buffets! Really expensive, so ...</td>\n",
       "      <td>1</td>\n",
       "      <td>WPtiYqNoXhte7k8D-eeuEw</td>\n",
       "      <td>1</td>\n",
       "      <td>316</td>\n",
       "      <td>True</td>\n",
       "    </tr>\n",
       "    <tr>\n",
       "      <th>232052</th>\n",
       "      <td>RESDUcs7fIiihp38-d6_6g</td>\n",
       "      <td>Bacchanal Buffet</td>\n",
       "      <td>['Sandwiches', 'Buffets', 'Restaurants', 'Brea...</td>\n",
       "      <td>4.0</td>\n",
       "      <td>0</td>\n",
       "      <td>0</td>\n",
       "      <td>1un4PVs9VOyHiw_MBsgfyA</td>\n",
       "      <td>4</td>\n",
       "      <td>This is probably one of the better buffets in ...</td>\n",
       "      <td>1</td>\n",
       "      <td>pEvhyxL7YAGrYsKB29VJvg</td>\n",
       "      <td>1</td>\n",
       "      <td>582</td>\n",
       "      <td>False</td>\n",
       "    </tr>\n",
       "    <tr>\n",
       "      <th>232083</th>\n",
       "      <td>RESDUcs7fIiihp38-d6_6g</td>\n",
       "      <td>Bacchanal Buffet</td>\n",
       "      <td>['Sandwiches', 'Buffets', 'Restaurants', 'Brea...</td>\n",
       "      <td>4.0</td>\n",
       "      <td>0</td>\n",
       "      <td>0</td>\n",
       "      <td>zdGnzJRJvvt4pWvXLvB3ug</td>\n",
       "      <td>5</td>\n",
       "      <td>Not to expensive at 69 dollars a head worth it...</td>\n",
       "      <td>0</td>\n",
       "      <td>ObyIhzEkZEtp7EEFNzcsDA</td>\n",
       "      <td>1</td>\n",
       "      <td>90</td>\n",
       "      <td>True</td>\n",
       "    </tr>\n",
       "  </tbody>\n",
       "</table>\n",
       "</div>"
      ],
      "text/plain": [
       "                   business_id              name  \\\n",
       "232857  RESDUcs7fIiihp38-d6_6g  Bacchanal Buffet   \n",
       "229055  RESDUcs7fIiihp38-d6_6g  Bacchanal Buffet   \n",
       "231353  RESDUcs7fIiihp38-d6_6g  Bacchanal Buffet   \n",
       "232052  RESDUcs7fIiihp38-d6_6g  Bacchanal Buffet   \n",
       "232083  RESDUcs7fIiihp38-d6_6g  Bacchanal Buffet   \n",
       "\n",
       "                                               categories  avg_stars  cool  \\\n",
       "232857  ['Sandwiches', 'Buffets', 'Restaurants', 'Brea...        4.0     0   \n",
       "229055  ['Sandwiches', 'Buffets', 'Restaurants', 'Brea...        4.0     0   \n",
       "231353  ['Sandwiches', 'Buffets', 'Restaurants', 'Brea...        4.0     0   \n",
       "232052  ['Sandwiches', 'Buffets', 'Restaurants', 'Brea...        4.0     0   \n",
       "232083  ['Sandwiches', 'Buffets', 'Restaurants', 'Brea...        4.0     0   \n",
       "\n",
       "        funny               review_id  stars  \\\n",
       "232857      0  AJj3ieLYKwTgBH6oF13Wug      4   \n",
       "229055      0  qTcCSNG_mQ0DdrQQhGcG7Q      2   \n",
       "231353      0  li1h9LJi6TZYDbhZABEN1g      5   \n",
       "232052      0  1un4PVs9VOyHiw_MBsgfyA      4   \n",
       "232083      0  zdGnzJRJvvt4pWvXLvB3ug      5   \n",
       "\n",
       "                                                     text  useful  \\\n",
       "232857  Its a pretty pricey buffet but well worth the ...       0   \n",
       "229055  Best way to describe this is place is \"meh\". T...       0   \n",
       "231353  One of the best buffets! Really expensive, so ...       1   \n",
       "232052  This is probably one of the better buffets in ...       1   \n",
       "232083  Not to expensive at 69 dollars a head worth it...       0   \n",
       "\n",
       "                       user_id  count  text_length  target  \n",
       "232857  Ou1m5256fPjdc0MBuie0Rw      1          371   False  \n",
       "229055  4Z1HOVGNXGMbK5Lfriagtg      1         1346   False  \n",
       "231353  WPtiYqNoXhte7k8D-eeuEw      1          316    True  \n",
       "232052  pEvhyxL7YAGrYsKB29VJvg      1          582   False  \n",
       "232083  ObyIhzEkZEtp7EEFNzcsDA      1           90    True  "
      ]
     },
     "execution_count": 38,
     "metadata": {},
     "output_type": "execute_result"
    }
   ],
   "source": [
    "df_top_restaurant.head()"
   ]
  },
  {
   "cell_type": "code",
   "execution_count": 39,
   "metadata": {},
   "outputs": [],
   "source": [
    "# Take the values of the column that contains review text data\n",
    "documents_top_restaurant = df_top_restaurant.text.values"
   ]
  },
  {
   "cell_type": "code",
   "execution_count": 40,
   "metadata": {},
   "outputs": [
    {
     "data": {
      "text/plain": [
       "1664"
      ]
     },
     "execution_count": 40,
     "metadata": {},
     "output_type": "execute_result"
    }
   ],
   "source": [
    "# This top restaurant contained 1664 reviews\n",
    "len(documents_top_restaurant)"
   ]
  },
  {
   "cell_type": "markdown",
   "metadata": {},
   "source": [
    "### 4.2 Define the target variable"
   ]
  },
  {
   "cell_type": "code",
   "execution_count": 41,
   "metadata": {},
   "outputs": [
    {
     "data": {
      "text/plain": [
       "232857    4\n",
       "229055    2\n",
       "231353    5\n",
       "232052    4\n",
       "232083    5\n",
       "Name: stars, dtype: int64"
      ]
     },
     "execution_count": 41,
     "metadata": {},
     "output_type": "execute_result"
    }
   ],
   "source": [
    "df_top_restaurant.stars.head()"
   ]
  },
  {
   "cell_type": "code",
   "execution_count": 42,
   "metadata": {},
   "outputs": [
    {
     "data": {
      "text/plain": [
       "1664"
      ]
     },
     "execution_count": 42,
     "metadata": {},
     "output_type": "execute_result"
    }
   ],
   "source": [
    "# Define the target values (boolean values)\n",
    "# Perfect (5 stars) and imperfect (1-4 stars) rating\n",
    "target = (df_top_restaurant.stars > 4).values.astype('int')\n",
    "len(target)"
   ]
  },
  {
   "cell_type": "code",
   "execution_count": 43,
   "metadata": {},
   "outputs": [
    {
     "name": "stdout",
     "output_type": "stream",
     "text": [
      "mean: 0.3864182692307692\n",
      "sd: 0.4869283216608642\n"
     ]
    }
   ],
   "source": [
    "# Check the statistic of the target variable\n",
    "print('mean:', np.mean(target))\n",
    "print('sd:', np.std(target))"
   ]
  },
  {
   "cell_type": "markdown",
   "metadata": {},
   "source": [
    "### 4.3 Create train and test datasets"
   ]
  },
  {
   "cell_type": "code",
   "execution_count": 44,
   "metadata": {},
   "outputs": [],
   "source": [
    "from sklearn.cross_validation import train_test_split"
   ]
  },
  {
   "cell_type": "code",
   "execution_count": 45,
   "metadata": {},
   "outputs": [],
   "source": [
    "# X: documents_top_restaurant\n",
    "# Y: target\n",
    "# Split the data into train and test sets (80% & 20%)\n",
    "document_train, document_test, target_train, target_test = train_test_split(documents_top_restaurant, target, \n",
    "                                                                            test_size = 0.2, random_state = 0)"
   ]
  },
  {
   "cell_type": "markdown",
   "metadata": {},
   "source": [
    "### 4.4 Get NLP representation of the documents"
   ]
  },
  {
   "cell_type": "code",
   "execution_count": 46,
   "metadata": {},
   "outputs": [],
   "source": [
    "from sklearn.feature_extraction.text import TfidfVectorizer"
   ]
  },
  {
   "cell_type": "code",
   "execution_count": 47,
   "metadata": {},
   "outputs": [],
   "source": [
    "# Create TfidfVectorizer\n",
    "vectorizer = TfidfVectorizer(stop_words=\"english\", max_features=2000)"
   ]
  },
  {
   "cell_type": "code",
   "execution_count": 48,
   "metadata": {},
   "outputs": [
    {
     "name": "stdout",
     "output_type": "stream",
     "text": [
      "(1331, 2000)\n"
     ]
    },
    {
     "name": "stderr",
     "output_type": "stream",
     "text": [
      "/Users/wuchenhong/anaconda3/lib/python3.6/site-packages/sklearn/feature_extraction/text.py:1089: FutureWarning: Conversion of the second argument of issubdtype from `float` to `np.floating` is deprecated. In future, it will be treated as `np.float64 == np.dtype(float).type`.\n",
      "  if hasattr(X, 'dtype') and np.issubdtype(X.dtype, np.float):\n"
     ]
    }
   ],
   "source": [
    "# Fit and transform only the train data\n",
    "vectors_train = vectorizer.fit_transform(document_train).toarray()\n",
    "print(vectors_train.shape)"
   ]
  },
  {
   "cell_type": "code",
   "execution_count": 49,
   "metadata": {},
   "outputs": [
    {
     "name": "stdout",
     "output_type": "stream",
     "text": [
      "2000\n"
     ]
    }
   ],
   "source": [
    "# Get the vocabularies\n",
    "vocab = vectorizer.get_feature_names()\n",
    "\n",
    "# max_features = 2000\n",
    "print(len(vocab))"
   ]
  },
  {
   "cell_type": "code",
   "execution_count": 50,
   "metadata": {},
   "outputs": [
    {
     "name": "stdout",
     "output_type": "stream",
     "text": [
      "(333, 2000)\n"
     ]
    },
    {
     "name": "stderr",
     "output_type": "stream",
     "text": [
      "/Users/wuchenhong/anaconda3/lib/python3.6/site-packages/sklearn/feature_extraction/text.py:1089: FutureWarning: Conversion of the second argument of issubdtype from `float` to `np.floating` is deprecated. In future, it will be treated as `np.float64 == np.dtype(float).type`.\n",
      "  if hasattr(X, 'dtype') and np.issubdtype(X.dtype, np.float):\n"
     ]
    }
   ],
   "source": [
    "# Use the fitted vectorizer to transform the test data\n",
    "vectors_test = vectorizer.transform(document_test).toarray()\n",
    "print(vectors_test.shape)"
   ]
  },
  {
   "cell_type": "code",
   "execution_count": 51,
   "metadata": {},
   "outputs": [
    {
     "name": "stderr",
     "output_type": "stream",
     "text": [
      "/Users/wuchenhong/anaconda3/lib/python3.6/site-packages/sklearn/feature_extraction/text.py:1089: FutureWarning: Conversion of the second argument of issubdtype from `float` to `np.floating` is deprecated. In future, it will be treated as `np.float64 == np.dtype(float).type`.\n",
      "  if hasattr(X, 'dtype') and np.issubdtype(X.dtype, np.float):\n"
     ]
    },
    {
     "name": "stdout",
     "output_type": "stream",
     "text": [
      "(1664, 2000)\n"
     ]
    }
   ],
   "source": [
    "# Use the fitted vectorizer to transform all data\n",
    "vectors_documents = vectorizer.transform(documents_top_restaurant).toarray()\n",
    "print(vectors_documents.shape)"
   ]
  },
  {
   "cell_type": "markdown",
   "metadata": {},
   "source": [
    "### 4.5 Cluster reviews with KMeans "
   ]
  },
  {
   "cell_type": "code",
   "execution_count": 52,
   "metadata": {},
   "outputs": [
    {
     "data": {
      "text/plain": [
       "KMeans(algorithm='auto', copy_x=True, init='k-means++', max_iter=300,\n",
       "    n_clusters=8, n_init=10, n_jobs=1, precompute_distances='auto',\n",
       "    random_state=None, tol=0.0001, verbose=0)"
      ]
     },
     "execution_count": 52,
     "metadata": {},
     "output_type": "execute_result"
    }
   ],
   "source": [
    "# Fit k-means clustering on the train vectors\n",
    "kmeans = KMeans()\n",
    "\n",
    "kmeans.fit(vectors_train)"
   ]
  },
  {
   "cell_type": "code",
   "execution_count": 53,
   "metadata": {},
   "outputs": [],
   "source": [
    "# Make predictions on all data\n",
    "predict_cluster = kmeans.predict(vectors_documents)"
   ]
  },
  {
   "cell_type": "code",
   "execution_count": 54,
   "metadata": {},
   "outputs": [],
   "source": [
    "# Inspect the top 10 words (features) in each centroid of each cluster\n",
    "index_by_centroid = []\n",
    "for centroid in kmeans.cluster_centers_:\n",
    "    index_ls = np.argsort(centroid)[::-1][:10]\n",
    "    index_by_centroid.append(index_ls)"
   ]
  },
  {
   "cell_type": "code",
   "execution_count": 55,
   "metadata": {},
   "outputs": [
    {
     "data": {
      "text/plain": [
       "[array([1892,  265,  202,  989,  713,  389, 1978, 1374,  266, 1900]),\n",
       " array([1016, 1910,  713, 1812, 1034,  882,  265,  883,  389, 1545]),\n",
       " array([ 444, 1001,  265,  515,  516, 1550,  713,  772,  966,  785]),\n",
       " array([ 785, 1567,  713, 1399,  625,  265, 1314,  772, 1892, 1978]),\n",
       " array([ 265,  713,  772, 1427, 1540, 1371, 1399, 1812,  952, 1009]),\n",
       " array([1695,  444,  265, 1009,  772, 1540, 1378, 1472,  713, 1597]),\n",
       " array([ 245, 1057,  530,  265, 1221,  713, 1371,  111, 1978,  389]),\n",
       " array([ 713,  111,  265,  772,  202, 1978, 1555, 1436, 1314, 1887])]"
      ]
     },
     "execution_count": 55,
     "metadata": {},
     "output_type": "execute_result"
    }
   ],
   "source": [
    "index_by_centroid"
   ]
  },
  {
   "cell_type": "markdown",
   "metadata": {},
   "source": [
    "#### Summary:\n",
    "- Some topics of clusters overlapped to each other, such as Cluster 2 and Cluster 5 are both mainly about seafood."
   ]
  },
  {
   "cell_type": "code",
   "execution_count": 56,
   "metadata": {},
   "outputs": [
    {
     "name": "stdout",
     "output_type": "stream",
     "text": [
      "Cluster 0: vegas, buffet, best, las, food, come, worth, pricey, buffets, visit\n",
      "Cluster 1: line, wait, food, time, long, hour, buffet, hours, come, seated\n",
      "Cluster 2: crab, legs, buffet, dessert, desserts, section, food, good, king, great\n",
      "Cluster 3: great, service, food, quality, excellent, buffet, place, good, vegas, worth\n",
      "Cluster 4: buffet, food, good, really, seafood, price, quality, time, just, like\n",
      "Cluster 5: station, crab, buffet, like, good, seafood, prime, rib, food, shrimp\n",
      "Cluster 6: breakfast, lunch, dinner, buffet, options, food, price, amazing, worth, come\n",
      "Cluster 7: food, amazing, buffet, good, best, worth, selection, recommend, place, variety\n"
     ]
    }
   ],
   "source": [
    "# Print out the top 10 words\n",
    "for number, index_ls in enumerate(index_by_centroid):\n",
    "    print(\"Cluster \"+str(number)+\":\", \", \".join(vocab[i] for i in index_ls))"
   ]
  },
  {
   "cell_type": "code",
   "execution_count": 57,
   "metadata": {},
   "outputs": [
    {
     "name": "stdout",
     "output_type": "stream",
     "text": [
      "Cluster 0:\n",
      "Star  3 : We ordered the Spicy Tonkotsu and Curry Ramen with side of eggs and bean sprouts. Really liked the tenderness of the char siu, the egg and bean sprout perfectly cooked. But the ramen and broth alone was nothing special in my opinion. We came in at 0200pm and it was pretty empty. Comparing to Hawaii prices, it's cheap for what you get!\n",
      "Star  2 : overpriced and food is mediocre. overall, service is mediocre to bad depending on the night. drinks are terrible. they either skimp on alcohol or serve any cocktail rather than admit they have no idea how to make the drink that was requested. and of course,they shoot dirty looks & bad attitude at customers who call them on their mistakes to boot.\n",
      "\n",
      "\n",
      "Cluster 1:\n",
      "Star  4 : Finally tried this place and it did not disappoint. I had their pepperoni pizza and my husband had a cold sub, both so delicious! Looking forward to going back.\n",
      "Star  4 : I had the lobster bisque it was extremely salty. The steak was cooked as like I have requested. I ordered the steak with the truffle butter, for $15.00, I could have done without it. The service was good and staff was friendly.\n",
      "\n",
      "\n",
      "Cluster 2:\n",
      "Star  5 : I always have a good experience here. I love their turkey sandwhich and house chips. Try dipping the chips in the fruit dip. yum. The service is so friendly. The runners that bring the food to you have always been kind every single time. Today my sever was Teddy who was really sweet to my 2 year old daughter. And answered all her silly questions. :) thanks for a tasty lunch jason deli!\n",
      "Star  5 : The sports deli had amazing food. I was very impressed. There was a slight wait for the food but it was well worth it. I just have to say that it was really busy and Brian (the one calling the orders out) was doing an excellent job keeping up with the fast pace and gave me excellent customer service. He was very nice and I personally saw him make other guests very happy as well. I really hope management sees the great work Brian and the team is doing. As a frequent Vegas guest, I will for sure be back to the Rio and the Sports Deli because of Brian and his excellent staff. Great job guys!!!\n",
      "\n",
      "\n",
      "Cluster 3:\n",
      "Star  4 : It was BUSY today, probably the long weekend and lots of people here in Vegas.\n",
      "Hostess gave us a number quickly and the wait was about 20 minutes, for table of 4.\n",
      "Despite the flood of people, the server gpt us our tea and first round of carts came by with hot food!\n",
      "After a bit however, the carts that came by were mpstly empty, didn't prep enough food for weelend rush? But, the cart pushers quickly put in an order to the kitchen for what we wanted and a fresh dish was brought to our table in a few minutes.\n",
      "Taste is good, and service is great. People cane around frequently to check for empty dishes, refill our tea and water. Enjoyed our lunch here!\n",
      "Star  4 : Good meat quality, reasonable prices. Plates are small, two people will spend over $50 easily. Side dishes can use more variety and better flavor.\n",
      "\n",
      "\n",
      "Cluster 4:\n",
      "Star  1 : Our server Stephanie was excellent I do recommended to everybody but sorry Stephanie your old Phillipino cashier made us bad dinner the end & obviously got reflected to your tip.  My boyfriend went to pay at cashier using his credit card she was keep asking him if he need use calculator to figured out how much the tip will be made him feel like damn ass plus she looked at me asked my boyfriend if I was his mother.   He told her no that's my girlfriend....   She was telling him sorry her glasses is bad or something.   She just need keep her mouth shut & do what she needs to do.  Thanks for good dinner mama Sue\n",
      "Star  3 : The burger was so-so and the money adds up as you put your toppings on. I've read that their cheesesteaks are the things to get so maybe because their thermostat was on the blink they took less than perfect care of our cheeseburger order, the next time I visit here I'll try the cheesesteak.\n",
      "\n",
      "\n",
      "Cluster 5:\n",
      "Star  4 : The best NY style pizza in town. Ask for fresh hot garlic knots while waiting.\n",
      "A large variety of dishes and wonderful Italian pastries .z\n",
      "Star  3 : I was kind of shocked at how little pho spots there are on the Strip. Pho is the ULTIMATE hangover food and there's like, one? I was drunk, asleep, and back up with a hangover at seven p.m. and pho was the only cure for me. My boyfriend and I made the trek all the way from MGM to Treasure Island for this pho. The service was really great, actually. Our waiter was very attentive and didn't have us wait at all. I ordered the steak flank pho, and my boyfriend just asked for a bowl of broth, which was moderately priced at $5. It was a pretty good sized bowl. My bowl, however, was $15. Was it worth that? No. The portion was great. The broth was a little above average, and the noodles were just like any other, but the meat... The meat was chewy and knotty. That always turns me off at pho restaurants. Just felt nasty and hard to eat. If you're like me and pho is what you need, though, this place will do the job.\n",
      "\n",
      "\n",
      "Cluster 6:\n",
      "Star  3 : good food. good service, but some items are too salty.\n",
      "i probably wont come back again.\n",
      "Star  5 : This place is AWESOME!!  I have been waiting for good Greek food to come to the Southwest and it is finally here.  The food is the freshest in Las Vegas.  I had the Great Greek Gyro and it was packed with flavorful beef/lamb meat.  It is clear that they make their own tzatziki sauce because it was just so fresh and tasty.  The cashier talked me into the feta fries and I will be indebted to her forever.  They are a must get every time.  My wife had a salad with a chicken skewer.  She hasn't stopped talking about it.  The veggies were so fresh and the chicken was tender and had great flavor.  Do yourself a favor and save some room for dessert.  The rice pudding and baklava ice cream are both outstanding.  \n",
      "\n",
      "The restaurant is clean and the decor is very tasteful. \n",
      "\n",
      "The staff is super friendly and helpful and I just absolutely love this place.\n",
      "\n",
      "Thanks Great Greek for making this my new favorite restaurant.\n",
      "\n",
      "\n",
      "Cluster 7:\n",
      "Star  5 : It's an amazing place just around the corner from Fremont Street. The food is delicious and healthy too. Me and my husband were very hungry and did not find any good place to have some veggies in downtown area. We stumbled upon this place on yelp and oh yeah we found a gem. They have good variety of food. We ordered hummus which looked different from regular but tasted equally good. Then the entre -chicken pot pie and quesadilla were amazing, very yummy! We took the left overs and made sure to finish it off in dinner(couldn't waste a bite of it). Service was really nice and fast, ambience was good too! I highly recommend this place!\n",
      "Star  3 : Wanted this experience to be great.  I knew the former owner of Joe's, and decided to support the restaurant while we were in Las Vegas for a convention with our employees. The short of it was that our food was pretty good, but the service was abrupt and bordering on rude. The maitre d' showed us to our table and just threw the menus out. The waiter took our orders quickly as if he had much better things to do. I ordered a glass of rose then a bottle of wine for the table. The waiter basically poured a glass of white wine into my not yet finished rose glass and when I pointed it out, he had nothing to say.  \n",
      "\n",
      "Won't be going back.\n",
      "\n",
      "\n"
     ]
    }
   ],
   "source": [
    "# Print out the rating and review of a random sample of the reviews assigned to each cluster \n",
    "# to get a sense of the cluster\n",
    "for i in range(kmeans.n_clusters):\n",
    "    # create a filter for each cluster\n",
    "    cluster = np.arange(0, vectors_documents.shape[0])[predict_cluster==i]\n",
    "    \n",
    "    # randomly select two reviews without replacement\n",
    "    sample_reviews = np.random.choice(cluster, 2, replace = False)\n",
    "    \n",
    "    # return results\n",
    "    print(\"Cluster \"+str(i)+\":\")\n",
    "    for sample_index in sample_reviews:\n",
    "        print(\"Star \",df.iloc[sample_index].stars,\":\",\n",
    "              df.iloc[sample_index].text)\n",
    "    print('\\n')"
   ]
  },
  {
   "cell_type": "markdown",
   "metadata": {},
   "source": [
    "## 5. Use PCA to reduce dimensionality\n",
    "- 5.1 Stardardize features\n",
    "- 5.2 Use PCA to transform data (train and test) and get princial components\n",
    "- 5.3 See how much (and how much percentage of) variance the principal components explain\n",
    "- 5.4 Plot proportion of variance explained with top K principal components\n"
   ]
  },
  {
   "cell_type": "markdown",
   "metadata": {},
   "source": [
    "### 5.1 Stardardize features"
   ]
  },
  {
   "cell_type": "code",
   "execution_count": 58,
   "metadata": {},
   "outputs": [],
   "source": [
    "from sklearn.preprocessing import StandardScaler\n",
    "\n",
    "scaler = StandardScaler()\n",
    "\n",
    "scale_train_X = scaler.fit_transform(vectors_train)\n",
    "scale_test_X = scaler.transform(vectors_test)"
   ]
  },
  {
   "cell_type": "code",
   "execution_count": 59,
   "metadata": {},
   "outputs": [
    {
     "name": "stdout",
     "output_type": "stream",
     "text": [
      "(1331, 2000)\n",
      "(333, 2000)\n"
     ]
    }
   ],
   "source": [
    "print(scale_train_X.shape)\n",
    "print(scale_test_X.shape)"
   ]
  },
  {
   "cell_type": "markdown",
   "metadata": {},
   "source": [
    "### 5.2 Use PCA to transform data (train and test) and get princial components"
   ]
  },
  {
   "cell_type": "code",
   "execution_count": 60,
   "metadata": {},
   "outputs": [],
   "source": [
    "from sklearn.decomposition import PCA\n",
    "\n",
    "n_components = 50\n",
    "pca = PCA(n_components=n_components, random_state=0)\n",
    "\n",
    "train_components = pca.fit_transform(scale_train_X)\n",
    "test_components = pca.transform(scale_test_X)"
   ]
  },
  {
   "cell_type": "code",
   "execution_count": 61,
   "metadata": {},
   "outputs": [
    {
     "name": "stdout",
     "output_type": "stream",
     "text": [
      "(1331, 50)\n",
      "(333, 50)\n"
     ]
    }
   ],
   "source": [
    "print(train_components.shape)\n",
    "print(test_components.shape)"
   ]
  },
  {
   "cell_type": "markdown",
   "metadata": {},
   "source": [
    "### 5.3 See how much (and how much percentage of) variance the principal components explain"
   ]
  },
  {
   "cell_type": "code",
   "execution_count": 62,
   "metadata": {},
   "outputs": [
    {
     "data": {
      "text/plain": [
       "50"
      ]
     },
     "execution_count": 62,
     "metadata": {},
     "output_type": "execute_result"
    }
   ],
   "source": [
    "# 50 pca components\n",
    "len(pca.explained_variance_)"
   ]
  },
  {
   "cell_type": "code",
   "execution_count": 124,
   "metadata": {},
   "outputs": [
    {
     "data": {
      "text/plain": [
       "array([11.998819  ,  8.99251043,  6.42989189,  6.23401966,  6.0181846 ,\n",
       "        5.59834976,  5.4918519 ,  5.36234717,  5.32027821,  5.25393794])"
      ]
     },
     "execution_count": 124,
     "metadata": {},
     "output_type": "execute_result"
    }
   ],
   "source": [
    "# Look at the variance of top 10 pca components\n",
    "pca.explained_variance_[:10]"
   ]
  },
  {
   "cell_type": "code",
   "execution_count": 63,
   "metadata": {},
   "outputs": [
    {
     "data": {
      "text/plain": [
       "array([0.0059949 , 0.00449288, 0.00321253, 0.00311467, 0.00300683,\n",
       "       0.00279707, 0.00274386, 0.00267916, 0.00265814, 0.002625  ])"
      ]
     },
     "execution_count": 63,
     "metadata": {},
     "output_type": "execute_result"
    }
   ],
   "source": [
    "# Look at the ratio of variance of top 10 pca components\n",
    "pca.explained_variance_ratio_[:10]"
   ]
  },
  {
   "cell_type": "code",
   "execution_count": 64,
   "metadata": {},
   "outputs": [
    {
     "data": {
      "text/plain": [
       "0.12472824024647967"
      ]
     },
     "execution_count": 64,
     "metadata": {},
     "output_type": "execute_result"
    }
   ],
   "source": [
    "# In total, 50 pca components explained only 12.47% of total variance\n",
    "sum(pca.explained_variance_ratio_)"
   ]
  },
  {
   "cell_type": "code",
   "execution_count": 66,
   "metadata": {},
   "outputs": [
    {
     "data": {
      "text/plain": [
       "Text(0,0.5,'Variance Explained')"
      ]
     },
     "execution_count": 66,
     "metadata": {},
     "output_type": "execute_result"
    },
    {
     "data": {
      "image/png": "[encoded data removed]",
      "text/plain": [
       "<matplotlib.figure.Figure at 0x12074f278>"
      ]
     },
     "metadata": {},
     "output_type": "display_data"
    }
   ],
   "source": [
    "# 50 pca components\n",
    "plt.figure(figsize = (12, 8))\n",
    "\n",
    "pca_range = np.arange(n_components) + 1\n",
    "\n",
    "# Record names \n",
    "pca_names = ['PCA_%s' % i for i in pca_range]\n",
    "\n",
    "plt.bar(pca_range, pca.explained_variance_, align='center')\n",
    "\n",
    "xticks = plt.xticks(pca_range, pca_names, rotation=90)\n",
    "\n",
    "plt.ylabel('Variance Explained')"
   ]
  },
  {
   "cell_type": "markdown",
   "metadata": {},
   "source": [
    "### 5.4 Plot proportion of variance explained with top K principal components"
   ]
  },
  {
   "cell_type": "code",
   "execution_count": 67,
   "metadata": {},
   "outputs": [
    {
     "data": {
      "text/plain": [
       "Text(0,0.5,'Variance Explained')"
      ]
     },
     "execution_count": 67,
     "metadata": {},
     "output_type": "execute_result"
    },
    {
     "data": {
      "image/png": "[encoded data removed]",
      "text/plain": [
       "<matplotlib.figure.Figure at 0x11a69f8d0>"
      ]
     },
     "metadata": {},
     "output_type": "display_data"
    }
   ],
   "source": [
    "# For a clear display, plot 20 pca components\n",
    "plt.figure(figsize = (10, 8))\n",
    "\n",
    "pca_range = np.arange(20) + 1\n",
    "\n",
    "# Record names \n",
    "pca_names = ['PCA_%s' % i for i in pca_range]\n",
    "\n",
    "# Plot a bar chart by variance\n",
    "plt.bar(pca_range, pca.explained_variance_[:20], align='center')\n",
    "\n",
    "xticks = plt.xticks(pca_range, pca_names, rotation=90)\n",
    "\n",
    "plt.ylabel('Variance Explained')"
   ]
  },
  {
   "cell_type": "markdown",
   "metadata": {},
   "source": [
    "## 6. Classifying positive/negative review with PCA preprocessing\n",
    "- 6.1 Logistic Regression Classifier\n",
    "    - 6.1.1 Use standardized tf-idf vectors as features\n",
    "    - 6.1.2 Use (Stardardized + PCA) tf-idf vectors as features\n",
    "    - 6.1.3 Summary\n",
    "    - 6.1.4 Visualization: PCA components \n",
    "- 6.2 Random Forest Classifier\n",
    "    - 6.2.1 Use standardized tf-idf vectors as features\n",
    "    - 6.2.2 Use (Stardardized + PCA) tf-idf vectors as features\n",
    "    - 6.2.3 Summary\n",
    "    - 6.2.4 Visualization: PCA components"
   ]
  },
  {
   "cell_type": "markdown",
   "metadata": {},
   "source": [
    "### 6.1 Logistic Regression Classifier"
   ]
  },
  {
   "cell_type": "markdown",
   "metadata": {},
   "source": [
    "#### 6.1.1 Use standardized tf-idf vectors as features"
   ]
  },
  {
   "cell_type": "code",
   "execution_count": 68,
   "metadata": {},
   "outputs": [
    {
     "data": {
      "text/plain": [
       "LogisticRegression(C=1.0, class_weight=None, dual=False, fit_intercept=True,\n",
       "          intercept_scaling=1, max_iter=100, multi_class='ovr', n_jobs=1,\n",
       "          penalty='l2', random_state=None, solver='liblinear', tol=0.0001,\n",
       "          verbose=0, warm_start=False)"
      ]
     },
     "execution_count": 68,
     "metadata": {},
     "output_type": "execute_result"
    }
   ],
   "source": [
    "# Build a Logistic Regression Classifier, train with standardized tf-idf vectors\n",
    "from sklearn.linear_model import LogisticRegression\n",
    "\n",
    "model = LogisticRegression()\n",
    "model.fit(scale_train_X, target_train)"
   ]
  },
  {
   "cell_type": "code",
   "execution_count": 69,
   "metadata": {},
   "outputs": [
    {
     "data": {
      "text/plain": [
       "0.9992486851990984"
      ]
     },
     "execution_count": 69,
     "metadata": {},
     "output_type": "execute_result"
    }
   ],
   "source": [
    "# Get the accuracy score for the train set\n",
    "model.score(scale_train_X, target_train)"
   ]
  },
  {
   "cell_type": "code",
   "execution_count": 70,
   "metadata": {
    "scrolled": true
   },
   "outputs": [
    {
     "data": {
      "text/plain": [
       "0.7087087087087087"
      ]
     },
     "execution_count": 70,
     "metadata": {},
     "output_type": "execute_result"
    }
   ],
   "source": [
    "# Get the accuracy score for the test set\n",
    "model.score(scale_test_X, target_test)"
   ]
  },
  {
   "cell_type": "markdown",
   "metadata": {},
   "source": [
    "#### 6.1.2 Use (Stardardized + PCA) tf-idf vectors as features"
   ]
  },
  {
   "cell_type": "code",
   "execution_count": 71,
   "metadata": {},
   "outputs": [
    {
     "data": {
      "text/plain": [
       "LogisticRegression(C=1.0, class_weight=None, dual=False, fit_intercept=True,\n",
       "          intercept_scaling=1, max_iter=100, multi_class='ovr', n_jobs=1,\n",
       "          penalty='l2', random_state=None, solver='liblinear', tol=0.0001,\n",
       "          verbose=0, warm_start=False)"
      ]
     },
     "execution_count": 71,
     "metadata": {},
     "output_type": "execute_result"
    }
   ],
   "source": [
    "# Build a Logistic Regression Classifier, train with PCA tranformed X\n",
    "\n",
    "from sklearn.linear_model import LogisticRegression\n",
    "\n",
    "# To be implemented\n",
    "model = LogisticRegression()\n",
    "model.fit(train_components, target_train)"
   ]
  },
  {
   "cell_type": "code",
   "execution_count": 72,
   "metadata": {},
   "outputs": [
    {
     "data": {
      "text/plain": [
       "0.7798647633358378"
      ]
     },
     "execution_count": 72,
     "metadata": {},
     "output_type": "execute_result"
    }
   ],
   "source": [
    "# Get score for training set\n",
    "model.score(train_components, target_train)"
   ]
  },
  {
   "cell_type": "code",
   "execution_count": 73,
   "metadata": {},
   "outputs": [
    {
     "data": {
      "text/plain": [
       "0.7657657657657657"
      ]
     },
     "execution_count": 73,
     "metadata": {},
     "output_type": "execute_result"
    }
   ],
   "source": [
    "# Get score for test set, REMEMBER to use PCA-transformed X!\n",
    "model.score(test_components, target_test)"
   ]
  },
  {
   "cell_type": "markdown",
   "metadata": {},
   "source": [
    "#### 6.1.3 Summary\n",
    "#### Q: What do I observed from the train score and the test score? What's the difference between the results from PCA and non-PCA preprocessing?\n",
    "A: Using only standardized tf-idf in the Logistic model produced an overfitting result from the train score to the test score, since the difference between the two datasets is very large, from 0.99 to 0.70. Using standardized pca components in the Logistic model produced a more steady result, the scores changed from 0.78 to 0.76."
   ]
  },
  {
   "cell_type": "markdown",
   "metadata": {},
   "source": [
    "#### 6.1.4 Visualization: PCA components "
   ]
  },
  {
   "cell_type": "code",
   "execution_count": 74,
   "metadata": {},
   "outputs": [],
   "source": [
    "# 50 pca components\n",
    "pca_range = np.arange(n_components) + 1\n",
    "\n",
    "# Record names \n",
    "pca_names = ['PCA_%s' % i for i in pca_range]"
   ]
  },
  {
   "cell_type": "code",
   "execution_count": 75,
   "metadata": {
    "scrolled": true
   },
   "outputs": [
    {
     "data": {
      "text/html": [
       "<div>\n",
       "<style scoped>\n",
       "    .dataframe tbody tr th:only-of-type {\n",
       "        vertical-align: middle;\n",
       "    }\n",
       "\n",
       "    .dataframe tbody tr th {\n",
       "        vertical-align: top;\n",
       "    }\n",
       "\n",
       "    .dataframe thead th {\n",
       "        text-align: right;\n",
       "    }\n",
       "</style>\n",
       "<table border=\"1\" class=\"dataframe\">\n",
       "  <thead>\n",
       "    <tr style=\"text-align: right;\">\n",
       "      <th></th>\n",
       "      <th>feature</th>\n",
       "      <th>coeff</th>\n",
       "    </tr>\n",
       "  </thead>\n",
       "  <tbody>\n",
       "    <tr>\n",
       "      <th>3</th>\n",
       "      <td>PCA_4</td>\n",
       "      <td>0.307776</td>\n",
       "    </tr>\n",
       "    <tr>\n",
       "      <th>5</th>\n",
       "      <td>PCA_6</td>\n",
       "      <td>0.167969</td>\n",
       "    </tr>\n",
       "    <tr>\n",
       "      <th>6</th>\n",
       "      <td>PCA_7</td>\n",
       "      <td>0.139959</td>\n",
       "    </tr>\n",
       "    <tr>\n",
       "      <th>8</th>\n",
       "      <td>PCA_9</td>\n",
       "      <td>0.106775</td>\n",
       "    </tr>\n",
       "    <tr>\n",
       "      <th>4</th>\n",
       "      <td>PCA_5</td>\n",
       "      <td>0.091399</td>\n",
       "    </tr>\n",
       "    <tr>\n",
       "      <th>41</th>\n",
       "      <td>PCA_42</td>\n",
       "      <td>0.051576</td>\n",
       "    </tr>\n",
       "    <tr>\n",
       "      <th>13</th>\n",
       "      <td>PCA_14</td>\n",
       "      <td>0.050884</td>\n",
       "    </tr>\n",
       "    <tr>\n",
       "      <th>35</th>\n",
       "      <td>PCA_36</td>\n",
       "      <td>0.043537</td>\n",
       "    </tr>\n",
       "    <tr>\n",
       "      <th>29</th>\n",
       "      <td>PCA_30</td>\n",
       "      <td>0.034106</td>\n",
       "    </tr>\n",
       "    <tr>\n",
       "      <th>39</th>\n",
       "      <td>PCA_40</td>\n",
       "      <td>0.029215</td>\n",
       "    </tr>\n",
       "    <tr>\n",
       "      <th>22</th>\n",
       "      <td>PCA_23</td>\n",
       "      <td>0.028628</td>\n",
       "    </tr>\n",
       "    <tr>\n",
       "      <th>37</th>\n",
       "      <td>PCA_38</td>\n",
       "      <td>0.026624</td>\n",
       "    </tr>\n",
       "    <tr>\n",
       "      <th>45</th>\n",
       "      <td>PCA_46</td>\n",
       "      <td>0.025865</td>\n",
       "    </tr>\n",
       "    <tr>\n",
       "      <th>20</th>\n",
       "      <td>PCA_21</td>\n",
       "      <td>0.024916</td>\n",
       "    </tr>\n",
       "    <tr>\n",
       "      <th>26</th>\n",
       "      <td>PCA_27</td>\n",
       "      <td>0.023990</td>\n",
       "    </tr>\n",
       "    <tr>\n",
       "      <th>42</th>\n",
       "      <td>PCA_43</td>\n",
       "      <td>0.023804</td>\n",
       "    </tr>\n",
       "    <tr>\n",
       "      <th>14</th>\n",
       "      <td>PCA_15</td>\n",
       "      <td>0.021323</td>\n",
       "    </tr>\n",
       "    <tr>\n",
       "      <th>43</th>\n",
       "      <td>PCA_44</td>\n",
       "      <td>0.019380</td>\n",
       "    </tr>\n",
       "    <tr>\n",
       "      <th>32</th>\n",
       "      <td>PCA_33</td>\n",
       "      <td>0.014845</td>\n",
       "    </tr>\n",
       "    <tr>\n",
       "      <th>49</th>\n",
       "      <td>PCA_50</td>\n",
       "      <td>0.013670</td>\n",
       "    </tr>\n",
       "    <tr>\n",
       "      <th>23</th>\n",
       "      <td>PCA_24</td>\n",
       "      <td>0.004130</td>\n",
       "    </tr>\n",
       "    <tr>\n",
       "      <th>25</th>\n",
       "      <td>PCA_26</td>\n",
       "      <td>-0.001076</td>\n",
       "    </tr>\n",
       "    <tr>\n",
       "      <th>47</th>\n",
       "      <td>PCA_48</td>\n",
       "      <td>-0.001996</td>\n",
       "    </tr>\n",
       "    <tr>\n",
       "      <th>36</th>\n",
       "      <td>PCA_37</td>\n",
       "      <td>-0.012086</td>\n",
       "    </tr>\n",
       "    <tr>\n",
       "      <th>17</th>\n",
       "      <td>PCA_18</td>\n",
       "      <td>-0.013588</td>\n",
       "    </tr>\n",
       "    <tr>\n",
       "      <th>21</th>\n",
       "      <td>PCA_22</td>\n",
       "      <td>-0.021532</td>\n",
       "    </tr>\n",
       "    <tr>\n",
       "      <th>34</th>\n",
       "      <td>PCA_35</td>\n",
       "      <td>-0.023404</td>\n",
       "    </tr>\n",
       "    <tr>\n",
       "      <th>30</th>\n",
       "      <td>PCA_31</td>\n",
       "      <td>-0.025264</td>\n",
       "    </tr>\n",
       "    <tr>\n",
       "      <th>38</th>\n",
       "      <td>PCA_39</td>\n",
       "      <td>-0.029708</td>\n",
       "    </tr>\n",
       "    <tr>\n",
       "      <th>0</th>\n",
       "      <td>PCA_1</td>\n",
       "      <td>-0.038944</td>\n",
       "    </tr>\n",
       "    <tr>\n",
       "      <th>27</th>\n",
       "      <td>PCA_28</td>\n",
       "      <td>-0.046718</td>\n",
       "    </tr>\n",
       "    <tr>\n",
       "      <th>33</th>\n",
       "      <td>PCA_34</td>\n",
       "      <td>-0.047766</td>\n",
       "    </tr>\n",
       "    <tr>\n",
       "      <th>28</th>\n",
       "      <td>PCA_29</td>\n",
       "      <td>-0.049834</td>\n",
       "    </tr>\n",
       "    <tr>\n",
       "      <th>15</th>\n",
       "      <td>PCA_16</td>\n",
       "      <td>-0.051149</td>\n",
       "    </tr>\n",
       "    <tr>\n",
       "      <th>12</th>\n",
       "      <td>PCA_13</td>\n",
       "      <td>-0.054919</td>\n",
       "    </tr>\n",
       "    <tr>\n",
       "      <th>7</th>\n",
       "      <td>PCA_8</td>\n",
       "      <td>-0.058716</td>\n",
       "    </tr>\n",
       "    <tr>\n",
       "      <th>48</th>\n",
       "      <td>PCA_49</td>\n",
       "      <td>-0.059955</td>\n",
       "    </tr>\n",
       "    <tr>\n",
       "      <th>11</th>\n",
       "      <td>PCA_12</td>\n",
       "      <td>-0.060495</td>\n",
       "    </tr>\n",
       "    <tr>\n",
       "      <th>24</th>\n",
       "      <td>PCA_25</td>\n",
       "      <td>-0.061228</td>\n",
       "    </tr>\n",
       "    <tr>\n",
       "      <th>18</th>\n",
       "      <td>PCA_19</td>\n",
       "      <td>-0.062265</td>\n",
       "    </tr>\n",
       "    <tr>\n",
       "      <th>40</th>\n",
       "      <td>PCA_41</td>\n",
       "      <td>-0.063081</td>\n",
       "    </tr>\n",
       "    <tr>\n",
       "      <th>46</th>\n",
       "      <td>PCA_47</td>\n",
       "      <td>-0.084582</td>\n",
       "    </tr>\n",
       "    <tr>\n",
       "      <th>16</th>\n",
       "      <td>PCA_17</td>\n",
       "      <td>-0.086731</td>\n",
       "    </tr>\n",
       "    <tr>\n",
       "      <th>9</th>\n",
       "      <td>PCA_10</td>\n",
       "      <td>-0.109585</td>\n",
       "    </tr>\n",
       "    <tr>\n",
       "      <th>44</th>\n",
       "      <td>PCA_45</td>\n",
       "      <td>-0.115658</td>\n",
       "    </tr>\n",
       "    <tr>\n",
       "      <th>31</th>\n",
       "      <td>PCA_32</td>\n",
       "      <td>-0.121550</td>\n",
       "    </tr>\n",
       "    <tr>\n",
       "      <th>19</th>\n",
       "      <td>PCA_20</td>\n",
       "      <td>-0.168377</td>\n",
       "    </tr>\n",
       "    <tr>\n",
       "      <th>10</th>\n",
       "      <td>PCA_11</td>\n",
       "      <td>-0.212252</td>\n",
       "    </tr>\n",
       "    <tr>\n",
       "      <th>1</th>\n",
       "      <td>PCA_2</td>\n",
       "      <td>-0.343714</td>\n",
       "    </tr>\n",
       "    <tr>\n",
       "      <th>2</th>\n",
       "      <td>PCA_3</td>\n",
       "      <td>-0.356955</td>\n",
       "    </tr>\n",
       "  </tbody>\n",
       "</table>\n",
       "</div>"
      ],
      "text/plain": [
       "   feature     coeff\n",
       "3    PCA_4  0.307776\n",
       "5    PCA_6  0.167969\n",
       "6    PCA_7  0.139959\n",
       "8    PCA_9  0.106775\n",
       "4    PCA_5  0.091399\n",
       "41  PCA_42  0.051576\n",
       "13  PCA_14  0.050884\n",
       "35  PCA_36  0.043537\n",
       "29  PCA_30  0.034106\n",
       "39  PCA_40  0.029215\n",
       "22  PCA_23  0.028628\n",
       "37  PCA_38  0.026624\n",
       "45  PCA_46  0.025865\n",
       "20  PCA_21  0.024916\n",
       "26  PCA_27  0.023990\n",
       "42  PCA_43  0.023804\n",
       "14  PCA_15  0.021323\n",
       "43  PCA_44  0.019380\n",
       "32  PCA_33  0.014845\n",
       "49  PCA_50  0.013670\n",
       "23  PCA_24  0.004130\n",
       "25  PCA_26 -0.001076\n",
       "47  PCA_48 -0.001996\n",
       "36  PCA_37 -0.012086\n",
       "17  PCA_18 -0.013588\n",
       "21  PCA_22 -0.021532\n",
       "34  PCA_35 -0.023404\n",
       "30  PCA_31 -0.025264\n",
       "38  PCA_39 -0.029708\n",
       "0    PCA_1 -0.038944\n",
       "27  PCA_28 -0.046718\n",
       "33  PCA_34 -0.047766\n",
       "28  PCA_29 -0.049834\n",
       "15  PCA_16 -0.051149\n",
       "12  PCA_13 -0.054919\n",
       "7    PCA_8 -0.058716\n",
       "48  PCA_49 -0.059955\n",
       "11  PCA_12 -0.060495\n",
       "24  PCA_25 -0.061228\n",
       "18  PCA_19 -0.062265\n",
       "40  PCA_41 -0.063081\n",
       "46  PCA_47 -0.084582\n",
       "16  PCA_17 -0.086731\n",
       "9   PCA_10 -0.109585\n",
       "44  PCA_45 -0.115658\n",
       "31  PCA_32 -0.121550\n",
       "19  PCA_20 -0.168377\n",
       "10  PCA_11 -0.212252\n",
       "1    PCA_2 -0.343714\n",
       "2    PCA_3 -0.356955"
      ]
     },
     "execution_count": 75,
     "metadata": {},
     "output_type": "execute_result"
    }
   ],
   "source": [
    "df_coeffs = pd.DataFrame(list(zip(pca_names, model.coef_.flatten()))).sort_values(by=[1], ascending=False)\n",
    "df_coeffs.columns = ['feature', 'coeff']\n",
    "df_coeffs"
   ]
  },
  {
   "cell_type": "code",
   "execution_count": 76,
   "metadata": {},
   "outputs": [
    {
     "data": {
      "image/png": "[encoded data removed]",
      "text/plain": [
       "<matplotlib.figure.Figure at 0x11a765c18>"
      ]
     },
     "metadata": {},
     "output_type": "display_data"
    }
   ],
   "source": [
    "# plot a bar chart of coefficients against principal components \n",
    "ax = df_coeffs.plot.barh(figsize = (17,12))\n",
    "t = np.arange(50)\n",
    "ax.set_yticks(t)\n",
    "ax.set_yticklabels(df_coeffs['feature'])\n",
    "plt.show()"
   ]
  },
  {
   "cell_type": "markdown",
   "metadata": {},
   "source": [
    "### 6.2 Random Forest Classifier"
   ]
  },
  {
   "cell_type": "markdown",
   "metadata": {},
   "source": [
    "#### 6.2.1 Use standardized tf-idf vectors as features"
   ]
  },
  {
   "cell_type": "code",
   "execution_count": 77,
   "metadata": {},
   "outputs": [
    {
     "data": {
      "text/plain": [
       "RandomForestClassifier(bootstrap=True, class_weight=None, criterion='gini',\n",
       "            max_depth=25, max_features='auto', max_leaf_nodes=None,\n",
       "            min_impurity_decrease=0.0, min_impurity_split=None,\n",
       "            min_samples_leaf=5, min_samples_split=2,\n",
       "            min_weight_fraction_leaf=0.0, n_estimators=100, n_jobs=1,\n",
       "            oob_score=False, random_state=1, verbose=0, warm_start=False)"
      ]
     },
     "execution_count": 77,
     "metadata": {},
     "output_type": "execute_result"
    }
   ],
   "source": [
    "# Build a Random Forest Classifier\n",
    "from sklearn.ensemble import RandomForestClassifier\n",
    "\n",
    "model = RandomForestClassifier(n_estimators = 100, max_depth = 25, min_samples_leaf = 5, random_state = 1)\n",
    "model.fit(scale_train_X, target_train)"
   ]
  },
  {
   "cell_type": "code",
   "execution_count": 78,
   "metadata": {},
   "outputs": [
    {
     "data": {
      "text/plain": [
       "0.8858001502629602"
      ]
     },
     "execution_count": 78,
     "metadata": {},
     "output_type": "execute_result"
    }
   ],
   "source": [
    "# Get the accuracy score for the train set\n",
    "model.score(scale_train_X, target_train)"
   ]
  },
  {
   "cell_type": "code",
   "execution_count": 79,
   "metadata": {
    "scrolled": true
   },
   "outputs": [
    {
     "data": {
      "text/plain": [
       "0.7477477477477478"
      ]
     },
     "execution_count": 79,
     "metadata": {},
     "output_type": "execute_result"
    }
   ],
   "source": [
    "# Get the accuracy score for the test set\n",
    "model.score(scale_test_X, target_test)"
   ]
  },
  {
   "cell_type": "markdown",
   "metadata": {},
   "source": [
    "#### 6.2.2 Use (Stardardized + PCA) tf-idf vectors as features"
   ]
  },
  {
   "cell_type": "code",
   "execution_count": 80,
   "metadata": {},
   "outputs": [
    {
     "data": {
      "text/plain": [
       "RandomForestClassifier(bootstrap=True, class_weight=None, criterion='gini',\n",
       "            max_depth=25, max_features='auto', max_leaf_nodes=None,\n",
       "            min_impurity_decrease=0.0, min_impurity_split=None,\n",
       "            min_samples_leaf=5, min_samples_split=2,\n",
       "            min_weight_fraction_leaf=0.0, n_estimators=100, n_jobs=1,\n",
       "            oob_score=False, random_state=1, verbose=0, warm_start=False)"
      ]
     },
     "execution_count": 80,
     "metadata": {},
     "output_type": "execute_result"
    }
   ],
   "source": [
    "# Build a Random Forest Classifier\n",
    "from sklearn.ensemble import RandomForestClassifier\n",
    "\n",
    "model = RandomForestClassifier(n_estimators = 100, max_depth = 25, min_samples_leaf = 5, random_state = 1)\n",
    "model.fit(train_components, target_train)"
   ]
  },
  {
   "cell_type": "code",
   "execution_count": 81,
   "metadata": {},
   "outputs": [
    {
     "data": {
      "text/plain": [
       "0.9729526671675433"
      ]
     },
     "execution_count": 81,
     "metadata": {},
     "output_type": "execute_result"
    }
   ],
   "source": [
    "# Get the accuracy score for the train set\n",
    "model.score(train_components, target_train)"
   ]
  },
  {
   "cell_type": "code",
   "execution_count": 82,
   "metadata": {},
   "outputs": [
    {
     "data": {
      "text/plain": [
       "0.7207207207207207"
      ]
     },
     "execution_count": 82,
     "metadata": {},
     "output_type": "execute_result"
    }
   ],
   "source": [
    "# Get the accuracy score for the test set\n",
    "model.score(test_components, target_test)"
   ]
  },
  {
   "cell_type": "markdown",
   "metadata": {},
   "source": [
    "#### 6.2.3 Summary\n",
    "#### Q: What do I observe from the train result and the test result?"
   ]
  },
  {
   "cell_type": "markdown",
   "metadata": {},
   "source": [
    "A: \n",
    "1. In Random Forest \n",
    "    - Using only standardized tf-idf in the Random Forest model produced a more steady result. The scores changed from 0.89 to 0.75, but it's still a big difference between train and test score.\n",
    "    - However, previously we saw using standardized pca components in the Logistic model reduced an overfitting issue, but in this time using standardized pca components in the Random Forest model can't help us solve the problem. Moreover, using standardized pca components provides a more unstable result which is more serious compared with using only standardized tf-idf.\n",
    "2. Between Logistic and Random Forest\n",
    "    - In general, using standardized pca components in a steady model, such as Logistic model through this example is a favorable choice to start. For a high-variance model, such as Random Forest, both methods, using only standardized tf-idf and using standardized pca components, can't work well as we expected. \n",
    "    - In a detailed summary, if reduce the number of variables in a Logistic model, or equivalently using 50 standardized pca components, we can improve an overfitting issue because of a simpler Logistic model. On the other hand, the goal of the Random Forest is to lower down an overall variance by randomly using a portion of features to generate each tree structure seperately. Using a less number of pca components can lead to an issue that each tree structure is more likely to be the same with other trees' structures. Therefore, using a less number of pca components results in an overfitting issue."
   ]
  },
  {
   "cell_type": "markdown",
   "metadata": {},
   "source": [
    "#### 6.2.4 Visualization: PCA components"
   ]
  },
  {
   "cell_type": "code",
   "execution_count": 83,
   "metadata": {},
   "outputs": [],
   "source": [
    "# 50 pca components\n",
    "pca_range = np.arange(n_components) + 1\n",
    "\n",
    "# Record names \n",
    "pca_names = ['PCA_%s' % i for i in pca_range]"
   ]
  },
  {
   "cell_type": "code",
   "execution_count": 84,
   "metadata": {
    "scrolled": true
   },
   "outputs": [
    {
     "data": {
      "text/html": [
       "<div>\n",
       "<style scoped>\n",
       "    .dataframe tbody tr th:only-of-type {\n",
       "        vertical-align: middle;\n",
       "    }\n",
       "\n",
       "    .dataframe tbody tr th {\n",
       "        vertical-align: top;\n",
       "    }\n",
       "\n",
       "    .dataframe thead th {\n",
       "        text-align: right;\n",
       "    }\n",
       "</style>\n",
       "<table border=\"1\" class=\"dataframe\">\n",
       "  <thead>\n",
       "    <tr style=\"text-align: right;\">\n",
       "      <th></th>\n",
       "      <th>feature</th>\n",
       "      <th>coeff</th>\n",
       "    </tr>\n",
       "  </thead>\n",
       "  <tbody>\n",
       "    <tr>\n",
       "      <th>1</th>\n",
       "      <td>PCA_2</td>\n",
       "      <td>0.094642</td>\n",
       "    </tr>\n",
       "    <tr>\n",
       "      <th>2</th>\n",
       "      <td>PCA_3</td>\n",
       "      <td>0.087672</td>\n",
       "    </tr>\n",
       "    <tr>\n",
       "      <th>3</th>\n",
       "      <td>PCA_4</td>\n",
       "      <td>0.069740</td>\n",
       "    </tr>\n",
       "    <tr>\n",
       "      <th>5</th>\n",
       "      <td>PCA_6</td>\n",
       "      <td>0.039372</td>\n",
       "    </tr>\n",
       "    <tr>\n",
       "      <th>6</th>\n",
       "      <td>PCA_7</td>\n",
       "      <td>0.027173</td>\n",
       "    </tr>\n",
       "    <tr>\n",
       "      <th>9</th>\n",
       "      <td>PCA_10</td>\n",
       "      <td>0.026610</td>\n",
       "    </tr>\n",
       "    <tr>\n",
       "      <th>10</th>\n",
       "      <td>PCA_11</td>\n",
       "      <td>0.026109</td>\n",
       "    </tr>\n",
       "    <tr>\n",
       "      <th>8</th>\n",
       "      <td>PCA_9</td>\n",
       "      <td>0.022177</td>\n",
       "    </tr>\n",
       "    <tr>\n",
       "      <th>4</th>\n",
       "      <td>PCA_5</td>\n",
       "      <td>0.021256</td>\n",
       "    </tr>\n",
       "    <tr>\n",
       "      <th>46</th>\n",
       "      <td>PCA_47</td>\n",
       "      <td>0.020999</td>\n",
       "    </tr>\n",
       "    <tr>\n",
       "      <th>27</th>\n",
       "      <td>PCA_28</td>\n",
       "      <td>0.020841</td>\n",
       "    </tr>\n",
       "    <tr>\n",
       "      <th>19</th>\n",
       "      <td>PCA_20</td>\n",
       "      <td>0.020761</td>\n",
       "    </tr>\n",
       "    <tr>\n",
       "      <th>0</th>\n",
       "      <td>PCA_1</td>\n",
       "      <td>0.019947</td>\n",
       "    </tr>\n",
       "    <tr>\n",
       "      <th>16</th>\n",
       "      <td>PCA_17</td>\n",
       "      <td>0.018108</td>\n",
       "    </tr>\n",
       "    <tr>\n",
       "      <th>37</th>\n",
       "      <td>PCA_38</td>\n",
       "      <td>0.016306</td>\n",
       "    </tr>\n",
       "    <tr>\n",
       "      <th>40</th>\n",
       "      <td>PCA_41</td>\n",
       "      <td>0.016125</td>\n",
       "    </tr>\n",
       "    <tr>\n",
       "      <th>48</th>\n",
       "      <td>PCA_49</td>\n",
       "      <td>0.015583</td>\n",
       "    </tr>\n",
       "    <tr>\n",
       "      <th>11</th>\n",
       "      <td>PCA_12</td>\n",
       "      <td>0.015573</td>\n",
       "    </tr>\n",
       "    <tr>\n",
       "      <th>34</th>\n",
       "      <td>PCA_35</td>\n",
       "      <td>0.015551</td>\n",
       "    </tr>\n",
       "    <tr>\n",
       "      <th>44</th>\n",
       "      <td>PCA_45</td>\n",
       "      <td>0.015293</td>\n",
       "    </tr>\n",
       "    <tr>\n",
       "      <th>25</th>\n",
       "      <td>PCA_26</td>\n",
       "      <td>0.014656</td>\n",
       "    </tr>\n",
       "    <tr>\n",
       "      <th>18</th>\n",
       "      <td>PCA_19</td>\n",
       "      <td>0.014466</td>\n",
       "    </tr>\n",
       "    <tr>\n",
       "      <th>28</th>\n",
       "      <td>PCA_29</td>\n",
       "      <td>0.014413</td>\n",
       "    </tr>\n",
       "    <tr>\n",
       "      <th>17</th>\n",
       "      <td>PCA_18</td>\n",
       "      <td>0.014409</td>\n",
       "    </tr>\n",
       "    <tr>\n",
       "      <th>47</th>\n",
       "      <td>PCA_48</td>\n",
       "      <td>0.013914</td>\n",
       "    </tr>\n",
       "    <tr>\n",
       "      <th>22</th>\n",
       "      <td>PCA_23</td>\n",
       "      <td>0.013889</td>\n",
       "    </tr>\n",
       "    <tr>\n",
       "      <th>7</th>\n",
       "      <td>PCA_8</td>\n",
       "      <td>0.013772</td>\n",
       "    </tr>\n",
       "    <tr>\n",
       "      <th>35</th>\n",
       "      <td>PCA_36</td>\n",
       "      <td>0.013663</td>\n",
       "    </tr>\n",
       "    <tr>\n",
       "      <th>49</th>\n",
       "      <td>PCA_50</td>\n",
       "      <td>0.013530</td>\n",
       "    </tr>\n",
       "    <tr>\n",
       "      <th>20</th>\n",
       "      <td>PCA_21</td>\n",
       "      <td>0.013353</td>\n",
       "    </tr>\n",
       "    <tr>\n",
       "      <th>38</th>\n",
       "      <td>PCA_39</td>\n",
       "      <td>0.013336</td>\n",
       "    </tr>\n",
       "    <tr>\n",
       "      <th>33</th>\n",
       "      <td>PCA_34</td>\n",
       "      <td>0.013254</td>\n",
       "    </tr>\n",
       "    <tr>\n",
       "      <th>39</th>\n",
       "      <td>PCA_40</td>\n",
       "      <td>0.013247</td>\n",
       "    </tr>\n",
       "    <tr>\n",
       "      <th>26</th>\n",
       "      <td>PCA_27</td>\n",
       "      <td>0.013151</td>\n",
       "    </tr>\n",
       "    <tr>\n",
       "      <th>36</th>\n",
       "      <td>PCA_37</td>\n",
       "      <td>0.013138</td>\n",
       "    </tr>\n",
       "    <tr>\n",
       "      <th>14</th>\n",
       "      <td>PCA_15</td>\n",
       "      <td>0.013123</td>\n",
       "    </tr>\n",
       "    <tr>\n",
       "      <th>23</th>\n",
       "      <td>PCA_24</td>\n",
       "      <td>0.013023</td>\n",
       "    </tr>\n",
       "    <tr>\n",
       "      <th>13</th>\n",
       "      <td>PCA_14</td>\n",
       "      <td>0.012849</td>\n",
       "    </tr>\n",
       "    <tr>\n",
       "      <th>31</th>\n",
       "      <td>PCA_32</td>\n",
       "      <td>0.012832</td>\n",
       "    </tr>\n",
       "    <tr>\n",
       "      <th>12</th>\n",
       "      <td>PCA_13</td>\n",
       "      <td>0.012759</td>\n",
       "    </tr>\n",
       "    <tr>\n",
       "      <th>30</th>\n",
       "      <td>PCA_31</td>\n",
       "      <td>0.012729</td>\n",
       "    </tr>\n",
       "    <tr>\n",
       "      <th>41</th>\n",
       "      <td>PCA_42</td>\n",
       "      <td>0.012545</td>\n",
       "    </tr>\n",
       "    <tr>\n",
       "      <th>45</th>\n",
       "      <td>PCA_46</td>\n",
       "      <td>0.012208</td>\n",
       "    </tr>\n",
       "    <tr>\n",
       "      <th>24</th>\n",
       "      <td>PCA_25</td>\n",
       "      <td>0.012106</td>\n",
       "    </tr>\n",
       "    <tr>\n",
       "      <th>21</th>\n",
       "      <td>PCA_22</td>\n",
       "      <td>0.012037</td>\n",
       "    </tr>\n",
       "    <tr>\n",
       "      <th>29</th>\n",
       "      <td>PCA_30</td>\n",
       "      <td>0.012030</td>\n",
       "    </tr>\n",
       "    <tr>\n",
       "      <th>43</th>\n",
       "      <td>PCA_44</td>\n",
       "      <td>0.012006</td>\n",
       "    </tr>\n",
       "    <tr>\n",
       "      <th>32</th>\n",
       "      <td>PCA_33</td>\n",
       "      <td>0.011796</td>\n",
       "    </tr>\n",
       "    <tr>\n",
       "      <th>15</th>\n",
       "      <td>PCA_16</td>\n",
       "      <td>0.011072</td>\n",
       "    </tr>\n",
       "    <tr>\n",
       "      <th>42</th>\n",
       "      <td>PCA_43</td>\n",
       "      <td>0.010856</td>\n",
       "    </tr>\n",
       "  </tbody>\n",
       "</table>\n",
       "</div>"
      ],
      "text/plain": [
       "   feature     coeff\n",
       "1    PCA_2  0.094642\n",
       "2    PCA_3  0.087672\n",
       "3    PCA_4  0.069740\n",
       "5    PCA_6  0.039372\n",
       "6    PCA_7  0.027173\n",
       "9   PCA_10  0.026610\n",
       "10  PCA_11  0.026109\n",
       "8    PCA_9  0.022177\n",
       "4    PCA_5  0.021256\n",
       "46  PCA_47  0.020999\n",
       "27  PCA_28  0.020841\n",
       "19  PCA_20  0.020761\n",
       "0    PCA_1  0.019947\n",
       "16  PCA_17  0.018108\n",
       "37  PCA_38  0.016306\n",
       "40  PCA_41  0.016125\n",
       "48  PCA_49  0.015583\n",
       "11  PCA_12  0.015573\n",
       "34  PCA_35  0.015551\n",
       "44  PCA_45  0.015293\n",
       "25  PCA_26  0.014656\n",
       "18  PCA_19  0.014466\n",
       "28  PCA_29  0.014413\n",
       "17  PCA_18  0.014409\n",
       "47  PCA_48  0.013914\n",
       "22  PCA_23  0.013889\n",
       "7    PCA_8  0.013772\n",
       "35  PCA_36  0.013663\n",
       "49  PCA_50  0.013530\n",
       "20  PCA_21  0.013353\n",
       "38  PCA_39  0.013336\n",
       "33  PCA_34  0.013254\n",
       "39  PCA_40  0.013247\n",
       "26  PCA_27  0.013151\n",
       "36  PCA_37  0.013138\n",
       "14  PCA_15  0.013123\n",
       "23  PCA_24  0.013023\n",
       "13  PCA_14  0.012849\n",
       "31  PCA_32  0.012832\n",
       "12  PCA_13  0.012759\n",
       "30  PCA_31  0.012729\n",
       "41  PCA_42  0.012545\n",
       "45  PCA_46  0.012208\n",
       "24  PCA_25  0.012106\n",
       "21  PCA_22  0.012037\n",
       "29  PCA_30  0.012030\n",
       "43  PCA_44  0.012006\n",
       "32  PCA_33  0.011796\n",
       "15  PCA_16  0.011072\n",
       "42  PCA_43  0.010856"
      ]
     },
     "execution_count": 84,
     "metadata": {},
     "output_type": "execute_result"
    }
   ],
   "source": [
    "# Create a dataframe containing feature importances provided by the Random Forest\n",
    "df_coeffs = pd.DataFrame(list(zip(pca_names, model.feature_importances_.flatten()))).sort_values(by=[1], ascending=False)\n",
    "df_coeffs.columns = ['feature', 'coeff']\n",
    "df_coeffs"
   ]
  },
  {
   "cell_type": "code",
   "execution_count": 85,
   "metadata": {},
   "outputs": [
    {
     "data": {
      "image/png": "[encoded data removed]",
      "text/plain": [
       "<matplotlib.figure.Figure at 0x1232d6f28>"
      ]
     },
     "metadata": {},
     "output_type": "display_data"
    }
   ],
   "source": [
    "# Bar chart: plot coefficients of pca components\n",
    "ax = df_coeffs.plot.barh(figsize = (17,12))\n",
    "t = np.arange(50)\n",
    "ax.set_yticks(t)\n",
    "ax.set_yticklabels(df_coeffs['feature'])\n",
    "plt.show()"
   ]
  },
  {
   "cell_type": "markdown",
   "metadata": {},
   "source": [
    "## 7. Other improvements for this notebook\n",
    "This notebook could further include:\n",
    "1. Cluster restaurants from their category information\n",
    "    - How? Hint: A business may have mutiple categories, e.g. a restaurant can have both \"Restaurants\" and \"Korean\".\n",
    "2. Try different distance/similarity metrics for clusterings, e.g. Pearson correlation, Jaccard distance, etc.\n",
    "    - Take a look at [scipy](http://docs.scipy.org/doc/scipy/reference/generated/scipy.spatial.distance.pdist.html#scipy.spatial.distance.pdist)  documentations to use other distances.\n",
    "3. Cluster categories from business entities.\n",
    "    - How? Hint: Think the example where words can be clustered from the transposed tf-idf matrix.\n",
    "4. What are the characteristics of each of the clustered ? For each cluster, which restaurant can best represent (\"define\") its cluster?"
   ]
  },
  {
   "cell_type": "code",
   "execution_count": null,
   "metadata": {},
   "outputs": [],
   "source": []
  }
 ],
 "metadata": {
  "anaconda-cloud": {},
  "kernelspec": {
   "display_name": "Python 3",
   "language": "python",
   "name": "python3"
  },
  "language_info": {
   "codemirror_mode": {
    "name": "ipython",
    "version": 3
   },
   "file_extension": ".py",
   "mimetype": "text/x-python",
   "name": "python",
   "nbconvert_exporter": "python",
   "pygments_lexer": "ipython3",
   "version": "3.6.4"
  }
 },
 "nbformat": 4,
 "nbformat_minor": 1
}
