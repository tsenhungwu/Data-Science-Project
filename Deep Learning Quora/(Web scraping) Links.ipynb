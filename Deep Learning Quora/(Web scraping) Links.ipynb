{
 "cells": [
  {
   "cell_type": "markdown",
   "metadata": {},
   "source": [
    "# Main task: Web Scraping for links in Quora Website\n",
    "- Before the project started, I need to collect links (or questions) for the following tasks."
   ]
  },
  {
   "cell_type": "markdown",
   "metadata": {},
   "source": [
    "### 1. Import packages"
   ]
  },
  {
   "cell_type": "code",
   "execution_count": 1,
   "metadata": {},
   "outputs": [],
   "source": [
    "from selenium import webdriver\n",
    "from selenium.webdriver.common.by import By\n",
    "from selenium.webdriver.support.ui import WebDriverWait\n",
    "from selenium.webdriver.support import expected_conditions\n",
    "from selenium.webdriver.common.keys import Keys\n",
    "import time\n",
    "import csv\n",
    "import sys\n",
    "import datetime\n",
    "import pandas as pd"
   ]
  },
  {
   "cell_type": "markdown",
   "metadata": {},
   "source": [
    "### 2. Read the dataset"
   ]
  },
  {
   "cell_type": "code",
   "execution_count": 5,
   "metadata": {},
   "outputs": [
    {
     "name": "stdout",
     "output_type": "stream",
     "text": [
      "<class 'list'>\n",
      "5972\n",
      "['https://www.quora.com/100-years-from-now-present-bitcoin-holders-will-die-and-access-to-their-private-keys-will-be-lost-How-can-we-expect-to-take-bitcoin-seriously-as-a-main-form-of-currency-if-we-will-forever-have-to-deal-with-this', 'https://www.quora.com/20-000-for-bitcoin-cloud-mining-how-much-profit-will-I-make-in-a-year', 'https://www.quora.com/A-few-BTCs-were-sent-to-my-wallet-is-it-possible-for-me-to-spend-those-BTCs-without-downloading-the-entire-blockchain-My-wallet-does-not-show-me-my-BTCs-but-everyone-should-know-I-own-them-since-the-info-must-be-in']\n"
     ]
    }
   ],
   "source": [
    "links = pd.read_csv(\"all_link.csv\", header = None)\n",
    "links = links[0].values.tolist()\n",
    "print(type(links))\n",
    "\n",
    "links = links[1:]\n",
    "print(len(links))\n",
    "print(links[0:3])"
   ]
  },
  {
   "cell_type": "markdown",
   "metadata": {},
   "source": [
    "### 3. Main part: Extract the links in Quora"
   ]
  },
  {
   "cell_type": "code",
   "execution_count": 7,
   "metadata": {},
   "outputs": [
    {
     "name": "stdout",
     "output_type": "stream",
     "text": [
      "0\n",
      "running time: 0:00:21.365754\n"
     ]
    }
   ],
   "source": [
    "# Specify path where I save the webdriver for windows\n",
    "executable_path = './geckodriver'\n",
    "\n",
    "# Can change range number\n",
    "for i in range(1):\n",
    "    start_time = datetime.datetime.now()\n",
    "    driver = webdriver.Firefox(executable_path=executable_path, log_path='geckodriver.log')\n",
    "    driver.wait = WebDriverWait(driver, 5)\n",
    "    driver.get('https://www.quora.com/topic/Bitcoin/all_questions')\n",
    "    body = driver.find_element_by_css_selector('body')\n",
    "    \n",
    "    for each in range(10):\n",
    "    \n",
    "        # scroll page down\n",
    "        body.send_keys(Keys.PAGE_DOWN)\n",
    "    \n",
    "        # sleep; wait until pages to be loaded\n",
    "        time.sleep(2)\n",
    "        \n",
    "    # extract questions links\n",
    "    questions = driver.find_elements_by_css_selector(\"div.feed_content a.question_link\")\n",
    "    driver.save_screenshot('ML'+str(i)+'.png')\n",
    "    \n",
    "    # collect all links by attribute href\n",
    "    for each in questions:\n",
    "        link = each.get_attribute(\"href\")\n",
    "        \n",
    "        # save each link into a list and avoid duplicates\n",
    "        if link not in links:\n",
    "                links.append(link)\n",
    "                \n",
    "    driver.quit()\n",
    "    \n",
    "    # record loop number & running time\n",
    "    print(i)\n",
    "    print(\"running time:\", datetime.datetime.now()-start_time)"
   ]
  },
  {
   "cell_type": "markdown",
   "metadata": {},
   "source": [
    "### 4. Verification"
   ]
  },
  {
   "cell_type": "code",
   "execution_count": 8,
   "metadata": {},
   "outputs": [
    {
     "data": {
      "text/plain": [
       "6091"
      ]
     },
     "execution_count": 8,
     "metadata": {},
     "output_type": "execute_result"
    }
   ],
   "source": [
    "# Check the length of collected links\n",
    "len(links)"
   ]
  },
  {
   "cell_type": "markdown",
   "metadata": {},
   "source": [
    "### 5. Save the data"
   ]
  },
  {
   "cell_type": "code",
   "execution_count": 12,
   "metadata": {},
   "outputs": [],
   "source": [
    "# Save the collected links (data) into a csv file\n",
    "with open(\"all_link.csv\", \"w\") as f:\n",
    "        writer=csv.writer(f, delimiter = ',')\n",
    "        writer.writerows([row.split(',') for row in links])"
   ]
  }
 ],
 "metadata": {
  "kernelspec": {
   "display_name": "Python 3",
   "language": "python",
   "name": "python3"
  },
  "language_info": {
   "codemirror_mode": {
    "name": "ipython",
    "version": 3
   },
   "file_extension": ".py",
   "mimetype": "text/x-python",
   "name": "python",
   "nbconvert_exporter": "python",
   "pygments_lexer": "ipython3",
   "version": "3.6.4"
  }
 },
 "nbformat": 4,
 "nbformat_minor": 2
}
