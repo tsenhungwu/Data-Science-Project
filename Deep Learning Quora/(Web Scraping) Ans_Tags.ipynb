{
 "cells": [
  {
   "cell_type": "markdown",
   "metadata": {},
   "source": [
    "# Main task: Web Scraping for answers and upvotes in Quora Website\n",
    "- Extract tags under each question\n",
    "    - In the following jupyter notebook, predict tags for each question."
   ]
  },
  {
   "cell_type": "markdown",
   "metadata": {},
   "source": [
    "E.g. The question on Quora, \"What is the expected price of Bitcoin in 2018?\" has tags including **Virtual Currencies, Bitcoin, and Cryptocurrencies.**\n",
    "<img height=\"500\" width=\"700\" src=\"tag.png\" /> "
   ]
  },
  {
   "cell_type": "markdown",
   "metadata": {},
   "source": [
    "### 1. Import packages"
   ]
  },
  {
   "cell_type": "code",
   "execution_count": 36,
   "metadata": {},
   "outputs": [],
   "source": [
    "from selenium import webdriver\n",
    "from selenium.webdriver.common.by import By\n",
    "from selenium.webdriver.support.ui import WebDriverWait\n",
    "from selenium.webdriver.support import expected_conditions\n",
    "from selenium.webdriver.common.keys import Keys\n",
    "import time\n",
    "import csv\n",
    "import sys\n",
    "import datetime\n",
    "import pandas as pd\n",
    "import string"
   ]
  },
  {
   "cell_type": "markdown",
   "metadata": {},
   "source": [
    "### 2. Read the dataset\n",
    "- Originally, 6790 questions are in the all_link.csv. I collected before using web-scraping techniques.\n",
    "- Collect tags for all the questions (from all_link.csv) take time, so I collected tags for 1200 questions (nearly 20%)."
   ]
  },
  {
   "cell_type": "code",
   "execution_count": 37,
   "metadata": {},
   "outputs": [
    {
     "name": "stdout",
     "output_type": "stream",
     "text": [
      "7161\n",
      "300\n"
     ]
    }
   ],
   "source": [
    "# Collect tags by 300 questions at one time\n",
    "links = pd.read_csv(\"all_link.csv\")\n",
    "print(len(links))\n",
    "\n",
    "test_links = links['links'][900:1200].tolist()\n",
    "print(len(test_links))"
   ]
  },
  {
   "cell_type": "markdown",
   "metadata": {},
   "source": [
    "### Record collecting histories\n",
    "#### March 16, 0-300 links \n",
    "- (last one: https://www.quora.com/Is-Bitcoin-just-a-big-con-and-nothing-more-than-a-hype-or-does-anybody-make-any-money-with-it)\n",
    "\n",
    "#### March 17, 300-600 links\n",
    "- (last one: https://www.quora.com/How-can-I-trade-Bitcoin-at-100X-leverage-or-margin)\n",
    "\n",
    "#### March 18, 600-900 links\n",
    "- (last one: https://www.quora.com/Has-Bruce-Wayne-invested-in-Bitcoin)\n",
    "\n",
    "#### March 18, 900-1200 links\n",
    "- (last one: https://www.quora.com/What-will-be-the-highest-price-of-Bitcoin-in-this-February)"
   ]
  },
  {
   "cell_type": "code",
   "execution_count": 38,
   "metadata": {},
   "outputs": [
    {
     "data": {
      "text/plain": [
       "'https://www.quora.com/What-will-be-the-highest-price-of-Bitcoin-in-this-February'"
      ]
     },
     "execution_count": 38,
     "metadata": {},
     "output_type": "execute_result"
    }
   ],
   "source": [
    "test_links[-1]"
   ]
  },
  {
   "cell_type": "markdown",
   "metadata": {},
   "source": [
    "### 3. Main part: Extract answers and upvotes for each question"
   ]
  },
  {
   "cell_type": "code",
   "execution_count": 39,
   "metadata": {
    "scrolled": true
   },
   "outputs": [
    {
     "name": "stdout",
     "output_type": "stream",
     "text": [
      "https://www.quora.com/unanswered/How-regulated-are-Bitcoin-s-exchanges\n",
      "https://www.quora.com/Does-a-bank-have-the-legal-right-to-stop-you-from-making-specific-purchases-Bitcoin-Are-they-not-reneging-on-the-promise-of-credit\n",
      "https://www.quora.com/Is-the-Bitcoin-rally-over\n",
      "https://www.quora.com/How-do-I-buy-Bitcoins-in-the-UK-I-have-an-account-on-Bittrex-Are-there-any-secure-websites-or-exchanges-where-I-can-buy-from\n",
      "https://www.quora.com/I-have-some-money-I-want-to-invest-in-Bitcoins-Is-it-advisable-now-to-take-such-venture\n",
      "https://www.quora.com/Is-Bitcoin-and-other-cryptocurrency-not-going-to-survive-again\n",
      "https://www.quora.com/unanswered/Is-this-Bitcoin-graph-authentic\n",
      "https://www.quora.com/How-much-does-the-cost-of-selling-and-buying-Bitcoin-do\n",
      "https://www.quora.com/Should-I-maintain-my-stop-loss-at-6-000-on-Bitcoin-or-adjust-down-to-5-000\n",
      "https://www.quora.com/There-is-a-login-problem-with-Coinsecure-Are-they-afraid-that-Bitcoin-will-crash-or-do-they-not-want-users-to-sell-the-coins-Coinsecure-in-doLogin\n",
      "https://www.quora.com/unanswered/How-much-did-Bitcoin-mining-cost-in-energy-and-infrastructure-in-2013-and-2015-in-the-US\n",
      "https://www.quora.com/What-was-the-impact-of-Bitcoin-prices-with-the-Indian-government-officially-announcing-them-as-an-illegal-tender\n",
      "https://www.quora.com/How-do-I-buy-Bitcoins-with-Square-Cash\n",
      "https://www.quora.com/Is-the-Government-of-India-planning-to-ban-bitcoins\n",
      "https://www.quora.com/How-does-Bitcoin-differ-from-traditional-currencies\n",
      "https://www.quora.com/How-far-do-you-expect-bitcoin-to-fall-as-of-Feburary-2018\n",
      "https://www.quora.com/unanswered/What-are-the-top-3-wallets-to-use-outside-the-US-with-low-fees\n",
      "https://www.quora.com/What-are-the-top-3-crypto-wallets-to-use-in-Europe-as-Coinbase-fees-are-way-to-high\n",
      "https://www.quora.com/Why-is-Bitcoin-dropping-its-value-as-of-February\n",
      "https://www.quora.com/Can-Bitcoin-go-below-zero\n",
      "https://www.quora.com/Is-investing-in-Bitcoin-a-good-plan-in-February-2018\n",
      "https://www.quora.com/What-is-Bitcoin-Why-are-people-thinking-that-it-is-a-good-investment\n",
      "https://www.quora.com/Why-is-bitcoin-value-going-down-even-though-it-was-supposed-to-rise-Is-it-because-of-etherium\n",
      "https://www.quora.com/Whats-the-reason-behind-Bitcoin-s-latest-downfall\n",
      "https://www.quora.com/Is-this-a-good-time-to-trade-my-AltCoins-for-BTC\n",
      "https://www.quora.com/Who-is-investing-through-a-website-with-bitcoin-in-USA\n",
      "https://www.quora.com/If-Warren-Buffett-is-so-anti-Bitcoin-and-blockchain-then-why-is-BNSF-going-to-use-blockchain-to-manage-its-freight-It-seems-very-hypocritical-to-me\n",
      "https://www.quora.com/Why-is-Bitcoin-dropping-during-the-Chinese-New-Year\n",
      "https://www.quora.com/What-is-the-best-way-to-change-my-BTC-into-ETH\n",
      "https://www.quora.com/What-cryptocoin-do-you-love-the-most\n",
      "https://www.quora.com/unanswered/What-do-you-think-about-the-Aladin-coin-They-have-an-investment-scheme-which-pays-in-both-Bitcoin-and-Aladin-coin\n",
      "https://www.quora.com/What-is-the-future-of-crypto-currency-or-Bitcoin\n",
      "https://www.quora.com/Where-would-I-be-able-to-obtain-a-CSV-PDF-or-digital-file-version-of-a-dump-with-all-possible-Bitcoin-public-and-private-keys-like-all-private-keys-pw-or-directory-io-but-as-a-file\n",
      "https://www.quora.com/What-is-the-easiest-way-to-transfer-Bitcoin-into-cash-in-the-UK\n",
      "https://www.quora.com/Now-that-bitcoin-has-been-revealed-to-be-a-scam-and-everyone-is-rushing-to-sell-out-before-they-lose-all-their-money-does-anyone-know-about-any-good-scientific-studies-as-to-why-so-many-people-fell-for-it-in-the\n",
      "https://www.quora.com/If-the-Bitcoin-price-keeps-going-down-and-people-quit-mining-will-the-difficulty-level-go-down-too\n",
      "https://www.quora.com/unanswered/I-havent-found-anything-from-Elon-Musk-to-verify-that-he-is-sponsoring-bitcoin-code-Where-can-I-find-verification\n",
      "https://www.quora.com/Why-are-established-powers-fighting-Bitcoin-and-the-web-3-0-decentralized-movement\n",
      "https://www.quora.com/How-much-is-the-lowest-you-are-expecting-bitcoin-to-hit-in-2018\n",
      "https://www.quora.com/What-do-you-think-the-value-of-Bitcoin-is-without-Tether-support\n",
      "https://www.quora.com/What-is-the-reason-for-the-falling-of-Bitcoin-in-February-2018\n",
      "https://www.quora.com/Whats-common-between-Bitcoin-Ethereum-and-Bitcoin-Cash\n",
      "https://www.quora.com/Should-Bitcoin-banks-and-exchanges-be-required-to-have-full-reserve-banking\n",
      "https://www.quora.com/Can-the-price-of-Bitcoin-fall-to-as-low-as-1000\n",
      "https://www.quora.com/Is-anyone-still-buying-Bitcoin\n",
      "https://www.quora.com/How-do-I-buy-Bitcoin-at-a-cheap-price-in-the-United-Arab-Emirates-through-a-trusted-seller\n",
      "https://www.quora.com/What-if-everyone-sells-off-their-Bitcoin-Is-that-ever-possible\n",
      "https://www.quora.com/Why-is-China-banning-cryptocurrencies-instead-of-regulating-them-like-Korea\n",
      "https://www.quora.com/unanswered/Can-Chris-donate-me-3-BTC-of-the-68-BTC-that-he-received\n",
      "https://www.quora.com/unanswered/What-Bitcoin-and-cryptocurrency-information-does-CoinMarketCap-com-have-that-CryptoCompare-com-does-not-have\n",
      "https://www.quora.com/Can-a-student-mine-Bitcoin-without-any-software-knowledge\n",
      "https://www.quora.com/Is-bitcoin-legal-in-India-and-other-countries\n",
      "https://www.quora.com/Since-Bitcoin-has-dropped-almost-12-000-in-the-last-couple-of-weeks-does-anyone-still-think-its-a-good-investment-let-alone-an-investment-at-all\n",
      "https://www.quora.com/Why-are-banks-banning-Bitcoin-purchases-on-credit-cards\n",
      "https://www.quora.com/What-s-the-feasibility-that-China-could-effectively-end-Bitcoin-trading-in-China\n",
      "https://www.quora.com/How-do-I-change-Bitcoin-to-money\n",
      "https://www.quora.com/How-do-I-earn-free-BTC-and-other-altcoins\n",
      "https://www.quora.com/What-causes-the-price-of-cryptocurrencies-to-drop\n",
      "https://www.quora.com/Why-do-Bitcoin-and-other-cryptocurrencies-go-down-in-cycle-with-global-stock-markets-in-February-2018-instead-of-going-up-when-the-stock-markets-go-down\n",
      "https://www.quora.com/Litecoin-is-down-to-115-Should-I-be-selling-mine-or-buying-more\n",
      "https://www.quora.com/Did-the-two-robbers-from-Bad-Santa-Willie-Marcus-cause-Bitcoin-to-crash\n",
      "https://www.quora.com/Why-is-Bitcoin-going-down-continuously-Is-it-wise-to-buy-now\n",
      "https://www.quora.com/Which-of-the-most-popular-cryptocurrencies-has-the-best-chance-at-being-used-as-a-high-volume-decentralized-currency\n",
      "https://www.quora.com/Why-are-many-people-praying-and-hoping-that-bitcoin-will-reach-50-000-by-the-end-of-2018\n",
      "https://www.quora.com/How-much-are-Cryptocurrencies-trustable\n",
      "https://www.quora.com/Why-is-February-6th-significant-for-the-cryptocurrency-market\n",
      "https://www.quora.com/What-are-the-main-reasons-why-Altcoins-always-follow-BTC-trends\n",
      "https://www.quora.com/Which-site-is-the-best-to-buy-and-sell-cryptocurrency-in-India\n",
      "https://www.quora.com/How-can-I-earn-Bitcoins-without-any-investment-because-I-do-not-have-any-Bitcoins-right-now\n",
      "https://www.quora.com/Why-is-the-Ethereum-block-time-changing-so-weirdly-Shouldnt-the-difficulty-be-adjusted-in-such-a-way-that-the-block-time-stays-roughly-the-same\n",
      "https://www.quora.com/How-much-does-a-cryptocurrency-exchange-software-license\n",
      "https://www.quora.com/How-can-I-read-and-write-data-in-the-Ethereum-Blockchain\n",
      "https://www.quora.com/Is-there-any-crypto-currency-exchange-where-I-can-sell-crypto-currency-for-fiat-USD-and-then-withdraw-USD-to-my-bank-account-or-card-without-doing-any-KYC\n",
      "https://www.quora.com/unanswered/What-does-Anonymous-think-about-cryptocurrencies-and-blockchain\n",
      "https://www.quora.com/Why-is-Bitcoin-dropping-every-day\n",
      "https://www.quora.com/What-is-the-best-advice-you-were-ever-given-about-cryptocurrency-trading\n",
      "https://www.quora.com/unanswered/How-is-it-possible-for-the-government-to-block-Bitcoin-on-blockchain-on-search-engines\n",
      "https://www.quora.com/unanswered/What-fluctuations-of-Bitcoin-changes-the-life-of-a-person-How-is-it-possible\n",
      "https://www.quora.com/When-can-cryptocurrencies-start-rising-again-What-can-be-the-trigger\n",
      "https://www.quora.com/What-is-the-procedure-to-earn-Huge-Profits-with-Bitcoin-BTC-Mining\n",
      "https://www.quora.com/Is-humour-appropriate-in-Bitcoin-Blockchain-spheres-obviously-not-when-there-is-a-price-drop\n",
      "https://www.quora.com/There-is-a-new-cryptocurrency-named-BitNautic-that-has-come-up-in-ICO-lists-recently-Is-it-safe-to-invest-in-it\n",
      "https://www.quora.com/unanswered/Under-which-tax-category-does-Coinsecure-Bitcoin-Exchange-lie-on-in-India\n"
     ]
    },
    {
     "name": "stdout",
     "output_type": "stream",
     "text": [
      "https://www.quora.com/Is-it-legal-for-an-Indian-citizen-to-wire-money-to-a-foreign-cryptocurrency-exchange-like-Bitfinex-or-Bitstamp-to-purchase-crypto-Would-Indian-banks-allow-the-transaction\n",
      "https://www.quora.com/How-much-would-be-charged-if-I-transfer-my-bitcoin-from-coinbase-to-Zebpay-I-want-to-exchange-to-an-Indian-wallet-from-coinbase-I-bought-it-while-I-was-in-US-as-I-have-returned-back-to-India-and-now-I-want-to-sell\n",
      "https://www.quora.com/unanswered/What-is-Bitcoin-mining-and-other-work-in-this-currency\n",
      "https://www.quora.com/Is-it-true-that-every-BTC-crash-coincides-with-the-24-days-before-the-Chinese-New-Year\n",
      "https://www.quora.com/Is-it-safe-to-invest-in-Bitcoin-or-other-cryptocurrencies-in-India\n",
      "https://www.quora.com/Should-I-have-listened-to-my-millennial-son-and-placed-my-retirement-money-into-Bitcoin\n",
      "https://www.quora.com/How-is-your-country-as-of-February-2018\n",
      "https://www.quora.com/unanswered/Do-transaction-fees-depreciating-Bitcoin-value\n",
      "https://www.quora.com/Bitcoin-keeps-bouncing-off-the-8000-price-range-But-it-seems-like-it-wants-to-go-through-it-and-continue-this-bearish-trend-Will-the-market-keep-crashing-Will-it-recover-soon\n",
      "https://www.quora.com/unanswered/How-can-I-get-noticed-while-a-bitcoin-address-output-any-UTXO\n",
      "https://www.quora.com/What-is-the-easiest-way-to-identify-someone-who-has-never-made-actual-money-with-Bitcoin\n",
      "https://www.quora.com/If-countries-are-banning-Bitcoin-credit-card-companies-will-no-longer-allow-people-to-use-their-cards-to-buy-it-doesnt-that-make-Bitcoin-more-valuable-If-its-getting-so-hard-to-buy-wouldnt-that-make-it-priceless-Why\n",
      "https://www.quora.com/What-needs-to-happen-for-the-fall-of-BTC-to-level-off-So-far-most-predictions-have-not-been-right\n",
      "https://www.quora.com/Is-there-any-website-which-shows-the-locations-of-Bitcoin-miners-worldwide-on-a-map-or-has-a-list\n",
      "https://www.quora.com/What-cryptocurrency-is-essential-for-beginners-How-do-you-buy-ether-ark-etc-from-India\n",
      "https://www.quora.com/What-are-the-programming-languages-used-in-Bitcoin-software\n",
      "https://www.quora.com/unanswered/Is-Soros-part-of-Bitcoin\n",
      "https://www.quora.com/Will-Bitcoin-make-it-easier-for-artificial-Intelligence-to-takeover-the-world\n",
      "https://www.quora.com/Could-people-buy-cryptos-on-credit-card-margin-Will-that-generate-again-huge-losses-for-the-banks\n",
      "https://www.quora.com/What-happened-to-the-17-000-Bitcoin\n",
      "https://www.quora.com/How-do-I-buy-bitcoin-miners-online\n",
      "https://www.quora.com/unanswered/Are-there-any-Bitcoin-jobs-in-India\n",
      "https://www.quora.com/Why-dont-some-cryptocurrency-exchanges-accept-trade-using-U-S-dollars-And-is-that-why-tether-is-being-used-instead\n",
      "https://www.quora.com/unanswered/Do-you-have-any-idea-about-how-to-build-exe-of-bitcoin-miner-setting-up-everything-and-launch-via-botnet-u-demonstrated-I-am-unable-to-build-one-that-doesnt-get-detected-by-antivirus\n",
      "https://www.quora.com/Where-can-I-get-a-virtual-Bitcoin-debit-card-nowadays\n",
      "https://www.quora.com/Will-Cardano-overtake-Ethereum-and-become-a-truly-future-proof-3rd-generation-cryptocurrency\n",
      "https://www.quora.com/What-do-people-think-about-investing-money-in-Bitcoin\n",
      "https://www.quora.com/Does-the-entire-blockchain-collapse-if-the-cryptocurrency-price-falls-below-the-break-even-cost-for-electricity-and-everyone-stops-mining-as-a-result\n",
      "https://www.quora.com/How-can-I-start-to-learn-blockchain-technology-ASAP\n",
      "https://www.quora.com/Should-we-expect-ATH-for-Bitcoin-after-the-Jan-Feb-2018-hard-correction\n",
      "https://www.quora.com/unanswered/How-can-I-get-my-missing-wire-returned-to-me-from-Coinbase\n",
      "https://www.quora.com/What-is-the-best-way-to-earn-two-Bitcoins-in-1-year-What-is-the-best-Bitcoin-mining-software-that-can-help-you-mine-faster-I-am-currently-using-minergate-software-to-mine-BTC\n",
      "https://www.quora.com/What-is-the-best-way-to-get-started-with-cryptocurrency-Do-I-start-with-Bitcoin\n",
      "https://www.quora.com/unanswered/Is-there-a-place-where-blockchain-use-cases-are-being-discussed-regularly\n",
      "https://www.quora.com/Why-is-John-McAfee-so-passionate-about-Bitcoin-and-cryptocurrencies-in-general\n",
      "https://www.quora.com/What-is-needed-to-start-Bitcoin-mining-for-a-business\n",
      "https://www.quora.com/Is-Bitcoin-becoming-prime-financial-assets\n",
      "https://www.quora.com/Could-this-be-the-End-of-Cryptocurrency-Another-BloodBath\n",
      "https://www.quora.com/Why-has-mining-bitcoin-gone-from-30-a-miner-as-opposed-to-now-9-a-miner-Will-it-ever-go-back-up\n",
      "https://www.quora.com/How-can-someone-pay-another-person-with-cryptocurrency-if-theres-no-third-party-escrow-no-guarantee-they-will-receive-their-goods-and-no-way-to-reverse-the-transaction\n",
      "https://www.quora.com/Why-doesnt-the-Indian-government-accept-cryptocurrency-as-legal\n",
      "https://www.quora.com/Since-Bitcoin-was-the-currency-of-choice-on-the-dark-web-did-criminals-and-drug-dealers-get-rich-on-the-Bitcoin-surge\n",
      "https://www.quora.com/What-is-the-cheapest-and-easiest-way-to-buy-Bitcoin-in-Vietnam\n",
      "https://www.quora.com/Which-Bitcoin-app-is-best-for-earning-without-put-money-on-it\n",
      "https://www.quora.com/How-will-the-whole-Tether-Bitfinex-fiasco-and-very-likely-Bitcoin-price-manipulation-affect-other-cryptocurrencies-and-Ripple-XRP-in-particular\n",
      "https://www.quora.com/How-come-up-to-date-there-have-been-16-million-Bitcoins-mined-and-for-the-next-5-million-it-will-take-100-years\n",
      "https://www.quora.com/unanswered/How-do-I-make-a-cryptocurrency-exchange-in-India-considering-the-legal-issues\n",
      "https://www.quora.com/How-can-bitcoin-not-be-a-bubble-if-the-speculative-frenzy-is-even-greater-than-the-Tulip-bubble\n",
      "https://www.quora.com/What-can-I-do-there-is-a-person-who-asks-me-if-he-can-mine-BTC-in-my-account-Is-it-possible-to-ask-fees-of-40-of-the-total-BTC-mined\n",
      "https://www.quora.com/How-do-I-get-YouTube-views-with-bitcoin\n",
      "https://www.quora.com/Will-I-be-able-to-encash-my-bitcoin-to-INR-if-the-GOI-makes-Bitcoin-trade-illegal-in-the-budget-of-2018\n",
      "https://www.quora.com/What-is-the-best-bitcoin-trading-broker-platform\n",
      "https://www.quora.com/How-does-Arun-jaitley-S-budget-speech-affects-Bitcoin-pricing-to-fall-down\n",
      "https://www.quora.com/How-do-you-get-your-fiat-currency-to-Bitcoin\n",
      "https://www.quora.com/When-will-Bitcoin-reach-its-peak-price\n",
      "https://www.quora.com/How-does-one-come-to-know-the-value-of-something-intangible-in-the-context-of-Bitcoin\n",
      "https://www.quora.com/What-is-the-significance-of-a-large-amount-of-cryptoasset-holders-moving-their-capital-to-Puerto-Rico\n",
      "https://www.quora.com/How-much-total-fiat-has-been-spent-on-cryptocurrency-1\n",
      "https://www.quora.com/Will-the-losses-incurred-due-to-sell-of-Bitcoins-in-India-be-considered-while-calculating-the-tax-on-the-profit-made-by-the-same\n",
      "https://www.quora.com/What-is-the-best-amount-BTC-that-I-should-spend-per-prediction-signal-in-crypto-day-trading\n",
      "https://www.quora.com/unanswered/How-will-Timelock-and-Multisignature-prevent-your-Bitcoins-from-being-taken-by-robbers-and-kidnappers\n",
      "https://www.quora.com/Have-you-paid-a-ransom-in-bitcoin-or-monero-If-so-what-was-it-for\n",
      "https://www.quora.com/What-is-the-start-to-end-process-of-Bitcoin-Ethereum-mining\n",
      "https://www.quora.com/Where-do-we-get-Bitcoin-Ethereum-Litecoin-mining-script\n",
      "https://www.quora.com/Could-Bitcoin-be-used-to-pay-college-athletes-under-the-table\n",
      "https://www.quora.com/What-are-some-strategies-to-make-money-on-bitcoin\n",
      "https://www.quora.com/Why-do-experts-say-Bitcoin-will-reach-over-100-000-00\n",
      "https://www.quora.com/How-much-will-the-dollar-get-per-day-when-mining-Ethereum-by-using-a-25-GPU\n",
      "https://www.quora.com/Why-do-we-have-to-purchase-cryptocurrency-through-an-exchange\n",
      "https://www.quora.com/Did-Bitcoin-ever-sell-for-0-18-per-coin-If-so-when\n",
      "https://www.quora.com/What-if-the-top-5-BTC-miners-become-51-and-try-to-hijack-blockchain\n",
      "https://www.quora.com/Can-you-get-rich-by-creating-a-cryptocurrency-Did-the-creator-of-Bitcoin-get-rich\n",
      "https://www.quora.com/What-are-the-key-flaws-with-the-arguments-and-assumptions-in-the-link-about-Bitcoins-valuation\n",
      "https://www.quora.com/Considering-that-BTC-transactions-are-getting-more-expensive-and-soon-itll-be-possible-to-buy-the-vast-majority-of-altcoins-with-USD-eth-or-real-money-Why-should-BTC-rise-up-again\n",
      "https://www.quora.com/unanswered/What-do-you-think-of-Waltonchain-and-VeChain-Which-of-these-has-a-higher-chance-of-success-in-1-year-s-time\n"
     ]
    },
    {
     "name": "stdout",
     "output_type": "stream",
     "text": [
      "https://www.quora.com/Why-do-many-disregard-Bitcoin-but-not-blockchain-technology\n",
      "https://www.quora.com/I-invested-50k-in-btc-and-alts-when-it-was-13k-Im-worried-but-I-dont-want-to-sell-at-loss-Willing-to-hold-6-12months-Will-it-go-up\n",
      "https://www.quora.com/The-price-of-Bitcoin-is-falling-quickly-Will-it-really-reach-1-million-by-2020-like-John-McAfee-predicted\n",
      "https://www.quora.com/What-are-the-tax-implications-if-I-buy-Bitcoin-in-the-US-and-sell-it-in-India\n",
      "https://www.quora.com/How-does-shorting-Bitcoin-really-work-Can-you-provide-a-non-technical-description-of-how-the-transaction-open-and-close-is-recorded-within-the-blockchain-This-is-in-regards-to-Bitcoin-itself\n",
      "https://www.quora.com/Do-you-think-it-is-a-good-idea-to-invest-in-bitcoin-stocks-as-a-fresher-in-corporate\n",
      "https://www.quora.com/Is-Bitcoins-atomic-swap-going-to-make-it-much-harder-for-forensic-authorities-to-trace-transactions-especially-involving-coins-such-as-Monero-or-Dash\n",
      "https://www.quora.com/For-long-term-holding-store-of-value-what-are-the-pros-and-cons-of-Bitcoin-and-Ethereum-If-you-had-to-put-say-90-of-your-eggs-in-one-of-those-two-baskets-for-the-next-5-10-years-which-would-it-be\n",
      "https://www.quora.com/How-will-government-regulations-affect-the-cryptocurrency-market\n",
      "https://www.quora.com/Why-are-Bitcoin-Ethereum-and-Litecoin-following-the-same-pattern\n",
      "https://www.quora.com/Will-cryptocurrency-be-the-future-in-money-exchange\n",
      "https://www.quora.com/How-much-of-the-volume-in-cryptocurrencies-is-coming-from-Reddit-users-Whats-your-estimation\n",
      "https://www.quora.com/When-you-purchase-a-cryptocurrency-do-you-have-it-in-your-hands-or-is-it-all-digital\n",
      "https://www.quora.com/How-should-I-start-learn-bitcoin-mining\n",
      "https://www.quora.com/Is-Bitcoin-illegal-in-India-if-we-earn-from-it-how-should-we-present-the-tax-to-IT\n",
      "https://www.quora.com/What-is-a-good-bitcoin-and-cryptocurrency-course-I-should-buy\n",
      "https://www.quora.com/Are-bitcoin-codes-really-as-profitable-as-some-people-make-out\n",
      "https://www.quora.com/If-all-the-of-the-cryptocoins-follow-the-strategy-of-BTC-for-the-rise-fall-then-why-should-we-invest-in-other-currencies-Should-we-only-make-investments-in-BTC\n",
      "https://www.quora.com/unanswered/Is-it-safe-to-send-BTC-from-exchange-to-electrum-to-DNM\n",
      "https://www.quora.com/Is-there-any-website-in-India-which-can-provide-us-managerial-support-like-how-when-or-what-to-buy-and-basic-knowledge-about-cryptocurrency-like-Bitcoin-or-Ripple-buying-exchanges-in-India-and-across-the-globe\n",
      "https://www.quora.com/What-is-more-secure-USD-or-BTC\n",
      "https://www.quora.com/What-is-going-on-in-the-cryptocurrency-world\n",
      "https://www.quora.com/If-Bitcoin-is-not-legal-in-India-why-is-the-government-not-banning-platforms-like-Zebpay-or-Unocoin\n",
      "https://www.quora.com/I-stay-in-UK-and-I-want-to-buy-bitcoin-for-a-friend-in-India-Are-there-any-tax-implications-of-this-transactions-Since-my-account-would-have-a-deficit-of-a-large-amount\n",
      "https://www.quora.com/Is-Bitcoin-using-too-much-electricity\n",
      "https://www.quora.com/Is-Bitcoin-a-threat-to-humanity\n",
      "https://www.quora.com/Which-institute-is-providing-blockchain-technology-in-Hyderabad\n",
      "https://www.quora.com/unanswered/Are-the-CEO-and-the-co-founder-of-Twitter-and-Square-in-support-of-Bitcoin\n",
      "https://www.quora.com/Is-it-possible-for-a-blockchain-to-sustain-without-cryptocoins\n",
      "https://www.quora.com/Which-is-better-bitcoin-or-ripple-as-on-3-2-18\n",
      "https://www.quora.com/Which-is-better-to-invest-in-for-short-term-Bitcoin-or-Ripple-as-on-3rd-February-2018\n",
      "https://www.quora.com/What-is-better-to-invest-in-for-the-short-term-Bitcoin-or-Ripple-as-of-the-3rd-of-February-2018\n",
      "https://www.quora.com/Is-there-any-managerial-cryptocurrency-website-in-India-that-provides-domain-knowledge-of-bitcoin-altcoins-or-exchanges\n",
      "https://www.quora.com/What-are-your-views-on-Bitcoin-Cash-BCH\n",
      "https://www.quora.com/Why-is-Bitcoin-so-complicated\n",
      "https://www.quora.com/How-can-I-generate-Bitcoin-if-I-cant-afford-it\n",
      "https://www.quora.com/As-bitcoin-is-banned-in-India-should-I-withdraw-my-amount\n",
      "https://www.quora.com/The-NY-2014-crash-resulted-in-the-stagnation-of-Bitcoin-prices-that-took-3-years-to-fully-recover-What-do-you-think-is-different-this-time-that-could-prevent-a-long-and-downward-slide\n",
      "https://www.quora.com/Will-Bitcoin-rise-back-to-11-000-USD\n",
      "https://www.quora.com/How-do-you-think-Robinhood-will-affect-Bitcoin\n",
      "https://www.quora.com/How-have-Bitcoins-changed-into-normal-cash\n",
      "https://www.quora.com/Will-bitcoin-ever-again-reach-the-19-000-market-value-it-was-at\n",
      "https://www.quora.com/How-does-Bitcoin-work-and-how-can-a-13-year-old-like-me-make-money\n",
      "https://www.quora.com/How-long-will-the-Bitcoin-price-keep-dropping\n",
      "https://www.quora.com/Do-I-need-a-real-money-to-buy-Bitcoin\n",
      "https://www.quora.com/I-got-678-Bitcoins-from-someone-What-do-I-do\n",
      "https://www.quora.com/unanswered/Is-there-any-academic-research-on-any-aspect-of-Bitcoin\n",
      "https://www.quora.com/Is-there-a-source-or-an-approximation-of-how-many-people-actually-own-use-Bitcoins\n",
      "https://www.quora.com/Are-there-any-unknown-cryptocurrencies-out-there-that-have-the-possibility-of-blowing-up-like-bitcoin-yet-are-still-dirt-cheap\n",
      "https://www.quora.com/What-would-make-a-great-blockchain\n",
      "https://www.quora.com/unanswered/How-are-websites-that-sell-Bitcoin-for-Fiat-money-buying-Bitcoin-with-Fiat-money\n",
      "https://www.quora.com/unanswered/How-do-blockchain-developers-get-compensated-when-working-on-a-decentralized-project\n",
      "https://www.quora.com/Is-this-the-right-time-to-purchase-Bitcoin-or-will-FUD-continue\n",
      "https://www.quora.com/Since-Bitcoin-and-its-underlying-technology-i-e-blockchain-has-become-suddenly-so-popular-is-it-possible-to-have-a-cryptocurrency-that-is-not-based-on-a-decentralized-blockchain-system-Also-isn-t-a-centralized\n",
      "https://www.quora.com/What-is-the-most-profitable-least-expensive-graphics-card-for-cryptocurrency-mining\n",
      "https://www.quora.com/What-is-the-main-difference-between-Ethereum-bitcoin\n",
      "https://www.quora.com/How-has-Bitcoin-mining-hardware-evolved-over-the-years\n",
      "https://www.quora.com/Do-you-think-that-Bitcoin-will-rise-again-in-the-next-few-days\n",
      "https://www.quora.com/In-what-countries-is-blockchain-wallet-available\n",
      "https://www.quora.com/Is-it-necessary-to-have-a-bank-account-for-bitcoin-trading\n",
      "https://www.quora.com/Why-is-the-block-hash-smaller-than-the-previous-block-If-so-doesnt-this-limit-the-size-of-the-chain\n",
      "https://www.quora.com/YoBit-exchange-didnt-credit-my-ETH-Support-didnt-answer-my-ticket-It-is-more-than-a-month-now-I-can-prove-the-transaction-with-EtherScan-What-should-I-do-now\n",
      "https://www.quora.com/unanswered/Why-dont-we-have-more-trusts-similar-to-GBTC-tracking-bitcoins-Given-that-ETFs-are-not-yet-approved-who-is-stopping-them-from-creating-more-similar-trusts\n",
      "https://www.quora.com/Could-the-Petro-cryptocurrency-succeed-despite-being-an-initiative-of-the-government-sanctioned-by-the-USA-and-the-EU\n",
      "https://www.quora.com/Why-are-all-cryptos-dropping-in-price\n",
      "https://www.quora.com/Can-I-start-bitcoin-without-its-knowledge\n",
      "https://www.quora.com/Is-the-bitcoin-trading-ban-really-something-to-be-scared-of\n",
      "https://www.quora.com/unanswered/Are-fake-misleading-rumor-hyping-news-stories-being-circulated-to-panic-bitcoin-investors-so-that-investors-can-pick-up-bitcoin-at-cheap-prices\n",
      "https://www.quora.com/Is-the-price-of-bitcoin-going-down-even-more-after-it-hit-8800-and-why\n",
      "https://www.quora.com/unanswered/What-is-the-least-amount-of-money-you-can-transfer-from-Coinbase-to-Bittrex\n",
      "https://www.quora.com/unanswered/Which-app-is-the-top-3-app-for-investing-in-Bitcoin\n",
      "https://www.quora.com/Is-it-a-good-idea-to-buy-Bitcoin-under-9k-or-is-it-dying\n",
      "https://www.quora.com/Is-Bitcoin-in-the-future-sustainable-due-to-it-s-massive-energy-consumption-and-it-s-extreme-carbon-footprint\n",
      "https://www.quora.com/How-do-I-avoid-cheating-when-selling-Bitcoin-via-PayPal\n",
      "https://www.quora.com/Is-investing-money-in-the-bitcoins-safe-or-not-safe\n",
      "https://www.quora.com/Why-is-India-still-so-backwards-in-terms-of-cryptocurrency\n",
      "https://www.quora.com/Are-there-any-cryptocurrency-exchanges-where-I-can-open-an-account-and-buy-BTC-etc-without-having-a-passport-or-driver-s-licence-for-an-ID\n",
      "https://www.quora.com/Will-the-Monero-XMR-rocket-in-value-in-the-coming-years\n"
     ]
    },
    {
     "name": "stdout",
     "output_type": "stream",
     "text": [
      "https://www.quora.com/Is-the-Stratis-coin-still-rising-Do-you-think-itll-be-around-like-Bitcoin\n",
      "https://www.quora.com/Why-did-India-ban-cryptocurrency\n",
      "https://www.quora.com/Is-BTC-difficulty-going-to-decrease-in-the-next-weeks-because-of-the-low-prices-or-will-it-stay-at-least-stable\n",
      "https://www.quora.com/Is-it-possible-to-buy-Altcoins-with-cash-or-only-with-Bitcoin\n",
      "https://www.quora.com/unanswered/What-is-the-worst-Bitcoin-loss-story-youve-heard-or-experienced\n",
      "https://www.quora.com/Is-the-current-downfall-of-crypto-currency-similar-to-the-one-when-China-banned-Bitcoin\n",
      "https://www.quora.com/Is-there-a-website-that-sells-Bitcoins-for-cash-or-where-you-can-pay-with-a-credit-card-How-do-those-companies-buy-Bitcoin-with-cash\n",
      "https://www.quora.com/Should-I-set-my-stop-loss-on-bitcoin-at-5-000\n",
      "https://www.quora.com/Where-do-you-see-Ardor-ADR-by-the-end-of-2018\n",
      "https://www.quora.com/What-would-happen-if-some-master-hacker-managed-to-delete-all-virtual-money-bitcoins-bank-accounts-etc-in-a-country-such-as-the-USA\n",
      "https://www.quora.com/How-can-we-find-out-whether-a-vast-majority-of-Bitcoins-are-controlled-by-a-small-group-of-manipulators-or-not\n",
      "https://www.quora.com/Why-did-India-declare-Bitcoin-as-illegal\n",
      "https://www.quora.com/What-will-happen-to-bitcoin-Will-its-value-rise-or-not\n",
      "https://www.quora.com/Do-you-think-Indias-finance-minister-statement-affected-bitcoin-and-other-cryptos\n",
      "https://www.quora.com/Has-Bitcoin-been-hacked\n",
      "https://www.quora.com/Do-you-know-someones-just-solved-a-three-year-old-40-000-Bitcoin-puzzle\n",
      "https://www.quora.com/What-is-the-best-bitcoin-wallet-on-Reddit\n",
      "https://www.quora.com/Why-is-the-cryptocurrency-price-falling-day-by-day\n",
      "https://www.quora.com/How-do-I-buy-25-bitcoin-in-Australia\n",
      "https://www.quora.com/Who-thinks-that-John-McAfee-is-right-about-his-prediction-of-Bitcoin-to-500-000\n",
      "https://www.quora.com/Does-someone-have-an-estimate-of-how-much-net-money-has-been-converted-into-bitcoin\n",
      "https://www.quora.com/What-websites-are-trusted-in-Bitcoin-harvesting\n",
      "https://www.quora.com/unanswered/How-should-I-trade-in-Bitcoin-futures\n",
      "https://www.quora.com/Are-we-witnessing-the-end-of-Bitcoin\n",
      "https://www.quora.com/If-you-created-Bitcoin-will-you-sell-now\n",
      "https://www.quora.com/Is-bitcoin-collapsing\n",
      "https://www.quora.com/In-which-month-bitcoin-is-high\n",
      "https://www.quora.com/unanswered/If-BTC-is-banned-in-China-then-how-do-people-convert-fiats-to-BTC\n",
      "https://www.quora.com/Should-I-still-invest-in-Bitcoin-as-the-FM-said-they-will-ban-it-in-India\n",
      "https://www.quora.com/Bitcoin-is-crashing-early-It-was-14-000-NZD-now-it-is-8000NZD-Why\n",
      "https://www.quora.com/What-is-Robinhood-Crypto\n",
      "https://www.quora.com/How-do-I-invest-in-Bitcoin-and-earn-money\n",
      "https://www.quora.com/Are-there-any-legit-Bitcoin-generators-which-pay-for-free-either-in-PC-or-Android\n",
      "https://www.quora.com/What-is-meant-by-bitcoin-miners\n",
      "https://www.quora.com/Should-we-invest-in-Bitcoin-after-the-budget-of-2018-in-India\n",
      "https://www.quora.com/Will-cryptocurrency-rise-again-in-2018-to-at-least-50-of-the-2017-ending\n",
      "https://www.quora.com/Someone-wants-to-pay-me-in-bitcoin-which-I-am-not-opposed-to-I-have-never-accepted-a-cryptocurrency-how-do-I-set-this-up\n",
      "https://www.quora.com/Will-the-Bitcoin-price-go-down-further\n",
      "https://www.quora.com/unanswered/Which-is-the-most-trusted-Bitcoin-exchange-in-Ghana\n",
      "https://www.quora.com/How-do-I-become-a-miner-for-getting-bitcoin\n",
      "https://www.quora.com/When-do-I-know-it-is-time-to-cut-my-loss-on-bitcoin-Should-I-stick-with-my-original-stop-loss-level\n",
      "https://www.quora.com/Why-is-the-Bitcoin-exchange-rate-in-constant-decline-over-the-last-30-days\n",
      "https://www.quora.com/Is-it-the-right-time-to-buy-Bitcoin-at-8700\n",
      "https://www.quora.com/Why-are-the-majority-of-cryptocurrencies-tanking\n",
      "https://www.quora.com/Assuming-Tether-is-a-scam-whats-the-bottom-for-bitcoin\n",
      "https://www.quora.com/Is-there-anything-out-there-via-book-Ted-Talks-YouTube-etc-that-explain-Bitcoin\n",
      "https://www.quora.com/If-I-help-a-friend-buy-and-sell-Bitcoin-using-my-bank-account-and-exchange-will-I-get-taxed-by-the-IRS-We-are-both-in-the-US\n",
      "https://www.quora.com/Is-there-an-exchange-that-Hawaii-residents-can-use-to-convert-bitcoin-into-USD-Im-uncomfortable-selling-to-individuals-in-person\n",
      "https://www.quora.com/Is-there-anyone-else-that-thinks-it-s-the-central-banks-trying-to-destroy-bitcoin\n",
      "https://www.quora.com/Do-you-think-bitcoin-and-other-cryptocurrencies-are-at-their-end\n",
      "https://www.quora.com/unanswered/Why-is-Bitcoin-on-Bitfinex-200-500-more-expensive-than-on-GDAX-according-to-price-movements-today\n",
      "https://www.quora.com/unanswered/John-McAfee-promised-to-eat-his-own-dick-if-bitcoin-trades-below-1-million-USD-by-end-of-2020-should-he-be-worried-now-that-bitcoin-has-crashed-to-9000-USD-as-of-February-2018\n",
      "https://www.quora.com/How-do-you-buy-Bitcoins-How-would-you-cash-them-in-What-makes-the-market-fluctuate\n",
      "https://www.quora.com/Is-it-dangerous-to-save-my-bitcoins-in-Bitpanda\n",
      "https://www.quora.com/What-is-a-Bitcoin-auto-trader\n",
      "https://www.quora.com/Why-did-the-Bitcoin-price-crash-on-Feb-01-2018\n",
      "https://www.quora.com/What-are-is-the-opinion-of-the-Quora-community-on-the-future-of-cryptocurrency-in-general-How-do-you-think-prices-will-behave-from-now-on-as-of-February-1st-2018-after-the-recent-media-hypes-and-the-big-crash\n",
      "https://www.quora.com/Was-Tether-or-the-Bitfinex-part-of-any-price-propping-to-keep-Bitcoin-above-10-000\n",
      "https://www.quora.com/If-BTC-and-other-cryptocurrencies-are-supposedly-not-able-to-be-regulated-by-the-government-then-why-is-its-price-affected-so-much-whenever-such-news-arise\n",
      "https://www.quora.com/unanswered/What-are-the-differences-between-Velix-ID-and-the-Ethereum-blockchain\n",
      "https://www.quora.com/Can-we-still-trade-with-Bitcoin-or-other-cryptocurrencies-after-knowing-the-budget-of-2018-19-of-India\n",
      "https://www.quora.com/What-cryptocurrencies-are-good-investments-if-I-need-to-make-money-for-university-fees\n",
      "https://www.quora.com/Why-is-Bitcoin-dropping-today-on-Feb-1st-2018\n",
      "https://www.quora.com/What-will-be-the-highest-price-of-Bitcoin-in-this-February\n",
      "running time: 2:11:57.422531\n"
     ]
    }
   ],
   "source": [
    "#questions = []\n",
    "tags = {}\n",
    "answers = []\n",
    "start_time = datetime.datetime.now() \n",
    "\n",
    "for link in test_links:\n",
    "    #print(link)\n",
    "    # Specify path where I save the webdriver for windows\n",
    "    executable_path = './geckodriver'\n",
    "\n",
    "    # Initiator the webdriver for Firefox browser\n",
    "    driver = webdriver.Firefox(executable_path=executable_path)\n",
    "\n",
    "    # Wait to let webdriver complete the initialization\n",
    "    driver.wait = WebDriverWait(driver, 5)\n",
    "\n",
    "    # send a request to the website\n",
    "    driver.get(link)\n",
    "    \n",
    "    # scroll down page function\n",
    "    body = driver.find_element_by_css_selector('body')\n",
    "    \n",
    "    for each in range(10):\n",
    "\n",
    "        # scroll page down\n",
    "        body.send_keys(Keys.PAGE_DOWN)\n",
    "\n",
    "        # sleep; wait until pages to be loaded\n",
    "        time.sleep(2)\n",
    "    \n",
    "    # search & store questions (titles) part\n",
    "    selen_questions=driver.find_elements_by_css_selector(\"span.QuestionText span.rendered_qtext\")\n",
    "    \n",
    "    #for question in selen_questions:\n",
    "        #questions.append(question.text)\n",
    "     \n",
    "    # search & store tags part\n",
    "    selen_tags = driver.find_elements_by_css_selector(\"span.name_text span.TopicName.TopicNameSpan\")\n",
    "    \n",
    "    tag_ls = []\n",
    "    for each in selen_tags:\n",
    "        tag_ls.append(each.text)\n",
    "        \n",
    "    for question in selen_questions:\n",
    "        tags[question.text] = tag_ls\n",
    "    \n",
    "\n",
    "    # search & store answer part\n",
    "    selen_answers = driver.find_elements_by_css_selector(\"div.ui_qtext_expanded span.ui_qtext_rendered_qtext\")\n",
    "    \n",
    "    full_text = []\n",
    "    \n",
    "    if selen_answers == []:\n",
    "        full_text = \"NA\"\n",
    "        answers.append([question.text, full_text])\n",
    "        \n",
    "    else:\n",
    "        for each in selen_answers:\n",
    "            answers.append([question.text, each.text])\n",
    "        \n",
    "    driver.quit()\n",
    "\n",
    "print(\"running time:\", datetime.datetime.now()-start_time)"
   ]
  },
  {
   "cell_type": "markdown",
   "metadata": {},
   "source": [
    "### 4. Store (Update) data"
   ]
  },
  {
   "cell_type": "code",
   "execution_count": 41,
   "metadata": {},
   "outputs": [],
   "source": [
    "with open('tag.csv', mode='r') as infile:\n",
    "    reader = csv.reader(infile)\n",
    "    next(reader)\n",
    "    mydict = {rows[0]:rows[1:] for rows in reader}"
   ]
  },
  {
   "cell_type": "code",
   "execution_count": 42,
   "metadata": {},
   "outputs": [
    {
     "data": {
      "text/plain": [
       "300"
      ]
     },
     "execution_count": 42,
     "metadata": {},
     "output_type": "execute_result"
    }
   ],
   "source": [
    "len(tags)"
   ]
  },
  {
   "cell_type": "code",
   "execution_count": 43,
   "metadata": {},
   "outputs": [
    {
     "data": {
      "text/plain": [
       "898"
      ]
     },
     "execution_count": 43,
     "metadata": {},
     "output_type": "execute_result"
    }
   ],
   "source": [
    "len(mydict)"
   ]
  },
  {
   "cell_type": "code",
   "execution_count": 44,
   "metadata": {},
   "outputs": [],
   "source": [
    "mydict.update(tags)"
   ]
  },
  {
   "cell_type": "code",
   "execution_count": 45,
   "metadata": {},
   "outputs": [
    {
     "data": {
      "text/plain": [
       "1198"
      ]
     },
     "execution_count": 45,
     "metadata": {},
     "output_type": "execute_result"
    }
   ],
   "source": [
    "len(mydict)"
   ]
  },
  {
   "cell_type": "code",
   "execution_count": 48,
   "metadata": {},
   "outputs": [],
   "source": [
    "csv = open(\"tag.csv\", \"w\") \n",
    "\n",
    "columnTitleRow = \"question, tag\\n\"\n",
    "csv.write(columnTitleRow)\n",
    "\n",
    "for key, value in mydict.items():\n",
    "    question = key.replace(',',';')\n",
    "    tag = str(value)\n",
    "    row = question + \",\" + tag + \"\\n\"\n",
    "    csv.write(row)"
   ]
  }
 ],
 "metadata": {
  "kernelspec": {
   "display_name": "Python 3",
   "language": "python",
   "name": "python3"
  },
  "language_info": {
   "codemirror_mode": {
    "name": "ipython",
    "version": 3
   },
   "file_extension": ".py",
   "mimetype": "text/x-python",
   "name": "python",
   "nbconvert_exporter": "python",
   "pygments_lexer": "ipython3",
   "version": "3.6.4"
  }
 },
 "nbformat": 4,
 "nbformat_minor": 2
}
