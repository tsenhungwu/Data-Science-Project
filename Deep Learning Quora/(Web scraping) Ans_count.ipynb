{
 "cells": [
  {
   "cell_type": "markdown",
   "metadata": {},
   "source": [
    "# Main task: Web Scraping for answer count in Quora Website\n",
    "- Count how many answers under each question"
   ]
  },
  {
   "cell_type": "markdown",
   "metadata": {},
   "source": [
    "### 1. Import packages"
   ]
  },
  {
   "cell_type": "code",
   "execution_count": 21,
   "metadata": {},
   "outputs": [],
   "source": [
    "import requests\n",
    "import pandas as pd\n",
    "from IPython.core.interactiveshell import InteractiveShell\n",
    "from bs4 import BeautifulSoup\n",
    "InteractiveShell.ast_node_interactivity = \"all\""
   ]
  },
  {
   "cell_type": "markdown",
   "metadata": {},
   "source": [
    "### 2. Read the dataset"
   ]
  },
  {
   "cell_type": "code",
   "execution_count": 11,
   "metadata": {},
   "outputs": [],
   "source": [
    "with open(\"Combined_links.csv\",'r') as f:\n",
    "    pages=[line.strip() for line in f]\n",
    "    pages=[line.strip('\\ufeff') for line in pages]"
   ]
  },
  {
   "cell_type": "code",
   "execution_count": 16,
   "metadata": {},
   "outputs": [
    {
     "name": "stdout",
     "output_type": "stream",
     "text": [
      "Check the first three links:\n",
      " ['https://www.quora.com/100-years-from-now-present-bitcoin-holders-will-die-and-access-to-their-private-keys-will-be-lost-How-can-we-expect-to-take-bitcoin-seriously-as-a-main-form-of-currency-if-we-will-forever-have-to-deal-with-this', 'https://www.quora.com/20-000-for-bitcoin-cloud-mining-how-much-profit-will-I-make-in-a-year', 'https://www.quora.com/A-few-BTCs-were-sent-to-my-wallet-is-it-possible-for-me-to-spend-those-BTCs-without-downloading-the-entire-blockchain-My-wallet-does-not-show-me-my-BTCs-but-everyone-should-know-I-own-them-since-the-info-must-be-in']\n"
     ]
    }
   ],
   "source": [
    "print('Check the first three links:\\n', pages[0:3])"
   ]
  },
  {
   "cell_type": "markdown",
   "metadata": {},
   "source": [
    "### 3. Main part: Extract the answer count for each link (each question)"
   ]
  },
  {
   "cell_type": "code",
   "execution_count": 18,
   "metadata": {},
   "outputs": [
    {
     "name": "stdout",
     "output_type": "stream",
     "text": [
      "https://www.quora.com/100-years-from-now-present-bitcoin-holders-will-die-and-access-to-their-private-keys-will-be-lost-How-can-we-expect-to-take-bitcoin-seriously-as-a-main-form-of-currency-if-we-will-forever-have-to-deal-with-this\n",
      "10\n",
      "https://www.quora.com/20-000-for-bitcoin-cloud-mining-how-much-profit-will-I-make-in-a-year\n",
      "3\n",
      "https://www.quora.com/A-few-BTCs-were-sent-to-my-wallet-is-it-possible-for-me-to-spend-those-BTCs-without-downloading-the-entire-blockchain-My-wallet-does-not-show-me-my-BTCs-but-everyone-should-know-I-own-them-since-the-info-must-be-in\n",
      "3\n",
      "https://www.quora.com/A-man-named-Mukesh-Agarwal-claims-to-be-the-inventor-of-Bitcoin-Is-it-true-or-false\n",
      "10\n",
      "https://www.quora.com/A-potential-client-may-insist-on-paying-my-entire-2-year-contract-in-Bitcoins-How-safe-is-my-money-in-this-digital-currency-that-I-know-little-about-Will-I-be-able-to-buy-most-things-to-live-or-do-I-first-need-to-find-exchange-buyers-and-paper-money\n",
      "10\n",
      "https://www.quora.com/A-single-trader-was-reportedly-responsible-for-Bitcoins-rise-from-150-to-1-000-in-2013-What-are-the-details-Who-did-this-How-did-they-do-it-Have-they-sold-What-are-the-implications-How-accurate-is-this-claim\n",
      "4\n",
      "https://www.quora.com/A-very-long-time-ago-I-downloaded-a-Bitcoin-wallet-and-bought-a-Bitcoin-to-store-in-it-I-dont-remember-any-of-the-details-Is-there-any-way-of-recovering-my-Bitcoin\n",
      "2\n",
      "https://www.quora.com/About-five-years-ago-I-bought-a-couple-Bitcoins-total-cost-about-300-USD-But-then-they-just-seemed-to-disappear-in-cyberspace-Is-there-anything-that-can-be-done-at-this-time\n",
      "4\n",
      "https://www.quora.com/According-to-Bitcoin-users-assumptions-when-will-Bitcoin-reach-its-peak-value-in-January-2018\n",
      "2\n",
      "https://www.quora.com/According-to-the-prediction-price-of-bitcoin-how-much-do-I-need-to-invest-now-to-get-10-lakh-by-the-end-of-2020\n",
      "3\n"
     ]
    }
   ],
   "source": [
    "# Can check the range for the pages (e.g. at here extract the first 10 links)\n",
    "Site=[]\n",
    "Answer_count=[]\n",
    "\n",
    "for site in pages[0:10]:       \n",
    "    page = requests.get(site)\n",
    "    if page.status_code==200:\n",
    "        soup = BeautifulSoup(page.content, 'html.parser')\n",
    "        Site.append(site)\n",
    "        print(site)\n",
    "        if soup.find_all('div',class_='answer_count') == []:\n",
    "            answer_count='0'\n",
    "            Answer_count.append(answer_count)\n",
    "            print('0')\n",
    "            \n",
    "        else:\n",
    "            for k in soup.find_all('div',class_='answer_count'):\n",
    "            #print(k)\n",
    "                k_children=list(k.children)\n",
    "\n",
    "                answer_count=k_children[0].get_text()\n",
    "                Answer_count.append(answer_count)\n",
    "                print(answer_count)"
   ]
  },
  {
   "cell_type": "markdown",
   "metadata": {},
   "source": [
    "### 4. Verification"
   ]
  },
  {
   "cell_type": "code",
   "execution_count": 19,
   "metadata": {},
   "outputs": [
    {
     "data": {
      "text/plain": [
       "10"
      ]
     },
     "execution_count": 19,
     "metadata": {},
     "output_type": "execute_result"
    },
    {
     "data": {
      "text/plain": [
       "10"
      ]
     },
     "execution_count": 19,
     "metadata": {},
     "output_type": "execute_result"
    }
   ],
   "source": [
    "len(Site)\n",
    "len(Answer_count)"
   ]
  },
  {
   "cell_type": "markdown",
   "metadata": {},
   "source": [
    "### 5. Save the data"
   ]
  },
  {
   "cell_type": "code",
   "execution_count": 20,
   "metadata": {},
   "outputs": [],
   "source": [
    "c={\"site\":Site,\\\n",
    "   \"answer_count\":Answer_count}\n",
    "df=pd.DataFrame(c,columns=['site','answer_count'])\n",
    "df.to_csv(\"answer_count25.csv\",index=False)"
   ]
  }
 ],
 "metadata": {
  "kernelspec": {
   "display_name": "Python 3",
   "language": "python",
   "name": "python3"
  },
  "language_info": {
   "codemirror_mode": {
    "name": "ipython",
    "version": 3
   },
   "file_extension": ".py",
   "mimetype": "text/x-python",
   "name": "python",
   "nbconvert_exporter": "python",
   "pygments_lexer": "ipython3",
   "version": "3.6.4"
  }
 },
 "nbformat": 4,
 "nbformat_minor": 2
}
