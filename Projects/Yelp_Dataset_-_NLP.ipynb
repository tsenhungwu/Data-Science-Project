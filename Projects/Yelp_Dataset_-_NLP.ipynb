{
 "cells": [
  {
   "cell_type": "markdown",
   "metadata": {},
   "source": [
    "# Yelp Data Challenge - NLP"
   ]
  },
  {
   "cell_type": "markdown",
   "metadata": {},
   "source": [
    "## Main tasks\n",
    "1. Read in the dataset\n",
    "2. Define feature variables\n",
    "3. Define a target variable\n",
    "4. Create train and test dataset\n",
    "5. Get NLP representation of the documents\n",
    "6. Similar review search engine\n",
    "    - 6.1 Summary on the search engine\n",
    "7. Classifying positive/negative review\n",
    "    - 7.1 Naive-Bayes Classifier\n",
    "    - 7.2 Logistic Regression Classifier\n",
    "        - 7.2.1 What are the key features (words) that make the positive prediction?\n",
    "        - 7.2.2 Summary\n",
    "        - 7.2.3 What are the key features (words) that make the negative prediction?\n",
    "        - 7.2.4 Summary\n",
    "    - 7.3 Random Forest Classifier\n",
    "        - 7.3.1 What features (words) are important by inspecting the RFC model?\n",
    "    - 7.4 Model Comparison\n",
    "8. Use cross validation to evaluate your classifiers\n",
    "    - 8.1 Naive-Bayes Classifier\n",
    "    - 8.2 Logistic Regression\n",
    "    - 8.3 Random Forest\n",
    "9. Use grid search to find best predictable classifier\n",
    "    - 9.1 Grid search - Naive Bayes\n",
    "    - 9.2 Grid search - Logistic Regression\n",
    "    - 9.3 Randomized grid search - Random Forest\n",
    "    - 9.4 Model comparision"
   ]
  },
  {
   "cell_type": "code",
   "execution_count": 1,
   "metadata": {},
   "outputs": [],
   "source": [
    "import pandas as pd\n",
    "import numpy as np"
   ]
  },
  {
   "cell_type": "markdown",
   "metadata": {},
   "source": [
    "## 1. Read in the dataset"
   ]
  },
  {
   "cell_type": "code",
   "execution_count": 2,
   "metadata": {},
   "outputs": [],
   "source": [
    "df = pd.read_csv('./dataset/last_2_years_restaurant_reviews.csv',\n",
    "                 encoding = 'utf-8')"
   ]
  },
  {
   "cell_type": "code",
   "execution_count": 3,
   "metadata": {},
   "outputs": [
    {
     "data": {
      "text/html": [
       "<div>\n",
       "<style scoped>\n",
       "    .dataframe tbody tr th:only-of-type {\n",
       "        vertical-align: middle;\n",
       "    }\n",
       "\n",
       "    .dataframe tbody tr th {\n",
       "        vertical-align: top;\n",
       "    }\n",
       "\n",
       "    .dataframe thead th {\n",
       "        text-align: right;\n",
       "    }\n",
       "</style>\n",
       "<table border=\"1\" class=\"dataframe\">\n",
       "  <thead>\n",
       "    <tr style=\"text-align: right;\">\n",
       "      <th></th>\n",
       "      <th>business_id</th>\n",
       "      <th>name</th>\n",
       "      <th>categories</th>\n",
       "      <th>avg_stars</th>\n",
       "      <th>cool</th>\n",
       "      <th>funny</th>\n",
       "      <th>review_id</th>\n",
       "      <th>stars</th>\n",
       "      <th>text</th>\n",
       "      <th>useful</th>\n",
       "      <th>user_id</th>\n",
       "      <th>count</th>\n",
       "      <th>text_length</th>\n",
       "    </tr>\n",
       "  </thead>\n",
       "  <tbody>\n",
       "    <tr>\n",
       "      <th>0</th>\n",
       "      <td>--9e1ONYQuAa-CB_Rrw7Tw</td>\n",
       "      <td>Delmonico Steakhouse</td>\n",
       "      <td>['Cajun/Creole', 'Steakhouses', 'Restaurants']</td>\n",
       "      <td>4.0</td>\n",
       "      <td>0</td>\n",
       "      <td>0</td>\n",
       "      <td>6SgvNWJltnZhW7duJgZ42w</td>\n",
       "      <td>5</td>\n",
       "      <td>This is mine and my fiancé's favorite steakhou...</td>\n",
       "      <td>0</td>\n",
       "      <td>oFyOUOeGTRZhFPF9uTqrTQ</td>\n",
       "      <td>1</td>\n",
       "      <td>341</td>\n",
       "    </tr>\n",
       "    <tr>\n",
       "      <th>1</th>\n",
       "      <td>--9e1ONYQuAa-CB_Rrw7Tw</td>\n",
       "      <td>Delmonico Steakhouse</td>\n",
       "      <td>['Cajun/Creole', 'Steakhouses', 'Restaurants']</td>\n",
       "      <td>4.0</td>\n",
       "      <td>0</td>\n",
       "      <td>0</td>\n",
       "      <td>iwx6s6yQxc7yjS7NFANZig</td>\n",
       "      <td>4</td>\n",
       "      <td>Nice atmosphere and wonderful service. I had t...</td>\n",
       "      <td>0</td>\n",
       "      <td>2aeNFntqY2QDZLADNo8iQQ</td>\n",
       "      <td>1</td>\n",
       "      <td>417</td>\n",
       "    </tr>\n",
       "    <tr>\n",
       "      <th>2</th>\n",
       "      <td>--9e1ONYQuAa-CB_Rrw7Tw</td>\n",
       "      <td>Delmonico Steakhouse</td>\n",
       "      <td>['Cajun/Creole', 'Steakhouses', 'Restaurants']</td>\n",
       "      <td>4.0</td>\n",
       "      <td>0</td>\n",
       "      <td>0</td>\n",
       "      <td>UVUMu_bELdA56Ryfbur-DA</td>\n",
       "      <td>5</td>\n",
       "      <td>Every year a group of us (we had 6 this year) ...</td>\n",
       "      <td>1</td>\n",
       "      <td>gmPP4YFrgYsYQqPYokMgFA</td>\n",
       "      <td>1</td>\n",
       "      <td>493</td>\n",
       "    </tr>\n",
       "    <tr>\n",
       "      <th>3</th>\n",
       "      <td>--9e1ONYQuAa-CB_Rrw7Tw</td>\n",
       "      <td>Delmonico Steakhouse</td>\n",
       "      <td>['Cajun/Creole', 'Steakhouses', 'Restaurants']</td>\n",
       "      <td>4.0</td>\n",
       "      <td>0</td>\n",
       "      <td>0</td>\n",
       "      <td>UxFpgng8dPMWOj99653k5Q</td>\n",
       "      <td>5</td>\n",
       "      <td>Truly Fantastic!  Best Steak ever. Service was...</td>\n",
       "      <td>0</td>\n",
       "      <td>aVOGlN9fZ-BXcbtj6dbf0g</td>\n",
       "      <td>1</td>\n",
       "      <td>152</td>\n",
       "    </tr>\n",
       "    <tr>\n",
       "      <th>4</th>\n",
       "      <td>--9e1ONYQuAa-CB_Rrw7Tw</td>\n",
       "      <td>Delmonico Steakhouse</td>\n",
       "      <td>['Cajun/Creole', 'Steakhouses', 'Restaurants']</td>\n",
       "      <td>4.0</td>\n",
       "      <td>0</td>\n",
       "      <td>0</td>\n",
       "      <td>Xp3ppynEvVu1KxDHQ3ae8w</td>\n",
       "      <td>5</td>\n",
       "      <td>Delmonico Steakhouse is a steakhouse owned by ...</td>\n",
       "      <td>0</td>\n",
       "      <td>KC8H7qTZVPIEnanw9fG43g</td>\n",
       "      <td>1</td>\n",
       "      <td>914</td>\n",
       "    </tr>\n",
       "  </tbody>\n",
       "</table>\n",
       "</div>"
      ],
      "text/plain": [
       "              business_id                  name  \\\n",
       "0  --9e1ONYQuAa-CB_Rrw7Tw  Delmonico Steakhouse   \n",
       "1  --9e1ONYQuAa-CB_Rrw7Tw  Delmonico Steakhouse   \n",
       "2  --9e1ONYQuAa-CB_Rrw7Tw  Delmonico Steakhouse   \n",
       "3  --9e1ONYQuAa-CB_Rrw7Tw  Delmonico Steakhouse   \n",
       "4  --9e1ONYQuAa-CB_Rrw7Tw  Delmonico Steakhouse   \n",
       "\n",
       "                                       categories  avg_stars  cool  funny  \\\n",
       "0  ['Cajun/Creole', 'Steakhouses', 'Restaurants']        4.0     0      0   \n",
       "1  ['Cajun/Creole', 'Steakhouses', 'Restaurants']        4.0     0      0   \n",
       "2  ['Cajun/Creole', 'Steakhouses', 'Restaurants']        4.0     0      0   \n",
       "3  ['Cajun/Creole', 'Steakhouses', 'Restaurants']        4.0     0      0   \n",
       "4  ['Cajun/Creole', 'Steakhouses', 'Restaurants']        4.0     0      0   \n",
       "\n",
       "                review_id  stars  \\\n",
       "0  6SgvNWJltnZhW7duJgZ42w      5   \n",
       "1  iwx6s6yQxc7yjS7NFANZig      4   \n",
       "2  UVUMu_bELdA56Ryfbur-DA      5   \n",
       "3  UxFpgng8dPMWOj99653k5Q      5   \n",
       "4  Xp3ppynEvVu1KxDHQ3ae8w      5   \n",
       "\n",
       "                                                text  useful  \\\n",
       "0  This is mine and my fiancé's favorite steakhou...       0   \n",
       "1  Nice atmosphere and wonderful service. I had t...       0   \n",
       "2  Every year a group of us (we had 6 this year) ...       1   \n",
       "3  Truly Fantastic!  Best Steak ever. Service was...       0   \n",
       "4  Delmonico Steakhouse is a steakhouse owned by ...       0   \n",
       "\n",
       "                  user_id  count  text_length  \n",
       "0  oFyOUOeGTRZhFPF9uTqrTQ      1          341  \n",
       "1  2aeNFntqY2QDZLADNo8iQQ      1          417  \n",
       "2  gmPP4YFrgYsYQqPYokMgFA      1          493  \n",
       "3  aVOGlN9fZ-BXcbtj6dbf0g      1          152  \n",
       "4  KC8H7qTZVPIEnanw9fG43g      1          914  "
      ]
     },
     "execution_count": 3,
     "metadata": {},
     "output_type": "execute_result"
    }
   ],
   "source": [
    "df.head()"
   ]
  },
  {
   "cell_type": "markdown",
   "metadata": {},
   "source": [
    "## 2. Define feature variables\n",
    "- Here is the text of the review"
   ]
  },
  {
   "cell_type": "code",
   "execution_count": 4,
   "metadata": {},
   "outputs": [],
   "source": [
    "# Take the values of the text column, and save to a variable named \"documents\"\n",
    "documents = df.text.values"
   ]
  },
  {
   "cell_type": "code",
   "execution_count": 5,
   "metadata": {},
   "outputs": [
    {
     "name": "stdout",
     "output_type": "stream",
     "text": [
      "This is mine and my fiancé's favorite steakhouse here in Las Vegas! We often stop in and see our favorite server, Michael Jackson, who simply completes the fine dining experience for us. He is always so pleasant and knowledgable about the menu and suggests amazing dishes each time! I have never been disappointed here and will be back soon!\n",
      "\n",
      "515752\n",
      "\n",
      "<class 'numpy.ndarray'>\n",
      "\n",
      "<class 'str'>\n"
     ]
    }
   ],
   "source": [
    "# Inspect documents, e.g. check the size\n",
    "print(documents[0])\n",
    "print()\n",
    "print(len(documents))\n",
    "print()\n",
    "print(type(documents))\n",
    "print()\n",
    "print(type(documents[0]))"
   ]
  },
  {
   "cell_type": "markdown",
   "metadata": {},
   "source": [
    "## 3. Define a target variable \n",
    "#### For example, I am interested in splitting star ratings into perfect (5 stars) and imperfect (1-4 stars)"
   ]
  },
  {
   "cell_type": "code",
   "execution_count": 6,
   "metadata": {},
   "outputs": [
    {
     "name": "stdout",
     "output_type": "stream",
     "text": [
      "[ True False  True  True  True]\n",
      "<class 'numpy.ndarray'>\n",
      "<class 'numpy.bool_'>\n"
     ]
    }
   ],
   "source": [
    "# Make a column named \"target\" containing boolean values, either True or False\n",
    "df['target'] = (df.stars > 4).values\n",
    "\n",
    "target = df['target'].values\n",
    "\n",
    "print(target[0:5])\n",
    "print(type(target))\n",
    "print(type(target[0]))"
   ]
  },
  {
   "cell_type": "code",
   "execution_count": 7,
   "metadata": {
    "scrolled": true
   },
   "outputs": [
    {
     "data": {
      "text/html": [
       "<div>\n",
       "<style scoped>\n",
       "    .dataframe tbody tr th:only-of-type {\n",
       "        vertical-align: middle;\n",
       "    }\n",
       "\n",
       "    .dataframe tbody tr th {\n",
       "        vertical-align: top;\n",
       "    }\n",
       "\n",
       "    .dataframe thead th {\n",
       "        text-align: right;\n",
       "    }\n",
       "</style>\n",
       "<table border=\"1\" class=\"dataframe\">\n",
       "  <thead>\n",
       "    <tr style=\"text-align: right;\">\n",
       "      <th></th>\n",
       "      <th>business_id</th>\n",
       "      <th>name</th>\n",
       "      <th>categories</th>\n",
       "      <th>avg_stars</th>\n",
       "      <th>cool</th>\n",
       "      <th>funny</th>\n",
       "      <th>review_id</th>\n",
       "      <th>stars</th>\n",
       "      <th>text</th>\n",
       "      <th>useful</th>\n",
       "      <th>user_id</th>\n",
       "      <th>count</th>\n",
       "      <th>text_length</th>\n",
       "      <th>target</th>\n",
       "    </tr>\n",
       "  </thead>\n",
       "  <tbody>\n",
       "    <tr>\n",
       "      <th>0</th>\n",
       "      <td>--9e1ONYQuAa-CB_Rrw7Tw</td>\n",
       "      <td>Delmonico Steakhouse</td>\n",
       "      <td>['Cajun/Creole', 'Steakhouses', 'Restaurants']</td>\n",
       "      <td>4.0</td>\n",
       "      <td>0</td>\n",
       "      <td>0</td>\n",
       "      <td>6SgvNWJltnZhW7duJgZ42w</td>\n",
       "      <td>5</td>\n",
       "      <td>This is mine and my fiancé's favorite steakhou...</td>\n",
       "      <td>0</td>\n",
       "      <td>oFyOUOeGTRZhFPF9uTqrTQ</td>\n",
       "      <td>1</td>\n",
       "      <td>341</td>\n",
       "      <td>True</td>\n",
       "    </tr>\n",
       "    <tr>\n",
       "      <th>1</th>\n",
       "      <td>--9e1ONYQuAa-CB_Rrw7Tw</td>\n",
       "      <td>Delmonico Steakhouse</td>\n",
       "      <td>['Cajun/Creole', 'Steakhouses', 'Restaurants']</td>\n",
       "      <td>4.0</td>\n",
       "      <td>0</td>\n",
       "      <td>0</td>\n",
       "      <td>iwx6s6yQxc7yjS7NFANZig</td>\n",
       "      <td>4</td>\n",
       "      <td>Nice atmosphere and wonderful service. I had t...</td>\n",
       "      <td>0</td>\n",
       "      <td>2aeNFntqY2QDZLADNo8iQQ</td>\n",
       "      <td>1</td>\n",
       "      <td>417</td>\n",
       "      <td>False</td>\n",
       "    </tr>\n",
       "    <tr>\n",
       "      <th>2</th>\n",
       "      <td>--9e1ONYQuAa-CB_Rrw7Tw</td>\n",
       "      <td>Delmonico Steakhouse</td>\n",
       "      <td>['Cajun/Creole', 'Steakhouses', 'Restaurants']</td>\n",
       "      <td>4.0</td>\n",
       "      <td>0</td>\n",
       "      <td>0</td>\n",
       "      <td>UVUMu_bELdA56Ryfbur-DA</td>\n",
       "      <td>5</td>\n",
       "      <td>Every year a group of us (we had 6 this year) ...</td>\n",
       "      <td>1</td>\n",
       "      <td>gmPP4YFrgYsYQqPYokMgFA</td>\n",
       "      <td>1</td>\n",
       "      <td>493</td>\n",
       "      <td>True</td>\n",
       "    </tr>\n",
       "    <tr>\n",
       "      <th>3</th>\n",
       "      <td>--9e1ONYQuAa-CB_Rrw7Tw</td>\n",
       "      <td>Delmonico Steakhouse</td>\n",
       "      <td>['Cajun/Creole', 'Steakhouses', 'Restaurants']</td>\n",
       "      <td>4.0</td>\n",
       "      <td>0</td>\n",
       "      <td>0</td>\n",
       "      <td>UxFpgng8dPMWOj99653k5Q</td>\n",
       "      <td>5</td>\n",
       "      <td>Truly Fantastic!  Best Steak ever. Service was...</td>\n",
       "      <td>0</td>\n",
       "      <td>aVOGlN9fZ-BXcbtj6dbf0g</td>\n",
       "      <td>1</td>\n",
       "      <td>152</td>\n",
       "      <td>True</td>\n",
       "    </tr>\n",
       "    <tr>\n",
       "      <th>4</th>\n",
       "      <td>--9e1ONYQuAa-CB_Rrw7Tw</td>\n",
       "      <td>Delmonico Steakhouse</td>\n",
       "      <td>['Cajun/Creole', 'Steakhouses', 'Restaurants']</td>\n",
       "      <td>4.0</td>\n",
       "      <td>0</td>\n",
       "      <td>0</td>\n",
       "      <td>Xp3ppynEvVu1KxDHQ3ae8w</td>\n",
       "      <td>5</td>\n",
       "      <td>Delmonico Steakhouse is a steakhouse owned by ...</td>\n",
       "      <td>0</td>\n",
       "      <td>KC8H7qTZVPIEnanw9fG43g</td>\n",
       "      <td>1</td>\n",
       "      <td>914</td>\n",
       "      <td>True</td>\n",
       "    </tr>\n",
       "  </tbody>\n",
       "</table>\n",
       "</div>"
      ],
      "text/plain": [
       "              business_id                  name  \\\n",
       "0  --9e1ONYQuAa-CB_Rrw7Tw  Delmonico Steakhouse   \n",
       "1  --9e1ONYQuAa-CB_Rrw7Tw  Delmonico Steakhouse   \n",
       "2  --9e1ONYQuAa-CB_Rrw7Tw  Delmonico Steakhouse   \n",
       "3  --9e1ONYQuAa-CB_Rrw7Tw  Delmonico Steakhouse   \n",
       "4  --9e1ONYQuAa-CB_Rrw7Tw  Delmonico Steakhouse   \n",
       "\n",
       "                                       categories  avg_stars  cool  funny  \\\n",
       "0  ['Cajun/Creole', 'Steakhouses', 'Restaurants']        4.0     0      0   \n",
       "1  ['Cajun/Creole', 'Steakhouses', 'Restaurants']        4.0     0      0   \n",
       "2  ['Cajun/Creole', 'Steakhouses', 'Restaurants']        4.0     0      0   \n",
       "3  ['Cajun/Creole', 'Steakhouses', 'Restaurants']        4.0     0      0   \n",
       "4  ['Cajun/Creole', 'Steakhouses', 'Restaurants']        4.0     0      0   \n",
       "\n",
       "                review_id  stars  \\\n",
       "0  6SgvNWJltnZhW7duJgZ42w      5   \n",
       "1  iwx6s6yQxc7yjS7NFANZig      4   \n",
       "2  UVUMu_bELdA56Ryfbur-DA      5   \n",
       "3  UxFpgng8dPMWOj99653k5Q      5   \n",
       "4  Xp3ppynEvVu1KxDHQ3ae8w      5   \n",
       "\n",
       "                                                text  useful  \\\n",
       "0  This is mine and my fiancé's favorite steakhou...       0   \n",
       "1  Nice atmosphere and wonderful service. I had t...       0   \n",
       "2  Every year a group of us (we had 6 this year) ...       1   \n",
       "3  Truly Fantastic!  Best Steak ever. Service was...       0   \n",
       "4  Delmonico Steakhouse is a steakhouse owned by ...       0   \n",
       "\n",
       "                  user_id  count  text_length  target  \n",
       "0  oFyOUOeGTRZhFPF9uTqrTQ      1          341    True  \n",
       "1  2aeNFntqY2QDZLADNo8iQQ      1          417   False  \n",
       "2  gmPP4YFrgYsYQqPYokMgFA      1          493    True  \n",
       "3  aVOGlN9fZ-BXcbtj6dbf0g      1          152    True  \n",
       "4  KC8H7qTZVPIEnanw9fG43g      1          914    True  "
      ]
     },
     "execution_count": 7,
     "metadata": {},
     "output_type": "execute_result"
    }
   ],
   "source": [
    "df.head()"
   ]
  },
  {
   "cell_type": "code",
   "execution_count": 8,
   "metadata": {},
   "outputs": [
    {
     "name": "stdout",
     "output_type": "stream",
     "text": [
      "mean: 0.46397299477268145\n",
      "sd: 0.49870036584541505\n"
     ]
    }
   ],
   "source": [
    "# Look at the statistics of the target variable\n",
    "print('mean:', np.mean(target))\n",
    "print('sd:', np.std(target))"
   ]
  },
  {
   "cell_type": "markdown",
   "metadata": {},
   "source": [
    "## 4.Create train dataset and test dataset"
   ]
  },
  {
   "cell_type": "code",
   "execution_count": 9,
   "metadata": {},
   "outputs": [
    {
     "name": "stderr",
     "output_type": "stream",
     "text": [
      "/Users/wuchenhong/anaconda3/lib/python3.6/site-packages/sklearn/cross_validation.py:41: DeprecationWarning: This module was deprecated in version 0.18 in favor of the model_selection module into which all the refactored classes and functions are moved. Also note that the interface of the new CV iterators are different from that of this module. This module will be removed in 0.20.\n",
      "  \"This module will be removed in 0.20.\", DeprecationWarning)\n"
     ]
    }
   ],
   "source": [
    "from sklearn.cross_validation import train_test_split"
   ]
  },
  {
   "cell_type": "code",
   "execution_count": 10,
   "metadata": {},
   "outputs": [],
   "source": [
    "# Documents are Xs, target is y\n",
    "# Split data into documents_train, documents_test, target_train, target_test (80% & 20% splitting)\n",
    "documents_train, documents_test, target_train, target_test = train_test_split(documents,\n",
    "                                                                              target,\n",
    "                                                                              test_size = 0.2,\n",
    "                                                                              random_state = 0)"
   ]
  },
  {
   "cell_type": "markdown",
   "metadata": {},
   "source": [
    "## 5. Get NLP representation of the documents"
   ]
  },
  {
   "cell_type": "code",
   "execution_count": 11,
   "metadata": {},
   "outputs": [],
   "source": [
    "from sklearn.feature_extraction.text import TfidfVectorizer\n",
    "from nltk.corpus import stopwords"
   ]
  },
  {
   "cell_type": "code",
   "execution_count": 12,
   "metadata": {},
   "outputs": [],
   "source": [
    "# Create TfidfVectorizer named vectorizer\n",
    "# Use 2000 max_features to fast the computation speed\n",
    "vectorizer = TfidfVectorizer(stop_words='english', max_features=2000)"
   ]
  },
  {
   "cell_type": "code",
   "execution_count": 13,
   "metadata": {},
   "outputs": [
    {
     "name": "stderr",
     "output_type": "stream",
     "text": [
      "/Users/wuchenhong/anaconda3/lib/python3.6/site-packages/sklearn/feature_extraction/text.py:1089: FutureWarning: Conversion of the second argument of issubdtype from `float` to `np.floating` is deprecated. In future, it will be treated as `np.float64 == np.dtype(float).type`.\n",
      "  if hasattr(X, 'dtype') and np.issubdtype(X.dtype, np.float):\n"
     ]
    },
    {
     "name": "stdout",
     "output_type": "stream",
     "text": [
      "(412601, 2000)\n"
     ]
    }
   ],
   "source": [
    "# Vectorize the documents_train \n",
    "vectors_train = vectorizer.fit_transform(documents_train).toarray()\n",
    "print(vectors_train.shape)"
   ]
  },
  {
   "cell_type": "code",
   "execution_count": 14,
   "metadata": {},
   "outputs": [
    {
     "name": "stdout",
     "output_type": "stream",
     "text": [
      "2000\n"
     ]
    }
   ],
   "source": [
    "# Get the vocabularies\n",
    "vocab = vectorizer.get_feature_names()\n",
    "\n",
    "# Since I use max_features = 2000, the length must be equal to 2000\n",
    "print(len(vocab))"
   ]
  },
  {
   "cell_type": "code",
   "execution_count": 15,
   "metadata": {},
   "outputs": [
    {
     "name": "stderr",
     "output_type": "stream",
     "text": [
      "/Users/wuchenhong/anaconda3/lib/python3.6/site-packages/sklearn/feature_extraction/text.py:1089: FutureWarning: Conversion of the second argument of issubdtype from `float` to `np.floating` is deprecated. In future, it will be treated as `np.float64 == np.dtype(float).type`.\n",
      "  if hasattr(X, 'dtype') and np.issubdtype(X.dtype, np.float):\n"
     ]
    },
    {
     "name": "stdout",
     "output_type": "stream",
     "text": [
      "(103151, 2000)\n"
     ]
    }
   ],
   "source": [
    "# Vectorize the documents_test \n",
    "vectors_test = vectorizer.transform(documents_test).toarray()\n",
    "print(vectors_test.shape)"
   ]
  },
  {
   "cell_type": "markdown",
   "metadata": {},
   "source": [
    "## 6. Similar review search engine"
   ]
  },
  {
   "cell_type": "code",
   "execution_count": 16,
   "metadata": {},
   "outputs": [],
   "source": [
    "# Helper functions\n",
    "def get_top_values(lst, n, labels):\n",
    "    '''\n",
    "    INPUT: LIST, INTEGER, LIST\n",
    "    OUTPUT: LIST\n",
    "\n",
    "    Given a list of values, find the indices with the highest n values.\n",
    "    Return the labels for each of these indices.\n",
    "\n",
    "    e.g.\n",
    "    lst = [7, 3, 2, 4, 1]\n",
    "    n = 2\n",
    "    labels = [\"cat\", \"dog\", \"mouse\", \"pig\", \"rabbit\"]\n",
    "    output: [\"cat\", \"pig\"]\n",
    "    '''\n",
    "    # np.argsort by default sorts values in ascending order\n",
    "    return [labels[i] for i in np.argsort(lst)[::-1][:n]]  \n",
    "\n",
    "def get_bottom_values(lst, n, labels):\n",
    "    '''\n",
    "    INPUT: LIST, INTEGER, LIST\n",
    "    OUTPUT: LIST\n",
    "\n",
    "    Given a list of values, find the indices with the lowest n values.\n",
    "    Return the labels for each of these indices.\n",
    "\n",
    "    e.g.\n",
    "    lst = [7, 3, 2, 4, 1]\n",
    "    n = 2\n",
    "    labels = [\"cat\", \"dog\", \"mouse\", \"pig\", \"rabbit\"]\n",
    "    output: [\"mouse\", \"rabbit\"]\n",
    "    '''\n",
    "    return [labels[i] for i in np.argsort(lst)[:n]]"
   ]
  },
  {
   "cell_type": "code",
   "execution_count": 17,
   "metadata": {},
   "outputs": [],
   "source": [
    "# Use the cosine similarity as a distance measurement\n",
    "from sklearn.metrics.pairwise import cosine_similarity"
   ]
  },
  {
   "cell_type": "code",
   "execution_count": 18,
   "metadata": {},
   "outputs": [],
   "source": [
    "# Draw an arbitrary review from test (unseen in train) documents\n",
    "random_number = 8\n",
    "random_review_from_test = documents_test[random_number]"
   ]
  },
  {
   "cell_type": "code",
   "execution_count": 19,
   "metadata": {},
   "outputs": [
    {
     "name": "stderr",
     "output_type": "stream",
     "text": [
      "/Users/wuchenhong/anaconda3/lib/python3.6/site-packages/sklearn/feature_extraction/text.py:1089: FutureWarning: Conversion of the second argument of issubdtype from `float` to `np.floating` is deprecated. In future, it will be treated as `np.float64 == np.dtype(float).type`.\n",
      "  if hasattr(X, 'dtype') and np.issubdtype(X.dtype, np.float):\n"
     ]
    }
   ],
   "source": [
    "# Transform the drawn review(s) to vector(s)\n",
    "query = vectorizer.transform([random_review_from_test]).toarray()"
   ]
  },
  {
   "cell_type": "code",
   "execution_count": 20,
   "metadata": {},
   "outputs": [
    {
     "data": {
      "text/plain": [
       "(1, 2000)"
      ]
     },
     "execution_count": 20,
     "metadata": {},
     "output_type": "execute_result"
    }
   ],
   "source": [
    "query.shape"
   ]
  },
  {
   "cell_type": "code",
   "execution_count": 21,
   "metadata": {},
   "outputs": [],
   "source": [
    "# Calculate the similarity score(s) between vector(s) and train vectors\n",
    "cos_similar_score = cosine_similarity(query,vectors_train)"
   ]
  },
  {
   "cell_type": "code",
   "execution_count": 22,
   "metadata": {},
   "outputs": [],
   "source": [
    "# Find the top 5 most similar reviews \n",
    "n = 5\n",
    "top_5_similar = get_top_values(cos_similar_score[0], 5, documents_train)"
   ]
  },
  {
   "cell_type": "code",
   "execution_count": 23,
   "metadata": {},
   "outputs": [
    {
     "name": "stdout",
     "output_type": "stream",
     "text": [
      "My search query:\n",
      "The sports deli had amazing food. I was very impressed. There was a slight wait for the food but it was well worth it. I just have to say that it was really busy and Brian (the one calling the orders out) was doing an excellent job keeping up with the fast pace and gave me excellent customer service. He was very nice and I personally saw him make other guests very happy as well. I really hope management sees the great work Brian and the team is doing. As a frequent Vegas guest, I will for sure be back to the Rio and the Sports Deli because of Brian and his excellent staff. Great job guys!!!\n"
     ]
    }
   ],
   "source": [
    "print('My search query:')\n",
    "print(random_review_from_test)"
   ]
  },
  {
   "cell_type": "code",
   "execution_count": 24,
   "metadata": {},
   "outputs": [
    {
     "name": "stdout",
     "output_type": "stream",
     "text": [
      "Top 5 most similar reviews:\n",
      "\n",
      "Top 1 document is:\n",
      "Excellent food. My first time being  here. Not too busy. Manager was working the registers,  doing a great job.\n",
      "\n",
      "\n",
      "Top 2 document is:\n",
      "Had several friends recommend Jasons Deli in the past, So after a rough day at work I decided to check it out,  I've been really craving a decent Deli meal. I was floored! First off excellent customer / management service . Amazing salad bar, and Baked potatoe with all the fixings, fast and quick Reuban was to die for! Alot of bang for your buck. Definitely will be back very soon.\n",
      "\n",
      "\n",
      "Top 3 document is:\n",
      "After long time I came again to this place, the new owner doing a great job with the food quality and excellent customer service. It's was good experience and for sure I be back again.\n",
      "\n",
      "\n",
      "Top 4 document is:\n",
      "What a wonderful experience we had in this restaurant, first my server Mario on top of everything,then jesus running the food and asking if we need something else,then Yesenia with her wonderful customer service,Jazmine did such an amazing job too,great teamwork guys just keep doing what you are doing,because you are doing amazing job.THANKS YESENIA,MARIO,JESUS,JAZMINE\n",
      "\n",
      "\n",
      "Top 5 document is:\n",
      "Just wanted to say the food was OK but our waitress was one of the hardest working people in there she was all over Believe she was doing the job of everyone in there and her name was Bernadette so if you stop in Ri Ra hope to get her as your waitress I was watching her can't believe what a excellent job he was doing and fast thanks Bernadette\n",
      "\n",
      "\n"
     ]
    }
   ],
   "source": [
    "print('Top %s most similar reviews:' % n)\n",
    "print()\n",
    "for i, review in enumerate(top_5_similar):\n",
    "    print('Top '+str(i+1)+' document is:')\n",
    "    print(review)\n",
    "    print('\\n')"
   ]
  },
  {
   "cell_type": "markdown",
   "metadata": {},
   "source": [
    "#### 6.1 Summary on the search engine\n",
    "- All top five most similar reviews were pointing out few positive sides about their experience in the restaurants, and sentences were somehow ended with a similar manner such as 'I will come back again'. Another similar point is that all reviews were appraising the food they tasted were very delicious."
   ]
  },
  {
   "cell_type": "markdown",
   "metadata": {},
   "source": [
    "## 7. Classifying positive/negative review"
   ]
  },
  {
   "cell_type": "markdown",
   "metadata": {},
   "source": [
    "### 7.1 Naive-Bayes Classifier"
   ]
  },
  {
   "cell_type": "code",
   "execution_count": 25,
   "metadata": {},
   "outputs": [
    {
     "data": {
      "text/plain": [
       "MultinomialNB(alpha=1, class_prior=None, fit_prior=True)"
      ]
     },
     "execution_count": 25,
     "metadata": {},
     "output_type": "execute_result"
    }
   ],
   "source": [
    "# Build a Naive-Bayes Classifier\n",
    "from sklearn.naive_bayes import MultinomialNB\n",
    "\n",
    "model = MultinomialNB(alpha = 1)\n",
    "\n",
    "model.fit(vectors_train, target_train)"
   ]
  },
  {
   "cell_type": "code",
   "execution_count": 26,
   "metadata": {},
   "outputs": [
    {
     "data": {
      "text/plain": [
       "0.8007469686210165"
      ]
     },
     "execution_count": 26,
     "metadata": {},
     "output_type": "execute_result"
    }
   ],
   "source": [
    "# Get the score (accuracy) for the train set\n",
    "model.score(vectors_train, target_train)"
   ]
  },
  {
   "cell_type": "code",
   "execution_count": 27,
   "metadata": {},
   "outputs": [
    {
     "data": {
      "text/plain": [
       "0.8001570513131234"
      ]
     },
     "execution_count": 27,
     "metadata": {},
     "output_type": "execute_result"
    }
   ],
   "source": [
    "# Get score (accuracy) for the test set\n",
    "model.score(vectors_test, target_test)"
   ]
  },
  {
   "cell_type": "markdown",
   "metadata": {},
   "source": [
    "### 7.2 Logistic Regression Classifier"
   ]
  },
  {
   "cell_type": "code",
   "execution_count": 28,
   "metadata": {},
   "outputs": [
    {
     "data": {
      "text/plain": [
       "LogisticRegression(C=1.0, class_weight=None, dual=False, fit_intercept=True,\n",
       "          intercept_scaling=1, max_iter=100, multi_class='ovr', n_jobs=1,\n",
       "          penalty='l2', random_state=None, solver='liblinear', tol=0.0001,\n",
       "          verbose=0, warm_start=False)"
      ]
     },
     "execution_count": 28,
     "metadata": {},
     "output_type": "execute_result"
    }
   ],
   "source": [
    "# Build a Logistic Regression Classifier\n",
    "from sklearn.linear_model import LogisticRegression\n",
    "\n",
    "model = LogisticRegression()\n",
    "\n",
    "model.fit(vectors_train, target_train)"
   ]
  },
  {
   "cell_type": "code",
   "execution_count": 29,
   "metadata": {},
   "outputs": [
    {
     "data": {
      "text/plain": [
       "0.8280784583653457"
      ]
     },
     "execution_count": 29,
     "metadata": {},
     "output_type": "execute_result"
    }
   ],
   "source": [
    "# Get score for training set\n",
    "model.score(vectors_train, target_train)"
   ]
  },
  {
   "cell_type": "code",
   "execution_count": 30,
   "metadata": {
    "scrolled": true
   },
   "outputs": [
    {
     "data": {
      "text/plain": [
       "0.8253725121423932"
      ]
     },
     "execution_count": 30,
     "metadata": {},
     "output_type": "execute_result"
    }
   ],
   "source": [
    "# Get score for test set\n",
    "model.score(vectors_test, target_test)"
   ]
  },
  {
   "cell_type": "markdown",
   "metadata": {},
   "source": [
    "#### 7.2.1 What are the key features (words) that make the positive prediction?"
   ]
  },
  {
   "cell_type": "code",
   "execution_count": 31,
   "metadata": {
    "scrolled": true
   },
   "outputs": [
    {
     "name": "stdout",
     "output_type": "stream",
     "text": [
      "(1, 2000)\n"
     ]
    },
    {
     "data": {
      "text/plain": [
       "['amazing',\n",
       " 'best',\n",
       " 'incredible',\n",
       " 'awesome',\n",
       " 'thank',\n",
       " 'phenomenal',\n",
       " 'heaven',\n",
       " 'perfect',\n",
       " 'perfection',\n",
       " 'delicious',\n",
       " 'fantastic',\n",
       " 'highly',\n",
       " 'favorite',\n",
       " 'excellent',\n",
       " 'outstanding',\n",
       " 'impeccable',\n",
       " 'fabulous',\n",
       " 'notch',\n",
       " 'bomb',\n",
       " 'great']"
      ]
     },
     "execution_count": 31,
     "metadata": {},
     "output_type": "execute_result"
    }
   ],
   "source": [
    "# Find it out by ranking the coefficients estimated by the model\n",
    "n = 20\n",
    "\n",
    "print(model.coef_.shape)\n",
    "get_top_values(model.coef_[0], n, vocab)"
   ]
  },
  {
   "cell_type": "markdown",
   "metadata": {},
   "source": [
    "#### 7.2.2 Summary\n",
    "- To make the positive prediction (stars > 4), positive words such as amazing, best, and incredible were frequently appeared in the reviews. Thus, it's reasonable to use these positive words to make the positive prediction (stars > 4)."
   ]
  },
  {
   "cell_type": "markdown",
   "metadata": {},
   "source": [
    "#### 7.2.3 What are the key features (words) that make the negative prediction?"
   ]
  },
  {
   "cell_type": "code",
   "execution_count": 32,
   "metadata": {
    "scrolled": true
   },
   "outputs": [
    {
     "data": {
      "text/plain": [
       "['worst',\n",
       " 'horrible',\n",
       " 'disappointing',\n",
       " 'rude',\n",
       " 'terrible',\n",
       " 'bland',\n",
       " 'ok',\n",
       " 'mediocre',\n",
       " 'lacked',\n",
       " 'okay',\n",
       " 'lacking',\n",
       " 'meh',\n",
       " 'awful',\n",
       " 'poor',\n",
       " 'slow',\n",
       " 'disgusting',\n",
       " 'tasteless',\n",
       " 'average',\n",
       " 'worse',\n",
       " 'overpriced']"
      ]
     },
     "execution_count": 32,
     "metadata": {},
     "output_type": "execute_result"
    }
   ],
   "source": [
    "# Find it out by ranking the coefficients estimated by the model\n",
    "n = 20\n",
    "get_bottom_values(model.coef_[0], n, vocab)"
   ]
  },
  {
   "cell_type": "markdown",
   "metadata": {},
   "source": [
    "#### 7.2.4 Summary\n",
    "- To make the negative prediction (stars <= 4), negative words such as worst, horrible, and disappointing were frequently appeared in the reviews. Moreover, one interesting point that mediate words such as ok and okay were appeared in the reviews. Probably, some customers leave these mediate words but still rate a restaurant with 4 stars. Thus, it might be reasonable to use these negative words to make the negative prediction (stars <= 4)."
   ]
  },
  {
   "cell_type": "markdown",
   "metadata": {},
   "source": [
    "### 7.3 Random Forest Classifier"
   ]
  },
  {
   "cell_type": "code",
   "execution_count": 33,
   "metadata": {},
   "outputs": [
    {
     "data": {
      "text/plain": [
       "RandomForestClassifier(bootstrap=True, class_weight=None, criterion='gini',\n",
       "            max_depth=25, max_features='auto', max_leaf_nodes=None,\n",
       "            min_impurity_decrease=0.0, min_impurity_split=None,\n",
       "            min_samples_leaf=5, min_samples_split=2,\n",
       "            min_weight_fraction_leaf=0.0, n_estimators=200, n_jobs=1,\n",
       "            oob_score=False, random_state=1, verbose=0, warm_start=False)"
      ]
     },
     "execution_count": 33,
     "metadata": {},
     "output_type": "execute_result"
    }
   ],
   "source": [
    "# Build a Random Forest Classifier\n",
    "from sklearn.ensemble import RandomForestClassifier\n",
    "\n",
    "model = RandomForestClassifier(n_estimators=200,max_depth=25,min_samples_leaf=5, random_state=1)\n",
    "\n",
    "model.fit(vectors_train, target_train)"
   ]
  },
  {
   "cell_type": "code",
   "execution_count": 34,
   "metadata": {},
   "outputs": [
    {
     "data": {
      "text/plain": [
       "0.8117891134534332"
      ]
     },
     "execution_count": 34,
     "metadata": {},
     "output_type": "execute_result"
    }
   ],
   "source": [
    "# Get score for training set\n",
    "model.score(vectors_train, target_train)"
   ]
  },
  {
   "cell_type": "code",
   "execution_count": 35,
   "metadata": {},
   "outputs": [
    {
     "data": {
      "text/plain": [
       "0.7912283933262887"
      ]
     },
     "execution_count": 35,
     "metadata": {},
     "output_type": "execute_result"
    }
   ],
   "source": [
    "# Get score for test set\n",
    "model.score(vectors_test, target_test)"
   ]
  },
  {
   "cell_type": "markdown",
   "metadata": {},
   "source": [
    "#### 7.3.1 What features (words) are important by inspecting the RFC model?\n",
    "- In Random Forest, the feature importances are all positive. If the feature importance is higher, this feature (or word) plays an important role in predicting the labels (a positive or negative review). That's why some negative words found in the top 20 features by sorting the feature importances, such as 'bad', 'worst', 'horrible', and so on. Some top words include positive words, such as amazing, best, and great. Both of positive and negative words are important features (words) as they have higher feature importances."
   ]
  },
  {
   "cell_type": "code",
   "execution_count": 36,
   "metadata": {},
   "outputs": [
    {
     "name": "stdout",
     "output_type": "stream",
     "text": [
      "(2000,)\n"
     ]
    },
    {
     "data": {
      "text/plain": [
       "['amazing',\n",
       " 'best',\n",
       " 'great',\n",
       " 'delicious',\n",
       " 'ok',\n",
       " 'awesome',\n",
       " 'love',\n",
       " 'bad',\n",
       " 'vegas',\n",
       " 'didn',\n",
       " 'wasn',\n",
       " 'definitely',\n",
       " 'worst',\n",
       " 'horrible',\n",
       " 'good',\n",
       " 'pretty',\n",
       " 'minutes',\n",
       " 'favorite',\n",
       " 'friendly',\n",
       " 'excellent']"
      ]
     },
     "execution_count": 36,
     "metadata": {},
     "output_type": "execute_result"
    }
   ],
   "source": [
    "# Select top 20 words\n",
    "n = 20\n",
    "\n",
    "# 2000 feature importances provided by RF\n",
    "print(model.feature_importances_.shape)\n",
    "\n",
    "get_top_values(model.feature_importances_, n, vocab)"
   ]
  },
  {
   "cell_type": "markdown",
   "metadata": {},
   "source": [
    "### 7.4 Model Comparison \n",
    "- What do I observe from the training scores and the test scores among three models (NB, LR, RF)?\n",
    "\n",
    "    A: In Logistic regression and Naive-Bayes models, the difference between training and testing score is extremely close. However, in the Random Forest model, the difference is more significant compared to the results from Logistic Regression and Naive-Bayes models. It indicated that Random Forest, in fact, can't generalized the results to the unseen data (or testing data), and is a high-variance model for this project instance."
   ]
  },
  {
   "cell_type": "markdown",
   "metadata": {},
   "source": [
    "## 8. Use cross validation to evaluate your classifiers\n",
    "\n",
    "[sklearn cross validation](http://scikit-learn.org/stable/modules/cross_validation.html)"
   ]
  },
  {
   "cell_type": "markdown",
   "metadata": {},
   "source": [
    "### 8.1 Naive-Bayes Classifier"
   ]
  },
  {
   "cell_type": "code",
   "execution_count": 37,
   "metadata": {},
   "outputs": [],
   "source": [
    "from sklearn.metrics import precision_score, accuracy_score, recall_score, f1_score, roc_auc_score\n",
    "from sklearn.model_selection import cross_validate"
   ]
  },
  {
   "cell_type": "code",
   "execution_count": 38,
   "metadata": {},
   "outputs": [],
   "source": [
    "from sklearn.naive_bayes import MultinomialNB\n",
    "\n",
    "metrics = ['accuracy', 'f1_macro', 'roc_auc']\n",
    "\n",
    "model = MultinomialNB(alpha = 1)\n",
    "\n",
    "cv = cross_validate(model, vectors_train, target_train, scoring=metrics, cv=5, return_train_score = True)"
   ]
  },
  {
   "cell_type": "code",
   "execution_count": 39,
   "metadata": {},
   "outputs": [
    {
     "data": {
      "text/plain": [
       "dict_keys(['fit_time', 'score_time', 'test_accuracy', 'train_accuracy', 'test_f1_macro', 'train_f1_macro', 'test_roc_auc', 'train_roc_auc'])"
      ]
     },
     "execution_count": 39,
     "metadata": {},
     "output_type": "execute_result"
    }
   ],
   "source": [
    "# Look at metric names\n",
    "cv.keys()"
   ]
  },
  {
   "cell_type": "code",
   "execution_count": 40,
   "metadata": {},
   "outputs": [
    {
     "name": "stdout",
     "output_type": "stream",
     "text": [
      "test_accuracy:\n",
      "[0.79903297 0.79894815 0.80065439 0.80070286 0.80038537]\n",
      "mean_test_accuracy: 0.7999\n",
      "k-fold variance: 6.2e-07\n",
      "\n",
      "train_accuracy:\n",
      "[0.80085434 0.80089978 0.80099733 0.80055502 0.80103732]\n",
      "mean_train_accuracy: 0.8009\n",
      "\n",
      "test_f1_macro:\n",
      "[0.79825726 0.7981565  0.79982051 0.79989785 0.79960756]\n",
      "mean_test_f1_macro: 0.7991\n",
      "k-fold variance: 6e-07\n",
      "\n",
      "train_f1_macro:\n",
      "[0.80007823 0.8001212  0.80021648 0.79976709 0.80024075]\n",
      "mean_train_f1_macro: 0.8001\n",
      "\n",
      "test_roc_auc:\n",
      "[0.88309949 0.8833065  0.88444077 0.88358017 0.88410702]\n",
      "mean_test_roc_auc: 0.8837\n",
      "k-fold variance: 2.5e-07\n",
      "\n",
      "train_roc_auc:\n",
      "[0.88457422 0.88458026 0.88444383 0.88457778 0.88469942]\n",
      "mean_train_roc_auc: 0.8846\n",
      "\n"
     ]
    }
   ],
   "source": [
    "for each in list(cv.keys())[2:]:\n",
    "    print(each+':')\n",
    "    print(cv[each])\n",
    "    print('mean_'+each+\":\", str(round(np.mean(cv[each]),4)))\n",
    "    if 'test' in each:\n",
    "        print('k-fold variance: '+str(round(np.var(cv[each]),8)))\n",
    "    print()"
   ]
  },
  {
   "cell_type": "code",
   "execution_count": 41,
   "metadata": {},
   "outputs": [
    {
     "name": "stdout",
     "output_type": "stream",
     "text": [
      "[52.53176284 49.533324   50.94173622 49.8184278  48.41672301]\n",
      "[4.61830401 4.41735983 4.56141973 4.43594813 4.70359588]\n"
     ]
    }
   ],
   "source": [
    "print(cv['fit_time'])\n",
    "print(cv['score_time'])"
   ]
  },
  {
   "cell_type": "markdown",
   "metadata": {},
   "source": [
    "### 8.2 Logistic Regression"
   ]
  },
  {
   "cell_type": "code",
   "execution_count": 42,
   "metadata": {},
   "outputs": [],
   "source": [
    "from sklearn.linear_model import LogisticRegression\n",
    "\n",
    "model = LogisticRegression()\n",
    "\n",
    "cv = cross_validate(model, vectors_train, target_train, scoring=metrics, cv=5, return_train_score = True)"
   ]
  },
  {
   "cell_type": "code",
   "execution_count": 43,
   "metadata": {},
   "outputs": [
    {
     "name": "stdout",
     "output_type": "stream",
     "text": [
      "test_accuracy:\n",
      "[0.82496577 0.82467493 0.82615124 0.82493941 0.82519177]\n",
      "mean_test_accuracy: 0.8252\n",
      "k-fold variance: 2.6e-07\n",
      "\n",
      "train_accuracy:\n",
      "[0.82843553 0.82834464 0.82823004 0.8285027  0.82851837]\n",
      "mean_train_accuracy: 0.8284\n",
      "\n",
      "test_f1_macro:\n",
      "[0.82430858 0.82402084 0.82542237 0.82421098 0.82450557]\n",
      "mean_test_f1_macro: 0.8245\n",
      "k-fold variance: 2.4e-07\n",
      "\n",
      "train_f1_macro:\n",
      "[0.82775669 0.82766965 0.82756695 0.82783115 0.8278457 ]\n",
      "mean_train_f1_macro: 0.8277\n",
      "\n",
      "test_roc_auc:\n",
      "[0.90613297 0.90675    0.90700127 0.90735674 0.90682389]\n",
      "mean_test_roc_auc: 0.9068\n",
      "k-fold variance: 1.6e-07\n",
      "\n",
      "train_roc_auc:\n",
      "[0.90974994 0.90960633 0.9095241  0.90943396 0.90959802]\n",
      "mean_train_roc_auc: 0.9096\n",
      "\n"
     ]
    }
   ],
   "source": [
    "for each in list(cv.keys())[2:]:\n",
    "    print(each+':')\n",
    "    print(cv[each])\n",
    "    print('mean_'+each+\":\", str(round(np.mean(cv[each]),4)))\n",
    "    if 'test' in each:\n",
    "        print('k-fold variance: '+str(round(np.var(cv[each]),8)))\n",
    "    print()"
   ]
  },
  {
   "cell_type": "code",
   "execution_count": 44,
   "metadata": {},
   "outputs": [
    {
     "name": "stdout",
     "output_type": "stream",
     "text": [
      "[53.61101794 53.81115294 52.67874718 56.67140484 53.03661323]\n",
      "[3.10125303 3.20504379 3.41486001 3.59823418 3.40037394]\n"
     ]
    }
   ],
   "source": [
    "print(cv['fit_time'])\n",
    "print(cv['score_time'])"
   ]
  },
  {
   "cell_type": "markdown",
   "metadata": {},
   "source": [
    "### 8.3 Random Forest"
   ]
  },
  {
   "cell_type": "code",
   "execution_count": 45,
   "metadata": {},
   "outputs": [],
   "source": [
    "from sklearn.ensemble import RandomForestClassifier\n",
    "\n",
    "model = RandomForestClassifier(n_estimators=100, max_depth=25, min_samples_leaf=5, random_state=1)\n",
    "\n",
    "cv = cross_validate(model, vectors_train, target_train, scoring=metrics, cv=5, return_train_score = True)"
   ]
  },
  {
   "cell_type": "code",
   "execution_count": 46,
   "metadata": {},
   "outputs": [
    {
     "name": "stdout",
     "output_type": "stream",
     "text": [
      "test_accuracy:\n",
      "[0.78776311 0.78800548 0.78875424 0.78887542 0.78693392]\n",
      "mean_test_accuracy: 0.7881\n",
      "k-fold variance: 5e-07\n",
      "\n",
      "train_accuracy:\n",
      "[0.81177593 0.81139724 0.81243392 0.81200069 0.81253143]\n",
      "mean_train_accuracy: 0.812\n",
      "\n",
      "test_f1_macro:\n",
      "[0.78608405 0.78630419 0.78700511 0.78710365 0.78524449]\n",
      "mean_test_f1_macro: 0.7863\n",
      "k-fold variance: 4.6e-07\n",
      "\n",
      "train_f1_macro:\n",
      "[0.81047464 0.81007144 0.81116094 0.81068396 0.81123108]\n",
      "mean_train_f1_macro: 0.8107\n",
      "\n",
      "test_roc_auc:\n",
      "[0.8715434  0.87052418 0.87275357 0.87253417 0.86993011]\n",
      "mean_test_roc_auc: 0.8715\n",
      "k-fold variance: 1.21e-06\n",
      "\n",
      "train_roc_auc:\n",
      "[0.89837349 0.8981251  0.89837115 0.89849785 0.8985774 ]\n",
      "mean_train_roc_auc: 0.8984\n",
      "\n"
     ]
    }
   ],
   "source": [
    "for each in list(cv.keys())[2:]:\n",
    "    print(each+':')\n",
    "    print(cv[each])\n",
    "    print('mean_'+each+\":\", str(round(np.mean(cv[each]),4)))\n",
    "    if 'test' in each:\n",
    "        print('k-fold variance: '+str(round(np.var(cv[each]),8)))\n",
    "    print()"
   ]
  },
  {
   "cell_type": "code",
   "execution_count": 47,
   "metadata": {},
   "outputs": [
    {
     "name": "stdout",
     "output_type": "stream",
     "text": [
      "[1460.78994489 1490.55910802 1460.17752886 1391.00936294 1543.52303505]\n",
      "[23.55980325 27.42657423 31.09867001 26.8001442  30.75281096]\n"
     ]
    }
   ],
   "source": [
    "print(cv['fit_time'])\n",
    "print(cv['score_time'])"
   ]
  },
  {
   "cell_type": "markdown",
   "metadata": {},
   "source": [
    "## 9. Use grid search to find the best predictable classifier\n",
    "\n",
    "\n",
    "[sklearn grid search tutorial (with cross validation)](http://scikit-learn.org/stable/modules/grid_search.html#grid-search)\n",
    "\n",
    "[sklearn grid search documentation (with cross validation)](http://scikit-learn.org/stable/modules/generated/sklearn.model_selection.GridSearchCV.html#sklearn.model_selection.GridSearchCV)"
   ]
  },
  {
   "cell_type": "code",
   "execution_count": 48,
   "metadata": {},
   "outputs": [],
   "source": [
    "# Define a function to print metric scores    \n",
    "def get_performance_metrics(y_train, y_train_pred, y_test, y_test_pred, threshold=0.5):\n",
    "    metric_names = ['AUC','Accuracy','Precision','Recall','f1-score']\n",
    "    metric_values_train = [roc_auc_score(y_train, y_train_pred),\n",
    "                    accuracy_score(y_train, y_train_pred>threshold),\n",
    "                    precision_score(y_train, y_train_pred>threshold),\n",
    "                    recall_score(y_train, y_train_pred>threshold),\n",
    "                    f1_score(y_train, y_train_pred>threshold)\n",
    "                   ]\n",
    "    metric_values_test = [roc_auc_score(y_test, y_test_pred),\n",
    "                    accuracy_score(y_test, y_test_pred>threshold),\n",
    "                    precision_score(y_test, y_test_pred>threshold),\n",
    "                    recall_score(y_test, y_test_pred>threshold),\n",
    "                    f1_score(y_test, y_test_pred>threshold)\n",
    "                   ]\n",
    "    all_metrics = pd.DataFrame({'metrics':metric_names,\n",
    "                                'train':metric_values_train,\n",
    "                                'test':metric_values_test},columns=['metrics','train','test']).set_index('metrics')\n",
    "    print(all_metrics)"
   ]
  },
  {
   "cell_type": "code",
   "execution_count": 49,
   "metadata": {},
   "outputs": [],
   "source": [
    "%matplotlib inline\n",
    "import matplotlib.pyplot as plt\n",
    "from sklearn.metrics import roc_curve, auc\n",
    "\n",
    "# Define a function to plot a roc curve\n",
    "def plot_roc_curve(y_train, y_train_pred, y_test, y_test_pred):\n",
    "    roc_auc_train = roc_auc_score(y_train, y_train_pred)\n",
    "    fpr_train, tpr_train, _ = roc_curve(y_train, y_train_pred)\n",
    "\n",
    "    roc_auc_test = roc_auc_score(y_test, y_test_pred)\n",
    "    fpr_test, tpr_test, _ = roc_curve(y_test, y_test_pred)\n",
    "    plt.figure()\n",
    "    lw = 2\n",
    "    plt.plot(fpr_train, tpr_train, color='green',\n",
    "             lw=lw, label='ROC Train (AUC = %0.4f)' % roc_auc_train)\n",
    "    plt.plot(fpr_test, tpr_test, color='darkorange',\n",
    "             lw=lw, label='ROC Test (AUC = %0.4f)' % roc_auc_test)\n",
    "    plt.plot([0, 1], [0, 1], color='navy', lw=lw, linestyle='--')\n",
    "    plt.xlim([0.0, 1.0])\n",
    "    plt.ylim([0.0, 1.05])\n",
    "    plt.xlabel('False Positive Rate')\n",
    "    plt.ylabel('True Positive Rate')\n",
    "    plt.title('Receiver operating characteristic example')\n",
    "    plt.legend(loc=\"lower right\")\n",
    "    plt.show()"
   ]
  },
  {
   "cell_type": "code",
   "execution_count": 50,
   "metadata": {},
   "outputs": [],
   "source": [
    "# Define a function to fit a classifier model, and get a model performances\n",
    "def train_test_model(clf, X_train, y_train, X_test, y_test):\n",
    "    # Fit a model by providing X and y from training set\n",
    "    clf.fit(X_train, y_train)\n",
    "\n",
    "    # Make prediction on the training data\n",
    "    y_train_pred = clf.predict(X_train)\n",
    "    p_train_pred = clf.predict_proba(X_train)[:,1]\n",
    "\n",
    "    # Make predictions on test data\n",
    "    y_test_pred = clf.predict(X_test)\n",
    "    p_test_pred = clf.predict_proba(X_test)[:,1]\n",
    "\n",
    "    # print model results\n",
    "    get_performance_metrics(y_train, p_train_pred, y_test, p_test_pred)\n",
    "    plot_roc_curve(y_train, p_train_pred, y_test, p_test_pred)"
   ]
  },
  {
   "cell_type": "markdown",
   "metadata": {},
   "source": [
    "### 9.1 Grid search - Naive Bayes"
   ]
  },
  {
   "cell_type": "code",
   "execution_count": 51,
   "metadata": {},
   "outputs": [
    {
     "name": "stderr",
     "output_type": "stream",
     "text": [
      "/Users/wuchenhong/anaconda3/lib/python3.6/site-packages/sklearn/grid_search.py:42: DeprecationWarning: This module was deprecated in version 0.18 in favor of the model_selection module into which all the refactored classes and functions are moved. This module will be removed in 0.20.\n",
      "  DeprecationWarning)\n"
     ]
    }
   ],
   "source": [
    "# To be implemented\n",
    "from sklearn import grid_search\n",
    "from sklearn.metrics import make_scorer, roc_auc_score, accuracy_score\n",
    "from sklearn.metrics import precision_score, accuracy_score, recall_score, f1_score, roc_auc_score"
   ]
  },
  {
   "cell_type": "code",
   "execution_count": 52,
   "metadata": {},
   "outputs": [],
   "source": [
    "from sklearn.naive_bayes import MultinomialNB\n",
    "\n",
    "model = MultinomialNB()\n",
    "\n",
    "param_grid = {\"alpha\": [0.01, 0.1, 1, 10, 100],\n",
    "              \"fit_prior\": [True, False]\n",
    "             }\n",
    "\n",
    "acc_scorer = make_scorer(roc_auc_score)\n",
    "\n",
    "grid_job = grid_search.GridSearchCV(estimator = model, param_grid=param_grid, cv = 5, scoring = acc_scorer)\n",
    "\n",
    "grid_job = grid_job.fit(vectors_train, target_train)"
   ]
  },
  {
   "cell_type": "code",
   "execution_count": 53,
   "metadata": {},
   "outputs": [],
   "source": [
    "# see the results on training and testing using the tuned parameters\n",
    "best_model = grid_job.best_estimator_"
   ]
  },
  {
   "cell_type": "code",
   "execution_count": 54,
   "metadata": {},
   "outputs": [
    {
     "name": "stdout",
     "output_type": "stream",
     "text": [
      "              train      test\n",
      "metrics                      \n",
      "AUC        0.885847  0.885884\n",
      "Accuracy   0.801968  0.802348\n",
      "Precision  0.750567  0.751590\n",
      "Recall     0.858004  0.859253\n",
      "f1-score   0.800698  0.801824\n"
     ]
    },
    {
     "data": {
      "image/png": "[encoded data removed]",
      "text/plain": [
       "<matplotlib.figure.Figure at 0x11a4743c8>"
      ]
     },
     "metadata": {},
     "output_type": "display_data"
    }
   ],
   "source": [
    "train_test_model(best_model, \n",
    "                 vectors_train, target_train, \n",
    "                 vectors_test, target_test)"
   ]
  },
  {
   "cell_type": "markdown",
   "metadata": {},
   "source": [
    "### 9.2 Grid search - Logistic Regression"
   ]
  },
  {
   "cell_type": "code",
   "execution_count": 55,
   "metadata": {},
   "outputs": [],
   "source": [
    "from sklearn.linear_model import LogisticRegression\n",
    "\n",
    "model = LogisticRegression()\n",
    "\n",
    "param_grid = {\"penalty\": ['l1','l2'],\n",
    "              \"tol\": [1e-3, 1e-4, 1e-5],\n",
    "              \"C\": [0.1, 1, 10]\n",
    "             }\n",
    "\n",
    "acc_scorer = make_scorer(roc_auc_score)\n",
    "\n",
    "grid_job = grid_search.GridSearchCV(estimator = model, param_grid=param_grid, cv = 5, scoring = acc_scorer)\n",
    "\n",
    "grid_job = grid_job.fit(vectors_train, target_train)"
   ]
  },
  {
   "cell_type": "code",
   "execution_count": 56,
   "metadata": {},
   "outputs": [],
   "source": [
    "# see the results on training\n",
    "best_model = grid_job.best_estimator_"
   ]
  },
  {
   "cell_type": "code",
   "execution_count": 57,
   "metadata": {},
   "outputs": [
    {
     "name": "stdout",
     "output_type": "stream",
     "text": [
      "              train      test\n",
      "metrics                      \n",
      "AUC        0.909292  0.907254\n",
      "Accuracy   0.828045  0.825760\n",
      "Precision  0.807007  0.804605\n",
      "Recall     0.826848  0.826212\n",
      "f1-score   0.816807  0.815266\n"
     ]
    },
    {
     "data": {
      "image/png": "[encoded data removed]",
      "text/plain": [
       "<matplotlib.figure.Figure at 0x11a60f710>"
      ]
     },
     "metadata": {},
     "output_type": "display_data"
    }
   ],
   "source": [
    "train_test_model(best_model, \n",
    "                 vectors_train, target_train, \n",
    "                 vectors_test, target_test)"
   ]
  },
  {
   "cell_type": "markdown",
   "metadata": {},
   "source": [
    "### 9.3 Randomized grid search - Random Forest\n",
    "- Randomly choose 5 combination of parameters to perform grid search due to time limit\n",
    "- (Reference: How to perform random grid search in sklearn)\n",
    "    1. https://www.youtube.com/watch?v=Gol_qOgRqfA&frags=pl%2Cwn&ab_channel=DataSchool\n",
    "    2. http://scikit-learn.org/stable/auto_examples/model_selection/plot_randomized_search.html"
   ]
  },
  {
   "cell_type": "code",
   "execution_count": 58,
   "metadata": {},
   "outputs": [
    {
     "data": {
      "text/plain": [
       "RandomizedSearchCV(cv=5, error_score='raise',\n",
       "          estimator=RandomForestClassifier(bootstrap=True, class_weight=None, criterion='gini',\n",
       "            max_depth=None, max_features='auto', max_leaf_nodes=None,\n",
       "            min_impurity_decrease=0.0, min_impurity_split=None,\n",
       "            min_samples_leaf=1, min_samples_split=2,\n",
       "            min_weight_fraction_leaf=0.0, n_estimators=10, n_jobs=1,\n",
       "            oob_score=False, random_state=None, verbose=0,\n",
       "            warm_start=False),\n",
       "          fit_params=None, iid=True, n_iter=5, n_jobs=1,\n",
       "          param_distributions={'n_estimators': [50, 100, 200], 'max_depth': <scipy.stats._distn_infrastructure.rv_frozen object at 0x10f9005c0>, 'min_samples_leaf': <scipy.stats._distn_infrastructure.rv_frozen object at 0x10f909b70>, 'random_state': [1]},\n",
       "          pre_dispatch='2*n_jobs', random_state=None, refit=True,\n",
       "          return_train_score=True, scoring='roc_auc', verbose=0)"
      ]
     },
     "execution_count": 58,
     "metadata": {},
     "output_type": "execute_result"
    }
   ],
   "source": [
    "from scipy.stats import randint as sp_randint\n",
    "from sklearn.model_selection import RandomizedSearchCV\n",
    "from sklearn.ensemble import RandomForestClassifier\n",
    "\n",
    "model = RandomForestClassifier()\n",
    "\n",
    "param_dist = {\"n_estimators\": [50,100,200],\n",
    "              \"max_depth\": sp_randint(1, 25),\n",
    "              \"min_samples_leaf\": sp_randint(1, 100),\n",
    "              \"random_state\": [1]\n",
    "             }\n",
    "\n",
    "random_grid = RandomizedSearchCV(estimator = model, param_distributions=param_dist, cv = 5, scoring = 'roc_auc',\n",
    "                              n_iter=5,\n",
    "                             )\n",
    "\n",
    "random_grid.fit(vectors_train, target_train)"
   ]
  },
  {
   "cell_type": "code",
   "execution_count": 59,
   "metadata": {},
   "outputs": [
    {
     "name": "stdout",
     "output_type": "stream",
     "text": [
      "0.8613411419235731\n",
      "{'max_depth': 20, 'min_samples_leaf': 82, 'n_estimators': 100, 'random_state': 1}\n"
     ]
    }
   ],
   "source": [
    "print(random_grid.best_score_)\n",
    "print(random_grid.best_params_)"
   ]
  },
  {
   "cell_type": "code",
   "execution_count": 60,
   "metadata": {},
   "outputs": [],
   "source": [
    "best_model = random_grid.best_estimator_"
   ]
  },
  {
   "cell_type": "code",
   "execution_count": 61,
   "metadata": {},
   "outputs": [
    {
     "name": "stdout",
     "output_type": "stream",
     "text": [
      "              train      test\n",
      "metrics                      \n",
      "AUC        0.866287  0.863786\n",
      "Accuracy   0.782189  0.780506\n",
      "Precision  0.781213  0.780221\n",
      "Recall     0.736458  0.735506\n",
      "f1-score   0.758175  0.757204\n"
     ]
    },
    {
     "data": {
      "image/png": "[encoded data removed]",
      "text/plain": [
       "<matplotlib.figure.Figure at 0x110898080>"
      ]
     },
     "metadata": {},
     "output_type": "display_data"
    }
   ],
   "source": [
    "train_test_model(best_model, \n",
    "                 vectors_train, target_train, \n",
    "                 vectors_test, target_test)"
   ]
  },
  {
   "cell_type": "markdown",
   "metadata": {},
   "source": [
    "### 9.4 Model comparision \n",
    "- The best model was determined by the highest score on AUC since I considered TP & FP as important metrics. \n",
    "    1. Logistic Regression performed the best among three models. The test AUC is 0.9072 and it is a very fast model to fit. The model variance between train and test is also steady by looking at the score difference of each metric between train and test.\n",
    "    \n",
    "    2. Naive Bayes produced a steady prediction result too. Only a small difference, 0.02, on the test AUC score compared with the Logistic Regression.\n",
    "    \n",
    "    3. Random Forest achieved 0.8638 on AUC score, which ranked in third place and it required more time to fit."
   ]
  },
  {
   "cell_type": "code",
   "execution_count": null,
   "metadata": {},
   "outputs": [],
   "source": []
  }
 ],
 "metadata": {
  "anaconda-cloud": {},
  "kernelspec": {
   "display_name": "Python 3",
   "language": "python",
   "name": "python3"
  },
  "language_info": {
   "codemirror_mode": {
    "name": "ipython",
    "version": 3
   },
   "file_extension": ".py",
   "mimetype": "text/x-python",
   "name": "python",
   "nbconvert_exporter": "python",
   "pygments_lexer": "ipython3",
   "version": "3.6.4"
  }
 },
 "nbformat": 4,
 "nbformat_minor": 1
}
