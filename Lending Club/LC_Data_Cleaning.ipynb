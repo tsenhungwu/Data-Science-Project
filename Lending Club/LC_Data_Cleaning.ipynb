{
 "cells": [
  {
   "cell_type": "markdown",
   "metadata": {},
   "source": [
    "# 1. Packages"
   ]
  },
  {
   "cell_type": "code",
   "execution_count": 1,
   "metadata": {},
   "outputs": [],
   "source": [
    "# PySpark packages\n",
    "from pyspark.sql import SparkSession\n",
    "from pyspark.sql.functions import isnan, countDistinct, coalesce"
   ]
  },
  {
   "cell_type": "code",
   "execution_count": 2,
   "metadata": {},
   "outputs": [],
   "source": [
    "spark = SparkSession.builder.appName(\"String\").getOrCreate()"
   ]
  },
  {
   "cell_type": "code",
   "execution_count": 3,
   "metadata": {},
   "outputs": [
    {
     "data": {
      "text/html": [
       "\n",
       "            <div>\n",
       "                <p><b>SparkSession - hive</b></p>\n",
       "                \n",
       "        <div>\n",
       "            <p><b>SparkContext</b></p>\n",
       "\n",
       "            <p><a href=\"http://wucenhongde-mbp.fios-router.home:4040\">Spark UI</a></p>\n",
       "\n",
       "            <dl>\n",
       "              <dt>Version</dt>\n",
       "                <dd><code>v2.3.2</code></dd>\n",
       "              <dt>Master</dt>\n",
       "                <dd><code>local[2]</code></dd>\n",
       "              <dt>AppName</dt>\n",
       "                <dd><code>PySparkShell</code></dd>\n",
       "            </dl>\n",
       "        </div>\n",
       "        \n",
       "            </div>\n",
       "        "
      ],
      "text/plain": [
       "<pyspark.sql.session.SparkSession at 0x10f00f5c0>"
      ]
     },
     "execution_count": 3,
     "metadata": {},
     "output_type": "execute_result"
    }
   ],
   "source": [
    "spark"
   ]
  },
  {
   "cell_type": "markdown",
   "metadata": {},
   "source": [
    "# 2. The Dataset"
   ]
  },
  {
   "cell_type": "code",
   "execution_count": 4,
   "metadata": {},
   "outputs": [],
   "source": [
    "loan = spark.read.csv('LoanStats_2018Q1.csv', inferSchema = True, header = True)"
   ]
  },
  {
   "cell_type": "code",
   "execution_count": 5,
   "metadata": {},
   "outputs": [
    {
     "name": "stdout",
     "output_type": "stream",
     "text": [
      "107868\n",
      "145\n"
     ]
    }
   ],
   "source": [
    "# 107868 records and 145 columns\n",
    "print(loan.count())\n",
    "print(len(loan.columns))"
   ]
  },
  {
   "cell_type": "code",
   "execution_count": 6,
   "metadata": {},
   "outputs": [
    {
     "name": "stdout",
     "output_type": "stream",
     "text": [
      "+-----------+\n",
      "|loan_status|\n",
      "+-----------+\n",
      "|       null|\n",
      "|       null|\n",
      "|       null|\n",
      "|       null|\n",
      "+-----------+\n",
      "\n",
      "4 records were missing under the loan_status column.\n"
     ]
    }
   ],
   "source": [
    "# The goal is to predict the loan status for each loan application.\n",
    "# 4 records were missing.\n",
    "loan.filter((loan[\"loan_status\"] == \"\") | loan[\"loan_status\"].isNull() | isnan(loan[\"loan_status\"])).\\\n",
    "select('loan_status').show()\n",
    "print('{} records were missing under the loan_status column.'.format(\n",
    "    loan.filter((loan[\"loan_status\"] == \"\") | loan[\"loan_status\"].isNull() | isnan(loan[\"loan_status\"])).count())\n",
    "     )"
   ]
  },
  {
   "cell_type": "code",
   "execution_count": 7,
   "metadata": {},
   "outputs": [
    {
     "name": "stdout",
     "output_type": "stream",
     "text": [
      "Drop 4 missing records, now 107864 records left.\n"
     ]
    }
   ],
   "source": [
    "loan = loan.na.drop(subset = [\"loan_status\"])\n",
    "print('Drop 4 missing records, now {} records left.'.format(loan.count()))"
   ]
  },
  {
   "cell_type": "markdown",
   "metadata": {},
   "source": [
    "# 3. Remove columns don't have prediction power\n",
    "- **Columns have no prediction power can be columns:**\n",
    "    1. Have only one value across all records. (E.g. url)\n",
    "    2. Have unique values with the same length as the length of rows in raw data. (E.g. id)\n",
    "    3. Have unique values with too many levels. (E.g. zip_code delivers the same information as addr_state.)\n",
    "- Through the below observations, some columns have wrong data types. For instance, 'int_rate' and 'revol_util' has been incorrectly specified as string type.\n",
    "- **Decision:** Columns including 'id', 'member_id', 'zip_code', 'policy_code' (observed from the metadata description), 'url', and 'desc' should be removed."
   ]
  },
  {
   "cell_type": "code",
   "execution_count": 8,
   "metadata": {
    "scrolled": false
   },
   "outputs": [
    {
     "name": "stdout",
     "output_type": "stream",
     "text": [
      "id : No unique value.\n",
      "member_id : No unique value.\n",
      "int_rate : More than 10 unique values.\n",
      "sub_grade : More than 10 unique values.\n",
      "emp_title : More than 10 unique values.\n",
      "emp_length : More than 10 unique values.\n",
      "url : No unique value.\n",
      "desc : No unique value.\n",
      "purpose : More than 10 unique values.\n",
      "title : More than 10 unique values.\n",
      "zip_code : More than 10 unique values.\n",
      "addr_state : More than 10 unique values.\n",
      "earliest_cr_line : More than 10 unique values.\n",
      "revol_util : More than 10 unique values.\n",
      "sec_app_earliest_cr_line : More than 10 unique values.\n"
     ]
    }
   ],
   "source": [
    "column_names = loan.columns\n",
    "for col in column_names:\n",
    "    unique_count = loan.select(countDistinct(col)).collect()\n",
    "    if unique_count[0][0] == 0:\n",
    "        print(col + ' : No unique value.')\n",
    "    elif unique_count[0][0] == loan.count():\n",
    "        print(col + ' : Each row is an unique value.')\n",
    "    elif unique_count[0][0] > 10:\n",
    "        if loan.select(col).dtypes[0][1] != 'double' and \\\n",
    "        loan.select(col).dtypes[0][1] != 'int':\n",
    "            print(col + ' : More than 10 unique values.')\n",
    "    else:\n",
    "        continue"
   ]
  },
  {
   "cell_type": "code",
   "execution_count": 9,
   "metadata": {},
   "outputs": [
    {
     "data": {
      "text/plain": [
       "138"
      ]
     },
     "execution_count": 9,
     "metadata": {},
     "output_type": "execute_result"
    }
   ],
   "source": [
    "# Also, from the EDA part, 'title' and 'purpose' are similar features. \n",
    "# Now, 138 columns left.\n",
    "loan = loan.drop('id','member_id','zip_code','policy_code','url','desc', 'title')\n",
    "len(loan.columns)"
   ]
  },
  {
   "cell_type": "markdown",
   "metadata": {},
   "source": [
    "# 4. Missing data imputation\n",
    "## 4.1 Numerical features\n",
    "- Deal with numerical features containing at least 80% NA values.\n",
    "    - 4.1.1 Joint-type features\n",
    "    - 4.1.2 Secondary applicant related features\n",
    "    - 4.1.3 Hardship related features\n",
    "    - 4.1.4 Settlement related features\n",
    "    - 4.1.5 Other numerical features"
   ]
  },
  {
   "cell_type": "code",
   "execution_count": 10,
   "metadata": {},
   "outputs": [],
   "source": [
    "column_names = loan.columns"
   ]
  },
  {
   "cell_type": "code",
   "execution_count": 11,
   "metadata": {
    "scrolled": true
   },
   "outputs": [
    {
     "name": "stdout",
     "output_type": "stream",
     "text": [
      "Column: mths_since_last_record contained 92595 missing values.\n",
      "Column: annual_inc_joint contained 91533 missing values.\n",
      "Column: dti_joint contained 91533 missing values.\n",
      "Column: verification_status_joint contained 91847 missing values.\n",
      "Column: mths_since_recent_bc_dlq contained 86566 missing values.\n",
      "Column: revol_bal_joint contained 91533 missing values.\n",
      "Column: sec_app_earliest_cr_line contained 91533 missing values.\n",
      "Column: sec_app_inq_last_6mths contained 91533 missing values.\n",
      "Column: sec_app_mort_acc contained 91533 missing values.\n",
      "Column: sec_app_open_acc contained 91533 missing values.\n",
      "Column: sec_app_revol_util contained 91843 missing values.\n",
      "Column: sec_app_open_act_il contained 91533 missing values.\n",
      "Column: sec_app_num_rev_accts contained 91533 missing values.\n",
      "Column: sec_app_chargeoff_within_12_mths contained 91533 missing values.\n",
      "Column: sec_app_collections_12_mths_ex_med contained 91533 missing values.\n",
      "Column: sec_app_mths_since_last_major_derog contained 102437 missing values.\n",
      "Column: hardship_type contained 107863 missing values.\n",
      "Column: hardship_reason contained 107863 missing values.\n",
      "Column: hardship_status contained 107863 missing values.\n",
      "Column: deferral_term contained 107863 missing values.\n",
      "Column: hardship_amount contained 107863 missing values.\n",
      "Column: hardship_start_date contained 107863 missing values.\n",
      "Column: hardship_end_date contained 107863 missing values.\n",
      "Column: payment_plan_start_date contained 107863 missing values.\n",
      "Column: hardship_length contained 107863 missing values.\n",
      "Column: hardship_dpd contained 107863 missing values.\n",
      "Column: hardship_loan_status contained 107863 missing values.\n",
      "Column: orig_projected_additional_accrued_interest contained 107863 missing values.\n",
      "Column: hardship_payoff_balance_amount contained 107863 missing values.\n",
      "Column: hardship_last_payment_amount contained 107863 missing values.\n",
      "Column: debt_settlement_flag_date contained 107855 missing values.\n",
      "Column: settlement_status contained 107855 missing values.\n",
      "Column: settlement_date contained 107855 missing values.\n",
      "Column: settlement_amount contained 107855 missing values.\n",
      "Column: settlement_percentage contained 107855 missing values.\n",
      "Column: settlement_term contained 107855 missing values.\n",
      "\n",
      "36 numerical type of features contain 80% of missing values.\n"
     ]
    }
   ],
   "source": [
    "i = 0\n",
    "for col in column_names:\n",
    "    if loan.select(col).dtypes != 'string':\n",
    "        na_count = loan.filter((loan[col] == \"\") | loan[col].isNull() | isnan(loan[col])).count()\n",
    "        if na_count >= loan.count()*0.8:\n",
    "            print('Column: {} contained {} missing values.'.format(col, na_count))\n",
    "            i += 1\n",
    "print()\n",
    "print(i, 'numerical type of features contain 80% of missing values.')"
   ]
  },
  {
   "cell_type": "markdown",
   "metadata": {},
   "source": [
    "### 4.1.1 Joint-type features\n",
    "- Impute missing values under joint-type features by finding the corresponding not NA values from their paired columns. For instance, find not NA values under 'annual_inc' to replace NA values under 'annual_inc_joint'. Eventually, I will leave two columns as a pair, one tells the information for the 1st borrower, and the other one discloses the information for the 2nd borrower.\n",
    "- Target columns: annual_inc_joint / dti_joint / verification_joint / revol_bal_joint"
   ]
  },
  {
   "cell_type": "code",
   "execution_count": 12,
   "metadata": {},
   "outputs": [],
   "source": [
    "# 'application_type' indicated whether borrowers loaned as groups or individuals.\n",
    "application_type = loan.select('application_type').collect()\n",
    "i = 0\n",
    "for each in application_type:\n",
    "    if each[0] == 'Joint App':\n",
    "        i += 1"
   ]
  },
  {
   "cell_type": "code",
   "execution_count": 13,
   "metadata": {},
   "outputs": [
    {
     "name": "stdout",
     "output_type": "stream",
     "text": [
      "16331 applicants borrowed as groups.\n",
      "16331 records under 'annual_inc_joint' were not NULL.\n",
      "0 records under 'annual_inc' were NULL.\n"
     ]
    }
   ],
   "source": [
    "# Use 'annual_inc' to impute missing values under 'annual_inc_joint'.\n",
    "# 'annual_inc_joint'\n",
    "print('{} applicants borrowed as groups.'.format(i))\n",
    "print(\"{} records under 'annual_inc_joint' were not NULL.\".format(\n",
    "    loan.count() - loan.filter(loan[\"annual_inc_joint\"].isNull()).count()))\n",
    "print(\"{} records under 'annual_inc' were NULL.\".format(\n",
    "    loan.filter(loan[\"annual_inc\"].isNull()).count()))"
   ]
  },
  {
   "cell_type": "code",
   "execution_count": 14,
   "metadata": {},
   "outputs": [
    {
     "name": "stdout",
     "output_type": "stream",
     "text": [
      "16331 records under 'dti_joint' were not NULL.\n",
      "262 records under 'dti' were NULL.\n"
     ]
    }
   ],
   "source": [
    "# 'dti_joint'\n",
    "print(\"{} records under 'dti_joint' were not NULL.\".format(\n",
    "    loan.count() - loan.filter(loan[\"dti_joint\"].isNull()).count()))\n",
    "print(\"{} records under 'dti' were NULL.\".format(\n",
    "    loan.filter(loan[\"dti\"].isNull()).count()))"
   ]
  },
  {
   "cell_type": "code",
   "execution_count": 15,
   "metadata": {
    "scrolled": true
   },
   "outputs": [
    {
     "name": "stdout",
     "output_type": "stream",
     "text": [
      "16017 records under 'verification_status_joint' were not NULL.\n",
      "0 records under 'verification_status' were NULL.\n"
     ]
    }
   ],
   "source": [
    "# 'verification_status_joint'\n",
    "print(\"{} records under 'verification_status_joint' were not NULL.\".format(\n",
    "    loan.count() - loan.filter(loan[\"verification_status_joint\"].isNull()).count()))\n",
    "print(\"{} records under 'verification_status' were NULL.\".format(\n",
    "    loan.filter(loan[\"verification_status\"].isNull()).count()))"
   ]
  },
  {
   "cell_type": "code",
   "execution_count": 16,
   "metadata": {},
   "outputs": [
    {
     "name": "stdout",
     "output_type": "stream",
     "text": [
      "16331 records under 'revol_bal_joint' were not NULL.\n",
      "0 records under 'revol_bal' were NULL.\n"
     ]
    }
   ],
   "source": [
    "# 'revol_bal_joint'\n",
    "print(\"{} records under 'revol_bal_joint' were not NULL.\".format(\n",
    "    loan.count() - loan.filter(loan[\"revol_bal_joint\"].isNull()).count()))\n",
    "print(\"{} records under 'revol_bal' were NULL.\".format(\n",
    "    loan.filter(loan[\"revol_bal\"].isNull()).count()))"
   ]
  },
  {
   "cell_type": "code",
   "execution_count": 17,
   "metadata": {},
   "outputs": [],
   "source": [
    "# Joint-type features missing data imputation\n",
    "loan = loan.withColumn(\"annual_inc_joint\", coalesce(loan.annual_inc_joint,loan.annual_inc))\n",
    "loan = loan.withColumn(\"dti_joint\", coalesce(loan.dti_joint,loan.dti))\n",
    "loan = loan.withColumn(\"verification_status_joint\", coalesce(loan.verification_status_joint,loan.verification_status))\n",
    "loan = loan.withColumn(\"revol_bal_joint\", coalesce(loan.revol_bal_joint,loan.revol_bal))"
   ]
  },
  {
   "cell_type": "code",
   "execution_count": 18,
   "metadata": {
    "scrolled": true
   },
   "outputs": [
    {
     "name": "stdout",
     "output_type": "stream",
     "text": [
      "0\n",
      "0\n",
      "0\n",
      "0\n"
     ]
    }
   ],
   "source": [
    "# Make sure the missing data imputation is correct \n",
    "# by checking there is no missing data anymore.\n",
    "print(loan.filter(loan['annual_inc_joint'].isNull()).count())\n",
    "print(loan.filter(loan['dti_joint'].isNull()).count())\n",
    "print(loan.filter(loan['verification_status_joint'].isNull()).count())\n",
    "print(loan.filter(loan['revol_bal_joint'].isNull()).count())"
   ]
  },
  {
   "cell_type": "code",
   "execution_count": 19,
   "metadata": {},
   "outputs": [
    {
     "name": "stdout",
     "output_type": "stream",
     "text": [
      "138\n"
     ]
    }
   ],
   "source": [
    "# Check how many columns.\n",
    "print(len(loan.columns))"
   ]
  },
  {
   "cell_type": "markdown",
   "metadata": {},
   "source": [
    "### 4.1.2 Secondary applicant related features\n",
    "- Impute missing values under secondary applicant related features by replacing '0', since those missing records came from loan applicants who loaned individually after reading the metadata description.\n",
    "- Target columns: sec_app_earliest_cr_line / sec_app_inq_last_6mths / sec_app_mort_acc / sec_app_open_acc / sec_app_revol_util / sec_app_open_act_il / sec_app_num_rev_accts / sec_app_chargeoff_within_12_mths / sec_app_collections_12_mths_ex_med / sec_app_mths_since_last_major_derog"
   ]
  },
  {
   "cell_type": "code",
   "execution_count": 20,
   "metadata": {},
   "outputs": [],
   "source": [
    "target_columns = ['sec_app_earliest_cr_line','sec_app_inq_last_6mths',\n",
    "                  'sec_app_mort_acc','sec_app_open_acc', \n",
    "                  'sec_app_revol_util','sec_app_open_act_il',\n",
    "                  'sec_app_num_rev_accts','sec_app_chargeoff_within_12_mths',\n",
    "                  'sec_app_collections_12_mths_ex_med',\n",
    "                  'sec_app_mths_since_last_major_derog']\n",
    "\n",
    "paired_columns = ['earliest_cr_line','inq_last_6mths',\n",
    "                  'mort_acc','open_acc',\n",
    "                  'revol_util','open_act_il',\n",
    "                  'num_rev_accts','chargeoff_within_12_mths',\n",
    "                  'collections_12_mths_ex_med',\n",
    "                  'mths_since_last_major_derog']                "
   ]
  },
  {
   "cell_type": "code",
   "execution_count": 21,
   "metadata": {
    "scrolled": true
   },
   "outputs": [
    {
     "name": "stdout",
     "output_type": "stream",
     "text": [
      "16331 records under sec_app_earliest_cr_line were not NULL.\n",
      "0 records under earliest_cr_line were NULL.\n",
      "------------------------------------------------------------\n",
      "16331 records under sec_app_inq_last_6mths were not NULL.\n",
      "0 records under inq_last_6mths were NULL.\n",
      "------------------------------------------------------------\n",
      "16331 records under sec_app_mort_acc were not NULL.\n",
      "0 records under mort_acc were NULL.\n",
      "------------------------------------------------------------\n",
      "16331 records under sec_app_open_acc were not NULL.\n",
      "0 records under open_acc were NULL.\n",
      "------------------------------------------------------------\n",
      "16021 records under sec_app_revol_util were not NULL.\n",
      "149 records under revol_util were NULL.\n",
      "------------------------------------------------------------\n",
      "16331 records under sec_app_open_act_il were not NULL.\n",
      "0 records under open_act_il were NULL.\n",
      "------------------------------------------------------------\n",
      "16331 records under sec_app_num_rev_accts were not NULL.\n",
      "0 records under num_rev_accts were NULL.\n",
      "------------------------------------------------------------\n",
      "16331 records under sec_app_chargeoff_within_12_mths were not NULL.\n",
      "0 records under chargeoff_within_12_mths were NULL.\n",
      "------------------------------------------------------------\n",
      "16331 records under sec_app_collections_12_mths_ex_med were not NULL.\n",
      "0 records under collections_12_mths_ex_med were NULL.\n",
      "------------------------------------------------------------\n",
      "5427 records under sec_app_mths_since_last_major_derog were not NULL.\n",
      "83103 records under mths_since_last_major_derog were NULL.\n",
      "------------------------------------------------------------\n"
     ]
    }
   ],
   "source": [
    "# Check there is no missing value from the paired column such that the missing value\n",
    "# imputation can be done successfully.\n",
    "for i in range(len(target_columns)):\n",
    "    print(\"{} records under \".format(\n",
    "        loan.count() - loan.filter(loan[target_columns[i]].isNull()).count())\n",
    "         +target_columns[i]+ \" were not NULL.\")\n",
    "    print(\"{} records under \".format(\n",
    "        loan.filter(loan[paired_columns[i]].isNull()).count())\n",
    "         +paired_columns[i]+ \" were NULL.\")\n",
    "    print('-'*60)"
   ]
  },
  {
   "cell_type": "code",
   "execution_count": 22,
   "metadata": {},
   "outputs": [
    {
     "name": "stdout",
     "output_type": "stream",
     "text": [
      "0\n",
      "0\n",
      "0\n",
      "0\n",
      "109\n",
      "0\n",
      "0\n",
      "0\n",
      "0\n",
      "79728\n"
     ]
    }
   ],
   "source": [
    "# Make sure the missing data imputation is correct \n",
    "# by checking there is no missing data anymore.\n",
    "# Still two columns have missing data. \n",
    "for i in range(len(target_columns)):\n",
    "    loan = loan.withColumn(target_columns[i], \n",
    "                           coalesce(loan[target_columns[i]],\n",
    "                                    loan[paired_columns[i]]))\n",
    "    print(loan.filter(loan[target_columns[i]].isNull()).count())"
   ]
  },
  {
   "cell_type": "code",
   "execution_count": 23,
   "metadata": {},
   "outputs": [
    {
     "data": {
      "text/plain": [
       "('sec_app_revol_util', 'sec_app_mths_since_last_major_derog')"
      ]
     },
     "execution_count": 23,
     "metadata": {},
     "output_type": "execute_result"
    }
   ],
   "source": [
    "target_columns[4], target_columns[-1]"
   ]
  },
  {
   "cell_type": "markdown",
   "metadata": {},
   "source": [
    "### 4.1.3 Hardship related features\n",
    "- Only one borrower (record) used the Hardship. From a modeling perspective, there are only two levels for each hardship feature, and thus has trivial prediction power on the loan_status variable.\n",
    "- Target columns: hardship_type / hardship_reason / hardship_status / hardship_amount / hardship_start_date / hardship_end_date / hardship_length / hardship_dpd / hardship_loan_status / hardship_payoff_balance_amount / hardship_last_payment_amount / hardship_flag / deferral_term / payment_plan_start_date / orig_projected_additional_accrued_interest /"
   ]
  },
  {
   "cell_type": "code",
   "execution_count": 24,
   "metadata": {},
   "outputs": [
    {
     "name": "stdout",
     "output_type": "stream",
     "text": [
      "+--------------------+---------------+---------------+---------------+-------------------+-----------------+---------------+------------+--------------------+------------------------------+----------------------------+-------------+-------------+-----------------------+------------------------------------------+\n",
      "|       hardship_type|hardship_reason|hardship_status|hardship_amount|hardship_start_date|hardship_end_date|hardship_length|hardship_dpd|hardship_loan_status|hardship_payoff_balance_amount|hardship_last_payment_amount|hardship_flag|deferral_term|payment_plan_start_date|orig_projected_additional_accrued_interest|\n",
      "+--------------------+---------------+---------------+---------------+-------------------+-----------------+---------------+------------+--------------------+------------------------------+----------------------------+-------------+-------------+-----------------------+------------------------------------------+\n",
      "|INTEREST ONLY-3 M...|   UNEMPLOYMENT|         ACTIVE|         279.08|             Jul-18|           Oct-18|              3|           9|     In Grace Period|                      25005.03|                       65.15|            Y|            3|                 Aug-18|                                    837.24|\n",
      "+--------------------+---------------+---------------+---------------+-------------------+-----------------+---------------+------------+--------------------+------------------------------+----------------------------+-------------+-------------+-----------------------+------------------------------------------+\n",
      "\n"
     ]
    }
   ],
   "source": [
    "target_columns = ['hardship_type','hardship_reason','hardship_status',\n",
    "                  'hardship_amount','hardship_start_date','hardship_end_date',\n",
    "                  'hardship_length','hardship_dpd','hardship_loan_status',\n",
    "                  'hardship_payoff_balance_amount','hardship_last_payment_amount',\n",
    "                  'hardship_flag',\n",
    "                  'deferral_term','payment_plan_start_date','orig_projected_additional_accrued_interest']\n",
    "\n",
    "# There is only one record available\n",
    "loan.filter(~loan['hardship_type'].isNull()).select(target_columns).show()"
   ]
  },
  {
   "cell_type": "code",
   "execution_count": 25,
   "metadata": {},
   "outputs": [
    {
     "name": "stdout",
     "output_type": "stream",
     "text": [
      "Drop off 15 columns from the dataframe.\n"
     ]
    }
   ],
   "source": [
    "# Drop off all the hardship related features since they only contribute a litte \n",
    "# prediction power on the 'loan_status'.\n",
    "print('Drop off {} columns from the dataframe.'.format(len(target_columns)))"
   ]
  },
  {
   "cell_type": "code",
   "execution_count": 26,
   "metadata": {},
   "outputs": [],
   "source": [
    "loan = loan.drop('hardship_type','hardship_reason','hardship_status',\n",
    "                 'hardship_amount','hardship_start_date','hardship_end_date',\n",
    "                 'hardship_length','hardship_dpd','hardship_loan_status',\n",
    "                 'hardship_payoff_balance_amount','hardship_last_payment_amount',\n",
    "                 'hardship_flag',\n",
    "                 'deferral_term','payment_plan_start_date','orig_projected_additional_accrued_interest'\n",
    "                )"
   ]
  },
  {
   "cell_type": "code",
   "execution_count": 27,
   "metadata": {},
   "outputs": [
    {
     "data": {
      "text/plain": [
       "123"
      ]
     },
     "execution_count": 27,
     "metadata": {},
     "output_type": "execute_result"
    }
   ],
   "source": [
    "# 124 columns left in the dataset.\n",
    "len(loan.columns)"
   ]
  },
  {
   "cell_type": "markdown",
   "metadata": {},
   "source": [
    "### 4.1.4 Settlement related features\n",
    "- Only nine borrowers (records) used the Settlement, which means that they were working with a debt-settlement company. From a modeling perspective, settlement related features have little contribution on the loan_status variable.\n",
    "- Target columns: debt_settlement_flag_date / settlement_status / settlement_date / settlement_amount / settlement_percentage / settlement_term / debt_settlement_flag"
   ]
  },
  {
   "cell_type": "code",
   "execution_count": 28,
   "metadata": {},
   "outputs": [
    {
     "data": {
      "text/plain": [
       "7"
      ]
     },
     "execution_count": 28,
     "metadata": {},
     "output_type": "execute_result"
    }
   ],
   "source": [
    "target_columns = ['debt_settlement_flag_date','settlement_status',\n",
    "                  'settlement_date','settlement_amount',\n",
    "                  'settlement_percentage','settlement_term',\n",
    "                  'debt_settlement_flag']\n",
    "len(target_columns)"
   ]
  },
  {
   "cell_type": "code",
   "execution_count": 29,
   "metadata": {},
   "outputs": [
    {
     "name": "stdout",
     "output_type": "stream",
     "text": [
      "+-------------------------+-----------------+---------------+-----------------+---------------------+---------------+--------------------+\n",
      "|debt_settlement_flag_date|settlement_status|settlement_date|settlement_amount|settlement_percentage|settlement_term|debt_settlement_flag|\n",
      "+-------------------------+-----------------+---------------+-----------------+---------------------+---------------+--------------------+\n",
      "|                   Jul-18|           ACTIVE|         Jul-18|             1744|                65.01|             17|                   Y|\n",
      "|                   Jun-18|           ACTIVE|         Jun-18|             5018|                65.01|             10|                   Y|\n",
      "|                   Jul-18|           ACTIVE|         Jul-18|             4018|                65.01|             16|                   Y|\n",
      "|                   Jul-18|           ACTIVE|         Jul-18|             1854|                64.99|             12|                   Y|\n",
      "|                   Jun-18|           ACTIVE|         Jun-18|             3458|                 65.0|             18|                   Y|\n",
      "|                   Jul-18|           ACTIVE|         Jul-18|             6592|                65.01|             16|                   Y|\n",
      "|                   Jul-18|           ACTIVE|         Jul-18|             7168|                 65.0|             18|                   Y|\n",
      "|                   Jul-18|           ACTIVE|         Jul-18|             9657|                 65.0|             18|                   Y|\n",
      "|                   Apr-18|           ACTIVE|         Apr-18|             1387|                70.03|             12|                   Y|\n",
      "+-------------------------+-----------------+---------------+-----------------+---------------------+---------------+--------------------+\n",
      "\n"
     ]
    }
   ],
   "source": [
    "# There is only one record available\n",
    "loan.filter(~loan['debt_settlement_flag_date'].isNull()).select(target_columns).show()"
   ]
  },
  {
   "cell_type": "code",
   "execution_count": 30,
   "metadata": {},
   "outputs": [
    {
     "name": "stdout",
     "output_type": "stream",
     "text": [
      "Drop off 7 columns from the dataframe.\n"
     ]
    }
   ],
   "source": [
    "# Drop off all the settlement related features since they only contribute a litte \n",
    "# prediction power on the 'loan_status'.\n",
    "print('Drop off {} columns from the dataframe.'.format(len(target_columns)))"
   ]
  },
  {
   "cell_type": "code",
   "execution_count": 31,
   "metadata": {},
   "outputs": [],
   "source": [
    "loan = loan.drop('debt_settlement_flag_date','settlement_status',\n",
    "                  'settlement_date','settlement_amount',\n",
    "                  'settlement_percentage','settlement_term',\n",
    "                  'debt_settlement_flag'\n",
    "                )"
   ]
  },
  {
   "cell_type": "code",
   "execution_count": 32,
   "metadata": {},
   "outputs": [
    {
     "data": {
      "text/plain": [
       "116"
      ]
     },
     "execution_count": 32,
     "metadata": {},
     "output_type": "execute_result"
    }
   ],
   "source": [
    "# 117 columns left in the dataset.\n",
    "len(loan.columns)"
   ]
  },
  {
   "cell_type": "markdown",
   "metadata": {},
   "source": [
    "### 4.1.5 Other features"
   ]
  },
  {
   "cell_type": "code",
   "execution_count": 33,
   "metadata": {},
   "outputs": [],
   "source": [
    "column_names = loan.columns"
   ]
  },
  {
   "cell_type": "code",
   "execution_count": 34,
   "metadata": {},
   "outputs": [
    {
     "name": "stdout",
     "output_type": "stream",
     "text": [
      "Column: emp_title contained 9613 missing values.\n",
      "Column: dti contained 262 missing values.\n",
      "Column: mths_since_last_delinq contained 60695 missing values.\n",
      "Column: mths_since_last_record contained 92595 missing values.\n",
      "Column: revol_util contained 149 missing values.\n",
      "Column: last_pymnt_d contained 151 missing values.\n",
      "Column: next_pymnt_d contained 6517 missing values.\n",
      "Column: last_credit_pull_d contained 2 missing values.\n",
      "Column: mths_since_last_major_derog contained 83103 missing values.\n",
      "Column: mths_since_rcnt_il contained 4288 missing values.\n",
      "Column: il_util contained 17984 missing values.\n",
      "Column: all_util contained 28 missing values.\n",
      "Column: avg_cur_bal contained 10 missing values.\n",
      "Column: bc_open_to_buy contained 1510 missing values.\n",
      "Column: bc_util contained 1561 missing values.\n",
      "Column: mo_sin_old_il_acct contained 4288 missing values.\n",
      "Column: mths_since_recent_bc contained 1421 missing values.\n",
      "Column: mths_since_recent_bc_dlq contained 86566 missing values.\n",
      "Column: mths_since_recent_inq contained 13648 missing values.\n",
      "Column: mths_since_recent_revol_delinq contained 77038 missing values.\n",
      "Column: num_tl_120dpd_2m contained 3508 missing values.\n",
      "Column: pct_tl_nvr_dlq contained 1 missing values.\n",
      "Column: percent_bc_gt_75 contained 1514 missing values.\n",
      "Column: sec_app_revol_util contained 109 missing values.\n",
      "Column: sec_app_mths_since_last_major_derog contained 79728 missing values.\n",
      "\n",
      "25 features still contain missing values.\n"
     ]
    }
   ],
   "source": [
    "# Find the rest of features which still have missing records.\n",
    "numeric_feat = {}\n",
    "string_feat = {}\n",
    "\n",
    "i = 0\n",
    "for col in column_names:\n",
    "    na_count = loan.filter((loan[col] == \"\") | loan[col].isNull() | isnan(loan[col])).count()\n",
    "    if na_count != 0:\n",
    "        print('Column: {} contained {} missing values.'.format(col, na_count))\n",
    "        i += 1\n",
    "        if loan.select(col).dtypes[0][1] != 'string':\n",
    "            numeric_feat[col] = na_count\n",
    "        elif loan.select(col).dtypes[0][1] == 'string':\n",
    "            string_feat[col] = na_count\n",
    "print()\n",
    "print(i, 'features still contain missing values.')"
   ]
  },
  {
   "cell_type": "code",
   "execution_count": 35,
   "metadata": {},
   "outputs": [
    {
     "data": {
      "text/plain": [
       "(19, 6)"
      ]
     },
     "execution_count": 35,
     "metadata": {},
     "output_type": "execute_result"
    }
   ],
   "source": [
    "len(numeric_feat), len(string_feat)"
   ]
  },
  {
   "cell_type": "code",
   "execution_count": 36,
   "metadata": {},
   "outputs": [],
   "source": [
    "# Save the current dataset into a csv for the next step.\n",
    "loan.toPandas().to_csv('loan.csv')"
   ]
  }
 ],
 "metadata": {
  "kernelspec": {
   "display_name": "Python 3",
   "language": "python",
   "name": "python3"
  },
  "language_info": {
   "codemirror_mode": {
    "name": "ipython",
    "version": 3
   },
   "file_extension": ".py",
   "mimetype": "text/x-python",
   "name": "python",
   "nbconvert_exporter": "python",
   "pygments_lexer": "ipython3",
   "version": "3.6.7"
  }
 },
 "nbformat": 4,
 "nbformat_minor": 2
}
