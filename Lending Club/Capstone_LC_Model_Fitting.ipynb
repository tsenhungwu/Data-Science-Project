{
 "cells": [
  {
   "cell_type": "markdown",
   "metadata": {},
   "source": [
    "# Description\n",
    "1. In this jupyter notebook, I have three goals, or three main tasks wanted to solve. \n",
    "2. For the Loan Lending club, it's extremely important to know how's the loan repayment capacity for each loan applicant, and how much interest rate should be assigned to each loan application appropriately. \n",
    "    - Firstly, knowing the loan repayment capacity for each loan applicant could help it decide whether to \"accept\" or \"deny\" a loan application. \n",
    "    - Second, evaluating interest rate precisely could bring an additional incentive for those who are willing to \"lend\" money and also attain a balance between demand (borrowers) and supply (lenders).\n",
    "3. As a result, some suitable metrics must be determined by looking at the dataset.\n",
    "    - Metrics\n",
    "        - loan status: To evaluate the loan repayment capacity for each loan applicant.\n",
    "        - grade: A good categorical index to know the loan repayment capacity.\n",
    "        - interest rate: A numerical feature playing a role of balancing demand and supply. "
   ]
  },
  {
   "cell_type": "markdown",
   "metadata": {},
   "source": [
    "# Goal: Predict 1st response feature, loan_status_binary\n",
    "## Main Tasks\n",
    "1. Packages\n",
    "2. Prepare the dataset \n",
    "3. Categorical Feature Transformation\n",
    "    - 3.1 One-hot encoding\n",
    "    - 3.2 Dummy features\n",
    "4. Data preprocessing\n",
    "    - 4.1 Split data into train and test sets\n",
    "    - 4.2 Standarize data\n",
    "5. Modeling\n",
    "    - 5.1 Logistic Regression\n",
    "        - 5.1.1 Hyper-parameter tuning using GridSearchCV \n",
    "        - 5.1.2 Hyper-parameter tuning using RandomizedSearchCV\n",
    "        - 5.1.3 Confusion Matrix\n",
    "        - 5.1.4 Features' coefficients by Logistic Regression\n",
    "    - 5.2 Random Forest \n",
    "        - 5.2.1 Hyper-parameter tuning using GridSearchCV\n",
    "        - 5.2.2 Hyper-parameter tuning using RandomizedSearchCV \n",
    "        - 5.2.3 Confusion Matrix\n",
    "        - 5.2.4 Feature importance by Random Forest\n",
    "    - 5.3 Gradient Boosting Decision Tree\n",
    "        - 5.3.1 Hyper-parameter tuning using GridSearchCV\n",
    "        - 5.3.2 Hyper-parameter tuning using RandomizedSearchCV\n",
    "        - 5.3.3 Confusion Matrix\n",
    "6. Summary\n",
    "    - 6.1. Feature conclusions\n",
    "    - 6.2. Model Deployment"
   ]
  },
  {
   "cell_type": "markdown",
   "metadata": {},
   "source": [
    "## 1. Packages"
   ]
  },
  {
   "cell_type": "code",
   "execution_count": 1,
   "metadata": {},
   "outputs": [],
   "source": [
    "# Data structure packages\n",
    "import pandas as pd\n",
    "import numpy as np\n",
    "\n",
    "# Machine Learning packages\n",
    "import time\n",
    "import math\n",
    "from scipy import stats\n",
    "from sklearn.preprocessing import MinMaxScaler, LabelEncoder\n",
    "from sklearn.model_selection import train_test_split\n",
    "from sklearn.model_selection import KFold\n",
    "from sklearn.metrics import roc_auc_score, confusion_matrix\n",
    "\n",
    "# Visualization packages\n",
    "import seaborn as sns\n",
    "import matplotlib.pyplot as plt\n",
    "plt.style.use(\"ggplot\")"
   ]
  },
  {
   "cell_type": "markdown",
   "metadata": {},
   "source": [
    "## 2. Prepare the dataset"
   ]
  },
  {
   "cell_type": "code",
   "execution_count": 2,
   "metadata": {},
   "outputs": [],
   "source": [
    "# The first dataset is used for tree-based models\n",
    "# The second dataset is used for Logistic Regression\n",
    "# Uncomment it if need to use different datasets\n",
    "\n",
    "loan = pd.read_csv(\"final_LC_loan.csv\")\n",
    "#loan = pd.read_csv(\"LR_model_final_LC_loan.csv\")"
   ]
  },
  {
   "cell_type": "code",
   "execution_count": 63,
   "metadata": {},
   "outputs": [
    {
     "data": {
      "text/html": [
       "<div>\n",
       "<style scoped>\n",
       "    .dataframe tbody tr th:only-of-type {\n",
       "        vertical-align: middle;\n",
       "    }\n",
       "\n",
       "    .dataframe tbody tr th {\n",
       "        vertical-align: top;\n",
       "    }\n",
       "\n",
       "    .dataframe thead th {\n",
       "        text-align: right;\n",
       "    }\n",
       "</style>\n",
       "<table border=\"1\" class=\"dataframe\">\n",
       "  <thead>\n",
       "    <tr style=\"text-align: right;\">\n",
       "      <th></th>\n",
       "      <th>loan_amnt</th>\n",
       "      <th>funded_amnt</th>\n",
       "      <th>funded_amnt_inv</th>\n",
       "      <th>term</th>\n",
       "      <th>int_rate</th>\n",
       "      <th>installment</th>\n",
       "      <th>grade</th>\n",
       "      <th>sub_grade</th>\n",
       "      <th>emp_length</th>\n",
       "      <th>home_ownership</th>\n",
       "      <th>...</th>\n",
       "      <th>numeric_diff_next_issue_d</th>\n",
       "      <th>level_diff_next_issue_d</th>\n",
       "      <th>days_since_last_credit_pull</th>\n",
       "      <th>level_since_last_credit_pull</th>\n",
       "      <th>T_unique_title</th>\n",
       "      <th>days_since_issue</th>\n",
       "      <th>level_since_issue</th>\n",
       "      <th>days_between_max_issue_earliest_cr_line</th>\n",
       "      <th>level_between_max_issue_earliest_cr_line</th>\n",
       "      <th>group_state</th>\n",
       "    </tr>\n",
       "  </thead>\n",
       "  <tbody>\n",
       "    <tr>\n",
       "      <th>0</th>\n",
       "      <td>7000.0</td>\n",
       "      <td>7000.0</td>\n",
       "      <td>7000.0</td>\n",
       "      <td>36 months</td>\n",
       "      <td>7.34</td>\n",
       "      <td>217.23</td>\n",
       "      <td>A</td>\n",
       "      <td>A4</td>\n",
       "      <td>10+ years</td>\n",
       "      <td>MORTGAGE</td>\n",
       "      <td>...</td>\n",
       "      <td>153.0</td>\n",
       "      <td>5 month difference</td>\n",
       "      <td>-122.0</td>\n",
       "      <td>Negative 4 mths</td>\n",
       "      <td>president</td>\n",
       "      <td>0</td>\n",
       "      <td>0 mth</td>\n",
       "      <td>5021</td>\n",
       "      <td>14 yrs</td>\n",
       "      <td>midwest</td>\n",
       "    </tr>\n",
       "    <tr>\n",
       "      <th>1</th>\n",
       "      <td>5000.0</td>\n",
       "      <td>5000.0</td>\n",
       "      <td>5000.0</td>\n",
       "      <td>36 months</td>\n",
       "      <td>7.96</td>\n",
       "      <td>156.59</td>\n",
       "      <td>A</td>\n",
       "      <td>A5</td>\n",
       "      <td>10+ years</td>\n",
       "      <td>MORTGAGE</td>\n",
       "      <td>...</td>\n",
       "      <td>153.0</td>\n",
       "      <td>5 month difference</td>\n",
       "      <td>-122.0</td>\n",
       "      <td>Negative 4 mths</td>\n",
       "      <td>manager</td>\n",
       "      <td>0</td>\n",
       "      <td>0 mth</td>\n",
       "      <td>5995</td>\n",
       "      <td>21 yrs</td>\n",
       "      <td>southeast</td>\n",
       "    </tr>\n",
       "    <tr>\n",
       "      <th>2</th>\n",
       "      <td>17000.0</td>\n",
       "      <td>17000.0</td>\n",
       "      <td>17000.0</td>\n",
       "      <td>36 months</td>\n",
       "      <td>10.90</td>\n",
       "      <td>555.76</td>\n",
       "      <td>B</td>\n",
       "      <td>B4</td>\n",
       "      <td>10+ years</td>\n",
       "      <td>OWN</td>\n",
       "      <td>...</td>\n",
       "      <td>153.0</td>\n",
       "      <td>5 month difference</td>\n",
       "      <td>-122.0</td>\n",
       "      <td>Negative 4 mths</td>\n",
       "      <td>Other titles</td>\n",
       "      <td>0</td>\n",
       "      <td>0 mth</td>\n",
       "      <td>3865</td>\n",
       "      <td>14 yrs</td>\n",
       "      <td>west</td>\n",
       "    </tr>\n",
       "    <tr>\n",
       "      <th>3</th>\n",
       "      <td>20000.0</td>\n",
       "      <td>20000.0</td>\n",
       "      <td>20000.0</td>\n",
       "      <td>36 months</td>\n",
       "      <td>5.31</td>\n",
       "      <td>602.21</td>\n",
       "      <td>A</td>\n",
       "      <td>A1</td>\n",
       "      <td>5 years</td>\n",
       "      <td>OWN</td>\n",
       "      <td>...</td>\n",
       "      <td>153.0</td>\n",
       "      <td>5 month difference</td>\n",
       "      <td>-122.0</td>\n",
       "      <td>Negative 4 mths</td>\n",
       "      <td>owner</td>\n",
       "      <td>0</td>\n",
       "      <td>0 mth</td>\n",
       "      <td>6421</td>\n",
       "      <td>21 yrs</td>\n",
       "      <td>northeast</td>\n",
       "    </tr>\n",
       "    <tr>\n",
       "      <th>4</th>\n",
       "      <td>25000.0</td>\n",
       "      <td>25000.0</td>\n",
       "      <td>25000.0</td>\n",
       "      <td>60 months</td>\n",
       "      <td>12.61</td>\n",
       "      <td>563.85</td>\n",
       "      <td>C</td>\n",
       "      <td>C1</td>\n",
       "      <td>10+ years</td>\n",
       "      <td>RENT</td>\n",
       "      <td>...</td>\n",
       "      <td>153.0</td>\n",
       "      <td>5 month difference</td>\n",
       "      <td>-122.0</td>\n",
       "      <td>Negative 4 mths</td>\n",
       "      <td>consultant</td>\n",
       "      <td>0</td>\n",
       "      <td>0 mth</td>\n",
       "      <td>4595</td>\n",
       "      <td>14 yrs</td>\n",
       "      <td>southeast</td>\n",
       "    </tr>\n",
       "  </tbody>\n",
       "</table>\n",
       "<p>5 rows × 140 columns</p>\n",
       "</div>"
      ],
      "text/plain": [
       "   loan_amnt  funded_amnt  funded_amnt_inv        term  int_rate  installment  \\\n",
       "0     7000.0       7000.0           7000.0   36 months      7.34       217.23   \n",
       "1     5000.0       5000.0           5000.0   36 months      7.96       156.59   \n",
       "2    17000.0      17000.0          17000.0   36 months     10.90       555.76   \n",
       "3    20000.0      20000.0          20000.0   36 months      5.31       602.21   \n",
       "4    25000.0      25000.0          25000.0   60 months     12.61       563.85   \n",
       "\n",
       "  grade sub_grade emp_length home_ownership     ...       \\\n",
       "0     A        A4  10+ years       MORTGAGE     ...        \n",
       "1     A        A5  10+ years       MORTGAGE     ...        \n",
       "2     B        B4  10+ years            OWN     ...        \n",
       "3     A        A1    5 years            OWN     ...        \n",
       "4     C        C1  10+ years           RENT     ...        \n",
       "\n",
       "   numeric_diff_next_issue_d level_diff_next_issue_d  \\\n",
       "0                      153.0      5 month difference   \n",
       "1                      153.0      5 month difference   \n",
       "2                      153.0      5 month difference   \n",
       "3                      153.0      5 month difference   \n",
       "4                      153.0      5 month difference   \n",
       "\n",
       "  days_since_last_credit_pull level_since_last_credit_pull T_unique_title  \\\n",
       "0                      -122.0              Negative 4 mths      president   \n",
       "1                      -122.0              Negative 4 mths        manager   \n",
       "2                      -122.0              Negative 4 mths   Other titles   \n",
       "3                      -122.0              Negative 4 mths          owner   \n",
       "4                      -122.0              Negative 4 mths     consultant   \n",
       "\n",
       "   days_since_issue  level_since_issue  \\\n",
       "0                 0              0 mth   \n",
       "1                 0              0 mth   \n",
       "2                 0              0 mth   \n",
       "3                 0              0 mth   \n",
       "4                 0              0 mth   \n",
       "\n",
       "   days_between_max_issue_earliest_cr_line  \\\n",
       "0                                     5021   \n",
       "1                                     5995   \n",
       "2                                     3865   \n",
       "3                                     6421   \n",
       "4                                     4595   \n",
       "\n",
       "   level_between_max_issue_earliest_cr_line  group_state  \n",
       "0                                    14 yrs      midwest  \n",
       "1                                    21 yrs    southeast  \n",
       "2                                    14 yrs         west  \n",
       "3                                    21 yrs    northeast  \n",
       "4                                    14 yrs    southeast  \n",
       "\n",
       "[5 rows x 140 columns]"
      ]
     },
     "execution_count": 63,
     "metadata": {},
     "output_type": "execute_result"
    }
   ],
   "source": [
    "loan.head()"
   ]
  },
  {
   "cell_type": "code",
   "execution_count": 64,
   "metadata": {},
   "outputs": [
    {
     "data": {
      "text/plain": [
       "(107864, 140)"
      ]
     },
     "execution_count": 64,
     "metadata": {},
     "output_type": "execute_result"
    }
   ],
   "source": [
    "loan.shape"
   ]
  },
  {
   "cell_type": "code",
   "execution_count": 65,
   "metadata": {},
   "outputs": [
    {
     "data": {
      "text/plain": [
       "(107864, 135)"
      ]
     },
     "execution_count": 65,
     "metadata": {},
     "output_type": "execute_result"
    }
   ],
   "source": [
    "# Should exclude other response features before modeling\n",
    "no_other_response_loan = loan.drop(['loan_status_binary','loan_status', 'grade', 'sub_grade', 'int_rate'], axis = 1)\n",
    "no_other_response_loan.shape"
   ]
  },
  {
   "cell_type": "markdown",
   "metadata": {},
   "source": [
    "## 3. Categorical Feature Transformation \n",
    "- 3.1 One-hot encoding\n",
    "    - Transform categorical features into boolean values, either 0 or 1.\n",
    "- 3.2 Dummy features\n",
    "    - Transform categorical features containing more than two levels by creating dummy features."
   ]
  },
  {
   "cell_type": "markdown",
   "metadata": {},
   "source": [
    "### 3.1 One-hot encoding"
   ]
  },
  {
   "cell_type": "code",
   "execution_count": 221,
   "metadata": {
    "scrolled": true
   },
   "outputs": [
    {
     "name": "stdout",
     "output_type": "stream",
     "text": [
      "term 0\n",
      "emp_length 0\n",
      "home_ownership 0\n",
      "verification_status 0\n",
      "purpose 0\n",
      "title 0\n",
      "initial_list_status 0\n",
      "application_type 0\n",
      "hardship_flag 0\n",
      "hardship_type 0\n",
      "hardship_reason 0\n",
      "hardship_status 0\n",
      "hardship_loan_status 0\n",
      "disbursement_method 0\n",
      "debt_settlement_flag 0\n",
      "settlement_status 0\n",
      "days_between_issue_payment_plan_start_date 0\n",
      "days_between_issue_hardship_start_date 0\n",
      "days_between_issue_hardship_end_date 0\n",
      "level_between_issue_settlement_date 0\n",
      "level_between_max_issue_sec_earliest_cr_line 0\n",
      "level_diff_last_issue_d 0\n",
      "level_diff_next_issue_d 0\n",
      "level_since_last_credit_pull 0\n",
      "T_unique_title 0\n",
      "level_since_issue 0\n",
      "level_between_max_issue_earliest_cr_line 0\n",
      "group_state 0\n"
     ]
    }
   ],
   "source": [
    "# Collect column names \n",
    "one_hot_column = []\n",
    "dummy_column = []\n",
    "\n",
    "for each in no_other_response_loan:\n",
    "    if no_other_response_loan[each].dtype == 'object':\n",
    "        # Check NA values again for each categorical type of feature\n",
    "        print(each, no_other_response_loan[each].isnull().sum())\n",
    "        \n",
    "        # Levels less than two: one-hot encoding\n",
    "        if len(no_other_response_loan[each].unique()) <= 2:\n",
    "            one_hot_column.append(each)\n",
    "            \n",
    "        # Levels more than two: dummy columns\n",
    "        elif len(no_other_response_loan[each].unique()) > 2:\n",
    "            dummy_column.append(each)"
   ]
  },
  {
   "cell_type": "code",
   "execution_count": 222,
   "metadata": {},
   "outputs": [
    {
     "name": "stdout",
     "output_type": "stream",
     "text": [
      "term\n",
      "initial_list_status\n",
      "application_type\n",
      "hardship_flag\n",
      "hardship_type\n",
      "hardship_reason\n",
      "hardship_status\n",
      "hardship_loan_status\n",
      "disbursement_method\n",
      "debt_settlement_flag\n",
      "settlement_status\n",
      "days_between_issue_payment_plan_start_date\n",
      "days_between_issue_hardship_start_date\n",
      "days_between_issue_hardship_end_date\n",
      "14 columns were label encoded.\n"
     ]
    }
   ],
   "source": [
    "# One-hot encoding for categorical features containing two levels\n",
    "le = LabelEncoder()\n",
    "le_count = 0\n",
    "\n",
    "for col in one_hot_column:\n",
    "    print(col)\n",
    "    le.fit(no_other_response_loan[col])\n",
    "    no_other_response_loan[col] = le.transform(no_other_response_loan[col])\n",
    "            \n",
    "    # Keep track of how many columns were label encoded\n",
    "    le_count += 1\n",
    "            \n",
    "print('%d columns were label encoded.' % le_count)"
   ]
  },
  {
   "cell_type": "markdown",
   "metadata": {},
   "source": [
    "### 3.2 Dummy features"
   ]
  },
  {
   "cell_type": "code",
   "execution_count": 223,
   "metadata": {},
   "outputs": [
    {
     "name": "stdout",
     "output_type": "stream",
     "text": [
      "emp_length 12\n",
      "home_ownership 4\n",
      "verification_status 3\n",
      "purpose 13\n",
      "title 12\n",
      "level_between_issue_settlement_date 5\n",
      "level_between_max_issue_sec_earliest_cr_line 11\n",
      "level_diff_last_issue_d 8\n",
      "level_diff_next_issue_d 6\n",
      "level_since_last_credit_pull 10\n",
      "T_unique_title 21\n",
      "level_since_issue 3\n",
      "level_between_max_issue_earliest_cr_line 10\n",
      "group_state 5\n",
      "In total: 109 will be additionally added.\n"
     ]
    }
   ],
   "source": [
    "# Create dummy features\n",
    "sum_len = 0\n",
    "for col in dummy_column:\n",
    "    sum_len += len(no_other_response_loan[col].unique())\n",
    "    print(col, len(no_other_response_loan[col].unique()))\n",
    "    \n",
    "print('In total:', sum_len - len(dummy_column), 'will be additionally added.')"
   ]
  },
  {
   "cell_type": "code",
   "execution_count": 224,
   "metadata": {},
   "outputs": [
    {
     "name": "stdout",
     "output_type": "stream",
     "text": [
      "(107864, 93)\n",
      "(107864,)\n"
     ]
    }
   ],
   "source": [
    "# Seperate features into x (independent features) and y (dependent feature)\n",
    "x = no_other_response_loan\n",
    "y = loan.loan_status_binary.values\n",
    "\n",
    "print(x.shape)\n",
    "print(y.shape)"
   ]
  },
  {
   "cell_type": "code",
   "execution_count": 225,
   "metadata": {},
   "outputs": [
    {
     "name": "stdout",
     "output_type": "stream",
     "text": [
      "(107864, 93)\n",
      "(107864, 202)\n"
     ]
    }
   ],
   "source": [
    "# Original x's dimension\n",
    "print(x.shape)\n",
    "\n",
    "# 135 + 109 = 244, correct dummy feature transformation!\n",
    "# 93 + 109 = 202, correct dummy feature transformation!\n",
    "x = pd.get_dummies(x, columns = dummy_column)\n",
    "print(x.shape)"
   ]
  },
  {
   "cell_type": "markdown",
   "metadata": {},
   "source": [
    "## 4. Data preprocessing\n",
    "- 4.1 Split data into train and test sets\n",
    "- 4.2 Standarize data"
   ]
  },
  {
   "cell_type": "code",
   "execution_count": 182,
   "metadata": {},
   "outputs": [],
   "source": [
    "# Import metric functions from sklearn\n",
    "from sklearn.metrics import accuracy_score, precision_score, recall_score, f1_score\n",
    "from sklearn.metrics import roc_auc_score, roc_curve, auc"
   ]
  },
  {
   "cell_type": "code",
   "execution_count": 183,
   "metadata": {},
   "outputs": [],
   "source": [
    "# Helper method to print metric scores    \n",
    "def get_performance_metrics(y_train, y_train_pred, y_test, y_test_pred, threshold=0.5):\n",
    "    # names of metrics\n",
    "    metric_names = ['AUC','Accuracy','Precision','Recall','f1-score']\n",
    "    \n",
    "    # metrics of train\n",
    "    metric_values_train = [roc_auc_score(y_train, y_train_pred),\n",
    "                    accuracy_score(y_train, y_train_pred>threshold),\n",
    "                    precision_score(y_train, y_train_pred>threshold),\n",
    "                    recall_score(y_train, y_train_pred>threshold),\n",
    "                    f1_score(y_train, y_train_pred>threshold)\n",
    "                   ]\n",
    "    \n",
    "    # metrics of test\n",
    "    metric_values_test = [roc_auc_score(y_test, y_test_pred),\n",
    "                    accuracy_score(y_test, y_test_pred>threshold),\n",
    "                    precision_score(y_test, y_test_pred>threshold),\n",
    "                    recall_score(y_test, y_test_pred>threshold),\n",
    "                    f1_score(y_test, y_test_pred>threshold)\n",
    "                   ]\n",
    "    \n",
    "    # combine metrics from train and test\n",
    "    all_metrics = pd.DataFrame({'metrics':metric_names,\n",
    "                                'train':metric_values_train,\n",
    "                                'test':metric_values_test},columns=['metrics','train','test']).set_index('metrics')\n",
    "    print(all_metrics)"
   ]
  },
  {
   "cell_type": "code",
   "execution_count": 184,
   "metadata": {},
   "outputs": [],
   "source": [
    "# Function of plotting a roc curve\n",
    "def plot_roc_curve(y_train, y_train_pred, y_test, y_test_pred):\n",
    "    roc_auc_train = roc_auc_score(y_train, y_train_pred)\n",
    "    fpr_train, tpr_train, _ = roc_curve(y_train, y_train_pred)\n",
    "\n",
    "    roc_auc_test = roc_auc_score(y_test, y_test_pred)\n",
    "    fpr_test, tpr_test, _ = roc_curve(y_test, y_test_pred)\n",
    "    plt.figure()\n",
    "    lw = 2\n",
    "    plt.plot(fpr_train, tpr_train, color='green',\n",
    "             lw=lw, label='ROC Train (AUC = %0.4f)' % roc_auc_train)\n",
    "    plt.plot(fpr_test, tpr_test, color='darkorange',\n",
    "             lw=lw, label='ROC Test (AUC = %0.4f)' % roc_auc_test)\n",
    "    plt.plot([0, 1], [0, 1], color='navy', lw=lw, linestyle='--')\n",
    "    plt.xlim([0.0, 1.0])\n",
    "    plt.ylim([0.0, 1.05])\n",
    "    plt.xlabel('False Positive Rate')\n",
    "    plt.ylabel('True Positive Rate')\n",
    "    plt.title('Receiver operating characteristic example')\n",
    "    plt.legend(loc=\"lower right\")\n",
    "    plt.show()"
   ]
  },
  {
   "cell_type": "code",
   "execution_count": 185,
   "metadata": {},
   "outputs": [],
   "source": [
    "# Combine get_performance_metrics and plot_roc_curve functions into one function\n",
    "def train_test_model(clf, X_train, y_train, X_test, y_test):\n",
    "    # Fit a model by providing X and y from training set\n",
    "    clf.fit(X_train, y_train)\n",
    "\n",
    "    # Make prediction on the training data\n",
    "    y_train_pred = clf.predict(X_train)\n",
    "    p_train_pred = clf.predict_proba(X_train)[:,1]\n",
    "\n",
    "    # Make predictions on test data\n",
    "    y_test_pred = clf.predict(X_test)\n",
    "    p_test_pred = clf.predict_proba(X_test)[:,1]\n",
    "\n",
    "    # print model results\n",
    "    get_performance_metrics(y_train, p_train_pred, y_test, p_test_pred)\n",
    "    plot_roc_curve(y_train, p_train_pred, y_test, p_test_pred)"
   ]
  },
  {
   "cell_type": "markdown",
   "metadata": {},
   "source": [
    "### 4.1 Split data into train and test sets"
   ]
  },
  {
   "cell_type": "code",
   "execution_count": 226,
   "metadata": {},
   "outputs": [],
   "source": [
    "# Split data into train and test (80% & 20%)\n",
    "x_train, x_test, y_train, y_test = train_test_split(x, y, \n",
    "                                                    test_size = 0.2, random_state = 1)"
   ]
  },
  {
   "cell_type": "markdown",
   "metadata": {},
   "source": [
    "### 4.2 Standarize data\n",
    "- StandardScaler sklearn documentation: http://scikit-learn.org/stable/modules/preprocessing.html"
   ]
  },
  {
   "cell_type": "code",
   "execution_count": 227,
   "metadata": {},
   "outputs": [],
   "source": [
    "# Before modeling, standardize each feature\n",
    "from sklearn.preprocessing import StandardScaler\n",
    "\n",
    "scaler = StandardScaler()\n",
    "\n",
    "x_train_std = scaler.fit_transform(x_train)\n",
    "x_test_std = scaler.transform(x_test)"
   ]
  },
  {
   "cell_type": "code",
   "execution_count": 228,
   "metadata": {},
   "outputs": [
    {
     "name": "stdout",
     "output_type": "stream",
     "text": [
      "(86291, 202)\n",
      "(21573, 202)\n",
      "86291\n",
      "21573\n"
     ]
    }
   ],
   "source": [
    "print(x_train_std.shape)\n",
    "print(x_test_std.shape)\n",
    "print(len(y_train))\n",
    "print(len(y_test))"
   ]
  },
  {
   "cell_type": "markdown",
   "metadata": {},
   "source": [
    "## 5. Modeling\n",
    "- 5.1 Logistic Regression\n",
    "    - 5.1.1 Hyper-parameter tuning using GridSearchCV \n",
    "    - 5.1.2 Hyper-parameter tuning using RandomizedSearchCV\n",
    "    - 5.1.3 Confusion Matrix\n",
    "    - 5.1.4 Features' coefficients by Logistic Regression\n",
    "- 5.2 Random Forest \n",
    "    - 5.2.1 Hyper-parameter tuning using GridSearchCV\n",
    "    - 5.2.2 Hyper-parameter tuning using RandomizedSearchCV \n",
    "    - 5.2.3 Confusion Matrix\n",
    "    - 5.2.4 Feature importance by Random Forest\n",
    "- 5.3 Gradient Boosting Decision Tree\n",
    "    - 5.3.1 Hyper-parameter tuning using GridSearchCV\n",
    "    - 5.3.2 Hyper-parameter tuning using RandomizedSearchCV\n",
    "    - 5.3.3 Confusion Matrix"
   ]
  },
  {
   "cell_type": "markdown",
   "metadata": {},
   "source": [
    "### 5.1 Logistic Regression\n",
    "- Logistic Regression sklearn documentation: http://scikit-learn.org/stable/modules/generated/sklearn.linear_model.LogisticRegression.html"
   ]
  },
  {
   "cell_type": "code",
   "execution_count": 189,
   "metadata": {},
   "outputs": [
    {
     "name": "stdout",
     "output_type": "stream",
     "text": [
      "              train      test\n",
      "metrics                      \n",
      "AUC        0.967241  0.955319\n",
      "Accuracy   0.992885  0.992259\n",
      "Precision  0.995299  0.995264\n",
      "Recall     0.997425  0.996822\n",
      "f1-score   0.996360  0.996043\n"
     ]
    },
    {
     "data": {
      "image/png": "[encoded data removed]",
      "text/plain": [
       "<matplotlib.figure.Figure at 0x10bdd6358>"
      ]
     },
     "metadata": {},
     "output_type": "display_data"
    }
   ],
   "source": [
    "# Import Logistic Regression from sklearn\n",
    "from sklearn.linear_model import LogisticRegression\n",
    "\n",
    "LR_clf = LogisticRegression(C=1.0, penalty='l2')\n",
    "\n",
    "# Dataset I (without 4 response features): test: 0.7778\n",
    "# Dataset II (without 4 response features): test: 0.9553\n",
    "train_test_model(LR_clf, x_train_std, y_train, x_test_std, y_test)"
   ]
  },
  {
   "cell_type": "code",
   "execution_count": 190,
   "metadata": {},
   "outputs": [
    {
     "data": {
      "text/plain": [
       "8"
      ]
     },
     "execution_count": 190,
     "metadata": {},
     "output_type": "execute_result"
    }
   ],
   "source": [
    "# Eight features' coefficients were pushed to 0 due to l2 regularization\n",
    "sum(LR_clf.coef_.flatten() == 0)"
   ]
  },
  {
   "cell_type": "markdown",
   "metadata": {},
   "source": [
    "#### 5.1.1 Hyper-parameter tuning using GridSearchCV - Logistic Regression\n",
    "- GridSearchCV sklearn documentation: http://scikit-learn.org/stable/modules/generated/sklearn.model_selection.GridSearchCV.html#sklearn-model-selection-gridsearchcv\n",
    "\n",
    "##### Key parameters\n",
    "1. **penalty**: **Default is 'l2'.** Used to specify the norm used in the penalization. The ‘newton-cg’, ‘sag’ and ‘lbfgs’ solvers support only l2 penalties.\n",
    "2. **C**: **Default is 1.0.** Inverse of regularization strength; must be a positive float. Like in support vector machines, smaller values specify stronger regularization.\n",
    "3. **tol** : **Default is 1e-4.** Tolerance for stopping criteria."
   ]
  },
  {
   "cell_type": "code",
   "execution_count": 103,
   "metadata": {},
   "outputs": [],
   "source": [
    "from sklearn.model_selection import GridSearchCV\n",
    "#from sklearn.metrics import make_scorer"
   ]
  },
  {
   "cell_type": "code",
   "execution_count": 106,
   "metadata": {},
   "outputs": [
    {
     "name": "stdout",
     "output_type": "stream",
     "text": [
      "Grid search time : 33452.40072822571\n"
     ]
    }
   ],
   "source": [
    "# Record the grid searching time\n",
    "start_time = time.time()\n",
    "\n",
    "# Initiate the Logistic Regression Classifier\n",
    "LR_clf = LogisticRegression()\n",
    "\n",
    "# Construct ranges for each parameter\n",
    "param_grid = {'penalty': ['l1','l2'],\n",
    "              'C': [0.01, 0.1, 1, 10, 100],\n",
    "              'tol': [1e-3,1e-4,1e-5]\n",
    "             }\n",
    "\n",
    "# Find the optimal combination of parameters such that the highest auc score attained\n",
    "grid_obj = GridSearchCV(LR_clf, param_grid, cv=5, scoring='roc_auc')\n",
    "grid_obj = grid_obj.fit(x_train_std, y_train)\n",
    "\n",
    "print('Grid search time :',time.time() - start_time)"
   ]
  },
  {
   "cell_type": "code",
   "execution_count": 107,
   "metadata": {},
   "outputs": [
    {
     "data": {
      "text/plain": [
       "LogisticRegression(C=0.1, class_weight=None, dual=False, fit_intercept=True,\n",
       "          intercept_scaling=1, max_iter=100, multi_class='ovr', n_jobs=1,\n",
       "          penalty='l1', random_state=None, solver='liblinear', tol=1e-05,\n",
       "          verbose=0, warm_start=False)"
      ]
     },
     "execution_count": 107,
     "metadata": {},
     "output_type": "execute_result"
    }
   ],
   "source": [
    "# Call back the optimal combination of parameters \n",
    "LR_best_clf = grid_obj.best_estimator_\n",
    "LR_best_clf"
   ]
  },
  {
   "cell_type": "code",
   "execution_count": 108,
   "metadata": {},
   "outputs": [
    {
     "name": "stdout",
     "output_type": "stream",
     "text": [
      "              train      test\n",
      "metrics                      \n",
      "AUC        0.967321  0.958177\n",
      "Accuracy   0.992885  0.992305\n",
      "Precision  0.995275  0.995311\n",
      "Recall     0.997448  0.996822\n",
      "f1-score   0.996361  0.996066\n"
     ]
    },
    {
     "data": {
      "image/png": "[encoded data removed]",
      "text/plain": [
       "<matplotlib.figure.Figure at 0x11ab5fda0>"
      ]
     },
     "metadata": {},
     "output_type": "display_data"
    },
    {
     "name": "stdout",
     "output_type": "stream",
     "text": [
      "Execution time : 367.0237891674042\n"
     ]
    }
   ],
   "source": [
    "# See model performances\n",
    "start_time = time.time()\n",
    "train_test_model(LR_best_clf, x_train_std, y_train, x_test_std, y_test)\n",
    "print('Execution time :',time.time() - start_time)"
   ]
  },
  {
   "cell_type": "markdown",
   "metadata": {},
   "source": [
    "#### 5.1.2 Hyper-parameter tuning using RandomizedSearchCV - Logistic Regression"
   ]
  },
  {
   "cell_type": "code",
   "execution_count": 140,
   "metadata": {},
   "outputs": [],
   "source": [
    "import random\n",
    "from scipy.stats import randint as sp_randint\n",
    "from sklearn.model_selection import RandomizedSearchCV"
   ]
  },
  {
   "cell_type": "code",
   "execution_count": 110,
   "metadata": {},
   "outputs": [
    {
     "name": "stdout",
     "output_type": "stream",
     "text": [
      "execution time 24466.840861082077\n"
     ]
    }
   ],
   "source": [
    "# Record the randomized grid searching time\n",
    "start_time = time.time()\n",
    "\n",
    "# Initiate the Logistic Regression Classifier\n",
    "LR_clf = LogisticRegression()\n",
    "\n",
    "# Construct ranges for each parameter \n",
    "param_grid = {'penalty': ['l1','l2'],\n",
    "              'C': [i * 0.01 for i in range(1, 10001)],\n",
    "              'tol': [1e-3,1e-4,1e-5]\n",
    "             }\n",
    "\n",
    "# Do the randomized grid searching 30 times \n",
    "# Find the optimal combination of parameters such that the highest auc score attained\n",
    "grid_obj = RandomizedSearchCV(LR_clf, param_distributions=param_grid, cv=5, scoring='roc_auc',\n",
    "                              n_iter = 30)\n",
    "grid_obj.fit(x_train_std, y_train)\n",
    "\n",
    "print('execution time', time.time() - start_time)"
   ]
  },
  {
   "cell_type": "code",
   "execution_count": 112,
   "metadata": {},
   "outputs": [
    {
     "data": {
      "text/plain": [
       "LogisticRegression(C=1.69, class_weight=None, dual=False, fit_intercept=True,\n",
       "          intercept_scaling=1, max_iter=100, multi_class='ovr', n_jobs=1,\n",
       "          penalty='l1', random_state=None, solver='liblinear', tol=0.001,\n",
       "          verbose=0, warm_start=False)"
      ]
     },
     "execution_count": 112,
     "metadata": {},
     "output_type": "execute_result"
    }
   ],
   "source": [
    "# Call back the optimal combination of parameters \n",
    "LR_best_clf = grid_obj.best_estimator_\n",
    "LR_best_clf"
   ]
  },
  {
   "cell_type": "code",
   "execution_count": 113,
   "metadata": {},
   "outputs": [
    {
     "name": "stdout",
     "output_type": "stream",
     "text": [
      "              train      test\n",
      "metrics                      \n",
      "AUC        0.966685  0.956163\n",
      "Accuracy   0.992838  0.992352\n",
      "Precision  0.995251  0.995312\n",
      "Recall     0.997425  0.996870\n",
      "f1-score   0.996337  0.996090\n"
     ]
    },
    {
     "data": {
      "image/png": "[encoded data removed]",
      "text/plain": [
       "<matplotlib.figure.Figure at 0x10f3bc320>"
      ]
     },
     "metadata": {},
     "output_type": "display_data"
    }
   ],
   "source": [
    "# See model performances\n",
    "train_test_model(LR_best_clf, x_train, y_train, x_test, y_test)"
   ]
  },
  {
   "cell_type": "markdown",
   "metadata": {},
   "source": [
    "#### 5.1.3 Confusion Matrix - Logistic Regression\n",
    "- sklearn confusion matrix documentation: http://scikit-learn.org/stable/modules/generated/sklearn.metrics.confusion_matrix.html"
   ]
  },
  {
   "cell_type": "code",
   "execution_count": 192,
   "metadata": {},
   "outputs": [
    {
     "data": {
      "text/plain": [
       "LogisticRegression(C=0.1, class_weight=None, dual=False, fit_intercept=True,\n",
       "          intercept_scaling=1, max_iter=100, multi_class='ovr', n_jobs=1,\n",
       "          penalty='l1', random_state=None, solver='liblinear', tol=1e-05,\n",
       "          verbose=0, warm_start=False)"
      ]
     },
     "execution_count": 192,
     "metadata": {},
     "output_type": "execute_result"
    }
   ],
   "source": [
    "# Use the best Logistic Regression model based on the results of hyper-parameter tuning\n",
    "LR_best_clf = LogisticRegression(C=0.1, penalty='l1', tol=1e-05)\n",
    "LR_best_clf.fit(x_train_std, y_train)"
   ]
  },
  {
   "cell_type": "code",
   "execution_count": 193,
   "metadata": {},
   "outputs": [
    {
     "data": {
      "text/plain": [
       "(1630, 399, 215, 84047)"
      ]
     },
     "execution_count": 193,
     "metadata": {},
     "output_type": "execute_result"
    }
   ],
   "source": [
    "# Confusion Matrix of train data\n",
    "tn, fp, fn, tp = confusion_matrix(y_train, LR_best_clf.predict(x_train_std)).ravel()\n",
    "tn, fp, fn, tp"
   ]
  },
  {
   "cell_type": "code",
   "execution_count": 194,
   "metadata": {},
   "outputs": [
    {
     "data": {
      "text/plain": [
       "(391, 99, 67, 21016)"
      ]
     },
     "execution_count": 194,
     "metadata": {},
     "output_type": "execute_result"
    }
   ],
   "source": [
    "# Confusion Matrix of test data \n",
    "tn, fp, fn, tp = confusion_matrix(y_test, LR_best_clf.predict(x_test_std)).ravel()\n",
    "tn, fp, fn, tp"
   ]
  },
  {
   "cell_type": "code",
   "execution_count": 195,
   "metadata": {},
   "outputs": [],
   "source": [
    "LR_confusion_matrix = pd.DataFrame({'Predicted_loan_status_0':confusion_matrix(y_test, LR_best_clf.predict(x_test_std))[:,0],\\\n",
    "                                    'Predicted_loan_status_1':confusion_matrix(y_test, LR_best_clf.predict(x_test_std))[:,1]},\\\n",
    "                                   index = ['True_loan_status_0', 'True_loan_status_1'])"
   ]
  },
  {
   "cell_type": "code",
   "execution_count": 196,
   "metadata": {},
   "outputs": [
    {
     "data": {
      "text/html": [
       "<div>\n",
       "<style scoped>\n",
       "    .dataframe tbody tr th:only-of-type {\n",
       "        vertical-align: middle;\n",
       "    }\n",
       "\n",
       "    .dataframe tbody tr th {\n",
       "        vertical-align: top;\n",
       "    }\n",
       "\n",
       "    .dataframe thead th {\n",
       "        text-align: right;\n",
       "    }\n",
       "</style>\n",
       "<table border=\"1\" class=\"dataframe\">\n",
       "  <thead>\n",
       "    <tr style=\"text-align: right;\">\n",
       "      <th></th>\n",
       "      <th>Predicted_loan_status_0</th>\n",
       "      <th>Predicted_loan_status_1</th>\n",
       "    </tr>\n",
       "  </thead>\n",
       "  <tbody>\n",
       "    <tr>\n",
       "      <th>True_loan_status_0</th>\n",
       "      <td>391</td>\n",
       "      <td>99</td>\n",
       "    </tr>\n",
       "    <tr>\n",
       "      <th>True_loan_status_1</th>\n",
       "      <td>67</td>\n",
       "      <td>21016</td>\n",
       "    </tr>\n",
       "  </tbody>\n",
       "</table>\n",
       "</div>"
      ],
      "text/plain": [
       "                    Predicted_loan_status_0  Predicted_loan_status_1\n",
       "True_loan_status_0                      391                       99\n",
       "True_loan_status_1                       67                    21016"
      ]
     },
     "execution_count": 196,
     "metadata": {},
     "output_type": "execute_result"
    }
   ],
   "source": [
    "LR_confusion_matrix"
   ]
  },
  {
   "cell_type": "markdown",
   "metadata": {},
   "source": [
    "#### 5.1.4 Features' coefficients by Logistic Regression"
   ]
  },
  {
   "cell_type": "code",
   "execution_count": 197,
   "metadata": {
    "scrolled": true
   },
   "outputs": [
    {
     "data": {
      "text/html": [
       "<div>\n",
       "<style scoped>\n",
       "    .dataframe tbody tr th:only-of-type {\n",
       "        vertical-align: middle;\n",
       "    }\n",
       "\n",
       "    .dataframe tbody tr th {\n",
       "        vertical-align: top;\n",
       "    }\n",
       "\n",
       "    .dataframe thead th {\n",
       "        text-align: right;\n",
       "    }\n",
       "</style>\n",
       "<table border=\"1\" class=\"dataframe\">\n",
       "  <thead>\n",
       "    <tr style=\"text-align: right;\">\n",
       "      <th></th>\n",
       "      <th>feature</th>\n",
       "      <th>coeff</th>\n",
       "    </tr>\n",
       "  </thead>\n",
       "  <tbody>\n",
       "    <tr>\n",
       "      <th>75</th>\n",
       "      <td>numeric_diff_last_issue_d</td>\n",
       "      <td>2.975443</td>\n",
       "    </tr>\n",
       "    <tr>\n",
       "      <th>16</th>\n",
       "      <td>total_pymnt_inv</td>\n",
       "      <td>2.309197</td>\n",
       "    </tr>\n",
       "    <tr>\n",
       "      <th>17</th>\n",
       "      <td>total_rec_prncp</td>\n",
       "      <td>1.381171</td>\n",
       "    </tr>\n",
       "    <tr>\n",
       "      <th>145</th>\n",
       "      <td>level_diff_last_issue_d_6 month difference</td>\n",
       "      <td>1.247106</td>\n",
       "    </tr>\n",
       "    <tr>\n",
       "      <th>152</th>\n",
       "      <td>level_diff_next_issue_d_NA month difference</td>\n",
       "      <td>1.243059</td>\n",
       "    </tr>\n",
       "    <tr>\n",
       "      <th>19</th>\n",
       "      <td>last_pymnt_amnt</td>\n",
       "      <td>0.378743</td>\n",
       "    </tr>\n",
       "    <tr>\n",
       "      <th>184</th>\n",
       "      <td>level_since_issue_0 mth</td>\n",
       "      <td>0.136182</td>\n",
       "    </tr>\n",
       "    <tr>\n",
       "      <th>92</th>\n",
       "      <td>home_ownership_MORTGAGE</td>\n",
       "      <td>0.115127</td>\n",
       "    </tr>\n",
       "    <tr>\n",
       "      <th>3</th>\n",
       "      <td>term</td>\n",
       "      <td>0.091355</td>\n",
       "    </tr>\n",
       "    <tr>\n",
       "      <th>32</th>\n",
       "      <td>all_util</td>\n",
       "      <td>0.087239</td>\n",
       "    </tr>\n",
       "  </tbody>\n",
       "</table>\n",
       "</div>"
      ],
      "text/plain": [
       "                                         feature     coeff\n",
       "75                     numeric_diff_last_issue_d  2.975443\n",
       "16                               total_pymnt_inv  2.309197\n",
       "17                               total_rec_prncp  1.381171\n",
       "145   level_diff_last_issue_d_6 month difference  1.247106\n",
       "152  level_diff_next_issue_d_NA month difference  1.243059\n",
       "19                               last_pymnt_amnt  0.378743\n",
       "184                      level_since_issue_0 mth  0.136182\n",
       "92                       home_ownership_MORTGAGE  0.115127\n",
       "3                                           term  0.091355\n",
       "32                                      all_util  0.087239"
      ]
     },
     "execution_count": 197,
     "metadata": {},
     "output_type": "execute_result"
    }
   ],
   "source": [
    "# Positive Direction\n",
    "df_coeffs = pd.DataFrame(list(zip(x.columns, LR_best_clf.coef_.flatten()))).sort_values(by=[1], ascending=False)\n",
    "df_coeffs.columns = ['feature', 'coeff']\n",
    "df_coeffs.head(10)"
   ]
  },
  {
   "cell_type": "code",
   "execution_count": 198,
   "metadata": {},
   "outputs": [
    {
     "data": {
      "text/html": [
       "<div>\n",
       "<style scoped>\n",
       "    .dataframe tbody tr th:only-of-type {\n",
       "        vertical-align: middle;\n",
       "    }\n",
       "\n",
       "    .dataframe tbody tr th {\n",
       "        vertical-align: top;\n",
       "    }\n",
       "\n",
       "    .dataframe thead th {\n",
       "        text-align: right;\n",
       "    }\n",
       "</style>\n",
       "<table border=\"1\" class=\"dataframe\">\n",
       "  <thead>\n",
       "    <tr style=\"text-align: right;\">\n",
       "      <th></th>\n",
       "      <th>feature</th>\n",
       "      <th>coeff</th>\n",
       "    </tr>\n",
       "  </thead>\n",
       "  <tbody>\n",
       "    <tr>\n",
       "      <th>76</th>\n",
       "      <td>numeric_diff_next_issue_d</td>\n",
       "      <td>-4.057470</td>\n",
       "    </tr>\n",
       "    <tr>\n",
       "      <th>4</th>\n",
       "      <td>installment</td>\n",
       "      <td>-2.851466</td>\n",
       "    </tr>\n",
       "    <tr>\n",
       "      <th>143</th>\n",
       "      <td>level_diff_last_issue_d_4 month difference</td>\n",
       "      <td>-1.227569</td>\n",
       "    </tr>\n",
       "    <tr>\n",
       "      <th>77</th>\n",
       "      <td>days_since_issue</td>\n",
       "      <td>-1.074101</td>\n",
       "    </tr>\n",
       "    <tr>\n",
       "      <th>142</th>\n",
       "      <td>level_diff_last_issue_d_3 month difference</td>\n",
       "      <td>-0.748061</td>\n",
       "    </tr>\n",
       "    <tr>\n",
       "      <th>146</th>\n",
       "      <td>level_diff_last_issue_d_NA month difference</td>\n",
       "      <td>-0.534485</td>\n",
       "    </tr>\n",
       "    <tr>\n",
       "      <th>141</th>\n",
       "      <td>level_diff_last_issue_d_2 month difference</td>\n",
       "      <td>-0.353356</td>\n",
       "    </tr>\n",
       "    <tr>\n",
       "      <th>35</th>\n",
       "      <td>total_cu_tl</td>\n",
       "      <td>-0.151214</td>\n",
       "    </tr>\n",
       "    <tr>\n",
       "      <th>7</th>\n",
       "      <td>inq_last_6mths</td>\n",
       "      <td>-0.123234</td>\n",
       "    </tr>\n",
       "    <tr>\n",
       "      <th>59</th>\n",
       "      <td>percent_bc_gt_75</td>\n",
       "      <td>-0.093454</td>\n",
       "    </tr>\n",
       "  </tbody>\n",
       "</table>\n",
       "</div>"
      ],
      "text/plain": [
       "                                         feature     coeff\n",
       "76                     numeric_diff_next_issue_d -4.057470\n",
       "4                                    installment -2.851466\n",
       "143   level_diff_last_issue_d_4 month difference -1.227569\n",
       "77                              days_since_issue -1.074101\n",
       "142   level_diff_last_issue_d_3 month difference -0.748061\n",
       "146  level_diff_last_issue_d_NA month difference -0.534485\n",
       "141   level_diff_last_issue_d_2 month difference -0.353356\n",
       "35                                   total_cu_tl -0.151214\n",
       "7                                 inq_last_6mths -0.123234\n",
       "59                              percent_bc_gt_75 -0.093454"
      ]
     },
     "execution_count": 198,
     "metadata": {},
     "output_type": "execute_result"
    }
   ],
   "source": [
    "# Negative Direction\n",
    "df_coeffs = pd.DataFrame(list(zip(x.columns, LR_best_clf.coef_.flatten()))).sort_values(by=[1], ascending=True)\n",
    "df_coeffs.columns = ['feature', 'coeff']\n",
    "df_coeffs.head(10)"
   ]
  },
  {
   "cell_type": "markdown",
   "metadata": {},
   "source": [
    "### 5.2 Random Forest\n",
    "- Random Forest sklearn documentation: http://scikit-learn.org/stable/modules/generated/sklearn.ensemble.RandomForestClassifier.html"
   ]
  },
  {
   "cell_type": "code",
   "execution_count": 143,
   "metadata": {},
   "outputs": [
    {
     "name": "stdout",
     "output_type": "stream",
     "text": [
      "              train      test\n",
      "metrics                      \n",
      "AUC        0.999413  0.969622\n",
      "Accuracy   0.995504  0.991517\n",
      "Precision  0.996096  0.994417\n",
      "Recall     0.999312  0.996917\n",
      "f1-score   0.997701  0.995665\n"
     ]
    },
    {
     "data": {
      "image/png": "[encoded data removed]",
      "text/plain": [
       "<matplotlib.figure.Figure at 0x11aeefcc0>"
      ]
     },
     "metadata": {},
     "output_type": "display_data"
    },
    {
     "name": "stdout",
     "output_type": "stream",
     "text": [
      "Grid search time : 39.609740018844604\n"
     ]
    }
   ],
   "source": [
    "from sklearn.ensemble import RandomForestClassifier\n",
    "\n",
    "start_time = time.time()\n",
    "RF_clf = RandomForestClassifier(n_estimators = 100, max_depth = 25, min_samples_leaf = 5, random_state = 0)\n",
    "\n",
    "# Dataset I (without 4 response features): test: 0.9696\n",
    "# Dataset II (without 4 response features): test: 0.9568\n",
    "train_test_model(RF_clf, x_train_std, y_train, x_test_std, y_test)\n",
    "print('Grid search time :',time.time() - start_time)"
   ]
  },
  {
   "cell_type": "markdown",
   "metadata": {},
   "source": [
    "#### 5.2.1 Hyper-parameter tuning using GridSearchCV - Random Forest\n",
    "- Pros and cons using GridSearchCV\n",
    "    - Pros: Guarantee to find the best combination of parameters by a specified metric.\n",
    "    - Cons: A time-consuming method.\n",
    "\n",
    "##### Key parameters\n",
    "1. **n_estimators**: **Default is 10.** The number of trees in the forest.\n",
    "2. **max_features**: **Default is 'auto'.** The number of features to consider when looking for the best split\n",
    "3. **max_depth** : **Default is 'None'.** The maximum depth of the tree. If None, then nodes are expanded until all leaves are pure or until all leaves contain less than min_samples_split samples.\n",
    "4. **min_samples_leaf**: **Default is 1.** The minimum number of samples required to be at a leaf node."
   ]
  },
  {
   "cell_type": "code",
   "execution_count": null,
   "metadata": {},
   "outputs": [],
   "source": [
    "# Record the grid searching time\n",
    "start_time = time.time()\n",
    "\n",
    "# Initiate the Random Forest Classifier\n",
    "RF_clf = RandomForestClassifier()\n",
    "\n",
    "# Construct ranges for each parameter\n",
    "param_grid = {'n_estimators': [100,150,200],\n",
    "              'max_features': [None, 'auto',20,50],\n",
    "              'max_depth': [None,15,25],\n",
    "              'min_samples_leaf': [1,5,25,50]\n",
    "             }\n",
    "\n",
    "# Find the optimal combination of parameters such that the highest auc score attained\n",
    "grid_obj = GridSearchCV(RF_clf, param_grid, cv=5, scoring='roc_auc')\n",
    "grid_obj = grid_obj.fit(x_train_std, y_train)\n",
    "\n",
    "print('Grid search time :',time.time() - start_time)"
   ]
  },
  {
   "cell_type": "code",
   "execution_count": null,
   "metadata": {},
   "outputs": [],
   "source": [
    "# Call back the optimal combination of parameters \n",
    "RF_best_clf = grid_obj.best_estimator_\n",
    "RF_best_clf"
   ]
  },
  {
   "cell_type": "code",
   "execution_count": null,
   "metadata": {},
   "outputs": [],
   "source": [
    "# See model performances\n",
    "start_time = time.time()\n",
    "train_test_model(RF_best_clf, x_train_std, y_train, x_test_std, y_test)\n",
    "print('Execution time :',time.time() - start_time)"
   ]
  },
  {
   "cell_type": "markdown",
   "metadata": {},
   "source": [
    "#### 5.2.2 Hyper-parameter tuning using RandomizedSearchCV - Random Forest"
   ]
  },
  {
   "cell_type": "code",
   "execution_count": 146,
   "metadata": {},
   "outputs": [
    {
     "name": "stdout",
     "output_type": "stream",
     "text": [
      "execution time 9891.248589992523\n"
     ]
    }
   ],
   "source": [
    "# Record the randomized grid searching time\n",
    "start_time = time.time()\n",
    "\n",
    "# Initiate the Random Forest Classifier\n",
    "RF_clf = RandomForestClassifier()\n",
    "\n",
    "# Construct ranges for each parameter \n",
    "param_grid = {'n_estimators': [100,150,200],\n",
    "              'max_features': [i for i in range(1, 51)],\n",
    "              'max_depth': [i for i in range(1, 26)],\n",
    "              'min_samples_leaf': [i for i in range(1, 51)]\n",
    "             }\n",
    "\n",
    "# Do the randomized grid searching 30 times \n",
    "# Find the optimal combination of parameters such that the highest auc score attained\n",
    "grid_obj = RandomizedSearchCV(RF_clf, param_distributions=param_grid, cv=5, scoring='roc_auc',\n",
    "                              n_iter = 30)\n",
    "grid_obj.fit(x_train_std, y_train)\n",
    "\n",
    "print('execution time', time.time() - start_time)"
   ]
  },
  {
   "cell_type": "code",
   "execution_count": 150,
   "metadata": {},
   "outputs": [
    {
     "data": {
      "text/plain": [
       "RandomForestClassifier(bootstrap=True, class_weight=None, criterion='gini',\n",
       "            max_depth=25, max_features=27, max_leaf_nodes=None,\n",
       "            min_impurity_decrease=0.0, min_impurity_split=None,\n",
       "            min_samples_leaf=32, min_samples_split=2,\n",
       "            min_weight_fraction_leaf=0.0, n_estimators=200, n_jobs=1,\n",
       "            oob_score=False, random_state=None, verbose=0,\n",
       "            warm_start=False)"
      ]
     },
     "execution_count": 150,
     "metadata": {},
     "output_type": "execute_result"
    }
   ],
   "source": [
    "# Call back the optimal combination of parameters \n",
    "RF_best_clf = grid_obj.best_estimator_\n",
    "RF_best_clf"
   ]
  },
  {
   "cell_type": "code",
   "execution_count": 155,
   "metadata": {},
   "outputs": [
    {
     "name": "stdout",
     "output_type": "stream",
     "text": [
      "              train      test\n",
      "metrics                      \n",
      "AUC        0.971677  0.971369\n",
      "Accuracy   0.993163  0.992444\n",
      "Precision  0.995934  0.995782\n",
      "Recall     0.997069  0.996490\n",
      "f1-score   0.996501  0.996136\n"
     ]
    },
    {
     "data": {
      "image/png": "[encoded data removed]",
      "text/plain": [
       "<matplotlib.figure.Figure at 0x11ac5e9e8>"
      ]
     },
     "metadata": {},
     "output_type": "display_data"
    },
    {
     "name": "stdout",
     "output_type": "stream",
     "text": [
      "Random Forest execution time : 2150.047916173935\n"
     ]
    }
   ],
   "source": [
    "# See model performances\n",
    "start_time = time.time()\n",
    "train_test_model(LR_best_clf, x_train_std, y_train, x_test_std, y_test)\n",
    "print('Random Forest execution time :',time.time() - start_time)"
   ]
  },
  {
   "cell_type": "markdown",
   "metadata": {},
   "source": [
    "#### 5.2.3 Confusion Matrix - Random Forest"
   ]
  },
  {
   "cell_type": "code",
   "execution_count": 211,
   "metadata": {},
   "outputs": [
    {
     "data": {
      "text/plain": [
       "RandomForestClassifier(bootstrap=True, class_weight=None, criterion='gini',\n",
       "            max_depth=25, max_features=27, max_leaf_nodes=None,\n",
       "            min_impurity_decrease=0.0, min_impurity_split=None,\n",
       "            min_samples_leaf=32, min_samples_split=2,\n",
       "            min_weight_fraction_leaf=0.0, n_estimators=200, n_jobs=1,\n",
       "            oob_score=False, random_state=None, verbose=0,\n",
       "            warm_start=False)"
      ]
     },
     "execution_count": 211,
     "metadata": {},
     "output_type": "execute_result"
    }
   ],
   "source": [
    "# Use the best Random Forest model based on the results of hyper-parameter tuning\n",
    "RF_best_clf = RandomForestClassifier(n_estimators = 200, max_features = 27, max_depth = 25, min_samples_leaf = 32)\n",
    "RF_best_clf.fit(x_train_std, y_train)"
   ]
  },
  {
   "cell_type": "code",
   "execution_count": 212,
   "metadata": {},
   "outputs": [
    {
     "data": {
      "text/plain": [
       "(1639, 390, 257, 84005)"
      ]
     },
     "execution_count": 212,
     "metadata": {},
     "output_type": "execute_result"
    }
   ],
   "source": [
    "# Confusion Matrix of train data\n",
    "tn, fp, fn, tp = confusion_matrix(y_train, RF_best_clf.predict(x_train_std)).ravel()\n",
    "tn, fp, fn, tp"
   ]
  },
  {
   "cell_type": "code",
   "execution_count": 213,
   "metadata": {},
   "outputs": [
    {
     "data": {
      "text/plain": [
       "(391, 99, 75, 21008)"
      ]
     },
     "execution_count": 213,
     "metadata": {},
     "output_type": "execute_result"
    }
   ],
   "source": [
    "# Confusion Matrix of test data \n",
    "tn, fp, fn, tp = confusion_matrix(y_test, RF_best_clf.predict(x_test_std)).ravel()\n",
    "tn, fp, fn, tp"
   ]
  },
  {
   "cell_type": "code",
   "execution_count": 214,
   "metadata": {},
   "outputs": [],
   "source": [
    "RF_confusion_matrix = pd.DataFrame({'Predicted_loan_status_0':confusion_matrix(y_test, RF_best_clf.predict(x_test_std))[:,0],\\\n",
    "                                    'Predicted_loan_status_1':confusion_matrix(y_test, RF_best_clf.predict(x_test_std))[:,1]},\\\n",
    "                                   index = ['True_loan_status_0', 'True_loan_status_1'])"
   ]
  },
  {
   "cell_type": "code",
   "execution_count": 215,
   "metadata": {},
   "outputs": [
    {
     "data": {
      "text/html": [
       "<div>\n",
       "<style scoped>\n",
       "    .dataframe tbody tr th:only-of-type {\n",
       "        vertical-align: middle;\n",
       "    }\n",
       "\n",
       "    .dataframe tbody tr th {\n",
       "        vertical-align: top;\n",
       "    }\n",
       "\n",
       "    .dataframe thead th {\n",
       "        text-align: right;\n",
       "    }\n",
       "</style>\n",
       "<table border=\"1\" class=\"dataframe\">\n",
       "  <thead>\n",
       "    <tr style=\"text-align: right;\">\n",
       "      <th></th>\n",
       "      <th>Predicted_loan_status_0</th>\n",
       "      <th>Predicted_loan_status_1</th>\n",
       "    </tr>\n",
       "  </thead>\n",
       "  <tbody>\n",
       "    <tr>\n",
       "      <th>True_loan_status_0</th>\n",
       "      <td>391</td>\n",
       "      <td>99</td>\n",
       "    </tr>\n",
       "    <tr>\n",
       "      <th>True_loan_status_1</th>\n",
       "      <td>75</td>\n",
       "      <td>21008</td>\n",
       "    </tr>\n",
       "  </tbody>\n",
       "</table>\n",
       "</div>"
      ],
      "text/plain": [
       "                    Predicted_loan_status_0  Predicted_loan_status_1\n",
       "True_loan_status_0                      391                       99\n",
       "True_loan_status_1                       75                    21008"
      ]
     },
     "execution_count": 215,
     "metadata": {},
     "output_type": "execute_result"
    }
   ],
   "source": [
    "RF_confusion_matrix"
   ]
  },
  {
   "cell_type": "markdown",
   "metadata": {},
   "source": [
    "#### 5.2.4 Feature importance by Random Forest"
   ]
  },
  {
   "cell_type": "code",
   "execution_count": 216,
   "metadata": {
    "scrolled": true
   },
   "outputs": [
    {
     "data": {
      "text/html": [
       "<div>\n",
       "<style scoped>\n",
       "    .dataframe tbody tr th:only-of-type {\n",
       "        vertical-align: middle;\n",
       "    }\n",
       "\n",
       "    .dataframe tbody tr th {\n",
       "        vertical-align: top;\n",
       "    }\n",
       "\n",
       "    .dataframe thead th {\n",
       "        text-align: right;\n",
       "    }\n",
       "</style>\n",
       "<table border=\"1\" class=\"dataframe\">\n",
       "  <thead>\n",
       "    <tr style=\"text-align: right;\">\n",
       "      <th></th>\n",
       "      <th>feature</th>\n",
       "      <th>importance</th>\n",
       "    </tr>\n",
       "  </thead>\n",
       "  <tbody>\n",
       "    <tr>\n",
       "      <th>116</th>\n",
       "      <td>numeric_diff_last_issue_d</td>\n",
       "      <td>0.153038</td>\n",
       "    </tr>\n",
       "    <tr>\n",
       "      <th>21</th>\n",
       "      <td>total_rec_prncp</td>\n",
       "      <td>0.093726</td>\n",
       "    </tr>\n",
       "    <tr>\n",
       "      <th>19</th>\n",
       "      <td>total_pymnt</td>\n",
       "      <td>0.073886</td>\n",
       "    </tr>\n",
       "    <tr>\n",
       "      <th>17</th>\n",
       "      <td>out_prncp</td>\n",
       "      <td>0.070082</td>\n",
       "    </tr>\n",
       "    <tr>\n",
       "      <th>20</th>\n",
       "      <td>total_pymnt_inv</td>\n",
       "      <td>0.068965</td>\n",
       "    </tr>\n",
       "    <tr>\n",
       "      <th>18</th>\n",
       "      <td>out_prncp_inv</td>\n",
       "      <td>0.064048</td>\n",
       "    </tr>\n",
       "    <tr>\n",
       "      <th>194</th>\n",
       "      <td>level_diff_next_issue_d_NA month difference</td>\n",
       "      <td>0.061630</td>\n",
       "    </tr>\n",
       "    <tr>\n",
       "      <th>26</th>\n",
       "      <td>last_pymnt_amnt</td>\n",
       "      <td>0.056174</td>\n",
       "    </tr>\n",
       "    <tr>\n",
       "      <th>184</th>\n",
       "      <td>level_diff_last_issue_d_3 month difference</td>\n",
       "      <td>0.044060</td>\n",
       "    </tr>\n",
       "    <tr>\n",
       "      <th>192</th>\n",
       "      <td>level_diff_next_issue_d_7 month difference</td>\n",
       "      <td>0.031028</td>\n",
       "    </tr>\n",
       "  </tbody>\n",
       "</table>\n",
       "</div>"
      ],
      "text/plain": [
       "                                         feature  importance\n",
       "116                    numeric_diff_last_issue_d    0.153038\n",
       "21                               total_rec_prncp    0.093726\n",
       "19                                   total_pymnt    0.073886\n",
       "17                                     out_prncp    0.070082\n",
       "20                               total_pymnt_inv    0.068965\n",
       "18                                 out_prncp_inv    0.064048\n",
       "194  level_diff_next_issue_d_NA month difference    0.061630\n",
       "26                               last_pymnt_amnt    0.056174\n",
       "184   level_diff_last_issue_d_3 month difference    0.044060\n",
       "192   level_diff_next_issue_d_7 month difference    0.031028"
      ]
     },
     "execution_count": 216,
     "metadata": {},
     "output_type": "execute_result"
    }
   ],
   "source": [
    "df_coeffs = pd.DataFrame(list(zip(x.columns, RF_best_clf.feature_importances_.flatten()))).sort_values(by=[1], ascending=False)\n",
    "df_coeffs.columns = ['feature', 'importance']\n",
    "df_coeffs.head(10)"
   ]
  },
  {
   "cell_type": "markdown",
   "metadata": {},
   "source": [
    "### 5.3 Gradient Boosting Decision Tree\n",
    "- GBDT sklearn documentation: http://scikit-learn.org/stable/modules/generated/sklearn.ensemble.GradientBoostingClassifier.html"
   ]
  },
  {
   "cell_type": "code",
   "execution_count": 164,
   "metadata": {},
   "outputs": [
    {
     "name": "stdout",
     "output_type": "stream",
     "text": [
      "              train      test\n",
      "metrics                      \n",
      "AUC        0.988129  0.967159\n",
      "Accuracy   0.996153  0.991517\n",
      "Precision  0.998385  0.996154\n",
      "Recall     0.997674  0.995162\n",
      "f1-score   0.998029  0.995658\n"
     ]
    },
    {
     "data": {
      "image/png": "[encoded data removed]",
      "text/plain": [
       "<matplotlib.figure.Figure at 0x109bfee48>"
      ]
     },
     "metadata": {},
     "output_type": "display_data"
    }
   ],
   "source": [
    "from sklearn.ensemble import GradientBoostingClassifier\n",
    "\n",
    "# Use a good start of parameter combination\n",
    "parameters = {\n",
    "    'n_estimators': 100,\n",
    "    'max_depth': 5,\n",
    "    'learning_rate': 0.1,\n",
    "    'subsample': 0.7,\n",
    "    'max_features':0.8,\n",
    "    'random_state': 0\n",
    "}\n",
    "\n",
    "clf = GradientBoostingClassifier(**parameters)\n",
    "\n",
    "# Train and test model\n",
    "# Dataset I (without 4 response features): test: \n",
    "# Dataset II (without 4 response features): test: 0.9671\n",
    "train_test_model(clf, x_train, y_train, x_test, y_test)"
   ]
  },
  {
   "cell_type": "markdown",
   "metadata": {},
   "source": [
    "#### 5.3.1 Hyper-parameter tuning using GridSearchCV - GBDT\n",
    "- Pros and cons using GridSearchCV\n",
    "    - Pros: Guarantee to find the best combination of parameters by a specified metric.\n",
    "    - Cons: A time-consuming method.\n",
    "\n",
    "##### Key parameters\n",
    "1. **n_estimators**: **Default is 100.** The number of boosting stages to perform. Gradient boosting is fairly robust to over-fitting so a large number usually results in better performance.\n",
    "2. **max_depth**: **Default is 3.** Maximum depth of the individual regression estimators. The maximum depth limits the number of nodes in the tree. Tune this parameter for best performance; the best value depends on the interaction of the input variables.\n",
    "3. **learning_rate**: **Default is 0.1.** Learning rate shrinks the contribution of each tree by learning_rate. There is a trade-off between learning_rate and n_estimators.\n",
    "4. **subsample**: **Default is 1.0.** The fraction of samples to be used for fitting the individual base learners. If smaller than 1.0 this results in Stochastic Gradient Boosting. subsample interacts with the parameter n_estimators. Choosing subsample < 1.0 leads to a reduction of variance and an increase in bias.\n",
    "5. **max_features**: **Default is None. (max_features=n_features)** The number of features to consider when looking for the best split. Choosing max_features < n_features leads to a reduction of variance and an increase in bias."
   ]
  },
  {
   "cell_type": "markdown",
   "metadata": {},
   "source": [
    "#### 5.3.2 Hyper-parameter tuning using RandomizedSearchCV - GBDT"
   ]
  },
  {
   "cell_type": "code",
   "execution_count": 181,
   "metadata": {},
   "outputs": [
    {
     "name": "stdout",
     "output_type": "stream",
     "text": [
      "execution time 32264.977268218994\n"
     ]
    }
   ],
   "source": [
    "# Record the randomized grid searching time\n",
    "start_time = time.time()\n",
    "\n",
    "# Initiate the GBDT Classifier\n",
    "GBDT_clf = GradientBoostingClassifier()\n",
    "\n",
    "# Construct ranges for each parameter \n",
    "param_grid = {'n_estimators': [100,150,200],\n",
    "              'max_depth': [3,4,5,6],\n",
    "              'learning_rate': [i * 0.01 for i in range(1, 101)],\n",
    "              'subsample': [0.8,0.9],\n",
    "              'max_features': [0.8,0.9]\n",
    "             }\n",
    "\n",
    "# Do the randomized grid searching 30 times \n",
    "# Find the optimal combination of parameters such that the highest auc score attained\n",
    "grid_obj = RandomizedSearchCV(GBDT_clf, param_distributions=param_grid, cv=5, scoring='roc_auc',\n",
    "                              n_iter = 30)\n",
    "grid_obj.fit(x_train_std, y_train)\n",
    "\n",
    "print('execution time', time.time() - start_time)"
   ]
  },
  {
   "cell_type": "code",
   "execution_count": 182,
   "metadata": {},
   "outputs": [
    {
     "data": {
      "text/plain": [
       "GradientBoostingClassifier(criterion='friedman_mse', init=None,\n",
       "              learning_rate=0.11, loss='deviance', max_depth=3,\n",
       "              max_features=0.9, max_leaf_nodes=None,\n",
       "              min_impurity_decrease=0.0, min_impurity_split=None,\n",
       "              min_samples_leaf=1, min_samples_split=2,\n",
       "              min_weight_fraction_leaf=0.0, n_estimators=150,\n",
       "              presort='auto', random_state=None, subsample=0.9, verbose=0,\n",
       "              warm_start=False)"
      ]
     },
     "execution_count": 182,
     "metadata": {},
     "output_type": "execute_result"
    }
   ],
   "source": [
    "# Call back the optimal combination of parameters \n",
    "GBDT_best_clf = grid_obj.best_estimator_\n",
    "GBDT_best_clf"
   ]
  },
  {
   "cell_type": "code",
   "execution_count": 183,
   "metadata": {},
   "outputs": [
    {
     "name": "stdout",
     "output_type": "stream",
     "text": [
      "              train      test\n",
      "metrics                      \n",
      "AUC        0.984884  0.973561\n",
      "Accuracy   0.994472  0.991378\n",
      "Precision  0.997506  0.996295\n",
      "Recall     0.996831  0.994877\n",
      "f1-score   0.997169  0.995586\n"
     ]
    },
    {
     "data": {
      "image/png": "[encoded data removed]",
      "text/plain": [
       "<matplotlib.figure.Figure at 0x10a5ae748>"
      ]
     },
     "metadata": {},
     "output_type": "display_data"
    },
    {
     "name": "stdout",
     "output_type": "stream",
     "text": [
      "GBDT execution time : 102.83461093902588\n"
     ]
    }
   ],
   "source": [
    "# See model performances\n",
    "start_time = time.time()\n",
    "train_test_model(GBDT_best_clf, x_train_std, y_train, x_test_std, y_test)\n",
    "print('GBDT execution time :',time.time() - start_time)"
   ]
  },
  {
   "cell_type": "markdown",
   "metadata": {},
   "source": [
    "#### 5.3.3 Confusion Matrix - GBDT"
   ]
  },
  {
   "cell_type": "code",
   "execution_count": 184,
   "metadata": {},
   "outputs": [
    {
     "data": {
      "text/plain": [
       "GradientBoostingClassifier(criterion='friedman_mse', init=None,\n",
       "              learning_rate=0.11, loss='deviance', max_depth=3,\n",
       "              max_features=0.9, max_leaf_nodes=None,\n",
       "              min_impurity_decrease=0.0, min_impurity_split=None,\n",
       "              min_samples_leaf=1, min_samples_split=2,\n",
       "              min_weight_fraction_leaf=0.0, n_estimators=150,\n",
       "              presort='auto', random_state=None, subsample=0.9, verbose=0,\n",
       "              warm_start=False)"
      ]
     },
     "execution_count": 184,
     "metadata": {},
     "output_type": "execute_result"
    }
   ],
   "source": [
    "# Use the best GBDT model based on the results of hyper-parameter tuning\n",
    "GBDT_best_clf = GradientBoostingClassifier(n_estimators = 150, max_depth = 3, learning_rate = 0.11,\\\n",
    "                                           subsample = 0.9, max_features = 0.9)\n",
    "GBDT_best_clf.fit(x_train_std, y_train)"
   ]
  },
  {
   "cell_type": "code",
   "execution_count": 185,
   "metadata": {},
   "outputs": [
    {
     "data": {
      "text/plain": [
       "(1813, 216, 252, 84010)"
      ]
     },
     "execution_count": 185,
     "metadata": {},
     "output_type": "execute_result"
    }
   ],
   "source": [
    "# Confusion Matrix of train data\n",
    "tn, fp, fn, tp = confusion_matrix(y_train, GBDT_best_clf.predict(x_train_std)).ravel()\n",
    "tn, fp, fn, tp"
   ]
  },
  {
   "cell_type": "code",
   "execution_count": 186,
   "metadata": {},
   "outputs": [
    {
     "data": {
      "text/plain": [
       "(410, 80, 88, 20995)"
      ]
     },
     "execution_count": 186,
     "metadata": {},
     "output_type": "execute_result"
    }
   ],
   "source": [
    "# Confusion Matrix of test data \n",
    "tn, fp, fn, tp = confusion_matrix(y_test, GBDT_best_clf.predict(x_test_std)).ravel()\n",
    "tn, fp, fn, tp"
   ]
  },
  {
   "cell_type": "code",
   "execution_count": 187,
   "metadata": {},
   "outputs": [],
   "source": [
    "GBDT_confusion_matrix = pd.DataFrame({'Predicted_loan_status_0':confusion_matrix(y_test, GBDT_best_clf.predict(x_test_std))[:,0],\\\n",
    "                                    'Predicted_loan_status_1':confusion_matrix(y_test, GBDT_best_clf.predict(x_test_std))[:,1]},\\\n",
    "                                   index = ['True_loan_status_0', 'True_loan_status_1'])"
   ]
  },
  {
   "cell_type": "code",
   "execution_count": 188,
   "metadata": {},
   "outputs": [
    {
     "data": {
      "text/html": [
       "<div>\n",
       "<style scoped>\n",
       "    .dataframe tbody tr th:only-of-type {\n",
       "        vertical-align: middle;\n",
       "    }\n",
       "\n",
       "    .dataframe tbody tr th {\n",
       "        vertical-align: top;\n",
       "    }\n",
       "\n",
       "    .dataframe thead th {\n",
       "        text-align: right;\n",
       "    }\n",
       "</style>\n",
       "<table border=\"1\" class=\"dataframe\">\n",
       "  <thead>\n",
       "    <tr style=\"text-align: right;\">\n",
       "      <th></th>\n",
       "      <th>Predicted_loan_status_0</th>\n",
       "      <th>Predicted_loan_status_1</th>\n",
       "    </tr>\n",
       "  </thead>\n",
       "  <tbody>\n",
       "    <tr>\n",
       "      <th>True_loan_status_0</th>\n",
       "      <td>410</td>\n",
       "      <td>80</td>\n",
       "    </tr>\n",
       "    <tr>\n",
       "      <th>True_loan_status_1</th>\n",
       "      <td>88</td>\n",
       "      <td>20995</td>\n",
       "    </tr>\n",
       "  </tbody>\n",
       "</table>\n",
       "</div>"
      ],
      "text/plain": [
       "                    Predicted_loan_status_0  Predicted_loan_status_1\n",
       "True_loan_status_0                      410                       80\n",
       "True_loan_status_1                       88                    20995"
      ]
     },
     "execution_count": 188,
     "metadata": {},
     "output_type": "execute_result"
    }
   ],
   "source": [
    "GBDT_confusion_matrix"
   ]
  },
  {
   "cell_type": "markdown",
   "metadata": {},
   "source": [
    "## 6. Summary \n",
    "- 6.1. Feature conclusions\n",
    "- 6.2. Model Deployment\n",
    "\n",
    "### 6.1. Feature conclusions\n",
    "**Features' coefficients estimated by Logistic Regression:**\n",
    "- Positive Direction: As long as the difference between issue and last payment day, payment received to date for portion of total amount funded by investors, and principal received to date become larger, the higher probability that a loan applicant might not be default.\n",
    "\n",
    "<img height=\"200\" width=\"300\" src=\"1st_LR_Positive.png\"> \n",
    "- Negative Direction: Once the difference between issue and next payment day, the monthly payment owed by the borrower if the loan originates, and levels of day difference between issue and last payment day become smaller, the higher probability that a loan applicant might not be default.\n",
    "\n",
    "<img height=\"200\" width=\"300\" src=\"1st_LR_Negative.png\"> \n",
    "\n",
    "**Features' importances by Random Forest:**\n",
    "- Six of the feature importances provided by Random Forest are overlapped with the results of feature importance by Logistic Regression. These top 10 features have a better prediction power compared with the rest of the features in Random Forest model.\n",
    "\n",
    "<img height=\"200\" width=\"300\" src=\"1st_RF.png\">\n",
    "\n",
    "### 6.2.Model Deployment (Metric evaulations):\n",
    "For the Lending Club, it can decide a model deployment by a predefined objective. It might care a lot on predicting the correct \"Default\" applications, so a higher precision score becomes extremely important.\n",
    "\n",
    "| Model | AUC (Area Under Curve) | Accuracy (Number of correctly predicted labels / Total number of labels) | Precision (TP / TP + FP) |\n",
    "| ---  | --- | --- | --- |\n",
    "| Logistic Regression (Datset II)| 0.9561 | 0.9923 | 0.7979 |\n",
    "| Random Forest (Datset I)| 0.9713 | **0.9924** | 0.7755 |\n",
    "| GBDT (Datset I)| **0.9735** | 0.9913 | **0.8367** |"
   ]
  },
  {
   "cell_type": "code",
   "execution_count": 285,
   "metadata": {},
   "outputs": [
    {
     "data": {
      "text/plain": [
       "array(['Current', 'Fully Paid', 'Late (31-120 days)', 'Charged Off',\n",
       "       'Late (16-30 days)', 'In Grace Period'], dtype=object)"
      ]
     },
     "execution_count": 285,
     "metadata": {},
     "output_type": "execute_result"
    }
   ],
   "source": [
    "loan.loan_status.unique()"
   ]
  },
  {
   "cell_type": "markdown",
   "metadata": {},
   "source": [
    "# Goal: Predict 2st response feature, loan_status\n",
    "## Main Task\n",
    "1. Prepare the dataset \n",
    "2. Categorical Feature Transformation\n",
    "    - 2.1 One-hot encoding\n",
    "    - 2.2 Dummy features\n",
    "3. Data preprocessing\n",
    "    - 3.1 Split data into train and test sets\n",
    "    - 3.2 Standarize data\n",
    "4. Modeling\n",
    "    - 4.1 Logistic Regression\n",
    "        - 4.1.1 RandomizedSearchCV\n",
    "        - 4.1.2 Confusion Matrix - Logistic Regression\n",
    "        - 4.1.3 Features' coefficients by Logistic Regression\n",
    "    - 4.2 Random Forest \n",
    "        - 4.2.1 RandomizedSearchCV - Random Forest\n",
    "        - 4.2.2 Confusion Matrix - Random Forest\n",
    "        - 4.2.3 Feature importance by Random Forest\n",
    "    - 4.3 Gradient Boosting Decision Tree\n",
    "        - 4.3.1 RandomizedSearchCV - GBDT\n",
    "        - 4.3.2 Confusion Matrix - GBDT       "
   ]
  },
  {
   "cell_type": "markdown",
   "metadata": {},
   "source": [
    "## 1. Prepare the dataset"
   ]
  },
  {
   "cell_type": "code",
   "execution_count": 3,
   "metadata": {},
   "outputs": [
    {
     "data": {
      "text/plain": [
       "(107864, 135)"
      ]
     },
     "execution_count": 3,
     "metadata": {},
     "output_type": "execute_result"
    }
   ],
   "source": [
    "# Should exclude other response features before modeling\n",
    "no_other_response_loan = loan.drop(['loan_status','loan_status_binary', 'grade', 'sub_grade', 'int_rate'], axis = 1)\n",
    "no_other_response_loan.shape"
   ]
  },
  {
   "cell_type": "code",
   "execution_count": 4,
   "metadata": {},
   "outputs": [],
   "source": [
    "useful_features = ['emp_length', 'home_ownership', 'annual_inc',\n",
    "                  'dti', \n",
    "                  'inq_fi', 'inq_last_12m', 'inq_last_6mths', 'mths_since_recent_inq',\n",
    "                  'total_acc', 'avg_cur_bal', 'tot_cur_bal', 'mo_sin_rcnt_tl',\n",
    "                   'mort_acc', 'bc_util', 'all_util', 'open_acc', 'open_acc_6m', \n",
    "                   'acc_open_past_24mths', 'total_cu_tl' , 'mths_since_recent_bc',\n",
    "                   'mths_since_recent_bc_dlq', 'num_accts_ever_120_pd', 'num_actv_bc_tl',\n",
    "                   'num_bc_sats','num_bc_tl','num_sats', 'num_tl_30dpd',\n",
    "                   'num_tl_90g_dpd_24m', 'num_tl_op_past_12m', 'percent_bc_gt_75', \n",
    "                   'tax_liens', 'tot_hi_cred_lim' , 'total_bal_ex_mort', 'total_bc_limit',\n",
    "                   'acc_now_delinq', 'delinq_2yrs', 'delinq_amnt','pct_tl_nvr_dlq',\n",
    "                   'mths_since_last_delinq', 'collections_12_mths_ex_med', 'tot_coll_amt',\n",
    "                   'pub_rec_bankruptcies', 'pub_rec', 'mths_since_last_major_derog',\n",
    "                   'mths_since_last_record', 'open_act_il','num_il_tl','il_util',\n",
    "                   'mo_sin_old_il_acct', 'mths_since_rcnt_il', 'open_il_12m', 'open_il_24m',\n",
    "                   'total_bal_il', 'total_il_high_credit_limit', 'mo_sin_old_rev_tl_op',\n",
    "                   'mo_sin_rcnt_rev_tl_op', 'bc_open_to_buy','max_bal_bc',\n",
    "                   'open_rv_12m', 'open_rv_24m', 'revol_bal','revol_util',\n",
    "                   'num_actv_rev_tl','num_op_rev_tl', 'num_rev_accts','num_rev_tl_bal_gt_0',\n",
    "                   'total_rev_hi_lim', 'mths_since_recent_revol_delinq',\n",
    "                  'loan_amnt', 'application_type', 'purpose', 'term', 'title',\n",
    "                   'initial_list_status', 'disbursement_method', 'chargeoff_within_12_mths',\n",
    "                   'funded_amnt', 'funded_amnt_inv', 'days_between_max_issue_earliest_cr_line',\n",
    "                  'level_between_max_issue_earliest_cr_line', 'days_since_last_credit_pull',\n",
    "                  'level_since_last_credit_pull', 'T_unique_title', 'days_between_max_issue_sec_earliest_cr_line',\n",
    "                  'level_between_max_issue_sec_earliest_cr_line', 'group_state']\n",
    "no_other_response_loan = loan[useful_features]\n",
    "y = loan.loan_status.values"
   ]
  },
  {
   "cell_type": "code",
   "execution_count": 5,
   "metadata": {},
   "outputs": [
    {
     "data": {
      "text/plain": [
       "array([1, 1, 1, ..., 1, 1, 2])"
      ]
     },
     "execution_count": 5,
     "metadata": {},
     "output_type": "execute_result"
    }
   ],
   "source": [
    "# One-hot encoding on y (grade)\n",
    "le = LabelEncoder()\n",
    "le_count = 0\n",
    "\n",
    "le.fit(y)\n",
    "y = le.transform(y)\n",
    "y"
   ]
  },
  {
   "cell_type": "code",
   "execution_count": 6,
   "metadata": {
    "scrolled": true
   },
   "outputs": [
    {
     "data": {
      "text/plain": [
       "{'Charged Off'}"
      ]
     },
     "execution_count": 6,
     "metadata": {},
     "output_type": "execute_result"
    }
   ],
   "source": [
    "# 0: Charged off\n",
    "# 1: Current\n",
    "# 2: Fully Paid\n",
    "# 3: In Grace Period\n",
    "# 4: Late (16-30 days)\n",
    "# 5: 'Late (31-120 days)'\n",
    "set(loan.loan_status.values[y == 0])"
   ]
  },
  {
   "cell_type": "markdown",
   "metadata": {},
   "source": [
    "## 2. Categorical Feature Transformation\n",
    "- 2.1 One-hot encoding\n",
    "- 2.2 Dummy features"
   ]
  },
  {
   "cell_type": "markdown",
   "metadata": {},
   "source": [
    "### 2.1 One-hot encoding"
   ]
  },
  {
   "cell_type": "code",
   "execution_count": 7,
   "metadata": {},
   "outputs": [
    {
     "name": "stdout",
     "output_type": "stream",
     "text": [
      "emp_length 0\n",
      "home_ownership 0\n",
      "application_type 0\n",
      "purpose 0\n",
      "term 0\n",
      "title 0\n",
      "initial_list_status 0\n",
      "disbursement_method 0\n",
      "level_between_max_issue_earliest_cr_line 0\n",
      "level_since_last_credit_pull 0\n",
      "T_unique_title 0\n",
      "level_between_max_issue_sec_earliest_cr_line 0\n",
      "group_state 0\n"
     ]
    }
   ],
   "source": [
    "# Collect column names \n",
    "one_hot_column = []\n",
    "dummy_column = []\n",
    "\n",
    "for each in no_other_response_loan:\n",
    "    if no_other_response_loan[each].dtype == 'object':\n",
    "        # Check NA values again for each categorical type of feature\n",
    "        print(each, no_other_response_loan[each].isnull().sum())\n",
    "        \n",
    "        # Levels less than two: one-hot encoding\n",
    "        if len(no_other_response_loan[each].unique()) <= 2:\n",
    "            one_hot_column.append(each)\n",
    "            \n",
    "        # Levels more than two: dummy columns\n",
    "        elif len(no_other_response_loan[each].unique()) > 2:\n",
    "            dummy_column.append(each)"
   ]
  },
  {
   "cell_type": "code",
   "execution_count": 8,
   "metadata": {},
   "outputs": [
    {
     "name": "stdout",
     "output_type": "stream",
     "text": [
      "application_type\n",
      "term\n",
      "initial_list_status\n"
     ]
    },
    {
     "name": "stderr",
     "output_type": "stream",
     "text": [
      "/Users/wuchenhong/anaconda3/lib/python3.6/site-packages/ipykernel_launcher.py:8: SettingWithCopyWarning: \n",
      "A value is trying to be set on a copy of a slice from a DataFrame.\n",
      "Try using .loc[row_indexer,col_indexer] = value instead\n",
      "\n",
      "See the caveats in the documentation: http://pandas.pydata.org/pandas-docs/stable/indexing.html#indexing-view-versus-copy\n",
      "  \n"
     ]
    },
    {
     "name": "stdout",
     "output_type": "stream",
     "text": [
      "disbursement_method\n",
      "4 columns were label encoded.\n"
     ]
    }
   ],
   "source": [
    "# One-hot encoding for categorical features containing two levels\n",
    "le = LabelEncoder()\n",
    "le_count = 0\n",
    "\n",
    "for col in one_hot_column:\n",
    "    print(col)\n",
    "    le.fit(no_other_response_loan[col])\n",
    "    no_other_response_loan[col] = le.transform(no_other_response_loan[col])\n",
    "            \n",
    "    # Keep track of how many columns were label encoded\n",
    "    le_count += 1\n",
    "            \n",
    "print('%d columns were label encoded.' % le_count)"
   ]
  },
  {
   "cell_type": "markdown",
   "metadata": {},
   "source": [
    "### 2.2 Dummy features"
   ]
  },
  {
   "cell_type": "code",
   "execution_count": 9,
   "metadata": {},
   "outputs": [
    {
     "name": "stdout",
     "output_type": "stream",
     "text": [
      "emp_length 12\n",
      "home_ownership 4\n",
      "purpose 13\n",
      "title 12\n",
      "level_between_max_issue_earliest_cr_line 10\n",
      "level_since_last_credit_pull 10\n",
      "T_unique_title 21\n",
      "level_between_max_issue_sec_earliest_cr_line 11\n",
      "group_state 5\n",
      "In total: 89 will be additionally added.\n"
     ]
    }
   ],
   "source": [
    "# Create dummy features\n",
    "sum_len = 0\n",
    "for col in dummy_column:\n",
    "    sum_len += len(no_other_response_loan[col].unique())\n",
    "    print(col, len(no_other_response_loan[col].unique()))\n",
    "    \n",
    "print('In total:', sum_len - len(dummy_column), 'will be additionally added.')"
   ]
  },
  {
   "cell_type": "markdown",
   "metadata": {},
   "source": [
    "## 3. Data preprocessing"
   ]
  },
  {
   "cell_type": "markdown",
   "metadata": {},
   "source": [
    "### 3.1 Split data into train and test sets"
   ]
  },
  {
   "cell_type": "code",
   "execution_count": 10,
   "metadata": {},
   "outputs": [
    {
     "name": "stdout",
     "output_type": "stream",
     "text": [
      "(107864, 86)\n",
      "(107864,)\n"
     ]
    }
   ],
   "source": [
    "# Seperate features into x (independent features) and y (dependent feature)\n",
    "print(no_other_response_loan.shape)\n",
    "print(y.shape)"
   ]
  },
  {
   "cell_type": "code",
   "execution_count": 11,
   "metadata": {},
   "outputs": [
    {
     "name": "stdout",
     "output_type": "stream",
     "text": [
      "(107864, 175)\n"
     ]
    }
   ],
   "source": [
    "# 135 + 109 = 244, correct dummy feature transformation!\n",
    "x = pd.get_dummies(no_other_response_loan, columns = dummy_column)\n",
    "print(x.shape)"
   ]
  },
  {
   "cell_type": "code",
   "execution_count": 12,
   "metadata": {},
   "outputs": [],
   "source": [
    "# Split data into train and test (80% & 20%)\n",
    "x_train, x_test, y_train, y_test = train_test_split(x, y, \n",
    "                                                    test_size = 0.2, random_state = 1)"
   ]
  },
  {
   "cell_type": "markdown",
   "metadata": {},
   "source": [
    "### 3.2 Standarize data"
   ]
  },
  {
   "cell_type": "code",
   "execution_count": 13,
   "metadata": {},
   "outputs": [
    {
     "name": "stderr",
     "output_type": "stream",
     "text": [
      "/Users/wuchenhong/anaconda3/lib/python3.6/site-packages/sklearn/preprocessing/data.py:617: DataConversionWarning: Data with input dtype uint8, int64, float64 were all converted to float64 by StandardScaler.\n",
      "  return self.partial_fit(X, y)\n",
      "/Users/wuchenhong/anaconda3/lib/python3.6/site-packages/sklearn/base.py:462: DataConversionWarning: Data with input dtype uint8, int64, float64 were all converted to float64 by StandardScaler.\n",
      "  return self.fit(X, **fit_params).transform(X)\n",
      "/Users/wuchenhong/anaconda3/lib/python3.6/site-packages/ipykernel_launcher.py:7: DataConversionWarning: Data with input dtype uint8, int64, float64 were all converted to float64 by StandardScaler.\n",
      "  import sys\n"
     ]
    }
   ],
   "source": [
    "# Before modeling, standardize each feature\n",
    "from sklearn.preprocessing import StandardScaler\n",
    "\n",
    "scaler = StandardScaler()\n",
    "\n",
    "x_train_std = scaler.fit_transform(x_train)\n",
    "x_test_std = scaler.transform(x_test)"
   ]
  },
  {
   "cell_type": "code",
   "execution_count": 14,
   "metadata": {},
   "outputs": [
    {
     "name": "stdout",
     "output_type": "stream",
     "text": [
      "(86291, 175)\n",
      "(21573, 175)\n",
      "86291\n",
      "21573\n"
     ]
    }
   ],
   "source": [
    "print(x_train_std.shape)\n",
    "print(x_test_std.shape)\n",
    "print(len(y_train))\n",
    "print(len(y_test))"
   ]
  },
  {
   "cell_type": "markdown",
   "metadata": {},
   "source": [
    "## 4. Modeling\n",
    "- 4.1 Logistic Regression\n",
    "    - 4.1.1 RandomizedSearchCV\n",
    "    - 4.1.2 Confusion Matrix - Logistic Regression\n",
    "    - 4.1.3 Features' coefficients by Logistic Regression\n",
    "- 4.2 Random Forest \n",
    "    - 4.2.1 RandomizedSearchCV - Random Forest\n",
    "    - 4.2.2 Confusion Matrix - Random Forest\n",
    "    - 4.2.3 Feature importance by Random Forest\n",
    "- 4.3 Gradient Boosting Decision Tree\n",
    "    - 4.3.1 RandomizedSearchCV - GBDT\n",
    "    - 4.3.2 Confusion Matrix - GBDT"
   ]
  },
  {
   "cell_type": "markdown",
   "metadata": {},
   "source": [
    "### 4.1 Logistic Regression"
   ]
  },
  {
   "cell_type": "code",
   "execution_count": 15,
   "metadata": {},
   "outputs": [],
   "source": [
    "# Define a function to compute accuracy scores for train and test datasets,\n",
    "# and produce a confusion matrix on the test dataset\n",
    "from sklearn.metrics import accuracy_score, precision_score, recall_score, f1_score\n",
    "\n",
    "def multi_class_performance(clf, X_train, y_train, X_test, y_test):\n",
    "    # Modeling fitting by the train dataset\n",
    "    clf.fit(X_train, y_train)\n",
    "    \n",
    "    # Compute accuracy scores for train and test datasets\n",
    "    accuracy_train = accuracy_score(y_train, clf.predict(X_train))\n",
    "    accuracy_test = accuracy_score(y_test, clf.predict(X_test))\n",
    "    \n",
    "    # Produce a multi-classification confusion matrix\n",
    "    LR_multi_confusion_matrix = pd.DataFrame({'Charged Off':confusion_matrix(y_test, clf.predict(X_test))[0,:],\\\n",
    "                                          'Current':confusion_matrix(y_test, clf.predict(X_test))[1,:],\\\n",
    "                                          'Fully Paid':confusion_matrix(y_test, clf.predict(X_test))[2,:],\\\n",
    "                                          'In Grace Period':confusion_matrix(y_test, clf.predict(X_test))[3,:],\\\n",
    "                                          'Late (16-30 days)':confusion_matrix(y_test, clf.predict(X_test))[4,:],\\\n",
    "                                          'Late (31-120 days)':confusion_matrix(y_test, clf.predict(X_test))[5,:]\n",
    "                                             },index = ['Predicted Charged Off', 'Predicted Current', 'Predicted Fully Paid',\n",
    "                                                   'Predicted In Grace Period', 'Predicted Late (16-30 days)', 'Late (31-120 days)'\n",
    "                                                       ])    \n",
    "    # Final outputs\n",
    "    return accuracy_train, accuracy_test, LR_multi_confusion_matrix"
   ]
  },
  {
   "cell_type": "code",
   "execution_count": null,
   "metadata": {},
   "outputs": [],
   "source": [
    "# It's a multiclassification problem\n",
    "# Need to change two parameters: multi_class & solver\n",
    "from sklearn.linear_model import LogisticRegression\n",
    "LR_multi_clf = LogisticRegression(C=1.0, penalty='l2', multi_class='multinomial', solver='newton-cg')"
   ]
  },
  {
   "cell_type": "code",
   "execution_count": 135,
   "metadata": {},
   "outputs": [
    {
     "data": {
      "text/plain": [
       "(0.9905668030269669, 0.9877161266397813)"
      ]
     },
     "execution_count": 135,
     "metadata": {},
     "output_type": "execute_result"
    }
   ],
   "source": [
    "# Dataset I: (0.9905668030269669, 0.9877161266397813)\n",
    "# Dataset II: \n",
    "multi_class_performance(LR_multi_clf, x_train_std, y_train, x_test_std, y_test)[0:2]"
   ]
  },
  {
   "cell_type": "code",
   "execution_count": 136,
   "metadata": {},
   "outputs": [
    {
     "data": {
      "text/html": [
       "<div>\n",
       "<style scoped>\n",
       "    .dataframe tbody tr th:only-of-type {\n",
       "        vertical-align: middle;\n",
       "    }\n",
       "\n",
       "    .dataframe tbody tr th {\n",
       "        vertical-align: top;\n",
       "    }\n",
       "\n",
       "    .dataframe thead th {\n",
       "        text-align: right;\n",
       "    }\n",
       "</style>\n",
       "<table border=\"1\" class=\"dataframe\">\n",
       "  <thead>\n",
       "    <tr style=\"text-align: right;\">\n",
       "      <th></th>\n",
       "      <th>Charged Off</th>\n",
       "      <th>Current</th>\n",
       "      <th>Fully Paid</th>\n",
       "      <th>In Grace Period</th>\n",
       "      <th>Late (16-30 days)</th>\n",
       "      <th>Late (31-120 days)</th>\n",
       "    </tr>\n",
       "  </thead>\n",
       "  <tbody>\n",
       "    <tr>\n",
       "      <th>Predicted Charged Off</th>\n",
       "      <td>38</td>\n",
       "      <td>0</td>\n",
       "      <td>2</td>\n",
       "      <td>0</td>\n",
       "      <td>0</td>\n",
       "      <td>0</td>\n",
       "    </tr>\n",
       "    <tr>\n",
       "      <th>Predicted Current</th>\n",
       "      <td>0</td>\n",
       "      <td>19758</td>\n",
       "      <td>0</td>\n",
       "      <td>70</td>\n",
       "      <td>29</td>\n",
       "      <td>11</td>\n",
       "    </tr>\n",
       "    <tr>\n",
       "      <th>Predicted Fully Paid</th>\n",
       "      <td>4</td>\n",
       "      <td>0</td>\n",
       "      <td>1265</td>\n",
       "      <td>0</td>\n",
       "      <td>0</td>\n",
       "      <td>0</td>\n",
       "    </tr>\n",
       "    <tr>\n",
       "      <th>Predicted In Grace Period</th>\n",
       "      <td>0</td>\n",
       "      <td>30</td>\n",
       "      <td>0</td>\n",
       "      <td>64</td>\n",
       "      <td>32</td>\n",
       "      <td>14</td>\n",
       "    </tr>\n",
       "    <tr>\n",
       "      <th>Predicted Late (16-30 days)</th>\n",
       "      <td>0</td>\n",
       "      <td>18</td>\n",
       "      <td>0</td>\n",
       "      <td>16</td>\n",
       "      <td>14</td>\n",
       "      <td>7</td>\n",
       "    </tr>\n",
       "    <tr>\n",
       "      <th>Late (31-120 days)</th>\n",
       "      <td>0</td>\n",
       "      <td>10</td>\n",
       "      <td>0</td>\n",
       "      <td>12</td>\n",
       "      <td>10</td>\n",
       "      <td>169</td>\n",
       "    </tr>\n",
       "  </tbody>\n",
       "</table>\n",
       "</div>"
      ],
      "text/plain": [
       "                             Charged Off  Current  Fully Paid  \\\n",
       "Predicted Charged Off                 38        0           2   \n",
       "Predicted Current                      0    19758           0   \n",
       "Predicted Fully Paid                   4        0        1265   \n",
       "Predicted In Grace Period              0       30           0   \n",
       "Predicted Late (16-30 days)            0       18           0   \n",
       "Late (31-120 days)                     0       10           0   \n",
       "\n",
       "                             In Grace Period  Late (16-30 days)  \\\n",
       "Predicted Charged Off                      0                  0   \n",
       "Predicted Current                         70                 29   \n",
       "Predicted Fully Paid                       0                  0   \n",
       "Predicted In Grace Period                 64                 32   \n",
       "Predicted Late (16-30 days)               16                 14   \n",
       "Late (31-120 days)                        12                 10   \n",
       "\n",
       "                             Late (31-120 days)  \n",
       "Predicted Charged Off                         0  \n",
       "Predicted Current                            11  \n",
       "Predicted Fully Paid                          0  \n",
       "Predicted In Grace Period                    14  \n",
       "Predicted Late (16-30 days)                   7  \n",
       "Late (31-120 days)                          169  "
      ]
     },
     "execution_count": 136,
     "metadata": {},
     "output_type": "execute_result"
    }
   ],
   "source": [
    "# The cells located at the diagonal line are the number of labels predicted correctly\n",
    "multi_class_performance(LR_multi_clf, x_train_std, y_train, x_test_std, y_test)[2]"
   ]
  },
  {
   "cell_type": "markdown",
   "metadata": {},
   "source": [
    "#### 4.1.1 RandomizedSearchCV - Logistic Regression"
   ]
  },
  {
   "cell_type": "code",
   "execution_count": 18,
   "metadata": {},
   "outputs": [
    {
     "name": "stdout",
     "output_type": "stream",
     "text": [
      "execution time 2011.9759850502014\n"
     ]
    }
   ],
   "source": [
    "from sklearn.model_selection import RandomizedSearchCV\n",
    "from sklearn.linear_model import LogisticRegression\n",
    "\n",
    "# Record the randomized grid searching time\n",
    "start_time = time.time()\n",
    "\n",
    "# Initiate the Logistic Regression Classifier\n",
    "LR_clf = LogisticRegression()\n",
    "\n",
    "# Construct ranges for each parameter \n",
    "param_grid = {'multi_class':['multinomial'],\n",
    "              'solver':['newton-cg'],\n",
    "              'penalty': ['l2'],\n",
    "              'C': [i * 0.01 for i in range(1, 101)],\n",
    "              'tol': [1e-3,1e-4,1e-5],\n",
    "              'max_iter':[100]\n",
    "             }\n",
    "\n",
    "# Due to time constraint, do the randomized grid searching 10 times \n",
    "# Find the optimal combination of parameters such that the highest accuracy score attained\n",
    "grid_obj = RandomizedSearchCV(LR_clf, param_distributions=param_grid, cv=5, scoring='accuracy',\n",
    "                              n_iter = 10)\n",
    "grid_obj.fit(x_train_std, y_train)\n",
    "\n",
    "print('execution time', time.time() - start_time)"
   ]
  },
  {
   "cell_type": "code",
   "execution_count": 19,
   "metadata": {},
   "outputs": [
    {
     "data": {
      "text/plain": [
       "LogisticRegression(C=0.45, class_weight=None, dual=False, fit_intercept=True,\n",
       "          intercept_scaling=1, max_iter=100, multi_class='multinomial',\n",
       "          n_jobs=None, penalty='l2', random_state=None, solver='newton-cg',\n",
       "          tol=0.0001, verbose=0, warm_start=False)"
      ]
     },
     "execution_count": 19,
     "metadata": {},
     "output_type": "execute_result"
    }
   ],
   "source": [
    "# Call back the optimal combination of parameters \n",
    "LR_best_clf = grid_obj.best_estimator_\n",
    "LR_best_clf"
   ]
  },
  {
   "cell_type": "code",
   "execution_count": 20,
   "metadata": {},
   "outputs": [
    {
     "name": "stderr",
     "output_type": "stream",
     "text": [
      "/Users/wuchenhong/anaconda3/lib/python3.6/site-packages/sklearn/utils/deprecation.py:125: FutureWarning: You are accessing a training score ('mean_train_score'), which will not be available by default any more in 0.21. If you need training scores, please set return_train_score=True\n",
      "  warnings.warn(*warn_args, **warn_kwargs)\n",
      "/Users/wuchenhong/anaconda3/lib/python3.6/site-packages/sklearn/utils/deprecation.py:125: FutureWarning: You are accessing a training score ('std_train_score'), which will not be available by default any more in 0.21. If you need training scores, please set return_train_score=True\n",
      "  warnings.warn(*warn_args, **warn_kwargs)\n"
     ]
    }
   ],
   "source": [
    "grid_search_result = pd.DataFrame({'rank': grid_obj.cv_results_['rank_test_score'].tolist(),\n",
    "                                   'params': grid_obj.cv_results_['params'],\n",
    "                                   'mean_test_score': grid_obj.cv_results_['mean_test_score'],\n",
    "                                   'mean_train_score': grid_obj.cv_results_['mean_train_score'],\n",
    "                                   'std_test_score': grid_obj.cv_results_['std_test_score'],\n",
    "                                   'std_train_score': grid_obj.cv_results_['std_train_score']\n",
    "                                  })"
   ]
  },
  {
   "cell_type": "code",
   "execution_count": 21,
   "metadata": {},
   "outputs": [
    {
     "data": {
      "text/html": [
       "<div>\n",
       "<style scoped>\n",
       "    .dataframe tbody tr th:only-of-type {\n",
       "        vertical-align: middle;\n",
       "    }\n",
       "\n",
       "    .dataframe tbody tr th {\n",
       "        vertical-align: top;\n",
       "    }\n",
       "\n",
       "    .dataframe thead th {\n",
       "        text-align: right;\n",
       "    }\n",
       "</style>\n",
       "<table border=\"1\" class=\"dataframe\">\n",
       "  <thead>\n",
       "    <tr style=\"text-align: right;\">\n",
       "      <th></th>\n",
       "      <th>rank</th>\n",
       "      <th>params</th>\n",
       "      <th>mean_test_score</th>\n",
       "      <th>mean_train_score</th>\n",
       "      <th>std_test_score</th>\n",
       "      <th>std_train_score</th>\n",
       "    </tr>\n",
       "  </thead>\n",
       "  <tbody>\n",
       "    <tr>\n",
       "      <th>0</th>\n",
       "      <td>1</td>\n",
       "      <td>{'tol': 0.0001, 'solver': 'newton-cg', 'penalt...</td>\n",
       "      <td>0.937224</td>\n",
       "      <td>0.937777</td>\n",
       "      <td>0.000683</td>\n",
       "      <td>0.000190</td>\n",
       "    </tr>\n",
       "    <tr>\n",
       "      <th>1</th>\n",
       "      <td>9</td>\n",
       "      <td>{'tol': 1e-05, 'solver': 'newton-cg', 'penalty...</td>\n",
       "      <td>0.937178</td>\n",
       "      <td>0.937772</td>\n",
       "      <td>0.000703</td>\n",
       "      <td>0.000198</td>\n",
       "    </tr>\n",
       "    <tr>\n",
       "      <th>2</th>\n",
       "      <td>1</td>\n",
       "      <td>{'tol': 0.001, 'solver': 'newton-cg', 'penalty...</td>\n",
       "      <td>0.937224</td>\n",
       "      <td>0.937769</td>\n",
       "      <td>0.000683</td>\n",
       "      <td>0.000200</td>\n",
       "    </tr>\n",
       "    <tr>\n",
       "      <th>3</th>\n",
       "      <td>6</td>\n",
       "      <td>{'tol': 0.001, 'solver': 'newton-cg', 'penalty...</td>\n",
       "      <td>0.937212</td>\n",
       "      <td>0.937734</td>\n",
       "      <td>0.000674</td>\n",
       "      <td>0.000180</td>\n",
       "    </tr>\n",
       "    <tr>\n",
       "      <th>4</th>\n",
       "      <td>7</td>\n",
       "      <td>{'tol': 0.001, 'solver': 'newton-cg', 'penalty...</td>\n",
       "      <td>0.937189</td>\n",
       "      <td>0.937769</td>\n",
       "      <td>0.000683</td>\n",
       "      <td>0.000193</td>\n",
       "    </tr>\n",
       "    <tr>\n",
       "      <th>5</th>\n",
       "      <td>7</td>\n",
       "      <td>{'tol': 0.001, 'solver': 'newton-cg', 'penalty...</td>\n",
       "      <td>0.937189</td>\n",
       "      <td>0.937772</td>\n",
       "      <td>0.000683</td>\n",
       "      <td>0.000198</td>\n",
       "    </tr>\n",
       "    <tr>\n",
       "      <th>6</th>\n",
       "      <td>9</td>\n",
       "      <td>{'tol': 1e-05, 'solver': 'newton-cg', 'penalty...</td>\n",
       "      <td>0.937178</td>\n",
       "      <td>0.937769</td>\n",
       "      <td>0.000703</td>\n",
       "      <td>0.000197</td>\n",
       "    </tr>\n",
       "    <tr>\n",
       "      <th>7</th>\n",
       "      <td>1</td>\n",
       "      <td>{'tol': 0.0001, 'solver': 'newton-cg', 'penalt...</td>\n",
       "      <td>0.937224</td>\n",
       "      <td>0.937754</td>\n",
       "      <td>0.000683</td>\n",
       "      <td>0.000181</td>\n",
       "    </tr>\n",
       "    <tr>\n",
       "      <th>8</th>\n",
       "      <td>1</td>\n",
       "      <td>{'tol': 0.0001, 'solver': 'newton-cg', 'penalt...</td>\n",
       "      <td>0.937224</td>\n",
       "      <td>0.937772</td>\n",
       "      <td>0.000683</td>\n",
       "      <td>0.000191</td>\n",
       "    </tr>\n",
       "    <tr>\n",
       "      <th>9</th>\n",
       "      <td>1</td>\n",
       "      <td>{'tol': 0.0001, 'solver': 'newton-cg', 'penalt...</td>\n",
       "      <td>0.937224</td>\n",
       "      <td>0.937769</td>\n",
       "      <td>0.000683</td>\n",
       "      <td>0.000200</td>\n",
       "    </tr>\n",
       "  </tbody>\n",
       "</table>\n",
       "</div>"
      ],
      "text/plain": [
       "   rank                                             params  mean_test_score  \\\n",
       "0     1  {'tol': 0.0001, 'solver': 'newton-cg', 'penalt...         0.937224   \n",
       "1     9  {'tol': 1e-05, 'solver': 'newton-cg', 'penalty...         0.937178   \n",
       "2     1  {'tol': 0.001, 'solver': 'newton-cg', 'penalty...         0.937224   \n",
       "3     6  {'tol': 0.001, 'solver': 'newton-cg', 'penalty...         0.937212   \n",
       "4     7  {'tol': 0.001, 'solver': 'newton-cg', 'penalty...         0.937189   \n",
       "5     7  {'tol': 0.001, 'solver': 'newton-cg', 'penalty...         0.937189   \n",
       "6     9  {'tol': 1e-05, 'solver': 'newton-cg', 'penalty...         0.937178   \n",
       "7     1  {'tol': 0.0001, 'solver': 'newton-cg', 'penalt...         0.937224   \n",
       "8     1  {'tol': 0.0001, 'solver': 'newton-cg', 'penalt...         0.937224   \n",
       "9     1  {'tol': 0.0001, 'solver': 'newton-cg', 'penalt...         0.937224   \n",
       "\n",
       "   mean_train_score  std_test_score  std_train_score  \n",
       "0          0.937777        0.000683         0.000190  \n",
       "1          0.937772        0.000703         0.000198  \n",
       "2          0.937769        0.000683         0.000200  \n",
       "3          0.937734        0.000674         0.000180  \n",
       "4          0.937769        0.000683         0.000193  \n",
       "5          0.937772        0.000683         0.000198  \n",
       "6          0.937769        0.000703         0.000197  \n",
       "7          0.937754        0.000683         0.000181  \n",
       "8          0.937772        0.000683         0.000191  \n",
       "9          0.937769        0.000683         0.000200  "
      ]
     },
     "execution_count": 21,
     "metadata": {},
     "output_type": "execute_result"
    }
   ],
   "source": [
    "# Look at the 'fluctuations' among folds\n",
    "# When fit the Logistic Regression with the best combination of parameters\n",
    "# The standard deviation of train scores among five folds is steady: 0.000697\n",
    "# The standard deviation of test scores among five folds is steady: 0.000323\n",
    "grid_search_result"
   ]
  },
  {
   "cell_type": "code",
   "execution_count": 23,
   "metadata": {},
   "outputs": [
    {
     "data": {
      "text/plain": [
       "{'tol': 0.0001,\n",
       " 'solver': 'newton-cg',\n",
       " 'penalty': 'l2',\n",
       " 'multi_class': 'multinomial',\n",
       " 'max_iter': 100,\n",
       " 'C': 0.45}"
      ]
     },
     "execution_count": 23,
     "metadata": {},
     "output_type": "execute_result"
    }
   ],
   "source": [
    "grid_search_result.params.loc[0]"
   ]
  },
  {
   "cell_type": "markdown",
   "metadata": {},
   "source": [
    "#### 4.1.2 Confusion Matrix - Logistic Regression"
   ]
  },
  {
   "cell_type": "code",
   "execution_count": 24,
   "metadata": {},
   "outputs": [],
   "source": [
    "LR_best_clf = LogisticRegression(C=0.45, multi_class='multinomial', penalty='l2', \n",
    "                                 solver='newton-cg',tol=0.0001)"
   ]
  },
  {
   "cell_type": "code",
   "execution_count": 25,
   "metadata": {},
   "outputs": [
    {
     "data": {
      "text/plain": [
       "(0.9377571241496796, 0.9373754229824317)"
      ]
     },
     "execution_count": 25,
     "metadata": {},
     "output_type": "execute_result"
    }
   ],
   "source": [
    "# Accuracy scores\n",
    "# Train: 0.9904\n",
    "# Test: 0.9886\n",
    "multi_class_performance(LR_best_clf, x_train_std, y_train, x_test_std, y_test)[0:2]"
   ]
  },
  {
   "cell_type": "code",
   "execution_count": 26,
   "metadata": {},
   "outputs": [
    {
     "data": {
      "text/html": [
       "<div>\n",
       "<style scoped>\n",
       "    .dataframe tbody tr th:only-of-type {\n",
       "        vertical-align: middle;\n",
       "    }\n",
       "\n",
       "    .dataframe tbody tr th {\n",
       "        vertical-align: top;\n",
       "    }\n",
       "\n",
       "    .dataframe thead th {\n",
       "        text-align: right;\n",
       "    }\n",
       "</style>\n",
       "<table border=\"1\" class=\"dataframe\">\n",
       "  <thead>\n",
       "    <tr style=\"text-align: right;\">\n",
       "      <th></th>\n",
       "      <th>Charged Off</th>\n",
       "      <th>Current</th>\n",
       "      <th>Fully Paid</th>\n",
       "      <th>In Grace Period</th>\n",
       "      <th>Late (16-30 days)</th>\n",
       "      <th>Late (31-120 days)</th>\n",
       "    </tr>\n",
       "  </thead>\n",
       "  <tbody>\n",
       "    <tr>\n",
       "      <th>Predicted Charged Off</th>\n",
       "      <td>0</td>\n",
       "      <td>0</td>\n",
       "      <td>2</td>\n",
       "      <td>0</td>\n",
       "      <td>0</td>\n",
       "      <td>0</td>\n",
       "    </tr>\n",
       "    <tr>\n",
       "      <th>Predicted Current</th>\n",
       "      <td>37</td>\n",
       "      <td>19721</td>\n",
       "      <td>763</td>\n",
       "      <td>162</td>\n",
       "      <td>83</td>\n",
       "      <td>199</td>\n",
       "    </tr>\n",
       "    <tr>\n",
       "      <th>Predicted Fully Paid</th>\n",
       "      <td>5</td>\n",
       "      <td>95</td>\n",
       "      <td>501</td>\n",
       "      <td>0</td>\n",
       "      <td>2</td>\n",
       "      <td>2</td>\n",
       "    </tr>\n",
       "    <tr>\n",
       "      <th>Predicted In Grace Period</th>\n",
       "      <td>0</td>\n",
       "      <td>0</td>\n",
       "      <td>0</td>\n",
       "      <td>0</td>\n",
       "      <td>0</td>\n",
       "      <td>0</td>\n",
       "    </tr>\n",
       "    <tr>\n",
       "      <th>Predicted Late (16-30 days)</th>\n",
       "      <td>0</td>\n",
       "      <td>0</td>\n",
       "      <td>1</td>\n",
       "      <td>0</td>\n",
       "      <td>0</td>\n",
       "      <td>0</td>\n",
       "    </tr>\n",
       "    <tr>\n",
       "      <th>Late (31-120 days)</th>\n",
       "      <td>0</td>\n",
       "      <td>0</td>\n",
       "      <td>0</td>\n",
       "      <td>0</td>\n",
       "      <td>0</td>\n",
       "      <td>0</td>\n",
       "    </tr>\n",
       "  </tbody>\n",
       "</table>\n",
       "</div>"
      ],
      "text/plain": [
       "                             Charged Off  Current  Fully Paid  \\\n",
       "Predicted Charged Off                  0        0           2   \n",
       "Predicted Current                     37    19721         763   \n",
       "Predicted Fully Paid                   5       95         501   \n",
       "Predicted In Grace Period              0        0           0   \n",
       "Predicted Late (16-30 days)            0        0           1   \n",
       "Late (31-120 days)                     0        0           0   \n",
       "\n",
       "                             In Grace Period  Late (16-30 days)  \\\n",
       "Predicted Charged Off                      0                  0   \n",
       "Predicted Current                        162                 83   \n",
       "Predicted Fully Paid                       0                  2   \n",
       "Predicted In Grace Period                  0                  0   \n",
       "Predicted Late (16-30 days)                0                  0   \n",
       "Late (31-120 days)                         0                  0   \n",
       "\n",
       "                             Late (31-120 days)  \n",
       "Predicted Charged Off                         0  \n",
       "Predicted Current                           199  \n",
       "Predicted Fully Paid                          2  \n",
       "Predicted In Grace Period                     0  \n",
       "Predicted Late (16-30 days)                   0  \n",
       "Late (31-120 days)                            0  "
      ]
     },
     "execution_count": 26,
     "metadata": {},
     "output_type": "execute_result"
    }
   ],
   "source": [
    "# The cells located at the diagonal line are the number of labels predicted correctly\n",
    "multi_class_performance(LR_best_clf, x_train_std, y_train, x_test_std, y_test)[2]"
   ]
  },
  {
   "cell_type": "markdown",
   "metadata": {},
   "source": [
    "#### 4.1.3 Features' coefficients by Logistic Regression"
   ]
  },
  {
   "cell_type": "code",
   "execution_count": 28,
   "metadata": {},
   "outputs": [
    {
     "data": {
      "text/html": [
       "<div>\n",
       "<style scoped>\n",
       "    .dataframe tbody tr th:only-of-type {\n",
       "        vertical-align: middle;\n",
       "    }\n",
       "\n",
       "    .dataframe tbody tr th {\n",
       "        vertical-align: top;\n",
       "    }\n",
       "\n",
       "    .dataframe thead th {\n",
       "        text-align: right;\n",
       "    }\n",
       "</style>\n",
       "<table border=\"1\" class=\"dataframe\">\n",
       "  <thead>\n",
       "    <tr style=\"text-align: right;\">\n",
       "      <th></th>\n",
       "      <th>feature</th>\n",
       "      <th>coeff</th>\n",
       "    </tr>\n",
       "  </thead>\n",
       "  <tbody>\n",
       "    <tr>\n",
       "      <th>50</th>\n",
       "      <td>total_bal_il</td>\n",
       "      <td>0.345992</td>\n",
       "    </tr>\n",
       "    <tr>\n",
       "      <th>76</th>\n",
       "      <td>days_between_max_issue_sec_earliest_cr_line</td>\n",
       "      <td>0.318149</td>\n",
       "    </tr>\n",
       "    <tr>\n",
       "      <th>88</th>\n",
       "      <td>emp_length_NA_emp_length</td>\n",
       "      <td>0.272158</td>\n",
       "    </tr>\n",
       "    <tr>\n",
       "      <th>169</th>\n",
       "      <td>level_between_max_issue_sec_earliest_cr_line_N...</td>\n",
       "      <td>0.260043</td>\n",
       "    </tr>\n",
       "    <tr>\n",
       "      <th>58</th>\n",
       "      <td>revol_bal</td>\n",
       "      <td>0.224314</td>\n",
       "    </tr>\n",
       "  </tbody>\n",
       "</table>\n",
       "</div>"
      ],
      "text/plain": [
       "                                               feature     coeff\n",
       "50                                        total_bal_il  0.345992\n",
       "76         days_between_max_issue_sec_earliest_cr_line  0.318149\n",
       "88                            emp_length_NA_emp_length  0.272158\n",
       "169  level_between_max_issue_sec_earliest_cr_line_N...  0.260043\n",
       "58                                           revol_bal  0.224314"
      ]
     },
     "execution_count": 28,
     "metadata": {},
     "output_type": "execute_result"
    }
   ],
   "source": [
    "df_coeffs = pd.DataFrame(list(zip(x.columns, LR_best_clf.coef_.flatten()))).sort_values(by=[1], ascending=False)\n",
    "df_coeffs.columns = ['feature', 'coeff']\n",
    "df_coeffs.head(5)"
   ]
  },
  {
   "cell_type": "code",
   "execution_count": 30,
   "metadata": {},
   "outputs": [
    {
     "data": {
      "image/png": "[encoded data removed]",
      "text/plain": [
       "<Figure size 1008x720 with 1 Axes>"
      ]
     },
     "metadata": {
      "needs_background": "light"
     },
     "output_type": "display_data"
    }
   ],
   "source": [
    "plt.figure(figsize=(14,10))\n",
    "sns.barplot(x=\"coeff\", y=\"feature\", data=df_coeffs.head(5))\n",
    "plt.title('LightGBM Features (avg over folds)')\n",
    "plt.tight_layout()"
   ]
  },
  {
   "cell_type": "code",
   "execution_count": 31,
   "metadata": {},
   "outputs": [
    {
     "data": {
      "text/html": [
       "<div>\n",
       "<style scoped>\n",
       "    .dataframe tbody tr th:only-of-type {\n",
       "        vertical-align: middle;\n",
       "    }\n",
       "\n",
       "    .dataframe tbody tr th {\n",
       "        vertical-align: top;\n",
       "    }\n",
       "\n",
       "    .dataframe thead th {\n",
       "        text-align: right;\n",
       "    }\n",
       "</style>\n",
       "<table border=\"1\" class=\"dataframe\">\n",
       "  <thead>\n",
       "    <tr style=\"text-align: right;\">\n",
       "      <th></th>\n",
       "      <th>feature</th>\n",
       "      <th>coeff</th>\n",
       "    </tr>\n",
       "  </thead>\n",
       "  <tbody>\n",
       "    <tr>\n",
       "      <th>30</th>\n",
       "      <td>total_bal_ex_mort</td>\n",
       "      <td>-0.467772</td>\n",
       "    </tr>\n",
       "    <tr>\n",
       "      <th>64</th>\n",
       "      <td>total_rev_hi_lim</td>\n",
       "      <td>-0.285446</td>\n",
       "    </tr>\n",
       "    <tr>\n",
       "      <th>67</th>\n",
       "      <td>application_type</td>\n",
       "      <td>-0.260043</td>\n",
       "    </tr>\n",
       "    <tr>\n",
       "      <th>160</th>\n",
       "      <td>level_between_max_issue_sec_earliest_cr_line_2...</td>\n",
       "      <td>-0.251860</td>\n",
       "    </tr>\n",
       "    <tr>\n",
       "      <th>59</th>\n",
       "      <td>revol_util</td>\n",
       "      <td>-0.236229</td>\n",
       "    </tr>\n",
       "  </tbody>\n",
       "</table>\n",
       "</div>"
      ],
      "text/plain": [
       "                                               feature     coeff\n",
       "30                                   total_bal_ex_mort -0.467772\n",
       "64                                    total_rev_hi_lim -0.285446\n",
       "67                                    application_type -0.260043\n",
       "160  level_between_max_issue_sec_earliest_cr_line_2... -0.251860\n",
       "59                                          revol_util -0.236229"
      ]
     },
     "execution_count": 31,
     "metadata": {},
     "output_type": "execute_result"
    }
   ],
   "source": [
    "df_coeffs = pd.DataFrame(list(zip(x.columns, LR_best_clf.coef_.flatten()))).sort_values(by=[1], ascending=True)\n",
    "df_coeffs.columns = ['feature', 'coeff']\n",
    "df_coeffs.head(5)"
   ]
  },
  {
   "cell_type": "markdown",
   "metadata": {},
   "source": [
    "### 4.2 Random Forest"
   ]
  },
  {
   "cell_type": "code",
   "execution_count": 17,
   "metadata": {},
   "outputs": [],
   "source": [
    "from sklearn.ensemble import RandomForestClassifier\n",
    "\n",
    "RF_clf = RandomForestClassifier(n_estimators = 100, max_depth = 25, min_samples_leaf = 5, random_state = 0)"
   ]
  },
  {
   "cell_type": "code",
   "execution_count": 20,
   "metadata": {},
   "outputs": [
    {
     "data": {
      "text/plain": [
       "(0.9944026607641585, 0.9875307096834005)"
      ]
     },
     "execution_count": 20,
     "metadata": {},
     "output_type": "execute_result"
    }
   ],
   "source": [
    "# Dataset I: (0.9944026607641585, 0.9875770639224957)\n",
    "# Dataset II: \n",
    "multi_class_performance(RF_clf, x_train_std, y_train, x_test_std, y_test)[0:2]"
   ]
  },
  {
   "cell_type": "code",
   "execution_count": 21,
   "metadata": {},
   "outputs": [
    {
     "data": {
      "text/html": [
       "<div>\n",
       "<style scoped>\n",
       "    .dataframe tbody tr th:only-of-type {\n",
       "        vertical-align: middle;\n",
       "    }\n",
       "\n",
       "    .dataframe tbody tr th {\n",
       "        vertical-align: top;\n",
       "    }\n",
       "\n",
       "    .dataframe thead th {\n",
       "        text-align: right;\n",
       "    }\n",
       "</style>\n",
       "<table border=\"1\" class=\"dataframe\">\n",
       "  <thead>\n",
       "    <tr style=\"text-align: right;\">\n",
       "      <th></th>\n",
       "      <th>Charged Off</th>\n",
       "      <th>Current</th>\n",
       "      <th>Fully Paid</th>\n",
       "      <th>In Grace Period</th>\n",
       "      <th>Late (16-30 days)</th>\n",
       "      <th>Late (31-120 days)</th>\n",
       "    </tr>\n",
       "  </thead>\n",
       "  <tbody>\n",
       "    <tr>\n",
       "      <th>Predicted Charged Off</th>\n",
       "      <td>39</td>\n",
       "      <td>0</td>\n",
       "      <td>0</td>\n",
       "      <td>0</td>\n",
       "      <td>0</td>\n",
       "      <td>0</td>\n",
       "    </tr>\n",
       "    <tr>\n",
       "      <th>Predicted Current</th>\n",
       "      <td>0</td>\n",
       "      <td>19785</td>\n",
       "      <td>0</td>\n",
       "      <td>110</td>\n",
       "      <td>62</td>\n",
       "      <td>31</td>\n",
       "    </tr>\n",
       "    <tr>\n",
       "      <th>Predicted Fully Paid</th>\n",
       "      <td>3</td>\n",
       "      <td>0</td>\n",
       "      <td>1267</td>\n",
       "      <td>0</td>\n",
       "      <td>0</td>\n",
       "      <td>0</td>\n",
       "    </tr>\n",
       "    <tr>\n",
       "      <th>Predicted In Grace Period</th>\n",
       "      <td>0</td>\n",
       "      <td>31</td>\n",
       "      <td>0</td>\n",
       "      <td>50</td>\n",
       "      <td>21</td>\n",
       "      <td>8</td>\n",
       "    </tr>\n",
       "    <tr>\n",
       "      <th>Predicted Late (16-30 days)</th>\n",
       "      <td>0</td>\n",
       "      <td>0</td>\n",
       "      <td>0</td>\n",
       "      <td>2</td>\n",
       "      <td>1</td>\n",
       "      <td>0</td>\n",
       "    </tr>\n",
       "    <tr>\n",
       "      <th>Late (31-120 days)</th>\n",
       "      <td>0</td>\n",
       "      <td>0</td>\n",
       "      <td>0</td>\n",
       "      <td>0</td>\n",
       "      <td>1</td>\n",
       "      <td>162</td>\n",
       "    </tr>\n",
       "  </tbody>\n",
       "</table>\n",
       "</div>"
      ],
      "text/plain": [
       "                             Charged Off  Current  Fully Paid  \\\n",
       "Predicted Charged Off                 39        0           0   \n",
       "Predicted Current                      0    19785           0   \n",
       "Predicted Fully Paid                   3        0        1267   \n",
       "Predicted In Grace Period              0       31           0   \n",
       "Predicted Late (16-30 days)            0        0           0   \n",
       "Late (31-120 days)                     0        0           0   \n",
       "\n",
       "                             In Grace Period  Late (16-30 days)  \\\n",
       "Predicted Charged Off                      0                  0   \n",
       "Predicted Current                        110                 62   \n",
       "Predicted Fully Paid                       0                  0   \n",
       "Predicted In Grace Period                 50                 21   \n",
       "Predicted Late (16-30 days)                2                  1   \n",
       "Late (31-120 days)                         0                  1   \n",
       "\n",
       "                             Late (31-120 days)  \n",
       "Predicted Charged Off                         0  \n",
       "Predicted Current                            31  \n",
       "Predicted Fully Paid                          0  \n",
       "Predicted In Grace Period                     8  \n",
       "Predicted Late (16-30 days)                   0  \n",
       "Late (31-120 days)                          162  "
      ]
     },
     "execution_count": 21,
     "metadata": {},
     "output_type": "execute_result"
    }
   ],
   "source": [
    "# The cells located at the diagonal line are the number of labels predicted correctly\n",
    "multi_class_performance(RF_clf, x_train_std, y_train, x_test_std, y_test)[2]"
   ]
  },
  {
   "cell_type": "markdown",
   "metadata": {},
   "source": [
    "#### 4.2.1 RandomizedSearchCV - Random Forest"
   ]
  },
  {
   "cell_type": "code",
   "execution_count": 152,
   "metadata": {},
   "outputs": [
    {
     "name": "stdout",
     "output_type": "stream",
     "text": [
      "execution time 2883.8094437122345\n"
     ]
    }
   ],
   "source": [
    "# Record the randomized grid searching time\n",
    "start_time = time.time()\n",
    "\n",
    "# Initiate the Random Forest Classifier\n",
    "RF_clf = RandomForestClassifier()\n",
    "\n",
    "# Construct ranges for each parameter \n",
    "param_grid = {'n_estimators': [100,150,200],\n",
    "              'max_features': [i for i in range(1, 51)],\n",
    "              'max_depth': [i for i in range(1, 26)],\n",
    "              'min_samples_leaf': [i for i in range(1, 51)]\n",
    "             }\n",
    "\n",
    "# Do the randomized grid searching 10 times \n",
    "# Find the optimal combination of parameters such that the highest accuracy score attained\n",
    "grid_obj = RandomizedSearchCV(RF_clf, param_distributions=param_grid, cv=5, scoring='accuracy',\n",
    "                              n_iter = 10)\n",
    "grid_obj.fit(x_train_std, y_train)\n",
    "\n",
    "print('execution time', time.time() - start_time)"
   ]
  },
  {
   "cell_type": "code",
   "execution_count": 153,
   "metadata": {},
   "outputs": [
    {
     "data": {
      "text/plain": [
       "RandomForestClassifier(bootstrap=True, class_weight=None, criterion='gini',\n",
       "            max_depth=22, max_features=23, max_leaf_nodes=None,\n",
       "            min_impurity_decrease=0.0, min_impurity_split=None,\n",
       "            min_samples_leaf=7, min_samples_split=2,\n",
       "            min_weight_fraction_leaf=0.0, n_estimators=200, n_jobs=1,\n",
       "            oob_score=False, random_state=None, verbose=0,\n",
       "            warm_start=False)"
      ]
     },
     "execution_count": 153,
     "metadata": {},
     "output_type": "execute_result"
    }
   ],
   "source": [
    "# Call back the optimal combination of parameters \n",
    "RF_best_clf = grid_obj.best_estimator_\n",
    "RF_best_clf"
   ]
  },
  {
   "cell_type": "code",
   "execution_count": 154,
   "metadata": {},
   "outputs": [],
   "source": [
    "grid_search_result = pd.DataFrame({'rank': grid_obj.cv_results_['rank_test_score'].tolist(),\n",
    "                                   'params': grid_obj.cv_results_['params'],\n",
    "                                   'mean_test_score': grid_obj.cv_results_['mean_test_score'],\n",
    "                                   'mean_train_score': grid_obj.cv_results_['mean_train_score'],\n",
    "                                   'std_test_score': grid_obj.cv_results_['std_test_score'],\n",
    "                                   'std_train_score': grid_obj.cv_results_['std_train_score']\n",
    "                                  })"
   ]
  },
  {
   "cell_type": "code",
   "execution_count": 155,
   "metadata": {},
   "outputs": [
    {
     "data": {
      "text/html": [
       "<div>\n",
       "<style scoped>\n",
       "    .dataframe tbody tr th:only-of-type {\n",
       "        vertical-align: middle;\n",
       "    }\n",
       "\n",
       "    .dataframe tbody tr th {\n",
       "        vertical-align: top;\n",
       "    }\n",
       "\n",
       "    .dataframe thead th {\n",
       "        text-align: right;\n",
       "    }\n",
       "</style>\n",
       "<table border=\"1\" class=\"dataframe\">\n",
       "  <thead>\n",
       "    <tr style=\"text-align: right;\">\n",
       "      <th></th>\n",
       "      <th>rank</th>\n",
       "      <th>params</th>\n",
       "      <th>mean_test_score</th>\n",
       "      <th>mean_train_score</th>\n",
       "      <th>std_test_score</th>\n",
       "      <th>std_train_score</th>\n",
       "    </tr>\n",
       "  </thead>\n",
       "  <tbody>\n",
       "    <tr>\n",
       "      <th>0</th>\n",
       "      <td>3</td>\n",
       "      <td>{'n_estimators': 200, 'min_samples_leaf': 26, ...</td>\n",
       "      <td>0.987137</td>\n",
       "      <td>0.989414</td>\n",
       "      <td>0.000423</td>\n",
       "      <td>0.000156</td>\n",
       "    </tr>\n",
       "    <tr>\n",
       "      <th>1</th>\n",
       "      <td>5</td>\n",
       "      <td>{'n_estimators': 150, 'min_samples_leaf': 37, ...</td>\n",
       "      <td>0.985074</td>\n",
       "      <td>0.985166</td>\n",
       "      <td>0.000345</td>\n",
       "      <td>0.000158</td>\n",
       "    </tr>\n",
       "    <tr>\n",
       "      <th>2</th>\n",
       "      <td>8</td>\n",
       "      <td>{'n_estimators': 100, 'min_samples_leaf': 22, ...</td>\n",
       "      <td>0.976962</td>\n",
       "      <td>0.977266</td>\n",
       "      <td>0.000260</td>\n",
       "      <td>0.000371</td>\n",
       "    </tr>\n",
       "    <tr>\n",
       "      <th>3</th>\n",
       "      <td>4</td>\n",
       "      <td>{'n_estimators': 100, 'min_samples_leaf': 45, ...</td>\n",
       "      <td>0.986673</td>\n",
       "      <td>0.986916</td>\n",
       "      <td>0.000474</td>\n",
       "      <td>0.000291</td>\n",
       "    </tr>\n",
       "    <tr>\n",
       "      <th>4</th>\n",
       "      <td>10</td>\n",
       "      <td>{'n_estimators': 200, 'min_samples_leaf': 16, ...</td>\n",
       "      <td>0.967749</td>\n",
       "      <td>0.967891</td>\n",
       "      <td>0.002426</td>\n",
       "      <td>0.002192</td>\n",
       "    </tr>\n",
       "    <tr>\n",
       "      <th>5</th>\n",
       "      <td>7</td>\n",
       "      <td>{'n_estimators': 150, 'min_samples_leaf': 46, ...</td>\n",
       "      <td>0.977228</td>\n",
       "      <td>0.977266</td>\n",
       "      <td>0.000146</td>\n",
       "      <td>0.000066</td>\n",
       "    </tr>\n",
       "    <tr>\n",
       "      <th>6</th>\n",
       "      <td>9</td>\n",
       "      <td>{'n_estimators': 100, 'min_samples_leaf': 50, ...</td>\n",
       "      <td>0.976950</td>\n",
       "      <td>0.976872</td>\n",
       "      <td>0.000448</td>\n",
       "      <td>0.000360</td>\n",
       "    </tr>\n",
       "    <tr>\n",
       "      <th>7</th>\n",
       "      <td>1</td>\n",
       "      <td>{'n_estimators': 200, 'min_samples_leaf': 7, '...</td>\n",
       "      <td>0.987878</td>\n",
       "      <td>0.993852</td>\n",
       "      <td>0.000319</td>\n",
       "      <td>0.000245</td>\n",
       "    </tr>\n",
       "    <tr>\n",
       "      <th>8</th>\n",
       "      <td>6</td>\n",
       "      <td>{'n_estimators': 150, 'min_samples_leaf': 48, ...</td>\n",
       "      <td>0.979870</td>\n",
       "      <td>0.979952</td>\n",
       "      <td>0.000893</td>\n",
       "      <td>0.000890</td>\n",
       "    </tr>\n",
       "    <tr>\n",
       "      <th>9</th>\n",
       "      <td>2</td>\n",
       "      <td>{'n_estimators': 150, 'min_samples_leaf': 32, ...</td>\n",
       "      <td>0.987542</td>\n",
       "      <td>0.988892</td>\n",
       "      <td>0.000474</td>\n",
       "      <td>0.000197</td>\n",
       "    </tr>\n",
       "  </tbody>\n",
       "</table>\n",
       "</div>"
      ],
      "text/plain": [
       "   rank                                             params  mean_test_score  \\\n",
       "0     3  {'n_estimators': 200, 'min_samples_leaf': 26, ...         0.987137   \n",
       "1     5  {'n_estimators': 150, 'min_samples_leaf': 37, ...         0.985074   \n",
       "2     8  {'n_estimators': 100, 'min_samples_leaf': 22, ...         0.976962   \n",
       "3     4  {'n_estimators': 100, 'min_samples_leaf': 45, ...         0.986673   \n",
       "4    10  {'n_estimators': 200, 'min_samples_leaf': 16, ...         0.967749   \n",
       "5     7  {'n_estimators': 150, 'min_samples_leaf': 46, ...         0.977228   \n",
       "6     9  {'n_estimators': 100, 'min_samples_leaf': 50, ...         0.976950   \n",
       "7     1  {'n_estimators': 200, 'min_samples_leaf': 7, '...         0.987878   \n",
       "8     6  {'n_estimators': 150, 'min_samples_leaf': 48, ...         0.979870   \n",
       "9     2  {'n_estimators': 150, 'min_samples_leaf': 32, ...         0.987542   \n",
       "\n",
       "   mean_train_score  std_test_score  std_train_score  \n",
       "0          0.989414        0.000423         0.000156  \n",
       "1          0.985166        0.000345         0.000158  \n",
       "2          0.977266        0.000260         0.000371  \n",
       "3          0.986916        0.000474         0.000291  \n",
       "4          0.967891        0.002426         0.002192  \n",
       "5          0.977266        0.000146         0.000066  \n",
       "6          0.976872        0.000448         0.000360  \n",
       "7          0.993852        0.000319         0.000245  \n",
       "8          0.979952        0.000893         0.000890  \n",
       "9          0.988892        0.000474         0.000197  "
      ]
     },
     "execution_count": 155,
     "metadata": {},
     "output_type": "execute_result"
    }
   ],
   "source": [
    "# Look at the 'fluctuations' among folds\n",
    "# When fit the Random Forest with the best combination of parameters\n",
    "# The standard deviation of train scores among five folds is steady: 0.000319\n",
    "# The standard deviation of test scores among five folds is steady: 0.000245\n",
    "grid_search_result"
   ]
  },
  {
   "cell_type": "markdown",
   "metadata": {},
   "source": [
    "#### 4.2.2 Confusion Matrix - Random Forest"
   ]
  },
  {
   "cell_type": "code",
   "execution_count": 78,
   "metadata": {},
   "outputs": [],
   "source": [
    "RF_best_clf = RandomForestClassifier(bootstrap=True, class_weight=None, criterion='gini',\n",
    "            max_depth=22, max_features=23, max_leaf_nodes=None,\n",
    "            min_impurity_decrease=0.0, min_impurity_split=None,\n",
    "            min_samples_leaf=7, min_samples_split=2,\n",
    "            min_weight_fraction_leaf=0.0, n_estimators=200, n_jobs=1,\n",
    "            oob_score=False, random_state=None, verbose=0,\n",
    "            warm_start=False)"
   ]
  },
  {
   "cell_type": "code",
   "execution_count": 80,
   "metadata": {},
   "outputs": [
    {
     "data": {
      "text/plain": [
       "(0.9942751851293877, 0.9877624808788764)"
      ]
     },
     "execution_count": 80,
     "metadata": {},
     "output_type": "execute_result"
    }
   ],
   "source": [
    "# Accuracy scores\n",
    "# Train: 0.9941\n",
    "# Test: 0.9880\n",
    "multi_class_performance(RF_best_clf, x_train_std, y_train, x_test_std, y_test)[0:2]"
   ]
  },
  {
   "cell_type": "code",
   "execution_count": 157,
   "metadata": {},
   "outputs": [
    {
     "data": {
      "text/html": [
       "<div>\n",
       "<style scoped>\n",
       "    .dataframe tbody tr th:only-of-type {\n",
       "        vertical-align: middle;\n",
       "    }\n",
       "\n",
       "    .dataframe tbody tr th {\n",
       "        vertical-align: top;\n",
       "    }\n",
       "\n",
       "    .dataframe thead th {\n",
       "        text-align: right;\n",
       "    }\n",
       "</style>\n",
       "<table border=\"1\" class=\"dataframe\">\n",
       "  <thead>\n",
       "    <tr style=\"text-align: right;\">\n",
       "      <th></th>\n",
       "      <th>Charged Off</th>\n",
       "      <th>Current</th>\n",
       "      <th>Fully Paid</th>\n",
       "      <th>In Grace Period</th>\n",
       "      <th>Late (16-30 days)</th>\n",
       "      <th>Late (31-120 days)</th>\n",
       "    </tr>\n",
       "  </thead>\n",
       "  <tbody>\n",
       "    <tr>\n",
       "      <th>Predicted Charged Off</th>\n",
       "      <td>40</td>\n",
       "      <td>0</td>\n",
       "      <td>0</td>\n",
       "      <td>0</td>\n",
       "      <td>0</td>\n",
       "      <td>0</td>\n",
       "    </tr>\n",
       "    <tr>\n",
       "      <th>Predicted Current</th>\n",
       "      <td>0</td>\n",
       "      <td>19771</td>\n",
       "      <td>0</td>\n",
       "      <td>87</td>\n",
       "      <td>50</td>\n",
       "      <td>28</td>\n",
       "    </tr>\n",
       "    <tr>\n",
       "      <th>Predicted Fully Paid</th>\n",
       "      <td>2</td>\n",
       "      <td>0</td>\n",
       "      <td>1267</td>\n",
       "      <td>0</td>\n",
       "      <td>0</td>\n",
       "      <td>0</td>\n",
       "    </tr>\n",
       "    <tr>\n",
       "      <th>Predicted In Grace Period</th>\n",
       "      <td>0</td>\n",
       "      <td>45</td>\n",
       "      <td>0</td>\n",
       "      <td>74</td>\n",
       "      <td>32</td>\n",
       "      <td>11</td>\n",
       "    </tr>\n",
       "    <tr>\n",
       "      <th>Predicted Late (16-30 days)</th>\n",
       "      <td>0</td>\n",
       "      <td>0</td>\n",
       "      <td>0</td>\n",
       "      <td>1</td>\n",
       "      <td>2</td>\n",
       "      <td>1</td>\n",
       "    </tr>\n",
       "    <tr>\n",
       "      <th>Late (31-120 days)</th>\n",
       "      <td>0</td>\n",
       "      <td>0</td>\n",
       "      <td>0</td>\n",
       "      <td>0</td>\n",
       "      <td>1</td>\n",
       "      <td>161</td>\n",
       "    </tr>\n",
       "  </tbody>\n",
       "</table>\n",
       "</div>"
      ],
      "text/plain": [
       "                             Charged Off  Current  Fully Paid  \\\n",
       "Predicted Charged Off                 40        0           0   \n",
       "Predicted Current                      0    19771           0   \n",
       "Predicted Fully Paid                   2        0        1267   \n",
       "Predicted In Grace Period              0       45           0   \n",
       "Predicted Late (16-30 days)            0        0           0   \n",
       "Late (31-120 days)                     0        0           0   \n",
       "\n",
       "                             In Grace Period  Late (16-30 days)  \\\n",
       "Predicted Charged Off                      0                  0   \n",
       "Predicted Current                         87                 50   \n",
       "Predicted Fully Paid                       0                  0   \n",
       "Predicted In Grace Period                 74                 32   \n",
       "Predicted Late (16-30 days)                1                  2   \n",
       "Late (31-120 days)                         0                  1   \n",
       "\n",
       "                             Late (31-120 days)  \n",
       "Predicted Charged Off                         0  \n",
       "Predicted Current                            28  \n",
       "Predicted Fully Paid                          0  \n",
       "Predicted In Grace Period                    11  \n",
       "Predicted Late (16-30 days)                   1  \n",
       "Late (31-120 days)                          161  "
      ]
     },
     "execution_count": 157,
     "metadata": {},
     "output_type": "execute_result"
    }
   ],
   "source": [
    "# The cells located at the diagonal line are the number of labels predicted correctly\n",
    "multi_class_performance(RF_best_clf, x_train_std, y_train, x_test_std, y_test)[2]"
   ]
  },
  {
   "cell_type": "markdown",
   "metadata": {},
   "source": [
    "#### 4.2.3 Feature importance by Random Forest"
   ]
  },
  {
   "cell_type": "code",
   "execution_count": 81,
   "metadata": {},
   "outputs": [
    {
     "data": {
      "text/html": [
       "<div>\n",
       "<style scoped>\n",
       "    .dataframe tbody tr th:only-of-type {\n",
       "        vertical-align: middle;\n",
       "    }\n",
       "\n",
       "    .dataframe tbody tr th {\n",
       "        vertical-align: top;\n",
       "    }\n",
       "\n",
       "    .dataframe thead th {\n",
       "        text-align: right;\n",
       "    }\n",
       "</style>\n",
       "<table border=\"1\" class=\"dataframe\">\n",
       "  <thead>\n",
       "    <tr style=\"text-align: right;\">\n",
       "      <th></th>\n",
       "      <th>feature</th>\n",
       "      <th>importance</th>\n",
       "    </tr>\n",
       "  </thead>\n",
       "  <tbody>\n",
       "    <tr>\n",
       "      <th>194</th>\n",
       "      <td>level_diff_next_issue_d_NA month difference</td>\n",
       "      <td>0.167669</td>\n",
       "    </tr>\n",
       "    <tr>\n",
       "      <th>116</th>\n",
       "      <td>numeric_diff_last_issue_d</td>\n",
       "      <td>0.154897</td>\n",
       "    </tr>\n",
       "    <tr>\n",
       "      <th>18</th>\n",
       "      <td>out_prncp_inv</td>\n",
       "      <td>0.115247</td>\n",
       "    </tr>\n",
       "    <tr>\n",
       "      <th>26</th>\n",
       "      <td>last_pymnt_amnt</td>\n",
       "      <td>0.091499</td>\n",
       "    </tr>\n",
       "    <tr>\n",
       "      <th>17</th>\n",
       "      <td>out_prncp</td>\n",
       "      <td>0.086018</td>\n",
       "    </tr>\n",
       "    <tr>\n",
       "      <th>19</th>\n",
       "      <td>total_pymnt</td>\n",
       "      <td>0.069182</td>\n",
       "    </tr>\n",
       "    <tr>\n",
       "      <th>21</th>\n",
       "      <td>total_rec_prncp</td>\n",
       "      <td>0.063203</td>\n",
       "    </tr>\n",
       "    <tr>\n",
       "      <th>20</th>\n",
       "      <td>total_pymnt_inv</td>\n",
       "      <td>0.053123</td>\n",
       "    </tr>\n",
       "    <tr>\n",
       "      <th>184</th>\n",
       "      <td>level_diff_last_issue_d_3 month difference</td>\n",
       "      <td>0.023291</td>\n",
       "    </tr>\n",
       "    <tr>\n",
       "      <th>22</th>\n",
       "      <td>total_rec_int</td>\n",
       "      <td>0.015906</td>\n",
       "    </tr>\n",
       "  </tbody>\n",
       "</table>\n",
       "</div>"
      ],
      "text/plain": [
       "                                         feature  importance\n",
       "194  level_diff_next_issue_d_NA month difference    0.167669\n",
       "116                    numeric_diff_last_issue_d    0.154897\n",
       "18                                 out_prncp_inv    0.115247\n",
       "26                               last_pymnt_amnt    0.091499\n",
       "17                                     out_prncp    0.086018\n",
       "19                                   total_pymnt    0.069182\n",
       "21                               total_rec_prncp    0.063203\n",
       "20                               total_pymnt_inv    0.053123\n",
       "184   level_diff_last_issue_d_3 month difference    0.023291\n",
       "22                                 total_rec_int    0.015906"
      ]
     },
     "execution_count": 81,
     "metadata": {},
     "output_type": "execute_result"
    }
   ],
   "source": [
    "df_coeffs = pd.DataFrame(list(zip(x.columns, RF_best_clf.feature_importances_.flatten()))).sort_values(by=[1], ascending=False)\n",
    "df_coeffs.columns = ['feature', 'importance']\n",
    "top_10_features = df_coeffs.head(10)\n",
    "top_10_features"
   ]
  },
  {
   "cell_type": "code",
   "execution_count": 85,
   "metadata": {},
   "outputs": [
    {
     "name": "stderr",
     "output_type": "stream",
     "text": [
      "/Users/wuchenhong/anaconda3/lib/python3.6/site-packages/ipykernel_launcher.py:8: SettingWithCopyWarning: \n",
      "A value is trying to be set on a copy of a slice from a DataFrame\n",
      "\n",
      "See the caveats in the documentation: http://pandas.pydata.org/pandas-docs/stable/indexing.html#indexing-view-versus-copy\n",
      "  \n"
     ]
    }
   ],
   "source": [
    "top_10_features.feature[[18, 194, 116, 17, 21, 184, 22]] = [\n",
    "    'Remaining outstanding principal %',\n",
    "    'NA diff next issued',\n",
    "    'Date diff last issue',\n",
    "    'Remaining outstanding principal',\n",
    "    'Principal received to date',\n",
    "    '3 mths diff last issue',\n",
    "    'Interest received to date'\n",
    "]"
   ]
  },
  {
   "cell_type": "code",
   "execution_count": 86,
   "metadata": {},
   "outputs": [
    {
     "data": {
      "text/plain": [
       "Text(-60.5, 0.5, '')"
      ]
     },
     "execution_count": 86,
     "metadata": {},
     "output_type": "execute_result"
    },
    {
     "data": {
      "image/png": "[encoded data removed]",
      "text/plain": [
       "<Figure size 1008x720 with 1 Axes>"
      ]
     },
     "metadata": {},
     "output_type": "display_data"
    }
   ],
   "source": [
    "plt.figure(figsize=(14,10))\n",
    "sns.barplot(x=\"importance\", y=\"feature\", \n",
    "            data=top_10_features.sort_values(by = 'importance',ascending=False))\n",
    "plt.title('Random Forest Feature Importance in %', fontsize = 30)\n",
    "plt.tight_layout()\n",
    "plt.xticks(fontsize=20)\n",
    "plt.yticks(fontsize=20)\n",
    "plt.xlabel('', fontsize=0)\n",
    "plt.ylabel('', fontsize=0)\n",
    "#plt.savefig('lgbm_importances.png', dpi = 1000, \n",
    "            #figsize=(100, 100))"
   ]
  },
  {
   "cell_type": "markdown",
   "metadata": {},
   "source": [
    "### 4.3 Gradient Boosting Decision Tree"
   ]
  },
  {
   "cell_type": "code",
   "execution_count": 159,
   "metadata": {},
   "outputs": [],
   "source": [
    "from sklearn.ensemble import GradientBoostingClassifier\n",
    "\n",
    "# Use a good start of parameter combination\n",
    "parameters = {\n",
    "    'n_estimators': 100,\n",
    "    'max_depth': 5,\n",
    "    'learning_rate': 0.1,\n",
    "    'subsample': 0.7,\n",
    "    'max_features':0.8,\n",
    "    'random_state': 0\n",
    "}\n",
    "\n",
    "GBDT_clf = GradientBoostingClassifier(**parameters)"
   ]
  },
  {
   "cell_type": "code",
   "execution_count": 160,
   "metadata": {},
   "outputs": [
    {
     "data": {
      "text/plain": [
       "(0.996639278719681, 0.9853520604459278)"
      ]
     },
     "execution_count": 160,
     "metadata": {},
     "output_type": "execute_result"
    }
   ],
   "source": [
    "# Dataset I: (0.996639278719681, 0.9853520604459278)\n",
    "# Dataset II: \n",
    "multi_class_performance(GBDT_clf, x_train_std, y_train, x_test_std, y_test)[0:2]"
   ]
  },
  {
   "cell_type": "code",
   "execution_count": 161,
   "metadata": {},
   "outputs": [
    {
     "data": {
      "text/html": [
       "<div>\n",
       "<style scoped>\n",
       "    .dataframe tbody tr th:only-of-type {\n",
       "        vertical-align: middle;\n",
       "    }\n",
       "\n",
       "    .dataframe tbody tr th {\n",
       "        vertical-align: top;\n",
       "    }\n",
       "\n",
       "    .dataframe thead th {\n",
       "        text-align: right;\n",
       "    }\n",
       "</style>\n",
       "<table border=\"1\" class=\"dataframe\">\n",
       "  <thead>\n",
       "    <tr style=\"text-align: right;\">\n",
       "      <th></th>\n",
       "      <th>Charged Off</th>\n",
       "      <th>Current</th>\n",
       "      <th>Fully Paid</th>\n",
       "      <th>In Grace Period</th>\n",
       "      <th>Late (16-30 days)</th>\n",
       "      <th>Late (31-120 days)</th>\n",
       "    </tr>\n",
       "  </thead>\n",
       "  <tbody>\n",
       "    <tr>\n",
       "      <th>Predicted Charged Off</th>\n",
       "      <td>42</td>\n",
       "      <td>0</td>\n",
       "      <td>1</td>\n",
       "      <td>0</td>\n",
       "      <td>0</td>\n",
       "      <td>0</td>\n",
       "    </tr>\n",
       "    <tr>\n",
       "      <th>Predicted Current</th>\n",
       "      <td>0</td>\n",
       "      <td>19713</td>\n",
       "      <td>0</td>\n",
       "      <td>75</td>\n",
       "      <td>34</td>\n",
       "      <td>13</td>\n",
       "    </tr>\n",
       "    <tr>\n",
       "      <th>Predicted Fully Paid</th>\n",
       "      <td>0</td>\n",
       "      <td>0</td>\n",
       "      <td>1264</td>\n",
       "      <td>0</td>\n",
       "      <td>0</td>\n",
       "      <td>0</td>\n",
       "    </tr>\n",
       "    <tr>\n",
       "      <th>Predicted In Grace Period</th>\n",
       "      <td>0</td>\n",
       "      <td>93</td>\n",
       "      <td>2</td>\n",
       "      <td>69</td>\n",
       "      <td>44</td>\n",
       "      <td>19</td>\n",
       "    </tr>\n",
       "    <tr>\n",
       "      <th>Predicted Late (16-30 days)</th>\n",
       "      <td>0</td>\n",
       "      <td>7</td>\n",
       "      <td>0</td>\n",
       "      <td>15</td>\n",
       "      <td>5</td>\n",
       "      <td>5</td>\n",
       "    </tr>\n",
       "    <tr>\n",
       "      <th>Late (31-120 days)</th>\n",
       "      <td>0</td>\n",
       "      <td>3</td>\n",
       "      <td>0</td>\n",
       "      <td>3</td>\n",
       "      <td>2</td>\n",
       "      <td>164</td>\n",
       "    </tr>\n",
       "  </tbody>\n",
       "</table>\n",
       "</div>"
      ],
      "text/plain": [
       "                             Charged Off  Current  Fully Paid  \\\n",
       "Predicted Charged Off                 42        0           1   \n",
       "Predicted Current                      0    19713           0   \n",
       "Predicted Fully Paid                   0        0        1264   \n",
       "Predicted In Grace Period              0       93           2   \n",
       "Predicted Late (16-30 days)            0        7           0   \n",
       "Late (31-120 days)                     0        3           0   \n",
       "\n",
       "                             In Grace Period  Late (16-30 days)  \\\n",
       "Predicted Charged Off                      0                  0   \n",
       "Predicted Current                         75                 34   \n",
       "Predicted Fully Paid                       0                  0   \n",
       "Predicted In Grace Period                 69                 44   \n",
       "Predicted Late (16-30 days)               15                  5   \n",
       "Late (31-120 days)                         3                  2   \n",
       "\n",
       "                             Late (31-120 days)  \n",
       "Predicted Charged Off                         0  \n",
       "Predicted Current                            13  \n",
       "Predicted Fully Paid                          0  \n",
       "Predicted In Grace Period                    19  \n",
       "Predicted Late (16-30 days)                   5  \n",
       "Late (31-120 days)                          164  "
      ]
     },
     "execution_count": 161,
     "metadata": {},
     "output_type": "execute_result"
    }
   ],
   "source": [
    "# The cells located at the diagonal line are the number of labels predicted correctly\n",
    "multi_class_performance(GBDT_clf, x_train_std, y_train, x_test_std, y_test)[2]"
   ]
  },
  {
   "cell_type": "markdown",
   "metadata": {},
   "source": [
    "#### 4.3.1 RandomizedSearchCV - GBDT"
   ]
  },
  {
   "cell_type": "code",
   "execution_count": 162,
   "metadata": {},
   "outputs": [
    {
     "name": "stdout",
     "output_type": "stream",
     "text": [
      "execution time 59864.80663013458\n"
     ]
    }
   ],
   "source": [
    "# Record the randomized grid searching time\n",
    "start_time = time.time()\n",
    "\n",
    "# Initiate the GBDT Classifier\n",
    "GBDT_clf = GradientBoostingClassifier()\n",
    "\n",
    "# Construct ranges for each parameter \n",
    "param_grid = {'n_estimators': [100,150,200],\n",
    "              'max_depth': [3,4,5,6],\n",
    "              'learning_rate': [i * 0.01 for i in range(1, 101)],\n",
    "              'subsample': [0.8,0.9],\n",
    "              'max_features': [0.8,0.9]\n",
    "             }\n",
    "\n",
    "# Do the randomized grid searching 10 times \n",
    "# Find the optimal combination of parameters such that the highest accuracy score attained\n",
    "grid_obj = RandomizedSearchCV(GBDT_clf, param_distributions=param_grid, cv=5, scoring='accuracy',\n",
    "                              n_iter = 10)\n",
    "grid_obj.fit(x_train_std, y_train)\n",
    "\n",
    "print('execution time', time.time() - start_time)"
   ]
  },
  {
   "cell_type": "code",
   "execution_count": 163,
   "metadata": {},
   "outputs": [
    {
     "data": {
      "text/plain": [
       "GradientBoostingClassifier(criterion='friedman_mse', init=None,\n",
       "              learning_rate=0.05, loss='deviance', max_depth=5,\n",
       "              max_features=0.9, max_leaf_nodes=None,\n",
       "              min_impurity_decrease=0.0, min_impurity_split=None,\n",
       "              min_samples_leaf=1, min_samples_split=2,\n",
       "              min_weight_fraction_leaf=0.0, n_estimators=200,\n",
       "              presort='auto', random_state=None, subsample=0.9, verbose=0,\n",
       "              warm_start=False)"
      ]
     },
     "execution_count": 163,
     "metadata": {},
     "output_type": "execute_result"
    }
   ],
   "source": [
    "# Call back the optimal combination of parameters \n",
    "GBDT_best_clf = grid_obj.best_estimator_\n",
    "GBDT_best_clf"
   ]
  },
  {
   "cell_type": "code",
   "execution_count": 164,
   "metadata": {},
   "outputs": [],
   "source": [
    "grid_search_result = pd.DataFrame({'rank': grid_obj.cv_results_['rank_test_score'].tolist(),\n",
    "                                   'params': grid_obj.cv_results_['params'],\n",
    "                                   'mean_test_score': grid_obj.cv_results_['mean_test_score'],\n",
    "                                   'mean_train_score': grid_obj.cv_results_['mean_train_score'],\n",
    "                                   'std_test_score': grid_obj.cv_results_['std_test_score'],\n",
    "                                   'std_train_score': grid_obj.cv_results_['std_train_score']\n",
    "                                  })"
   ]
  },
  {
   "cell_type": "code",
   "execution_count": 165,
   "metadata": {},
   "outputs": [
    {
     "data": {
      "text/html": [
       "<div>\n",
       "<style scoped>\n",
       "    .dataframe tbody tr th:only-of-type {\n",
       "        vertical-align: middle;\n",
       "    }\n",
       "\n",
       "    .dataframe tbody tr th {\n",
       "        vertical-align: top;\n",
       "    }\n",
       "\n",
       "    .dataframe thead th {\n",
       "        text-align: right;\n",
       "    }\n",
       "</style>\n",
       "<table border=\"1\" class=\"dataframe\">\n",
       "  <thead>\n",
       "    <tr style=\"text-align: right;\">\n",
       "      <th></th>\n",
       "      <th>rank</th>\n",
       "      <th>params</th>\n",
       "      <th>mean_test_score</th>\n",
       "      <th>mean_train_score</th>\n",
       "      <th>std_test_score</th>\n",
       "      <th>std_train_score</th>\n",
       "    </tr>\n",
       "  </thead>\n",
       "  <tbody>\n",
       "    <tr>\n",
       "      <th>0</th>\n",
       "      <td>6</td>\n",
       "      <td>{'subsample': 0.9, 'n_estimators': 200, 'max_f...</td>\n",
       "      <td>0.788217</td>\n",
       "      <td>0.798244</td>\n",
       "      <td>0.363012</td>\n",
       "      <td>0.367832</td>\n",
       "    </tr>\n",
       "    <tr>\n",
       "      <th>1</th>\n",
       "      <td>2</td>\n",
       "      <td>{'subsample': 0.9, 'n_estimators': 100, 'max_f...</td>\n",
       "      <td>0.984575</td>\n",
       "      <td>0.999525</td>\n",
       "      <td>0.001016</td>\n",
       "      <td>0.000254</td>\n",
       "    </tr>\n",
       "    <tr>\n",
       "      <th>2</th>\n",
       "      <td>5</td>\n",
       "      <td>{'subsample': 0.8, 'n_estimators': 150, 'max_f...</td>\n",
       "      <td>0.843831</td>\n",
       "      <td>0.846556</td>\n",
       "      <td>0.157886</td>\n",
       "      <td>0.158516</td>\n",
       "    </tr>\n",
       "    <tr>\n",
       "      <th>3</th>\n",
       "      <td>3</td>\n",
       "      <td>{'subsample': 0.9, 'n_estimators': 100, 'max_f...</td>\n",
       "      <td>0.983081</td>\n",
       "      <td>0.993980</td>\n",
       "      <td>0.003410</td>\n",
       "      <td>0.002602</td>\n",
       "    </tr>\n",
       "    <tr>\n",
       "      <th>4</th>\n",
       "      <td>1</td>\n",
       "      <td>{'subsample': 0.9, 'n_estimators': 200, 'max_f...</td>\n",
       "      <td>0.986661</td>\n",
       "      <td>0.998444</td>\n",
       "      <td>0.000692</td>\n",
       "      <td>0.000263</td>\n",
       "    </tr>\n",
       "    <tr>\n",
       "      <th>5</th>\n",
       "      <td>10</td>\n",
       "      <td>{'subsample': 0.9, 'n_estimators': 150, 'max_f...</td>\n",
       "      <td>0.209709</td>\n",
       "      <td>0.210442</td>\n",
       "      <td>0.271835</td>\n",
       "      <td>0.272503</td>\n",
       "    </tr>\n",
       "    <tr>\n",
       "      <th>6</th>\n",
       "      <td>4</td>\n",
       "      <td>{'subsample': 0.8, 'n_estimators': 100, 'max_f...</td>\n",
       "      <td>0.979465</td>\n",
       "      <td>0.989759</td>\n",
       "      <td>0.006272</td>\n",
       "      <td>0.006722</td>\n",
       "    </tr>\n",
       "    <tr>\n",
       "      <th>7</th>\n",
       "      <td>8</td>\n",
       "      <td>{'subsample': 0.8, 'n_estimators': 200, 'max_f...</td>\n",
       "      <td>0.397191</td>\n",
       "      <td>0.401147</td>\n",
       "      <td>0.471562</td>\n",
       "      <td>0.476510</td>\n",
       "    </tr>\n",
       "    <tr>\n",
       "      <th>8</th>\n",
       "      <td>7</td>\n",
       "      <td>{'subsample': 0.9, 'n_estimators': 100, 'max_f...</td>\n",
       "      <td>0.787290</td>\n",
       "      <td>0.795729</td>\n",
       "      <td>0.388450</td>\n",
       "      <td>0.392741</td>\n",
       "    </tr>\n",
       "    <tr>\n",
       "      <th>9</th>\n",
       "      <td>9</td>\n",
       "      <td>{'subsample': 0.9, 'n_estimators': 150, 'max_f...</td>\n",
       "      <td>0.268081</td>\n",
       "      <td>0.269346</td>\n",
       "      <td>0.377442</td>\n",
       "      <td>0.380341</td>\n",
       "    </tr>\n",
       "  </tbody>\n",
       "</table>\n",
       "</div>"
      ],
      "text/plain": [
       "   rank                                             params  mean_test_score  \\\n",
       "0     6  {'subsample': 0.9, 'n_estimators': 200, 'max_f...         0.788217   \n",
       "1     2  {'subsample': 0.9, 'n_estimators': 100, 'max_f...         0.984575   \n",
       "2     5  {'subsample': 0.8, 'n_estimators': 150, 'max_f...         0.843831   \n",
       "3     3  {'subsample': 0.9, 'n_estimators': 100, 'max_f...         0.983081   \n",
       "4     1  {'subsample': 0.9, 'n_estimators': 200, 'max_f...         0.986661   \n",
       "5    10  {'subsample': 0.9, 'n_estimators': 150, 'max_f...         0.209709   \n",
       "6     4  {'subsample': 0.8, 'n_estimators': 100, 'max_f...         0.979465   \n",
       "7     8  {'subsample': 0.8, 'n_estimators': 200, 'max_f...         0.397191   \n",
       "8     7  {'subsample': 0.9, 'n_estimators': 100, 'max_f...         0.787290   \n",
       "9     9  {'subsample': 0.9, 'n_estimators': 150, 'max_f...         0.268081   \n",
       "\n",
       "   mean_train_score  std_test_score  std_train_score  \n",
       "0          0.798244        0.363012         0.367832  \n",
       "1          0.999525        0.001016         0.000254  \n",
       "2          0.846556        0.157886         0.158516  \n",
       "3          0.993980        0.003410         0.002602  \n",
       "4          0.998444        0.000692         0.000263  \n",
       "5          0.210442        0.271835         0.272503  \n",
       "6          0.989759        0.006272         0.006722  \n",
       "7          0.401147        0.471562         0.476510  \n",
       "8          0.795729        0.388450         0.392741  \n",
       "9          0.269346        0.377442         0.380341  "
      ]
     },
     "execution_count": 165,
     "metadata": {},
     "output_type": "execute_result"
    }
   ],
   "source": [
    "# Look at the 'fluctuations' among folds\n",
    "# When fit the GBDT with the best combination of parameters\n",
    "# The standard deviation of train scores among five folds is steady: 0.000692\n",
    "# The standard deviation of test scores among five folds is steady: 0.000263\n",
    "grid_search_result"
   ]
  },
  {
   "cell_type": "markdown",
   "metadata": {},
   "source": [
    "#### 4.3.2 Confusion Matrix - GBDT"
   ]
  },
  {
   "cell_type": "code",
   "execution_count": 166,
   "metadata": {},
   "outputs": [
    {
     "data": {
      "text/plain": [
       "(0.9979835672318087, 0.9866499791405924)"
      ]
     },
     "execution_count": 166,
     "metadata": {},
     "output_type": "execute_result"
    }
   ],
   "source": [
    "# Accuracy scores\n",
    "# Train: 0.9980\n",
    "# Test: 0.9866\n",
    "multi_class_performance(GBDT_best_clf, x_train_std, y_train, x_test_std, y_test)[0:2]"
   ]
  },
  {
   "cell_type": "code",
   "execution_count": 170,
   "metadata": {},
   "outputs": [
    {
     "data": {
      "text/html": [
       "<div>\n",
       "<style scoped>\n",
       "    .dataframe tbody tr th:only-of-type {\n",
       "        vertical-align: middle;\n",
       "    }\n",
       "\n",
       "    .dataframe tbody tr th {\n",
       "        vertical-align: top;\n",
       "    }\n",
       "\n",
       "    .dataframe thead th {\n",
       "        text-align: right;\n",
       "    }\n",
       "</style>\n",
       "<table border=\"1\" class=\"dataframe\">\n",
       "  <thead>\n",
       "    <tr style=\"text-align: right;\">\n",
       "      <th></th>\n",
       "      <th>Charged Off</th>\n",
       "      <th>Current</th>\n",
       "      <th>Fully Paid</th>\n",
       "      <th>In Grace Period</th>\n",
       "      <th>Late (16-30 days)</th>\n",
       "      <th>Late (31-120 days)</th>\n",
       "    </tr>\n",
       "  </thead>\n",
       "  <tbody>\n",
       "    <tr>\n",
       "      <th>Predicted Charged Off</th>\n",
       "      <td>42</td>\n",
       "      <td>0</td>\n",
       "      <td>2</td>\n",
       "      <td>0</td>\n",
       "      <td>0</td>\n",
       "      <td>0</td>\n",
       "    </tr>\n",
       "    <tr>\n",
       "      <th>Predicted Current</th>\n",
       "      <td>0</td>\n",
       "      <td>19739</td>\n",
       "      <td>0</td>\n",
       "      <td>77</td>\n",
       "      <td>37</td>\n",
       "      <td>18</td>\n",
       "    </tr>\n",
       "    <tr>\n",
       "      <th>Predicted Fully Paid</th>\n",
       "      <td>0</td>\n",
       "      <td>0</td>\n",
       "      <td>1261</td>\n",
       "      <td>0</td>\n",
       "      <td>0</td>\n",
       "      <td>0</td>\n",
       "    </tr>\n",
       "    <tr>\n",
       "      <th>Predicted In Grace Period</th>\n",
       "      <td>0</td>\n",
       "      <td>68</td>\n",
       "      <td>4</td>\n",
       "      <td>62</td>\n",
       "      <td>37</td>\n",
       "      <td>12</td>\n",
       "    </tr>\n",
       "    <tr>\n",
       "      <th>Predicted Late (16-30 days)</th>\n",
       "      <td>0</td>\n",
       "      <td>7</td>\n",
       "      <td>0</td>\n",
       "      <td>21</td>\n",
       "      <td>8</td>\n",
       "      <td>3</td>\n",
       "    </tr>\n",
       "    <tr>\n",
       "      <th>Late (31-120 days)</th>\n",
       "      <td>0</td>\n",
       "      <td>2</td>\n",
       "      <td>0</td>\n",
       "      <td>2</td>\n",
       "      <td>3</td>\n",
       "      <td>168</td>\n",
       "    </tr>\n",
       "  </tbody>\n",
       "</table>\n",
       "</div>"
      ],
      "text/plain": [
       "                             Charged Off  Current  Fully Paid  \\\n",
       "Predicted Charged Off                 42        0           2   \n",
       "Predicted Current                      0    19739           0   \n",
       "Predicted Fully Paid                   0        0        1261   \n",
       "Predicted In Grace Period              0       68           4   \n",
       "Predicted Late (16-30 days)            0        7           0   \n",
       "Late (31-120 days)                     0        2           0   \n",
       "\n",
       "                             In Grace Period  Late (16-30 days)  \\\n",
       "Predicted Charged Off                      0                  0   \n",
       "Predicted Current                         77                 37   \n",
       "Predicted Fully Paid                       0                  0   \n",
       "Predicted In Grace Period                 62                 37   \n",
       "Predicted Late (16-30 days)               21                  8   \n",
       "Late (31-120 days)                         2                  3   \n",
       "\n",
       "                             Late (31-120 days)  \n",
       "Predicted Charged Off                         0  \n",
       "Predicted Current                            18  \n",
       "Predicted Fully Paid                          0  \n",
       "Predicted In Grace Period                    12  \n",
       "Predicted Late (16-30 days)                   3  \n",
       "Late (31-120 days)                          168  "
      ]
     },
     "execution_count": 170,
     "metadata": {},
     "output_type": "execute_result"
    }
   ],
   "source": [
    "multi_class_performance(GBDT_best_clf, x_train_std, y_train, x_test_std, y_test)[2]"
   ]
  },
  {
   "cell_type": "markdown",
   "metadata": {},
   "source": [
    "## 5. Summary \n",
    "- 5.1 Feature conclusions\n",
    "- 5.2 Model Deployment\n",
    "\n",
    "### 5.1 Feature conclusions\n",
    "**Features' coefficients estimated by Logistic Regression:**\n",
    "- Positive Direction: As long as the difference between issue and last payment day, payment received to date for portion of total amount funded by investors, and principal received to date become larger, the higher probability that a loan applicant might not be default.\n",
    "\n",
    "<img height=\"200\" width=\"300\" src=\"2nd_LR_Positive.png\"> \n",
    "\n",
    "- Negative Direction: When the principal received to date, last total payment amount received, and the day difference between issue and last payment day become smaller, the higher probability that a loan applicant might not be default.\n",
    "\n",
    "<img height=\"200\" width=\"300\" src=\"2nd_LR_Negative.png\"> \n",
    "\n",
    "**Features' importances by Random Forest:**\n",
    "- Seven of the feature importances provided by Random Forest are overlapped with the results of feature importance by Logistic Regression. These top 10 features have a better prediction power compared with the rest of the features in Random Forest model.\n",
    "<img height=\"200\" width=\"300\" src=\"2nd_RF.png\">\n",
    "\n",
    "### 5.2 Model Deployment (Metric evaulations):\n",
    "For the Lending Club, it can decide a model deployment by a predefined objective. The objective here is the highest accuracy score across all levels of loan_status. The accuracy scores among three models are quite the same, we might want to use Logistic Regression as a favorable candidate since tree-based models need more time to fit.\n",
    "\n",
    "|Model | Accuracy (All labels) | \n",
    "| ---  | --- |\n",
    "| Logistic Regression (Datset I)| 0.9879 |\n",
    "| Random Forest (Datset I)| **0.9880** |\n",
    "| GBDT (Datset I)| 0.9866 |"
   ]
  },
  {
   "cell_type": "markdown",
   "metadata": {},
   "source": [
    "# Goal: Predict 3rd response feature, grade\n",
    "## Main Task\n",
    "1. Prepare the dataset \n",
    "2. Categorical Feature Transformation\n",
    "    - 2.1 One-hot encoding\n",
    "    - 2.2 Dummy features\n",
    "3. Data preprocessing\n",
    "    - 3.1 Split data into train and test sets\n",
    "    - 3.2 Standarize data\n",
    "4. Modeling\n",
    "    - 4.1 Logistic Regression\n",
    "        - 4.1.1 RandomizedSearchCV\n",
    "        - 4.1.2 Confusion Matrix - Logistic Regression\n",
    "        - 4.1.3 Features' coefficients by Logistic Regression\n",
    "    - 4.2 Random Forest \n",
    "        - 4.2.1 RandomizedSearchCV - Random Forest\n",
    "        - 4.2.2 Confusion Matrix - Random Forest\n",
    "        - 4.2.3 Feature importance by Random Forest\n",
    "    - 4.3 Gradient Boosting Decision Tree\n",
    "        - 4.3.1 RandomizedSearchCV - GBDT\n",
    "        - 4.3.2 Confusion Matrix - GBDT\n",
    "5. Summary \n",
    "    - 5.1. Feature explanations\n",
    "    - 5.2. Model Deployment"
   ]
  },
  {
   "cell_type": "markdown",
   "metadata": {},
   "source": [
    "## 1. Prepare the dataset"
   ]
  },
  {
   "cell_type": "code",
   "execution_count": 245,
   "metadata": {},
   "outputs": [],
   "source": [
    "# The first dataset is used for tree-based models\n",
    "# The second dataset is used for Logistic Regression\n",
    "# Uncomment it if need to use different datasets\n",
    "\n",
    "#loan = pd.read_csv(\"final_LC_loan.csv\")\n",
    "loan = pd.read_csv(\"LR_model_final_LC_loan.csv\")"
   ]
  },
  {
   "cell_type": "code",
   "execution_count": 246,
   "metadata": {
    "scrolled": true
   },
   "outputs": [],
   "source": [
    "no_other_response_loan = loan.drop(['loan_status', 'loan_status_binary', 'sub_grade', 'int_rate','grade'], axis = 1)\n",
    "y = loan.grade.values"
   ]
  },
  {
   "cell_type": "code",
   "execution_count": 247,
   "metadata": {},
   "outputs": [
    {
     "data": {
      "text/plain": [
       "array([0, 0, 1, ..., 1, 1, 2])"
      ]
     },
     "execution_count": 247,
     "metadata": {},
     "output_type": "execute_result"
    }
   ],
   "source": [
    "# One-hot encoding on y (grade)\n",
    "le = LabelEncoder()\n",
    "le_count = 0\n",
    "\n",
    "le.fit(y)\n",
    "y = le.transform(y)\n",
    "y"
   ]
  },
  {
   "cell_type": "markdown",
   "metadata": {},
   "source": [
    "## 2. Categorical Feature Transformation\n",
    "- 2.1 One-hot encoding\n",
    "- 2.2 Dummy features"
   ]
  },
  {
   "cell_type": "markdown",
   "metadata": {},
   "source": [
    "### 2.1 One-hot encoding"
   ]
  },
  {
   "cell_type": "code",
   "execution_count": 248,
   "metadata": {
    "scrolled": true
   },
   "outputs": [
    {
     "name": "stdout",
     "output_type": "stream",
     "text": [
      "term 0\n",
      "emp_length 0\n",
      "home_ownership 0\n",
      "verification_status 0\n",
      "purpose 0\n",
      "title 0\n",
      "initial_list_status 0\n",
      "application_type 0\n",
      "hardship_flag 0\n",
      "hardship_type 0\n",
      "hardship_reason 0\n",
      "hardship_status 0\n",
      "hardship_loan_status 0\n",
      "disbursement_method 0\n",
      "debt_settlement_flag 0\n",
      "settlement_status 0\n",
      "days_between_issue_payment_plan_start_date 0\n",
      "days_between_issue_hardship_start_date 0\n",
      "days_between_issue_hardship_end_date 0\n",
      "level_between_issue_settlement_date 0\n",
      "level_between_max_issue_sec_earliest_cr_line 0\n",
      "level_diff_last_issue_d 0\n",
      "level_diff_next_issue_d 0\n",
      "level_since_last_credit_pull 0\n",
      "T_unique_title 0\n",
      "level_since_issue 0\n",
      "level_between_max_issue_earliest_cr_line 0\n",
      "group_state 0\n"
     ]
    }
   ],
   "source": [
    "one_hot_column = []\n",
    "dummy_column = []\n",
    "\n",
    "for each in no_other_response_loan:\n",
    "    if no_other_response_loan[each].dtype == 'object':\n",
    "        print(each, no_other_response_loan[each].isnull().sum())\n",
    "        if len(no_other_response_loan[each].unique()) <= 2:\n",
    "            one_hot_column.append(each)\n",
    "        elif len(no_other_response_loan[each].unique()) > 2:\n",
    "            dummy_column.append(each)"
   ]
  },
  {
   "cell_type": "code",
   "execution_count": 249,
   "metadata": {},
   "outputs": [
    {
     "name": "stdout",
     "output_type": "stream",
     "text": [
      "term\n",
      "initial_list_status\n",
      "application_type\n",
      "hardship_flag\n",
      "hardship_type\n",
      "hardship_reason\n",
      "hardship_status\n",
      "hardship_loan_status\n",
      "disbursement_method\n",
      "debt_settlement_flag\n",
      "settlement_status\n",
      "days_between_issue_payment_plan_start_date\n",
      "days_between_issue_hardship_start_date\n",
      "days_between_issue_hardship_end_date\n",
      "14 columns were label encoded.\n"
     ]
    }
   ],
   "source": [
    "# One-hot encoding for categorical variables containing two levels\n",
    "le = LabelEncoder()\n",
    "le_count = 0\n",
    "\n",
    "for col in one_hot_column:\n",
    "    print(col)\n",
    "    le.fit(no_other_response_loan[col])\n",
    "    no_other_response_loan[col] = le.transform(no_other_response_loan[col])\n",
    "            \n",
    "    # Keep track of how many columns were label encoded\n",
    "    le_count += 1\n",
    "            \n",
    "print('%d columns were label encoded.' % le_count)"
   ]
  },
  {
   "cell_type": "markdown",
   "metadata": {},
   "source": [
    "### 2.2 Dummy features"
   ]
  },
  {
   "cell_type": "code",
   "execution_count": 250,
   "metadata": {},
   "outputs": [
    {
     "name": "stdout",
     "output_type": "stream",
     "text": [
      "emp_length 12\n",
      "home_ownership 4\n",
      "verification_status 3\n",
      "purpose 13\n",
      "title 12\n",
      "level_between_issue_settlement_date 5\n",
      "level_between_max_issue_sec_earliest_cr_line 11\n",
      "level_diff_last_issue_d 8\n",
      "level_diff_next_issue_d 6\n",
      "level_since_last_credit_pull 10\n",
      "T_unique_title 21\n",
      "level_since_issue 3\n",
      "level_between_max_issue_earliest_cr_line 10\n",
      "group_state 5\n",
      "In total: 109 will be additionally added.\n"
     ]
    }
   ],
   "source": [
    "# Create dummy features\n",
    "sum_len = 0\n",
    "for col in dummy_column:\n",
    "    sum_len += len(no_other_response_loan[col].unique())\n",
    "    print(col, len(no_other_response_loan[col].unique()))\n",
    "    \n",
    "print('In total:', sum_len - len(dummy_column), 'will be additionally added.')"
   ]
  },
  {
   "cell_type": "markdown",
   "metadata": {},
   "source": [
    "## 3. Data preprocessing"
   ]
  },
  {
   "cell_type": "markdown",
   "metadata": {},
   "source": [
    "### 3.1 Split data into train and test sets"
   ]
  },
  {
   "cell_type": "code",
   "execution_count": 251,
   "metadata": {},
   "outputs": [
    {
     "name": "stdout",
     "output_type": "stream",
     "text": [
      "(107864, 93)\n",
      "(107864,)\n"
     ]
    }
   ],
   "source": [
    "# Seperate features into x (independent features) and y (dependent feature)\n",
    "print(no_other_response_loan.shape)\n",
    "print(y.shape)"
   ]
  },
  {
   "cell_type": "code",
   "execution_count": 252,
   "metadata": {},
   "outputs": [
    {
     "name": "stdout",
     "output_type": "stream",
     "text": [
      "(107864, 202)\n"
     ]
    }
   ],
   "source": [
    "# 135 + 109 = 244, correct dummy feature transformation!\n",
    "x = pd.get_dummies(no_other_response_loan, columns = dummy_column)\n",
    "print(x.shape)"
   ]
  },
  {
   "cell_type": "code",
   "execution_count": 253,
   "metadata": {},
   "outputs": [],
   "source": [
    "# Split data into train and test (80% & 20%)\n",
    "x_train, x_test, y_train, y_test = train_test_split(x, y, \n",
    "                                                    test_size = 0.2, random_state = 1)"
   ]
  },
  {
   "cell_type": "markdown",
   "metadata": {},
   "source": [
    "### 3.2 Standarize data"
   ]
  },
  {
   "cell_type": "code",
   "execution_count": 254,
   "metadata": {},
   "outputs": [],
   "source": [
    "# Before modeling, standardize each feature\n",
    "from sklearn.preprocessing import StandardScaler\n",
    "\n",
    "scaler = StandardScaler()\n",
    "\n",
    "x_train_std = scaler.fit_transform(x_train)\n",
    "x_test_std = scaler.transform(x_test)"
   ]
  },
  {
   "cell_type": "code",
   "execution_count": 255,
   "metadata": {},
   "outputs": [
    {
     "name": "stdout",
     "output_type": "stream",
     "text": [
      "(86291, 202)\n",
      "(21573, 202)\n",
      "86291\n",
      "21573\n"
     ]
    }
   ],
   "source": [
    "print(x_train_std.shape)\n",
    "print(x_test_std.shape)\n",
    "print(len(y_train))\n",
    "print(len(y_test))"
   ]
  },
  {
   "cell_type": "markdown",
   "metadata": {},
   "source": [
    "## 4. Modeling\n",
    "- 4.1 Logistic Regression\n",
    "    - 4.1.1 RandomizedSearchCV\n",
    "    - 4.1.2 Confusion Matrix - Logistic Regression\n",
    "    - 4.1.3 Features' coefficients by Logistic Regression\n",
    "- 4.2 Random Forest \n",
    "    - 4.2.1 RandomizedSearchCV - Random Forest\n",
    "    - 4.2.2 Confusion Matrix - Random Forest\n",
    "    - 4.2.3 Feature importance by Random Forest\n",
    "- 4.3 Gradient Boosting Decision Tree\n",
    "    - 4.3.1 RandomizedSearchCV - GBDT\n",
    "    - 4.3.2 Confusion Matrix - GBDT"
   ]
  },
  {
   "cell_type": "markdown",
   "metadata": {},
   "source": [
    "### 4.1 Logistic Regression"
   ]
  },
  {
   "cell_type": "code",
   "execution_count": 39,
   "metadata": {},
   "outputs": [],
   "source": [
    "# It's a multiclassification problem\n",
    "# Need to change two parameters: multi_class & solver\n",
    "from sklearn.linear_model import LogisticRegression\n",
    "LR_multi_clf = LogisticRegression(C=1.0, penalty='l2', multi_class='multinomial', solver='newton-cg')"
   ]
  },
  {
   "cell_type": "code",
   "execution_count": 258,
   "metadata": {},
   "outputs": [],
   "source": [
    "# Define a function to compute accuracy scores for train and test datasets,\n",
    "# and produce a confusion matrix on the test dataset\n",
    "from sklearn.metrics import accuracy_score, precision_score, recall_score, f1_score\n",
    "\n",
    "def multi_class_performance(clf, X_train, y_train, X_test, y_test):\n",
    "    # Modeling fitting by the train dataset\n",
    "    clf.fit(X_train, y_train)\n",
    "    \n",
    "    # Compute accuracy scores for train and test datasets\n",
    "    accuracy_train = accuracy_score(y_train, clf.predict(X_train))\n",
    "    accuracy_test = accuracy_score(y_test, clf.predict(X_test))\n",
    "    \n",
    "    # Produce a multi-classification confusion matrix\n",
    "    LR_multi_confusion_matrix = pd.DataFrame({'True Grade A':confusion_matrix(y_test, clf.predict(X_test)).ravel()[0:7],\\\n",
    "                                          'True Grade B':confusion_matrix(y_test, clf.predict(X_test)).ravel()[7:14],\\\n",
    "                                          'True Grade C':confusion_matrix(y_test, clf.predict(X_test)).ravel()[14:21],\\\n",
    "                                          'True Grade D':confusion_matrix(y_test, clf.predict(X_test)).ravel()[21:28],\\\n",
    "                                          'True Grade E':confusion_matrix(y_test, clf.predict(X_test)).ravel()[28:35],\\\n",
    "                                          'True Grade F':confusion_matrix(y_test, clf.predict(X_test)).ravel()[35:42],\\\n",
    "                                          'True Grade G':confusion_matrix(y_test, clf.predict(X_test)).ravel()[42:49]\n",
    "                                             },index = ['Predicted Grade A', 'Predicted Grade B', 'Predicted Grade C',\n",
    "                                                   'Predicted Grade D', 'Predicted Grade E', 'Predicted Grade F',\n",
    "                                                   'Predicted Grade G'])    \n",
    "    # Final outputs\n",
    "    return accuracy_train, accuracy_test, LR_multi_confusion_matrix"
   ]
  },
  {
   "cell_type": "code",
   "execution_count": 41,
   "metadata": {},
   "outputs": [
    {
     "data": {
      "text/plain": [
       "(0.8025518304342284, 0.8009548973253604)"
      ]
     },
     "execution_count": 41,
     "metadata": {},
     "output_type": "execute_result"
    }
   ],
   "source": [
    "# Dataset I: (0.8025518304342284, 0.8009548973253604)\n",
    "# Dataset II: (0.7620377559652802, 0.7558058684466694)\n",
    "multi_class_performance(LR_multi_clf, x_train_std, y_train, x_test_std, y_test)[0:2]"
   ]
  },
  {
   "cell_type": "code",
   "execution_count": 42,
   "metadata": {},
   "outputs": [
    {
     "data": {
      "text/html": [
       "<div>\n",
       "<style scoped>\n",
       "    .dataframe tbody tr th:only-of-type {\n",
       "        vertical-align: middle;\n",
       "    }\n",
       "\n",
       "    .dataframe tbody tr th {\n",
       "        vertical-align: top;\n",
       "    }\n",
       "\n",
       "    .dataframe thead th {\n",
       "        text-align: right;\n",
       "    }\n",
       "</style>\n",
       "<table border=\"1\" class=\"dataframe\">\n",
       "  <thead>\n",
       "    <tr style=\"text-align: right;\">\n",
       "      <th></th>\n",
       "      <th>True Grade A</th>\n",
       "      <th>True Grade B</th>\n",
       "      <th>True Grade C</th>\n",
       "      <th>True Grade D</th>\n",
       "      <th>True Grade E</th>\n",
       "      <th>True Grade F</th>\n",
       "      <th>True Grade G</th>\n",
       "    </tr>\n",
       "  </thead>\n",
       "  <tbody>\n",
       "    <tr>\n",
       "      <th>Predicted Grade A</th>\n",
       "      <td>4789</td>\n",
       "      <td>577</td>\n",
       "      <td>58</td>\n",
       "      <td>9</td>\n",
       "      <td>1</td>\n",
       "      <td>0</td>\n",
       "      <td>0</td>\n",
       "    </tr>\n",
       "    <tr>\n",
       "      <th>Predicted Grade B</th>\n",
       "      <td>538</td>\n",
       "      <td>5138</td>\n",
       "      <td>949</td>\n",
       "      <td>84</td>\n",
       "      <td>2</td>\n",
       "      <td>0</td>\n",
       "      <td>0</td>\n",
       "    </tr>\n",
       "    <tr>\n",
       "      <th>Predicted Grade C</th>\n",
       "      <td>18</td>\n",
       "      <td>782</td>\n",
       "      <td>4482</td>\n",
       "      <td>591</td>\n",
       "      <td>39</td>\n",
       "      <td>1</td>\n",
       "      <td>0</td>\n",
       "    </tr>\n",
       "    <tr>\n",
       "      <th>Predicted Grade D</th>\n",
       "      <td>7</td>\n",
       "      <td>28</td>\n",
       "      <td>272</td>\n",
       "      <td>2329</td>\n",
       "      <td>176</td>\n",
       "      <td>4</td>\n",
       "      <td>2</td>\n",
       "    </tr>\n",
       "    <tr>\n",
       "      <th>Predicted Grade E</th>\n",
       "      <td>1</td>\n",
       "      <td>1</td>\n",
       "      <td>1</td>\n",
       "      <td>56</td>\n",
       "      <td>474</td>\n",
       "      <td>59</td>\n",
       "      <td>3</td>\n",
       "    </tr>\n",
       "    <tr>\n",
       "      <th>Predicted Grade F</th>\n",
       "      <td>0</td>\n",
       "      <td>0</td>\n",
       "      <td>0</td>\n",
       "      <td>2</td>\n",
       "      <td>15</td>\n",
       "      <td>66</td>\n",
       "      <td>15</td>\n",
       "    </tr>\n",
       "    <tr>\n",
       "      <th>Predicted Grade G</th>\n",
       "      <td>0</td>\n",
       "      <td>0</td>\n",
       "      <td>0</td>\n",
       "      <td>0</td>\n",
       "      <td>3</td>\n",
       "      <td>0</td>\n",
       "      <td>1</td>\n",
       "    </tr>\n",
       "  </tbody>\n",
       "</table>\n",
       "</div>"
      ],
      "text/plain": [
       "                   True Grade A  True Grade B  True Grade C  True Grade D  \\\n",
       "Predicted Grade A          4789           577            58             9   \n",
       "Predicted Grade B           538          5138           949            84   \n",
       "Predicted Grade C            18           782          4482           591   \n",
       "Predicted Grade D             7            28           272          2329   \n",
       "Predicted Grade E             1             1             1            56   \n",
       "Predicted Grade F             0             0             0             2   \n",
       "Predicted Grade G             0             0             0             0   \n",
       "\n",
       "                   True Grade E  True Grade F  True Grade G  \n",
       "Predicted Grade A             1             0             0  \n",
       "Predicted Grade B             2             0             0  \n",
       "Predicted Grade C            39             1             0  \n",
       "Predicted Grade D           176             4             2  \n",
       "Predicted Grade E           474            59             3  \n",
       "Predicted Grade F            15            66            15  \n",
       "Predicted Grade G             3             0             1  "
      ]
     },
     "execution_count": 42,
     "metadata": {},
     "output_type": "execute_result"
    }
   ],
   "source": [
    "# The cells located at the diagonal line are the number of labels predicted correctly\n",
    "multi_class_performance(LR_multi_clf, x_train_std, y_train, x_test_std, y_test)[2]"
   ]
  },
  {
   "cell_type": "markdown",
   "metadata": {},
   "source": [
    "#### 4.1.1 RandomizedSearchCV - Logistic Regression"
   ]
  },
  {
   "cell_type": "code",
   "execution_count": 43,
   "metadata": {},
   "outputs": [],
   "source": [
    "from sklearn.model_selection import RandomizedSearchCV"
   ]
  },
  {
   "cell_type": "code",
   "execution_count": 51,
   "metadata": {},
   "outputs": [
    {
     "name": "stderr",
     "output_type": "stream",
     "text": [
      "/Users/wuchenhong/.local/lib/python3.6/site-packages/scipy/optimize/linesearch.py:313: LineSearchWarning: The line search algorithm did not converge\n",
      "  warn('The line search algorithm did not converge', LineSearchWarning)\n",
      "/Users/wuchenhong/anaconda3/lib/python3.6/site-packages/sklearn/utils/optimize.py:195: UserWarning: Line Search failed\n",
      "  warnings.warn('Line Search failed')\n"
     ]
    },
    {
     "name": "stdout",
     "output_type": "stream",
     "text": [
      "execution time 5811.358396053314\n"
     ]
    }
   ],
   "source": [
    "# Record the randomized grid searching time\n",
    "start_time = time.time()\n",
    "\n",
    "# Initiate the Logistic Regression Classifier\n",
    "LR_clf = LogisticRegression()\n",
    "\n",
    "# Construct ranges for each parameter \n",
    "param_grid = {'multi_class':['multinomial'],\n",
    "              'solver':['newton-cg'],\n",
    "              'penalty': ['l2'],\n",
    "              'C': [i * 0.01 for i in range(1, 101)],\n",
    "              'tol': [1e-3,1e-4,1e-5],\n",
    "              'max_iter':[100]\n",
    "             }\n",
    "\n",
    "# Due to time constraint, do the randomized grid searching 10 times \n",
    "# Find the optimal combination of parameters such that the highest accuracy score attained\n",
    "grid_obj = RandomizedSearchCV(LR_clf, param_distributions=param_grid, cv=5, scoring='accuracy',\n",
    "                              n_iter = 10)\n",
    "grid_obj.fit(x_train_std, y_train)\n",
    "\n",
    "print('execution time', time.time() - start_time)"
   ]
  },
  {
   "cell_type": "code",
   "execution_count": 52,
   "metadata": {},
   "outputs": [
    {
     "data": {
      "text/plain": [
       "LogisticRegression(C=0.97, class_weight=None, dual=False, fit_intercept=True,\n",
       "          intercept_scaling=1, max_iter=100, multi_class='multinomial',\n",
       "          n_jobs=1, penalty='l2', random_state=None, solver='newton-cg',\n",
       "          tol=1e-05, verbose=0, warm_start=False)"
      ]
     },
     "execution_count": 52,
     "metadata": {},
     "output_type": "execute_result"
    }
   ],
   "source": [
    "# Call back the optimal combination of parameters \n",
    "LR_best_clf = grid_obj.best_estimator_\n",
    "LR_best_clf"
   ]
  },
  {
   "cell_type": "code",
   "execution_count": 57,
   "metadata": {},
   "outputs": [],
   "source": [
    "grid_search_result = pd.DataFrame({'rank': grid_obj.cv_results_['rank_test_score'].tolist(),\n",
    "                                   'params': grid_obj.cv_results_['params'],\n",
    "                                   'mean_test_score': grid_obj.cv_results_['mean_test_score'],\n",
    "                                   'mean_train_score': grid_obj.cv_results_['mean_train_score'],\n",
    "                                   'std_test_score': grid_obj.cv_results_['std_test_score'],\n",
    "                                   'std_train_score': grid_obj.cv_results_['std_train_score']\n",
    "                                  })"
   ]
  },
  {
   "cell_type": "code",
   "execution_count": 58,
   "metadata": {},
   "outputs": [
    {
     "data": {
      "text/html": [
       "<div>\n",
       "<style scoped>\n",
       "    .dataframe tbody tr th:only-of-type {\n",
       "        vertical-align: middle;\n",
       "    }\n",
       "\n",
       "    .dataframe tbody tr th {\n",
       "        vertical-align: top;\n",
       "    }\n",
       "\n",
       "    .dataframe thead th {\n",
       "        text-align: right;\n",
       "    }\n",
       "</style>\n",
       "<table border=\"1\" class=\"dataframe\">\n",
       "  <thead>\n",
       "    <tr style=\"text-align: right;\">\n",
       "      <th></th>\n",
       "      <th>rank</th>\n",
       "      <th>params</th>\n",
       "      <th>mean_test_score</th>\n",
       "      <th>mean_train_score</th>\n",
       "      <th>std_test_score</th>\n",
       "      <th>std_train_score</th>\n",
       "    </tr>\n",
       "  </thead>\n",
       "  <tbody>\n",
       "    <tr>\n",
       "      <th>0</th>\n",
       "      <td>6</td>\n",
       "      <td>{'tol': 0.001, 'solver': 'newton-cg', 'penalty...</td>\n",
       "      <td>0.787579</td>\n",
       "      <td>0.792496</td>\n",
       "      <td>0.004184</td>\n",
       "      <td>0.000976</td>\n",
       "    </tr>\n",
       "    <tr>\n",
       "      <th>1</th>\n",
       "      <td>1</td>\n",
       "      <td>{'tol': 1e-05, 'solver': 'newton-cg', 'penalty...</td>\n",
       "      <td>0.796978</td>\n",
       "      <td>0.801512</td>\n",
       "      <td>0.003201</td>\n",
       "      <td>0.000824</td>\n",
       "    </tr>\n",
       "    <tr>\n",
       "      <th>2</th>\n",
       "      <td>2</td>\n",
       "      <td>{'tol': 1e-05, 'solver': 'newton-cg', 'penalty...</td>\n",
       "      <td>0.796201</td>\n",
       "      <td>0.800782</td>\n",
       "      <td>0.003511</td>\n",
       "      <td>0.000892</td>\n",
       "    </tr>\n",
       "    <tr>\n",
       "      <th>3</th>\n",
       "      <td>9</td>\n",
       "      <td>{'tol': 0.001, 'solver': 'newton-cg', 'penalty...</td>\n",
       "      <td>0.773232</td>\n",
       "      <td>0.778392</td>\n",
       "      <td>0.003578</td>\n",
       "      <td>0.000823</td>\n",
       "    </tr>\n",
       "    <tr>\n",
       "      <th>4</th>\n",
       "      <td>8</td>\n",
       "      <td>{'tol': 0.001, 'solver': 'newton-cg', 'penalty...</td>\n",
       "      <td>0.781484</td>\n",
       "      <td>0.787391</td>\n",
       "      <td>0.004004</td>\n",
       "      <td>0.000991</td>\n",
       "    </tr>\n",
       "    <tr>\n",
       "      <th>5</th>\n",
       "      <td>4</td>\n",
       "      <td>{'tol': 0.001, 'solver': 'newton-cg', 'penalty...</td>\n",
       "      <td>0.794544</td>\n",
       "      <td>0.799272</td>\n",
       "      <td>0.003547</td>\n",
       "      <td>0.000962</td>\n",
       "    </tr>\n",
       "    <tr>\n",
       "      <th>6</th>\n",
       "      <td>10</td>\n",
       "      <td>{'tol': 1e-05, 'solver': 'newton-cg', 'penalty...</td>\n",
       "      <td>0.767589</td>\n",
       "      <td>0.772798</td>\n",
       "      <td>0.003474</td>\n",
       "      <td>0.000566</td>\n",
       "    </tr>\n",
       "    <tr>\n",
       "      <th>7</th>\n",
       "      <td>5</td>\n",
       "      <td>{'tol': 1e-05, 'solver': 'newton-cg', 'penalty...</td>\n",
       "      <td>0.790372</td>\n",
       "      <td>0.795115</td>\n",
       "      <td>0.003559</td>\n",
       "      <td>0.001059</td>\n",
       "    </tr>\n",
       "    <tr>\n",
       "      <th>8</th>\n",
       "      <td>7</td>\n",
       "      <td>{'tol': 0.0001, 'solver': 'newton-cg', 'penalt...</td>\n",
       "      <td>0.781982</td>\n",
       "      <td>0.787918</td>\n",
       "      <td>0.003987</td>\n",
       "      <td>0.000971</td>\n",
       "    </tr>\n",
       "    <tr>\n",
       "      <th>9</th>\n",
       "      <td>3</td>\n",
       "      <td>{'tol': 1e-05, 'solver': 'newton-cg', 'penalty...</td>\n",
       "      <td>0.795517</td>\n",
       "      <td>0.800057</td>\n",
       "      <td>0.003397</td>\n",
       "      <td>0.000972</td>\n",
       "    </tr>\n",
       "  </tbody>\n",
       "</table>\n",
       "</div>"
      ],
      "text/plain": [
       "   rank                                             params  mean_test_score  \\\n",
       "0     6  {'tol': 0.001, 'solver': 'newton-cg', 'penalty...         0.787579   \n",
       "1     1  {'tol': 1e-05, 'solver': 'newton-cg', 'penalty...         0.796978   \n",
       "2     2  {'tol': 1e-05, 'solver': 'newton-cg', 'penalty...         0.796201   \n",
       "3     9  {'tol': 0.001, 'solver': 'newton-cg', 'penalty...         0.773232   \n",
       "4     8  {'tol': 0.001, 'solver': 'newton-cg', 'penalty...         0.781484   \n",
       "5     4  {'tol': 0.001, 'solver': 'newton-cg', 'penalty...         0.794544   \n",
       "6    10  {'tol': 1e-05, 'solver': 'newton-cg', 'penalty...         0.767589   \n",
       "7     5  {'tol': 1e-05, 'solver': 'newton-cg', 'penalty...         0.790372   \n",
       "8     7  {'tol': 0.0001, 'solver': 'newton-cg', 'penalt...         0.781982   \n",
       "9     3  {'tol': 1e-05, 'solver': 'newton-cg', 'penalty...         0.795517   \n",
       "\n",
       "   mean_train_score  std_test_score  std_train_score  \n",
       "0          0.792496        0.004184         0.000976  \n",
       "1          0.801512        0.003201         0.000824  \n",
       "2          0.800782        0.003511         0.000892  \n",
       "3          0.778392        0.003578         0.000823  \n",
       "4          0.787391        0.004004         0.000991  \n",
       "5          0.799272        0.003547         0.000962  \n",
       "6          0.772798        0.003474         0.000566  \n",
       "7          0.795115        0.003559         0.001059  \n",
       "8          0.787918        0.003987         0.000971  \n",
       "9          0.800057        0.003397         0.000972  "
      ]
     },
     "execution_count": 58,
     "metadata": {},
     "output_type": "execute_result"
    }
   ],
   "source": [
    "# Look at the 'fluctuations' among folds\n",
    "# When fit the Logistic Regression with the best combination of parameters\n",
    "# The standard deviation of train scores among five folds is steady: 0.003201\n",
    "# The standard deviation of test scores among five folds is steady: 0.000824\n",
    "grid_search_result"
   ]
  },
  {
   "cell_type": "markdown",
   "metadata": {},
   "source": [
    "#### 4.1.2 Confusion Matrix - Logistic Regression"
   ]
  },
  {
   "cell_type": "code",
   "execution_count": 256,
   "metadata": {},
   "outputs": [],
   "source": [
    "LR_best_clf = LogisticRegression(C=0.97, multi_class='multinomial', penalty='l2', \n",
    "                                 solver='newton-cg', tol=1e-05)"
   ]
  },
  {
   "cell_type": "code",
   "execution_count": 259,
   "metadata": {},
   "outputs": [
    {
     "data": {
      "text/plain": [
       "(0.8022852904706169, 0.8006767718907895)"
      ]
     },
     "execution_count": 259,
     "metadata": {},
     "output_type": "execute_result"
    }
   ],
   "source": [
    "# Accuracy scores\n",
    "# Train: 0.8023\n",
    "# Test: 0.8007\n",
    "multi_class_performance(LR_best_clf, x_train_std, y_train, x_test_std, y_test)[0:2]"
   ]
  },
  {
   "cell_type": "code",
   "execution_count": 260,
   "metadata": {},
   "outputs": [
    {
     "data": {
      "text/html": [
       "<div>\n",
       "<style scoped>\n",
       "    .dataframe tbody tr th:only-of-type {\n",
       "        vertical-align: middle;\n",
       "    }\n",
       "\n",
       "    .dataframe tbody tr th {\n",
       "        vertical-align: top;\n",
       "    }\n",
       "\n",
       "    .dataframe thead th {\n",
       "        text-align: right;\n",
       "    }\n",
       "</style>\n",
       "<table border=\"1\" class=\"dataframe\">\n",
       "  <thead>\n",
       "    <tr style=\"text-align: right;\">\n",
       "      <th></th>\n",
       "      <th>True Grade A</th>\n",
       "      <th>True Grade B</th>\n",
       "      <th>True Grade C</th>\n",
       "      <th>True Grade D</th>\n",
       "      <th>True Grade E</th>\n",
       "      <th>True Grade F</th>\n",
       "      <th>True Grade G</th>\n",
       "    </tr>\n",
       "  </thead>\n",
       "  <tbody>\n",
       "    <tr>\n",
       "      <th>Predicted Grade A</th>\n",
       "      <td>4789</td>\n",
       "      <td>577</td>\n",
       "      <td>58</td>\n",
       "      <td>9</td>\n",
       "      <td>1</td>\n",
       "      <td>0</td>\n",
       "      <td>0</td>\n",
       "    </tr>\n",
       "    <tr>\n",
       "      <th>Predicted Grade B</th>\n",
       "      <td>538</td>\n",
       "      <td>5137</td>\n",
       "      <td>949</td>\n",
       "      <td>84</td>\n",
       "      <td>2</td>\n",
       "      <td>0</td>\n",
       "      <td>0</td>\n",
       "    </tr>\n",
       "    <tr>\n",
       "      <th>Predicted Grade C</th>\n",
       "      <td>18</td>\n",
       "      <td>783</td>\n",
       "      <td>4482</td>\n",
       "      <td>591</td>\n",
       "      <td>39</td>\n",
       "      <td>1</td>\n",
       "      <td>0</td>\n",
       "    </tr>\n",
       "    <tr>\n",
       "      <th>Predicted Grade D</th>\n",
       "      <td>7</td>\n",
       "      <td>28</td>\n",
       "      <td>272</td>\n",
       "      <td>2329</td>\n",
       "      <td>180</td>\n",
       "      <td>4</td>\n",
       "      <td>2</td>\n",
       "    </tr>\n",
       "    <tr>\n",
       "      <th>Predicted Grade E</th>\n",
       "      <td>1</td>\n",
       "      <td>1</td>\n",
       "      <td>1</td>\n",
       "      <td>56</td>\n",
       "      <td>470</td>\n",
       "      <td>60</td>\n",
       "      <td>3</td>\n",
       "    </tr>\n",
       "    <tr>\n",
       "      <th>Predicted Grade F</th>\n",
       "      <td>0</td>\n",
       "      <td>0</td>\n",
       "      <td>0</td>\n",
       "      <td>2</td>\n",
       "      <td>15</td>\n",
       "      <td>65</td>\n",
       "      <td>15</td>\n",
       "    </tr>\n",
       "    <tr>\n",
       "      <th>Predicted Grade G</th>\n",
       "      <td>0</td>\n",
       "      <td>0</td>\n",
       "      <td>0</td>\n",
       "      <td>0</td>\n",
       "      <td>3</td>\n",
       "      <td>0</td>\n",
       "      <td>1</td>\n",
       "    </tr>\n",
       "  </tbody>\n",
       "</table>\n",
       "</div>"
      ],
      "text/plain": [
       "                   True Grade A  True Grade B  True Grade C  True Grade D  \\\n",
       "Predicted Grade A          4789           577            58             9   \n",
       "Predicted Grade B           538          5137           949            84   \n",
       "Predicted Grade C            18           783          4482           591   \n",
       "Predicted Grade D             7            28           272          2329   \n",
       "Predicted Grade E             1             1             1            56   \n",
       "Predicted Grade F             0             0             0             2   \n",
       "Predicted Grade G             0             0             0             0   \n",
       "\n",
       "                   True Grade E  True Grade F  True Grade G  \n",
       "Predicted Grade A             1             0             0  \n",
       "Predicted Grade B             2             0             0  \n",
       "Predicted Grade C            39             1             0  \n",
       "Predicted Grade D           180             4             2  \n",
       "Predicted Grade E           470            60             3  \n",
       "Predicted Grade F            15            65            15  \n",
       "Predicted Grade G             3             0             1  "
      ]
     },
     "execution_count": 260,
     "metadata": {},
     "output_type": "execute_result"
    }
   ],
   "source": [
    "# The cells located at the diagonal line are the number of labels predicted correctly\n",
    "multi_class_performance(LR_best_clf, x_train_std, y_train, x_test_std, y_test)[2]"
   ]
  },
  {
   "cell_type": "markdown",
   "metadata": {},
   "source": [
    "#### 4.1.3 Features' coefficients by Logistic Regression"
   ]
  },
  {
   "cell_type": "code",
   "execution_count": 261,
   "metadata": {},
   "outputs": [
    {
     "data": {
      "text/html": [
       "<div>\n",
       "<style scoped>\n",
       "    .dataframe tbody tr th:only-of-type {\n",
       "        vertical-align: middle;\n",
       "    }\n",
       "\n",
       "    .dataframe tbody tr th {\n",
       "        vertical-align: top;\n",
       "    }\n",
       "\n",
       "    .dataframe thead th {\n",
       "        text-align: right;\n",
       "    }\n",
       "</style>\n",
       "<table border=\"1\" class=\"dataframe\">\n",
       "  <thead>\n",
       "    <tr style=\"text-align: right;\">\n",
       "      <th></th>\n",
       "      <th>feature</th>\n",
       "      <th>coeff</th>\n",
       "    </tr>\n",
       "  </thead>\n",
       "  <tbody>\n",
       "    <tr>\n",
       "      <th>17</th>\n",
       "      <td>total_rec_prncp</td>\n",
       "      <td>13.640452</td>\n",
       "    </tr>\n",
       "    <tr>\n",
       "      <th>2</th>\n",
       "      <td>funded_amnt_inv</td>\n",
       "      <td>8.029244</td>\n",
       "    </tr>\n",
       "    <tr>\n",
       "      <th>0</th>\n",
       "      <td>loan_amnt</td>\n",
       "      <td>6.726443</td>\n",
       "    </tr>\n",
       "    <tr>\n",
       "      <th>1</th>\n",
       "      <td>funded_amnt</td>\n",
       "      <td>6.726443</td>\n",
       "    </tr>\n",
       "    <tr>\n",
       "      <th>14</th>\n",
       "      <td>out_prncp_inv</td>\n",
       "      <td>3.749971</td>\n",
       "    </tr>\n",
       "    <tr>\n",
       "      <th>13</th>\n",
       "      <td>out_prncp</td>\n",
       "      <td>2.778461</td>\n",
       "    </tr>\n",
       "    <tr>\n",
       "      <th>75</th>\n",
       "      <td>numeric_diff_last_issue_d</td>\n",
       "      <td>1.547995</td>\n",
       "    </tr>\n",
       "    <tr>\n",
       "      <th>56</th>\n",
       "      <td>num_sats</td>\n",
       "      <td>1.112301</td>\n",
       "    </tr>\n",
       "    <tr>\n",
       "      <th>33</th>\n",
       "      <td>total_rev_hi_lim</td>\n",
       "      <td>0.945604</td>\n",
       "    </tr>\n",
       "    <tr>\n",
       "      <th>63</th>\n",
       "      <td>total_il_high_credit_limit</td>\n",
       "      <td>0.726202</td>\n",
       "    </tr>\n",
       "  </tbody>\n",
       "</table>\n",
       "</div>"
      ],
      "text/plain": [
       "                       feature      coeff\n",
       "17             total_rec_prncp  13.640452\n",
       "2              funded_amnt_inv   8.029244\n",
       "0                    loan_amnt   6.726443\n",
       "1                  funded_amnt   6.726443\n",
       "14               out_prncp_inv   3.749971\n",
       "13                   out_prncp   2.778461\n",
       "75   numeric_diff_last_issue_d   1.547995\n",
       "56                    num_sats   1.112301\n",
       "33            total_rev_hi_lim   0.945604\n",
       "63  total_il_high_credit_limit   0.726202"
      ]
     },
     "execution_count": 261,
     "metadata": {},
     "output_type": "execute_result"
    }
   ],
   "source": [
    "# Positive Direction\n",
    "df_coeffs = pd.DataFrame(list(zip(x.columns, LR_best_clf.coef_.flatten()))).sort_values(by=[1], ascending=False)\n",
    "df_coeffs.columns = ['feature', 'coeff']\n",
    "df_coeffs.head(10)"
   ]
  },
  {
   "cell_type": "code",
   "execution_count": 262,
   "metadata": {},
   "outputs": [
    {
     "data": {
      "text/html": [
       "<div>\n",
       "<style scoped>\n",
       "    .dataframe tbody tr th:only-of-type {\n",
       "        vertical-align: middle;\n",
       "    }\n",
       "\n",
       "    .dataframe tbody tr th {\n",
       "        vertical-align: top;\n",
       "    }\n",
       "\n",
       "    .dataframe thead th {\n",
       "        text-align: right;\n",
       "    }\n",
       "</style>\n",
       "<table border=\"1\" class=\"dataframe\">\n",
       "  <thead>\n",
       "    <tr style=\"text-align: right;\">\n",
       "      <th></th>\n",
       "      <th>feature</th>\n",
       "      <th>coeff</th>\n",
       "    </tr>\n",
       "  </thead>\n",
       "  <tbody>\n",
       "    <tr>\n",
       "      <th>18</th>\n",
       "      <td>total_rec_int</td>\n",
       "      <td>-15.586612</td>\n",
       "    </tr>\n",
       "    <tr>\n",
       "      <th>4</th>\n",
       "      <td>installment</td>\n",
       "      <td>-15.462765</td>\n",
       "    </tr>\n",
       "    <tr>\n",
       "      <th>15</th>\n",
       "      <td>total_pymnt</td>\n",
       "      <td>-5.370287</td>\n",
       "    </tr>\n",
       "    <tr>\n",
       "      <th>3</th>\n",
       "      <td>term</td>\n",
       "      <td>-5.069826</td>\n",
       "    </tr>\n",
       "    <tr>\n",
       "      <th>16</th>\n",
       "      <td>total_pymnt_inv</td>\n",
       "      <td>-4.036979</td>\n",
       "    </tr>\n",
       "    <tr>\n",
       "      <th>19</th>\n",
       "      <td>last_pymnt_amnt</td>\n",
       "      <td>-1.680903</td>\n",
       "    </tr>\n",
       "    <tr>\n",
       "      <th>21</th>\n",
       "      <td>tot_cur_bal</td>\n",
       "      <td>-0.809103</td>\n",
       "    </tr>\n",
       "    <tr>\n",
       "      <th>8</th>\n",
       "      <td>open_acc</td>\n",
       "      <td>-0.796691</td>\n",
       "    </tr>\n",
       "    <tr>\n",
       "      <th>139</th>\n",
       "      <td>level_diff_last_issue_d_0 difference</td>\n",
       "      <td>-0.751747</td>\n",
       "    </tr>\n",
       "    <tr>\n",
       "      <th>140</th>\n",
       "      <td>level_diff_last_issue_d_1 month difference</td>\n",
       "      <td>-0.737100</td>\n",
       "    </tr>\n",
       "  </tbody>\n",
       "</table>\n",
       "</div>"
      ],
      "text/plain": [
       "                                        feature      coeff\n",
       "18                                total_rec_int -15.586612\n",
       "4                                   installment -15.462765\n",
       "15                                  total_pymnt  -5.370287\n",
       "3                                          term  -5.069826\n",
       "16                              total_pymnt_inv  -4.036979\n",
       "19                              last_pymnt_amnt  -1.680903\n",
       "21                                  tot_cur_bal  -0.809103\n",
       "8                                      open_acc  -0.796691\n",
       "139        level_diff_last_issue_d_0 difference  -0.751747\n",
       "140  level_diff_last_issue_d_1 month difference  -0.737100"
      ]
     },
     "execution_count": 262,
     "metadata": {},
     "output_type": "execute_result"
    }
   ],
   "source": [
    "# Negative Direction\n",
    "df_coeffs = pd.DataFrame(list(zip(x.columns, LR_best_clf.coef_.flatten()))).sort_values(by=[1], ascending=True)\n",
    "df_coeffs.columns = ['feature', 'coeff']\n",
    "df_coeffs.head(10)"
   ]
  },
  {
   "cell_type": "markdown",
   "metadata": {},
   "source": [
    "### 4.2 Random Forest"
   ]
  },
  {
   "cell_type": "code",
   "execution_count": 90,
   "metadata": {},
   "outputs": [],
   "source": [
    "from sklearn.ensemble import RandomForestClassifier\n",
    "\n",
    "start_time = time.time()\n",
    "RF_clf = RandomForestClassifier(n_estimators = 100, max_depth = 25, min_samples_leaf = 5, random_state = 0)"
   ]
  },
  {
   "cell_type": "code",
   "execution_count": 91,
   "metadata": {},
   "outputs": [
    {
     "data": {
      "text/plain": [
       "(0.9657785864110974, 0.7567329532285727)"
      ]
     },
     "execution_count": 91,
     "metadata": {},
     "output_type": "execute_result"
    }
   ],
   "source": [
    "# Dataset I: (0.9638085084191862, 0.734065730311037)\n",
    "# Dataset II: (0.9657785864110974, 0.7567329532285727)\n",
    "multi_class_performance(RF_clf, x_train_std, y_train, x_test_std, y_test)[0:2]"
   ]
  },
  {
   "cell_type": "code",
   "execution_count": 92,
   "metadata": {},
   "outputs": [
    {
     "data": {
      "text/html": [
       "<div>\n",
       "<style scoped>\n",
       "    .dataframe tbody tr th:only-of-type {\n",
       "        vertical-align: middle;\n",
       "    }\n",
       "\n",
       "    .dataframe tbody tr th {\n",
       "        vertical-align: top;\n",
       "    }\n",
       "\n",
       "    .dataframe thead th {\n",
       "        text-align: right;\n",
       "    }\n",
       "</style>\n",
       "<table border=\"1\" class=\"dataframe\">\n",
       "  <thead>\n",
       "    <tr style=\"text-align: right;\">\n",
       "      <th></th>\n",
       "      <th>True Grade A</th>\n",
       "      <th>True Grade B</th>\n",
       "      <th>True Grade C</th>\n",
       "      <th>True Grade D</th>\n",
       "      <th>True Grade E</th>\n",
       "      <th>True Grade F</th>\n",
       "      <th>True Grade G</th>\n",
       "    </tr>\n",
       "  </thead>\n",
       "  <tbody>\n",
       "    <tr>\n",
       "      <th>Predicted Grade A</th>\n",
       "      <td>4671</td>\n",
       "      <td>595</td>\n",
       "      <td>101</td>\n",
       "      <td>25</td>\n",
       "      <td>3</td>\n",
       "      <td>0</td>\n",
       "      <td>0</td>\n",
       "    </tr>\n",
       "    <tr>\n",
       "      <th>Predicted Grade B</th>\n",
       "      <td>667</td>\n",
       "      <td>5370</td>\n",
       "      <td>1069</td>\n",
       "      <td>222</td>\n",
       "      <td>25</td>\n",
       "      <td>0</td>\n",
       "      <td>0</td>\n",
       "    </tr>\n",
       "    <tr>\n",
       "      <th>Predicted Grade C</th>\n",
       "      <td>15</td>\n",
       "      <td>558</td>\n",
       "      <td>4558</td>\n",
       "      <td>1194</td>\n",
       "      <td>149</td>\n",
       "      <td>12</td>\n",
       "      <td>4</td>\n",
       "    </tr>\n",
       "    <tr>\n",
       "      <th>Predicted Grade D</th>\n",
       "      <td>0</td>\n",
       "      <td>3</td>\n",
       "      <td>34</td>\n",
       "      <td>1630</td>\n",
       "      <td>437</td>\n",
       "      <td>78</td>\n",
       "      <td>14</td>\n",
       "    </tr>\n",
       "    <tr>\n",
       "      <th>Predicted Grade E</th>\n",
       "      <td>0</td>\n",
       "      <td>0</td>\n",
       "      <td>0</td>\n",
       "      <td>0</td>\n",
       "      <td>96</td>\n",
       "      <td>40</td>\n",
       "      <td>3</td>\n",
       "    </tr>\n",
       "    <tr>\n",
       "      <th>Predicted Grade F</th>\n",
       "      <td>0</td>\n",
       "      <td>0</td>\n",
       "      <td>0</td>\n",
       "      <td>0</td>\n",
       "      <td>0</td>\n",
       "      <td>0</td>\n",
       "      <td>0</td>\n",
       "    </tr>\n",
       "    <tr>\n",
       "      <th>Predicted Grade G</th>\n",
       "      <td>0</td>\n",
       "      <td>0</td>\n",
       "      <td>0</td>\n",
       "      <td>0</td>\n",
       "      <td>0</td>\n",
       "      <td>0</td>\n",
       "      <td>0</td>\n",
       "    </tr>\n",
       "  </tbody>\n",
       "</table>\n",
       "</div>"
      ],
      "text/plain": [
       "                   True Grade A  True Grade B  True Grade C  True Grade D  \\\n",
       "Predicted Grade A          4671           595           101            25   \n",
       "Predicted Grade B           667          5370          1069           222   \n",
       "Predicted Grade C            15           558          4558          1194   \n",
       "Predicted Grade D             0             3            34          1630   \n",
       "Predicted Grade E             0             0             0             0   \n",
       "Predicted Grade F             0             0             0             0   \n",
       "Predicted Grade G             0             0             0             0   \n",
       "\n",
       "                   True Grade E  True Grade F  True Grade G  \n",
       "Predicted Grade A             3             0             0  \n",
       "Predicted Grade B            25             0             0  \n",
       "Predicted Grade C           149            12             4  \n",
       "Predicted Grade D           437            78            14  \n",
       "Predicted Grade E            96            40             3  \n",
       "Predicted Grade F             0             0             0  \n",
       "Predicted Grade G             0             0             0  "
      ]
     },
     "execution_count": 92,
     "metadata": {},
     "output_type": "execute_result"
    }
   ],
   "source": [
    "# The cells located at the diagonal line are the number of labels predicted correctly\n",
    "multi_class_performance(RF_clf, x_train_std, y_train, x_test_std, y_test)[2]"
   ]
  },
  {
   "cell_type": "markdown",
   "metadata": {},
   "source": [
    "#### 4.2.1 RandomizedSearchCV - Random Forest"
   ]
  },
  {
   "cell_type": "code",
   "execution_count": 93,
   "metadata": {},
   "outputs": [
    {
     "name": "stdout",
     "output_type": "stream",
     "text": [
      "execution time 3006.593195915222\n"
     ]
    }
   ],
   "source": [
    "# Record the randomized grid searching time\n",
    "start_time = time.time()\n",
    "\n",
    "# Initiate the Random Forest Classifier\n",
    "RF_clf = RandomForestClassifier()\n",
    "\n",
    "# Construct ranges for each parameter \n",
    "param_grid = {'n_estimators': [100,150,200],\n",
    "              'max_features': [i for i in range(1, 51)],\n",
    "              'max_depth': [i for i in range(1, 26)],\n",
    "              'min_samples_leaf': [i for i in range(1, 51)]\n",
    "             }\n",
    "\n",
    "# Do the randomized grid searching 10 times \n",
    "# Find the optimal combination of parameters such that the highest accuracy score attained\n",
    "grid_obj = RandomizedSearchCV(RF_clf, param_distributions=param_grid, cv=5, scoring='accuracy',\n",
    "                              n_iter = 10)\n",
    "grid_obj.fit(x_train_std, y_train)\n",
    "\n",
    "print('execution time', time.time() - start_time)"
   ]
  },
  {
   "cell_type": "code",
   "execution_count": 94,
   "metadata": {},
   "outputs": [
    {
     "data": {
      "text/plain": [
       "RandomForestClassifier(bootstrap=True, class_weight=None, criterion='gini',\n",
       "            max_depth=25, max_features=42, max_leaf_nodes=None,\n",
       "            min_impurity_decrease=0.0, min_impurity_split=None,\n",
       "            min_samples_leaf=5, min_samples_split=2,\n",
       "            min_weight_fraction_leaf=0.0, n_estimators=200, n_jobs=1,\n",
       "            oob_score=False, random_state=None, verbose=0,\n",
       "            warm_start=False)"
      ]
     },
     "execution_count": 94,
     "metadata": {},
     "output_type": "execute_result"
    }
   ],
   "source": [
    "# Call back the optimal combination of parameters \n",
    "RF_best_clf = grid_obj.best_estimator_\n",
    "RF_best_clf"
   ]
  },
  {
   "cell_type": "code",
   "execution_count": 95,
   "metadata": {},
   "outputs": [],
   "source": [
    "grid_search_result = pd.DataFrame({'rank': grid_obj.cv_results_['rank_test_score'].tolist(),\n",
    "                                   'params': grid_obj.cv_results_['params'],\n",
    "                                   'mean_test_score': grid_obj.cv_results_['mean_test_score'],\n",
    "                                   'mean_train_score': grid_obj.cv_results_['mean_train_score'],\n",
    "                                   'std_test_score': grid_obj.cv_results_['std_test_score'],\n",
    "                                   'std_train_score': grid_obj.cv_results_['std_train_score']\n",
    "                                  })"
   ]
  },
  {
   "cell_type": "code",
   "execution_count": 96,
   "metadata": {},
   "outputs": [
    {
     "data": {
      "text/html": [
       "<div>\n",
       "<style scoped>\n",
       "    .dataframe tbody tr th:only-of-type {\n",
       "        vertical-align: middle;\n",
       "    }\n",
       "\n",
       "    .dataframe tbody tr th {\n",
       "        vertical-align: top;\n",
       "    }\n",
       "\n",
       "    .dataframe thead th {\n",
       "        text-align: right;\n",
       "    }\n",
       "</style>\n",
       "<table border=\"1\" class=\"dataframe\">\n",
       "  <thead>\n",
       "    <tr style=\"text-align: right;\">\n",
       "      <th></th>\n",
       "      <th>rank</th>\n",
       "      <th>params</th>\n",
       "      <th>mean_test_score</th>\n",
       "      <th>mean_train_score</th>\n",
       "      <th>std_test_score</th>\n",
       "      <th>std_train_score</th>\n",
       "    </tr>\n",
       "  </thead>\n",
       "  <tbody>\n",
       "    <tr>\n",
       "      <th>0</th>\n",
       "      <td>8</td>\n",
       "      <td>{'n_estimators': 100, 'min_samples_leaf': 1, '...</td>\n",
       "      <td>0.519591</td>\n",
       "      <td>0.523647</td>\n",
       "      <td>0.008814</td>\n",
       "      <td>0.006612</td>\n",
       "    </tr>\n",
       "    <tr>\n",
       "      <th>1</th>\n",
       "      <td>2</td>\n",
       "      <td>{'n_estimators': 200, 'min_samples_leaf': 31, ...</td>\n",
       "      <td>0.803931</td>\n",
       "      <td>0.855454</td>\n",
       "      <td>0.003344</td>\n",
       "      <td>0.002450</td>\n",
       "    </tr>\n",
       "    <tr>\n",
       "      <th>2</th>\n",
       "      <td>6</td>\n",
       "      <td>{'n_estimators': 150, 'min_samples_leaf': 39, ...</td>\n",
       "      <td>0.705497</td>\n",
       "      <td>0.749600</td>\n",
       "      <td>0.009639</td>\n",
       "      <td>0.005479</td>\n",
       "    </tr>\n",
       "    <tr>\n",
       "      <th>3</th>\n",
       "      <td>1</td>\n",
       "      <td>{'n_estimators': 200, 'min_samples_leaf': 5, '...</td>\n",
       "      <td>0.903686</td>\n",
       "      <td>0.986696</td>\n",
       "      <td>0.001472</td>\n",
       "      <td>0.000292</td>\n",
       "    </tr>\n",
       "    <tr>\n",
       "      <th>4</th>\n",
       "      <td>5</td>\n",
       "      <td>{'n_estimators': 100, 'min_samples_leaf': 7, '...</td>\n",
       "      <td>0.732834</td>\n",
       "      <td>0.753216</td>\n",
       "      <td>0.005794</td>\n",
       "      <td>0.004404</td>\n",
       "    </tr>\n",
       "    <tr>\n",
       "      <th>5</th>\n",
       "      <td>10</td>\n",
       "      <td>{'n_estimators': 100, 'min_samples_leaf': 19, ...</td>\n",
       "      <td>0.323626</td>\n",
       "      <td>0.323774</td>\n",
       "      <td>0.014082</td>\n",
       "      <td>0.013953</td>\n",
       "    </tr>\n",
       "    <tr>\n",
       "      <th>6</th>\n",
       "      <td>9</td>\n",
       "      <td>{'n_estimators': 200, 'min_samples_leaf': 25, ...</td>\n",
       "      <td>0.514712</td>\n",
       "      <td>0.518319</td>\n",
       "      <td>0.005441</td>\n",
       "      <td>0.001966</td>\n",
       "    </tr>\n",
       "    <tr>\n",
       "      <th>7</th>\n",
       "      <td>7</td>\n",
       "      <td>{'n_estimators': 100, 'min_samples_leaf': 5, '...</td>\n",
       "      <td>0.694615</td>\n",
       "      <td>0.716355</td>\n",
       "      <td>0.007379</td>\n",
       "      <td>0.008246</td>\n",
       "    </tr>\n",
       "    <tr>\n",
       "      <th>8</th>\n",
       "      <td>3</td>\n",
       "      <td>{'n_estimators': 200, 'min_samples_leaf': 38, ...</td>\n",
       "      <td>0.746208</td>\n",
       "      <td>0.778549</td>\n",
       "      <td>0.006138</td>\n",
       "      <td>0.002845</td>\n",
       "    </tr>\n",
       "    <tr>\n",
       "      <th>9</th>\n",
       "      <td>4</td>\n",
       "      <td>{'n_estimators': 150, 'min_samples_leaf': 8, '...</td>\n",
       "      <td>0.744388</td>\n",
       "      <td>0.924731</td>\n",
       "      <td>0.005954</td>\n",
       "      <td>0.001122</td>\n",
       "    </tr>\n",
       "  </tbody>\n",
       "</table>\n",
       "</div>"
      ],
      "text/plain": [
       "   rank                                             params  mean_test_score  \\\n",
       "0     8  {'n_estimators': 100, 'min_samples_leaf': 1, '...         0.519591   \n",
       "1     2  {'n_estimators': 200, 'min_samples_leaf': 31, ...         0.803931   \n",
       "2     6  {'n_estimators': 150, 'min_samples_leaf': 39, ...         0.705497   \n",
       "3     1  {'n_estimators': 200, 'min_samples_leaf': 5, '...         0.903686   \n",
       "4     5  {'n_estimators': 100, 'min_samples_leaf': 7, '...         0.732834   \n",
       "5    10  {'n_estimators': 100, 'min_samples_leaf': 19, ...         0.323626   \n",
       "6     9  {'n_estimators': 200, 'min_samples_leaf': 25, ...         0.514712   \n",
       "7     7  {'n_estimators': 100, 'min_samples_leaf': 5, '...         0.694615   \n",
       "8     3  {'n_estimators': 200, 'min_samples_leaf': 38, ...         0.746208   \n",
       "9     4  {'n_estimators': 150, 'min_samples_leaf': 8, '...         0.744388   \n",
       "\n",
       "   mean_train_score  std_test_score  std_train_score  \n",
       "0          0.523647        0.008814         0.006612  \n",
       "1          0.855454        0.003344         0.002450  \n",
       "2          0.749600        0.009639         0.005479  \n",
       "3          0.986696        0.001472         0.000292  \n",
       "4          0.753216        0.005794         0.004404  \n",
       "5          0.323774        0.014082         0.013953  \n",
       "6          0.518319        0.005441         0.001966  \n",
       "7          0.716355        0.007379         0.008246  \n",
       "8          0.778549        0.006138         0.002845  \n",
       "9          0.924731        0.005954         0.001122  "
      ]
     },
     "execution_count": 96,
     "metadata": {},
     "output_type": "execute_result"
    }
   ],
   "source": [
    "# Look at the 'fluctuations' among folds\n",
    "# When fit the Random Forest with the best combination of parameters\n",
    "# The standard deviation of train scores among five folds is steady: 0.000292\n",
    "# The standard deviation of test scores among five folds is steady: 0.001472\n",
    "grid_search_result"
   ]
  },
  {
   "cell_type": "markdown",
   "metadata": {},
   "source": [
    "#### 4.2.2 Confusion Matrix - Random Forest"
   ]
  },
  {
   "cell_type": "code",
   "execution_count": 98,
   "metadata": {},
   "outputs": [
    {
     "data": {
      "text/plain": [
       "(0.9875885086509602, 0.9109535066981875)"
      ]
     },
     "execution_count": 98,
     "metadata": {},
     "output_type": "execute_result"
    }
   ],
   "source": [
    "# Accuracy scores\n",
    "# Train: 0.9876\n",
    "# Test: 0.9110\n",
    "multi_class_performance(RF_best_clf, x_train_std, y_train, x_test_std, y_test)[0:2]"
   ]
  },
  {
   "cell_type": "code",
   "execution_count": 99,
   "metadata": {},
   "outputs": [
    {
     "data": {
      "text/html": [
       "<div>\n",
       "<style scoped>\n",
       "    .dataframe tbody tr th:only-of-type {\n",
       "        vertical-align: middle;\n",
       "    }\n",
       "\n",
       "    .dataframe tbody tr th {\n",
       "        vertical-align: top;\n",
       "    }\n",
       "\n",
       "    .dataframe thead th {\n",
       "        text-align: right;\n",
       "    }\n",
       "</style>\n",
       "<table border=\"1\" class=\"dataframe\">\n",
       "  <thead>\n",
       "    <tr style=\"text-align: right;\">\n",
       "      <th></th>\n",
       "      <th>True Grade A</th>\n",
       "      <th>True Grade B</th>\n",
       "      <th>True Grade C</th>\n",
       "      <th>True Grade D</th>\n",
       "      <th>True Grade E</th>\n",
       "      <th>True Grade F</th>\n",
       "      <th>True Grade G</th>\n",
       "    </tr>\n",
       "  </thead>\n",
       "  <tbody>\n",
       "    <tr>\n",
       "      <th>Predicted Grade A</th>\n",
       "      <td>5122</td>\n",
       "      <td>268</td>\n",
       "      <td>40</td>\n",
       "      <td>10</td>\n",
       "      <td>2</td>\n",
       "      <td>0</td>\n",
       "      <td>0</td>\n",
       "    </tr>\n",
       "    <tr>\n",
       "      <th>Predicted Grade B</th>\n",
       "      <td>226</td>\n",
       "      <td>6091</td>\n",
       "      <td>410</td>\n",
       "      <td>67</td>\n",
       "      <td>10</td>\n",
       "      <td>0</td>\n",
       "      <td>0</td>\n",
       "    </tr>\n",
       "    <tr>\n",
       "      <th>Predicted Grade C</th>\n",
       "      <td>5</td>\n",
       "      <td>167</td>\n",
       "      <td>5277</td>\n",
       "      <td>289</td>\n",
       "      <td>31</td>\n",
       "      <td>3</td>\n",
       "      <td>2</td>\n",
       "    </tr>\n",
       "    <tr>\n",
       "      <th>Predicted Grade D</th>\n",
       "      <td>0</td>\n",
       "      <td>0</td>\n",
       "      <td>35</td>\n",
       "      <td>2705</td>\n",
       "      <td>209</td>\n",
       "      <td>16</td>\n",
       "      <td>6</td>\n",
       "    </tr>\n",
       "    <tr>\n",
       "      <th>Predicted Grade E</th>\n",
       "      <td>0</td>\n",
       "      <td>0</td>\n",
       "      <td>0</td>\n",
       "      <td>0</td>\n",
       "      <td>458</td>\n",
       "      <td>52</td>\n",
       "      <td>4</td>\n",
       "    </tr>\n",
       "    <tr>\n",
       "      <th>Predicted Grade F</th>\n",
       "      <td>0</td>\n",
       "      <td>0</td>\n",
       "      <td>0</td>\n",
       "      <td>0</td>\n",
       "      <td>0</td>\n",
       "      <td>59</td>\n",
       "      <td>9</td>\n",
       "    </tr>\n",
       "    <tr>\n",
       "      <th>Predicted Grade G</th>\n",
       "      <td>0</td>\n",
       "      <td>0</td>\n",
       "      <td>0</td>\n",
       "      <td>0</td>\n",
       "      <td>0</td>\n",
       "      <td>0</td>\n",
       "      <td>0</td>\n",
       "    </tr>\n",
       "  </tbody>\n",
       "</table>\n",
       "</div>"
      ],
      "text/plain": [
       "                   True Grade A  True Grade B  True Grade C  True Grade D  \\\n",
       "Predicted Grade A          5122           268            40            10   \n",
       "Predicted Grade B           226          6091           410            67   \n",
       "Predicted Grade C             5           167          5277           289   \n",
       "Predicted Grade D             0             0            35          2705   \n",
       "Predicted Grade E             0             0             0             0   \n",
       "Predicted Grade F             0             0             0             0   \n",
       "Predicted Grade G             0             0             0             0   \n",
       "\n",
       "                   True Grade E  True Grade F  True Grade G  \n",
       "Predicted Grade A             2             0             0  \n",
       "Predicted Grade B            10             0             0  \n",
       "Predicted Grade C            31             3             2  \n",
       "Predicted Grade D           209            16             6  \n",
       "Predicted Grade E           458            52             4  \n",
       "Predicted Grade F             0            59             9  \n",
       "Predicted Grade G             0             0             0  "
      ]
     },
     "execution_count": 99,
     "metadata": {},
     "output_type": "execute_result"
    }
   ],
   "source": [
    "# The cells located at the diagonal line are the number of labels predicted correctly\n",
    "multi_class_performance(RF_best_clf, x_train_std, y_train, x_test_std, y_test)[2]"
   ]
  },
  {
   "cell_type": "markdown",
   "metadata": {},
   "source": [
    "#### 4.2.3 Feature importance by Random Forest"
   ]
  },
  {
   "cell_type": "code",
   "execution_count": 108,
   "metadata": {},
   "outputs": [
    {
     "data": {
      "text/html": [
       "<div>\n",
       "<style scoped>\n",
       "    .dataframe tbody tr th:only-of-type {\n",
       "        vertical-align: middle;\n",
       "    }\n",
       "\n",
       "    .dataframe tbody tr th {\n",
       "        vertical-align: top;\n",
       "    }\n",
       "\n",
       "    .dataframe thead th {\n",
       "        text-align: right;\n",
       "    }\n",
       "</style>\n",
       "<table border=\"1\" class=\"dataframe\">\n",
       "  <thead>\n",
       "    <tr style=\"text-align: right;\">\n",
       "      <th></th>\n",
       "      <th>feature</th>\n",
       "      <th>importance</th>\n",
       "    </tr>\n",
       "  </thead>\n",
       "  <tbody>\n",
       "    <tr>\n",
       "      <th>18</th>\n",
       "      <td>total_rec_int</td>\n",
       "      <td>0.201064</td>\n",
       "    </tr>\n",
       "    <tr>\n",
       "      <th>17</th>\n",
       "      <td>total_rec_prncp</td>\n",
       "      <td>0.132663</td>\n",
       "    </tr>\n",
       "    <tr>\n",
       "      <th>4</th>\n",
       "      <td>installment</td>\n",
       "      <td>0.052045</td>\n",
       "    </tr>\n",
       "    <tr>\n",
       "      <th>15</th>\n",
       "      <td>total_pymnt</td>\n",
       "      <td>0.047402</td>\n",
       "    </tr>\n",
       "    <tr>\n",
       "      <th>16</th>\n",
       "      <td>total_pymnt_inv</td>\n",
       "      <td>0.046513</td>\n",
       "    </tr>\n",
       "    <tr>\n",
       "      <th>19</th>\n",
       "      <td>last_pymnt_amnt</td>\n",
       "      <td>0.045235</td>\n",
       "    </tr>\n",
       "    <tr>\n",
       "      <th>13</th>\n",
       "      <td>out_prncp</td>\n",
       "      <td>0.035217</td>\n",
       "    </tr>\n",
       "    <tr>\n",
       "      <th>14</th>\n",
       "      <td>out_prncp_inv</td>\n",
       "      <td>0.033458</td>\n",
       "    </tr>\n",
       "    <tr>\n",
       "      <th>3</th>\n",
       "      <td>term</td>\n",
       "      <td>0.032587</td>\n",
       "    </tr>\n",
       "    <tr>\n",
       "      <th>39</th>\n",
       "      <td>bc_open_to_buy</td>\n",
       "      <td>0.030202</td>\n",
       "    </tr>\n",
       "  </tbody>\n",
       "</table>\n",
       "</div>"
      ],
      "text/plain": [
       "            feature  importance\n",
       "18    total_rec_int    0.201064\n",
       "17  total_rec_prncp    0.132663\n",
       "4       installment    0.052045\n",
       "15      total_pymnt    0.047402\n",
       "16  total_pymnt_inv    0.046513\n",
       "19  last_pymnt_amnt    0.045235\n",
       "13        out_prncp    0.035217\n",
       "14    out_prncp_inv    0.033458\n",
       "3              term    0.032587\n",
       "39   bc_open_to_buy    0.030202"
      ]
     },
     "execution_count": 108,
     "metadata": {},
     "output_type": "execute_result"
    }
   ],
   "source": [
    "df_coeffs = pd.DataFrame(list(zip(x.columns, RF_best_clf.feature_importances_.flatten()))).sort_values(by=[1], ascending=False)\n",
    "df_coeffs.columns = ['feature', 'importance']\n",
    "df_coeffs.head(10)"
   ]
  },
  {
   "cell_type": "markdown",
   "metadata": {},
   "source": [
    "### 4.3 Gradient Boosting Decision Tree"
   ]
  },
  {
   "cell_type": "code",
   "execution_count": 109,
   "metadata": {},
   "outputs": [],
   "source": [
    "from sklearn.ensemble import GradientBoostingClassifier\n",
    "\n",
    "# Use a good start of parameter combination\n",
    "parameters = {\n",
    "    'n_estimators': 100,\n",
    "    'max_depth': 5,\n",
    "    'learning_rate': 0.1,\n",
    "    'subsample': 0.7,\n",
    "    'max_features':0.8,\n",
    "    'random_state': 0\n",
    "}\n",
    "\n",
    "GBDT_clf = GradientBoostingClassifier(**parameters)"
   ]
  },
  {
   "cell_type": "code",
   "execution_count": 110,
   "metadata": {},
   "outputs": [
    {
     "data": {
      "text/plain": [
       "(0.9559281964515419, 0.9306540583136328)"
      ]
     },
     "execution_count": 110,
     "metadata": {},
     "output_type": "execute_result"
    }
   ],
   "source": [
    "# Dataset I:\n",
    "# Dataset II: (0.9559281964515419, 0.9306540583136328)\n",
    "multi_class_performance(GBDT_clf, x_train_std, y_train, x_test_std, y_test)[0:2]"
   ]
  },
  {
   "cell_type": "code",
   "execution_count": 111,
   "metadata": {},
   "outputs": [
    {
     "data": {
      "text/html": [
       "<div>\n",
       "<style scoped>\n",
       "    .dataframe tbody tr th:only-of-type {\n",
       "        vertical-align: middle;\n",
       "    }\n",
       "\n",
       "    .dataframe tbody tr th {\n",
       "        vertical-align: top;\n",
       "    }\n",
       "\n",
       "    .dataframe thead th {\n",
       "        text-align: right;\n",
       "    }\n",
       "</style>\n",
       "<table border=\"1\" class=\"dataframe\">\n",
       "  <thead>\n",
       "    <tr style=\"text-align: right;\">\n",
       "      <th></th>\n",
       "      <th>True Grade A</th>\n",
       "      <th>True Grade B</th>\n",
       "      <th>True Grade C</th>\n",
       "      <th>True Grade D</th>\n",
       "      <th>True Grade E</th>\n",
       "      <th>True Grade F</th>\n",
       "      <th>True Grade G</th>\n",
       "    </tr>\n",
       "  </thead>\n",
       "  <tbody>\n",
       "    <tr>\n",
       "      <th>Predicted Grade A</th>\n",
       "      <td>5182</td>\n",
       "      <td>153</td>\n",
       "      <td>26</td>\n",
       "      <td>4</td>\n",
       "      <td>1</td>\n",
       "      <td>0</td>\n",
       "      <td>0</td>\n",
       "    </tr>\n",
       "    <tr>\n",
       "      <th>Predicted Grade B</th>\n",
       "      <td>158</td>\n",
       "      <td>6162</td>\n",
       "      <td>322</td>\n",
       "      <td>45</td>\n",
       "      <td>2</td>\n",
       "      <td>0</td>\n",
       "      <td>0</td>\n",
       "    </tr>\n",
       "    <tr>\n",
       "      <th>Predicted Grade C</th>\n",
       "      <td>12</td>\n",
       "      <td>197</td>\n",
       "      <td>5350</td>\n",
       "      <td>286</td>\n",
       "      <td>15</td>\n",
       "      <td>2</td>\n",
       "      <td>1</td>\n",
       "    </tr>\n",
       "    <tr>\n",
       "      <th>Predicted Grade D</th>\n",
       "      <td>1</td>\n",
       "      <td>13</td>\n",
       "      <td>61</td>\n",
       "      <td>2716</td>\n",
       "      <td>130</td>\n",
       "      <td>8</td>\n",
       "      <td>3</td>\n",
       "    </tr>\n",
       "    <tr>\n",
       "      <th>Predicted Grade E</th>\n",
       "      <td>0</td>\n",
       "      <td>1</td>\n",
       "      <td>2</td>\n",
       "      <td>20</td>\n",
       "      <td>559</td>\n",
       "      <td>13</td>\n",
       "      <td>3</td>\n",
       "    </tr>\n",
       "    <tr>\n",
       "      <th>Predicted Grade F</th>\n",
       "      <td>0</td>\n",
       "      <td>0</td>\n",
       "      <td>1</td>\n",
       "      <td>0</td>\n",
       "      <td>3</td>\n",
       "      <td>105</td>\n",
       "      <td>11</td>\n",
       "    </tr>\n",
       "    <tr>\n",
       "      <th>Predicted Grade G</th>\n",
       "      <td>0</td>\n",
       "      <td>0</td>\n",
       "      <td>0</td>\n",
       "      <td>0</td>\n",
       "      <td>0</td>\n",
       "      <td>2</td>\n",
       "      <td>3</td>\n",
       "    </tr>\n",
       "  </tbody>\n",
       "</table>\n",
       "</div>"
      ],
      "text/plain": [
       "                   True Grade A  True Grade B  True Grade C  True Grade D  \\\n",
       "Predicted Grade A          5182           153            26             4   \n",
       "Predicted Grade B           158          6162           322            45   \n",
       "Predicted Grade C            12           197          5350           286   \n",
       "Predicted Grade D             1            13            61          2716   \n",
       "Predicted Grade E             0             1             2            20   \n",
       "Predicted Grade F             0             0             1             0   \n",
       "Predicted Grade G             0             0             0             0   \n",
       "\n",
       "                   True Grade E  True Grade F  True Grade G  \n",
       "Predicted Grade A             1             0             0  \n",
       "Predicted Grade B             2             0             0  \n",
       "Predicted Grade C            15             2             1  \n",
       "Predicted Grade D           130             8             3  \n",
       "Predicted Grade E           559            13             3  \n",
       "Predicted Grade F             3           105            11  \n",
       "Predicted Grade G             0             2             3  "
      ]
     },
     "execution_count": 111,
     "metadata": {},
     "output_type": "execute_result"
    }
   ],
   "source": [
    "# The cells located at the diagonal line are the number of labels predicted correctly\n",
    "multi_class_performance(GBDT_clf, x_train_std, y_train, x_test_std, y_test)[2]"
   ]
  },
  {
   "cell_type": "markdown",
   "metadata": {},
   "source": [
    "#### 4.3.1 RandomizedSearchCV - GBDT"
   ]
  },
  {
   "cell_type": "code",
   "execution_count": 112,
   "metadata": {},
   "outputs": [
    {
     "name": "stdout",
     "output_type": "stream",
     "text": [
      "execution time 57734.537100076675\n"
     ]
    }
   ],
   "source": [
    "# Record the randomized grid searching time\n",
    "start_time = time.time()\n",
    "\n",
    "# Initiate the GBDT Classifier\n",
    "GBDT_clf = GradientBoostingClassifier()\n",
    "\n",
    "# Construct ranges for each parameter \n",
    "param_grid = {'n_estimators': [100,150,200],\n",
    "              'max_depth': [3,4,5,6],\n",
    "              'learning_rate': [i * 0.01 for i in range(1, 101)],\n",
    "              'subsample': [0.8,0.9],\n",
    "              'max_features': [0.8,0.9]\n",
    "             }\n",
    "\n",
    "# Do the randomized grid searching 10 times \n",
    "# Find the optimal combination of parameters such that the highest accuracy score attained\n",
    "grid_obj = RandomizedSearchCV(GBDT_clf, param_distributions=param_grid, cv=5, scoring='accuracy',\n",
    "                              n_iter = 10)\n",
    "grid_obj.fit(x_train_std, y_train)\n",
    "\n",
    "print('execution time', time.time() - start_time)"
   ]
  },
  {
   "cell_type": "code",
   "execution_count": 113,
   "metadata": {},
   "outputs": [
    {
     "data": {
      "text/plain": [
       "GradientBoostingClassifier(criterion='friedman_mse', init=None,\n",
       "              learning_rate=0.32, loss='deviance', max_depth=4,\n",
       "              max_features=0.9, max_leaf_nodes=None,\n",
       "              min_impurity_decrease=0.0, min_impurity_split=None,\n",
       "              min_samples_leaf=1, min_samples_split=2,\n",
       "              min_weight_fraction_leaf=0.0, n_estimators=200,\n",
       "              presort='auto', random_state=None, subsample=0.9, verbose=0,\n",
       "              warm_start=False)"
      ]
     },
     "execution_count": 113,
     "metadata": {},
     "output_type": "execute_result"
    }
   ],
   "source": [
    "# Call back the optimal combination of parameters \n",
    "GBDT_best_clf = grid_obj.best_estimator_\n",
    "GBDT_best_clf"
   ]
  },
  {
   "cell_type": "code",
   "execution_count": 114,
   "metadata": {},
   "outputs": [],
   "source": [
    "grid_search_result = pd.DataFrame({'rank': grid_obj.cv_results_['rank_test_score'].tolist(),\n",
    "                                   'params': grid_obj.cv_results_['params'],\n",
    "                                   'mean_test_score': grid_obj.cv_results_['mean_test_score'],\n",
    "                                   'mean_train_score': grid_obj.cv_results_['mean_train_score'],\n",
    "                                   'std_test_score': grid_obj.cv_results_['std_test_score'],\n",
    "                                   'std_train_score': grid_obj.cv_results_['std_train_score']\n",
    "                                  })"
   ]
  },
  {
   "cell_type": "code",
   "execution_count": 115,
   "metadata": {},
   "outputs": [
    {
     "data": {
      "text/html": [
       "<div>\n",
       "<style scoped>\n",
       "    .dataframe tbody tr th:only-of-type {\n",
       "        vertical-align: middle;\n",
       "    }\n",
       "\n",
       "    .dataframe tbody tr th {\n",
       "        vertical-align: top;\n",
       "    }\n",
       "\n",
       "    .dataframe thead th {\n",
       "        text-align: right;\n",
       "    }\n",
       "</style>\n",
       "<table border=\"1\" class=\"dataframe\">\n",
       "  <thead>\n",
       "    <tr style=\"text-align: right;\">\n",
       "      <th></th>\n",
       "      <th>rank</th>\n",
       "      <th>params</th>\n",
       "      <th>mean_test_score</th>\n",
       "      <th>mean_train_score</th>\n",
       "      <th>std_test_score</th>\n",
       "      <th>std_train_score</th>\n",
       "    </tr>\n",
       "  </thead>\n",
       "  <tbody>\n",
       "    <tr>\n",
       "      <th>0</th>\n",
       "      <td>1</td>\n",
       "      <td>{'subsample': 0.9, 'n_estimators': 200, 'max_f...</td>\n",
       "      <td>0.953425</td>\n",
       "      <td>0.990442</td>\n",
       "      <td>0.006306</td>\n",
       "      <td>0.006084</td>\n",
       "    </tr>\n",
       "    <tr>\n",
       "      <th>1</th>\n",
       "      <td>4</td>\n",
       "      <td>{'subsample': 0.9, 'n_estimators': 200, 'max_f...</td>\n",
       "      <td>0.909295</td>\n",
       "      <td>0.946327</td>\n",
       "      <td>0.018750</td>\n",
       "      <td>0.021671</td>\n",
       "    </tr>\n",
       "    <tr>\n",
       "      <th>2</th>\n",
       "      <td>2</td>\n",
       "      <td>{'subsample': 0.8, 'n_estimators': 100, 'max_f...</td>\n",
       "      <td>0.952695</td>\n",
       "      <td>0.999554</td>\n",
       "      <td>0.001963</td>\n",
       "      <td>0.000250</td>\n",
       "    </tr>\n",
       "    <tr>\n",
       "      <th>3</th>\n",
       "      <td>6</td>\n",
       "      <td>{'subsample': 0.8, 'n_estimators': 100, 'max_f...</td>\n",
       "      <td>0.891750</td>\n",
       "      <td>0.918485</td>\n",
       "      <td>0.022999</td>\n",
       "      <td>0.026776</td>\n",
       "    </tr>\n",
       "    <tr>\n",
       "      <th>4</th>\n",
       "      <td>5</td>\n",
       "      <td>{'subsample': 0.8, 'n_estimators': 100, 'max_f...</td>\n",
       "      <td>0.906873</td>\n",
       "      <td>0.930804</td>\n",
       "      <td>0.002821</td>\n",
       "      <td>0.000327</td>\n",
       "    </tr>\n",
       "    <tr>\n",
       "      <th>5</th>\n",
       "      <td>7</td>\n",
       "      <td>{'subsample': 0.9, 'n_estimators': 150, 'max_f...</td>\n",
       "      <td>0.805194</td>\n",
       "      <td>0.817918</td>\n",
       "      <td>0.002376</td>\n",
       "      <td>0.001222</td>\n",
       "    </tr>\n",
       "    <tr>\n",
       "      <th>6</th>\n",
       "      <td>10</td>\n",
       "      <td>{'subsample': 0.8, 'n_estimators': 100, 'max_f...</td>\n",
       "      <td>0.195582</td>\n",
       "      <td>0.195360</td>\n",
       "      <td>0.086186</td>\n",
       "      <td>0.087620</td>\n",
       "    </tr>\n",
       "    <tr>\n",
       "      <th>7</th>\n",
       "      <td>3</td>\n",
       "      <td>{'subsample': 0.8, 'n_estimators': 150, 'max_f...</td>\n",
       "      <td>0.937688</td>\n",
       "      <td>0.974044</td>\n",
       "      <td>0.012784</td>\n",
       "      <td>0.015783</td>\n",
       "    </tr>\n",
       "    <tr>\n",
       "      <th>8</th>\n",
       "      <td>8</td>\n",
       "      <td>{'subsample': 0.9, 'n_estimators': 200, 'max_f...</td>\n",
       "      <td>0.398802</td>\n",
       "      <td>0.412206</td>\n",
       "      <td>0.329923</td>\n",
       "      <td>0.343533</td>\n",
       "    </tr>\n",
       "    <tr>\n",
       "      <th>9</th>\n",
       "      <td>9</td>\n",
       "      <td>{'subsample': 0.8, 'n_estimators': 100, 'max_f...</td>\n",
       "      <td>0.264187</td>\n",
       "      <td>0.267286</td>\n",
       "      <td>0.228926</td>\n",
       "      <td>0.232866</td>\n",
       "    </tr>\n",
       "  </tbody>\n",
       "</table>\n",
       "</div>"
      ],
      "text/plain": [
       "   rank                                             params  mean_test_score  \\\n",
       "0     1  {'subsample': 0.9, 'n_estimators': 200, 'max_f...         0.953425   \n",
       "1     4  {'subsample': 0.9, 'n_estimators': 200, 'max_f...         0.909295   \n",
       "2     2  {'subsample': 0.8, 'n_estimators': 100, 'max_f...         0.952695   \n",
       "3     6  {'subsample': 0.8, 'n_estimators': 100, 'max_f...         0.891750   \n",
       "4     5  {'subsample': 0.8, 'n_estimators': 100, 'max_f...         0.906873   \n",
       "5     7  {'subsample': 0.9, 'n_estimators': 150, 'max_f...         0.805194   \n",
       "6    10  {'subsample': 0.8, 'n_estimators': 100, 'max_f...         0.195582   \n",
       "7     3  {'subsample': 0.8, 'n_estimators': 150, 'max_f...         0.937688   \n",
       "8     8  {'subsample': 0.9, 'n_estimators': 200, 'max_f...         0.398802   \n",
       "9     9  {'subsample': 0.8, 'n_estimators': 100, 'max_f...         0.264187   \n",
       "\n",
       "   mean_train_score  std_test_score  std_train_score  \n",
       "0          0.990442        0.006306         0.006084  \n",
       "1          0.946327        0.018750         0.021671  \n",
       "2          0.999554        0.001963         0.000250  \n",
       "3          0.918485        0.022999         0.026776  \n",
       "4          0.930804        0.002821         0.000327  \n",
       "5          0.817918        0.002376         0.001222  \n",
       "6          0.195360        0.086186         0.087620  \n",
       "7          0.974044        0.012784         0.015783  \n",
       "8          0.412206        0.329923         0.343533  \n",
       "9          0.267286        0.228926         0.232866  "
      ]
     },
     "execution_count": 115,
     "metadata": {},
     "output_type": "execute_result"
    }
   ],
   "source": [
    "# Look at the 'fluctuations' among folds\n",
    "# When fit the GBDT with the best combination of parameters\n",
    "# The standard deviation of train scores among five folds is steady: 0.006084\n",
    "# The standard deviation of test scores among five folds is steady: 0.006306\n",
    "grid_search_result"
   ]
  },
  {
   "cell_type": "markdown",
   "metadata": {},
   "source": [
    "#### 4.3.2 Confusion Matrix - GBDT"
   ]
  },
  {
   "cell_type": "code",
   "execution_count": 116,
   "metadata": {},
   "outputs": [
    {
     "data": {
      "text/plain": [
       "(0.9885156041765654, 0.9564270152505446)"
      ]
     },
     "execution_count": 116,
     "metadata": {},
     "output_type": "execute_result"
    }
   ],
   "source": [
    "# Accuracy scores\n",
    "# Train: 0.9885\n",
    "# Test: 0.9564\n",
    "multi_class_performance(GBDT_best_clf, x_train_std, y_train, x_test_std, y_test)[0:2]"
   ]
  },
  {
   "cell_type": "code",
   "execution_count": 117,
   "metadata": {},
   "outputs": [
    {
     "data": {
      "text/html": [
       "<div>\n",
       "<style scoped>\n",
       "    .dataframe tbody tr th:only-of-type {\n",
       "        vertical-align: middle;\n",
       "    }\n",
       "\n",
       "    .dataframe tbody tr th {\n",
       "        vertical-align: top;\n",
       "    }\n",
       "\n",
       "    .dataframe thead th {\n",
       "        text-align: right;\n",
       "    }\n",
       "</style>\n",
       "<table border=\"1\" class=\"dataframe\">\n",
       "  <thead>\n",
       "    <tr style=\"text-align: right;\">\n",
       "      <th></th>\n",
       "      <th>True Grade A</th>\n",
       "      <th>True Grade B</th>\n",
       "      <th>True Grade C</th>\n",
       "      <th>True Grade D</th>\n",
       "      <th>True Grade E</th>\n",
       "      <th>True Grade F</th>\n",
       "      <th>True Grade G</th>\n",
       "    </tr>\n",
       "  </thead>\n",
       "  <tbody>\n",
       "    <tr>\n",
       "      <th>Predicted Grade A</th>\n",
       "      <td>5240</td>\n",
       "      <td>93</td>\n",
       "      <td>19</td>\n",
       "      <td>7</td>\n",
       "      <td>2</td>\n",
       "      <td>0</td>\n",
       "      <td>0</td>\n",
       "    </tr>\n",
       "    <tr>\n",
       "      <th>Predicted Grade B</th>\n",
       "      <td>98</td>\n",
       "      <td>6283</td>\n",
       "      <td>191</td>\n",
       "      <td>31</td>\n",
       "      <td>1</td>\n",
       "      <td>0</td>\n",
       "      <td>0</td>\n",
       "    </tr>\n",
       "    <tr>\n",
       "      <th>Predicted Grade C</th>\n",
       "      <td>12</td>\n",
       "      <td>139</td>\n",
       "      <td>5487</td>\n",
       "      <td>156</td>\n",
       "      <td>8</td>\n",
       "      <td>0</td>\n",
       "      <td>0</td>\n",
       "    </tr>\n",
       "    <tr>\n",
       "      <th>Predicted Grade D</th>\n",
       "      <td>1</td>\n",
       "      <td>7</td>\n",
       "      <td>51</td>\n",
       "      <td>2846</td>\n",
       "      <td>98</td>\n",
       "      <td>10</td>\n",
       "      <td>3</td>\n",
       "    </tr>\n",
       "    <tr>\n",
       "      <th>Predicted Grade E</th>\n",
       "      <td>1</td>\n",
       "      <td>2</td>\n",
       "      <td>6</td>\n",
       "      <td>22</td>\n",
       "      <td>593</td>\n",
       "      <td>18</td>\n",
       "      <td>5</td>\n",
       "    </tr>\n",
       "    <tr>\n",
       "      <th>Predicted Grade F</th>\n",
       "      <td>0</td>\n",
       "      <td>0</td>\n",
       "      <td>4</td>\n",
       "      <td>5</td>\n",
       "      <td>8</td>\n",
       "      <td>97</td>\n",
       "      <td>9</td>\n",
       "    </tr>\n",
       "    <tr>\n",
       "      <th>Predicted Grade G</th>\n",
       "      <td>1</td>\n",
       "      <td>2</td>\n",
       "      <td>4</td>\n",
       "      <td>4</td>\n",
       "      <td>0</td>\n",
       "      <td>5</td>\n",
       "      <td>4</td>\n",
       "    </tr>\n",
       "  </tbody>\n",
       "</table>\n",
       "</div>"
      ],
      "text/plain": [
       "                   True Grade A  True Grade B  True Grade C  True Grade D  \\\n",
       "Predicted Grade A          5240            93            19             7   \n",
       "Predicted Grade B            98          6283           191            31   \n",
       "Predicted Grade C            12           139          5487           156   \n",
       "Predicted Grade D             1             7            51          2846   \n",
       "Predicted Grade E             1             2             6            22   \n",
       "Predicted Grade F             0             0             4             5   \n",
       "Predicted Grade G             1             2             4             4   \n",
       "\n",
       "                   True Grade E  True Grade F  True Grade G  \n",
       "Predicted Grade A             2             0             0  \n",
       "Predicted Grade B             1             0             0  \n",
       "Predicted Grade C             8             0             0  \n",
       "Predicted Grade D            98            10             3  \n",
       "Predicted Grade E           593            18             5  \n",
       "Predicted Grade F             8            97             9  \n",
       "Predicted Grade G             0             5             4  "
      ]
     },
     "execution_count": 117,
     "metadata": {},
     "output_type": "execute_result"
    }
   ],
   "source": [
    "multi_class_performance(GBDT_best_clf, x_train_std, y_train, x_test_std, y_test)[2]"
   ]
  },
  {
   "cell_type": "markdown",
   "metadata": {},
   "source": [
    "## 5. Summary \n",
    "- 5.1. Feature explanations\n",
    "- 5.2. Model Deployment\n",
    "\n",
    "### 5.1. Feature explanations\n",
    "**Features' coefficients estimated by Logistic Regression:**\n",
    "- Positive Direction: As long as the listed amount of the loan applied by the borrower, payment received to date for portion of total amount funded by investors, and principal received to date become larger, the higher probability that a loan applicantion might be graded with a lower grade.\n",
    "\n",
    "<img height=\"200\" width=\"300\" src=\"3rd_LR_Positive.png\">\n",
    "\n",
    "- Negative Direction: When the interest received to date, the monthly payment owed by the borrower if the loan originates, and payments received to date for total amount funded become smaller, the higher probability that a loan applicantion might be graded with a lower grade.\n",
    "\n",
    "<img height=\"200\" width=\"300\" src=\"3rd_LR_Negative.png\"> \n",
    "\n",
    "**Features' importances by Random Forest:**\n",
    "- Nine of the feature importances provided by Random Forest are overlapped with the results by Logistic Regression. These top 10 features have a better prediction power compared with the rest of the features in Random Forest model.\n",
    "<img height=\"200\" width=\"300\" src=\"3rd_RF.png\">\n",
    "\n",
    "### 5.2.Model Deployment (Metric evaulations):\n",
    "For the Lending Club, it can decide a model deployment by a predefined objective. At here, my defined objective is the highest 'accuracy' score across all lables (grade A to G). However, it might be better (or more intuitive) for the Lending Club to target at the accuracy score of 'lower grades' (such as from grade D to G). For a reason that there is a little difference among higher grades. \n",
    "\n",
    "| Model | Accuracy | Accuracy (from grade D to G) |\n",
    "| ---  | --- | --- |\n",
    "| Logistic Regression | 0.8006 | 0.7979 |\n",
    "| Random Forest | 0.9109 | 0.7755 |\n",
    "| GBDT | **0.9564** | **0.8367** |"
   ]
  },
  {
   "cell_type": "markdown",
   "metadata": {},
   "source": [
    "# Goal: Predict 4th response feature, int_rate\n",
    "## Main Task\n",
    "1. Prepare the dataset \n",
    "2. Categorical Feature Transformation\n",
    "    - 2.1 One-hot encoding\n",
    "    - 2.2 Dummy features\n",
    "3. Data preprocessing\n",
    "    - 3.1 Split data into train and test sets\n",
    "    - 3.2 Standarize data\n",
    "4. Modeling\n",
    "    - 4.1 Logistic Regression\n",
    "        - 4.1.1 RandomizedSearchCV\n",
    "        - 4.1.2 Confusion Matrix - Logistic Regression\n",
    "        - 4.1.3 Features' coefficients by Logistic Regression\n",
    "    - 4.2 Random Forest \n",
    "        - 4.2.1 RandomizedSearchCV - Random Forest\n",
    "        - 4.2.2 Confusion Matrix - Random Forest\n",
    "        - 4.2.3 Feature importance by Random Forest\n",
    "    - 4.3 Gradient Boosting Decision Tree\n",
    "        - 4.3.1 RandomizedSearchCV - GBDT\n",
    "        - 4.3.2 Confusion Matrix - GBDT"
   ]
  },
  {
   "cell_type": "markdown",
   "metadata": {},
   "source": [
    "## 1. Prepare the dataset"
   ]
  },
  {
   "cell_type": "code",
   "execution_count": 264,
   "metadata": {},
   "outputs": [],
   "source": [
    "# The first dataset is used for tree-based models\n",
    "# The second dataset is used for Logistic Regression\n",
    "# Uncomment it if need to use different datasets\n",
    "\n",
    "#loan = pd.read_csv(\"final_LC_loan.csv\")\n",
    "loan = pd.read_csv(\"LR_model_final_LC_loan.csv\")"
   ]
  },
  {
   "cell_type": "code",
   "execution_count": 265,
   "metadata": {},
   "outputs": [],
   "source": [
    "no_other_response_loan = loan.drop(['loan_status', 'loan_status_binary', 'sub_grade', 'grade', 'int_rate'], axis = 1)\n",
    "y = loan.int_rate.values"
   ]
  },
  {
   "cell_type": "markdown",
   "metadata": {},
   "source": [
    "## 2. Categorical Feature Transformation"
   ]
  },
  {
   "cell_type": "markdown",
   "metadata": {},
   "source": [
    "### 2.1 One-hot encoding "
   ]
  },
  {
   "cell_type": "code",
   "execution_count": 266,
   "metadata": {},
   "outputs": [
    {
     "name": "stdout",
     "output_type": "stream",
     "text": [
      "term 0\n",
      "emp_length 0\n",
      "home_ownership 0\n",
      "verification_status 0\n",
      "purpose 0\n",
      "title 0\n",
      "initial_list_status 0\n",
      "application_type 0\n",
      "hardship_flag 0\n",
      "hardship_type 0\n",
      "hardship_reason 0\n",
      "hardship_status 0\n",
      "hardship_loan_status 0\n",
      "disbursement_method 0\n",
      "debt_settlement_flag 0\n",
      "settlement_status 0\n",
      "days_between_issue_payment_plan_start_date 0\n",
      "days_between_issue_hardship_start_date 0\n",
      "days_between_issue_hardship_end_date 0\n",
      "level_between_issue_settlement_date 0\n",
      "level_between_max_issue_sec_earliest_cr_line 0\n",
      "level_diff_last_issue_d 0\n",
      "level_diff_next_issue_d 0\n",
      "level_since_last_credit_pull 0\n",
      "T_unique_title 0\n",
      "level_since_issue 0\n",
      "level_between_max_issue_earliest_cr_line 0\n",
      "group_state 0\n"
     ]
    }
   ],
   "source": [
    "# Collect column names \n",
    "one_hot_column = []\n",
    "dummy_column = []\n",
    "\n",
    "for each in no_other_response_loan:\n",
    "    if no_other_response_loan[each].dtype == 'object':\n",
    "        # Check NA values again\n",
    "        print(each, no_other_response_loan[each].isnull().sum())\n",
    "        if len(no_other_response_loan[each].unique()) <= 2:\n",
    "            one_hot_column.append(each)\n",
    "        elif len(no_other_response_loan[each].unique()) > 2:\n",
    "            dummy_column.append(each)"
   ]
  },
  {
   "cell_type": "code",
   "execution_count": 267,
   "metadata": {},
   "outputs": [
    {
     "name": "stdout",
     "output_type": "stream",
     "text": [
      "term\n",
      "initial_list_status\n",
      "application_type\n",
      "hardship_flag\n",
      "hardship_type\n",
      "hardship_reason\n",
      "hardship_status\n",
      "hardship_loan_status\n",
      "disbursement_method\n",
      "debt_settlement_flag\n",
      "settlement_status\n",
      "days_between_issue_payment_plan_start_date\n",
      "days_between_issue_hardship_start_date\n",
      "days_between_issue_hardship_end_date\n",
      "14 columns were label encoded.\n"
     ]
    }
   ],
   "source": [
    "# One-hot encoding for categorical variables containing two levels\n",
    "le = LabelEncoder()\n",
    "le_count = 0\n",
    "\n",
    "for col in one_hot_column:\n",
    "    print(col)\n",
    "    le.fit(no_other_response_loan[col])\n",
    "    no_other_response_loan[col] = le.transform(no_other_response_loan[col])\n",
    "            \n",
    "    # Keep track of how many columns were label encoded\n",
    "    le_count += 1\n",
    "            \n",
    "print('%d columns were label encoded.' % le_count)"
   ]
  },
  {
   "cell_type": "markdown",
   "metadata": {},
   "source": [
    "### 2.2 Dummy features"
   ]
  },
  {
   "cell_type": "code",
   "execution_count": 268,
   "metadata": {},
   "outputs": [
    {
     "name": "stdout",
     "output_type": "stream",
     "text": [
      "emp_length 12\n",
      "home_ownership 4\n",
      "verification_status 3\n",
      "purpose 13\n",
      "title 12\n",
      "level_between_issue_settlement_date 5\n",
      "level_between_max_issue_sec_earliest_cr_line 11\n",
      "level_diff_last_issue_d 8\n",
      "level_diff_next_issue_d 6\n",
      "level_since_last_credit_pull 10\n",
      "T_unique_title 21\n",
      "level_since_issue 3\n",
      "level_between_max_issue_earliest_cr_line 10\n",
      "group_state 5\n",
      "In total: 109 will be additionally added.\n"
     ]
    }
   ],
   "source": [
    "# Create dummy features\n",
    "sum_len = 0\n",
    "for col in dummy_column:\n",
    "    sum_len += len(no_other_response_loan[col].unique())\n",
    "    print(col, len(no_other_response_loan[col].unique()))\n",
    "    \n",
    "print('In total:', sum_len - len(dummy_column), 'will be additionally added.')"
   ]
  },
  {
   "cell_type": "markdown",
   "metadata": {},
   "source": [
    "## 3. Data preprocessing"
   ]
  },
  {
   "cell_type": "markdown",
   "metadata": {},
   "source": [
    "### 3.1 Split data into train and test sets"
   ]
  },
  {
   "cell_type": "code",
   "execution_count": 269,
   "metadata": {},
   "outputs": [
    {
     "name": "stdout",
     "output_type": "stream",
     "text": [
      "(107864, 93)\n",
      "(107864,)\n"
     ]
    }
   ],
   "source": [
    "# Seperate features into x (independent features) and y (dependent feature)\n",
    "print(no_other_response_loan.shape)\n",
    "print(y.shape)"
   ]
  },
  {
   "cell_type": "code",
   "execution_count": 270,
   "metadata": {},
   "outputs": [
    {
     "name": "stdout",
     "output_type": "stream",
     "text": [
      "(107864, 202)\n"
     ]
    }
   ],
   "source": [
    "# 135 + 109 = 244, correct dummy feature transformation!\n",
    "# 93 + 109 = 202, correct dummy feature transformation!\n",
    "x = pd.get_dummies(no_other_response_loan, columns = dummy_column)\n",
    "print(x.shape)"
   ]
  },
  {
   "cell_type": "code",
   "execution_count": 271,
   "metadata": {},
   "outputs": [],
   "source": [
    "# Split data into train and test (80% & 20%)\n",
    "x_train, x_test, y_train, y_test = train_test_split(x, y, \n",
    "                                                    test_size = 0.2, random_state = 1)"
   ]
  },
  {
   "cell_type": "markdown",
   "metadata": {},
   "source": [
    "### 3.2 Standarize data"
   ]
  },
  {
   "cell_type": "code",
   "execution_count": 272,
   "metadata": {},
   "outputs": [],
   "source": [
    "# Before modeling, standardize each feature\n",
    "from sklearn.preprocessing import StandardScaler\n",
    "\n",
    "scaler = StandardScaler()\n",
    "\n",
    "x_train_std = scaler.fit_transform(x_train)\n",
    "x_test_std = scaler.transform(x_test)"
   ]
  },
  {
   "cell_type": "code",
   "execution_count": 273,
   "metadata": {},
   "outputs": [
    {
     "name": "stdout",
     "output_type": "stream",
     "text": [
      "(86291, 202)\n",
      "(21573, 202)\n",
      "86291\n",
      "21573\n"
     ]
    }
   ],
   "source": [
    "print(x_train_std.shape)\n",
    "print(x_test_std.shape)\n",
    "print(len(y_train))\n",
    "print(len(y_test))"
   ]
  },
  {
   "cell_type": "markdown",
   "metadata": {},
   "source": [
    "## 4. Modeling\n",
    "- 4.1 Bagged Decision Tree Regression\n",
    "    - 4.1.1 Randomized Grid Search\n",
    "    - 4.1.2 Model performance evaluation: MSE and R-squared\n",
    "- 4.2 Random Forest Regression\n",
    "    - 4.2.1 Randomized Grid Search \n",
    "    - 4.2.2 Model performance evaluation\n",
    "- 4.3 Gradient Boosting Regression\n",
    "    - 4.3.1 Randomized Grid Search \n",
    "    - 4.3.2 Model performance evaluation"
   ]
  },
  {
   "cell_type": "markdown",
   "metadata": {},
   "source": [
    "### 4.1 Bagged Decision Tree Regression\n",
    "- BaggingRegressor sklearn documentation: http://scikit-learn.org/stable/modules/generated/sklearn.ensemble.BaggingRegressor.html"
   ]
  },
  {
   "cell_type": "code",
   "execution_count": 53,
   "metadata": {},
   "outputs": [
    {
     "data": {
      "text/plain": [
       "BaggingRegressor(base_estimator=DecisionTreeRegressor(criterion='mse', max_depth=None, max_features=None,\n",
       "           max_leaf_nodes=None, min_impurity_decrease=0.0,\n",
       "           min_impurity_split=None, min_samples_leaf=1,\n",
       "           min_samples_split=2, min_weight_fraction_leaf=0.0,\n",
       "           presort=False, random_state=None, splitter='best'),\n",
       "         bootstrap=True, bootstrap_features=False, max_features=1.0,\n",
       "         max_samples=1.0, n_estimators=100, n_jobs=1, oob_score=False,\n",
       "         random_state=None, verbose=0, warm_start=False)"
      ]
     },
     "execution_count": 53,
     "metadata": {},
     "output_type": "execute_result"
    }
   ],
   "source": [
    "from sklearn.tree import DecisionTreeRegressor\n",
    "from sklearn.ensemble import BaggingRegressor\n",
    "\n",
    "# Construct a decision tree regression model\n",
    "tree_reg = DecisionTreeRegressor()\n",
    "\n",
    "# Use the decision tree regression model as the base estimator\n",
    "bag_reg = BaggingRegressor(base_estimator = tree_reg, n_estimators=100)\n",
    "bag_reg.fit(x_train_std, y_train)"
   ]
  },
  {
   "cell_type": "code",
   "execution_count": 54,
   "metadata": {},
   "outputs": [],
   "source": [
    "# Make a prediction based on test data\n",
    "prediction = bag_reg.predict(x_test_std)"
   ]
  },
  {
   "cell_type": "code",
   "execution_count": 55,
   "metadata": {},
   "outputs": [
    {
     "name": "stdout",
     "output_type": "stream",
     "text": [
      "Mean squared error: 1.22\n",
      "Variance score: 0.95\n"
     ]
    }
   ],
   "source": [
    "# Print out important metrics\n",
    "# Datset I: Mean squared error: 1.22, Variance score: 0.95\n",
    "# Dataset II: Mean squared error: 1.09, Variance score: 0.95\n",
    "from sklearn.metrics import mean_squared_error, r2_score\n",
    "\n",
    "print(\"Mean squared error: %.2f\"\n",
    "      % mean_squared_error(y_test, prediction))\n",
    "print('Variance score: %.2f' % r2_score(y_test, prediction))"
   ]
  },
  {
   "cell_type": "markdown",
   "metadata": {},
   "source": [
    "#### 4.1.1 Randomized Grid Search - Bagged Decision Tree Regression"
   ]
  },
  {
   "cell_type": "code",
   "execution_count": 56,
   "metadata": {},
   "outputs": [
    {
     "name": "stdout",
     "output_type": "stream",
     "text": [
      "execution time 4461.1379408836365\n"
     ]
    }
   ],
   "source": [
    "from sklearn.model_selection import RandomizedSearchCV\n",
    "# Record the randomized grid searching time\n",
    "start_time = time.time()\n",
    "\n",
    "# Construct a decision tree regression model\n",
    "tree_reg = DecisionTreeRegressor()\n",
    "\n",
    "# Use the decision tree regression model as the base estimator\n",
    "bag_reg = BaggingRegressor(base_estimator = tree_reg)\n",
    "\n",
    "# Construct ranges for each parameter \n",
    "param_grid = {\n",
    "    'base_estimator__max_depth' : [i for i in range(1, 26)],\n",
    "    'base_estimator__min_samples_leaf': [i for i in range(1, 51)],\n",
    "    'max_samples': [0.8,0.9,1.0],\n",
    "    'max_features': [0.8,0.9,1.0]\n",
    "}\n",
    "\n",
    "# Do the randomized grid searching 30 times \n",
    "# Find the optimal combination of parameters such that the minimum mean squared error attained\n",
    "grid_obj = RandomizedSearchCV(bag_reg, param_distributions=param_grid, cv=5, scoring='neg_mean_squared_error',\n",
    "                              n_iter = 30)\n",
    "grid_obj.fit(x_train_std, y_train)\n",
    "\n",
    "print('execution time', time.time() - start_time)"
   ]
  },
  {
   "cell_type": "code",
   "execution_count": 57,
   "metadata": {},
   "outputs": [
    {
     "data": {
      "text/plain": [
       "BaggingRegressor(base_estimator=DecisionTreeRegressor(criterion='mse', max_depth=25, max_features=None,\n",
       "           max_leaf_nodes=None, min_impurity_decrease=0.0,\n",
       "           min_impurity_split=None, min_samples_leaf=8,\n",
       "           min_samples_split=2, min_weight_fraction_leaf=0.0,\n",
       "           presort=False, random_state=None, splitter='best'),\n",
       "         bootstrap=True, bootstrap_features=False, max_features=0.8,\n",
       "         max_samples=0.8, n_estimators=10, n_jobs=1, oob_score=False,\n",
       "         random_state=None, verbose=0, warm_start=False)"
      ]
     },
     "execution_count": 57,
     "metadata": {},
     "output_type": "execute_result"
    }
   ],
   "source": [
    "# Call back the optimal combination of parameters \n",
    "bag_best_reg = grid_obj.best_estimator_\n",
    "bag_best_reg"
   ]
  },
  {
   "cell_type": "code",
   "execution_count": 58,
   "metadata": {},
   "outputs": [],
   "source": [
    "grid_search_result = pd.DataFrame({'rank': grid_obj.cv_results_['rank_test_score'].tolist(),\n",
    "                                   'params': grid_obj.cv_results_['params'],\n",
    "                                   'mean_test_score': grid_obj.cv_results_['mean_test_score'],\n",
    "                                   'mean_train_score': grid_obj.cv_results_['mean_train_score'],\n",
    "                                   'std_test_score': grid_obj.cv_results_['std_test_score'],\n",
    "                                   'std_train_score': grid_obj.cv_results_['std_train_score']\n",
    "                                  })"
   ]
  },
  {
   "cell_type": "code",
   "execution_count": 59,
   "metadata": {
    "scrolled": true
   },
   "outputs": [
    {
     "data": {
      "text/html": [
       "<div>\n",
       "<style scoped>\n",
       "    .dataframe tbody tr th:only-of-type {\n",
       "        vertical-align: middle;\n",
       "    }\n",
       "\n",
       "    .dataframe tbody tr th {\n",
       "        vertical-align: top;\n",
       "    }\n",
       "\n",
       "    .dataframe thead th {\n",
       "        text-align: right;\n",
       "    }\n",
       "</style>\n",
       "<table border=\"1\" class=\"dataframe\">\n",
       "  <thead>\n",
       "    <tr style=\"text-align: right;\">\n",
       "      <th></th>\n",
       "      <th>rank</th>\n",
       "      <th>params</th>\n",
       "      <th>mean_test_score</th>\n",
       "      <th>mean_train_score</th>\n",
       "      <th>std_test_score</th>\n",
       "      <th>std_train_score</th>\n",
       "    </tr>\n",
       "  </thead>\n",
       "  <tbody>\n",
       "    <tr>\n",
       "      <th>0</th>\n",
       "      <td>25</td>\n",
       "      <td>{'max_samples': 1.0, 'max_features': 1.0, 'bas...</td>\n",
       "      <td>-8.293427</td>\n",
       "      <td>-8.206929</td>\n",
       "      <td>0.085910</td>\n",
       "      <td>0.166707</td>\n",
       "    </tr>\n",
       "    <tr>\n",
       "      <th>1</th>\n",
       "      <td>11</td>\n",
       "      <td>{'max_samples': 0.9, 'max_features': 0.8, 'bas...</td>\n",
       "      <td>-2.154460</td>\n",
       "      <td>-1.583544</td>\n",
       "      <td>0.534726</td>\n",
       "      <td>0.338902</td>\n",
       "    </tr>\n",
       "    <tr>\n",
       "      <th>2</th>\n",
       "      <td>20</td>\n",
       "      <td>{'max_samples': 1.0, 'max_features': 1.0, 'bas...</td>\n",
       "      <td>-2.615107</td>\n",
       "      <td>-2.328393</td>\n",
       "      <td>0.050856</td>\n",
       "      <td>0.086182</td>\n",
       "    </tr>\n",
       "    <tr>\n",
       "      <th>3</th>\n",
       "      <td>9</td>\n",
       "      <td>{'max_samples': 0.8, 'max_features': 0.9, 'bas...</td>\n",
       "      <td>-2.087841</td>\n",
       "      <td>-1.796278</td>\n",
       "      <td>0.159552</td>\n",
       "      <td>0.096940</td>\n",
       "    </tr>\n",
       "    <tr>\n",
       "      <th>4</th>\n",
       "      <td>29</td>\n",
       "      <td>{'max_samples': 0.9, 'max_features': 0.8, 'bas...</td>\n",
       "      <td>-20.302305</td>\n",
       "      <td>-20.271552</td>\n",
       "      <td>0.272580</td>\n",
       "      <td>0.236160</td>\n",
       "    </tr>\n",
       "    <tr>\n",
       "      <th>5</th>\n",
       "      <td>23</td>\n",
       "      <td>{'max_samples': 0.8, 'max_features': 0.9, 'bas...</td>\n",
       "      <td>-4.675909</td>\n",
       "      <td>-4.501478</td>\n",
       "      <td>0.199536</td>\n",
       "      <td>0.178448</td>\n",
       "    </tr>\n",
       "    <tr>\n",
       "      <th>6</th>\n",
       "      <td>22</td>\n",
       "      <td>{'max_samples': 1.0, 'max_features': 0.8, 'bas...</td>\n",
       "      <td>-2.662069</td>\n",
       "      <td>-2.303075</td>\n",
       "      <td>0.604128</td>\n",
       "      <td>0.460593</td>\n",
       "    </tr>\n",
       "    <tr>\n",
       "      <th>7</th>\n",
       "      <td>7</td>\n",
       "      <td>{'max_samples': 0.9, 'max_features': 0.8, 'bas...</td>\n",
       "      <td>-1.915479</td>\n",
       "      <td>-1.085517</td>\n",
       "      <td>0.306702</td>\n",
       "      <td>0.174164</td>\n",
       "    </tr>\n",
       "    <tr>\n",
       "      <th>8</th>\n",
       "      <td>19</td>\n",
       "      <td>{'max_samples': 0.8, 'max_features': 0.9, 'bas...</td>\n",
       "      <td>-2.390423</td>\n",
       "      <td>-2.141625</td>\n",
       "      <td>0.056340</td>\n",
       "      <td>0.057908</td>\n",
       "    </tr>\n",
       "    <tr>\n",
       "      <th>9</th>\n",
       "      <td>8</td>\n",
       "      <td>{'max_samples': 0.8, 'max_features': 0.9, 'bas...</td>\n",
       "      <td>-2.066119</td>\n",
       "      <td>-1.644925</td>\n",
       "      <td>0.277606</td>\n",
       "      <td>0.191938</td>\n",
       "    </tr>\n",
       "    <tr>\n",
       "      <th>10</th>\n",
       "      <td>30</td>\n",
       "      <td>{'max_samples': 1.0, 'max_features': 0.8, 'bas...</td>\n",
       "      <td>-20.317724</td>\n",
       "      <td>-20.289712</td>\n",
       "      <td>0.309103</td>\n",
       "      <td>0.317175</td>\n",
       "    </tr>\n",
       "    <tr>\n",
       "      <th>11</th>\n",
       "      <td>1</td>\n",
       "      <td>{'max_samples': 0.8, 'max_features': 0.8, 'bas...</td>\n",
       "      <td>-1.620059</td>\n",
       "      <td>-0.958814</td>\n",
       "      <td>0.102542</td>\n",
       "      <td>0.064333</td>\n",
       "    </tr>\n",
       "    <tr>\n",
       "      <th>12</th>\n",
       "      <td>14</td>\n",
       "      <td>{'max_samples': 0.8, 'max_features': 0.8, 'bas...</td>\n",
       "      <td>-2.237117</td>\n",
       "      <td>-1.878468</td>\n",
       "      <td>0.233577</td>\n",
       "      <td>0.188322</td>\n",
       "    </tr>\n",
       "    <tr>\n",
       "      <th>13</th>\n",
       "      <td>12</td>\n",
       "      <td>{'max_samples': 0.9, 'max_features': 0.9, 'bas...</td>\n",
       "      <td>-2.205761</td>\n",
       "      <td>-1.915594</td>\n",
       "      <td>0.083681</td>\n",
       "      <td>0.104152</td>\n",
       "    </tr>\n",
       "    <tr>\n",
       "      <th>14</th>\n",
       "      <td>10</td>\n",
       "      <td>{'max_samples': 0.8, 'max_features': 0.9, 'bas...</td>\n",
       "      <td>-2.151253</td>\n",
       "      <td>-1.833639</td>\n",
       "      <td>0.147524</td>\n",
       "      <td>0.119416</td>\n",
       "    </tr>\n",
       "    <tr>\n",
       "      <th>15</th>\n",
       "      <td>13</td>\n",
       "      <td>{'max_samples': 0.9, 'max_features': 0.9, 'bas...</td>\n",
       "      <td>-2.228620</td>\n",
       "      <td>-1.949852</td>\n",
       "      <td>0.052453</td>\n",
       "      <td>0.059193</td>\n",
       "    </tr>\n",
       "    <tr>\n",
       "      <th>16</th>\n",
       "      <td>3</td>\n",
       "      <td>{'max_samples': 1.0, 'max_features': 1.0, 'bas...</td>\n",
       "      <td>-1.716332</td>\n",
       "      <td>-1.161681</td>\n",
       "      <td>0.047807</td>\n",
       "      <td>0.010178</td>\n",
       "    </tr>\n",
       "    <tr>\n",
       "      <th>17</th>\n",
       "      <td>18</td>\n",
       "      <td>{'max_samples': 0.9, 'max_features': 0.8, 'bas...</td>\n",
       "      <td>-2.324243</td>\n",
       "      <td>-1.902076</td>\n",
       "      <td>0.179773</td>\n",
       "      <td>0.182232</td>\n",
       "    </tr>\n",
       "    <tr>\n",
       "      <th>18</th>\n",
       "      <td>28</td>\n",
       "      <td>{'max_samples': 1.0, 'max_features': 0.9, 'bas...</td>\n",
       "      <td>-16.121208</td>\n",
       "      <td>-16.067503</td>\n",
       "      <td>0.174743</td>\n",
       "      <td>0.141047</td>\n",
       "    </tr>\n",
       "    <tr>\n",
       "      <th>19</th>\n",
       "      <td>27</td>\n",
       "      <td>{'max_samples': 1.0, 'max_features': 0.9, 'bas...</td>\n",
       "      <td>-16.027800</td>\n",
       "      <td>-15.978199</td>\n",
       "      <td>0.276526</td>\n",
       "      <td>0.115584</td>\n",
       "    </tr>\n",
       "    <tr>\n",
       "      <th>20</th>\n",
       "      <td>21</td>\n",
       "      <td>{'max_samples': 1.0, 'max_features': 1.0, 'bas...</td>\n",
       "      <td>-2.660413</td>\n",
       "      <td>-2.414681</td>\n",
       "      <td>0.048390</td>\n",
       "      <td>0.059647</td>\n",
       "    </tr>\n",
       "    <tr>\n",
       "      <th>21</th>\n",
       "      <td>5</td>\n",
       "      <td>{'max_samples': 1.0, 'max_features': 0.8, 'bas...</td>\n",
       "      <td>-1.853433</td>\n",
       "      <td>-1.347801</td>\n",
       "      <td>0.186956</td>\n",
       "      <td>0.093914</td>\n",
       "    </tr>\n",
       "    <tr>\n",
       "      <th>22</th>\n",
       "      <td>2</td>\n",
       "      <td>{'max_samples': 0.9, 'max_features': 1.0, 'bas...</td>\n",
       "      <td>-1.633649</td>\n",
       "      <td>-0.960506</td>\n",
       "      <td>0.026159</td>\n",
       "      <td>0.023813</td>\n",
       "    </tr>\n",
       "    <tr>\n",
       "      <th>23</th>\n",
       "      <td>4</td>\n",
       "      <td>{'max_samples': 1.0, 'max_features': 1.0, 'bas...</td>\n",
       "      <td>-1.730192</td>\n",
       "      <td>-1.166503</td>\n",
       "      <td>0.044585</td>\n",
       "      <td>0.025090</td>\n",
       "    </tr>\n",
       "    <tr>\n",
       "      <th>24</th>\n",
       "      <td>15</td>\n",
       "      <td>{'max_samples': 1.0, 'max_features': 0.9, 'bas...</td>\n",
       "      <td>-2.259457</td>\n",
       "      <td>-1.983517</td>\n",
       "      <td>0.106183</td>\n",
       "      <td>0.150908</td>\n",
       "    </tr>\n",
       "    <tr>\n",
       "      <th>25</th>\n",
       "      <td>6</td>\n",
       "      <td>{'max_samples': 1.0, 'max_features': 0.8, 'bas...</td>\n",
       "      <td>-1.864634</td>\n",
       "      <td>-1.265960</td>\n",
       "      <td>0.167828</td>\n",
       "      <td>0.117069</td>\n",
       "    </tr>\n",
       "    <tr>\n",
       "      <th>26</th>\n",
       "      <td>24</td>\n",
       "      <td>{'max_samples': 0.9, 'max_features': 1.0, 'bas...</td>\n",
       "      <td>-6.342588</td>\n",
       "      <td>-6.225790</td>\n",
       "      <td>0.127011</td>\n",
       "      <td>0.142075</td>\n",
       "    </tr>\n",
       "    <tr>\n",
       "      <th>27</th>\n",
       "      <td>26</td>\n",
       "      <td>{'max_samples': 1.0, 'max_features': 0.8, 'bas...</td>\n",
       "      <td>-10.444234</td>\n",
       "      <td>-10.370280</td>\n",
       "      <td>0.162296</td>\n",
       "      <td>0.204095</td>\n",
       "    </tr>\n",
       "    <tr>\n",
       "      <th>28</th>\n",
       "      <td>16</td>\n",
       "      <td>{'max_samples': 0.8, 'max_features': 0.9, 'bas...</td>\n",
       "      <td>-2.289965</td>\n",
       "      <td>-1.994703</td>\n",
       "      <td>0.107203</td>\n",
       "      <td>0.109577</td>\n",
       "    </tr>\n",
       "    <tr>\n",
       "      <th>29</th>\n",
       "      <td>17</td>\n",
       "      <td>{'max_samples': 1.0, 'max_features': 1.0, 'bas...</td>\n",
       "      <td>-2.291350</td>\n",
       "      <td>-2.012698</td>\n",
       "      <td>0.063299</td>\n",
       "      <td>0.032266</td>\n",
       "    </tr>\n",
       "  </tbody>\n",
       "</table>\n",
       "</div>"
      ],
      "text/plain": [
       "    rank                                             params  mean_test_score  \\\n",
       "0     25  {'max_samples': 1.0, 'max_features': 1.0, 'bas...        -8.293427   \n",
       "1     11  {'max_samples': 0.9, 'max_features': 0.8, 'bas...        -2.154460   \n",
       "2     20  {'max_samples': 1.0, 'max_features': 1.0, 'bas...        -2.615107   \n",
       "3      9  {'max_samples': 0.8, 'max_features': 0.9, 'bas...        -2.087841   \n",
       "4     29  {'max_samples': 0.9, 'max_features': 0.8, 'bas...       -20.302305   \n",
       "5     23  {'max_samples': 0.8, 'max_features': 0.9, 'bas...        -4.675909   \n",
       "6     22  {'max_samples': 1.0, 'max_features': 0.8, 'bas...        -2.662069   \n",
       "7      7  {'max_samples': 0.9, 'max_features': 0.8, 'bas...        -1.915479   \n",
       "8     19  {'max_samples': 0.8, 'max_features': 0.9, 'bas...        -2.390423   \n",
       "9      8  {'max_samples': 0.8, 'max_features': 0.9, 'bas...        -2.066119   \n",
       "10    30  {'max_samples': 1.0, 'max_features': 0.8, 'bas...       -20.317724   \n",
       "11     1  {'max_samples': 0.8, 'max_features': 0.8, 'bas...        -1.620059   \n",
       "12    14  {'max_samples': 0.8, 'max_features': 0.8, 'bas...        -2.237117   \n",
       "13    12  {'max_samples': 0.9, 'max_features': 0.9, 'bas...        -2.205761   \n",
       "14    10  {'max_samples': 0.8, 'max_features': 0.9, 'bas...        -2.151253   \n",
       "15    13  {'max_samples': 0.9, 'max_features': 0.9, 'bas...        -2.228620   \n",
       "16     3  {'max_samples': 1.0, 'max_features': 1.0, 'bas...        -1.716332   \n",
       "17    18  {'max_samples': 0.9, 'max_features': 0.8, 'bas...        -2.324243   \n",
       "18    28  {'max_samples': 1.0, 'max_features': 0.9, 'bas...       -16.121208   \n",
       "19    27  {'max_samples': 1.0, 'max_features': 0.9, 'bas...       -16.027800   \n",
       "20    21  {'max_samples': 1.0, 'max_features': 1.0, 'bas...        -2.660413   \n",
       "21     5  {'max_samples': 1.0, 'max_features': 0.8, 'bas...        -1.853433   \n",
       "22     2  {'max_samples': 0.9, 'max_features': 1.0, 'bas...        -1.633649   \n",
       "23     4  {'max_samples': 1.0, 'max_features': 1.0, 'bas...        -1.730192   \n",
       "24    15  {'max_samples': 1.0, 'max_features': 0.9, 'bas...        -2.259457   \n",
       "25     6  {'max_samples': 1.0, 'max_features': 0.8, 'bas...        -1.864634   \n",
       "26    24  {'max_samples': 0.9, 'max_features': 1.0, 'bas...        -6.342588   \n",
       "27    26  {'max_samples': 1.0, 'max_features': 0.8, 'bas...       -10.444234   \n",
       "28    16  {'max_samples': 0.8, 'max_features': 0.9, 'bas...        -2.289965   \n",
       "29    17  {'max_samples': 1.0, 'max_features': 1.0, 'bas...        -2.291350   \n",
       "\n",
       "    mean_train_score  std_test_score  std_train_score  \n",
       "0          -8.206929        0.085910         0.166707  \n",
       "1          -1.583544        0.534726         0.338902  \n",
       "2          -2.328393        0.050856         0.086182  \n",
       "3          -1.796278        0.159552         0.096940  \n",
       "4         -20.271552        0.272580         0.236160  \n",
       "5          -4.501478        0.199536         0.178448  \n",
       "6          -2.303075        0.604128         0.460593  \n",
       "7          -1.085517        0.306702         0.174164  \n",
       "8          -2.141625        0.056340         0.057908  \n",
       "9          -1.644925        0.277606         0.191938  \n",
       "10        -20.289712        0.309103         0.317175  \n",
       "11         -0.958814        0.102542         0.064333  \n",
       "12         -1.878468        0.233577         0.188322  \n",
       "13         -1.915594        0.083681         0.104152  \n",
       "14         -1.833639        0.147524         0.119416  \n",
       "15         -1.949852        0.052453         0.059193  \n",
       "16         -1.161681        0.047807         0.010178  \n",
       "17         -1.902076        0.179773         0.182232  \n",
       "18        -16.067503        0.174743         0.141047  \n",
       "19        -15.978199        0.276526         0.115584  \n",
       "20         -2.414681        0.048390         0.059647  \n",
       "21         -1.347801        0.186956         0.093914  \n",
       "22         -0.960506        0.026159         0.023813  \n",
       "23         -1.166503        0.044585         0.025090  \n",
       "24         -1.983517        0.106183         0.150908  \n",
       "25         -1.265960        0.167828         0.117069  \n",
       "26         -6.225790        0.127011         0.142075  \n",
       "27        -10.370280        0.162296         0.204095  \n",
       "28         -1.994703        0.107203         0.109577  \n",
       "29         -2.012698        0.063299         0.032266  "
      ]
     },
     "execution_count": 59,
     "metadata": {},
     "output_type": "execute_result"
    }
   ],
   "source": [
    "grid_search_result"
   ]
  },
  {
   "cell_type": "markdown",
   "metadata": {},
   "source": [
    "#### 4.1.2 Model performance evaluation: MSE and R-squared"
   ]
  },
  {
   "cell_type": "code",
   "execution_count": 60,
   "metadata": {},
   "outputs": [
    {
     "data": {
      "text/plain": [
       "BaggingRegressor(base_estimator=DecisionTreeRegressor(criterion='mse', max_depth=25, max_features=None,\n",
       "           max_leaf_nodes=None, min_impurity_decrease=0.0,\n",
       "           min_impurity_split=None, min_samples_leaf=8,\n",
       "           min_samples_split=2, min_weight_fraction_leaf=0.0,\n",
       "           presort=False, random_state=None, splitter='best'),\n",
       "         bootstrap=True, bootstrap_features=False, max_features=0.8,\n",
       "         max_samples=0.8, n_estimators=10, n_jobs=1, oob_score=False,\n",
       "         random_state=None, verbose=0, warm_start=False)"
      ]
     },
     "execution_count": 60,
     "metadata": {},
     "output_type": "execute_result"
    }
   ],
   "source": [
    "# Fit the train data with the best estimator again \n",
    "bag_best_reg.fit(x_train_std, y_train)"
   ]
  },
  {
   "cell_type": "code",
   "execution_count": 61,
   "metadata": {},
   "outputs": [
    {
     "name": "stdout",
     "output_type": "stream",
     "text": [
      "Mean squared error: 1.3878\n",
      "Variance score: 0.9439\n"
     ]
    }
   ],
   "source": [
    "# Dataset I: Mean squared error: 1.3878, Variance score: 0.9439\n",
    "# Dataset II: Mean squared error: 1.3092, Variance score: 0.9411\n",
    "\n",
    "# Make a prediction based on test data\n",
    "prediction = bag_best_reg.predict(x_test_std)\n",
    "\n",
    "# MSE (mean squared error)\n",
    "print(\"Mean squared error: %.4f\"\n",
    "      % mean_squared_error(y_test, prediction))\n",
    "\n",
    "# R-square \n",
    "print('Variance score: %.4f' % r2_score(y_test, prediction))"
   ]
  },
  {
   "cell_type": "markdown",
   "metadata": {},
   "source": [
    "### 4.2 Random Forest Regression\n",
    "- RandomForestRegressor sklearn documentation http://scikit-learn.org/stable/modules/generated/sklearn.ensemble.RandomForestRegressor.html"
   ]
  },
  {
   "cell_type": "code",
   "execution_count": 62,
   "metadata": {},
   "outputs": [
    {
     "data": {
      "text/plain": [
       "RandomForestRegressor(bootstrap=True, criterion='mse', max_depth=25,\n",
       "           max_features='auto', max_leaf_nodes=None,\n",
       "           min_impurity_decrease=0.0, min_impurity_split=None,\n",
       "           min_samples_leaf=5, min_samples_split=2,\n",
       "           min_weight_fraction_leaf=0.0, n_estimators=100, n_jobs=1,\n",
       "           oob_score=False, random_state=0, verbose=0, warm_start=False)"
      ]
     },
     "execution_count": 62,
     "metadata": {},
     "output_type": "execute_result"
    }
   ],
   "source": [
    "from sklearn.ensemble import RandomForestRegressor\n",
    "\n",
    "# Use a good start of parameter combination\n",
    "RF_reg = RandomForestRegressor(n_estimators = 100, max_depth = 25, min_samples_leaf = 5, random_state = 0)\n",
    "RF_reg.fit(x_train_std, y_train)"
   ]
  },
  {
   "cell_type": "code",
   "execution_count": 63,
   "metadata": {},
   "outputs": [],
   "source": [
    "prediction = RF_reg.predict(x_test_std)"
   ]
  },
  {
   "cell_type": "code",
   "execution_count": 64,
   "metadata": {},
   "outputs": [
    {
     "name": "stdout",
     "output_type": "stream",
     "text": [
      "Mean squared error: 1.2592\n",
      "Variance score: 0.9491\n"
     ]
    }
   ],
   "source": [
    "# Print out important metrics\n",
    "# Datset I: Mean squared error: 1.26, Variance score: 0.95\n",
    "# Dataset II: Mean squared error: 1.11, Variance score: 0.95\n",
    "print(\"Mean squared error: %.4f\"\n",
    "      % mean_squared_error(y_test, prediction))\n",
    "print('Variance score: %.4f' % r2_score(y_test, prediction))"
   ]
  },
  {
   "cell_type": "markdown",
   "metadata": {},
   "source": [
    "#### 4.2.1 Randomized Grid Search - Random Forest Regression"
   ]
  },
  {
   "cell_type": "code",
   "execution_count": 65,
   "metadata": {},
   "outputs": [
    {
     "name": "stdout",
     "output_type": "stream",
     "text": [
      "execution time 6504.2598259449005\n"
     ]
    }
   ],
   "source": [
    "# Record the randomized grid searching time\n",
    "start_time = time.time()\n",
    "\n",
    "# Construct a decision tree regression model\n",
    "RF_reg = RandomForestRegressor()\n",
    "\n",
    "# Construct ranges for each parameter \n",
    "param_grid = {'n_estimators': [100,150,200],\n",
    "              'max_features': [i for i in range(1, 51)],\n",
    "              'max_depth': [i for i in range(1, 26)],\n",
    "              'min_samples_leaf': [i for i in range(1, 51)]\n",
    "             }\n",
    "\n",
    "# Do the randomized grid searching 10 times \n",
    "# Find the optimal combination of parameters such that the minimum mean squared error attained\n",
    "grid_obj = RandomizedSearchCV(RF_reg, param_distributions=param_grid, cv=5, scoring='neg_mean_squared_error',\n",
    "                              n_iter = 30)\n",
    "grid_obj.fit(x_train_std, y_train)\n",
    "\n",
    "print('execution time', time.time() - start_time)"
   ]
  },
  {
   "cell_type": "code",
   "execution_count": 66,
   "metadata": {},
   "outputs": [
    {
     "data": {
      "text/plain": [
       "RandomForestRegressor(bootstrap=True, criterion='mse', max_depth=21,\n",
       "           max_features=39, max_leaf_nodes=None, min_impurity_decrease=0.0,\n",
       "           min_impurity_split=None, min_samples_leaf=4,\n",
       "           min_samples_split=2, min_weight_fraction_leaf=0.0,\n",
       "           n_estimators=150, n_jobs=1, oob_score=False, random_state=None,\n",
       "           verbose=0, warm_start=False)"
      ]
     },
     "execution_count": 66,
     "metadata": {},
     "output_type": "execute_result"
    }
   ],
   "source": [
    "# Call back the optimal combination of parameters \n",
    "RF_best_reg = grid_obj.best_estimator_\n",
    "RF_best_reg"
   ]
  },
  {
   "cell_type": "code",
   "execution_count": 67,
   "metadata": {},
   "outputs": [],
   "source": [
    "grid_search_result = pd.DataFrame({'rank': grid_obj.cv_results_['rank_test_score'].tolist(),\n",
    "                                   'params': grid_obj.cv_results_['params'],\n",
    "                                   'mean_test_score': grid_obj.cv_results_['mean_test_score'],\n",
    "                                   'mean_train_score': grid_obj.cv_results_['mean_train_score'],\n",
    "                                   'std_test_score': grid_obj.cv_results_['std_test_score'],\n",
    "                                   'std_train_score': grid_obj.cv_results_['std_train_score']\n",
    "                                  })"
   ]
  },
  {
   "cell_type": "code",
   "execution_count": 68,
   "metadata": {
    "scrolled": true
   },
   "outputs": [
    {
     "data": {
      "text/html": [
       "<div>\n",
       "<style scoped>\n",
       "    .dataframe tbody tr th:only-of-type {\n",
       "        vertical-align: middle;\n",
       "    }\n",
       "\n",
       "    .dataframe tbody tr th {\n",
       "        vertical-align: top;\n",
       "    }\n",
       "\n",
       "    .dataframe thead th {\n",
       "        text-align: right;\n",
       "    }\n",
       "</style>\n",
       "<table border=\"1\" class=\"dataframe\">\n",
       "  <thead>\n",
       "    <tr style=\"text-align: right;\">\n",
       "      <th></th>\n",
       "      <th>rank</th>\n",
       "      <th>params</th>\n",
       "      <th>mean_test_score</th>\n",
       "      <th>mean_train_score</th>\n",
       "      <th>std_test_score</th>\n",
       "      <th>std_train_score</th>\n",
       "    </tr>\n",
       "  </thead>\n",
       "  <tbody>\n",
       "    <tr>\n",
       "      <th>0</th>\n",
       "      <td>2</td>\n",
       "      <td>{'n_estimators': 150, 'min_samples_leaf': 10, ...</td>\n",
       "      <td>-3.235031</td>\n",
       "      <td>-2.018590</td>\n",
       "      <td>0.052125</td>\n",
       "      <td>0.032568</td>\n",
       "    </tr>\n",
       "    <tr>\n",
       "      <th>1</th>\n",
       "      <td>28</td>\n",
       "      <td>{'n_estimators': 150, 'min_samples_leaf': 28, ...</td>\n",
       "      <td>-21.108957</td>\n",
       "      <td>-21.071582</td>\n",
       "      <td>0.401109</td>\n",
       "      <td>0.155893</td>\n",
       "    </tr>\n",
       "    <tr>\n",
       "      <th>2</th>\n",
       "      <td>15</td>\n",
       "      <td>{'n_estimators': 150, 'min_samples_leaf': 19, ...</td>\n",
       "      <td>-9.858082</td>\n",
       "      <td>-9.659755</td>\n",
       "      <td>0.262607</td>\n",
       "      <td>0.117779</td>\n",
       "    </tr>\n",
       "    <tr>\n",
       "      <th>3</th>\n",
       "      <td>3</td>\n",
       "      <td>{'n_estimators': 150, 'min_samples_leaf': 21, ...</td>\n",
       "      <td>-3.529717</td>\n",
       "      <td>-2.741763</td>\n",
       "      <td>0.128461</td>\n",
       "      <td>0.088084</td>\n",
       "    </tr>\n",
       "    <tr>\n",
       "      <th>4</th>\n",
       "      <td>11</td>\n",
       "      <td>{'n_estimators': 100, 'min_samples_leaf': 8, '...</td>\n",
       "      <td>-8.318808</td>\n",
       "      <td>-5.426553</td>\n",
       "      <td>0.161777</td>\n",
       "      <td>0.115013</td>\n",
       "    </tr>\n",
       "    <tr>\n",
       "      <th>5</th>\n",
       "      <td>4</td>\n",
       "      <td>{'n_estimators': 200, 'min_samples_leaf': 5, '...</td>\n",
       "      <td>-4.520262</td>\n",
       "      <td>-2.038398</td>\n",
       "      <td>0.140933</td>\n",
       "      <td>0.043296</td>\n",
       "    </tr>\n",
       "    <tr>\n",
       "      <th>6</th>\n",
       "      <td>7</td>\n",
       "      <td>{'n_estimators': 150, 'min_samples_leaf': 21, ...</td>\n",
       "      <td>-6.716533</td>\n",
       "      <td>-5.393196</td>\n",
       "      <td>0.120532</td>\n",
       "      <td>0.061916</td>\n",
       "    </tr>\n",
       "    <tr>\n",
       "      <th>7</th>\n",
       "      <td>24</td>\n",
       "      <td>{'n_estimators': 200, 'min_samples_leaf': 44, ...</td>\n",
       "      <td>-14.175808</td>\n",
       "      <td>-13.967381</td>\n",
       "      <td>0.264106</td>\n",
       "      <td>0.129081</td>\n",
       "    </tr>\n",
       "    <tr>\n",
       "      <th>8</th>\n",
       "      <td>13</td>\n",
       "      <td>{'n_estimators': 150, 'min_samples_leaf': 42, ...</td>\n",
       "      <td>-9.224660</td>\n",
       "      <td>-8.662920</td>\n",
       "      <td>0.126970</td>\n",
       "      <td>0.111605</td>\n",
       "    </tr>\n",
       "    <tr>\n",
       "      <th>9</th>\n",
       "      <td>26</td>\n",
       "      <td>{'n_estimators': 200, 'min_samples_leaf': 8, '...</td>\n",
       "      <td>-17.444568</td>\n",
       "      <td>-17.411196</td>\n",
       "      <td>0.214693</td>\n",
       "      <td>0.080867</td>\n",
       "    </tr>\n",
       "    <tr>\n",
       "      <th>10</th>\n",
       "      <td>23</td>\n",
       "      <td>{'n_estimators': 100, 'min_samples_leaf': 36, ...</td>\n",
       "      <td>-13.380317</td>\n",
       "      <td>-13.276535</td>\n",
       "      <td>0.202360</td>\n",
       "      <td>0.198934</td>\n",
       "    </tr>\n",
       "    <tr>\n",
       "      <th>11</th>\n",
       "      <td>21</td>\n",
       "      <td>{'n_estimators': 100, 'min_samples_leaf': 3, '...</td>\n",
       "      <td>-12.646460</td>\n",
       "      <td>-12.064747</td>\n",
       "      <td>0.258297</td>\n",
       "      <td>0.146116</td>\n",
       "    </tr>\n",
       "    <tr>\n",
       "      <th>12</th>\n",
       "      <td>29</td>\n",
       "      <td>{'n_estimators': 200, 'min_samples_leaf': 43, ...</td>\n",
       "      <td>-22.517558</td>\n",
       "      <td>-22.422330</td>\n",
       "      <td>0.325196</td>\n",
       "      <td>0.046231</td>\n",
       "    </tr>\n",
       "    <tr>\n",
       "      <th>13</th>\n",
       "      <td>17</td>\n",
       "      <td>{'n_estimators': 150, 'min_samples_leaf': 4, '...</td>\n",
       "      <td>-11.579339</td>\n",
       "      <td>-7.075785</td>\n",
       "      <td>0.245505</td>\n",
       "      <td>0.064291</td>\n",
       "    </tr>\n",
       "    <tr>\n",
       "      <th>14</th>\n",
       "      <td>8</td>\n",
       "      <td>{'n_estimators': 150, 'min_samples_leaf': 48, ...</td>\n",
       "      <td>-6.963418</td>\n",
       "      <td>-6.402674</td>\n",
       "      <td>0.109812</td>\n",
       "      <td>0.063173</td>\n",
       "    </tr>\n",
       "    <tr>\n",
       "      <th>15</th>\n",
       "      <td>20</td>\n",
       "      <td>{'n_estimators': 200, 'min_samples_leaf': 43, ...</td>\n",
       "      <td>-12.483622</td>\n",
       "      <td>-12.161628</td>\n",
       "      <td>0.205710</td>\n",
       "      <td>0.122913</td>\n",
       "    </tr>\n",
       "    <tr>\n",
       "      <th>16</th>\n",
       "      <td>9</td>\n",
       "      <td>{'n_estimators': 150, 'min_samples_leaf': 7, '...</td>\n",
       "      <td>-7.806800</td>\n",
       "      <td>-4.781547</td>\n",
       "      <td>0.213473</td>\n",
       "      <td>0.069583</td>\n",
       "    </tr>\n",
       "    <tr>\n",
       "      <th>17</th>\n",
       "      <td>30</td>\n",
       "      <td>{'n_estimators': 200, 'min_samples_leaf': 16, ...</td>\n",
       "      <td>-22.849124</td>\n",
       "      <td>-22.836249</td>\n",
       "      <td>0.205351</td>\n",
       "      <td>0.146720</td>\n",
       "    </tr>\n",
       "    <tr>\n",
       "      <th>18</th>\n",
       "      <td>1</td>\n",
       "      <td>{'n_estimators': 150, 'min_samples_leaf': 4, '...</td>\n",
       "      <td>-3.117682</td>\n",
       "      <td>-1.160302</td>\n",
       "      <td>0.040201</td>\n",
       "      <td>0.018565</td>\n",
       "    </tr>\n",
       "    <tr>\n",
       "      <th>19</th>\n",
       "      <td>27</td>\n",
       "      <td>{'n_estimators': 100, 'min_samples_leaf': 28, ...</td>\n",
       "      <td>-20.647114</td>\n",
       "      <td>-20.615640</td>\n",
       "      <td>0.319851</td>\n",
       "      <td>0.102417</td>\n",
       "    </tr>\n",
       "    <tr>\n",
       "      <th>20</th>\n",
       "      <td>16</td>\n",
       "      <td>{'n_estimators': 150, 'min_samples_leaf': 30, ...</td>\n",
       "      <td>-11.089253</td>\n",
       "      <td>-9.855331</td>\n",
       "      <td>0.205469</td>\n",
       "      <td>0.043316</td>\n",
       "    </tr>\n",
       "    <tr>\n",
       "      <th>21</th>\n",
       "      <td>6</td>\n",
       "      <td>{'n_estimators': 200, 'min_samples_leaf': 27, ...</td>\n",
       "      <td>-5.341021</td>\n",
       "      <td>-4.783374</td>\n",
       "      <td>0.110825</td>\n",
       "      <td>0.081418</td>\n",
       "    </tr>\n",
       "    <tr>\n",
       "      <th>22</th>\n",
       "      <td>10</td>\n",
       "      <td>{'n_estimators': 100, 'min_samples_leaf': 32, ...</td>\n",
       "      <td>-8.108291</td>\n",
       "      <td>-7.392409</td>\n",
       "      <td>0.260016</td>\n",
       "      <td>0.080844</td>\n",
       "    </tr>\n",
       "    <tr>\n",
       "      <th>23</th>\n",
       "      <td>14</td>\n",
       "      <td>{'n_estimators': 200, 'min_samples_leaf': 20, ...</td>\n",
       "      <td>-9.736024</td>\n",
       "      <td>-9.534778</td>\n",
       "      <td>0.290740</td>\n",
       "      <td>0.152674</td>\n",
       "    </tr>\n",
       "    <tr>\n",
       "      <th>24</th>\n",
       "      <td>12</td>\n",
       "      <td>{'n_estimators': 150, 'min_samples_leaf': 23, ...</td>\n",
       "      <td>-8.880316</td>\n",
       "      <td>-7.456553</td>\n",
       "      <td>0.161943</td>\n",
       "      <td>0.134877</td>\n",
       "    </tr>\n",
       "    <tr>\n",
       "      <th>25</th>\n",
       "      <td>22</td>\n",
       "      <td>{'n_estimators': 100, 'min_samples_leaf': 21, ...</td>\n",
       "      <td>-12.885414</td>\n",
       "      <td>-12.739345</td>\n",
       "      <td>0.292787</td>\n",
       "      <td>0.230845</td>\n",
       "    </tr>\n",
       "    <tr>\n",
       "      <th>26</th>\n",
       "      <td>19</td>\n",
       "      <td>{'n_estimators': 150, 'min_samples_leaf': 48, ...</td>\n",
       "      <td>-11.928153</td>\n",
       "      <td>-11.103197</td>\n",
       "      <td>0.224026</td>\n",
       "      <td>0.063022</td>\n",
       "    </tr>\n",
       "    <tr>\n",
       "      <th>27</th>\n",
       "      <td>18</td>\n",
       "      <td>{'n_estimators': 150, 'min_samples_leaf': 34, ...</td>\n",
       "      <td>-11.592346</td>\n",
       "      <td>-11.456324</td>\n",
       "      <td>0.255401</td>\n",
       "      <td>0.105839</td>\n",
       "    </tr>\n",
       "    <tr>\n",
       "      <th>28</th>\n",
       "      <td>5</td>\n",
       "      <td>{'n_estimators': 100, 'min_samples_leaf': 15, ...</td>\n",
       "      <td>-4.906394</td>\n",
       "      <td>-3.816780</td>\n",
       "      <td>0.042705</td>\n",
       "      <td>0.083959</td>\n",
       "    </tr>\n",
       "    <tr>\n",
       "      <th>29</th>\n",
       "      <td>25</td>\n",
       "      <td>{'n_estimators': 100, 'min_samples_leaf': 6, '...</td>\n",
       "      <td>-14.512701</td>\n",
       "      <td>-14.372885</td>\n",
       "      <td>0.223284</td>\n",
       "      <td>0.232946</td>\n",
       "    </tr>\n",
       "  </tbody>\n",
       "</table>\n",
       "</div>"
      ],
      "text/plain": [
       "    rank                                             params  mean_test_score  \\\n",
       "0      2  {'n_estimators': 150, 'min_samples_leaf': 10, ...        -3.235031   \n",
       "1     28  {'n_estimators': 150, 'min_samples_leaf': 28, ...       -21.108957   \n",
       "2     15  {'n_estimators': 150, 'min_samples_leaf': 19, ...        -9.858082   \n",
       "3      3  {'n_estimators': 150, 'min_samples_leaf': 21, ...        -3.529717   \n",
       "4     11  {'n_estimators': 100, 'min_samples_leaf': 8, '...        -8.318808   \n",
       "5      4  {'n_estimators': 200, 'min_samples_leaf': 5, '...        -4.520262   \n",
       "6      7  {'n_estimators': 150, 'min_samples_leaf': 21, ...        -6.716533   \n",
       "7     24  {'n_estimators': 200, 'min_samples_leaf': 44, ...       -14.175808   \n",
       "8     13  {'n_estimators': 150, 'min_samples_leaf': 42, ...        -9.224660   \n",
       "9     26  {'n_estimators': 200, 'min_samples_leaf': 8, '...       -17.444568   \n",
       "10    23  {'n_estimators': 100, 'min_samples_leaf': 36, ...       -13.380317   \n",
       "11    21  {'n_estimators': 100, 'min_samples_leaf': 3, '...       -12.646460   \n",
       "12    29  {'n_estimators': 200, 'min_samples_leaf': 43, ...       -22.517558   \n",
       "13    17  {'n_estimators': 150, 'min_samples_leaf': 4, '...       -11.579339   \n",
       "14     8  {'n_estimators': 150, 'min_samples_leaf': 48, ...        -6.963418   \n",
       "15    20  {'n_estimators': 200, 'min_samples_leaf': 43, ...       -12.483622   \n",
       "16     9  {'n_estimators': 150, 'min_samples_leaf': 7, '...        -7.806800   \n",
       "17    30  {'n_estimators': 200, 'min_samples_leaf': 16, ...       -22.849124   \n",
       "18     1  {'n_estimators': 150, 'min_samples_leaf': 4, '...        -3.117682   \n",
       "19    27  {'n_estimators': 100, 'min_samples_leaf': 28, ...       -20.647114   \n",
       "20    16  {'n_estimators': 150, 'min_samples_leaf': 30, ...       -11.089253   \n",
       "21     6  {'n_estimators': 200, 'min_samples_leaf': 27, ...        -5.341021   \n",
       "22    10  {'n_estimators': 100, 'min_samples_leaf': 32, ...        -8.108291   \n",
       "23    14  {'n_estimators': 200, 'min_samples_leaf': 20, ...        -9.736024   \n",
       "24    12  {'n_estimators': 150, 'min_samples_leaf': 23, ...        -8.880316   \n",
       "25    22  {'n_estimators': 100, 'min_samples_leaf': 21, ...       -12.885414   \n",
       "26    19  {'n_estimators': 150, 'min_samples_leaf': 48, ...       -11.928153   \n",
       "27    18  {'n_estimators': 150, 'min_samples_leaf': 34, ...       -11.592346   \n",
       "28     5  {'n_estimators': 100, 'min_samples_leaf': 15, ...        -4.906394   \n",
       "29    25  {'n_estimators': 100, 'min_samples_leaf': 6, '...       -14.512701   \n",
       "\n",
       "    mean_train_score  std_test_score  std_train_score  \n",
       "0          -2.018590        0.052125         0.032568  \n",
       "1         -21.071582        0.401109         0.155893  \n",
       "2          -9.659755        0.262607         0.117779  \n",
       "3          -2.741763        0.128461         0.088084  \n",
       "4          -5.426553        0.161777         0.115013  \n",
       "5          -2.038398        0.140933         0.043296  \n",
       "6          -5.393196        0.120532         0.061916  \n",
       "7         -13.967381        0.264106         0.129081  \n",
       "8          -8.662920        0.126970         0.111605  \n",
       "9         -17.411196        0.214693         0.080867  \n",
       "10        -13.276535        0.202360         0.198934  \n",
       "11        -12.064747        0.258297         0.146116  \n",
       "12        -22.422330        0.325196         0.046231  \n",
       "13         -7.075785        0.245505         0.064291  \n",
       "14         -6.402674        0.109812         0.063173  \n",
       "15        -12.161628        0.205710         0.122913  \n",
       "16         -4.781547        0.213473         0.069583  \n",
       "17        -22.836249        0.205351         0.146720  \n",
       "18         -1.160302        0.040201         0.018565  \n",
       "19        -20.615640        0.319851         0.102417  \n",
       "20         -9.855331        0.205469         0.043316  \n",
       "21         -4.783374        0.110825         0.081418  \n",
       "22         -7.392409        0.260016         0.080844  \n",
       "23         -9.534778        0.290740         0.152674  \n",
       "24         -7.456553        0.161943         0.134877  \n",
       "25        -12.739345        0.292787         0.230845  \n",
       "26        -11.103197        0.224026         0.063022  \n",
       "27        -11.456324        0.255401         0.105839  \n",
       "28         -3.816780        0.042705         0.083959  \n",
       "29        -14.372885        0.223284         0.232946  "
      ]
     },
     "execution_count": 68,
     "metadata": {},
     "output_type": "execute_result"
    }
   ],
   "source": [
    "grid_search_result"
   ]
  },
  {
   "cell_type": "markdown",
   "metadata": {},
   "source": [
    "#### 4.2.2 Model performance evaluation: MSE and R-squared"
   ]
  },
  {
   "cell_type": "code",
   "execution_count": 276,
   "metadata": {},
   "outputs": [],
   "source": [
    "RF_best_reg = RandomForestRegressor(max_depth=21, max_features=39, min_samples_leaf=4,\n",
    "                                    n_estimators=150)"
   ]
  },
  {
   "cell_type": "code",
   "execution_count": 277,
   "metadata": {},
   "outputs": [
    {
     "data": {
      "text/plain": [
       "RandomForestRegressor(bootstrap=True, criterion='mse', max_depth=21,\n",
       "           max_features=39, max_leaf_nodes=None, min_impurity_decrease=0.0,\n",
       "           min_impurity_split=None, min_samples_leaf=4,\n",
       "           min_samples_split=2, min_weight_fraction_leaf=0.0,\n",
       "           n_estimators=150, n_jobs=1, oob_score=False, random_state=None,\n",
       "           verbose=0, warm_start=False)"
      ]
     },
     "execution_count": 277,
     "metadata": {},
     "output_type": "execute_result"
    }
   ],
   "source": [
    "RF_best_reg.fit(x_train_std, y_train)"
   ]
  },
  {
   "cell_type": "code",
   "execution_count": 280,
   "metadata": {},
   "outputs": [
    {
     "name": "stdout",
     "output_type": "stream",
     "text": [
      "Mean squared error: 1.97\n",
      "Variance score: 0.91\n"
     ]
    }
   ],
   "source": [
    "# Dataset I: Mean squared error: 2.88, Variance score: 0.88\n",
    "# Dataset II: Mean squared error: 2.51, Variance score: 0.89\n",
    "\n",
    "# Make a prediction based on test data\n",
    "prediction = RF_best_reg.predict(x_test_std)\n",
    "\n",
    "# MSE (mean squared error)\n",
    "print(\"Mean squared error: %.2f\"\n",
    "      % mean_squared_error(y_test, prediction))\n",
    "# R-square \n",
    "print('Variance score: %.2f' % r2_score(y_test, prediction))"
   ]
  },
  {
   "cell_type": "code",
   "execution_count": 282,
   "metadata": {
    "scrolled": true
   },
   "outputs": [
    {
     "data": {
      "text/html": [
       "<div>\n",
       "<style scoped>\n",
       "    .dataframe tbody tr th:only-of-type {\n",
       "        vertical-align: middle;\n",
       "    }\n",
       "\n",
       "    .dataframe tbody tr th {\n",
       "        vertical-align: top;\n",
       "    }\n",
       "\n",
       "    .dataframe thead th {\n",
       "        text-align: right;\n",
       "    }\n",
       "</style>\n",
       "<table border=\"1\" class=\"dataframe\">\n",
       "  <thead>\n",
       "    <tr style=\"text-align: right;\">\n",
       "      <th></th>\n",
       "      <th>feature</th>\n",
       "      <th>importance</th>\n",
       "    </tr>\n",
       "  </thead>\n",
       "  <tbody>\n",
       "    <tr>\n",
       "      <th>18</th>\n",
       "      <td>total_rec_int</td>\n",
       "      <td>0.263285</td>\n",
       "    </tr>\n",
       "    <tr>\n",
       "      <th>17</th>\n",
       "      <td>total_rec_prncp</td>\n",
       "      <td>0.105313</td>\n",
       "    </tr>\n",
       "    <tr>\n",
       "      <th>39</th>\n",
       "      <td>bc_open_to_buy</td>\n",
       "      <td>0.061223</td>\n",
       "    </tr>\n",
       "    <tr>\n",
       "      <th>3</th>\n",
       "      <td>term</td>\n",
       "      <td>0.050005</td>\n",
       "    </tr>\n",
       "    <tr>\n",
       "      <th>59</th>\n",
       "      <td>percent_bc_gt_75</td>\n",
       "      <td>0.031902</td>\n",
       "    </tr>\n",
       "    <tr>\n",
       "      <th>32</th>\n",
       "      <td>all_util</td>\n",
       "      <td>0.030486</td>\n",
       "    </tr>\n",
       "    <tr>\n",
       "      <th>16</th>\n",
       "      <td>total_pymnt_inv</td>\n",
       "      <td>0.029619</td>\n",
       "    </tr>\n",
       "    <tr>\n",
       "      <th>15</th>\n",
       "      <td>total_pymnt</td>\n",
       "      <td>0.029026</td>\n",
       "    </tr>\n",
       "    <tr>\n",
       "      <th>4</th>\n",
       "      <td>installment</td>\n",
       "      <td>0.027234</td>\n",
       "    </tr>\n",
       "    <tr>\n",
       "      <th>14</th>\n",
       "      <td>out_prncp_inv</td>\n",
       "      <td>0.026978</td>\n",
       "    </tr>\n",
       "  </tbody>\n",
       "</table>\n",
       "</div>"
      ],
      "text/plain": [
       "             feature  importance\n",
       "18     total_rec_int    0.263285\n",
       "17   total_rec_prncp    0.105313\n",
       "39    bc_open_to_buy    0.061223\n",
       "3               term    0.050005\n",
       "59  percent_bc_gt_75    0.031902\n",
       "32          all_util    0.030486\n",
       "16   total_pymnt_inv    0.029619\n",
       "15       total_pymnt    0.029026\n",
       "4        installment    0.027234\n",
       "14     out_prncp_inv    0.026978"
      ]
     },
     "execution_count": 282,
     "metadata": {},
     "output_type": "execute_result"
    }
   ],
   "source": [
    "# Feature importance by Random Forest\n",
    "df_coeffs = pd.DataFrame(list(zip(x.columns, RF_best_reg.feature_importances_.flatten()))).sort_values(by=[1], ascending=False)\n",
    "df_coeffs.columns = ['feature', 'importance']\n",
    "df_coeffs.head(10)"
   ]
  },
  {
   "cell_type": "markdown",
   "metadata": {},
   "source": [
    "### 4.3 Gradient Boosting Regression\n",
    "- GradientBoostingRegressor sklearn documentation: http://scikit-learn.org/stable/modules/generated/sklearn.ensemble.GradientBoostingRegressor.html"
   ]
  },
  {
   "cell_type": "code",
   "execution_count": 71,
   "metadata": {},
   "outputs": [],
   "source": [
    "from sklearn.ensemble import GradientBoostingRegressor\n",
    "\n",
    "# Use a good start of parameter combination\n",
    "parameters = {\n",
    "    'n_estimators': 100,\n",
    "    'max_depth': 5,\n",
    "    'learning_rate': 0.1,\n",
    "    'subsample': 0.7,\n",
    "    'max_features':0.8,\n",
    "    'random_state': 0\n",
    "}\n",
    "\n",
    "GBDT_reg = GradientBoostingRegressor(**parameters)"
   ]
  },
  {
   "cell_type": "code",
   "execution_count": 72,
   "metadata": {},
   "outputs": [
    {
     "data": {
      "text/plain": [
       "GradientBoostingRegressor(alpha=0.9, criterion='friedman_mse', init=None,\n",
       "             learning_rate=0.1, loss='ls', max_depth=5, max_features=0.8,\n",
       "             max_leaf_nodes=None, min_impurity_decrease=0.0,\n",
       "             min_impurity_split=None, min_samples_leaf=1,\n",
       "             min_samples_split=2, min_weight_fraction_leaf=0.0,\n",
       "             n_estimators=100, presort='auto', random_state=0,\n",
       "             subsample=0.7, verbose=0, warm_start=False)"
      ]
     },
     "execution_count": 72,
     "metadata": {},
     "output_type": "execute_result"
    }
   ],
   "source": [
    "GBDT_reg.fit(x_train_std, y_train)"
   ]
  },
  {
   "cell_type": "code",
   "execution_count": 73,
   "metadata": {},
   "outputs": [
    {
     "name": "stdout",
     "output_type": "stream",
     "text": [
      "Mean squared error: 1.29\n",
      "Variance score: 0.95\n"
     ]
    }
   ],
   "source": [
    "# Print out important metrics\n",
    "# Datset I: Mean squared error: 1.29, Variance score: 0.95\n",
    "# Dataset II:Mean squared error: 1.18, Variance score: 0.95\n",
    "prediction = GBDT_reg.predict(x_test_std)\n",
    "print(\"Mean squared error: %.2f\"\n",
    "      % mean_squared_error(y_test, prediction))\n",
    "print('Variance score: %.2f' % r2_score(y_test, prediction))"
   ]
  },
  {
   "cell_type": "markdown",
   "metadata": {},
   "source": [
    "#### 4.3.1 Randomized Grid Search - GB regression"
   ]
  },
  {
   "cell_type": "code",
   "execution_count": 74,
   "metadata": {},
   "outputs": [
    {
     "name": "stdout",
     "output_type": "stream",
     "text": [
      "execution time 49964.14815783501\n"
     ]
    }
   ],
   "source": [
    "# Record the randomized grid searching time\n",
    "start_time = time.time()\n",
    "\n",
    "# Initiate the GB regression\n",
    "GBDT_reg = GradientBoostingRegressor()\n",
    "\n",
    "# Construct ranges for each parameter \n",
    "param_grid = {'n_estimators': [100,150,200],\n",
    "              'max_depth': [3,4,5,6],\n",
    "              'learning_rate': [i * 0.01 for i in range(1, 101)],\n",
    "              'subsample': [0.8,0.9],\n",
    "              'max_features': [0.8,0.9]\n",
    "             }\n",
    "\n",
    "# Do the randomized grid searching 30 times \n",
    "# Find the optimal combination of parameters such that the minimum mean squared error attained\n",
    "grid_obj = RandomizedSearchCV(GBDT_reg, param_distributions=param_grid, cv=5, scoring='neg_mean_squared_error',\n",
    "                              n_iter = 30)\n",
    "grid_obj.fit(x_train_std, y_train)\n",
    "\n",
    "print('execution time', time.time() - start_time)"
   ]
  },
  {
   "cell_type": "code",
   "execution_count": 38,
   "metadata": {},
   "outputs": [
    {
     "data": {
      "text/plain": [
       "GradientBoostingRegressor(alpha=0.9, criterion='friedman_mse', init=None,\n",
       "             learning_rate=0.13, loss='ls', max_depth=6, max_features=0.9,\n",
       "             max_leaf_nodes=None, min_impurity_decrease=0.0,\n",
       "             min_impurity_split=None, min_samples_leaf=1,\n",
       "             min_samples_split=2, min_weight_fraction_leaf=0.0,\n",
       "             n_estimators=150, presort='auto', random_state=None,\n",
       "             subsample=0.9, verbose=0, warm_start=False)"
      ]
     },
     "execution_count": 38,
     "metadata": {},
     "output_type": "execute_result"
    }
   ],
   "source": [
    "# Call back the optimal combination of parameters \n",
    "GBDT_best_reg = grid_obj.best_estimator_\n",
    "GBDT_best_reg"
   ]
  },
  {
   "cell_type": "code",
   "execution_count": 39,
   "metadata": {},
   "outputs": [],
   "source": [
    "grid_search_result = pd.DataFrame({'rank': grid_obj.cv_results_['rank_test_score'].tolist(),\n",
    "                                   'params': grid_obj.cv_results_['params'],\n",
    "                                   'mean_test_score': grid_obj.cv_results_['mean_test_score'],\n",
    "                                   'mean_train_score': grid_obj.cv_results_['mean_train_score'],\n",
    "                                   'std_test_score': grid_obj.cv_results_['std_test_score'],\n",
    "                                   'std_train_score': grid_obj.cv_results_['std_train_score']\n",
    "                                  })"
   ]
  },
  {
   "cell_type": "code",
   "execution_count": 40,
   "metadata": {
    "scrolled": true
   },
   "outputs": [
    {
     "data": {
      "text/html": [
       "<div>\n",
       "<style scoped>\n",
       "    .dataframe tbody tr th:only-of-type {\n",
       "        vertical-align: middle;\n",
       "    }\n",
       "\n",
       "    .dataframe tbody tr th {\n",
       "        vertical-align: top;\n",
       "    }\n",
       "\n",
       "    .dataframe thead th {\n",
       "        text-align: right;\n",
       "    }\n",
       "</style>\n",
       "<table border=\"1\" class=\"dataframe\">\n",
       "  <thead>\n",
       "    <tr style=\"text-align: right;\">\n",
       "      <th></th>\n",
       "      <th>rank</th>\n",
       "      <th>params</th>\n",
       "      <th>mean_test_score</th>\n",
       "      <th>mean_train_score</th>\n",
       "      <th>std_test_score</th>\n",
       "      <th>std_train_score</th>\n",
       "    </tr>\n",
       "  </thead>\n",
       "  <tbody>\n",
       "    <tr>\n",
       "      <th>0</th>\n",
       "      <td>25</td>\n",
       "      <td>{'subsample': 0.8, 'n_estimators': 150, 'max_f...</td>\n",
       "      <td>-2.141185</td>\n",
       "      <td>-0.444090</td>\n",
       "      <td>0.120622</td>\n",
       "      <td>0.050616</td>\n",
       "    </tr>\n",
       "    <tr>\n",
       "      <th>1</th>\n",
       "      <td>12</td>\n",
       "      <td>{'subsample': 0.9, 'n_estimators': 100, 'max_f...</td>\n",
       "      <td>-1.356541</td>\n",
       "      <td>-0.923931</td>\n",
       "      <td>0.066818</td>\n",
       "      <td>0.078717</td>\n",
       "    </tr>\n",
       "    <tr>\n",
       "      <th>2</th>\n",
       "      <td>22</td>\n",
       "      <td>{'subsample': 0.8, 'n_estimators': 200, 'max_f...</td>\n",
       "      <td>-1.730518</td>\n",
       "      <td>-0.501969</td>\n",
       "      <td>0.084690</td>\n",
       "      <td>0.038593</td>\n",
       "    </tr>\n",
       "    <tr>\n",
       "      <th>3</th>\n",
       "      <td>29</td>\n",
       "      <td>{'subsample': 0.9, 'n_estimators': 100, 'max_f...</td>\n",
       "      <td>-2.768983</td>\n",
       "      <td>-0.765088</td>\n",
       "      <td>0.161988</td>\n",
       "      <td>0.084240</td>\n",
       "    </tr>\n",
       "    <tr>\n",
       "      <th>4</th>\n",
       "      <td>11</td>\n",
       "      <td>{'subsample': 0.9, 'n_estimators': 150, 'max_f...</td>\n",
       "      <td>-1.351830</td>\n",
       "      <td>-0.742925</td>\n",
       "      <td>0.066503</td>\n",
       "      <td>0.035076</td>\n",
       "    </tr>\n",
       "    <tr>\n",
       "      <th>5</th>\n",
       "      <td>19</td>\n",
       "      <td>{'subsample': 0.9, 'n_estimators': 100, 'max_f...</td>\n",
       "      <td>-1.588239</td>\n",
       "      <td>-1.447771</td>\n",
       "      <td>0.051037</td>\n",
       "      <td>0.046430</td>\n",
       "    </tr>\n",
       "    <tr>\n",
       "      <th>6</th>\n",
       "      <td>10</td>\n",
       "      <td>{'subsample': 0.8, 'n_estimators': 150, 'max_f...</td>\n",
       "      <td>-1.340956</td>\n",
       "      <td>-0.775676</td>\n",
       "      <td>0.048998</td>\n",
       "      <td>0.036728</td>\n",
       "    </tr>\n",
       "    <tr>\n",
       "      <th>7</th>\n",
       "      <td>26</td>\n",
       "      <td>{'subsample': 0.8, 'n_estimators': 100, 'max_f...</td>\n",
       "      <td>-2.150928</td>\n",
       "      <td>-0.648411</td>\n",
       "      <td>0.102218</td>\n",
       "      <td>0.042342</td>\n",
       "    </tr>\n",
       "    <tr>\n",
       "      <th>8</th>\n",
       "      <td>16</td>\n",
       "      <td>{'subsample': 0.8, 'n_estimators': 100, 'max_f...</td>\n",
       "      <td>-1.431730</td>\n",
       "      <td>-1.248409</td>\n",
       "      <td>0.025197</td>\n",
       "      <td>0.016367</td>\n",
       "    </tr>\n",
       "    <tr>\n",
       "      <th>9</th>\n",
       "      <td>9</td>\n",
       "      <td>{'subsample': 0.8, 'n_estimators': 100, 'max_f...</td>\n",
       "      <td>-1.287901</td>\n",
       "      <td>-0.697773</td>\n",
       "      <td>0.065719</td>\n",
       "      <td>0.038103</td>\n",
       "    </tr>\n",
       "    <tr>\n",
       "      <th>10</th>\n",
       "      <td>23</td>\n",
       "      <td>{'subsample': 0.8, 'n_estimators': 200, 'max_f...</td>\n",
       "      <td>-1.788260</td>\n",
       "      <td>-1.675820</td>\n",
       "      <td>0.031126</td>\n",
       "      <td>0.002937</td>\n",
       "    </tr>\n",
       "    <tr>\n",
       "      <th>11</th>\n",
       "      <td>1</td>\n",
       "      <td>{'subsample': 0.9, 'n_estimators': 150, 'max_f...</td>\n",
       "      <td>-0.812239</td>\n",
       "      <td>-0.391759</td>\n",
       "      <td>0.019789</td>\n",
       "      <td>0.005180</td>\n",
       "    </tr>\n",
       "    <tr>\n",
       "      <th>12</th>\n",
       "      <td>30</td>\n",
       "      <td>{'subsample': 0.9, 'n_estimators': 150, 'max_f...</td>\n",
       "      <td>-2.918844</td>\n",
       "      <td>-0.551084</td>\n",
       "      <td>0.283922</td>\n",
       "      <td>0.092846</td>\n",
       "    </tr>\n",
       "    <tr>\n",
       "      <th>13</th>\n",
       "      <td>20</td>\n",
       "      <td>{'subsample': 0.9, 'n_estimators': 100, 'max_f...</td>\n",
       "      <td>-1.684596</td>\n",
       "      <td>-0.477383</td>\n",
       "      <td>0.062270</td>\n",
       "      <td>0.029151</td>\n",
       "    </tr>\n",
       "    <tr>\n",
       "      <th>14</th>\n",
       "      <td>2</td>\n",
       "      <td>{'subsample': 0.9, 'n_estimators': 150, 'max_f...</td>\n",
       "      <td>-0.919427</td>\n",
       "      <td>-0.515463</td>\n",
       "      <td>0.008556</td>\n",
       "      <td>0.007891</td>\n",
       "    </tr>\n",
       "    <tr>\n",
       "      <th>15</th>\n",
       "      <td>8</td>\n",
       "      <td>{'subsample': 0.9, 'n_estimators': 200, 'max_f...</td>\n",
       "      <td>-1.273073</td>\n",
       "      <td>-1.124239</td>\n",
       "      <td>0.011471</td>\n",
       "      <td>0.007077</td>\n",
       "    </tr>\n",
       "    <tr>\n",
       "      <th>16</th>\n",
       "      <td>15</td>\n",
       "      <td>{'subsample': 0.8, 'n_estimators': 100, 'max_f...</td>\n",
       "      <td>-1.429744</td>\n",
       "      <td>-0.971375</td>\n",
       "      <td>0.071977</td>\n",
       "      <td>0.040916</td>\n",
       "    </tr>\n",
       "    <tr>\n",
       "      <th>17</th>\n",
       "      <td>17</td>\n",
       "      <td>{'subsample': 0.9, 'n_estimators': 100, 'max_f...</td>\n",
       "      <td>-1.435082</td>\n",
       "      <td>-1.292631</td>\n",
       "      <td>0.043208</td>\n",
       "      <td>0.039433</td>\n",
       "    </tr>\n",
       "    <tr>\n",
       "      <th>18</th>\n",
       "      <td>14</td>\n",
       "      <td>{'subsample': 0.8, 'n_estimators': 100, 'max_f...</td>\n",
       "      <td>-1.418800</td>\n",
       "      <td>-0.981281</td>\n",
       "      <td>0.036399</td>\n",
       "      <td>0.053615</td>\n",
       "    </tr>\n",
       "    <tr>\n",
       "      <th>19</th>\n",
       "      <td>24</td>\n",
       "      <td>{'subsample': 0.9, 'n_estimators': 100, 'max_f...</td>\n",
       "      <td>-1.981593</td>\n",
       "      <td>-0.885178</td>\n",
       "      <td>0.123757</td>\n",
       "      <td>0.064434</td>\n",
       "    </tr>\n",
       "    <tr>\n",
       "      <th>20</th>\n",
       "      <td>3</td>\n",
       "      <td>{'subsample': 0.9, 'n_estimators': 200, 'max_f...</td>\n",
       "      <td>-1.012444</td>\n",
       "      <td>-0.534985</td>\n",
       "      <td>0.076975</td>\n",
       "      <td>0.041404</td>\n",
       "    </tr>\n",
       "    <tr>\n",
       "      <th>21</th>\n",
       "      <td>13</td>\n",
       "      <td>{'subsample': 0.9, 'n_estimators': 100, 'max_f...</td>\n",
       "      <td>-1.412565</td>\n",
       "      <td>-0.941387</td>\n",
       "      <td>0.035287</td>\n",
       "      <td>0.051232</td>\n",
       "    </tr>\n",
       "    <tr>\n",
       "      <th>22</th>\n",
       "      <td>6</td>\n",
       "      <td>{'subsample': 0.9, 'n_estimators': 200, 'max_f...</td>\n",
       "      <td>-1.125460</td>\n",
       "      <td>-0.947395</td>\n",
       "      <td>0.031883</td>\n",
       "      <td>0.028329</td>\n",
       "    </tr>\n",
       "    <tr>\n",
       "      <th>23</th>\n",
       "      <td>7</td>\n",
       "      <td>{'subsample': 0.8, 'n_estimators': 100, 'max_f...</td>\n",
       "      <td>-1.209370</td>\n",
       "      <td>-0.966566</td>\n",
       "      <td>0.033440</td>\n",
       "      <td>0.020905</td>\n",
       "    </tr>\n",
       "    <tr>\n",
       "      <th>24</th>\n",
       "      <td>18</td>\n",
       "      <td>{'subsample': 0.8, 'n_estimators': 150, 'max_f...</td>\n",
       "      <td>-1.452428</td>\n",
       "      <td>-0.798280</td>\n",
       "      <td>0.053102</td>\n",
       "      <td>0.037860</td>\n",
       "    </tr>\n",
       "    <tr>\n",
       "      <th>25</th>\n",
       "      <td>27</td>\n",
       "      <td>{'subsample': 0.8, 'n_estimators': 200, 'max_f...</td>\n",
       "      <td>-2.164887</td>\n",
       "      <td>-0.578093</td>\n",
       "      <td>0.104190</td>\n",
       "      <td>0.028231</td>\n",
       "    </tr>\n",
       "    <tr>\n",
       "      <th>26</th>\n",
       "      <td>28</td>\n",
       "      <td>{'subsample': 0.9, 'n_estimators': 100, 'max_f...</td>\n",
       "      <td>-2.409460</td>\n",
       "      <td>-2.307170</td>\n",
       "      <td>0.034364</td>\n",
       "      <td>0.038798</td>\n",
       "    </tr>\n",
       "    <tr>\n",
       "      <th>27</th>\n",
       "      <td>4</td>\n",
       "      <td>{'subsample': 0.8, 'n_estimators': 100, 'max_f...</td>\n",
       "      <td>-1.060745</td>\n",
       "      <td>-0.453169</td>\n",
       "      <td>0.048836</td>\n",
       "      <td>0.022738</td>\n",
       "    </tr>\n",
       "    <tr>\n",
       "      <th>28</th>\n",
       "      <td>21</td>\n",
       "      <td>{'subsample': 0.8, 'n_estimators': 100, 'max_f...</td>\n",
       "      <td>-1.711055</td>\n",
       "      <td>-1.083956</td>\n",
       "      <td>0.151002</td>\n",
       "      <td>0.058603</td>\n",
       "    </tr>\n",
       "    <tr>\n",
       "      <th>29</th>\n",
       "      <td>5</td>\n",
       "      <td>{'subsample': 0.8, 'n_estimators': 150, 'max_f...</td>\n",
       "      <td>-1.105905</td>\n",
       "      <td>-0.718999</td>\n",
       "      <td>0.053853</td>\n",
       "      <td>0.031772</td>\n",
       "    </tr>\n",
       "  </tbody>\n",
       "</table>\n",
       "</div>"
      ],
      "text/plain": [
       "    rank                                             params  mean_test_score  \\\n",
       "0     25  {'subsample': 0.8, 'n_estimators': 150, 'max_f...        -2.141185   \n",
       "1     12  {'subsample': 0.9, 'n_estimators': 100, 'max_f...        -1.356541   \n",
       "2     22  {'subsample': 0.8, 'n_estimators': 200, 'max_f...        -1.730518   \n",
       "3     29  {'subsample': 0.9, 'n_estimators': 100, 'max_f...        -2.768983   \n",
       "4     11  {'subsample': 0.9, 'n_estimators': 150, 'max_f...        -1.351830   \n",
       "5     19  {'subsample': 0.9, 'n_estimators': 100, 'max_f...        -1.588239   \n",
       "6     10  {'subsample': 0.8, 'n_estimators': 150, 'max_f...        -1.340956   \n",
       "7     26  {'subsample': 0.8, 'n_estimators': 100, 'max_f...        -2.150928   \n",
       "8     16  {'subsample': 0.8, 'n_estimators': 100, 'max_f...        -1.431730   \n",
       "9      9  {'subsample': 0.8, 'n_estimators': 100, 'max_f...        -1.287901   \n",
       "10    23  {'subsample': 0.8, 'n_estimators': 200, 'max_f...        -1.788260   \n",
       "11     1  {'subsample': 0.9, 'n_estimators': 150, 'max_f...        -0.812239   \n",
       "12    30  {'subsample': 0.9, 'n_estimators': 150, 'max_f...        -2.918844   \n",
       "13    20  {'subsample': 0.9, 'n_estimators': 100, 'max_f...        -1.684596   \n",
       "14     2  {'subsample': 0.9, 'n_estimators': 150, 'max_f...        -0.919427   \n",
       "15     8  {'subsample': 0.9, 'n_estimators': 200, 'max_f...        -1.273073   \n",
       "16    15  {'subsample': 0.8, 'n_estimators': 100, 'max_f...        -1.429744   \n",
       "17    17  {'subsample': 0.9, 'n_estimators': 100, 'max_f...        -1.435082   \n",
       "18    14  {'subsample': 0.8, 'n_estimators': 100, 'max_f...        -1.418800   \n",
       "19    24  {'subsample': 0.9, 'n_estimators': 100, 'max_f...        -1.981593   \n",
       "20     3  {'subsample': 0.9, 'n_estimators': 200, 'max_f...        -1.012444   \n",
       "21    13  {'subsample': 0.9, 'n_estimators': 100, 'max_f...        -1.412565   \n",
       "22     6  {'subsample': 0.9, 'n_estimators': 200, 'max_f...        -1.125460   \n",
       "23     7  {'subsample': 0.8, 'n_estimators': 100, 'max_f...        -1.209370   \n",
       "24    18  {'subsample': 0.8, 'n_estimators': 150, 'max_f...        -1.452428   \n",
       "25    27  {'subsample': 0.8, 'n_estimators': 200, 'max_f...        -2.164887   \n",
       "26    28  {'subsample': 0.9, 'n_estimators': 100, 'max_f...        -2.409460   \n",
       "27     4  {'subsample': 0.8, 'n_estimators': 100, 'max_f...        -1.060745   \n",
       "28    21  {'subsample': 0.8, 'n_estimators': 100, 'max_f...        -1.711055   \n",
       "29     5  {'subsample': 0.8, 'n_estimators': 150, 'max_f...        -1.105905   \n",
       "\n",
       "    mean_train_score  std_test_score  std_train_score  \n",
       "0          -0.444090        0.120622         0.050616  \n",
       "1          -0.923931        0.066818         0.078717  \n",
       "2          -0.501969        0.084690         0.038593  \n",
       "3          -0.765088        0.161988         0.084240  \n",
       "4          -0.742925        0.066503         0.035076  \n",
       "5          -1.447771        0.051037         0.046430  \n",
       "6          -0.775676        0.048998         0.036728  \n",
       "7          -0.648411        0.102218         0.042342  \n",
       "8          -1.248409        0.025197         0.016367  \n",
       "9          -0.697773        0.065719         0.038103  \n",
       "10         -1.675820        0.031126         0.002937  \n",
       "11         -0.391759        0.019789         0.005180  \n",
       "12         -0.551084        0.283922         0.092846  \n",
       "13         -0.477383        0.062270         0.029151  \n",
       "14         -0.515463        0.008556         0.007891  \n",
       "15         -1.124239        0.011471         0.007077  \n",
       "16         -0.971375        0.071977         0.040916  \n",
       "17         -1.292631        0.043208         0.039433  \n",
       "18         -0.981281        0.036399         0.053615  \n",
       "19         -0.885178        0.123757         0.064434  \n",
       "20         -0.534985        0.076975         0.041404  \n",
       "21         -0.941387        0.035287         0.051232  \n",
       "22         -0.947395        0.031883         0.028329  \n",
       "23         -0.966566        0.033440         0.020905  \n",
       "24         -0.798280        0.053102         0.037860  \n",
       "25         -0.578093        0.104190         0.028231  \n",
       "26         -2.307170        0.034364         0.038798  \n",
       "27         -0.453169        0.048836         0.022738  \n",
       "28         -1.083956        0.151002         0.058603  \n",
       "29         -0.718999        0.053853         0.031772  "
      ]
     },
     "execution_count": 40,
     "metadata": {},
     "output_type": "execute_result"
    }
   ],
   "source": [
    "grid_search_result"
   ]
  },
  {
   "cell_type": "markdown",
   "metadata": {},
   "source": [
    "#### 4.3.2 Model performance evaluation: MSE and R-squared"
   ]
  },
  {
   "cell_type": "code",
   "execution_count": 41,
   "metadata": {},
   "outputs": [
    {
     "data": {
      "text/plain": [
       "GradientBoostingRegressor(alpha=0.9, criterion='friedman_mse', init=None,\n",
       "             learning_rate=0.13, loss='ls', max_depth=6, max_features=0.9,\n",
       "             max_leaf_nodes=None, min_impurity_decrease=0.0,\n",
       "             min_impurity_split=None, min_samples_leaf=1,\n",
       "             min_samples_split=2, min_weight_fraction_leaf=0.0,\n",
       "             n_estimators=150, presort='auto', random_state=None,\n",
       "             subsample=0.9, verbose=0, warm_start=False)"
      ]
     },
     "execution_count": 41,
     "metadata": {},
     "output_type": "execute_result"
    }
   ],
   "source": [
    "GBDT_best_reg.fit(x_train_std, y_train)"
   ]
  },
  {
   "cell_type": "code",
   "execution_count": 42,
   "metadata": {},
   "outputs": [
    {
     "name": "stdout",
     "output_type": "stream",
     "text": [
      "Mean squared error: 0.73\n",
      "Variance score: 0.97\n"
     ]
    }
   ],
   "source": [
    "# Print out important metrics\n",
    "# Datset I:\n",
    "# Dataset II: Mean squared error: 0.73, Variance score: 0.97\n",
    "\n",
    "# Make a prediction based on test data\n",
    "prediction = GBDT_best_reg.predict(x_test_std)\n",
    "\n",
    "# MSE (mean squared error)\n",
    "print(\"Mean squared error: %.2f\"\n",
    "      % mean_squared_error(y_test, prediction))\n",
    "# R-square \n",
    "print('Variance score: %.2f' % r2_score(y_test, prediction))"
   ]
  },
  {
   "cell_type": "markdown",
   "metadata": {},
   "source": [
    "## 5. Summary \n",
    "- 5.1 Model Deployment\n",
    "\n",
    "### 5.1 Feature conclusions (by Random Forest)\n",
    "Top 10 most important features provided by the Random Forest. We can observed that the top three features nearly explaind half of the model total variances. However, we need to carefully explain the relationship between these features and the response feature (interest rate on the loan). It's absolutely that total_rec_int (Interest received to date) is important to int_rate, because higher int_rate indicates higher total_rec_int. The second feature, total_rec_prncp (Principal received to date) might be more interesting than total_rec_int because higher amount of principal might have a higher corresponding int_rate. Lastly, if a loan applicant had more bc_open_to_buy (Total open to buy on revolving bankcards), the int_rate might be lower since a loan applicant could have good records in the past.\n",
    "\n",
    "<img height=\"200\" width=\"300\" src=\"4th_RF.png\"> \n",
    "\n",
    "### 5.2 Model Deployment (Metric evaulations)\n",
    "At here, I have two defined objectives, mean squared error and R-squared, to evaluate a continuous regression problem. \n",
    "\n",
    "| Model | MSE | R-squared (model explained variance / total original variance) |\n",
    "| ---  | --- | --- |\n",
    "| Bagged Decision Tree Regression (Datset I)| 1.39 | 0.94 |\n",
    "| Bagged Decision Tree Regression (Datset II)| 1.31 | 0.94 |\n",
    "| Random Forest Regression (Datset I)| 2.88 | 0.88 |\n",
    "| Random Forest Regression (Datset II)| 2.51 | 0.89 |\n",
    "| GB Regression (Datset I)| due to time limit | due to time limit |\n",
    "| GB Regression (Datset II)| 0.73 | 0.97 |"
   ]
  },
  {
   "cell_type": "code",
   "execution_count": null,
   "metadata": {},
   "outputs": [],
   "source": []
  }
 ],
 "metadata": {
  "kernelspec": {
   "display_name": "Python 3",
   "language": "python",
   "name": "python3"
  },
  "language_info": {
   "codemirror_mode": {
    "name": "ipython",
    "version": 3
   },
   "file_extension": ".py",
   "mimetype": "text/x-python",
   "name": "python",
   "nbconvert_exporter": "python",
   "pygments_lexer": "ipython3",
   "version": "3.7.3"
  }
 },
 "nbformat": 4,
 "nbformat_minor": 2
}
