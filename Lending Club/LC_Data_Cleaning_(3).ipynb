{
 "cells": [
  {
   "cell_type": "markdown",
   "metadata": {},
   "source": [
    "# 1. Packages"
   ]
  },
  {
   "cell_type": "code",
   "execution_count": 1,
   "metadata": {},
   "outputs": [],
   "source": [
    "import datetime\n",
    "import matplotlib.pyplot as plt\n",
    "\n",
    "# PySpark packages\n",
    "from pyspark.sql import SparkSession\n",
    "from pyspark.sql.functions import (isnan,coalesce,col,lit,when)\n",
    "from pyspark.sql.functions import (StringType,udf,datediff,date_add)\n",
    "from pyspark.sql.types import (DoubleType,IntegerType,FloatType,DateType)\n",
    "from pyspark.sql.functions import (countDistinct,monotonically_increasing_id)\n",
    "\n",
    "# PySpark ML\n",
    "from pyspark.ml.feature import (VectorAssembler,StringIndexer,StandardScaler,OneHotEncoder)\n",
    "from pyspark.ml.regression import LinearRegression\n",
    "from pyspark.ml.classification import LogisticRegression"
   ]
  },
  {
   "cell_type": "code",
   "execution_count": 2,
   "metadata": {},
   "outputs": [],
   "source": [
    "spark = SparkSession.builder.appName(\"String\").getOrCreate()"
   ]
  },
  {
   "cell_type": "code",
   "execution_count": 3,
   "metadata": {},
   "outputs": [
    {
     "data": {
      "text/html": [
       "\n",
       "            <div>\n",
       "                <p><b>SparkSession - hive</b></p>\n",
       "                \n",
       "        <div>\n",
       "            <p><b>SparkContext</b></p>\n",
       "\n",
       "            <p><a href=\"http://155.246.135.51:4040\">Spark UI</a></p>\n",
       "\n",
       "            <dl>\n",
       "              <dt>Version</dt>\n",
       "                <dd><code>v2.3.2</code></dd>\n",
       "              <dt>Master</dt>\n",
       "                <dd><code>local[2]</code></dd>\n",
       "              <dt>AppName</dt>\n",
       "                <dd><code>PySparkShell</code></dd>\n",
       "            </dl>\n",
       "        </div>\n",
       "        \n",
       "            </div>\n",
       "        "
      ],
      "text/plain": [
       "<pyspark.sql.session.SparkSession at 0x112dea780>"
      ]
     },
     "execution_count": 3,
     "metadata": {},
     "output_type": "execute_result"
    }
   ],
   "source": [
    "spark"
   ]
  },
  {
   "cell_type": "markdown",
   "metadata": {},
   "source": [
    "# 2. The Dataset"
   ]
  },
  {
   "cell_type": "code",
   "execution_count": 4,
   "metadata": {},
   "outputs": [],
   "source": [
    "loan = spark.read.csv('loan.csv', inferSchema = True, header = True)"
   ]
  },
  {
   "cell_type": "code",
   "execution_count": 5,
   "metadata": {},
   "outputs": [
    {
     "name": "stdout",
     "output_type": "stream",
     "text": [
      "107864\n",
      "116\n"
     ]
    }
   ],
   "source": [
    "# 107864 records and 116 columns.\n",
    "print(loan.count())\n",
    "print(len(loan.columns))"
   ]
  },
  {
   "cell_type": "markdown",
   "metadata": {},
   "source": [
    "# 3. Preprocessing \n",
    "- From the last notebook, LC_Data_Cleaning_(2), I did lots of preprocessing steps on the raw data such as generating meaningful datetime features and transforming incorrect data types into desired and corrrect data types."
   ]
  },
  {
   "cell_type": "markdown",
   "metadata": {},
   "source": [
    "## 3.1 From LC_Data_Cleaning_(2)"
   ]
  },
  {
   "cell_type": "code",
   "execution_count": 6,
   "metadata": {},
   "outputs": [],
   "source": [
    "loan = loan.drop('pymnt_plan','sub_grade')\n",
    "remove_space = udf(lambda x: x.strip(), StringType())\n",
    "loan = loan.withColumn('term', remove_space('term'))"
   ]
  },
  {
   "cell_type": "code",
   "execution_count": 7,
   "metadata": {},
   "outputs": [],
   "source": [
    "loan = loan.withColumn(\"issue_d\", date_add(\"issue_d\", -365))\n",
    "loan = loan.withColumn('next_pymnt_d', \n",
    "                       when(loan.next_pymnt_d.isNotNull(), \n",
    "                            loan.next_pymnt_d).otherwise(datetime.datetime(9999,12,31)))\n",
    "loan = loan.withColumn(\"diff_last_next_pymnt_d\",\n",
    "                       datediff(loan.next_pymnt_d, loan.last_pymnt_d))\n",
    "loan = loan.withColumn(\"diff_next_pymnt_end_of_march_d\",\n",
    "                       datediff(loan.next_pymnt_d, lit(datetime.datetime(2019,3,31)))\n",
    "                      )\n",
    "loan = loan.withColumn(\"diff_last_pymnt_end_of_march_d\",\n",
    "                       datediff(loan.last_pymnt_d, lit(datetime.datetime(2019,3,31)))\n",
    "                      )   \n",
    "def transform_datetime(x):\n",
    "    if x == datetime.date(2018, 1, 18):\n",
    "        return 'issue_d_level_1'\n",
    "    elif x == datetime.date(2018, 2, 18):\n",
    "        return 'issue_d_level_2'\n",
    "    elif x == datetime.date(2018, 3, 18):\n",
    "        return 'issue_d_level_3'\n",
    "    else:\n",
    "        return 'issue_d_level_na'\n",
    "trans_issue_d = udf(transform_datetime)\n",
    "loan = loan.withColumn('issue_d', \n",
    "                       trans_issue_d(loan.issue_d))\n",
    "loan = loan.withColumn(\"last_credit_pull_d\", date_add(\"last_credit_pull_d\", -365*2))\n",
    "loan = loan.withColumn(\"earliest_cr_line\", date_add(\"earliest_cr_line\", -365))\n",
    "loan = loan.withColumn(\"sec_app_earliest_cr_line\", date_add(\"sec_app_earliest_cr_line\", -365))\n",
    "loan = loan.withColumn(\"diff_earliest_cr_line_end_of_march_d\",\n",
    "                       datediff(loan.earliest_cr_line, lit(datetime.datetime(2018,3,31)))\n",
    "                      )\n",
    "loan = loan.withColumn(\"diff_sec_app_earliest_cr_line_end_of_march_d\",\n",
    "                       datediff(loan.sec_app_earliest_cr_line, lit(datetime.datetime(2018,3,31)))\n",
    "                      )\n",
    "loan = loan.withColumn(\"diff_last_credit_pull_end_of_march_d\",\n",
    "                       datediff(loan.last_credit_pull_d, lit(datetime.datetime(2018,3,31)))\n",
    "                      )\n",
    "loan = loan.drop('last_pymnt_d','next_pymnt_d',\n",
    "                 'last_credit_pull_d','earliest_cr_line','sec_app_earliest_cr_line'\n",
    "                )                       "
   ]
  },
  {
   "cell_type": "markdown",
   "metadata": {},
   "source": [
    "# 3.2 From LC_EDA\n",
    "- As I did in the notebook, 'LC_EDA', for those categorical features with too many levels, I lowered down the levels into a smaller size by some initial data explorations."
   ]
  },
  {
   "cell_type": "code",
   "execution_count": 10,
   "metadata": {},
   "outputs": [
    {
     "name": "stdout",
     "output_type": "stream",
     "text": [
      "Need lowering down 37288 levels in emp_title.\n",
      "Need lowering down 12 levels in emp_length.\n",
      "Need lowering down 13 levels in purpose.\n",
      "Need lowering down 50 levels in addr_state.\n"
     ]
    }
   ],
   "source": [
    "columns_with_types = loan.dtypes\n",
    "for each in columns_with_types:\n",
    "    if each[1] == 'string' and loan.select(countDistinct(each[0])).collect()[0][0] <=10:\n",
    "        continue\n",
    "    elif each[1] == 'string':\n",
    "        print('Need lowering down {} levels in {}.'.format(\n",
    "            loan.select(countDistinct(each[0])).collect()[0][0],\n",
    "            each[0]))"
   ]
  },
  {
   "cell_type": "code",
   "execution_count": 11,
   "metadata": {},
   "outputs": [],
   "source": [
    "sqlCtx.registerDataFrameAsTable(loan, \"table_loan\")"
   ]
  },
  {
   "cell_type": "markdown",
   "metadata": {},
   "source": [
    "### 3.2.1 emp_title"
   ]
  },
  {
   "cell_type": "code",
   "execution_count": 12,
   "metadata": {},
   "outputs": [
    {
     "data": {
      "text/plain": [
       "Text(0.5, 1.0, 'emp_title')"
      ]
     },
     "execution_count": 12,
     "metadata": {},
     "output_type": "execute_result"
    },
    {
     "data": {
      "image/png": "[encoded data removed]",
      "text/plain": [
       "<Figure size 1008x504 with 1 Axes>"
      ]
     },
     "metadata": {
      "needs_background": "light"
     },
     "output_type": "display_data"
    }
   ],
   "source": [
    "df1 = sqlCtx.sql(\"SELECT emp_title FROM table_loan\")\n",
    "\n",
    "fig = plt.figure(figsize=(14,7))\n",
    "ax = df1.toPandas().emp_title.value_counts()[:15].plot(kind = 'bar', rot = 45)\n",
    "for i, v in enumerate(df1.toPandas().emp_title.value_counts()[:15]):\n",
    "    ax.text(i, v+5, str(v), color='blue', fontweight='bold', fontsize=15, ha='center')\n",
    "ax.set_title('emp_title',fontsize=20)"
   ]
  },
  {
   "cell_type": "code",
   "execution_count": 13,
   "metadata": {},
   "outputs": [],
   "source": [
    "del df1"
   ]
  },
  {
   "cell_type": "code",
   "execution_count": 14,
   "metadata": {},
   "outputs": [],
   "source": [
    "# I decided to drop off 'emp_title' because 'emp_length' might reveal \n",
    "# a similar information on 'loan_status'\n",
    "loan = loan.drop('emp_title')"
   ]
  },
  {
   "cell_type": "markdown",
   "metadata": {},
   "source": [
    "### 3.2.2 Transform 'emp_length' into 'new_emp_length'"
   ]
  },
  {
   "cell_type": "code",
   "execution_count": 15,
   "metadata": {},
   "outputs": [],
   "source": [
    "sqlCtx.registerDataFrameAsTable(loan, \"table_loan\")"
   ]
  },
  {
   "cell_type": "code",
   "execution_count": 16,
   "metadata": {},
   "outputs": [],
   "source": [
    "# As I did in the notebook, LC_EDA', I lowered down 13 levels in emp_length \n",
    "# into 4 levels including 'junior', 'more_experienced', 'experienced', and 'na_experience'.\n",
    "query_1 = \"SELECT CASE WHEN emp_length IN ('< 1 year','1 year','2 years','3 years') THEN 'junior' \\\n",
    "WHEN emp_length IN ('4 years', '5 years') THEN 'more_experienced' \\\n",
    "WHEN emp_length IN ('n/a') THEN 'na_experience' \\\n",
    "ELSE 'experienced' END AS new_emp_length, * FROM table_loan\""
   ]
  },
  {
   "cell_type": "code",
   "execution_count": 17,
   "metadata": {},
   "outputs": [
    {
     "name": "stdout",
     "output_type": "stream",
     "text": [
      "+----------+----------------+\n",
      "|emp_length|  new_emp_length|\n",
      "+----------+----------------+\n",
      "| 10+ years|     experienced|\n",
      "| 10+ years|     experienced|\n",
      "| 10+ years|     experienced|\n",
      "|   5 years|more_experienced|\n",
      "| 10+ years|     experienced|\n",
      "|   3 years|          junior|\n",
      "|   4 years|more_experienced|\n",
      "|   3 years|          junior|\n",
      "| 10+ years|     experienced|\n",
      "|       n/a|   na_experience|\n",
      "+----------+----------------+\n",
      "only showing top 10 rows\n",
      "\n"
     ]
    }
   ],
   "source": [
    "loan = spark.sql(query_1)\n",
    "\n",
    "# Make sure the transformation is correct!\n",
    "loan.select('emp_length','new_emp_length').show(10)\n",
    "\n",
    "# Then, drop off 'emp_length'.\n",
    "loan = loan.drop('emp_length')"
   ]
  },
  {
   "cell_type": "markdown",
   "metadata": {},
   "source": [
    "### 3.2.3 Transform 'purpose' into 'new_purpose'"
   ]
  },
  {
   "cell_type": "code",
   "execution_count": 18,
   "metadata": {},
   "outputs": [],
   "source": [
    "sqlCtx.registerDataFrameAsTable(loan, \"table_loan\")"
   ]
  },
  {
   "cell_type": "code",
   "execution_count": 19,
   "metadata": {},
   "outputs": [],
   "source": [
    "query_1 = \"SELECT CASE WHEN purpose IN ('debt_consolidation') THEN 'debt_consolidation' \\\n",
    "WHEN purpose IN ('credit_card') THEN 'credit_card' \\\n",
    "WHEN purpose IN ('other') THEN 'other' \\\n",
    "WHEN purpose IN ('home_improvement','house','moving') THEN 'home' \\\n",
    "ELSE 'major_purchase' END AS new_purpose, * FROM table_loan\""
   ]
  },
  {
   "cell_type": "code",
   "execution_count": 20,
   "metadata": {},
   "outputs": [
    {
     "name": "stdout",
     "output_type": "stream",
     "text": [
      "+------------------+------------------+\n",
      "|           purpose|       new_purpose|\n",
      "+------------------+------------------+\n",
      "|debt_consolidation|debt_consolidation|\n",
      "|             other|             other|\n",
      "|debt_consolidation|debt_consolidation|\n",
      "|       credit_card|       credit_card|\n",
      "|debt_consolidation|debt_consolidation|\n",
      "|debt_consolidation|debt_consolidation|\n",
      "|debt_consolidation|debt_consolidation|\n",
      "|  home_improvement|              home|\n",
      "|       credit_card|       credit_card|\n",
      "|debt_consolidation|debt_consolidation|\n",
      "+------------------+------------------+\n",
      "only showing top 10 rows\n",
      "\n"
     ]
    }
   ],
   "source": [
    "loan = spark.sql(query_1)\n",
    "\n",
    "# Make sure the transformation is correct!\n",
    "loan.select('purpose','new_purpose').show(10)\n",
    "\n",
    "# Then, drop off 'purpose'.\n",
    "loan = loan.drop('purpose')"
   ]
  },
  {
   "cell_type": "markdown",
   "metadata": {},
   "source": [
    "### 3.2.4 Transform 'addr_state' into 'new_addr_state'"
   ]
  },
  {
   "cell_type": "code",
   "execution_count": 21,
   "metadata": {},
   "outputs": [],
   "source": [
    "sqlCtx.registerDataFrameAsTable(loan, \"table_loan\")"
   ]
  },
  {
   "cell_type": "code",
   "execution_count": 22,
   "metadata": {},
   "outputs": [],
   "source": [
    "query_1 = \"SELECT CASE WHEN addr_state IN ('WA','OR','ID','MT','WY','CA','NV','UT','CO','AK','HI') THEN 'west' \\\n",
    "WHEN addr_state IN ('ND','SD','NE','KS','MN','IA','MO','WI','IL','MI','IN','OH') THEN 'midwest' \\\n",
    "WHEN addr_state IN ('AZ','NM','OK','TX') THEN 'southwest' \\\n",
    "WHEN addr_state IN ('KY','WV', 'DC','VA','AR','LA','TN','NC','MS','AL','GA','SC','FL') THEN 'southeast' \\\n",
    "ELSE 'northeast'END AS new_addr_state, * FROM table_loan\""
   ]
  },
  {
   "cell_type": "code",
   "execution_count": 23,
   "metadata": {},
   "outputs": [
    {
     "name": "stdout",
     "output_type": "stream",
     "text": [
      "+----------+--------------+\n",
      "|addr_state|new_addr_state|\n",
      "+----------+--------------+\n",
      "|        IL|       midwest|\n",
      "|        GA|     southeast|\n",
      "|        CA|          west|\n",
      "|        PA|     northeast|\n",
      "|        VA|     southeast|\n",
      "|        NV|          west|\n",
      "|        NY|     northeast|\n",
      "|        VA|     southeast|\n",
      "|        NJ|     northeast|\n",
      "|        IL|       midwest|\n",
      "+----------+--------------+\n",
      "only showing top 10 rows\n",
      "\n"
     ]
    }
   ],
   "source": [
    "loan = spark.sql(query_1)\n",
    "\n",
    "# Make sure the transformation is correct!\n",
    "loan.select('addr_state','new_addr_state').show(10)\n",
    "\n",
    "# Then, drop off 'addr_state'.\n",
    "loan = loan.drop('addr_state')"
   ]
  },
  {
   "cell_type": "code",
   "execution_count": 24,
   "metadata": {},
   "outputs": [
    {
     "data": {
      "text/plain": [
       "114"
      ]
     },
     "execution_count": 24,
     "metadata": {},
     "output_type": "execute_result"
    }
   ],
   "source": [
    "# 114 columns left.\n",
    "len(loan.columns)"
   ]
  },
  {
   "cell_type": "markdown",
   "metadata": {},
   "source": [
    "# 4. Missing Data Imputation - Linear Regression with top three predictors"
   ]
  },
  {
   "cell_type": "code",
   "execution_count": 25,
   "metadata": {},
   "outputs": [],
   "source": [
    "def missing_logistic_regression(dataframe, missing_column):\n",
    "    '''\n",
    "    dataframe: a pyspark dataframe.\n",
    "    missing_column: a column name of a missing column.\n",
    "    Outputs: Return the top three predictors that cause such missing values in the missing\n",
    "    column estimated by Logistic Regression.\n",
    "    '''\n",
    "    # First, drop off missing columns in the dataframe.\n",
    "    columns = dataframe.columns\n",
    "    columns.remove(missing_column)\n",
    "    \n",
    "    for col in columns:\n",
    "        count_missing = dataframe.filter(dataframe[col].isNull()).count()\n",
    "        if count_missing != 0:\n",
    "            dataframe = dataframe.drop(col)\n",
    "\n",
    "    # Group missing data into two, 'NA' or 'NOT NA'.\n",
    "    sqlCtx.registerDataFrameAsTable(dataframe, \"dataframe\")\n",
    "    \n",
    "    dataframe = sqlCtx.sql(\"SELECT CASE WHEN \"+missing_column+ \" IS NULL THEN 'NA'\\\n",
    "    ELSE 'NOT NA' END AS NA_OR_NOT_NA, * FROM dataframe\")\n",
    "    \n",
    "    # Transform strings into numbers using StringIndexer.\n",
    "    columns = dataframe.columns\n",
    "    cate_columns = []\n",
    "    for each in columns:\n",
    "        if dataframe.select(each).dtypes[0][1] == 'string':\n",
    "            cate_columns.append(each)\n",
    "\n",
    "    for each in cate_columns:\n",
    "        indexer = StringIndexer(inputCol=each, outputCol=each+\"_cat\")\n",
    "        dataframe = indexer.fit(dataframe).transform(dataframe)\n",
    "        dataframe = dataframe.drop(each)\n",
    "        \n",
    "    # LR modeling: preprocessing\n",
    "    columns = dataframe.columns\n",
    "    columns.remove(missing_column)\n",
    "    columns.remove('NA_OR_NOT_NA_cat')\n",
    "    \n",
    "    # Assemble all the 'predictors' into a vector.\n",
    "    assembler = VectorAssembler(inputCols=columns, outputCol=\"features\")\n",
    "    dataframe = assembler.transform(dataframe) \n",
    "    \n",
    "    # Standardization to obtain 'fair' coefficient estimations.\n",
    "    std_scaler = StandardScaler(inputCol=\"features\", outputCol=\"scaled_features\",\\\n",
    "                                withStd=True, withMean=True)\n",
    "    dataframe = std_scaler.fit(dataframe).transform(dataframe)\n",
    "    \n",
    "    # LR modeling\n",
    "    lr = LogisticRegression(featuresCol='scaled_features', \n",
    "                            labelCol='NA_OR_NOT_NA_cat', \n",
    "                            predictionCol='prediction')\n",
    "    \n",
    "    final_data = dataframe.select('scaled_features', 'NA_OR_NOT_NA_cat')\n",
    "    lr_model = lr.fit(final_data)\n",
    "    \n",
    "    # Coefficient report\n",
    "    coeffs = lr_model.coefficients.toArray()\n",
    "    sorted_coeff_indexes = (abs(coeffs)).argsort()[-3:]\n",
    "    top_three_features = []\n",
    "    \n",
    "    for index in sorted_coeff_indexes:\n",
    "        top_three_features.append(columns[index])\n",
    "    \n",
    "    return top_three_features"
   ]
  },
  {
   "cell_type": "markdown",
   "metadata": {},
   "source": [
    "## 4.1 Numerical features which contained missing values"
   ]
  },
  {
   "cell_type": "code",
   "execution_count": 26,
   "metadata": {
    "scrolled": false
   },
   "outputs": [],
   "source": [
    "missing_numeric_feat = []\n",
    "columns = loan.columns\n",
    "for each in columns:\n",
    "    if loan.select(each).dtypes[0][1] != 'string':\n",
    "        if loan.filter(loan[each].isNull()).count() != 0:\n",
    "            missing_numeric_feat.append(each)"
   ]
  },
  {
   "cell_type": "code",
   "execution_count": 27,
   "metadata": {
    "scrolled": true
   },
   "outputs": [
    {
     "name": "stdout",
     "output_type": "stream",
     "text": [
      "Processing column : dti.\n",
      "Processing column : mths_since_last_delinq.\n",
      "Processing column : mths_since_last_record.\n",
      "Processing column : revol_util.\n",
      "Processing column : mths_since_last_major_derog.\n",
      "Processing column : mths_since_rcnt_il.\n",
      "Processing column : il_util.\n",
      "Processing column : all_util.\n",
      "Processing column : avg_cur_bal.\n",
      "Processing column : bc_open_to_buy.\n",
      "Processing column : bc_util.\n",
      "Processing column : mo_sin_old_il_acct.\n",
      "Processing column : mths_since_recent_bc.\n",
      "Processing column : mths_since_recent_bc_dlq.\n",
      "Processing column : mths_since_recent_inq.\n",
      "Processing column : mths_since_recent_revol_delinq.\n",
      "Processing column : num_tl_120dpd_2m.\n",
      "Processing column : pct_tl_nvr_dlq.\n",
      "Processing column : percent_bc_gt_75.\n",
      "Processing column : sec_app_revol_util.\n",
      "Processing column : sec_app_mths_since_last_major_derog.\n",
      "Processing column : diff_last_next_pymnt_d.\n",
      "Processing column : diff_last_pymnt_end_of_march_d.\n",
      "Processing column : diff_last_credit_pull_end_of_march_d.\n"
     ]
    }
   ],
   "source": [
    "missing_numeric_feat_with_top_three = {}\n",
    "for each in missing_numeric_feat:\n",
    "    print('Processing column : {}.'.format(each))\n",
    "    top_three_feats = missing_logistic_regression(dataframe=loan, \n",
    "                                                  missing_column=each)\n",
    "    missing_numeric_feat_with_top_three[each] = top_three_feats"
   ]
  },
  {
   "cell_type": "markdown",
   "metadata": {},
   "source": [
    "## 4.2 Deal with categorical features which contained missing values"
   ]
  },
  {
   "cell_type": "code",
   "execution_count": 28,
   "metadata": {},
   "outputs": [],
   "source": [
    "missing_cate_feat = []\n",
    "columns = loan.columns\n",
    "for each in columns:\n",
    "    if loan.select(each).dtypes[0][1] == 'string':\n",
    "        if loan.filter(loan[each].isNull()).count() != 0:\n",
    "            missing_cate_feat.append(each)"
   ]
  },
  {
   "cell_type": "code",
   "execution_count": 29,
   "metadata": {},
   "outputs": [
    {
     "data": {
      "text/plain": [
       "[]"
      ]
     },
     "execution_count": 29,
     "metadata": {},
     "output_type": "execute_result"
    }
   ],
   "source": [
    "missing_cate_feat"
   ]
  },
  {
   "cell_type": "markdown",
   "metadata": {},
   "source": [
    "# 5. Missing value imputation - Linear Regression"
   ]
  },
  {
   "cell_type": "code",
   "execution_count": 30,
   "metadata": {},
   "outputs": [],
   "source": [
    "def linear_regression_missing_impute(dataframe, top_three_features, missing_feature):\n",
    "    '''\n",
    "    dataframe: a pyspark dataframe.\n",
    "    top_three_features: a list object containing feature names found by the \n",
    "    missing_logistic_regression function.\n",
    "    missing_feature: the target feature, or a missing column name.\n",
    "    \n",
    "    Output: predictions by Linear Regression on a missing column.\n",
    "    '''\n",
    "    # Preprocessing: transform categorical features into vectors containing numbers. \n",
    "    test_columns = []\n",
    "    for each in top_three_features:\n",
    "        if 'cat' in each:\n",
    "            indexer = StringIndexer(inputCol=each.replace('_cat',''), \n",
    "                                    outputCol=each+'_index')\n",
    "            dataframe = indexer.fit(dataframe).transform(dataframe)\n",
    "            encoder = OneHotEncoder(inputCol=each+'_index', \n",
    "                                    outputCol=each+'_vec')\n",
    "            dataframe = encoder.transform(dataframe)\n",
    "            test_columns.append(each+'_vec')\n",
    "        else:\n",
    "            test_columns.append(each)  \n",
    "        \n",
    "    train_columns = test_columns+[missing_feature]  \n",
    "    df_train = dataframe.filter(dataframe[missing_feature].isNotNull()).\\\n",
    "    select(train_columns)  \n",
    "    \n",
    "    # Feature vectorization.\n",
    "    assembler = VectorAssembler(inputCols=test_columns, outputCol=\"features\")\n",
    "    df_train = assembler.transform(df_train)\n",
    "    df_test = assembler.transform(dataframe.select(train_columns))\n",
    "    \n",
    "    # Linear Regression modeling.\n",
    "    lr = LinearRegression(featuresCol='features',\\\n",
    "                          labelCol=missing_feature,\\\n",
    "                          predictionCol='prediction')\n",
    "    \n",
    "    # Predictions.\n",
    "    fit_lr_model = lr.fit(df_train)\n",
    "    preds = fit_lr_model.transform(df_test)\n",
    "    preds = preds.select('prediction')\n",
    "    \n",
    "    # Output\n",
    "    return preds"
   ]
  },
  {
   "cell_type": "code",
   "execution_count": 33,
   "metadata": {},
   "outputs": [],
   "source": [
    "# Python version\n",
    "import pandas as pd\n",
    "from sklearn import linear_model\n",
    "from sklearn.preprocessing import LabelEncoder\n",
    "\n",
    "def py_linear_regression_missing_impute(dataframe, top_three_features, missing_feature):\n",
    "    # Preprocessing: transform categorical features into vectors containing numbers.\n",
    "    columns = []\n",
    "    for each in top_three_features:\n",
    "        if 'cat' in each:\n",
    "            columns.append(each.replace('_cat',''))\n",
    "        else:\n",
    "            columns.append(each) \n",
    "            \n",
    "    df = dataframe.select(columns+[missing_feature]) \n",
    "    df = df.toPandas()\n",
    "    \n",
    "    # Dummy features\n",
    "    dummy_features = []\n",
    "    binary_features = []\n",
    "    for each in df.columns:\n",
    "        if df[each].dtype == 'object':\n",
    "            if len(df[each].unique()) > 2:\n",
    "                dummy_features.append(each)\n",
    "            else: \n",
    "                binary_features.append(each)\n",
    "            \n",
    "    # One-hot encoding for categorical features containing two levels.\n",
    "    le = LabelEncoder()\n",
    "\n",
    "    for col in binary_features:\n",
    "        le.fit(df[col])\n",
    "        df[col] = le.transform(df[col])\n",
    "\n",
    "    df = pd.get_dummies(df, columns = dummy_features)   \n",
    "    \n",
    "    # Training data\n",
    "    train_df = df[~df[missing_feature].isnull()]\n",
    "    \n",
    "    # Modeling\n",
    "    lr = linear_model.LinearRegression()\n",
    "    lr.fit(train_df[columns], train_df[missing_feature])\n",
    "    \n",
    "    # Predictions\n",
    "    pred = lr.predict(df[columns])\n",
    "    \n",
    "    return pred"
   ]
  },
  {
   "cell_type": "code",
   "execution_count": 34,
   "metadata": {},
   "outputs": [],
   "source": [
    "def replace_null(orig, ma):\n",
    "    return when(orig.isNull(), ma).otherwise(orig)"
   ]
  },
  {
   "cell_type": "code",
   "execution_count": 38,
   "metadata": {},
   "outputs": [],
   "source": [
    "test_df = loan"
   ]
  },
  {
   "cell_type": "code",
   "execution_count": null,
   "metadata": {
    "scrolled": false
   },
   "outputs": [],
   "source": [
    "loan=loan.withColumn('row_index', monotonically_increasing_id())\n",
    "for each in missing_numeric_feat_with_top_three:\n",
    "    print('Missing data imputation processing: {}.'.format(each))\n",
    "    pred = py_linear_regression_missing_impute(loan,\n",
    "                                               missing_numeric_feat_with_top_three[each],\n",
    "                                               each)\n",
    "    pred_df = spark.createDataFrame(pd.DataFrame(pred),schema=['prediction'])\n",
    "    pred_df = pred_df.withColumn('row_index', monotonically_increasing_id())\n",
    "    loan = loan.join(pred_df, \n",
    "                     on=[\"row_index\"]).sort(\"row_index\")\n",
    "    loan = loan.withColumn('imputed_'+each, \n",
    "                           replace_null(col(each), col('prediction'))\n",
    "                          )\n",
    "    loan = loan.drop('prediction')\n",
    "    # Inspect the imputation process: the values of two columns 'must' be the same.\n",
    "    loan.filter(loan[each].isNotNull()).select(['imputed_'+each,each]).show(5)\n",
    "    loan = loan.drop(each)\n",
    "loan = loan.drop('row_index')"
   ]
  },
  {
   "cell_type": "code",
   "execution_count": null,
   "metadata": {},
   "outputs": [],
   "source": []
  },
  {
   "cell_type": "code",
   "execution_count": null,
   "metadata": {},
   "outputs": [],
   "source": [
    "import numpy as np\n",
    "from fancyimpute import (\n",
    "    BiScaler,\n",
    "    KNN,\n",
    "    IterativeImputer,\n",
    "    NuclearNormMinimization,\n",
    "    SoftImpute,\n",
    "    SimpleFill\n",
    ")\n",
    "\n",
    "n = 200\n",
    "m = 20\n",
    "inner_rank = 4\n",
    "X = np.dot(np.random.randn(n, inner_rank), np.random.randn(inner_rank, m))\n",
    "print(\"Mean squared element: %0.4f\" % (X ** 2).mean())\n",
    "\n",
    "# X is a data matrix which we're going to randomly drop entries from\n",
    "missing_mask = np.random.rand(*X.shape) < 0.1\n",
    "X_incomplete = X.copy()\n",
    "# missing entries indicated with NaN\n",
    "X_incomplete[missing_mask] = np.nan\n",
    "\n",
    "meanFill = SimpleFill(\"mean\")\n",
    "X_filled_mean = meanFill.fit_transform(X_incomplete)\n",
    "\n",
    "# Model each feature with missing values as a function of other features, and\n",
    "# use that estimate for imputation.\n",
    "X_filled_ii = IterativeImputer().fit_transform(X_incomplete)\n",
    "\n",
    "# Use 3 nearest rows which have a feature to fill in each row's missing features\n",
    "knnImpute = KNN(k=3)\n",
    "X_filled_knn = knnImpute.fit_transform(X_incomplete)\n",
    "\n",
    "# matrix completion using convex optimization to find low-rank solution\n",
    "# that still matches observed values. Slow!\n",
    "X_filled_nnm = NuclearNormMinimization().fit_transform(X_incomplete)\n",
    "\n",
    "# Instead of solving the nuclear norm objective directly, instead\n",
    "# induce sparsity using singular value thresholding\n",
    "softImpute = SoftImpute()\n",
    "\n",
    "# simultaneously normalizes the rows and columns of your observed data,\n",
    "# sometimes useful for low-rank imputation methods\n",
    "biscaler = BiScaler()\n",
    "\n",
    "# rescale both rows and columns to have zero mean and unit variance\n",
    "X_incomplete_normalized = biscaler.fit_transform(X_incomplete)\n",
    "\n",
    "X_filled_softimpute_normalized = softImpute.fit_transform(X_incomplete_normalized)\n",
    "X_filled_softimpute = biscaler.inverse_transform(X_filled_softimpute_normalized)\n",
    "\n",
    "X_filled_softimpute_no_biscale = softImpute.fit_transform(X_incomplete)\n",
    "\n",
    "meanfill_mse = ((X_filled_mean[missing_mask] - X[missing_mask]) ** 2).mean()\n",
    "print(\"meanFill MSE: %f\" % meanfill_mse)\n",
    "\n",
    "# print mean squared error for the four imputation methods above\n",
    "# print mean squared error for the three imputation methods above\n",
    "ii_mse = ((X_filled_ii[missing_mask] - X[missing_mask]) ** 2).mean()\n",
    "print(\"Iterative Imputer norm minimization MSE: %f\" % ii_mse)\n",
    "\n",
    "nnm_mse = ((X_filled_nnm[missing_mask] - X[missing_mask]) ** 2).mean()\n",
    "print(\"Nuclear norm minimization MSE: %f\" % nnm_mse)\n",
    "\n",
    "softImpute_mse = ((X_filled_softimpute[missing_mask] - X[missing_mask]) ** 2).mean()\n",
    "print(\"SoftImpute MSE: %f\" % softImpute_mse)\n",
    "\n",
    "softImpute_no_biscale_mse = (\n",
    "    (X_filled_softimpute_no_biscale[missing_mask] - X[missing_mask]) ** 2).mean()\n",
    "print(\"SoftImpute without BiScale MSE: %f\" % softImpute_no_biscale_mse)\n",
    "\n",
    "\n",
    "knn_mse = ((X_filled_knn[missing_mask] - X[missing_mask]) ** 2).mean()\n",
    "print(\"knnImpute MSE: %f\" % knn_mse)"
   ]
  },
  {
   "cell_type": "code",
   "execution_count": null,
   "metadata": {},
   "outputs": [],
   "source": []
  }
 ],
 "metadata": {
  "kernelspec": {
   "display_name": "Python 3",
   "language": "python",
   "name": "python3"
  },
  "language_info": {
   "codemirror_mode": {
    "name": "ipython",
    "version": 3
   },
   "file_extension": ".py",
   "mimetype": "text/x-python",
   "name": "python",
   "nbconvert_exporter": "python",
   "pygments_lexer": "ipython3",
   "version": "3.6.7"
  }
 },
 "nbformat": 4,
 "nbformat_minor": 2
}
