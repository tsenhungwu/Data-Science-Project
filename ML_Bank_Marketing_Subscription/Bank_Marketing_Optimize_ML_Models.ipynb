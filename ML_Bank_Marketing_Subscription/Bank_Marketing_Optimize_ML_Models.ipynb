{
 "cells": [
  {
   "cell_type": "markdown",
   "metadata": {},
   "source": [
    "# Overall Workflow\n",
    "## 1. The Dataset\n",
    "## 2. Preprocessing Before Modeling\n",
    "## 3. Hyperparameter Tuning - Bayesian Optimization"
   ]
  },
  {
   "cell_type": "markdown",
   "metadata": {},
   "source": [
    "# Packages"
   ]
  },
  {
   "cell_type": "code",
   "execution_count": 1,
   "metadata": {},
   "outputs": [
    {
     "name": "stderr",
     "output_type": "stream",
     "text": [
      "/Users/wuchenhong/anaconda3/lib/python3.6/site-packages/lightgbm/__init__.py:46: UserWarning: Starting from version 2.2.1, the library file in distribution wheels for macOS is built by the Apple Clang (Xcode_9.4.1) compiler.\n",
      "This means that in case of installing LightGBM from PyPI via the ``pip install lightgbm`` command, you don't need to install the gcc compiler anymore.\n",
      "Instead of that, you need to install the OpenMP library, which is required for running LightGBM on the system with the Apple Clang compiler.\n",
      "You can install the OpenMP library by the following command: ``brew install libomp``.\n",
      "  \"You can install the OpenMP library by the following command: ``brew install libomp``.\", UserWarning)\n"
     ]
    }
   ],
   "source": [
    "# Data structures\n",
    "import numpy as np\n",
    "import pandas as pd\n",
    "\n",
    "# Data formats\n",
    "import csv\n",
    "import json\n",
    "\n",
    "# Visualizations\n",
    "import matplotlib.pyplot as plt\n",
    "import seaborn as sb\n",
    "\n",
    "# Statistical testings\n",
    "from scipy.stats import f\n",
    "from scipy.stats import ttest_ind\n",
    "from scipy.stats import chi2_contingency\n",
    "\n",
    "# Data preprocessing\n",
    "from sklearn.preprocessing import LabelEncoder\n",
    "from sklearn.preprocessing import StandardScaler\n",
    "from sklearn.model_selection import train_test_split\n",
    "\n",
    "# Machine learning algorithms\n",
    "from sklearn.linear_model import SGDClassifier\n",
    "from sklearn.linear_model import LogisticRegression\n",
    "from sklearn.tree import DecisionTreeClassifier\n",
    "from sklearn.ensemble import BaggingClassifier, RandomForestClassifier, AdaBoostClassifier, GradientBoostingClassifier\n",
    "import xgboost as xgb \n",
    "import lightgbm as lgb\n",
    "\n",
    "# Hyperparameter tuning\n",
    "from hyperopt import hp\n",
    "from hyperopt import Trials\n",
    "from hyperopt import tpe\n",
    "from timeit import default_timer as timer\n",
    "from hyperopt import STATUS_OK\n",
    "from hyperopt import fmin\n",
    "from bayes_opt import BayesianOptimization\n",
    "\n",
    "# Model validation\n",
    "from sklearn.model_selection import cross_validate\n",
    "from sklearn.metrics import classification_report\n",
    "from sklearn.metrics import precision_score, accuracy_score, recall_score, f1_score, roc_auc_score, roc_curve, auc, confusion_matrix\n",
    "\n",
    "# Improvement\n",
    "from imblearn.over_sampling import SMOTE"
   ]
  },
  {
   "cell_type": "markdown",
   "metadata": {},
   "source": [
    "# 1. The Dataset"
   ]
  },
  {
   "cell_type": "code",
   "execution_count": 2,
   "metadata": {},
   "outputs": [
    {
     "data": {
      "text/html": [
       "<div>\n",
       "<style scoped>\n",
       "    .dataframe tbody tr th:only-of-type {\n",
       "        vertical-align: middle;\n",
       "    }\n",
       "\n",
       "    .dataframe tbody tr th {\n",
       "        vertical-align: top;\n",
       "    }\n",
       "\n",
       "    .dataframe thead th {\n",
       "        text-align: right;\n",
       "    }\n",
       "</style>\n",
       "<table border=\"1\" class=\"dataframe\">\n",
       "  <thead>\n",
       "    <tr style=\"text-align: right;\">\n",
       "      <th></th>\n",
       "      <th>age</th>\n",
       "      <th>job</th>\n",
       "      <th>marital</th>\n",
       "      <th>education</th>\n",
       "      <th>default</th>\n",
       "      <th>housing</th>\n",
       "      <th>loan</th>\n",
       "      <th>contact</th>\n",
       "      <th>month</th>\n",
       "      <th>day_of_week</th>\n",
       "      <th>...</th>\n",
       "      <th>campaign</th>\n",
       "      <th>pdays</th>\n",
       "      <th>previous</th>\n",
       "      <th>poutcome</th>\n",
       "      <th>emp_var_rate</th>\n",
       "      <th>cons_price_idx</th>\n",
       "      <th>cons_conf_idx</th>\n",
       "      <th>euribor3m</th>\n",
       "      <th>nr_employed</th>\n",
       "      <th>y</th>\n",
       "    </tr>\n",
       "  </thead>\n",
       "  <tbody>\n",
       "    <tr>\n",
       "      <th>0</th>\n",
       "      <td>44</td>\n",
       "      <td>blue-collar</td>\n",
       "      <td>married</td>\n",
       "      <td>basic.4y</td>\n",
       "      <td>unknown</td>\n",
       "      <td>yes</td>\n",
       "      <td>no</td>\n",
       "      <td>cellular</td>\n",
       "      <td>aug</td>\n",
       "      <td>thu</td>\n",
       "      <td>...</td>\n",
       "      <td>1</td>\n",
       "      <td>999</td>\n",
       "      <td>0</td>\n",
       "      <td>nonexistent</td>\n",
       "      <td>1.4</td>\n",
       "      <td>93.444</td>\n",
       "      <td>-36.1</td>\n",
       "      <td>4.963</td>\n",
       "      <td>5228.1</td>\n",
       "      <td>0</td>\n",
       "    </tr>\n",
       "    <tr>\n",
       "      <th>1</th>\n",
       "      <td>53</td>\n",
       "      <td>technician</td>\n",
       "      <td>married</td>\n",
       "      <td>unknown</td>\n",
       "      <td>no</td>\n",
       "      <td>no</td>\n",
       "      <td>no</td>\n",
       "      <td>cellular</td>\n",
       "      <td>nov</td>\n",
       "      <td>fri</td>\n",
       "      <td>...</td>\n",
       "      <td>1</td>\n",
       "      <td>999</td>\n",
       "      <td>0</td>\n",
       "      <td>nonexistent</td>\n",
       "      <td>-0.1</td>\n",
       "      <td>93.200</td>\n",
       "      <td>-42.0</td>\n",
       "      <td>4.021</td>\n",
       "      <td>5195.8</td>\n",
       "      <td>0</td>\n",
       "    </tr>\n",
       "    <tr>\n",
       "      <th>2</th>\n",
       "      <td>28</td>\n",
       "      <td>management</td>\n",
       "      <td>single</td>\n",
       "      <td>university.degree</td>\n",
       "      <td>no</td>\n",
       "      <td>yes</td>\n",
       "      <td>no</td>\n",
       "      <td>cellular</td>\n",
       "      <td>jun</td>\n",
       "      <td>thu</td>\n",
       "      <td>...</td>\n",
       "      <td>3</td>\n",
       "      <td>6</td>\n",
       "      <td>2</td>\n",
       "      <td>success</td>\n",
       "      <td>-1.7</td>\n",
       "      <td>94.055</td>\n",
       "      <td>-39.8</td>\n",
       "      <td>0.729</td>\n",
       "      <td>4991.6</td>\n",
       "      <td>1</td>\n",
       "    </tr>\n",
       "    <tr>\n",
       "      <th>3</th>\n",
       "      <td>39</td>\n",
       "      <td>services</td>\n",
       "      <td>married</td>\n",
       "      <td>high.school</td>\n",
       "      <td>no</td>\n",
       "      <td>no</td>\n",
       "      <td>no</td>\n",
       "      <td>cellular</td>\n",
       "      <td>apr</td>\n",
       "      <td>fri</td>\n",
       "      <td>...</td>\n",
       "      <td>2</td>\n",
       "      <td>999</td>\n",
       "      <td>0</td>\n",
       "      <td>nonexistent</td>\n",
       "      <td>-1.8</td>\n",
       "      <td>93.075</td>\n",
       "      <td>-47.1</td>\n",
       "      <td>1.405</td>\n",
       "      <td>5099.1</td>\n",
       "      <td>0</td>\n",
       "    </tr>\n",
       "    <tr>\n",
       "      <th>4</th>\n",
       "      <td>55</td>\n",
       "      <td>retired</td>\n",
       "      <td>married</td>\n",
       "      <td>basic.4y</td>\n",
       "      <td>no</td>\n",
       "      <td>yes</td>\n",
       "      <td>no</td>\n",
       "      <td>cellular</td>\n",
       "      <td>aug</td>\n",
       "      <td>fri</td>\n",
       "      <td>...</td>\n",
       "      <td>1</td>\n",
       "      <td>3</td>\n",
       "      <td>1</td>\n",
       "      <td>success</td>\n",
       "      <td>-2.9</td>\n",
       "      <td>92.201</td>\n",
       "      <td>-31.4</td>\n",
       "      <td>0.869</td>\n",
       "      <td>5076.2</td>\n",
       "      <td>1</td>\n",
       "    </tr>\n",
       "  </tbody>\n",
       "</table>\n",
       "<p>5 rows × 21 columns</p>\n",
       "</div>"
      ],
      "text/plain": [
       "   age          job  marital          education  default housing loan  \\\n",
       "0   44  blue-collar  married           basic.4y  unknown     yes   no   \n",
       "1   53   technician  married            unknown       no      no   no   \n",
       "2   28   management   single  university.degree       no     yes   no   \n",
       "3   39     services  married        high.school       no      no   no   \n",
       "4   55      retired  married           basic.4y       no     yes   no   \n",
       "\n",
       "    contact month day_of_week ...  campaign  pdays  previous     poutcome  \\\n",
       "0  cellular   aug         thu ...         1    999         0  nonexistent   \n",
       "1  cellular   nov         fri ...         1    999         0  nonexistent   \n",
       "2  cellular   jun         thu ...         3      6         2      success   \n",
       "3  cellular   apr         fri ...         2    999         0  nonexistent   \n",
       "4  cellular   aug         fri ...         1      3         1      success   \n",
       "\n",
       "  emp_var_rate  cons_price_idx  cons_conf_idx  euribor3m  nr_employed  y  \n",
       "0          1.4          93.444          -36.1      4.963       5228.1  0  \n",
       "1         -0.1          93.200          -42.0      4.021       5195.8  0  \n",
       "2         -1.7          94.055          -39.8      0.729       4991.6  1  \n",
       "3         -1.8          93.075          -47.1      1.405       5099.1  0  \n",
       "4         -2.9          92.201          -31.4      0.869       5076.2  1  \n",
       "\n",
       "[5 rows x 21 columns]"
      ]
     },
     "execution_count": 2,
     "metadata": {},
     "output_type": "execute_result"
    }
   ],
   "source": [
    "data = pd.read_csv('banking.csv')\n",
    "data.head()"
   ]
  },
  {
   "cell_type": "code",
   "execution_count": 3,
   "metadata": {},
   "outputs": [
    {
     "name": "stdout",
     "output_type": "stream",
     "text": [
      "(41188, 21)\n"
     ]
    }
   ],
   "source": [
    "# 41188 data points with 21 predictors.\n",
    "print(data.shape)"
   ]
  },
  {
   "cell_type": "code",
   "execution_count": 4,
   "metadata": {},
   "outputs": [
    {
     "name": "stdout",
     "output_type": "stream",
     "text": [
      "(41188, 20)\n"
     ]
    }
   ],
   "source": [
    "# Since the purpose is to build a prediction model, I dropped this column from the feature space.\n",
    "data.drop(columns='duration', inplace=True)\n",
    "print(data.shape)"
   ]
  },
  {
   "cell_type": "markdown",
   "metadata": {},
   "source": [
    "# 2. Preprocessing Before Modeling\n",
    "- **2.1 One-hot encoding**\n",
    "- **2.2 Dummy feature generation**\n",
    "- **2.3 Improvement: Over-sampling using SMOTE**\n",
    "- **2.4 Train & test splitting (80%/20%)**\n",
    "- **2.5 Standardization**\n",
    "    - Why? Standardization for the regularization in Logistic Regression and SGD classifier purposes."
   ]
  },
  {
   "cell_type": "markdown",
   "metadata": {},
   "source": [
    "## 2.1 One-hot encoding"
   ]
  },
  {
   "cell_type": "code",
   "execution_count": 5,
   "metadata": {},
   "outputs": [],
   "source": [
    "dummy_features = []\n",
    "binary_features = []\n",
    "for each in data.columns:\n",
    "    if data[each].dtype == 'object':\n",
    "        if len(data[each].unique()) > 2:\n",
    "            dummy_features.append(each)\n",
    "        else: \n",
    "            binary_features.append(each)"
   ]
  },
  {
   "cell_type": "code",
   "execution_count": 6,
   "metadata": {},
   "outputs": [
    {
     "name": "stdout",
     "output_type": "stream",
     "text": [
      "contact\n",
      "1 columns were label encoded.\n"
     ]
    }
   ],
   "source": [
    "# One-hot encoding for categorical features containing two levels.\n",
    "le = LabelEncoder()\n",
    "le_count = 0\n",
    "\n",
    "for col in binary_features:\n",
    "    print(col)\n",
    "    le.fit(data[col])\n",
    "    data[col] = le.transform(data[col])\n",
    "            \n",
    "    # Keep track of how many columns were label encoded\n",
    "    le_count += 1\n",
    "            \n",
    "print('%d columns were label encoded.' % le_count)"
   ]
  },
  {
   "cell_type": "code",
   "execution_count": 7,
   "metadata": {},
   "outputs": [
    {
     "data": {
      "text/plain": [
       "array([0, 1])"
      ]
     },
     "execution_count": 7,
     "metadata": {},
     "output_type": "execute_result"
    }
   ],
   "source": [
    "# Make sure the transformation is correct!\n",
    "# 0: cellular\n",
    "# 1: telephone\n",
    "data['contact'].unique()"
   ]
  },
  {
   "cell_type": "markdown",
   "metadata": {},
   "source": [
    "## 2.2 Dummy feature generation"
   ]
  },
  {
   "cell_type": "code",
   "execution_count": 8,
   "metadata": {},
   "outputs": [
    {
     "name": "stdout",
     "output_type": "stream",
     "text": [
      "job 12\n",
      "marital 4\n",
      "education 8\n",
      "default 3\n",
      "housing 3\n",
      "loan 3\n",
      "month 10\n",
      "day_of_week 5\n",
      "poutcome 3\n",
      "42 columns will be additionally added.\n"
     ]
    }
   ],
   "source": [
    "# Create dummy features.\n",
    "sum_len = 0\n",
    "for col in dummy_features:\n",
    "    sum_len += len(data[col].unique())\n",
    "    print(col, len(data[col].unique()))\n",
    "    \n",
    "print('{} columns will be additionally added.'.format(sum_len - len(dummy_features)))"
   ]
  },
  {
   "cell_type": "code",
   "execution_count": 9,
   "metadata": {},
   "outputs": [
    {
     "name": "stdout",
     "output_type": "stream",
     "text": [
      "(41188, 20)\n",
      "(41188, 62)\n"
     ]
    }
   ],
   "source": [
    "# Original dimension\n",
    "print(data.shape)\n",
    "\n",
    "# 20 + 42 = 62, correct dummy feature transformation!\n",
    "data = pd.get_dummies(data, columns = dummy_features)\n",
    "print(data.shape)"
   ]
  },
  {
   "cell_type": "code",
   "execution_count": 10,
   "metadata": {},
   "outputs": [
    {
     "data": {
      "text/html": [
       "<div>\n",
       "<style scoped>\n",
       "    .dataframe tbody tr th:only-of-type {\n",
       "        vertical-align: middle;\n",
       "    }\n",
       "\n",
       "    .dataframe tbody tr th {\n",
       "        vertical-align: top;\n",
       "    }\n",
       "\n",
       "    .dataframe thead th {\n",
       "        text-align: right;\n",
       "    }\n",
       "</style>\n",
       "<table border=\"1\" class=\"dataframe\">\n",
       "  <thead>\n",
       "    <tr style=\"text-align: right;\">\n",
       "      <th></th>\n",
       "      <th>age</th>\n",
       "      <th>contact</th>\n",
       "      <th>campaign</th>\n",
       "      <th>pdays</th>\n",
       "      <th>previous</th>\n",
       "      <th>emp_var_rate</th>\n",
       "      <th>cons_price_idx</th>\n",
       "      <th>cons_conf_idx</th>\n",
       "      <th>euribor3m</th>\n",
       "      <th>nr_employed</th>\n",
       "      <th>...</th>\n",
       "      <th>month_oct</th>\n",
       "      <th>month_sep</th>\n",
       "      <th>day_of_week_fri</th>\n",
       "      <th>day_of_week_mon</th>\n",
       "      <th>day_of_week_thu</th>\n",
       "      <th>day_of_week_tue</th>\n",
       "      <th>day_of_week_wed</th>\n",
       "      <th>poutcome_failure</th>\n",
       "      <th>poutcome_nonexistent</th>\n",
       "      <th>poutcome_success</th>\n",
       "    </tr>\n",
       "  </thead>\n",
       "  <tbody>\n",
       "    <tr>\n",
       "      <th>0</th>\n",
       "      <td>44</td>\n",
       "      <td>0</td>\n",
       "      <td>1</td>\n",
       "      <td>999</td>\n",
       "      <td>0</td>\n",
       "      <td>1.4</td>\n",
       "      <td>93.444</td>\n",
       "      <td>-36.1</td>\n",
       "      <td>4.963</td>\n",
       "      <td>5228.1</td>\n",
       "      <td>...</td>\n",
       "      <td>0</td>\n",
       "      <td>0</td>\n",
       "      <td>0</td>\n",
       "      <td>0</td>\n",
       "      <td>1</td>\n",
       "      <td>0</td>\n",
       "      <td>0</td>\n",
       "      <td>0</td>\n",
       "      <td>1</td>\n",
       "      <td>0</td>\n",
       "    </tr>\n",
       "    <tr>\n",
       "      <th>1</th>\n",
       "      <td>53</td>\n",
       "      <td>0</td>\n",
       "      <td>1</td>\n",
       "      <td>999</td>\n",
       "      <td>0</td>\n",
       "      <td>-0.1</td>\n",
       "      <td>93.200</td>\n",
       "      <td>-42.0</td>\n",
       "      <td>4.021</td>\n",
       "      <td>5195.8</td>\n",
       "      <td>...</td>\n",
       "      <td>0</td>\n",
       "      <td>0</td>\n",
       "      <td>1</td>\n",
       "      <td>0</td>\n",
       "      <td>0</td>\n",
       "      <td>0</td>\n",
       "      <td>0</td>\n",
       "      <td>0</td>\n",
       "      <td>1</td>\n",
       "      <td>0</td>\n",
       "    </tr>\n",
       "    <tr>\n",
       "      <th>2</th>\n",
       "      <td>28</td>\n",
       "      <td>0</td>\n",
       "      <td>3</td>\n",
       "      <td>6</td>\n",
       "      <td>2</td>\n",
       "      <td>-1.7</td>\n",
       "      <td>94.055</td>\n",
       "      <td>-39.8</td>\n",
       "      <td>0.729</td>\n",
       "      <td>4991.6</td>\n",
       "      <td>...</td>\n",
       "      <td>0</td>\n",
       "      <td>0</td>\n",
       "      <td>0</td>\n",
       "      <td>0</td>\n",
       "      <td>1</td>\n",
       "      <td>0</td>\n",
       "      <td>0</td>\n",
       "      <td>0</td>\n",
       "      <td>0</td>\n",
       "      <td>1</td>\n",
       "    </tr>\n",
       "    <tr>\n",
       "      <th>3</th>\n",
       "      <td>39</td>\n",
       "      <td>0</td>\n",
       "      <td>2</td>\n",
       "      <td>999</td>\n",
       "      <td>0</td>\n",
       "      <td>-1.8</td>\n",
       "      <td>93.075</td>\n",
       "      <td>-47.1</td>\n",
       "      <td>1.405</td>\n",
       "      <td>5099.1</td>\n",
       "      <td>...</td>\n",
       "      <td>0</td>\n",
       "      <td>0</td>\n",
       "      <td>1</td>\n",
       "      <td>0</td>\n",
       "      <td>0</td>\n",
       "      <td>0</td>\n",
       "      <td>0</td>\n",
       "      <td>0</td>\n",
       "      <td>1</td>\n",
       "      <td>0</td>\n",
       "    </tr>\n",
       "    <tr>\n",
       "      <th>4</th>\n",
       "      <td>55</td>\n",
       "      <td>0</td>\n",
       "      <td>1</td>\n",
       "      <td>3</td>\n",
       "      <td>1</td>\n",
       "      <td>-2.9</td>\n",
       "      <td>92.201</td>\n",
       "      <td>-31.4</td>\n",
       "      <td>0.869</td>\n",
       "      <td>5076.2</td>\n",
       "      <td>...</td>\n",
       "      <td>0</td>\n",
       "      <td>0</td>\n",
       "      <td>1</td>\n",
       "      <td>0</td>\n",
       "      <td>0</td>\n",
       "      <td>0</td>\n",
       "      <td>0</td>\n",
       "      <td>0</td>\n",
       "      <td>0</td>\n",
       "      <td>1</td>\n",
       "    </tr>\n",
       "  </tbody>\n",
       "</table>\n",
       "<p>5 rows × 62 columns</p>\n",
       "</div>"
      ],
      "text/plain": [
       "   age  contact  campaign  pdays  previous  emp_var_rate  cons_price_idx  \\\n",
       "0   44        0         1    999         0           1.4          93.444   \n",
       "1   53        0         1    999         0          -0.1          93.200   \n",
       "2   28        0         3      6         2          -1.7          94.055   \n",
       "3   39        0         2    999         0          -1.8          93.075   \n",
       "4   55        0         1      3         1          -2.9          92.201   \n",
       "\n",
       "   cons_conf_idx  euribor3m  nr_employed        ...         month_oct  \\\n",
       "0          -36.1      4.963       5228.1        ...                 0   \n",
       "1          -42.0      4.021       5195.8        ...                 0   \n",
       "2          -39.8      0.729       4991.6        ...                 0   \n",
       "3          -47.1      1.405       5099.1        ...                 0   \n",
       "4          -31.4      0.869       5076.2        ...                 0   \n",
       "\n",
       "   month_sep  day_of_week_fri  day_of_week_mon  day_of_week_thu  \\\n",
       "0          0                0                0                1   \n",
       "1          0                1                0                0   \n",
       "2          0                0                0                1   \n",
       "3          0                1                0                0   \n",
       "4          0                1                0                0   \n",
       "\n",
       "   day_of_week_tue  day_of_week_wed  poutcome_failure  poutcome_nonexistent  \\\n",
       "0                0                0                 0                     1   \n",
       "1                0                0                 0                     1   \n",
       "2                0                0                 0                     0   \n",
       "3                0                0                 0                     1   \n",
       "4                0                0                 0                     0   \n",
       "\n",
       "   poutcome_success  \n",
       "0                 0  \n",
       "1                 0  \n",
       "2                 1  \n",
       "3                 0  \n",
       "4                 1  \n",
       "\n",
       "[5 rows x 62 columns]"
      ]
     },
     "execution_count": 10,
     "metadata": {},
     "output_type": "execute_result"
    }
   ],
   "source": [
    "data.head()"
   ]
  },
  {
   "cell_type": "markdown",
   "metadata": {},
   "source": [
    "## 2.3 Improvement: Over-sampling using SMOTE "
   ]
  },
  {
   "cell_type": "code",
   "execution_count": 11,
   "metadata": {},
   "outputs": [
    {
     "name": "stdout",
     "output_type": "stream",
     "text": [
      "length of oversampled data is  73096\n",
      "Number of no subscription in oversampled data 36548\n",
      "Number of subscription 36548\n",
      "Proportion of no subscription data in oversampled data is  0.5\n",
      "Proportion of subscription data in oversampled data is  0.5\n"
     ]
    }
   ],
   "source": [
    "os = SMOTE(sampling_strategy='minority', k_neighbors=10, m_neighbors=20, random_state=0)\n",
    "os_data_X, os_data_y = os.fit_sample(data[data.columns.difference(['y'])], \n",
    "                                     data.y)\n",
    "os_data_X = pd.DataFrame(data=os_data_X, columns=data.columns.difference(['y']))\n",
    "os_data_y = pd.DataFrame(data=os_data_y,columns=['y'])\n",
    "\n",
    "# Check the numbers of over-sampled data\n",
    "print(\"length of oversampled data is \", len(os_data_X))\n",
    "print(\"Number of no subscription in oversampled data\", len(os_data_y[os_data_y['y'] == 0]))\n",
    "print(\"Number of subscription\", len(os_data_y[os_data_y['y'] == 1]))\n",
    "print(\"Proportion of no subscription data in oversampled data is \",\n",
    "      len(os_data_y[os_data_y['y'] == 0])/len(os_data_y))\n",
    "print(\"Proportion of subscription data in oversampled data is \",\n",
    "      len(os_data_y[os_data_y['y'] == 1])/len(os_data_y))"
   ]
  },
  {
   "cell_type": "markdown",
   "metadata": {},
   "source": [
    "## 2.4 Train & test splitting (80%/20%)"
   ]
  },
  {
   "cell_type": "code",
   "execution_count": 12,
   "metadata": {},
   "outputs": [],
   "source": [
    "x_train, x_test, y_train, y_test = train_test_split(os_data_X, \n",
    "                                                    os_data_y, \n",
    "                                                    test_size=0.2, random_state=0) "
   ]
  },
  {
   "cell_type": "code",
   "execution_count": 13,
   "metadata": {},
   "outputs": [
    {
     "name": "stdout",
     "output_type": "stream",
     "text": [
      "(58476, 61) (14620, 61)\n",
      "(58476, 1) (14620, 1)\n"
     ]
    }
   ],
   "source": [
    "# Make sure the splitting is correct!\n",
    "print(x_train.shape, x_test.shape)\n",
    "print(y_train.shape, y_test.shape)"
   ]
  },
  {
   "cell_type": "markdown",
   "metadata": {},
   "source": [
    "## 2.5 Standardization"
   ]
  },
  {
   "cell_type": "code",
   "execution_count": 14,
   "metadata": {},
   "outputs": [],
   "source": [
    "# Test data are unseen data! \n",
    "# Since my purpose is to build a prediction model, I shouldn't contaminate train and test data together. \n",
    "std_scaler = StandardScaler().fit(x_train)\n",
    "\n",
    "train_standardized_data = std_scaler.transform(x_train)\n",
    "test_standardized_data = std_scaler.transform(x_test)"
   ]
  },
  {
   "cell_type": "code",
   "execution_count": 15,
   "metadata": {},
   "outputs": [
    {
     "data": {
      "text/html": [
       "<div>\n",
       "<style scoped>\n",
       "    .dataframe tbody tr th:only-of-type {\n",
       "        vertical-align: middle;\n",
       "    }\n",
       "\n",
       "    .dataframe tbody tr th {\n",
       "        vertical-align: top;\n",
       "    }\n",
       "\n",
       "    .dataframe thead th {\n",
       "        text-align: right;\n",
       "    }\n",
       "</style>\n",
       "<table border=\"1\" class=\"dataframe\">\n",
       "  <thead>\n",
       "    <tr style=\"text-align: right;\">\n",
       "      <th></th>\n",
       "      <th>0</th>\n",
       "      <th>1</th>\n",
       "      <th>2</th>\n",
       "      <th>3</th>\n",
       "      <th>4</th>\n",
       "      <th>5</th>\n",
       "      <th>6</th>\n",
       "      <th>7</th>\n",
       "      <th>8</th>\n",
       "      <th>9</th>\n",
       "      <th>...</th>\n",
       "      <th>51</th>\n",
       "      <th>52</th>\n",
       "      <th>53</th>\n",
       "      <th>54</th>\n",
       "      <th>55</th>\n",
       "      <th>56</th>\n",
       "      <th>57</th>\n",
       "      <th>58</th>\n",
       "      <th>59</th>\n",
       "      <th>60</th>\n",
       "    </tr>\n",
       "  </thead>\n",
       "  <tbody>\n",
       "    <tr>\n",
       "      <th>count</th>\n",
       "      <td>5.847600e+04</td>\n",
       "      <td>5.847600e+04</td>\n",
       "      <td>5.847600e+04</td>\n",
       "      <td>5.847600e+04</td>\n",
       "      <td>5.847600e+04</td>\n",
       "      <td>5.847600e+04</td>\n",
       "      <td>5.847600e+04</td>\n",
       "      <td>5.847600e+04</td>\n",
       "      <td>5.847600e+04</td>\n",
       "      <td>5.847600e+04</td>\n",
       "      <td>...</td>\n",
       "      <td>5.847600e+04</td>\n",
       "      <td>5.847600e+04</td>\n",
       "      <td>5.847600e+04</td>\n",
       "      <td>5.847600e+04</td>\n",
       "      <td>5.847600e+04</td>\n",
       "      <td>5.847600e+04</td>\n",
       "      <td>5.847600e+04</td>\n",
       "      <td>5.847600e+04</td>\n",
       "      <td>5.847600e+04</td>\n",
       "      <td>5.847600e+04</td>\n",
       "    </tr>\n",
       "    <tr>\n",
       "      <th>mean</th>\n",
       "      <td>-1.002020e-14</td>\n",
       "      <td>6.748655e-17</td>\n",
       "      <td>-6.869270e-14</td>\n",
       "      <td>-2.301517e-11</td>\n",
       "      <td>3.667442e-15</td>\n",
       "      <td>-3.870341e-15</td>\n",
       "      <td>-3.901273e-16</td>\n",
       "      <td>1.718602e-15</td>\n",
       "      <td>1.675090e-15</td>\n",
       "      <td>-2.863487e-15</td>\n",
       "      <td>...</td>\n",
       "      <td>-1.329894e-15</td>\n",
       "      <td>-4.945292e-16</td>\n",
       "      <td>1.779803e-15</td>\n",
       "      <td>1.507841e-15</td>\n",
       "      <td>1.183280e-11</td>\n",
       "      <td>-3.371684e-15</td>\n",
       "      <td>1.082046e-15</td>\n",
       "      <td>2.154010e-15</td>\n",
       "      <td>-1.583188e-15</td>\n",
       "      <td>-1.971310e-15</td>\n",
       "    </tr>\n",
       "    <tr>\n",
       "      <th>std</th>\n",
       "      <td>1.000009e+00</td>\n",
       "      <td>1.000009e+00</td>\n",
       "      <td>1.000009e+00</td>\n",
       "      <td>1.000009e+00</td>\n",
       "      <td>1.000009e+00</td>\n",
       "      <td>1.000009e+00</td>\n",
       "      <td>1.000009e+00</td>\n",
       "      <td>1.000009e+00</td>\n",
       "      <td>1.000009e+00</td>\n",
       "      <td>1.000009e+00</td>\n",
       "      <td>...</td>\n",
       "      <td>1.000009e+00</td>\n",
       "      <td>1.000009e+00</td>\n",
       "      <td>1.000009e+00</td>\n",
       "      <td>1.000009e+00</td>\n",
       "      <td>1.000009e+00</td>\n",
       "      <td>1.000009e+00</td>\n",
       "      <td>1.000009e+00</td>\n",
       "      <td>1.000009e+00</td>\n",
       "      <td>1.000009e+00</td>\n",
       "      <td>1.000009e+00</td>\n",
       "    </tr>\n",
       "    <tr>\n",
       "      <th>min</th>\n",
       "      <td>-1.962015e+00</td>\n",
       "      <td>-5.680033e-01</td>\n",
       "      <td>-1.983291e+00</td>\n",
       "      <td>-2.026413e+00</td>\n",
       "      <td>-6.322546e-01</td>\n",
       "      <td>-5.095551e-01</td>\n",
       "      <td>-5.276203e-01</td>\n",
       "      <td>-5.619754e-01</td>\n",
       "      <td>-5.346215e-01</td>\n",
       "      <td>-5.361716e-01</td>\n",
       "      <td>...</td>\n",
       "      <td>-6.139690e-01</td>\n",
       "      <td>-3.350478e-01</td>\n",
       "      <td>-2.040029e-01</td>\n",
       "      <td>-1.854645e-01</td>\n",
       "      <td>-1.984152e+00</td>\n",
       "      <td>-2.851768e+00</td>\n",
       "      <td>-3.683961e-01</td>\n",
       "      <td>-1.983339e+00</td>\n",
       "      <td>-3.412183e-01</td>\n",
       "      <td>-4.575588e-01</td>\n",
       "    </tr>\n",
       "    <tr>\n",
       "      <th>25%</th>\n",
       "      <td>-7.633044e-01</td>\n",
       "      <td>-5.680033e-01</td>\n",
       "      <td>-4.652984e-01</td>\n",
       "      <td>-8.507732e-01</td>\n",
       "      <td>-6.322546e-01</td>\n",
       "      <td>-5.095551e-01</td>\n",
       "      <td>-5.276203e-01</td>\n",
       "      <td>-5.619754e-01</td>\n",
       "      <td>-5.346215e-01</td>\n",
       "      <td>-5.361716e-01</td>\n",
       "      <td>...</td>\n",
       "      <td>-6.139690e-01</td>\n",
       "      <td>-3.350478e-01</td>\n",
       "      <td>-2.040029e-01</td>\n",
       "      <td>-1.854645e-01</td>\n",
       "      <td>-6.875851e-01</td>\n",
       "      <td>3.529286e-01</td>\n",
       "      <td>-3.683961e-01</td>\n",
       "      <td>5.307416e-01</td>\n",
       "      <td>-3.412183e-01</td>\n",
       "      <td>-4.575588e-01</td>\n",
       "    </tr>\n",
       "    <tr>\n",
       "      <th>50%</th>\n",
       "      <td>-1.997150e-01</td>\n",
       "      <td>-1.843367e-01</td>\n",
       "      <td>-2.966325e-01</td>\n",
       "      <td>-5.559780e-02</td>\n",
       "      <td>-6.322546e-01</td>\n",
       "      <td>-5.095551e-01</td>\n",
       "      <td>-5.276203e-01</td>\n",
       "      <td>-5.619754e-01</td>\n",
       "      <td>-5.346215e-01</td>\n",
       "      <td>-5.361716e-01</td>\n",
       "      <td>...</td>\n",
       "      <td>-6.139690e-01</td>\n",
       "      <td>-3.350478e-01</td>\n",
       "      <td>-2.040029e-01</td>\n",
       "      <td>-1.854645e-01</td>\n",
       "      <td>6.343143e-01</td>\n",
       "      <td>3.529286e-01</td>\n",
       "      <td>-3.683961e-01</td>\n",
       "      <td>5.307416e-01</td>\n",
       "      <td>-3.412183e-01</td>\n",
       "      <td>-4.575588e-01</td>\n",
       "    </tr>\n",
       "    <tr>\n",
       "      <th>75%</th>\n",
       "      <td>6.394753e-01</td>\n",
       "      <td>2.584066e-01</td>\n",
       "      <td>7.153626e-01</td>\n",
       "      <td>8.164442e-01</td>\n",
       "      <td>1.645423e+00</td>\n",
       "      <td>-5.095551e-01</td>\n",
       "      <td>-4.646568e-01</td>\n",
       "      <td>5.189206e-02</td>\n",
       "      <td>-2.971104e-01</td>\n",
       "      <td>-2.754336e-01</td>\n",
       "      <td>...</td>\n",
       "      <td>1.657902e+00</td>\n",
       "      <td>-3.350478e-01</td>\n",
       "      <td>-2.040029e-01</td>\n",
       "      <td>-1.854645e-01</td>\n",
       "      <td>1.061513e+00</td>\n",
       "      <td>3.529286e-01</td>\n",
       "      <td>-3.683961e-01</td>\n",
       "      <td>5.307416e-01</td>\n",
       "      <td>-3.412183e-01</td>\n",
       "      <td>-4.575588e-01</td>\n",
       "    </tr>\n",
       "    <tr>\n",
       "      <th>max</th>\n",
       "      <td>4.835427e+00</td>\n",
       "      <td>2.323110e+01</td>\n",
       "      <td>2.495724e+00</td>\n",
       "      <td>2.042060e+00</td>\n",
       "      <td>1.657076e+00</td>\n",
       "      <td>2.238409e+00</td>\n",
       "      <td>2.150412e+00</td>\n",
       "      <td>2.026440e+00</td>\n",
       "      <td>2.141712e+00</td>\n",
       "      <td>2.135584e+00</td>\n",
       "      <td>...</td>\n",
       "      <td>1.657902e+00</td>\n",
       "      <td>3.104917e+00</td>\n",
       "      <td>5.185049e+00</td>\n",
       "      <td>5.793828e+00</td>\n",
       "      <td>1.061513e+00</td>\n",
       "      <td>3.529286e-01</td>\n",
       "      <td>3.026884e+00</td>\n",
       "      <td>5.307416e-01</td>\n",
       "      <td>2.984327e+00</td>\n",
       "      <td>1.018560e+01</td>\n",
       "    </tr>\n",
       "  </tbody>\n",
       "</table>\n",
       "<p>8 rows × 61 columns</p>\n",
       "</div>"
      ],
      "text/plain": [
       "                 0             1             2             3             4   \\\n",
       "count  5.847600e+04  5.847600e+04  5.847600e+04  5.847600e+04  5.847600e+04   \n",
       "mean  -1.002020e-14  6.748655e-17 -6.869270e-14 -2.301517e-11  3.667442e-15   \n",
       "std    1.000009e+00  1.000009e+00  1.000009e+00  1.000009e+00  1.000009e+00   \n",
       "min   -1.962015e+00 -5.680033e-01 -1.983291e+00 -2.026413e+00 -6.322546e-01   \n",
       "25%   -7.633044e-01 -5.680033e-01 -4.652984e-01 -8.507732e-01 -6.322546e-01   \n",
       "50%   -1.997150e-01 -1.843367e-01 -2.966325e-01 -5.559780e-02 -6.322546e-01   \n",
       "75%    6.394753e-01  2.584066e-01  7.153626e-01  8.164442e-01  1.645423e+00   \n",
       "max    4.835427e+00  2.323110e+01  2.495724e+00  2.042060e+00  1.657076e+00   \n",
       "\n",
       "                 5             6             7             8             9   \\\n",
       "count  5.847600e+04  5.847600e+04  5.847600e+04  5.847600e+04  5.847600e+04   \n",
       "mean  -3.870341e-15 -3.901273e-16  1.718602e-15  1.675090e-15 -2.863487e-15   \n",
       "std    1.000009e+00  1.000009e+00  1.000009e+00  1.000009e+00  1.000009e+00   \n",
       "min   -5.095551e-01 -5.276203e-01 -5.619754e-01 -5.346215e-01 -5.361716e-01   \n",
       "25%   -5.095551e-01 -5.276203e-01 -5.619754e-01 -5.346215e-01 -5.361716e-01   \n",
       "50%   -5.095551e-01 -5.276203e-01 -5.619754e-01 -5.346215e-01 -5.361716e-01   \n",
       "75%   -5.095551e-01 -4.646568e-01  5.189206e-02 -2.971104e-01 -2.754336e-01   \n",
       "max    2.238409e+00  2.150412e+00  2.026440e+00  2.141712e+00  2.135584e+00   \n",
       "\n",
       "           ...                 51            52            53            54  \\\n",
       "count      ...       5.847600e+04  5.847600e+04  5.847600e+04  5.847600e+04   \n",
       "mean       ...      -1.329894e-15 -4.945292e-16  1.779803e-15  1.507841e-15   \n",
       "std        ...       1.000009e+00  1.000009e+00  1.000009e+00  1.000009e+00   \n",
       "min        ...      -6.139690e-01 -3.350478e-01 -2.040029e-01 -1.854645e-01   \n",
       "25%        ...      -6.139690e-01 -3.350478e-01 -2.040029e-01 -1.854645e-01   \n",
       "50%        ...      -6.139690e-01 -3.350478e-01 -2.040029e-01 -1.854645e-01   \n",
       "75%        ...       1.657902e+00 -3.350478e-01 -2.040029e-01 -1.854645e-01   \n",
       "max        ...       1.657902e+00  3.104917e+00  5.185049e+00  5.793828e+00   \n",
       "\n",
       "                 55            56            57            58            59  \\\n",
       "count  5.847600e+04  5.847600e+04  5.847600e+04  5.847600e+04  5.847600e+04   \n",
       "mean   1.183280e-11 -3.371684e-15  1.082046e-15  2.154010e-15 -1.583188e-15   \n",
       "std    1.000009e+00  1.000009e+00  1.000009e+00  1.000009e+00  1.000009e+00   \n",
       "min   -1.984152e+00 -2.851768e+00 -3.683961e-01 -1.983339e+00 -3.412183e-01   \n",
       "25%   -6.875851e-01  3.529286e-01 -3.683961e-01  5.307416e-01 -3.412183e-01   \n",
       "50%    6.343143e-01  3.529286e-01 -3.683961e-01  5.307416e-01 -3.412183e-01   \n",
       "75%    1.061513e+00  3.529286e-01 -3.683961e-01  5.307416e-01 -3.412183e-01   \n",
       "max    1.061513e+00  3.529286e-01  3.026884e+00  5.307416e-01  2.984327e+00   \n",
       "\n",
       "                 60  \n",
       "count  5.847600e+04  \n",
       "mean  -1.971310e-15  \n",
       "std    1.000009e+00  \n",
       "min   -4.575588e-01  \n",
       "25%   -4.575588e-01  \n",
       "50%   -4.575588e-01  \n",
       "75%   -4.575588e-01  \n",
       "max    1.018560e+01  \n",
       "\n",
       "[8 rows x 61 columns]"
      ]
     },
     "execution_count": 15,
     "metadata": {},
     "output_type": "execute_result"
    }
   ],
   "source": [
    "# Make sure the standardization is correct (mean must be 0 and variance must be 1) \n",
    "# Train data\n",
    "pd.DataFrame(train_standardized_data).describe()"
   ]
  },
  {
   "cell_type": "markdown",
   "metadata": {},
   "source": [
    "# 3. Hyperparameter Tuning - Bayesian Optimization\n",
    "#### Each model was optimized 100 times to obtain the optimal hyperparameters.\n",
    "- **3.1 Logistic Regression**\n",
    "- **3.2 SGD Classifier**\n",
    "- **3.3 Decision Tree**\n",
    "- **3.4 Bagging - Decision Tree**\n",
    "- **3.5 Random Forest**\n",
    "- **3.6 AdaBoost**\n",
    "- **3.7 Gradient Boosting**\n",
    "- **3.8 XGBoost**\n",
    "- **3.9 LightGBM**"
   ]
  },
  {
   "cell_type": "markdown",
   "metadata": {},
   "source": [
    "## 3.1 Logistic Regression\n",
    "- Reference: https://scikit-learn.org/stable/modules/generated/sklearn.linear_model.LogisticRegression.html\n",
    "    - penalty: Used to specify the norm used in the penalization.\n",
    "    - C: Inverse of regularization strength; must be a positive float. Like in support vector machines, smaller values specify stronger regularization.\n",
    "    - fit_intercept: Specifies if a constant (a.k.a. bias or intercept) should be added to the decision function.\n",
    "    - random_state: The seed of the pseudo random number generator to use when shuffling the data."
   ]
  },
  {
   "cell_type": "code",
   "execution_count": null,
   "metadata": {},
   "outputs": [],
   "source": [
    "# Define the search space (hyperparameter space).\n",
    "space = {\n",
    "    'penalty': hp.choice('penalty', ['l2', 'l1']),\n",
    "    'C': hp.uniform('C', 0.01, 1000.0),\n",
    "    'fit_intercept':hp.choice('fit_intercept', [True, False]),\n",
    "    'random_state':0,\n",
    "}"
   ]
  },
  {
   "cell_type": "code",
   "execution_count": null,
   "metadata": {},
   "outputs": [],
   "source": [
    "# Define the objective for the optimization.\n",
    "# Here is to minimize the negative roc_auc (area under the curve) score since roc_auc \n",
    "# is a metric that gives a selection between precision and recall.\n",
    "def objective(hyperparameters):\n",
    "    \n",
    "    # Keep track of evals\n",
    "    global ITERATION\n",
    "    \n",
    "    ITERATION += 1\n",
    "    \n",
    "    start = timer()\n",
    "    \n",
    "    # Perform 5-fold cross validation\n",
    "    model = LogisticRegression(**hyperparameters)\n",
    "    cv_results = cross_validate(model, train_standardized_data, y_train, \n",
    "                                scoring='roc_auc', cv=5, \n",
    "                                return_train_score=False)\n",
    "    run_time = timer() - start\n",
    "    \n",
    "    # Loss must be minimized (put a negative sign)\n",
    "    loss = -(np.mean(cv_results['test_score']))\n",
    "\n",
    "    # Write searching results to a csv file ('a' means append)\n",
    "    of_connection = open(OUT_FILE, 'a')\n",
    "    writer = csv.writer(of_connection)\n",
    "    writer.writerow([loss, hyperparameters, ITERATION, run_time])\n",
    "    of_connection.close()\n",
    "\n",
    "    # Dictionary with information for later evaluations\n",
    "    return {'loss': loss, 'hyperparameters': hyperparameters, 'iteration': ITERATION,\n",
    "            'train_time': run_time, 'status': STATUS_OK}"
   ]
  },
  {
   "cell_type": "code",
   "execution_count": null,
   "metadata": {},
   "outputs": [],
   "source": [
    "def bayesian_optimize(n_eval):\n",
    "    \n",
    "    # Record searching results.\n",
    "    trials = Trials()\n",
    "    \n",
    "    # Create a csv file to store results.\n",
    "    of_connection = open(OUT_FILE, 'w')\n",
    "    writer = csv.writer(of_connection)\n",
    "\n",
    "    ITERATION = 0\n",
    "    \n",
    "    # Write column names in the file.\n",
    "    headers = ['loss', 'hyperparameters', 'iteration', 'runtime']\n",
    "    writer.writerow(headers)\n",
    "    of_connection.close()\n",
    "    \n",
    "    \n",
    "    # Run x evaluations.\n",
    "    MAX_EVALS = n_eval\n",
    "\n",
    "    # Start optimization!\n",
    "    best = fmin(fn = objective, \n",
    "                space = space, \n",
    "                algo = tpe.suggest, \n",
    "                trials = trials,\n",
    "                max_evals = MAX_EVALS)\n",
    "\n",
    "    return best"
   ]
  },
  {
   "cell_type": "code",
   "execution_count": null,
   "metadata": {},
   "outputs": [],
   "source": [
    "# Global variable\n",
    "global ITERATION\n",
    "\n",
    "ITERATION = 0\n",
    "\n",
    "OUT_FILE = 'Bank_Marketing_LR.csv'"
   ]
  },
  {
   "cell_type": "code",
   "execution_count": null,
   "metadata": {},
   "outputs": [],
   "source": [
    "bayesian_optimize(100)"
   ]
  },
  {
   "cell_type": "markdown",
   "metadata": {},
   "source": [
    "## 3.2 SGD Classifier\n",
    "- Reference: https://scikit-learn.org/stable/modules/generated/sklearn.linear_model.SGDClassifier.html\n",
    "    - loss: The loss function to be used.\n",
    "    - penalty: The penalty (aka regularization term) to be used.\n",
    "    - alpha: Constant that multiplies the regularization term.\n",
    "    - l1_ratio: The Elastic Net mixing parameter. l1_ratio=0 corresponds to L2 penalty, and l1_ratio=1 to L1.\n",
    "    - fit_intercept: Whether the intercept should be estimated or not."
   ]
  },
  {
   "cell_type": "code",
   "execution_count": null,
   "metadata": {},
   "outputs": [],
   "source": [
    "# Define the search space\n",
    "space = {\n",
    "    'loss':'log',\n",
    "    'penalty': hp.choice('penalty', ['none', 'l2', 'l1', 'elasticnet']),\n",
    "    'alpha': hp.uniform('alpha', 0.0001, 100.0),\n",
    "    'l1_ratio': hp.uniform('l1_ratio', 0.0, 1.0),\n",
    "    'fit_intercept':hp.choice('fit_intercept', [False, True]),\n",
    "    'random_state':0\n",
    "}"
   ]
  },
  {
   "cell_type": "code",
   "execution_count": null,
   "metadata": {},
   "outputs": [],
   "source": [
    "# Define the objective (here is to minimize mse)\n",
    "def objective(hyperparameters):\n",
    "    \n",
    "    \"\"\"Objective function for multiple linear regression hyperparameter optimization.\"\"\"\n",
    "    \n",
    "    # Keep track of evals\n",
    "    global ITERATION\n",
    "    \n",
    "    ITERATION += 1\n",
    "    \n",
    "    start = timer()\n",
    "    \n",
    "    # Perform 5-fold cross validation\n",
    "    model = SGDClassifier(**hyperparameters)\n",
    "    cv_results = cross_validate(model, train_standardized_data, y_train, \n",
    "                                scoring='roc_auc', cv=5, \n",
    "                                return_train_score=False)\n",
    "    run_time = timer() - start\n",
    "    \n",
    "    # Loss must be minimized (put a negative sign)\n",
    "    loss = -(np.mean(cv_results['test_score']))\n",
    "\n",
    "    # Write searching results to a csv file ('a' means append)\n",
    "    of_connection = open(OUT_FILE, 'a')\n",
    "    writer = csv.writer(of_connection)\n",
    "    writer.writerow([loss, hyperparameters, ITERATION, run_time])\n",
    "    of_connection.close()\n",
    "\n",
    "    # Dictionary with information for evaluation\n",
    "    return {'loss': loss, 'hyperparameters': hyperparameters, 'iteration': ITERATION,\n",
    "            'train_time': run_time, 'status': STATUS_OK}"
   ]
  },
  {
   "cell_type": "code",
   "execution_count": null,
   "metadata": {},
   "outputs": [],
   "source": [
    "# Global variable\n",
    "global ITERATION\n",
    "\n",
    "ITERATION = 0\n",
    "\n",
    "OUT_FILE = 'Bank_Marketing_SGD.csv'"
   ]
  },
  {
   "cell_type": "code",
   "execution_count": null,
   "metadata": {},
   "outputs": [],
   "source": [
    "bayesian_optimize(100)"
   ]
  },
  {
   "cell_type": "markdown",
   "metadata": {},
   "source": [
    "## 3.3 Decision Tree\n",
    "- Reference: https://scikit-learn.org/stable/modules/generated/sklearn.tree.DecisionTreeClassifier.html#sklearn.tree.DecisionTreeClassifier\n",
    "    - criterion: The function to measure the quality of a split.\n",
    "    - max_depth: The maximum depth of the tree.\n",
    "    - min_samples_split: The minimum number of samples required to split an internal node.\n",
    "    - min_samples_leaf: The minimum number of samples required to be at a leaf node. (Will produce a conflict since max_depth determines the number of samples at a leaf node too.)\n",
    "    - random_state"
   ]
  },
  {
   "cell_type": "code",
   "execution_count": null,
   "metadata": {},
   "outputs": [],
   "source": [
    "# Define the search space (hyperparameter space).\n",
    "space = {\n",
    "    'criterion': hp.choice('criterion', ['gini', 'entropy']),\n",
    "    'max_depth': hp.randint('max_depth', 58476-1),\n",
    "    'min_samples_split': hp.uniform('min_samples_split', 0.0, 1.0),\n",
    "    'min_samples_leaf': hp.uniform('min_samples_leaf', 0.0, 0.5),\n",
    "    'random_state': 0,\n",
    "}"
   ]
  },
  {
   "cell_type": "code",
   "execution_count": null,
   "metadata": {},
   "outputs": [],
   "source": [
    "# Define the objective for the optimization.\n",
    "# Here is to minimize the negative roc_auc (area under the curve) score since roc_auc \n",
    "# is a metric that gives a selection between precision and recall.\n",
    "def objective(hyperparameters):\n",
    "    \n",
    "    # Keep track of evals\n",
    "    global ITERATION\n",
    "    \n",
    "    ITERATION += 1\n",
    "    \n",
    "    start = timer()\n",
    "    \n",
    "    # Perform 5-fold cross validation\n",
    "    model = DecisionTreeClassifier(**hyperparameters)\n",
    "    cv_results = cross_validate(model, x_train, y_train, \n",
    "                                scoring='roc_auc', cv=5, \n",
    "                                return_train_score=False)\n",
    "    run_time = timer() - start\n",
    "    \n",
    "    # Loss must be minimized (put a negative sign)\n",
    "    loss = -(np.mean(cv_results['test_score']))\n",
    "\n",
    "    # Write searching results to a csv file ('a' means append)\n",
    "    of_connection = open(OUT_FILE, 'a')\n",
    "    writer = csv.writer(of_connection)\n",
    "    writer.writerow([loss, hyperparameters, ITERATION, run_time])\n",
    "    of_connection.close()\n",
    "\n",
    "    # Dictionary with information for later evaluations\n",
    "    return {'loss': loss, 'hyperparameters': hyperparameters, 'iteration': ITERATION,\n",
    "            'train_time': run_time, 'status': STATUS_OK}"
   ]
  },
  {
   "cell_type": "code",
   "execution_count": null,
   "metadata": {},
   "outputs": [],
   "source": [
    "# Global variable\n",
    "global ITERATION\n",
    "\n",
    "ITERATION = 0\n",
    "\n",
    "OUT_FILE = 'Bank_Marketing_DT.csv'"
   ]
  },
  {
   "cell_type": "code",
   "execution_count": null,
   "metadata": {},
   "outputs": [],
   "source": [
    "bayesian_optimize(100)"
   ]
  },
  {
   "cell_type": "markdown",
   "metadata": {},
   "source": [
    "## 3.4 Bagging - Decision Tree\n",
    "- Reference: https://scikit-learn.org/stable/modules/generated/sklearn.ensemble.BaggingClassifier.html\n",
    "    - base_estimator: The base estimator to fit on random subsets of the dataset.\n",
    "    - n_estimators: The number of base estimators in the ensemble.\n",
    "    - max_samples: The number of samples to draw from X to train each base estimator.\n",
    "    - bootstrap: Whether samples are drawn with replacement.\n",
    "    - random_state"
   ]
  },
  {
   "cell_type": "code",
   "execution_count": null,
   "metadata": {},
   "outputs": [],
   "source": [
    "pd.read_csv('Bank_Marketing_DT.csv').sort_values(by='loss').head(5)"
   ]
  },
  {
   "cell_type": "code",
   "execution_count": null,
   "metadata": {},
   "outputs": [],
   "source": [
    "pd.read_csv('Bank_Marketing_DT.csv').sort_values(by='loss').hyperparameters.head(1).values"
   ]
  },
  {
   "cell_type": "code",
   "execution_count": null,
   "metadata": {},
   "outputs": [],
   "source": [
    "# Define the search space (hyperparameter space).\n",
    "\n",
    "# For bagging, it needs to have a base estimator as a parameter. \n",
    "# Thus I chose the top one optimal decision tree and a default decision tree\n",
    "# (to perform bagging, it's better to have a 'deep' tree).\n",
    "optimal_dt = DecisionTreeClassifier(criterion='entropy',\n",
    "                                    max_depth=52983,\n",
    "                                    min_samples_leaf=0.0005254964145084773,\n",
    "                                    min_samples_split=0.03703819684650395,\n",
    "                                    random_state=0)\n",
    "\n",
    "default_dt = DecisionTreeClassifier(max_depth=15, random_state=0)\n",
    "\n",
    "space = {\n",
    "    'base_estimator': hp.choice('base_estimator', [optimal_dt, default_dt]),\n",
    "    'n_estimators': hp.randint('n_estimators', 500),\n",
    "    'max_samples': hp.uniform('max_samples', 0.0, 1.0),\n",
    "    'bootstrap': hp.choice('bootstrap', [False, True]),\n",
    "    'random_state': 0,\n",
    "}"
   ]
  },
  {
   "cell_type": "code",
   "execution_count": null,
   "metadata": {},
   "outputs": [],
   "source": [
    "# Define the objective for the optimization.\n",
    "# Here is to minimize the negative roc_auc (area under the curve) score since roc_auc \n",
    "# is a metric that gives a selection between precision and recall.\n",
    "def objective(hyperparameters):\n",
    "    \n",
    "    # Keep track of evals\n",
    "    global ITERATION\n",
    "    \n",
    "    ITERATION += 1\n",
    "    \n",
    "    start = timer()\n",
    "    \n",
    "    # Perform 5-fold cross validation\n",
    "    model = BaggingClassifier(**hyperparameters)\n",
    "    cv_results = cross_validate(model, x_train, y_train, \n",
    "                                scoring='roc_auc', cv=5, \n",
    "                                return_train_score=False)\n",
    "    run_time = timer() - start\n",
    "    #print(hyperparameters)\n",
    "    \n",
    "    # Loss must be minimized (put a negative sign)\n",
    "    loss = -(np.mean(cv_results['test_score']))\n",
    "\n",
    "    # Write searching results to a csv file ('a' means append)\n",
    "    of_connection = open(OUT_FILE, 'a')\n",
    "    writer = csv.writer(of_connection)\n",
    "    writer.writerow([loss, hyperparameters, ITERATION, run_time])\n",
    "    of_connection.close()\n",
    "\n",
    "    # Dictionary with information for later evaluations\n",
    "    return {'loss': loss, 'hyperparameters': hyperparameters, 'iteration': ITERATION,\n",
    "            'train_time': run_time, 'status': STATUS_OK}"
   ]
  },
  {
   "cell_type": "code",
   "execution_count": null,
   "metadata": {},
   "outputs": [],
   "source": [
    "# Global variable\n",
    "global ITERATION\n",
    "\n",
    "ITERATION = 0\n",
    "\n",
    "OUT_FILE = 'Bank_Marketing_Bag_DT.csv'"
   ]
  },
  {
   "cell_type": "code",
   "execution_count": null,
   "metadata": {},
   "outputs": [],
   "source": [
    "bayesian_optimize(100)"
   ]
  },
  {
   "cell_type": "markdown",
   "metadata": {},
   "source": [
    "## 3.5 Random Forest\n",
    "- Reference: https://scikit-learn.org/stable/modules/generated/sklearn.ensemble.RandomForestClassifier.html\n",
    "    - n_estimators: The number of trees in the forest.\n",
    "    - criterion: The function to measure the quality of a split.\n",
    "    - max_depth: The maximum depth of the tree.\n",
    "    - min_samples_split: The minimum number of samples required to split an internal node.\n",
    "    - min_samples_leaf: The minimum number of samples required to be at a leaf node.\n",
    "    - max_features: The number of features to consider when looking for the best split.\n",
    "    - bootstrap: Whether bootstrap samples are used when building trees.\n",
    "    - random_state"
   ]
  },
  {
   "cell_type": "code",
   "execution_count": null,
   "metadata": {},
   "outputs": [],
   "source": [
    "space = {\n",
    "    'n_estimators': hp.randint('n_estimators', 500),\n",
    "    'criterion': hp.choice('criterion', ['gini', 'entropy']),\n",
    "    'max_depth': hp.randint('max_depth', 500),\n",
    "    'min_samples_split': hp.uniform('min_samples_split', 0.0, 1.0),\n",
    "    'min_samples_leaf': hp.uniform('min_samples_leaf', 0.002, 0.5),\n",
    "    'max_features': hp.uniform('max_features', 0.0, 1.0),\n",
    "    'bootstrap': hp.choice('bootstrap', [False, True]),\n",
    "    'random_state': 0\n",
    "}"
   ]
  },
  {
   "cell_type": "code",
   "execution_count": null,
   "metadata": {},
   "outputs": [],
   "source": [
    "# Define the objective for the optimization.\n",
    "# Here is to minimize the negative roc_auc (area under the curve) score since roc_auc \n",
    "# is a metric that gives a selection between precision and recall.\n",
    "def objective(hyperparameters):\n",
    "    \n",
    "    # Keep track of evals\n",
    "    global ITERATION\n",
    "    \n",
    "    ITERATION += 1\n",
    "    \n",
    "    start = timer()\n",
    "    \n",
    "    # Perform 5-fold cross validation\n",
    "    model = RandomForestClassifier(**hyperparameters)\n",
    "    cv_results = cross_validate(model, x_train, y_train, \n",
    "                                scoring='roc_auc', cv=5, \n",
    "                                return_train_score=False)\n",
    "    run_time = timer() - start\n",
    "    #print(hyperparameters)\n",
    "    \n",
    "    # Loss must be minimized (put a negative sign)\n",
    "    loss = -(np.mean(cv_results['test_score']))\n",
    "\n",
    "    # Write searching results to a csv file ('a' means append)\n",
    "    of_connection = open(OUT_FILE, 'a')\n",
    "    writer = csv.writer(of_connection)\n",
    "    writer.writerow([loss, hyperparameters, ITERATION, run_time])\n",
    "    of_connection.close()\n",
    "\n",
    "    # Dictionary with information for later evaluations\n",
    "    return {'loss': loss, 'hyperparameters': hyperparameters, 'iteration': ITERATION,\n",
    "            'train_time': run_time, 'status': STATUS_OK}"
   ]
  },
  {
   "cell_type": "code",
   "execution_count": null,
   "metadata": {},
   "outputs": [],
   "source": [
    "# Global variable\n",
    "global ITERATION\n",
    "\n",
    "ITERATION = 0\n",
    "\n",
    "OUT_FILE = 'Bank_Marketing_RF.csv'"
   ]
  },
  {
   "cell_type": "code",
   "execution_count": null,
   "metadata": {},
   "outputs": [],
   "source": [
    "bayesian_optimize(100)"
   ]
  },
  {
   "cell_type": "markdown",
   "metadata": {},
   "source": [
    "## 3.6 AdaBoost\n",
    "- Reference: https://scikit-learn.org/stable/modules/generated/sklearn.ensemble.AdaBoostClassifier.html\n",
    "    - base_estimator: The base estimator from which the boosted ensemble is built.\n",
    "    - n_estimators: The maximum number of estimators at which boosting is terminated.\n",
    "    - learning_rate: Learning rate shrinks the contribution of each classifier by learning_rate. There is a trade-off between learning_rate and n_estimators.\n",
    "    - random_state"
   ]
  },
  {
   "cell_type": "code",
   "execution_count": null,
   "metadata": {},
   "outputs": [],
   "source": [
    "# Typically, boosting requires \"stumps\" (shallow trees with depth from 4 to 8) to improve\n",
    "# the model performance.\n",
    "base_1 = DecisionTreeClassifier(max_depth=4,random_state=0)\n",
    "base_2 = DecisionTreeClassifier(max_depth=5,random_state=0)\n",
    "base_3 = DecisionTreeClassifier(max_depth=6,random_state=0)\n",
    "base_4 = DecisionTreeClassifier(max_depth=7,random_state=0)\n",
    "base_5 = DecisionTreeClassifier(max_depth=8,random_state=0)"
   ]
  },
  {
   "cell_type": "code",
   "execution_count": null,
   "metadata": {},
   "outputs": [],
   "source": [
    "space = {\n",
    "    'base_estimator': hp.choice('base_estimator', [base_1,base_2,base_3,base_4,base_5]),\n",
    "    'n_estimators': hp.randint('n_estimators', 500),\n",
    "    'learning_rate': hp.uniform('learning_rate', 0.0, 1.0),\n",
    "    'random_state': 0\n",
    "}"
   ]
  },
  {
   "cell_type": "code",
   "execution_count": null,
   "metadata": {},
   "outputs": [],
   "source": [
    "# Define the objective for the optimization.\n",
    "# Here is to minimize the negative roc_auc (area under the curve) score since roc_auc \n",
    "# is a metric that gives a selection between precision and recall.\n",
    "def objective(hyperparameters):\n",
    "    \n",
    "    # Keep track of evals\n",
    "    global ITERATION\n",
    "    \n",
    "    ITERATION += 1\n",
    "    \n",
    "    start = timer()\n",
    "    \n",
    "    # Perform 5-fold cross validation\n",
    "    model = AdaBoostClassifier(**hyperparameters)\n",
    "    cv_results = cross_validate(model, x_train, y_train, \n",
    "                                scoring='roc_auc', cv=5, \n",
    "                                return_train_score=False)\n",
    "    run_time = timer() - start\n",
    "    #print(hyperparameters)\n",
    "    \n",
    "    # Loss must be minimized (put a negative sign)\n",
    "    loss = -(np.mean(cv_results['test_score']))\n",
    "\n",
    "    # Write searching results to a csv file ('a' means append)\n",
    "    of_connection = open(OUT_FILE, 'a')\n",
    "    writer = csv.writer(of_connection)\n",
    "    writer.writerow([loss, hyperparameters, ITERATION, run_time])\n",
    "    of_connection.close()\n",
    "\n",
    "    # Dictionary with information for later evaluations\n",
    "    return {'loss': loss, 'hyperparameters': hyperparameters, 'iteration': ITERATION,\n",
    "            'train_time': run_time, 'status': STATUS_OK}"
   ]
  },
  {
   "cell_type": "code",
   "execution_count": null,
   "metadata": {},
   "outputs": [],
   "source": [
    "# Global variable\n",
    "global ITERATION\n",
    "\n",
    "ITERATION = 0\n",
    "\n",
    "OUT_FILE = 'Bank_Marketing_AdaBoost.csv'"
   ]
  },
  {
   "cell_type": "code",
   "execution_count": null,
   "metadata": {
    "scrolled": true
   },
   "outputs": [],
   "source": [
    "bayesian_optimize(100)"
   ]
  },
  {
   "cell_type": "markdown",
   "metadata": {},
   "source": [
    "## 3.7 Gradient Boosting\n",
    "- Reference: https://scikit-learn.org/stable/modules/generated/sklearn.ensemble.GradientBoostingClassifier.html\n",
    "    - n_estimators: The number of boosting stages to perform.\n",
    "    - max_depth: maximum depth of the individual regression estimators.\n",
    "    - subsample: The fraction of samples to be used for fitting the individual base learners.\n",
    "    - max_features: The number of features to consider when looking for the best split.\n",
    "    - learning_rate: learning rate shrinks the contribution of each tree by learning_rate. There is a trade-off between learning_rate and n_estimators.\n",
    "    - random_state"
   ]
  },
  {
   "cell_type": "code",
   "execution_count": null,
   "metadata": {},
   "outputs": [],
   "source": [
    "space = {\n",
    "    'n_estimators': hp.randint('n_estimators', 500),\n",
    "    'max_depth': hp.uniform('max_depth', 0, 8),\n",
    "    'subsample': hp.uniform('subsample', 0.0, 1.0),\n",
    "    'max_features': hp.uniform('max_features', 0.0, 1.0),\n",
    "    'learning_rate': hp.uniform('learning_rate', 0.0, 1.0),\n",
    "    'random_state': 0\n",
    "}"
   ]
  },
  {
   "cell_type": "code",
   "execution_count": null,
   "metadata": {},
   "outputs": [],
   "source": [
    "# Define the objective for the optimization.\n",
    "# Here is to minimize the negative roc_auc (area under the curve) score since roc_auc \n",
    "# is a metric that gives a selection between precision and recall.\n",
    "def objective(hyperparameters):\n",
    "    \n",
    "    # Keep track of evals\n",
    "    global ITERATION\n",
    "    \n",
    "    ITERATION += 1\n",
    "    \n",
    "    start = timer()\n",
    "    \n",
    "    # Perform 5-fold cross validation\n",
    "    model = GradientBoostingClassifier(**hyperparameters)\n",
    "    cv_results = cross_validate(model, x_train, y_train, \n",
    "                                scoring='roc_auc', cv=5, \n",
    "                                return_train_score=False)\n",
    "    run_time = timer() - start\n",
    "    #print(hyperparameters)\n",
    "    \n",
    "    # Loss must be minimized (put a negative sign)\n",
    "    loss = -(np.mean(cv_results['test_score']))\n",
    "\n",
    "    # Write searching results to a csv file ('a' means append)\n",
    "    of_connection = open(OUT_FILE, 'a')\n",
    "    writer = csv.writer(of_connection)\n",
    "    writer.writerow([loss, hyperparameters, ITERATION, run_time])\n",
    "    of_connection.close()\n",
    "\n",
    "    # Dictionary with information for later evaluations\n",
    "    return {'loss': loss, 'hyperparameters': hyperparameters, 'iteration': ITERATION,\n",
    "            'train_time': run_time, 'status': STATUS_OK}"
   ]
  },
  {
   "cell_type": "code",
   "execution_count": null,
   "metadata": {},
   "outputs": [],
   "source": [
    "# Global variable\n",
    "global ITERATION\n",
    "\n",
    "ITERATION = 0\n",
    "\n",
    "OUT_FILE = 'Bank_Marketing_GradientBoost.csv'"
   ]
  },
  {
   "cell_type": "code",
   "execution_count": null,
   "metadata": {},
   "outputs": [],
   "source": [
    "bayesian_optimize(100)"
   ]
  },
  {
   "cell_type": "markdown",
   "metadata": {},
   "source": [
    "## 3.8 XGBoost\n",
    "- Reference: https://xgboost.readthedocs.io/en/latest/parameter.html\n",
    "    - Parameters for Tree Booster\n",
    "        - eta: Step size shrinkage used in update to prevents overfitting.\n",
    "        - max_depth: Maximum depth of a tree.\n",
    "        - subsample: Subsample ratio of the training instances.\n",
    "        - colsample_bytree: Subsample ratio of columns when constructing each tree.\n",
    "        - colsample_bylevel: Subsample ratio of columns for each level.\n",
    "        - colsample_bynode: Subsample ratio of columns for each node (split).\n",
    "        - lambda: L2 regularization term on weights.\n",
    "        - alpha: L1 regularization term on weights.\n",
    "    - Learning Task Parameters\n",
    "        - objective: binary:logistic (logistic regression for binary classification, output probability).\n",
    "        - eval_metric: auc (Area under the curve).\n",
    "    - Command Line Parameters\n",
    "        - num_round: The number of rounds for boosting.\n",
    "        - task: train (training using data)."
   ]
  },
  {
   "cell_type": "code",
   "execution_count": null,
   "metadata": {},
   "outputs": [],
   "source": [
    "space = {\n",
    "    'objective': 'binary:logistic',\n",
    "    'eval_metric': 'auc',\n",
    "    'eta': hp.uniform('eta', 0.0, 1.0),\n",
    "    'max_depth': hp.randint('max_depth', 8),\n",
    "    'subsample': hp.uniform('subsample', 0.0, 1.0),\n",
    "    'colsample_bytree': hp.uniform('colsample_bytree', 0.0, 1.0),\n",
    "    'colsample_bylevel': hp.uniform('colsample_bylevel', 0.0, 1.0),\n",
    "    'colsample_bynode': hp.uniform('colsample_bynode', 0.0, 1.0),\n",
    "    'lambda': hp.uniform('lambda', 0.0, 1.0),\n",
    "    'alpha': hp.uniform('alpha', 0.0, 1.0),\n",
    "    'num_round': hp.randint('num_round', 500),\n",
    "    'task': 'train'\n",
    "}"
   ]
  },
  {
   "cell_type": "code",
   "execution_count": null,
   "metadata": {},
   "outputs": [],
   "source": [
    "# Define the objective for the optimization.\n",
    "# Here is to minimize the negative roc_auc (area under the curve) score since roc_auc \n",
    "# is a metric that gives a selection between precision and recall.\n",
    "def objective(hyperparameters):\n",
    "    \n",
    "    # Keep track of evals\n",
    "    global ITERATION\n",
    "    \n",
    "    ITERATION += 1\n",
    "    \n",
    "    start = timer()\n",
    "    \n",
    "    # Perform 5-fold cross validation\n",
    "    cv = xgb.cv(hyperparameters, xgb_train, num_boost_round=hyperparameters['num_round'], \n",
    "                nfold=5, early_stopping_rounds=10, verbose_eval=0)\n",
    "    #print(cv)\n",
    "    \n",
    "    run_time = timer() - start\n",
    "    \n",
    "    # Loss must be minimized (put a negative sign)\n",
    "    loss = -(cv['test-auc-mean'][cv.shape[0]-1])\n",
    "    \n",
    "    # Update the number of boosting rounds once the early stopping is finished.\n",
    "    hyperparameters['num_round'] = cv.shape[0]\n",
    "\n",
    "    # Write searching results to a csv file ('a' means append)\n",
    "    of_connection = open(OUT_FILE, 'a')\n",
    "    writer = csv.writer(of_connection)\n",
    "    writer.writerow([loss, hyperparameters, ITERATION, run_time])\n",
    "    of_connection.close()\n",
    "\n",
    "    # Dictionary with information for later evaluations\n",
    "    return {'loss': loss, 'hyperparameters': hyperparameters, 'iteration': ITERATION,\n",
    "            'train_time': run_time, 'status': STATUS_OK}"
   ]
  },
  {
   "cell_type": "code",
   "execution_count": null,
   "metadata": {},
   "outputs": [],
   "source": [
    "xgb_train = xgb.DMatrix(x_train, label=y_train)"
   ]
  },
  {
   "cell_type": "code",
   "execution_count": null,
   "metadata": {},
   "outputs": [],
   "source": [
    "# Global variable\n",
    "global ITERATION\n",
    "\n",
    "ITERATION = 0\n",
    "\n",
    "OUT_FILE = 'Bank_Marketing_XGB.csv'"
   ]
  },
  {
   "cell_type": "code",
   "execution_count": null,
   "metadata": {},
   "outputs": [],
   "source": [
    "bayesian_optimize(100)"
   ]
  },
  {
   "cell_type": "markdown",
   "metadata": {},
   "source": [
    "## 3.9 LightGBM\n",
    "- Reference:\n",
    "    - Core parameters\n",
    "        - task: default = train.\n",
    "        - objective: binary, binary log loss classification (or logistic regression).\n",
    "        - boosting: default = gbdt (traditional Gradient Boosting Decision Tree).\n",
    "        - data: path of training data, LightGBM will train from this data.\n",
    "        - num_iterations: number of boosting iterations.\n",
    "        - learning_rate: shrinkage rate.\n",
    "        - num_leaves: max number of leaves in one tree\n",
    "        - seed: this seed is used to generate other seeds.\n",
    "    - Learning Control Parameters\n",
    "        - max_depth: limit the max depth for tree model. \n",
    "        - bagging_fraction: randomly select part of data without resampling.\n",
    "        - bagging_freq: 0 means disable bagging; k means perform bagging at every k iteration.\n",
    "        - feature_fraction: randomly select part of features on each iteration.\n",
    "        - early_stopping_round: will stop training if one metric of one validation data doesn't improve in last early_stopping_round rounds.\n",
    "        - lambda_l1: L1 regularization.\n",
    "        - lambda_l2: L2 regularization.\n",
    "    - Metric Parameters\n",
    "        - metric: metric(s) to be evaluated on the evaluation set(s)."
   ]
  },
  {
   "cell_type": "code",
   "execution_count": null,
   "metadata": {},
   "outputs": [],
   "source": [
    "def bayes_parameter_opt_lgb(X, y, file_path, init_round=15, opt_round=25, n_folds=5, \n",
    "                            random_seed=0, output_process=False):\n",
    "    # Prepare data\n",
    "    train_data = lgb.Dataset(data=X, label=y, free_raw_data=False)\n",
    "    \n",
    "    # Hyperparameters\n",
    "    def lgb_eval(num_iterations, learning_rate, max_depth,\n",
    "                 bagging_fraction, feature_fraction, \n",
    "                 lambda_l1, lambda_l2):\n",
    "        # Predefined parameters\n",
    "        params = {\n",
    "            \"objective\":\"binary\", \"seed\":0, \"metric\":\"auc\", \"bagging_freq\":1\n",
    "        }\n",
    "        # Hyperparameters\n",
    "        params['num_iterations'] = int(round(num_iterations))\n",
    "        params['learning_rate'] = learning_rate\n",
    "        params['max_depth'] = int(round(max_depth))\n",
    "        params['bagging_fraction'] = bagging_fraction\n",
    "        params['feature_fraction'] = feature_fraction\n",
    "        params['lambda_l1'] = lambda_l1\n",
    "        params['lambda_l2'] = lambda_l2\n",
    "        \n",
    "        # 5-fold cross validations\n",
    "        cv_result = lgb.cv(params, train_set=train_data, \n",
    "                           num_boost_round=num_iterations,\n",
    "                           nfold=n_folds, \n",
    "                           early_stopping_rounds=10,\n",
    "                           seed=random_seed, \n",
    "                           verbose_eval=200, \n",
    "                           stratified=False)\n",
    "        \n",
    "        # Update the number of boosting rounds once the early stopping is finished.\n",
    "        params['num_iterations'] = len(cv_result['auc-mean'])\n",
    "        \n",
    "        return cv_result['auc-mean'][-1]\n",
    "    \n",
    "    \n",
    "    # Hyperparameter range \n",
    "    lgbBO = BayesianOptimization(lgb_eval, {'num_iterations': (100, 500),\n",
    "                                            'learning_rate': (0.1, 1.0),\n",
    "                                            'max_depth': (1, 8),\n",
    "                                            'bagging_fraction': (0.1, 1.0),\n",
    "                                            'feature_fraction': (0.1, 1.0),\n",
    "                                            'lambda_l1': (0.0, 1.0),\n",
    "                                            'lambda_l2': (0.0, 1.0)}, \n",
    "                                 random_state=0)\n",
    "    \n",
    "    # Start optimizing (maximize the auc score)\n",
    "    lgbBO.maximize(init_points=init_round, n_iter=opt_round,acq='ei')\n",
    "\n",
    "    # Output optimization process\n",
    "    if output_process==True: \n",
    "        # Write searching results to a csv file ('a' means append)\n",
    "        of_connection = open(file_path, 'a')\n",
    "        writer = csv.writer(of_connection)\n",
    "        headers = ['loss', 'hyperparameters', 'iteration']\n",
    "        writer.writerow(headers)\n",
    "        for i in range(len(lgbBO.res)):\n",
    "            writer.writerow([\n",
    "                lgbBO.res[i]['target'], lgbBO.res[i]['params'], i])\n",
    "        of_connection.close()\n",
    "        \n",
    "    # Return the searching result\n",
    "    return lgbBO.res"
   ]
  },
  {
   "cell_type": "code",
   "execution_count": 74,
   "metadata": {},
   "outputs": [
    {
     "name": "stdout",
     "output_type": "stream",
     "text": [
      "|   iter    |  target   | baggin... | featur... | lambda_l1 | lambda_l2 | learni... | max_depth | num_it... |\n",
      "-------------------------------------------------------------------------------------------------------------\n"
     ]
    },
    {
     "name": "stderr",
     "output_type": "stream",
     "text": [
      "/Users/wuchenhong/anaconda3/lib/python3.6/site-packages/lightgbm/engine.py:426: UserWarning: Found `num_iterations` in params. Will use it instead of argument\n",
      "  warnings.warn(\"Found `{}` in params. Will use it instead of argument\".format(alias))\n"
     ]
    },
    {
     "name": "stdout",
     "output_type": "stream",
     "text": [
      "| \u001b[0m 1       \u001b[0m | \u001b[0m 0.9736  \u001b[0m | \u001b[0m 0.5939  \u001b[0m | \u001b[0m 0.7437  \u001b[0m | \u001b[0m 0.6028  \u001b[0m | \u001b[0m 0.5449  \u001b[0m | \u001b[0m 0.4813  \u001b[0m | \u001b[0m 5.521   \u001b[0m | \u001b[0m 275.0   \u001b[0m |\n"
     ]
    },
    {
     "name": "stderr",
     "output_type": "stream",
     "text": [
      "/Users/wuchenhong/anaconda3/lib/python3.6/site-packages/lightgbm/engine.py:426: UserWarning: Found `num_iterations` in params. Will use it instead of argument\n",
      "  warnings.warn(\"Found `{}` in params. Will use it instead of argument\".format(alias))\n"
     ]
    },
    {
     "name": "stdout",
     "output_type": "stream",
     "text": [
      "| \u001b[95m 2       \u001b[0m | \u001b[95m 0.9736  \u001b[0m | \u001b[95m 0.9026  \u001b[0m | \u001b[95m 0.9673  \u001b[0m | \u001b[95m 0.3834  \u001b[0m | \u001b[95m 0.7917  \u001b[0m | \u001b[95m 0.576   \u001b[0m | \u001b[95m 4.976   \u001b[0m | \u001b[95m 470.2   \u001b[0m |\n"
     ]
    },
    {
     "name": "stderr",
     "output_type": "stream",
     "text": [
      "/Users/wuchenhong/anaconda3/lib/python3.6/site-packages/lightgbm/engine.py:426: UserWarning: Found `num_iterations` in params. Will use it instead of argument\n",
      "  warnings.warn(\"Found `{}` in params. Will use it instead of argument\".format(alias))\n"
     ]
    },
    {
     "name": "stdout",
     "output_type": "stream",
     "text": [
      "| \u001b[0m 3       \u001b[0m | \u001b[0m 0.9696  \u001b[0m | \u001b[0m 0.1639  \u001b[0m | \u001b[0m 0.1784  \u001b[0m | \u001b[0m 0.02022 \u001b[0m | \u001b[0m 0.8326  \u001b[0m | \u001b[0m 0.8003  \u001b[0m | \u001b[0m 7.09    \u001b[0m | \u001b[0m 491.4   \u001b[0m |\n"
     ]
    },
    {
     "name": "stderr",
     "output_type": "stream",
     "text": [
      "/Users/wuchenhong/anaconda3/lib/python3.6/site-packages/lightgbm/engine.py:426: UserWarning: Found `num_iterations` in params. Will use it instead of argument\n",
      "  warnings.warn(\"Found `{}` in params. Will use it instead of argument\".format(alias))\n"
     ]
    },
    {
     "name": "stdout",
     "output_type": "stream",
     "text": [
      "| \u001b[95m 4       \u001b[0m | \u001b[95m 0.9741  \u001b[0m | \u001b[95m 0.8192  \u001b[0m | \u001b[95m 0.5153  \u001b[0m | \u001b[95m 0.7805  \u001b[0m | \u001b[95m 0.1183  \u001b[0m | \u001b[95m 0.6759  \u001b[0m | \u001b[95m 2.003   \u001b[0m | \u001b[95m 477.9   \u001b[0m |\n"
     ]
    },
    {
     "name": "stderr",
     "output_type": "stream",
     "text": [
      "/Users/wuchenhong/anaconda3/lib/python3.6/site-packages/lightgbm/engine.py:426: UserWarning: Found `num_iterations` in params. Will use it instead of argument\n",
      "  warnings.warn(\"Found `{}` in params. Will use it instead of argument\".format(alias))\n"
     ]
    },
    {
     "name": "stdout",
     "output_type": "stream",
     "text": [
      "| \u001b[0m 5       \u001b[0m | \u001b[0m 0.9733  \u001b[0m | \u001b[0m 0.5697  \u001b[0m | \u001b[0m 0.4732  \u001b[0m | \u001b[0m 0.2646  \u001b[0m | \u001b[0m 0.7742  \u001b[0m | \u001b[0m 0.5105  \u001b[0m | \u001b[0m 4.979   \u001b[0m | \u001b[0m 107.5   \u001b[0m |\n"
     ]
    },
    {
     "name": "stderr",
     "output_type": "stream",
     "text": [
      "/Users/wuchenhong/anaconda3/lib/python3.6/site-packages/lightgbm/engine.py:426: UserWarning: Found `num_iterations` in params. Will use it instead of argument\n",
      "  warnings.warn(\"Found `{}` in params. Will use it instead of argument\".format(alias))\n"
     ]
    },
    {
     "name": "stdout",
     "output_type": "stream",
     "text": [
      "| \u001b[0m 6       \u001b[0m | \u001b[0m 0.9732  \u001b[0m | \u001b[0m 0.6559  \u001b[0m | \u001b[0m 0.6509  \u001b[0m | \u001b[0m 0.6169  \u001b[0m | \u001b[0m 0.9437  \u001b[0m | \u001b[0m 0.7136  \u001b[0m | \u001b[0m 3.517   \u001b[0m | \u001b[0m 274.8   \u001b[0m |\n"
     ]
    },
    {
     "name": "stderr",
     "output_type": "stream",
     "text": [
      "/Users/wuchenhong/anaconda3/lib/python3.6/site-packages/lightgbm/engine.py:426: UserWarning: Found `num_iterations` in params. Will use it instead of argument\n",
      "  warnings.warn(\"Found `{}` in params. Will use it instead of argument\".format(alias))\n"
     ]
    },
    {
     "name": "stdout",
     "output_type": "stream",
     "text": [
      "[200]\tcv_agg's auc: 0.97375 + 0.00109602\n",
      "| \u001b[0m 7       \u001b[0m | \u001b[0m 0.9738  \u001b[0m | \u001b[0m 0.7279  \u001b[0m | \u001b[0m 0.1542  \u001b[0m | \u001b[0m 0.6668  \u001b[0m | \u001b[0m 0.6706  \u001b[0m | \u001b[0m 0.2893  \u001b[0m | \u001b[0m 1.902   \u001b[0m | \u001b[0m 226.2   \u001b[0m |\n"
     ]
    },
    {
     "name": "stderr",
     "output_type": "stream",
     "text": [
      "/Users/wuchenhong/anaconda3/lib/python3.6/site-packages/lightgbm/engine.py:426: UserWarning: Found `num_iterations` in params. Will use it instead of argument\n",
      "  warnings.warn(\"Found `{}` in params. Will use it instead of argument\".format(alias))\n"
     ]
    },
    {
     "name": "stdout",
     "output_type": "stream",
     "text": [
      "| \u001b[0m 8       \u001b[0m | \u001b[0m 0.9731  \u001b[0m | \u001b[0m 0.4273  \u001b[0m | \u001b[0m 0.6132  \u001b[0m | \u001b[0m 0.4386  \u001b[0m | \u001b[0m 0.9884  \u001b[0m | \u001b[0m 0.1918  \u001b[0m | \u001b[0m 2.462   \u001b[0m | \u001b[0m 164.5   \u001b[0m |\n"
     ]
    },
    {
     "name": "stderr",
     "output_type": "stream",
     "text": [
      "/Users/wuchenhong/anaconda3/lib/python3.6/site-packages/lightgbm/engine.py:426: UserWarning: Found `num_iterations` in params. Will use it instead of argument\n",
      "  warnings.warn(\"Found `{}` in params. Will use it instead of argument\".format(alias))\n"
     ]
    },
    {
     "name": "stdout",
     "output_type": "stream",
     "text": [
      "[200]\tcv_agg's auc: 0.973777 + 0.00102822\n",
      "| \u001b[95m 9       \u001b[0m | \u001b[95m 0.9743  \u001b[0m | \u001b[95m 0.6878  \u001b[0m | \u001b[95m 0.328   \u001b[0m | \u001b[95m 0.4663  \u001b[0m | \u001b[95m 0.2444  \u001b[0m | \u001b[95m 0.2431  \u001b[0m | \u001b[95m 1.773   \u001b[0m | \u001b[95m 362.5   \u001b[0m |\n"
     ]
    },
    {
     "name": "stderr",
     "output_type": "stream",
     "text": [
      "/Users/wuchenhong/anaconda3/lib/python3.6/site-packages/lightgbm/engine.py:426: UserWarning: Found `num_iterations` in params. Will use it instead of argument\n",
      "  warnings.warn(\"Found `{}` in params. Will use it instead of argument\".format(alias))\n"
     ]
    },
    {
     "name": "stdout",
     "output_type": "stream",
     "text": [
      "| \u001b[0m 10      \u001b[0m | \u001b[0m 0.9739  \u001b[0m | \u001b[0m 0.2244  \u001b[0m | \u001b[0m 0.2769  \u001b[0m | \u001b[0m 0.3687  \u001b[0m | \u001b[0m 0.821   \u001b[0m | \u001b[0m 0.1874  \u001b[0m | \u001b[0m 6.866   \u001b[0m | \u001b[0m 138.4   \u001b[0m |\n"
     ]
    },
    {
     "name": "stderr",
     "output_type": "stream",
     "text": [
      "/Users/wuchenhong/anaconda3/lib/python3.6/site-packages/lightgbm/engine.py:426: UserWarning: Found `num_iterations` in params. Will use it instead of argument\n",
      "  warnings.warn(\"Found `{}` in params. Will use it instead of argument\".format(alias))\n"
     ]
    },
    {
     "name": "stdout",
     "output_type": "stream",
     "text": [
      "| \u001b[0m 11      \u001b[0m | \u001b[0m 0.9682  \u001b[0m | \u001b[0m 0.5993  \u001b[0m | \u001b[0m 0.6948  \u001b[0m | \u001b[0m 0.5723  \u001b[0m | \u001b[0m 0.2513  \u001b[0m | \u001b[0m 0.8206  \u001b[0m | \u001b[0m 1.103   \u001b[0m | \u001b[0m 100.1   \u001b[0m |\n"
     ]
    },
    {
     "name": "stderr",
     "output_type": "stream",
     "text": [
      "/Users/wuchenhong/anaconda3/lib/python3.6/site-packages/lightgbm/engine.py:426: UserWarning: Found `num_iterations` in params. Will use it instead of argument\n",
      "  warnings.warn(\"Found `{}` in params. Will use it instead of argument\".format(alias))\n"
     ]
    },
    {
     "name": "stdout",
     "output_type": "stream",
     "text": [
      "[200]\tcv_agg's auc: 0.954734 + 0.00168303\n",
      "[400]\tcv_agg's auc: 0.965418 + 0.00129478\n",
      "| \u001b[0m 12      \u001b[0m | \u001b[0m 0.966   \u001b[0m | \u001b[0m 0.9494  \u001b[0m | \u001b[0m 0.9505  \u001b[0m | \u001b[0m 0.8927  \u001b[0m | \u001b[0m 0.9859  \u001b[0m | \u001b[0m 0.1506  \u001b[0m | \u001b[0m 1.068   \u001b[0m | \u001b[0m 427.9   \u001b[0m |\n"
     ]
    },
    {
     "name": "stderr",
     "output_type": "stream",
     "text": [
      "/Users/wuchenhong/anaconda3/lib/python3.6/site-packages/lightgbm/engine.py:426: UserWarning: Found `num_iterations` in params. Will use it instead of argument\n",
      "  warnings.warn(\"Found `{}` in params. Will use it instead of argument\".format(alias))\n"
     ]
    },
    {
     "name": "stdout",
     "output_type": "stream",
     "text": [
      "| \u001b[0m 13      \u001b[0m | \u001b[0m 0.9737  \u001b[0m | \u001b[0m 0.9529  \u001b[0m | \u001b[0m 0.967   \u001b[0m | \u001b[0m 0.002427\u001b[0m | \u001b[0m 0.1514  \u001b[0m | \u001b[0m 0.4408  \u001b[0m | \u001b[0m 7.604   \u001b[0m | \u001b[0m 186.8   \u001b[0m |\n"
     ]
    },
    {
     "name": "stderr",
     "output_type": "stream",
     "text": [
      "/Users/wuchenhong/anaconda3/lib/python3.6/site-packages/lightgbm/engine.py:426: UserWarning: Found `num_iterations` in params. Will use it instead of argument\n",
      "  warnings.warn(\"Found `{}` in params. Will use it instead of argument\".format(alias))\n"
     ]
    },
    {
     "name": "stdout",
     "output_type": "stream",
     "text": [
      "| \u001b[95m 14      \u001b[0m | \u001b[95m 0.9744  \u001b[0m | \u001b[95m 0.972   \u001b[0m | \u001b[95m 0.4702  \u001b[0m | \u001b[95m 0.01689 \u001b[0m | \u001b[95m 0.08006 \u001b[0m | \u001b[95m 0.3823  \u001b[0m | \u001b[95m 1.739   \u001b[0m | \u001b[95m 322.7   \u001b[0m |\n"
     ]
    },
    {
     "name": "stderr",
     "output_type": "stream",
     "text": [
      "/Users/wuchenhong/anaconda3/lib/python3.6/site-packages/lightgbm/engine.py:426: UserWarning: Found `num_iterations` in params. Will use it instead of argument\n",
      "  warnings.warn(\"Found `{}` in params. Will use it instead of argument\".format(alias))\n"
     ]
    },
    {
     "name": "stdout",
     "output_type": "stream",
     "text": [
      "| \u001b[95m 15      \u001b[0m | \u001b[95m 0.9752  \u001b[0m | \u001b[95m 0.9628  \u001b[0m | \u001b[95m 0.1455  \u001b[0m | \u001b[95m 0.836   \u001b[0m | \u001b[95m 0.1266  \u001b[0m | \u001b[95m 0.1222  \u001b[0m | \u001b[95m 7.728   \u001b[0m | \u001b[95m 344.2   \u001b[0m |\n"
     ]
    },
    {
     "name": "stderr",
     "output_type": "stream",
     "text": [
      "/Users/wuchenhong/anaconda3/lib/python3.6/site-packages/lightgbm/engine.py:426: UserWarning: Found `num_iterations` in params. Will use it instead of argument\n",
      "  warnings.warn(\"Found `{}` in params. Will use it instead of argument\".format(alias))\n"
     ]
    },
    {
     "name": "stdout",
     "output_type": "stream",
     "text": [
      "| \u001b[0m 16      \u001b[0m | \u001b[0m 0.9733  \u001b[0m | \u001b[0m 0.9911  \u001b[0m | \u001b[0m 0.1729  \u001b[0m | \u001b[0m 0.824   \u001b[0m | \u001b[0m 0.9539  \u001b[0m | \u001b[0m 0.9379  \u001b[0m | \u001b[0m 7.97    \u001b[0m | \u001b[0m 142.7   \u001b[0m |\n"
     ]
    },
    {
     "name": "stderr",
     "output_type": "stream",
     "text": [
      "/Users/wuchenhong/anaconda3/lib/python3.6/site-packages/lightgbm/engine.py:426: UserWarning: Found `num_iterations` in params. Will use it instead of argument\n",
      "  warnings.warn(\"Found `{}` in params. Will use it instead of argument\".format(alias))\n"
     ]
    },
    {
     "name": "stdout",
     "output_type": "stream",
     "text": [
      "| \u001b[0m 17      \u001b[0m | \u001b[0m 0.9736  \u001b[0m | \u001b[0m 0.1181  \u001b[0m | \u001b[0m 0.8851  \u001b[0m | \u001b[0m 0.01478 \u001b[0m | \u001b[0m 0.9769  \u001b[0m | \u001b[0m 0.1636  \u001b[0m | \u001b[0m 7.285   \u001b[0m | \u001b[0m 338.5   \u001b[0m |\n"
     ]
    },
    {
     "name": "stderr",
     "output_type": "stream",
     "text": [
      "/Users/wuchenhong/anaconda3/lib/python3.6/site-packages/lightgbm/engine.py:426: UserWarning: Found `num_iterations` in params. Will use it instead of argument\n",
      "  warnings.warn(\"Found `{}` in params. Will use it instead of argument\".format(alias))\n"
     ]
    },
    {
     "name": "stdout",
     "output_type": "stream",
     "text": [
      "[200]\tcv_agg's auc: 0.94544 + 0.00178101\n",
      "[400]\tcv_agg's auc: 0.96141 + 0.00131786\n",
      "| \u001b[0m 18      \u001b[0m | \u001b[0m 0.9644  \u001b[0m | \u001b[0m 0.9417  \u001b[0m | \u001b[0m 0.7568  \u001b[0m | \u001b[0m 0.3195  \u001b[0m | \u001b[0m 0.1625  \u001b[0m | \u001b[0m 0.1089  \u001b[0m | \u001b[0m 1.006   \u001b[0m | \u001b[0m 499.8   \u001b[0m |\n"
     ]
    },
    {
     "name": "stderr",
     "output_type": "stream",
     "text": [
      "/Users/wuchenhong/anaconda3/lib/python3.6/site-packages/lightgbm/engine.py:426: UserWarning: Found `num_iterations` in params. Will use it instead of argument\n",
      "  warnings.warn(\"Found `{}` in params. Will use it instead of argument\".format(alias))\n"
     ]
    },
    {
     "name": "stdout",
     "output_type": "stream",
     "text": [
      "| \u001b[0m 19      \u001b[0m | \u001b[0m 0.975   \u001b[0m | \u001b[0m 0.6196  \u001b[0m | \u001b[0m 0.2343  \u001b[0m | \u001b[0m 0.9256  \u001b[0m | \u001b[0m 0.01691 \u001b[0m | \u001b[0m 0.216   \u001b[0m | \u001b[0m 7.767   \u001b[0m | \u001b[0m 465.1   \u001b[0m |\n"
     ]
    },
    {
     "name": "stderr",
     "output_type": "stream",
     "text": [
      "/Users/wuchenhong/anaconda3/lib/python3.6/site-packages/lightgbm/engine.py:426: UserWarning: Found `num_iterations` in params. Will use it instead of argument\n",
      "  warnings.warn(\"Found `{}` in params. Will use it instead of argument\".format(alias))\n"
     ]
    },
    {
     "name": "stdout",
     "output_type": "stream",
     "text": [
      "| \u001b[0m 20      \u001b[0m | \u001b[0m 0.9683  \u001b[0m | \u001b[0m 0.2527  \u001b[0m | \u001b[0m 0.1211  \u001b[0m | \u001b[0m 0.01161 \u001b[0m | \u001b[0m 0.0346  \u001b[0m | \u001b[0m 0.9754  \u001b[0m | \u001b[0m 5.705   \u001b[0m | \u001b[0m 339.2   \u001b[0m |\n"
     ]
    },
    {
     "name": "stderr",
     "output_type": "stream",
     "text": [
      "/Users/wuchenhong/anaconda3/lib/python3.6/site-packages/lightgbm/engine.py:426: UserWarning: Found `num_iterations` in params. Will use it instead of argument\n",
      "  warnings.warn(\"Found `{}` in params. Will use it instead of argument\".format(alias))\n"
     ]
    },
    {
     "name": "stdout",
     "output_type": "stream",
     "text": [
      "| \u001b[0m 21      \u001b[0m | \u001b[0m 0.9751  \u001b[0m | \u001b[0m 0.9641  \u001b[0m | \u001b[0m 0.9157  \u001b[0m | \u001b[0m 0.9401  \u001b[0m | \u001b[0m 0.6075  \u001b[0m | \u001b[0m 0.2008  \u001b[0m | \u001b[0m 7.985   \u001b[0m | \u001b[0m 107.1   \u001b[0m |\n"
     ]
    },
    {
     "name": "stderr",
     "output_type": "stream",
     "text": [
      "/Users/wuchenhong/anaconda3/lib/python3.6/site-packages/lightgbm/engine.py:426: UserWarning: Found `num_iterations` in params. Will use it instead of argument\n",
      "  warnings.warn(\"Found `{}` in params. Will use it instead of argument\".format(alias))\n"
     ]
    },
    {
     "name": "stdout",
     "output_type": "stream",
     "text": [
      "[200]\tcv_agg's auc: 0.972359 + 0.00101818\n",
      "| \u001b[0m 22      \u001b[0m | \u001b[0m 0.9733  \u001b[0m | \u001b[0m 0.9482  \u001b[0m | \u001b[0m 0.2278  \u001b[0m | \u001b[0m 0.9073  \u001b[0m | \u001b[0m 0.852   \u001b[0m | \u001b[0m 0.1307  \u001b[0m | \u001b[0m 1.649   \u001b[0m | \u001b[0m 333.3   \u001b[0m |\n"
     ]
    },
    {
     "name": "stderr",
     "output_type": "stream",
     "text": [
      "/Users/wuchenhong/anaconda3/lib/python3.6/site-packages/lightgbm/engine.py:426: UserWarning: Found `num_iterations` in params. Will use it instead of argument\n",
      "  warnings.warn(\"Found `{}` in params. Will use it instead of argument\".format(alias))\n"
     ]
    },
    {
     "name": "stdout",
     "output_type": "stream",
     "text": [
      "| \u001b[0m 23      \u001b[0m | \u001b[0m 0.975   \u001b[0m | \u001b[0m 0.9645  \u001b[0m | \u001b[0m 0.9892  \u001b[0m | \u001b[0m 0.1142  \u001b[0m | \u001b[0m 0.9996  \u001b[0m | \u001b[0m 0.1189  \u001b[0m | \u001b[0m 7.825   \u001b[0m | \u001b[0m 107.9   \u001b[0m |\n"
     ]
    },
    {
     "name": "stderr",
     "output_type": "stream",
     "text": [
      "/Users/wuchenhong/anaconda3/lib/python3.6/site-packages/lightgbm/engine.py:426: UserWarning: Found `num_iterations` in params. Will use it instead of argument\n",
      "  warnings.warn(\"Found `{}` in params. Will use it instead of argument\".format(alias))\n"
     ]
    },
    {
     "name": "stdout",
     "output_type": "stream",
     "text": [
      "| \u001b[0m 24      \u001b[0m | \u001b[0m 0.9751  \u001b[0m | \u001b[0m 0.9368  \u001b[0m | \u001b[0m 0.6904  \u001b[0m | \u001b[0m 0.7901  \u001b[0m | \u001b[0m 0.04687 \u001b[0m | \u001b[0m 0.1884  \u001b[0m | \u001b[0m 7.983   \u001b[0m | \u001b[0m 476.3   \u001b[0m |\n"
     ]
    },
    {
     "name": "stderr",
     "output_type": "stream",
     "text": [
      "/Users/wuchenhong/anaconda3/lib/python3.6/site-packages/lightgbm/engine.py:426: UserWarning: Found `num_iterations` in params. Will use it instead of argument\n",
      "  warnings.warn(\"Found `{}` in params. Will use it instead of argument\".format(alias))\n"
     ]
    },
    {
     "name": "stdout",
     "output_type": "stream",
     "text": [
      "| \u001b[0m 25      \u001b[0m | \u001b[0m 0.9749  \u001b[0m | \u001b[0m 0.9851  \u001b[0m | \u001b[0m 0.9471  \u001b[0m | \u001b[0m 0.04664 \u001b[0m | \u001b[0m 0.9857  \u001b[0m | \u001b[0m 0.13    \u001b[0m | \u001b[0m 7.196   \u001b[0m | \u001b[0m 254.8   \u001b[0m |\n"
     ]
    },
    {
     "name": "stderr",
     "output_type": "stream",
     "text": [
      "/Users/wuchenhong/anaconda3/lib/python3.6/site-packages/lightgbm/engine.py:426: UserWarning: Found `num_iterations` in params. Will use it instead of argument\n",
      "  warnings.warn(\"Found `{}` in params. Will use it instead of argument\".format(alias))\n"
     ]
    },
    {
     "name": "stdout",
     "output_type": "stream",
     "text": [
      "[200]\tcv_agg's auc: 0.94369 + 0.00168823\n",
      "| \u001b[0m 26      \u001b[0m | \u001b[0m 0.9525  \u001b[0m | \u001b[0m 0.8875  \u001b[0m | \u001b[0m 0.8375  \u001b[0m | \u001b[0m 0.7654  \u001b[0m | \u001b[0m 0.08071 \u001b[0m | \u001b[0m 0.1013  \u001b[0m | \u001b[0m 1.068   \u001b[0m | \u001b[0m 267.4   \u001b[0m |\n"
     ]
    },
    {
     "name": "stderr",
     "output_type": "stream",
     "text": [
      "/Users/wuchenhong/anaconda3/lib/python3.6/site-packages/lightgbm/engine.py:426: UserWarning: Found `num_iterations` in params. Will use it instead of argument\n",
      "  warnings.warn(\"Found `{}` in params. Will use it instead of argument\".format(alias))\n"
     ]
    },
    {
     "name": "stdout",
     "output_type": "stream",
     "text": [
      "[200]\tcv_agg's auc: 0.975074 + 0.00100249\n",
      "| \u001b[0m 27      \u001b[0m | \u001b[0m 0.9751  \u001b[0m | \u001b[0m 1.0     \u001b[0m | \u001b[0m 0.1     \u001b[0m | \u001b[0m 0.0     \u001b[0m | \u001b[0m 1.0     \u001b[0m | \u001b[0m 0.1     \u001b[0m | \u001b[0m 8.0     \u001b[0m | \u001b[0m 301.4   \u001b[0m |\n"
     ]
    },
    {
     "name": "stderr",
     "output_type": "stream",
     "text": [
      "/Users/wuchenhong/anaconda3/lib/python3.6/site-packages/lightgbm/engine.py:426: UserWarning: Found `num_iterations` in params. Will use it instead of argument\n",
      "  warnings.warn(\"Found `{}` in params. Will use it instead of argument\".format(alias))\n"
     ]
    },
    {
     "name": "stdout",
     "output_type": "stream",
     "text": [
      "| \u001b[0m 28      \u001b[0m | \u001b[0m 0.9633  \u001b[0m | \u001b[0m 0.1     \u001b[0m | \u001b[0m 1.0     \u001b[0m | \u001b[0m 1.0     \u001b[0m | \u001b[0m 1.0     \u001b[0m | \u001b[0m 1.0     \u001b[0m | \u001b[0m 8.0     \u001b[0m | \u001b[0m 221.3   \u001b[0m |\n"
     ]
    },
    {
     "name": "stderr",
     "output_type": "stream",
     "text": [
      "/Users/wuchenhong/anaconda3/lib/python3.6/site-packages/lightgbm/engine.py:426: UserWarning: Found `num_iterations` in params. Will use it instead of argument\n",
      "  warnings.warn(\"Found `{}` in params. Will use it instead of argument\".format(alias))\n"
     ]
    },
    {
     "name": "stdout",
     "output_type": "stream",
     "text": [
      "| \u001b[0m 29      \u001b[0m | \u001b[0m 0.9744  \u001b[0m | \u001b[0m 0.9845  \u001b[0m | \u001b[0m 0.36    \u001b[0m | \u001b[0m 0.3818  \u001b[0m | \u001b[0m 0.9731  \u001b[0m | \u001b[0m 0.477   \u001b[0m | \u001b[0m 7.802   \u001b[0m | \u001b[0m 380.2   \u001b[0m |\n"
     ]
    },
    {
     "name": "stderr",
     "output_type": "stream",
     "text": [
      "/Users/wuchenhong/anaconda3/lib/python3.6/site-packages/lightgbm/engine.py:426: UserWarning: Found `num_iterations` in params. Will use it instead of argument\n",
      "  warnings.warn(\"Found `{}` in params. Will use it instead of argument\".format(alias))\n"
     ]
    },
    {
     "name": "stdout",
     "output_type": "stream",
     "text": [
      "| \u001b[0m 30      \u001b[0m | \u001b[0m 0.9672  \u001b[0m | \u001b[0m 0.9735  \u001b[0m | \u001b[0m 0.2494  \u001b[0m | \u001b[0m 0.1758  \u001b[0m | \u001b[0m 0.8767  \u001b[0m | \u001b[0m 0.3853  \u001b[0m | \u001b[0m 1.097   \u001b[0m | \u001b[0m 195.5   \u001b[0m |\n"
     ]
    },
    {
     "name": "stderr",
     "output_type": "stream",
     "text": [
      "/Users/wuchenhong/anaconda3/lib/python3.6/site-packages/lightgbm/engine.py:426: UserWarning: Found `num_iterations` in params. Will use it instead of argument\n",
      "  warnings.warn(\"Found `{}` in params. Will use it instead of argument\".format(alias))\n"
     ]
    },
    {
     "name": "stdout",
     "output_type": "stream",
     "text": [
      "| \u001b[0m 31      \u001b[0m | \u001b[0m 0.9748  \u001b[0m | \u001b[0m 0.9805  \u001b[0m | \u001b[0m 0.322   \u001b[0m | \u001b[0m 0.05038 \u001b[0m | \u001b[0m 0.9622  \u001b[0m | \u001b[0m 0.3273  \u001b[0m | \u001b[0m 7.489   \u001b[0m | \u001b[0m 275.2   \u001b[0m |\n"
     ]
    },
    {
     "name": "stderr",
     "output_type": "stream",
     "text": [
      "/Users/wuchenhong/anaconda3/lib/python3.6/site-packages/lightgbm/engine.py:426: UserWarning: Found `num_iterations` in params. Will use it instead of argument\n",
      "  warnings.warn(\"Found `{}` in params. Will use it instead of argument\".format(alias))\n"
     ]
    },
    {
     "name": "stdout",
     "output_type": "stream",
     "text": [
      "| \u001b[0m 32      \u001b[0m | \u001b[0m 0.9737  \u001b[0m | \u001b[0m 0.9138  \u001b[0m | \u001b[0m 0.994   \u001b[0m | \u001b[0m 0.9195  \u001b[0m | \u001b[0m 0.9405  \u001b[0m | \u001b[0m 0.6393  \u001b[0m | \u001b[0m 7.967   \u001b[0m | \u001b[0m 360.7   \u001b[0m |\n"
     ]
    },
    {
     "name": "stderr",
     "output_type": "stream",
     "text": [
      "/Users/wuchenhong/anaconda3/lib/python3.6/site-packages/lightgbm/engine.py:426: UserWarning: Found `num_iterations` in params. Will use it instead of argument\n",
      "  warnings.warn(\"Found `{}` in params. Will use it instead of argument\".format(alias))\n"
     ]
    },
    {
     "name": "stdout",
     "output_type": "stream",
     "text": [
      "| \u001b[0m 33      \u001b[0m | \u001b[0m 0.97    \u001b[0m | \u001b[0m 0.4106  \u001b[0m | \u001b[0m 0.904   \u001b[0m | \u001b[0m 0.6109  \u001b[0m | \u001b[0m 0.9596  \u001b[0m | \u001b[0m 0.9504  \u001b[0m | \u001b[0m 7.287   \u001b[0m | \u001b[0m 286.4   \u001b[0m |\n"
     ]
    },
    {
     "name": "stderr",
     "output_type": "stream",
     "text": [
      "/Users/wuchenhong/anaconda3/lib/python3.6/site-packages/lightgbm/engine.py:426: UserWarning: Found `num_iterations` in params. Will use it instead of argument\n",
      "  warnings.warn(\"Found `{}` in params. Will use it instead of argument\".format(alias))\n"
     ]
    },
    {
     "name": "stdout",
     "output_type": "stream",
     "text": [
      "| \u001b[0m 34      \u001b[0m | \u001b[0m 0.9721  \u001b[0m | \u001b[0m 0.1332  \u001b[0m | \u001b[0m 0.1083  \u001b[0m | \u001b[0m 0.982   \u001b[0m | \u001b[0m 0.7189  \u001b[0m | \u001b[0m 0.4738  \u001b[0m | \u001b[0m 7.618   \u001b[0m | \u001b[0m 244.0   \u001b[0m |\n"
     ]
    },
    {
     "name": "stderr",
     "output_type": "stream",
     "text": [
      "/Users/wuchenhong/anaconda3/lib/python3.6/site-packages/lightgbm/engine.py:426: UserWarning: Found `num_iterations` in params. Will use it instead of argument\n",
      "  warnings.warn(\"Found `{}` in params. Will use it instead of argument\".format(alias))\n"
     ]
    },
    {
     "name": "stdout",
     "output_type": "stream",
     "text": [
      "| \u001b[0m 35      \u001b[0m | \u001b[0m 0.9734  \u001b[0m | \u001b[0m 0.1194  \u001b[0m | \u001b[0m 0.2441  \u001b[0m | \u001b[0m 0.7816  \u001b[0m | \u001b[0m 0.9605  \u001b[0m | \u001b[0m 0.1925  \u001b[0m | \u001b[0m 2.872   \u001b[0m | \u001b[0m 313.4   \u001b[0m |\n"
     ]
    },
    {
     "name": "stderr",
     "output_type": "stream",
     "text": [
      "/Users/wuchenhong/anaconda3/lib/python3.6/site-packages/lightgbm/engine.py:426: UserWarning: Found `num_iterations` in params. Will use it instead of argument\n",
      "  warnings.warn(\"Found `{}` in params. Will use it instead of argument\".format(alias))\n"
     ]
    },
    {
     "name": "stdout",
     "output_type": "stream",
     "text": [
      "| \u001b[0m 36      \u001b[0m | \u001b[0m 0.9727  \u001b[0m | \u001b[0m 0.5309  \u001b[0m | \u001b[0m 0.1005  \u001b[0m | \u001b[0m 0.06951 \u001b[0m | \u001b[0m 0.9712  \u001b[0m | \u001b[0m 0.7919  \u001b[0m | \u001b[0m 7.862   \u001b[0m | \u001b[0m 174.9   \u001b[0m |\n"
     ]
    },
    {
     "name": "stderr",
     "output_type": "stream",
     "text": [
      "/Users/wuchenhong/anaconda3/lib/python3.6/site-packages/lightgbm/engine.py:426: UserWarning: Found `num_iterations` in params. Will use it instead of argument\n",
      "  warnings.warn(\"Found `{}` in params. Will use it instead of argument\".format(alias))\n"
     ]
    },
    {
     "name": "stdout",
     "output_type": "stream",
     "text": [
      "| \u001b[0m 37      \u001b[0m | \u001b[0m 0.9738  \u001b[0m | \u001b[0m 0.8912  \u001b[0m | \u001b[0m 0.954   \u001b[0m | \u001b[0m 0.3108  \u001b[0m | \u001b[0m 0.1035  \u001b[0m | \u001b[0m 0.3656  \u001b[0m | \u001b[0m 1.621   \u001b[0m | \u001b[0m 123.1   \u001b[0m |\n"
     ]
    },
    {
     "name": "stderr",
     "output_type": "stream",
     "text": [
      "/Users/wuchenhong/anaconda3/lib/python3.6/site-packages/lightgbm/engine.py:426: UserWarning: Found `num_iterations` in params. Will use it instead of argument\n",
      "  warnings.warn(\"Found `{}` in params. Will use it instead of argument\".format(alias))\n"
     ]
    },
    {
     "name": "stdout",
     "output_type": "stream",
     "text": [
      "| \u001b[0m 38      \u001b[0m | \u001b[0m 0.9739  \u001b[0m | \u001b[0m 0.9942  \u001b[0m | \u001b[0m 0.8225  \u001b[0m | \u001b[0m 0.1243  \u001b[0m | \u001b[0m 0.9595  \u001b[0m | \u001b[0m 0.8853  \u001b[0m | \u001b[0m 2.717   \u001b[0m | \u001b[0m 232.8   \u001b[0m |\n"
     ]
    },
    {
     "name": "stderr",
     "output_type": "stream",
     "text": [
      "/Users/wuchenhong/anaconda3/lib/python3.6/site-packages/lightgbm/engine.py:426: UserWarning: Found `num_iterations` in params. Will use it instead of argument\n",
      "  warnings.warn(\"Found `{}` in params. Will use it instead of argument\".format(alias))\n"
     ]
    },
    {
     "name": "stdout",
     "output_type": "stream",
     "text": [
      "| \u001b[0m 39      \u001b[0m | \u001b[0m 0.9749  \u001b[0m | \u001b[0m 0.9904  \u001b[0m | \u001b[0m 0.9794  \u001b[0m | \u001b[0m 0.4546  \u001b[0m | \u001b[0m 0.992   \u001b[0m | \u001b[0m 0.1109  \u001b[0m | \u001b[0m 6.216   \u001b[0m | \u001b[0m 317.9   \u001b[0m |\n"
     ]
    },
    {
     "name": "stderr",
     "output_type": "stream",
     "text": [
      "/Users/wuchenhong/anaconda3/lib/python3.6/site-packages/lightgbm/engine.py:426: UserWarning: Found `num_iterations` in params. Will use it instead of argument\n",
      "  warnings.warn(\"Found `{}` in params. Will use it instead of argument\".format(alias))\n"
     ]
    },
    {
     "name": "stdout",
     "output_type": "stream",
     "text": [
      "| \u001b[0m 40      \u001b[0m | \u001b[0m 0.9752  \u001b[0m | \u001b[0m 0.9062  \u001b[0m | \u001b[0m 0.3002  \u001b[0m | \u001b[0m 0.05777 \u001b[0m | \u001b[0m 0.8953  \u001b[0m | \u001b[0m 0.1082  \u001b[0m | \u001b[0m 7.91    \u001b[0m | \u001b[0m 353.9   \u001b[0m |\n"
     ]
    },
    {
     "name": "stderr",
     "output_type": "stream",
     "text": [
      "/Users/wuchenhong/anaconda3/lib/python3.6/site-packages/lightgbm/engine.py:426: UserWarning: Found `num_iterations` in params. Will use it instead of argument\n",
      "  warnings.warn(\"Found `{}` in params. Will use it instead of argument\".format(alias))\n"
     ]
    },
    {
     "name": "stdout",
     "output_type": "stream",
     "text": [
      "| \u001b[0m 41      \u001b[0m | \u001b[0m 0.975   \u001b[0m | \u001b[0m 0.8948  \u001b[0m | \u001b[0m 0.3382  \u001b[0m | \u001b[0m 0.1039  \u001b[0m | \u001b[0m 0.1306  \u001b[0m | \u001b[0m 0.1367  \u001b[0m | \u001b[0m 6.668   \u001b[0m | \u001b[0m 154.3   \u001b[0m |\n"
     ]
    },
    {
     "name": "stderr",
     "output_type": "stream",
     "text": [
      "/Users/wuchenhong/anaconda3/lib/python3.6/site-packages/lightgbm/engine.py:426: UserWarning: Found `num_iterations` in params. Will use it instead of argument\n",
      "  warnings.warn(\"Found `{}` in params. Will use it instead of argument\".format(alias))\n"
     ]
    },
    {
     "name": "stdout",
     "output_type": "stream",
     "text": [
      "[200]\tcv_agg's auc: 0.973763 + 0.000993758\n",
      "| \u001b[0m 42      \u001b[0m | \u001b[0m 0.9743  \u001b[0m | \u001b[0m 0.9925  \u001b[0m | \u001b[0m 0.8756  \u001b[0m | \u001b[0m 0.8096  \u001b[0m | \u001b[0m 0.2901  \u001b[0m | \u001b[0m 0.2237  \u001b[0m | \u001b[0m 1.579   \u001b[0m | \u001b[0m 397.9   \u001b[0m |\n"
     ]
    },
    {
     "name": "stderr",
     "output_type": "stream",
     "text": [
      "/Users/wuchenhong/anaconda3/lib/python3.6/site-packages/lightgbm/engine.py:426: UserWarning: Found `num_iterations` in params. Will use it instead of argument\n",
      "  warnings.warn(\"Found `{}` in params. Will use it instead of argument\".format(alias))\n"
     ]
    },
    {
     "name": "stdout",
     "output_type": "stream",
     "text": [
      "[200]\tcv_agg's auc: 0.957507 + 0.00159482\n",
      "| \u001b[0m 43      \u001b[0m | \u001b[0m 0.9661  \u001b[0m | \u001b[0m 0.9778  \u001b[0m | \u001b[0m 0.7476  \u001b[0m | \u001b[0m 0.4217  \u001b[0m | \u001b[0m 0.107   \u001b[0m | \u001b[0m 0.1681  \u001b[0m | \u001b[0m 1.155   \u001b[0m | \u001b[0m 382.8   \u001b[0m |\n"
     ]
    },
    {
     "name": "stderr",
     "output_type": "stream",
     "text": [
      "/Users/wuchenhong/anaconda3/lib/python3.6/site-packages/lightgbm/engine.py:426: UserWarning: Found `num_iterations` in params. Will use it instead of argument\n",
      "  warnings.warn(\"Found `{}` in params. Will use it instead of argument\".format(alias))\n"
     ]
    },
    {
     "name": "stdout",
     "output_type": "stream",
     "text": [
      "| \u001b[0m 44      \u001b[0m | \u001b[0m 0.9748  \u001b[0m | \u001b[0m 0.5174  \u001b[0m | \u001b[0m 0.5166  \u001b[0m | \u001b[0m 0.5305  \u001b[0m | \u001b[0m 0.1954  \u001b[0m | \u001b[0m 0.1346  \u001b[0m | \u001b[0m 7.956   \u001b[0m | \u001b[0m 407.6   \u001b[0m |\n"
     ]
    },
    {
     "name": "stderr",
     "output_type": "stream",
     "text": [
      "/Users/wuchenhong/anaconda3/lib/python3.6/site-packages/lightgbm/engine.py:426: UserWarning: Found `num_iterations` in params. Will use it instead of argument\n",
      "  warnings.warn(\"Found `{}` in params. Will use it instead of argument\".format(alias))\n"
     ]
    },
    {
     "name": "stdout",
     "output_type": "stream",
     "text": [
      "| \u001b[0m 45      \u001b[0m | \u001b[0m 0.9752  \u001b[0m | \u001b[0m 0.9969  \u001b[0m | \u001b[0m 0.2418  \u001b[0m | \u001b[0m 0.9198  \u001b[0m | \u001b[0m 0.8271  \u001b[0m | \u001b[0m 0.2751  \u001b[0m | \u001b[0m 7.264   \u001b[0m | \u001b[0m 397.6   \u001b[0m |\n"
     ]
    },
    {
     "name": "stderr",
     "output_type": "stream",
     "text": [
      "/Users/wuchenhong/anaconda3/lib/python3.6/site-packages/lightgbm/engine.py:426: UserWarning: Found `num_iterations` in params. Will use it instead of argument\n",
      "  warnings.warn(\"Found `{}` in params. Will use it instead of argument\".format(alias))\n"
     ]
    },
    {
     "name": "stdout",
     "output_type": "stream",
     "text": [
      "| \u001b[0m 46      \u001b[0m | \u001b[0m 0.9752  \u001b[0m | \u001b[0m 0.8999  \u001b[0m | \u001b[0m 0.4187  \u001b[0m | \u001b[0m 0.8123  \u001b[0m | \u001b[0m 0.1002  \u001b[0m | \u001b[0m 0.1812  \u001b[0m | \u001b[0m 7.944   \u001b[0m | \u001b[0m 367.9   \u001b[0m |\n"
     ]
    },
    {
     "name": "stderr",
     "output_type": "stream",
     "text": [
      "/Users/wuchenhong/anaconda3/lib/python3.6/site-packages/lightgbm/engine.py:426: UserWarning: Found `num_iterations` in params. Will use it instead of argument\n",
      "  warnings.warn(\"Found `{}` in params. Will use it instead of argument\".format(alias))\n"
     ]
    },
    {
     "name": "stdout",
     "output_type": "stream",
     "text": [
      "[200]\tcv_agg's auc: 0.957126 + 0.00155272\n",
      "| \u001b[0m 47      \u001b[0m | \u001b[0m 0.9636  \u001b[0m | \u001b[0m 0.9624  \u001b[0m | \u001b[0m 0.6305  \u001b[0m | \u001b[0m 0.033   \u001b[0m | \u001b[0m 0.7814  \u001b[0m | \u001b[0m 0.1631  \u001b[0m | \u001b[0m 1.166   \u001b[0m | \u001b[0m 302.2   \u001b[0m |\n"
     ]
    },
    {
     "name": "stderr",
     "output_type": "stream",
     "text": [
      "/Users/wuchenhong/anaconda3/lib/python3.6/site-packages/lightgbm/engine.py:426: UserWarning: Found `num_iterations` in params. Will use it instead of argument\n",
      "  warnings.warn(\"Found `{}` in params. Will use it instead of argument\".format(alias))\n"
     ]
    },
    {
     "name": "stdout",
     "output_type": "stream",
     "text": [
      "| \u001b[0m 48      \u001b[0m | \u001b[0m 0.9716  \u001b[0m | \u001b[0m 0.6102  \u001b[0m | \u001b[0m 0.8793  \u001b[0m | \u001b[0m 0.09285 \u001b[0m | \u001b[0m 0.005318\u001b[0m | \u001b[0m 0.7832  \u001b[0m | \u001b[0m 7.889   \u001b[0m | \u001b[0m 120.0   \u001b[0m |\n"
     ]
    },
    {
     "name": "stderr",
     "output_type": "stream",
     "text": [
      "/Users/wuchenhong/anaconda3/lib/python3.6/site-packages/lightgbm/engine.py:426: UserWarning: Found `num_iterations` in params. Will use it instead of argument\n",
      "  warnings.warn(\"Found `{}` in params. Will use it instead of argument\".format(alias))\n"
     ]
    },
    {
     "name": "stdout",
     "output_type": "stream",
     "text": [
      "| \u001b[0m 49      \u001b[0m | \u001b[0m 0.97    \u001b[0m | \u001b[0m 0.209   \u001b[0m | \u001b[0m 0.246   \u001b[0m | \u001b[0m 0.2069  \u001b[0m | \u001b[0m 0.9998  \u001b[0m | \u001b[0m 0.8532  \u001b[0m | \u001b[0m 7.513   \u001b[0m | \u001b[0m 272.7   \u001b[0m |\n"
     ]
    },
    {
     "name": "stderr",
     "output_type": "stream",
     "text": [
      "/Users/wuchenhong/anaconda3/lib/python3.6/site-packages/lightgbm/engine.py:426: UserWarning: Found `num_iterations` in params. Will use it instead of argument\n",
      "  warnings.warn(\"Found `{}` in params. Will use it instead of argument\".format(alias))\n"
     ]
    },
    {
     "name": "stdout",
     "output_type": "stream",
     "text": [
      "| \u001b[0m 50      \u001b[0m | \u001b[0m 0.9752  \u001b[0m | \u001b[0m 0.8479  \u001b[0m | \u001b[0m 0.9794  \u001b[0m | \u001b[0m 0.9317  \u001b[0m | \u001b[0m 0.8974  \u001b[0m | \u001b[0m 0.1139  \u001b[0m | \u001b[0m 7.275   \u001b[0m | \u001b[0m 174.7   \u001b[0m |\n"
     ]
    },
    {
     "name": "stderr",
     "output_type": "stream",
     "text": [
      "/Users/wuchenhong/anaconda3/lib/python3.6/site-packages/lightgbm/engine.py:426: UserWarning: Found `num_iterations` in params. Will use it instead of argument\n",
      "  warnings.warn(\"Found `{}` in params. Will use it instead of argument\".format(alias))\n"
     ]
    },
    {
     "name": "stdout",
     "output_type": "stream",
     "text": [
      "| \u001b[0m 51      \u001b[0m | \u001b[0m 0.975   \u001b[0m | \u001b[0m 0.9279  \u001b[0m | \u001b[0m 0.1155  \u001b[0m | \u001b[0m 0.3328  \u001b[0m | \u001b[0m 0.9953  \u001b[0m | \u001b[0m 0.1206  \u001b[0m | \u001b[0m 6.988   \u001b[0m | \u001b[0m 236.8   \u001b[0m |\n"
     ]
    },
    {
     "name": "stderr",
     "output_type": "stream",
     "text": [
      "/Users/wuchenhong/anaconda3/lib/python3.6/site-packages/lightgbm/engine.py:426: UserWarning: Found `num_iterations` in params. Will use it instead of argument\n",
      "  warnings.warn(\"Found `{}` in params. Will use it instead of argument\".format(alias))\n"
     ]
    },
    {
     "name": "stdout",
     "output_type": "stream",
     "text": [
      "| \u001b[0m 52      \u001b[0m | \u001b[0m 0.9693  \u001b[0m | \u001b[0m 0.1192  \u001b[0m | \u001b[0m 0.1936  \u001b[0m | \u001b[0m 0.9357  \u001b[0m | \u001b[0m 0.9289  \u001b[0m | \u001b[0m 0.5908  \u001b[0m | \u001b[0m 1.132   \u001b[0m | \u001b[0m 408.0   \u001b[0m |\n"
     ]
    },
    {
     "name": "stderr",
     "output_type": "stream",
     "text": [
      "/Users/wuchenhong/anaconda3/lib/python3.6/site-packages/lightgbm/engine.py:426: UserWarning: Found `num_iterations` in params. Will use it instead of argument\n",
      "  warnings.warn(\"Found `{}` in params. Will use it instead of argument\".format(alias))\n"
     ]
    },
    {
     "name": "stdout",
     "output_type": "stream",
     "text": [
      "| \u001b[0m 53      \u001b[0m | \u001b[0m 0.9751  \u001b[0m | \u001b[0m 0.9431  \u001b[0m | \u001b[0m 0.1446  \u001b[0m | \u001b[0m 0.8228  \u001b[0m | \u001b[0m 0.9911  \u001b[0m | \u001b[0m 0.1059  \u001b[0m | \u001b[0m 7.463   \u001b[0m | \u001b[0m 278.6   \u001b[0m |\n"
     ]
    },
    {
     "name": "stderr",
     "output_type": "stream",
     "text": [
      "/Users/wuchenhong/anaconda3/lib/python3.6/site-packages/lightgbm/engine.py:426: UserWarning: Found `num_iterations` in params. Will use it instead of argument\n",
      "  warnings.warn(\"Found `{}` in params. Will use it instead of argument\".format(alias))\n"
     ]
    },
    {
     "name": "stdout",
     "output_type": "stream",
     "text": [
      "[200]\tcv_agg's auc: 0.972788 + 0.00110372\n",
      "| \u001b[0m 54      \u001b[0m | \u001b[0m 0.9736  \u001b[0m | \u001b[0m 0.1659  \u001b[0m | \u001b[0m 0.7916  \u001b[0m | \u001b[0m 0.05686 \u001b[0m | \u001b[0m 0.01987 \u001b[0m | \u001b[0m 0.1741  \u001b[0m | \u001b[0m 2.23    \u001b[0m | \u001b[0m 462.6   \u001b[0m |\n"
     ]
    },
    {
     "name": "stderr",
     "output_type": "stream",
     "text": [
      "/Users/wuchenhong/anaconda3/lib/python3.6/site-packages/lightgbm/engine.py:426: UserWarning: Found `num_iterations` in params. Will use it instead of argument\n",
      "  warnings.warn(\"Found `{}` in params. Will use it instead of argument\".format(alias))\n"
     ]
    },
    {
     "name": "stdout",
     "output_type": "stream",
     "text": [
      "| \u001b[0m 55      \u001b[0m | \u001b[0m 0.9734  \u001b[0m | \u001b[0m 0.1215  \u001b[0m | \u001b[0m 0.9895  \u001b[0m | \u001b[0m 0.8935  \u001b[0m | \u001b[0m 0.7998  \u001b[0m | \u001b[0m 0.1436  \u001b[0m | \u001b[0m 7.75    \u001b[0m | \u001b[0m 394.5   \u001b[0m |\n"
     ]
    },
    {
     "name": "stderr",
     "output_type": "stream",
     "text": [
      "/Users/wuchenhong/anaconda3/lib/python3.6/site-packages/lightgbm/engine.py:426: UserWarning: Found `num_iterations` in params. Will use it instead of argument\n",
      "  warnings.warn(\"Found `{}` in params. Will use it instead of argument\".format(alias))\n"
     ]
    },
    {
     "name": "stdout",
     "output_type": "stream",
     "text": [
      "| \u001b[0m 56      \u001b[0m | \u001b[0m 0.9494  \u001b[0m | \u001b[0m 0.9929  \u001b[0m | \u001b[0m 0.493   \u001b[0m | \u001b[0m 0.7185  \u001b[0m | \u001b[0m 0.6997  \u001b[0m | \u001b[0m 0.1682  \u001b[0m | \u001b[0m 1.057   \u001b[0m | \u001b[0m 142.3   \u001b[0m |\n"
     ]
    },
    {
     "name": "stderr",
     "output_type": "stream",
     "text": [
      "/Users/wuchenhong/anaconda3/lib/python3.6/site-packages/lightgbm/engine.py:426: UserWarning: Found `num_iterations` in params. Will use it instead of argument\n",
      "  warnings.warn(\"Found `{}` in params. Will use it instead of argument\".format(alias))\n"
     ]
    },
    {
     "name": "stdout",
     "output_type": "stream",
     "text": [
      "| \u001b[0m 57      \u001b[0m | \u001b[0m 0.9735  \u001b[0m | \u001b[0m 0.1     \u001b[0m | \u001b[0m 1.0     \u001b[0m | \u001b[0m 0.6686  \u001b[0m | \u001b[0m 1.0     \u001b[0m | \u001b[0m 0.1     \u001b[0m | \u001b[0m 7.989   \u001b[0m | \u001b[0m 163.1   \u001b[0m |\n"
     ]
    },
    {
     "name": "stderr",
     "output_type": "stream",
     "text": [
      "/Users/wuchenhong/anaconda3/lib/python3.6/site-packages/lightgbm/engine.py:426: UserWarning: Found `num_iterations` in params. Will use it instead of argument\n",
      "  warnings.warn(\"Found `{}` in params. Will use it instead of argument\".format(alias))\n"
     ]
    },
    {
     "name": "stdout",
     "output_type": "stream",
     "text": [
      "| \u001b[0m 58      \u001b[0m | \u001b[0m 0.9709  \u001b[0m | \u001b[0m 0.9488  \u001b[0m | \u001b[0m 0.2201  \u001b[0m | \u001b[0m 0.8376  \u001b[0m | \u001b[0m 0.9907  \u001b[0m | \u001b[0m 0.1474  \u001b[0m | \u001b[0m 1.976   \u001b[0m | \u001b[0m 111.5   \u001b[0m |\n"
     ]
    },
    {
     "name": "stderr",
     "output_type": "stream",
     "text": [
      "/Users/wuchenhong/anaconda3/lib/python3.6/site-packages/lightgbm/engine.py:426: UserWarning: Found `num_iterations` in params. Will use it instead of argument\n",
      "  warnings.warn(\"Found `{}` in params. Will use it instead of argument\".format(alias))\n"
     ]
    },
    {
     "name": "stdout",
     "output_type": "stream",
     "text": [
      "| \u001b[0m 59      \u001b[0m | \u001b[0m 0.9745  \u001b[0m | \u001b[0m 0.6406  \u001b[0m | \u001b[0m 0.9631  \u001b[0m | \u001b[0m 0.01966 \u001b[0m | \u001b[0m 0.1548  \u001b[0m | \u001b[0m 0.1832  \u001b[0m | \u001b[0m 2.571   \u001b[0m | \u001b[0m 177.0   \u001b[0m |\n"
     ]
    },
    {
     "name": "stderr",
     "output_type": "stream",
     "text": [
      "/Users/wuchenhong/anaconda3/lib/python3.6/site-packages/lightgbm/engine.py:426: UserWarning: Found `num_iterations` in params. Will use it instead of argument\n",
      "  warnings.warn(\"Found `{}` in params. Will use it instead of argument\".format(alias))\n"
     ]
    },
    {
     "name": "stdout",
     "output_type": "stream",
     "text": [
      "| \u001b[0m 60      \u001b[0m | \u001b[0m 0.975   \u001b[0m | \u001b[0m 0.8957  \u001b[0m | \u001b[0m 0.2499  \u001b[0m | \u001b[0m 0.02478 \u001b[0m | \u001b[0m 0.4911  \u001b[0m | \u001b[0m 0.1542  \u001b[0m | \u001b[0m 7.893   \u001b[0m | \u001b[0m 132.0   \u001b[0m |\n"
     ]
    },
    {
     "name": "stderr",
     "output_type": "stream",
     "text": [
      "/Users/wuchenhong/anaconda3/lib/python3.6/site-packages/lightgbm/engine.py:426: UserWarning: Found `num_iterations` in params. Will use it instead of argument\n",
      "  warnings.warn(\"Found `{}` in params. Will use it instead of argument\".format(alias))\n"
     ]
    },
    {
     "name": "stdout",
     "output_type": "stream",
     "text": [
      "| \u001b[0m 61      \u001b[0m | \u001b[0m 0.9723  \u001b[0m | \u001b[0m 0.9126  \u001b[0m | \u001b[0m 0.8027  \u001b[0m | \u001b[0m 0.1216  \u001b[0m | \u001b[0m 0.02638 \u001b[0m | \u001b[0m 0.9448  \u001b[0m | \u001b[0m 7.443   \u001b[0m | \u001b[0m 445.9   \u001b[0m |\n"
     ]
    },
    {
     "name": "stderr",
     "output_type": "stream",
     "text": [
      "/Users/wuchenhong/anaconda3/lib/python3.6/site-packages/lightgbm/engine.py:426: UserWarning: Found `num_iterations` in params. Will use it instead of argument\n",
      "  warnings.warn(\"Found `{}` in params. Will use it instead of argument\".format(alias))\n"
     ]
    },
    {
     "name": "stdout",
     "output_type": "stream",
     "text": [
      "| \u001b[0m 62      \u001b[0m | \u001b[0m 0.974   \u001b[0m | \u001b[0m 0.2925  \u001b[0m | \u001b[0m 0.8977  \u001b[0m | \u001b[0m 0.6719  \u001b[0m | \u001b[0m 0.1195  \u001b[0m | \u001b[0m 0.2036  \u001b[0m | \u001b[0m 7.775   \u001b[0m | \u001b[0m 100.9   \u001b[0m |\n"
     ]
    },
    {
     "name": "stderr",
     "output_type": "stream",
     "text": [
      "/Users/wuchenhong/anaconda3/lib/python3.6/site-packages/lightgbm/engine.py:426: UserWarning: Found `num_iterations` in params. Will use it instead of argument\n",
      "  warnings.warn(\"Found `{}` in params. Will use it instead of argument\".format(alias))\n"
     ]
    },
    {
     "name": "stdout",
     "output_type": "stream",
     "text": [
      "| \u001b[0m 63      \u001b[0m | \u001b[0m 0.9744  \u001b[0m | \u001b[0m 0.4079  \u001b[0m | \u001b[0m 0.9636  \u001b[0m | \u001b[0m 0.0511  \u001b[0m | \u001b[0m 0.2428  \u001b[0m | \u001b[0m 0.1623  \u001b[0m | \u001b[0m 7.968   \u001b[0m | \u001b[0m 142.1   \u001b[0m |\n"
     ]
    },
    {
     "name": "stderr",
     "output_type": "stream",
     "text": [
      "/Users/wuchenhong/anaconda3/lib/python3.6/site-packages/lightgbm/engine.py:426: UserWarning: Found `num_iterations` in params. Will use it instead of argument\n",
      "  warnings.warn(\"Found `{}` in params. Will use it instead of argument\".format(alias))\n"
     ]
    },
    {
     "name": "stdout",
     "output_type": "stream",
     "text": [
      "| \u001b[0m 64      \u001b[0m | \u001b[0m 0.9748  \u001b[0m | \u001b[0m 0.8546  \u001b[0m | \u001b[0m 0.8783  \u001b[0m | \u001b[0m 0.1707  \u001b[0m | \u001b[0m 0.9386  \u001b[0m | \u001b[0m 0.183   \u001b[0m | \u001b[0m 7.455   \u001b[0m | \u001b[0m 245.3   \u001b[0m |\n"
     ]
    },
    {
     "name": "stderr",
     "output_type": "stream",
     "text": [
      "/Users/wuchenhong/anaconda3/lib/python3.6/site-packages/lightgbm/engine.py:426: UserWarning: Found `num_iterations` in params. Will use it instead of argument\n",
      "  warnings.warn(\"Found `{}` in params. Will use it instead of argument\".format(alias))\n"
     ]
    },
    {
     "name": "stdout",
     "output_type": "stream",
     "text": [
      "| \u001b[0m 65      \u001b[0m | \u001b[0m 0.975   \u001b[0m | \u001b[0m 0.8662  \u001b[0m | \u001b[0m 0.1477  \u001b[0m | \u001b[0m 0.7734  \u001b[0m | \u001b[0m 0.06851 \u001b[0m | \u001b[0m 0.2465  \u001b[0m | \u001b[0m 6.365   \u001b[0m | \u001b[0m 167.6   \u001b[0m |\n"
     ]
    },
    {
     "name": "stderr",
     "output_type": "stream",
     "text": [
      "/Users/wuchenhong/anaconda3/lib/python3.6/site-packages/lightgbm/engine.py:426: UserWarning: Found `num_iterations` in params. Will use it instead of argument\n",
      "  warnings.warn(\"Found `{}` in params. Will use it instead of argument\".format(alias))\n"
     ]
    },
    {
     "name": "stdout",
     "output_type": "stream",
     "text": [
      "| \u001b[0m 66      \u001b[0m | \u001b[0m 0.9721  \u001b[0m | \u001b[0m 0.978   \u001b[0m | \u001b[0m 0.9554  \u001b[0m | \u001b[0m 0.6609  \u001b[0m | \u001b[0m 0.01023 \u001b[0m | \u001b[0m 0.9065  \u001b[0m | \u001b[0m 7.57    \u001b[0m | \u001b[0m 498.7   \u001b[0m |\n"
     ]
    },
    {
     "name": "stderr",
     "output_type": "stream",
     "text": [
      "/Users/wuchenhong/anaconda3/lib/python3.6/site-packages/lightgbm/engine.py:426: UserWarning: Found `num_iterations` in params. Will use it instead of argument\n",
      "  warnings.warn(\"Found `{}` in params. Will use it instead of argument\".format(alias))\n"
     ]
    },
    {
     "name": "stdout",
     "output_type": "stream",
     "text": [
      "| \u001b[0m 67      \u001b[0m | \u001b[0m 0.9721  \u001b[0m | \u001b[0m 0.986   \u001b[0m | \u001b[0m 0.9124  \u001b[0m | \u001b[0m 0.05657 \u001b[0m | \u001b[0m 0.04568 \u001b[0m | \u001b[0m 0.9699  \u001b[0m | \u001b[0m 7.922   \u001b[0m | \u001b[0m 461.5   \u001b[0m |\n"
     ]
    },
    {
     "name": "stderr",
     "output_type": "stream",
     "text": [
      "/Users/wuchenhong/anaconda3/lib/python3.6/site-packages/lightgbm/engine.py:426: UserWarning: Found `num_iterations` in params. Will use it instead of argument\n",
      "  warnings.warn(\"Found `{}` in params. Will use it instead of argument\".format(alias))\n"
     ]
    },
    {
     "name": "stdout",
     "output_type": "stream",
     "text": [
      "| \u001b[0m 68      \u001b[0m | \u001b[0m 0.8827  \u001b[0m | \u001b[0m 0.9572  \u001b[0m | \u001b[0m 0.1452  \u001b[0m | \u001b[0m 0.9302  \u001b[0m | \u001b[0m 0.9948  \u001b[0m | \u001b[0m 0.114   \u001b[0m | \u001b[0m 1.525   \u001b[0m | \u001b[0m 450.5   \u001b[0m |\n"
     ]
    },
    {
     "name": "stderr",
     "output_type": "stream",
     "text": [
      "/Users/wuchenhong/anaconda3/lib/python3.6/site-packages/lightgbm/engine.py:426: UserWarning: Found `num_iterations` in params. Will use it instead of argument\n",
      "  warnings.warn(\"Found `{}` in params. Will use it instead of argument\".format(alias))\n"
     ]
    },
    {
     "name": "stdout",
     "output_type": "stream",
     "text": [
      "| \u001b[0m 69      \u001b[0m | \u001b[0m 0.9559  \u001b[0m | \u001b[0m 0.1     \u001b[0m | \u001b[0m 1.0     \u001b[0m | \u001b[0m 0.0     \u001b[0m | \u001b[0m 0.0     \u001b[0m | \u001b[0m 1.0     \u001b[0m | \u001b[0m 8.0     \u001b[0m | \u001b[0m 430.2   \u001b[0m |\n"
     ]
    },
    {
     "name": "stderr",
     "output_type": "stream",
     "text": [
      "/Users/wuchenhong/anaconda3/lib/python3.6/site-packages/lightgbm/engine.py:426: UserWarning: Found `num_iterations` in params. Will use it instead of argument\n",
      "  warnings.warn(\"Found `{}` in params. Will use it instead of argument\".format(alias))\n"
     ]
    },
    {
     "name": "stdout",
     "output_type": "stream",
     "text": [
      "| \u001b[0m 70      \u001b[0m | \u001b[0m 0.9732  \u001b[0m | \u001b[0m 0.1     \u001b[0m | \u001b[0m 1.0     \u001b[0m | \u001b[0m 0.0     \u001b[0m | \u001b[0m 0.0     \u001b[0m | \u001b[0m 0.1     \u001b[0m | \u001b[0m 4.429   \u001b[0m | \u001b[0m 472.5   \u001b[0m |\n"
     ]
    },
    {
     "name": "stderr",
     "output_type": "stream",
     "text": [
      "/Users/wuchenhong/anaconda3/lib/python3.6/site-packages/lightgbm/engine.py:426: UserWarning: Found `num_iterations` in params. Will use it instead of argument\n",
      "  warnings.warn(\"Found `{}` in params. Will use it instead of argument\".format(alias))\n"
     ]
    },
    {
     "name": "stdout",
     "output_type": "stream",
     "text": [
      "[200]\tcv_agg's auc: 0.969681 + 0.00113164\n",
      "| \u001b[0m 71      \u001b[0m | \u001b[0m 0.9715  \u001b[0m | \u001b[0m 0.8306  \u001b[0m | \u001b[0m 0.967   \u001b[0m | \u001b[0m 0.317   \u001b[0m | \u001b[0m 0.04263 \u001b[0m | \u001b[0m 0.6085  \u001b[0m | \u001b[0m 1.087   \u001b[0m | \u001b[0m 417.3   \u001b[0m |\n"
     ]
    },
    {
     "name": "stderr",
     "output_type": "stream",
     "text": [
      "/Users/wuchenhong/anaconda3/lib/python3.6/site-packages/lightgbm/engine.py:426: UserWarning: Found `num_iterations` in params. Will use it instead of argument\n",
      "  warnings.warn(\"Found `{}` in params. Will use it instead of argument\".format(alias))\n"
     ]
    },
    {
     "name": "stdout",
     "output_type": "stream",
     "text": [
      "[200]\tcv_agg's auc: 0.974411 + 0.000924949\n",
      "| \u001b[0m 72      \u001b[0m | \u001b[0m 0.9748  \u001b[0m | \u001b[0m 0.6058  \u001b[0m | \u001b[0m 0.9488  \u001b[0m | \u001b[0m 0.9278  \u001b[0m | \u001b[0m 0.01684 \u001b[0m | \u001b[0m 0.1436  \u001b[0m | \u001b[0m 2.52    \u001b[0m | \u001b[0m 466.2   \u001b[0m |\n"
     ]
    },
    {
     "name": "stderr",
     "output_type": "stream",
     "text": [
      "/Users/wuchenhong/anaconda3/lib/python3.6/site-packages/lightgbm/engine.py:426: UserWarning: Found `num_iterations` in params. Will use it instead of argument\n",
      "  warnings.warn(\"Found `{}` in params. Will use it instead of argument\".format(alias))\n"
     ]
    },
    {
     "name": "stdout",
     "output_type": "stream",
     "text": [
      "| \u001b[0m 73      \u001b[0m | \u001b[0m 0.9735  \u001b[0m | \u001b[0m 0.788   \u001b[0m | \u001b[0m 0.1343  \u001b[0m | \u001b[0m 0.1123  \u001b[0m | \u001b[0m 0.1366  \u001b[0m | \u001b[0m 0.6869  \u001b[0m | \u001b[0m 2.672   \u001b[0m | \u001b[0m 467.8   \u001b[0m |\n"
     ]
    },
    {
     "name": "stderr",
     "output_type": "stream",
     "text": [
      "/Users/wuchenhong/anaconda3/lib/python3.6/site-packages/lightgbm/engine.py:426: UserWarning: Found `num_iterations` in params. Will use it instead of argument\n",
      "  warnings.warn(\"Found `{}` in params. Will use it instead of argument\".format(alias))\n"
     ]
    },
    {
     "name": "stdout",
     "output_type": "stream",
     "text": [
      "[200]\tcv_agg's auc: 0.973166 + 0.000924575\n",
      "[400]\tcv_agg's auc: 0.974438 + 0.00101849\n",
      "| \u001b[0m 74      \u001b[0m | \u001b[0m 0.9745  \u001b[0m | \u001b[0m 0.9547  \u001b[0m | \u001b[0m 0.9858  \u001b[0m | \u001b[0m 0.09725 \u001b[0m | \u001b[0m 0.8863  \u001b[0m | \u001b[0m 0.1489  \u001b[0m | \u001b[0m 1.981   \u001b[0m | \u001b[0m 405.8   \u001b[0m |\n"
     ]
    },
    {
     "name": "stderr",
     "output_type": "stream",
     "text": [
      "/Users/wuchenhong/anaconda3/lib/python3.6/site-packages/lightgbm/engine.py:426: UserWarning: Found `num_iterations` in params. Will use it instead of argument\n",
      "  warnings.warn(\"Found `{}` in params. Will use it instead of argument\".format(alias))\n"
     ]
    },
    {
     "name": "stdout",
     "output_type": "stream",
     "text": [
      "| \u001b[0m 75      \u001b[0m | \u001b[0m 0.9728  \u001b[0m | \u001b[0m 0.1141  \u001b[0m | \u001b[0m 0.9284  \u001b[0m | \u001b[0m 0.7815  \u001b[0m | \u001b[0m 0.02381 \u001b[0m | \u001b[0m 0.2023  \u001b[0m | \u001b[0m 7.77    \u001b[0m | \u001b[0m 442.8   \u001b[0m |\n"
     ]
    },
    {
     "name": "stderr",
     "output_type": "stream",
     "text": [
      "/Users/wuchenhong/anaconda3/lib/python3.6/site-packages/lightgbm/engine.py:426: UserWarning: Found `num_iterations` in params. Will use it instead of argument\n",
      "  warnings.warn(\"Found `{}` in params. Will use it instead of argument\".format(alias))\n"
     ]
    },
    {
     "name": "stdout",
     "output_type": "stream",
     "text": [
      "| \u001b[0m 76      \u001b[0m | \u001b[0m 0.9752  \u001b[0m | \u001b[0m 0.958   \u001b[0m | \u001b[0m 0.3499  \u001b[0m | \u001b[0m 0.9802  \u001b[0m | \u001b[0m 0.9439  \u001b[0m | \u001b[0m 0.1095  \u001b[0m | \u001b[0m 7.356   \u001b[0m | \u001b[0m 493.8   \u001b[0m |\n"
     ]
    },
    {
     "name": "stderr",
     "output_type": "stream",
     "text": [
      "/Users/wuchenhong/anaconda3/lib/python3.6/site-packages/lightgbm/engine.py:426: UserWarning: Found `num_iterations` in params. Will use it instead of argument\n",
      "  warnings.warn(\"Found `{}` in params. Will use it instead of argument\".format(alias))\n"
     ]
    },
    {
     "name": "stdout",
     "output_type": "stream",
     "text": [
      "[200]\tcv_agg's auc: 0.963606 + 0.00140557\n",
      "| \u001b[0m 77      \u001b[0m | \u001b[0m 0.9679  \u001b[0m | \u001b[0m 0.1949  \u001b[0m | \u001b[0m 0.7629  \u001b[0m | \u001b[0m 0.9903  \u001b[0m | \u001b[0m 0.7975  \u001b[0m | \u001b[0m 0.2171  \u001b[0m | \u001b[0m 1.29    \u001b[0m | \u001b[0m 352.0   \u001b[0m |\n"
     ]
    },
    {
     "name": "stderr",
     "output_type": "stream",
     "text": [
      "/Users/wuchenhong/anaconda3/lib/python3.6/site-packages/lightgbm/engine.py:426: UserWarning: Found `num_iterations` in params. Will use it instead of argument\n",
      "  warnings.warn(\"Found `{}` in params. Will use it instead of argument\".format(alias))\n"
     ]
    },
    {
     "name": "stdout",
     "output_type": "stream",
     "text": [
      "| \u001b[0m 78      \u001b[0m | \u001b[0m 0.9745  \u001b[0m | \u001b[0m 0.2569  \u001b[0m | \u001b[0m 0.3098  \u001b[0m | \u001b[0m 0.881   \u001b[0m | \u001b[0m 0.6538  \u001b[0m | \u001b[0m 0.1146  \u001b[0m | \u001b[0m 7.736   \u001b[0m | \u001b[0m 327.7   \u001b[0m |\n"
     ]
    },
    {
     "name": "stderr",
     "output_type": "stream",
     "text": [
      "/Users/wuchenhong/anaconda3/lib/python3.6/site-packages/lightgbm/engine.py:426: UserWarning: Found `num_iterations` in params. Will use it instead of argument\n",
      "  warnings.warn(\"Found `{}` in params. Will use it instead of argument\".format(alias))\n"
     ]
    },
    {
     "name": "stdout",
     "output_type": "stream",
     "text": [
      "| \u001b[0m 79      \u001b[0m | \u001b[0m 0.9713  \u001b[0m | \u001b[0m 0.114   \u001b[0m | \u001b[0m 0.9399  \u001b[0m | \u001b[0m 0.9696  \u001b[0m | \u001b[0m 0.9752  \u001b[0m | \u001b[0m 0.9672  \u001b[0m | \u001b[0m 1.392   \u001b[0m | \u001b[0m 490.0   \u001b[0m |\n"
     ]
    },
    {
     "name": "stderr",
     "output_type": "stream",
     "text": [
      "/Users/wuchenhong/anaconda3/lib/python3.6/site-packages/lightgbm/engine.py:426: UserWarning: Found `num_iterations` in params. Will use it instead of argument\n",
      "  warnings.warn(\"Found `{}` in params. Will use it instead of argument\".format(alias))\n"
     ]
    },
    {
     "name": "stdout",
     "output_type": "stream",
     "text": [
      "| \u001b[0m 80      \u001b[0m | \u001b[0m 0.9746  \u001b[0m | \u001b[0m 0.9887  \u001b[0m | \u001b[0m 0.2636  \u001b[0m | \u001b[0m 0.9785  \u001b[0m | \u001b[0m 0.962   \u001b[0m | \u001b[0m 0.1281  \u001b[0m | \u001b[0m 4.027   \u001b[0m | \u001b[0m 184.8   \u001b[0m |\n"
     ]
    },
    {
     "name": "stderr",
     "output_type": "stream",
     "text": [
      "/Users/wuchenhong/anaconda3/lib/python3.6/site-packages/lightgbm/engine.py:426: UserWarning: Found `num_iterations` in params. Will use it instead of argument\n",
      "  warnings.warn(\"Found `{}` in params. Will use it instead of argument\".format(alias))\n"
     ]
    },
    {
     "name": "stdout",
     "output_type": "stream",
     "text": [
      "[200]\tcv_agg's auc: 0.972973 + 0.00117537\n",
      "| \u001b[0m 81      \u001b[0m | \u001b[0m 0.9734  \u001b[0m | \u001b[0m 0.1073  \u001b[0m | \u001b[0m 0.1942  \u001b[0m | \u001b[0m 0.121   \u001b[0m | \u001b[0m 0.9656  \u001b[0m | \u001b[0m 0.1024  \u001b[0m | \u001b[0m 3.002   \u001b[0m | \u001b[0m 283.2   \u001b[0m |\n"
     ]
    },
    {
     "name": "stderr",
     "output_type": "stream",
     "text": [
      "/Users/wuchenhong/anaconda3/lib/python3.6/site-packages/lightgbm/engine.py:426: UserWarning: Found `num_iterations` in params. Will use it instead of argument\n",
      "  warnings.warn(\"Found `{}` in params. Will use it instead of argument\".format(alias))\n"
     ]
    },
    {
     "name": "stdout",
     "output_type": "stream",
     "text": [
      "| \u001b[0m 82      \u001b[0m | \u001b[0m 0.9738  \u001b[0m | \u001b[0m 1.0     \u001b[0m | \u001b[0m 0.1     \u001b[0m | \u001b[0m 0.9382  \u001b[0m | \u001b[0m 1.0     \u001b[0m | \u001b[0m 1.0     \u001b[0m | \u001b[0m 8.0     \u001b[0m | \u001b[0m 490.9   \u001b[0m |\n"
     ]
    },
    {
     "name": "stderr",
     "output_type": "stream",
     "text": [
      "/Users/wuchenhong/anaconda3/lib/python3.6/site-packages/lightgbm/engine.py:426: UserWarning: Found `num_iterations` in params. Will use it instead of argument\n",
      "  warnings.warn(\"Found `{}` in params. Will use it instead of argument\".format(alias))\n"
     ]
    },
    {
     "name": "stdout",
     "output_type": "stream",
     "text": [
      "[200]\tcv_agg's auc: 0.973207 + 0.00121019\n",
      "| \u001b[0m 83      \u001b[0m | \u001b[0m 0.9735  \u001b[0m | \u001b[0m 0.1     \u001b[0m | \u001b[0m 1.0     \u001b[0m | \u001b[0m 0.0     \u001b[0m | \u001b[0m 0.0     \u001b[0m | \u001b[0m 0.1     \u001b[0m | \u001b[0m 3.276   \u001b[0m | \u001b[0m 465.9   \u001b[0m |\n"
     ]
    },
    {
     "name": "stderr",
     "output_type": "stream",
     "text": [
      "/Users/wuchenhong/anaconda3/lib/python3.6/site-packages/lightgbm/engine.py:426: UserWarning: Found `num_iterations` in params. Will use it instead of argument\n",
      "  warnings.warn(\"Found `{}` in params. Will use it instead of argument\".format(alias))\n"
     ]
    },
    {
     "name": "stdout",
     "output_type": "stream",
     "text": [
      "| \u001b[0m 84      \u001b[0m | \u001b[0m 0.9712  \u001b[0m | \u001b[0m 0.2981  \u001b[0m | \u001b[0m 0.1253  \u001b[0m | \u001b[0m 0.8405  \u001b[0m | \u001b[0m 0.9649  \u001b[0m | \u001b[0m 0.9096  \u001b[0m | \u001b[0m 6.81    \u001b[0m | \u001b[0m 499.7   \u001b[0m |\n"
     ]
    },
    {
     "name": "stderr",
     "output_type": "stream",
     "text": [
      "/Users/wuchenhong/anaconda3/lib/python3.6/site-packages/lightgbm/engine.py:426: UserWarning: Found `num_iterations` in params. Will use it instead of argument\n",
      "  warnings.warn(\"Found `{}` in params. Will use it instead of argument\".format(alias))\n"
     ]
    },
    {
     "name": "stdout",
     "output_type": "stream",
     "text": [
      "| \u001b[0m 85      \u001b[0m | \u001b[0m 0.9746  \u001b[0m | \u001b[0m 0.8657  \u001b[0m | \u001b[0m 0.9173  \u001b[0m | \u001b[0m 0.9092  \u001b[0m | \u001b[0m 0.2099  \u001b[0m | \u001b[0m 0.2599  \u001b[0m | \u001b[0m 6.559   \u001b[0m | \u001b[0m 405.4   \u001b[0m |\n"
     ]
    },
    {
     "name": "stderr",
     "output_type": "stream",
     "text": [
      "/Users/wuchenhong/anaconda3/lib/python3.6/site-packages/lightgbm/engine.py:426: UserWarning: Found `num_iterations` in params. Will use it instead of argument\n",
      "  warnings.warn(\"Found `{}` in params. Will use it instead of argument\".format(alias))\n"
     ]
    },
    {
     "name": "stdout",
     "output_type": "stream",
     "text": [
      "[200]\tcv_agg's auc: 0.971758 + 0.000896227\n",
      "| \u001b[0m 86      \u001b[0m | \u001b[0m 0.973   \u001b[0m | \u001b[0m 0.294   \u001b[0m | \u001b[0m 0.1015  \u001b[0m | \u001b[0m 0.8701  \u001b[0m | \u001b[0m 0.9678  \u001b[0m | \u001b[0m 0.1244  \u001b[0m | \u001b[0m 1.825   \u001b[0m | \u001b[0m 366.8   \u001b[0m |\n"
     ]
    },
    {
     "name": "stderr",
     "output_type": "stream",
     "text": [
      "/Users/wuchenhong/anaconda3/lib/python3.6/site-packages/lightgbm/engine.py:426: UserWarning: Found `num_iterations` in params. Will use it instead of argument\n",
      "  warnings.warn(\"Found `{}` in params. Will use it instead of argument\".format(alias))\n"
     ]
    },
    {
     "name": "stdout",
     "output_type": "stream",
     "text": [
      "| \u001b[0m 87      \u001b[0m | \u001b[0m 0.9715  \u001b[0m | \u001b[0m 0.2598  \u001b[0m | \u001b[0m 0.9557  \u001b[0m | \u001b[0m 0.9949  \u001b[0m | \u001b[0m 0.9889  \u001b[0m | \u001b[0m 0.5207  \u001b[0m | \u001b[0m 6.52    \u001b[0m | \u001b[0m 125.6   \u001b[0m |\n"
     ]
    },
    {
     "name": "stderr",
     "output_type": "stream",
     "text": [
      "/Users/wuchenhong/anaconda3/lib/python3.6/site-packages/lightgbm/engine.py:426: UserWarning: Found `num_iterations` in params. Will use it instead of argument\n",
      "  warnings.warn(\"Found `{}` in params. Will use it instead of argument\".format(alias))\n"
     ]
    },
    {
     "name": "stdout",
     "output_type": "stream",
     "text": [
      "| \u001b[0m 88      \u001b[0m | \u001b[0m 0.9751  \u001b[0m | \u001b[0m 0.9956  \u001b[0m | \u001b[0m 0.4247  \u001b[0m | \u001b[0m 0.4873  \u001b[0m | \u001b[0m 0.4393  \u001b[0m | \u001b[0m 0.129   \u001b[0m | \u001b[0m 7.755   \u001b[0m | \u001b[0m 204.8   \u001b[0m |\n"
     ]
    },
    {
     "name": "stderr",
     "output_type": "stream",
     "text": [
      "/Users/wuchenhong/anaconda3/lib/python3.6/site-packages/lightgbm/engine.py:426: UserWarning: Found `num_iterations` in params. Will use it instead of argument\n",
      "  warnings.warn(\"Found `{}` in params. Will use it instead of argument\".format(alias))\n"
     ]
    },
    {
     "name": "stdout",
     "output_type": "stream",
     "text": [
      "[200]\tcv_agg's auc: 0.94753 + 0.00147924\n",
      "| \u001b[0m 89      \u001b[0m | \u001b[0m 0.9494  \u001b[0m | \u001b[0m 0.8576  \u001b[0m | \u001b[0m 0.3652  \u001b[0m | \u001b[0m 0.1287  \u001b[0m | \u001b[0m 0.8496  \u001b[0m | \u001b[0m 0.1145  \u001b[0m | \u001b[0m 1.076   \u001b[0m | \u001b[0m 213.0   \u001b[0m |\n"
     ]
    },
    {
     "name": "stderr",
     "output_type": "stream",
     "text": [
      "/Users/wuchenhong/anaconda3/lib/python3.6/site-packages/lightgbm/engine.py:426: UserWarning: Found `num_iterations` in params. Will use it instead of argument\n",
      "  warnings.warn(\"Found `{}` in params. Will use it instead of argument\".format(alias))\n"
     ]
    },
    {
     "name": "stdout",
     "output_type": "stream",
     "text": [
      "| \u001b[0m 90      \u001b[0m | \u001b[0m 0.9738  \u001b[0m | \u001b[0m 0.1367  \u001b[0m | \u001b[0m 0.151   \u001b[0m | \u001b[0m 0.5961  \u001b[0m | \u001b[0m 0.6116  \u001b[0m | \u001b[0m 0.1722  \u001b[0m | \u001b[0m 7.963   \u001b[0m | \u001b[0m 196.3   \u001b[0m |\n"
     ]
    },
    {
     "name": "stderr",
     "output_type": "stream",
     "text": [
      "/Users/wuchenhong/anaconda3/lib/python3.6/site-packages/lightgbm/engine.py:426: UserWarning: Found `num_iterations` in params. Will use it instead of argument\n",
      "  warnings.warn(\"Found `{}` in params. Will use it instead of argument\".format(alias))\n"
     ]
    },
    {
     "name": "stdout",
     "output_type": "stream",
     "text": [
      "| \u001b[0m 91      \u001b[0m | \u001b[0m 0.9749  \u001b[0m | \u001b[0m 0.9871  \u001b[0m | \u001b[0m 0.6964  \u001b[0m | \u001b[0m 0.945   \u001b[0m | \u001b[0m 0.03849 \u001b[0m | \u001b[0m 0.1815  \u001b[0m | \u001b[0m 6.823   \u001b[0m | \u001b[0m 227.8   \u001b[0m |\n"
     ]
    },
    {
     "name": "stderr",
     "output_type": "stream",
     "text": [
      "/Users/wuchenhong/anaconda3/lib/python3.6/site-packages/lightgbm/engine.py:426: UserWarning: Found `num_iterations` in params. Will use it instead of argument\n",
      "  warnings.warn(\"Found `{}` in params. Will use it instead of argument\".format(alias))\n"
     ]
    },
    {
     "name": "stdout",
     "output_type": "stream",
     "text": [
      "| \u001b[95m 92      \u001b[0m | \u001b[95m 0.9753  \u001b[0m | \u001b[95m 0.9898  \u001b[0m | \u001b[95m 0.3058  \u001b[0m | \u001b[95m 0.9222  \u001b[0m | \u001b[95m 0.9762  \u001b[0m | \u001b[95m 0.1177  \u001b[0m | \u001b[95m 7.98    \u001b[0m | \u001b[95m 198.3   \u001b[0m |\n"
     ]
    },
    {
     "name": "stderr",
     "output_type": "stream",
     "text": [
      "/Users/wuchenhong/anaconda3/lib/python3.6/site-packages/lightgbm/engine.py:426: UserWarning: Found `num_iterations` in params. Will use it instead of argument\n",
      "  warnings.warn(\"Found `{}` in params. Will use it instead of argument\".format(alias))\n"
     ]
    },
    {
     "name": "stdout",
     "output_type": "stream",
     "text": [
      "[200]\tcv_agg's auc: 0.944924 + 0.00185739\n",
      "| \u001b[0m 93      \u001b[0m | \u001b[0m 0.9506  \u001b[0m | \u001b[0m 0.8328  \u001b[0m | \u001b[0m 0.9184  \u001b[0m | \u001b[0m 0.9991  \u001b[0m | \u001b[0m 0.95    \u001b[0m | \u001b[0m 0.1063  \u001b[0m | \u001b[0m 1.096   \u001b[0m | \u001b[0m 239.9   \u001b[0m |\n"
     ]
    },
    {
     "name": "stderr",
     "output_type": "stream",
     "text": [
      "/Users/wuchenhong/anaconda3/lib/python3.6/site-packages/lightgbm/engine.py:426: UserWarning: Found `num_iterations` in params. Will use it instead of argument\n",
      "  warnings.warn(\"Found `{}` in params. Will use it instead of argument\".format(alias))\n"
     ]
    },
    {
     "name": "stdout",
     "output_type": "stream",
     "text": [
      "| \u001b[0m 94      \u001b[0m | \u001b[0m 0.9738  \u001b[0m | \u001b[0m 0.956   \u001b[0m | \u001b[0m 0.1154  \u001b[0m | \u001b[0m 0.2205  \u001b[0m | \u001b[0m 0.06174 \u001b[0m | \u001b[0m 0.7983  \u001b[0m | \u001b[0m 5.839   \u001b[0m | \u001b[0m 228.8   \u001b[0m |\n"
     ]
    },
    {
     "name": "stderr",
     "output_type": "stream",
     "text": [
      "/Users/wuchenhong/anaconda3/lib/python3.6/site-packages/lightgbm/engine.py:426: UserWarning: Found `num_iterations` in params. Will use it instead of argument\n",
      "  warnings.warn(\"Found `{}` in params. Will use it instead of argument\".format(alias))\n"
     ]
    },
    {
     "name": "stdout",
     "output_type": "stream",
     "text": [
      "| \u001b[0m 95      \u001b[0m | \u001b[0m 0.9748  \u001b[0m | \u001b[0m 0.9808  \u001b[0m | \u001b[0m 0.3333  \u001b[0m | \u001b[0m 0.9217  \u001b[0m | \u001b[0m 0.003243\u001b[0m | \u001b[0m 0.335   \u001b[0m | \u001b[0m 7.943   \u001b[0m | \u001b[0m 309.4   \u001b[0m |\n"
     ]
    },
    {
     "name": "stderr",
     "output_type": "stream",
     "text": [
      "/Users/wuchenhong/anaconda3/lib/python3.6/site-packages/lightgbm/engine.py:426: UserWarning: Found `num_iterations` in params. Will use it instead of argument\n",
      "  warnings.warn(\"Found `{}` in params. Will use it instead of argument\".format(alias))\n"
     ]
    },
    {
     "name": "stdout",
     "output_type": "stream",
     "text": [
      "| \u001b[0m 96      \u001b[0m | \u001b[0m 0.9726  \u001b[0m | \u001b[0m 0.1671  \u001b[0m | \u001b[0m 0.7469  \u001b[0m | \u001b[0m 0.02011 \u001b[0m | \u001b[0m 0.995   \u001b[0m | \u001b[0m 0.3196  \u001b[0m | \u001b[0m 6.733   \u001b[0m | \u001b[0m 230.6   \u001b[0m |\n"
     ]
    },
    {
     "name": "stderr",
     "output_type": "stream",
     "text": [
      "/Users/wuchenhong/anaconda3/lib/python3.6/site-packages/lightgbm/engine.py:426: UserWarning: Found `num_iterations` in params. Will use it instead of argument\n",
      "  warnings.warn(\"Found `{}` in params. Will use it instead of argument\".format(alias))\n"
     ]
    },
    {
     "name": "stdout",
     "output_type": "stream",
     "text": [
      "| \u001b[0m 97      \u001b[0m | \u001b[0m 0.9746  \u001b[0m | \u001b[0m 0.2684  \u001b[0m | \u001b[0m 0.1158  \u001b[0m | \u001b[0m 0.9034  \u001b[0m | \u001b[0m 0.09605 \u001b[0m | \u001b[0m 0.1567  \u001b[0m | \u001b[0m 7.774   \u001b[0m | \u001b[0m 152.8   \u001b[0m |\n"
     ]
    },
    {
     "name": "stderr",
     "output_type": "stream",
     "text": [
      "/Users/wuchenhong/anaconda3/lib/python3.6/site-packages/lightgbm/engine.py:426: UserWarning: Found `num_iterations` in params. Will use it instead of argument\n",
      "  warnings.warn(\"Found `{}` in params. Will use it instead of argument\".format(alias))\n"
     ]
    },
    {
     "name": "stdout",
     "output_type": "stream",
     "text": [
      "| \u001b[0m 98      \u001b[0m | \u001b[0m 0.9752  \u001b[0m | \u001b[0m 0.9918  \u001b[0m | \u001b[0m 0.3085  \u001b[0m | \u001b[0m 0.9125  \u001b[0m | \u001b[0m 0.04186 \u001b[0m | \u001b[0m 0.1069  \u001b[0m | \u001b[0m 7.644   \u001b[0m | \u001b[0m 385.4   \u001b[0m |\n"
     ]
    },
    {
     "name": "stderr",
     "output_type": "stream",
     "text": [
      "/Users/wuchenhong/anaconda3/lib/python3.6/site-packages/lightgbm/engine.py:426: UserWarning: Found `num_iterations` in params. Will use it instead of argument\n",
      "  warnings.warn(\"Found `{}` in params. Will use it instead of argument\".format(alias))\n"
     ]
    },
    {
     "name": "stdout",
     "output_type": "stream",
     "text": [
      "| \u001b[0m 99      \u001b[0m | \u001b[0m 0.9739  \u001b[0m | \u001b[0m 0.1     \u001b[0m | \u001b[0m 0.1     \u001b[0m | \u001b[0m 0.0     \u001b[0m | \u001b[0m 0.0     \u001b[0m | \u001b[0m 0.1     \u001b[0m | \u001b[0m 4.709   \u001b[0m | \u001b[0m 400.5   \u001b[0m |\n"
     ]
    },
    {
     "name": "stderr",
     "output_type": "stream",
     "text": [
      "/Users/wuchenhong/anaconda3/lib/python3.6/site-packages/lightgbm/engine.py:426: UserWarning: Found `num_iterations` in params. Will use it instead of argument\n",
      "  warnings.warn(\"Found `{}` in params. Will use it instead of argument\".format(alias))\n"
     ]
    },
    {
     "name": "stdout",
     "output_type": "stream",
     "text": [
      "| \u001b[0m 100     \u001b[0m | \u001b[0m 0.9729  \u001b[0m | \u001b[0m 0.8829  \u001b[0m | \u001b[0m 0.1073  \u001b[0m | \u001b[0m 0.05346 \u001b[0m | \u001b[0m 0.8142  \u001b[0m | \u001b[0m 0.9542  \u001b[0m | \u001b[0m 7.746   \u001b[0m | \u001b[0m 101.8   \u001b[0m |\n",
      "=============================================================================================================\n"
     ]
    }
   ],
   "source": [
    "# In total, performed 100 times of optimization.\n",
    "opt_params = bayes_parameter_opt_lgb(X=x_train, y=y_train, \n",
    "                                     file_path='Bank_Marketing_LightGBM.csv',\n",
    "                                     init_round=10, opt_round=90, n_folds=5, \n",
    "                                     random_seed=0, output_process=True)"
   ]
  },
  {
   "cell_type": "code",
   "execution_count": null,
   "metadata": {},
   "outputs": [],
   "source": []
  }
 ],
 "metadata": {
  "kernelspec": {
   "display_name": "Python 3",
   "language": "python",
   "name": "python3"
  },
  "language_info": {
   "codemirror_mode": {
    "name": "ipython",
    "version": 3
   },
   "file_extension": ".py",
   "mimetype": "text/x-python",
   "name": "python",
   "nbconvert_exporter": "python",
   "pygments_lexer": "ipython3",
   "version": "3.6.7"
  }
 },
 "nbformat": 4,
 "nbformat_minor": 2
}
